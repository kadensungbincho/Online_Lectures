{
 "cells": [
  {
   "cell_type": "markdown",
   "metadata": {},
   "source": [
    "# Data Types"
   ]
  },
  {
   "cell_type": "markdown",
   "metadata": {},
   "source": [
    "- Numerical\n",
    "    - Represents some sort of quantitative measurement\n",
    "    - Discrete Data\n",
    "    - Continuous Data\n",
    "    \n",
    "- Categorical\n",
    "    - Qualitative data that has no inherent mathematical meaning\n",
    "    \n",
    "- Ordinal \n",
    "    - A mixture of numerical and categorical \n",
    "    - Categorical data that has mathematical meaning\n",
    "\n",
    "- "
   ]
  }
 ],
 "metadata": {
  "kernelspec": {
   "display_name": "Python 3",
   "language": "python",
   "name": "python3"
  },
  "language_info": {
   "codemirror_mode": {
    "name": "ipython",
    "version": 3
   },
   "file_extension": ".py",
   "mimetype": "text/x-python",
   "name": "python",
   "nbconvert_exporter": "python",
   "pygments_lexer": "ipython3",
   "version": "3.7.1"
  }
 },
 "nbformat": 4,
 "nbformat_minor": 2
}
