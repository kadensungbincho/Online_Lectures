{
 "cells": [
  {
   "cell_type": "markdown",
   "metadata": {},
   "source": [
    "# Linked List"
   ]
  },
  {
   "cell_type": "markdown",
   "metadata": {},
   "source": [
    "- singly, doubly, pros & cons"
   ]
  },
  {
   "cell_type": "markdown",
   "metadata": {},
   "source": [
    "- Singly \n",
    "  - data : \n",
    "  - address : information of the location of the next node\n",
    "    - first node : no data part  \n",
    "    - between node : both filled\n",
    "    - last node : address is null\n",
    "    \n",
    "- pros\n",
    "    - easy insert deletion\n",
    "    - stack queue are easily implemented\n",
    "\n",
    "- cons\n",
    "    - Random access is impossible\n",
    "    - memory not efficient "
   ]
  },
  {
   "cell_type": "markdown",
   "metadata": {},
   "source": [
    "- Doubly\n",
    "    - Address : prev \n",
    "    - Data : data\n",
    "    - Address : next "
   ]
  }
 ],
 "metadata": {
  "kernelspec": {
   "display_name": "Python 3",
   "language": "python",
   "name": "python3"
  },
  "language_info": {
   "codemirror_mode": {
    "name": "ipython",
    "version": 3
   },
   "file_extension": ".py",
   "mimetype": "text/x-python",
   "name": "python",
   "nbconvert_exporter": "python",
   "pygments_lexer": "ipython3",
   "version": "3.7.1"
  }
 },
 "nbformat": 4,
 "nbformat_minor": 2
}
