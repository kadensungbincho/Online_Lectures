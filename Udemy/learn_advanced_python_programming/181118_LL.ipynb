{
 "cells": [
  {
   "cell_type": "markdown",
   "metadata": {},
   "source": [
    "# Linked List"
   ]
  },
  {
   "cell_type": "markdown",
   "metadata": {},
   "source": [
    "- singly, doubly, pros & cons"
   ]
  },
  {
   "cell_type": "markdown",
   "metadata": {},
   "source": [
    "- Singly \n",
    "  - data : \n",
    "  - address : information of the location of the next node\n",
    "    - first node : no data part  \n",
    "    - between node : both filled\n",
    "    - last node : address is null\n",
    "    \n",
    "- pros\n",
    "    - easy insert deletion\n",
    "    - stack queue are easily implemented\n",
    "\n",
    "- cons\n",
    "    - Random access is impossible\n",
    "    - memory not efficient "
   ]
  },
  {
   "cell_type": "markdown",
   "metadata": {},
   "source": [
    "- Doubly\n",
    "    - Address : prev \n",
    "    - Data : data\n",
    "    - Address : next "
   ]
  },
  {
   "cell_type": "code",
   "execution_count": 58,
   "metadata": {},
   "outputs": [],
   "source": [
    "class Node:\n",
    "    def __init__(self, data = None):\n",
    "        self.data = data\n",
    "        self.next = None\n",
    "\n",
    "class LinkedList:\n",
    "    def __init__(self):\n",
    "        self.head = None\n",
    "        \n",
    "    def printing(self):\n",
    "        print_value = self.head\n",
    "        while print_value is not None:\n",
    "            print(print_value.data)\n",
    "            print_value = print_value.next\n",
    "            \n",
    "    def beg(self, data):\n",
    "        new = Node(data)\n",
    "        new.next = self.head\n",
    "        self.head = new\n",
    "        \n",
    "    def end(self, data):\n",
    "        newest = Node(data)\n",
    "        if self.head is None:\n",
    "            self.head = newest\n",
    "            return\n",
    "        last_node = self.head\n",
    "        while(last_node.next):\n",
    "            last_node = last_node.next\n",
    "            \n",
    "        last_node.next = newest\n",
    "        \n",
    "    def between(self, node, data):\n",
    "        new_of_all = Node(data)\n",
    "        new_of_all.next = node.next\n",
    "        node.next = new_of_all\n",
    "        \n",
    "    def delete(self, data):\n",
    "        cursor = self.head\n",
    "        if cursor is not None:\n",
    "            if cursor.data == data:\n",
    "                self.head = cursor.next\n",
    "                return\n",
    "            while cursor.next is not None:\n",
    "                if cursor.next.data == data:\n",
    "                    if cursor.next.next is not None:\n",
    "                        cursor.next = cursor.next.next\n",
    "                        return\n",
    "                    cursor.next = None\n",
    "                cursor = cursor.next\n",
    "            \n",
    "        \n",
    "x = LinkedList()\n",
    "x.head = Node(\"Kaden\")\n",
    "data2 = Node(\"Jiae\")\n",
    "data3 = Node(\"Lauren\")\n",
    "\n",
    "x.head.next = data2\n",
    "data2.next = data3"
   ]
  },
  {
   "cell_type": "code",
   "execution_count": 59,
   "metadata": {},
   "outputs": [
    {
     "data": {
      "text/plain": [
       "'Jiae'"
      ]
     },
     "execution_count": 59,
     "metadata": {},
     "output_type": "execute_result"
    }
   ],
   "source": [
    "x.head.next.data"
   ]
  },
  {
   "cell_type": "code",
   "execution_count": 60,
   "metadata": {},
   "outputs": [
    {
     "name": "stdout",
     "output_type": "stream",
     "text": [
      "Kaden\n",
      "Jiae\n",
      "Lauren\n"
     ]
    }
   ],
   "source": [
    "x.printing()"
   ]
  },
  {
   "cell_type": "code",
   "execution_count": 61,
   "metadata": {},
   "outputs": [
    {
     "name": "stdout",
     "output_type": "stream",
     "text": [
      "be the first\n",
      "Kaden\n",
      "Jiae\n",
      "Lauren\n"
     ]
    }
   ],
   "source": [
    "x.beg(\"be the first\")\n",
    "x.printing()"
   ]
  },
  {
   "cell_type": "code",
   "execution_count": 62,
   "metadata": {},
   "outputs": [
    {
     "name": "stdout",
     "output_type": "stream",
     "text": [
      "be the first\n",
      "Kaden\n",
      "Jiae\n",
      "Lauren\n",
      "be the end\n"
     ]
    }
   ],
   "source": [
    "x.end(\"be the end\")\n",
    "x.printing()"
   ]
  },
  {
   "cell_type": "code",
   "execution_count": 63,
   "metadata": {},
   "outputs": [
    {
     "data": {
      "text/plain": [
       "'Jiae'"
      ]
     },
     "execution_count": 63,
     "metadata": {},
     "output_type": "execute_result"
    }
   ],
   "source": [
    "x.head.next.next.data"
   ]
  },
  {
   "cell_type": "code",
   "execution_count": 64,
   "metadata": {},
   "outputs": [
    {
     "name": "stdout",
     "output_type": "stream",
     "text": [
      "be the first\n",
      "Kaden\n",
      "Jiae\n",
      "between\n",
      "Lauren\n",
      "be the end\n"
     ]
    }
   ],
   "source": [
    "x.between(x.head.next.next, \"between\")\n",
    "x.printing()"
   ]
  },
  {
   "cell_type": "code",
   "execution_count": 65,
   "metadata": {},
   "outputs": [
    {
     "data": {
      "text/plain": [
       "'between'"
      ]
     },
     "execution_count": 65,
     "metadata": {},
     "output_type": "execute_result"
    }
   ],
   "source": [
    "x.head.next.next.next.data"
   ]
  },
  {
   "cell_type": "code",
   "execution_count": 67,
   "metadata": {},
   "outputs": [
    {
     "name": "stdout",
     "output_type": "stream",
     "text": [
      "be the first\n",
      "Kaden\n",
      "Jiae\n",
      "Lauren\n",
      "be the end\n"
     ]
    }
   ],
   "source": [
    "x.delete('between')\n",
    "x.printing()"
   ]
  },
  {
   "cell_type": "markdown",
   "metadata": {},
   "source": [
    "# Creation of Doubly linked list"
   ]
  },
  {
   "cell_type": "code",
   "execution_count": 83,
   "metadata": {},
   "outputs": [],
   "source": [
    "class Node:\n",
    "    def __init__(self, data):\n",
    "        self.data = data\n",
    "        self.next = None\n",
    "        self.prev = None\n",
    "        \n",
    "    \n",
    "class LinkedList:\n",
    "    def __init__(self):\n",
    "        self.head = None\n",
    "        \n",
    "    def add(self, data):\n",
    "        new = Node(data)\n",
    "        new.next = self.head\n",
    "        if self.head is not None:\n",
    "            self.head.prev = new\n",
    "        self.head = new\n",
    "        \n",
    "    def insert(self, node, data):\n",
    "        new = Node(data)\n",
    "        new.next = node.next\n",
    "        node.next = new\n",
    "        new.prev = node\n",
    "        if new.next is not None:\n",
    "            new.next.prev = new\n",
    "            \n",
    "    def append(self, data):\n",
    "        new = Node(data)\n",
    "        new.next = None\n",
    "        cursor = self.head\n",
    "        if cursor is None:\n",
    "            self.head = new\n",
    "            return \n",
    "        \n",
    "        while cursor.next is not None:\n",
    "            cursor = cursor.next\n",
    "        \n",
    "        cursor.next = new\n",
    "        new.prev = cursor\n",
    "        \n",
    "    def remove(self, node):\n",
    "        if node.prev is not None:\n",
    "            node.prev.next = node.next\n",
    "        if node.next is not None:\n",
    "            node.next.prev = node.prev\n",
    "        \n",
    "    def printing(self, node):\n",
    "        while node is not None:\n",
    "            print(node.data)\n",
    "            node = node.next"
   ]
  },
  {
   "cell_type": "code",
   "execution_count": 78,
   "metadata": {},
   "outputs": [
    {
     "name": "stdout",
     "output_type": "stream",
     "text": [
      "kaden2\n",
      "insert\n",
      "kaden\n",
      "last\n"
     ]
    }
   ],
   "source": [
    "x = LinkedList()\n",
    "x.add(\"kaden\")\n",
    "x.add(\"kaden2\")\n",
    "x.insert(x.head, \"insert\")\n",
    "x.append(\"last\")\n",
    "x.printing(x.head)"
   ]
  },
  {
   "cell_type": "code",
   "execution_count": 82,
   "metadata": {},
   "outputs": [
    {
     "name": "stdout",
     "output_type": "stream",
     "text": [
      "last\n"
     ]
    }
   ],
   "source": [
    "x = LinkedList()\n",
    "x.append(\"last\")\n",
    "x.printing(x.head)"
   ]
  },
  {
   "cell_type": "code",
   "execution_count": null,
   "metadata": {},
   "outputs": [],
   "source": []
  }
 ],
 "metadata": {
  "kernelspec": {
   "display_name": "Python 3",
   "language": "python",
   "name": "python3"
  },
  "language_info": {
   "codemirror_mode": {
    "name": "ipython",
    "version": 3
   },
   "file_extension": ".py",
   "mimetype": "text/x-python",
   "name": "python",
   "nbconvert_exporter": "python",
   "pygments_lexer": "ipython3",
   "version": "3.7.1"
  }
 },
 "nbformat": 4,
 "nbformat_minor": 2
}
