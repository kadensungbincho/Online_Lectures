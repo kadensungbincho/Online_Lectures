{
 "cells": [
  {
   "cell_type": "markdown",
   "metadata": {},
   "source": [
    "# Running bind mount code"
   ]
  },
  {
   "cell_type": "markdown",
   "metadata": {},
   "source": [
    "```bash\n",
    "docker run -p 80:4000 -v $(pwd):/site bretfisher/jekyll-serve\n",
    "```"
   ]
  },
  {
   "cell_type": "markdown",
   "metadata": {},
   "source": [
    "# Docker compose"
   ]
  },
  {
   "cell_type": "markdown",
   "metadata": {},
   "source": [
    "- Why : Configure relationships between containers"
   ]
  },
  {
   "cell_type": "markdown",
   "metadata": {},
   "source": [
    "- YAML : formatted file that describes our solution options for\n",
    "- CLI : docker-compose"
   ]
  },
  {
   "cell_type": "markdown",
   "metadata": {},
   "source": [
    "- docker-compose.yml\n",
    "  - \n",
    "\n",
    "- with docker directly in production with Swarm"
   ]
  },
  {
   "cell_type": "markdown",
   "metadata": {},
   "source": [
    "# docker-compose CLI"
   ]
  },
  {
   "cell_type": "markdown",
   "metadata": {},
   "source": [
    "- not a production-grade tool but ideal for local development and test\n",
    "- two most common commands are \n",
    "  - docker-compose up\n",
    "  - docker-compose down"
   ]
  },
  {
   "cell_type": "markdown",
   "metadata": {},
   "source": [
    "```bash\n",
    "\n",
    "docker-compose up\n",
    "\n",
    "docker-compose down\n",
    "\n",
    " ```"
   ]
  },
  {
   "cell_type": "markdown",
   "metadata": {},
   "source": [
    "# docker-compose for drupal"
   ]
  },
  {
   "cell_type": "markdown",
   "metadata": {},
   "source": [
    "In docker-compose.yml"
   ]
  },
  {
   "cell_type": "markdown",
   "metadata": {},
   "source": [
    "```yml\n",
    "version: '2'\n",
    "\n",
    "services:\n",
    "  drupal:\n",
    "    image: drupal\n",
    "    ports:\n",
    "      - 8080:80\n",
    "    volumes:\n",
    "      - drupal-modules:/var/www/html/modules\n",
    "      - drupal-profiles:/var/www/html/profiles\n",
    "      - drupal-sites:/var/www/html/sites\n",
    "      - drupal-themes:/var/www/html/themes\n",
    "    \n",
    "  postgres:\n",
    "    image: postgres\n",
    "    environment:\n",
    "      - POSTGRES_PASSWORD=mypass\n",
    "  \n",
    "  volumes:\n",
    "    drupal-modules:\n",
    "    drupal-profiles:\n",
    "    drupal-sites:\n",
    "    drupal-themes:\n",
    "      \n",
    "``` "
   ]
  },
  {
   "cell_type": "markdown",
   "metadata": {},
   "source": [
    "# Using compose to build"
   ]
  },
  {
   "cell_type": "markdown",
   "metadata": {},
   "source": [
    "# Assignment "
   ]
  },
  {
   "cell_type": "markdown",
   "metadata": {},
   "source": [
    "```yml\n",
    "\n",
    "# create your drupal and postgres config here, based off the last assignment\n",
    "version: '2'\n",
    "\n",
    "services:\n",
    "  custom-drupal:\n",
    "    build: \n",
    "      context: .\n",
    "      dockerfile: Dockerfile\n",
    "    ports:\n",
    "      - 8080:80\n",
    "    volumes:\n",
    "      - drupal-modules:/var/www/html/modules\n",
    "      - drupal-profiles:/var/www/html/profiles\n",
    "      - drupal-sites:/var/www/html/sites\n",
    "      - drupal-themes:/var/www/html/themes\n",
    "    \n",
    "  postgres:\n",
    "    image: postgres:9.6\n",
    "    environment:\n",
    "      - POSTGRES_PASSWORD=mypass\n",
    "    volumes:\n",
    "      - drupal-data:/var/lib/postgresql/data\n",
    "  \n",
    "volumes:\n",
    "  drupal-modules:\n",
    "  drupal-profiles:\n",
    "  drupal-sites:\n",
    "  drupal-themes:\n",
    "  drupal-data:\n",
    "\n",
    "\n",
    "```"
   ]
  },
  {
   "cell_type": "markdown",
   "metadata": {},
   "source": [
    "```dockerfile\n",
    "# create your custom drupal image here, based of official drupal\n",
    "FROM drupal:8.2\n",
    "\n",
    "RUN apt-get update \\ \n",
    "    && apt-get install -y git\n",
    "\n",
    "RUN rm -rf /var/lib/apt/lists/*\n",
    "\n",
    "WORKDIR /var/www/html/themes\n",
    "\n",
    "RUN git clone --branch 8.x-3.x --single-branch --depth 1 https://git.drupal.org/project/bootstrap.git \\\n",
    "    && chown -R www-data:www-data bootstrap\n",
    "\n",
    "WORKDIR /var/www/html\n",
    "\n",
    "``` "
   ]
  },
  {
   "cell_type": "markdown",
   "metadata": {},
   "source": [
    "# Swarm Module"
   ]
  },
  {
   "cell_type": "code",
   "execution_count": null,
   "metadata": {},
   "outputs": [],
   "source": []
  }
 ],
 "metadata": {
  "kernelspec": {
   "display_name": "Python 3",
   "language": "python",
   "name": "python3"
  },
  "language_info": {
   "codemirror_mode": {
    "name": "ipython",
    "version": 3
   },
   "file_extension": ".py",
   "mimetype": "text/x-python",
   "name": "python",
   "nbconvert_exporter": "python",
   "pygments_lexer": "ipython3",
   "version": "3.6.4"
  }
 },
 "nbformat": 4,
 "nbformat_minor": 2
}
