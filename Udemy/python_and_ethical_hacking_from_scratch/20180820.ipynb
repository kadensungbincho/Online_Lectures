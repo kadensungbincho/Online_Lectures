{
 "cells": [
  {
   "cell_type": "markdown",
   "metadata": {},
   "source": [
    "- Intercepting & editing data flows\n",
    "  - packet sniffer\n",
    "  - DNS spoofer\n",
    "  - Code injector\n",
    "  - File interceptor"
   ]
  },
  {
   "cell_type": "markdown",
   "metadata": {},
   "source": [
    "- backdoor\n",
    "  - socket\n",
    "  \n",
    "- reverse backdoor\n",
    "  - access file system\n",
    "  - execute system commands\n",
    "  - download files\n",
    "  - upload files\n",
    "  - persistence"
   ]
  },
  {
   "cell_type": "markdown",
   "metadata": {},
   "source": [
    "- website hacking\n",
    "  - information gathering\n",
    "  \n",
    "- wrtie a crawler that can discover\n",
    "  - files\n",
    "  - directories\n",
    "  - subdomains"
   ]
  },
  {
   "cell_type": "markdown",
   "metadata": {},
   "source": [
    "- vulnerability scanner"
   ]
  },
  {
   "cell_type": "markdown",
   "metadata": {},
   "source": [
    "# Teaser"
   ]
  },
  {
   "cell_type": "markdown",
   "metadata": {},
   "source": [
    "# Lab"
   ]
  },
  {
   "cell_type": "markdown",
   "metadata": {},
   "source": [
    "- Kali linux\n",
    "- "
   ]
  },
  {
   "cell_type": "markdown",
   "metadata": {},
   "source": [
    "# Install kali"
   ]
  },
  {
   "cell_type": "code",
   "execution_count": null,
   "metadata": {},
   "outputs": [],
   "source": []
  }
 ],
 "metadata": {
  "kernelspec": {
   "display_name": "Python 3",
   "language": "python",
   "name": "python3"
  },
  "language_info": {
   "codemirror_mode": {
    "name": "ipython",
    "version": 3
   },
   "file_extension": ".py",
   "mimetype": "text/x-python",
   "name": "python",
   "nbconvert_exporter": "python",
   "pygments_lexer": "ipython3",
   "version": "3.6.4"
  }
 },
 "nbformat": 4,
 "nbformat_minor": 2
}
