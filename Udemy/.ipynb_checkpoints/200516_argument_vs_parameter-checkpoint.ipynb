{
 "cells": [
  {
   "cell_type": "markdown",
   "metadata": {},
   "source": [
    "```python\n",
    "def my_func(a, b):\n",
    "    # code here\n",
    "``` \n",
    "\n",
    "In thie context, a and b are called parameters of my_func. Also note that a and b are variables, local to my_func.\n",
    "\n",
    "```python\n",
    "x = 10\n",
    "y = 'a'\n",
    "def my_func(x, y):\n",
    "    # code here\n",
    "``` \n",
    "\n",
    "x and y are called the arguments of my_func. Also note that x and y are passed by reference."
   ]
  },
  {
   "cell_type": "code",
   "execution_count": null,
   "metadata": {},
   "outputs": [],
   "source": []
  }
 ],
 "metadata": {
  "kernelspec": {
   "display_name": "Python 3",
   "language": "python",
   "name": "python3"
  },
  "language_info": {
   "codemirror_mode": {
    "name": "ipython",
    "version": 3
   },
   "file_extension": ".py",
   "mimetype": "text/x-python",
   "name": "python",
   "nbconvert_exporter": "python",
   "pygments_lexer": "ipython3",
   "version": "3.7.2"
  }
 },
 "nbformat": 4,
 "nbformat_minor": 2
}
