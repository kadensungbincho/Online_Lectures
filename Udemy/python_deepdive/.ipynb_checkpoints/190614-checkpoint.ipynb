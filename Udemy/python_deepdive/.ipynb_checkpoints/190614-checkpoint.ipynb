{
 "cells": [
  {
   "cell_type": "markdown",
   "metadata": {},
   "source": [
    "# yield from"
   ]
  },
  {
   "cell_type": "markdown",
   "metadata": {},
   "source": [
    "# Iteration Tools"
   ]
  },
  {
   "cell_type": "markdown",
   "metadata": {},
   "source": [
    "- itertools module\n",
    "    - slicing\n",
    "    - islice\n",
    "    - selecting and filtering\n",
    "        - dropwhile\n",
    "        - takewhile\n",
    "        - compress\n",
    "        - filterfalse\n",
    "    - chaining and teeing\n",
    "    - mapping and reducing\n",
    "        - starmap\n",
    "        - accumulate\n",
    "    - infinite iterators\n",
    "        - count\n",
    "        - cycle\n",
    "        - repeat\n",
    "    - zipping\n",
    "        - zip_longest\n",
    "    - combinatorics\n",
    "        - product\n",
    "        - permutations\n",
    "        - combinations\n",
    "        - combinations_with_replacement"
   ]
  },
  {
   "cell_type": "markdown",
   "metadata": {},
   "source": [
    "- Aggregators\n",
    "Functions that iterate through an iterable and return a single value"
   ]
  },
  {
   "cell_type": "markdown",
   "metadata": {},
   "source": [
    "- A function that takes a single argument and returns True or False is callad a predicate"
   ]
  },
  {
   "cell_type": "code",
   "execution_count": null,
   "metadata": {},
   "outputs": [],
   "source": [
    "l = [1, 2, 3, 4, 100]"
   ]
  },
  {
   "cell_type": "code",
   "execution_count": null,
   "metadata": {},
   "outputs": [],
   "source": [
    "any(l)"
   ]
  },
  {
   "cell_type": "code",
   "execution_count": null,
   "metadata": {},
   "outputs": [],
   "source": [
    "predicate = lambda x: x < 10"
   ]
  },
  {
   "cell_type": "code",
   "execution_count": null,
   "metadata": {},
   "outputs": [],
   "source": [
    "all(map(predicate, l))"
   ]
  },
  {
   "cell_type": "code",
   "execution_count": null,
   "metadata": {},
   "outputs": [],
   "source": [
    "bool([None])"
   ]
  },
  {
   "cell_type": "code",
   "execution_count": null,
   "metadata": {},
   "outputs": [],
   "source": [
    "class Person:\n",
    "    pass"
   ]
  },
  {
   "cell_type": "code",
   "execution_count": null,
   "metadata": {},
   "outputs": [],
   "source": [
    "p = Person()"
   ]
  },
  {
   "cell_type": "code",
   "execution_count": null,
   "metadata": {},
   "outputs": [],
   "source": [
    "bool(p)"
   ]
  },
  {
   "cell_type": "code",
   "execution_count": null,
   "metadata": {},
   "outputs": [],
   "source": [
    "class Person:\n",
    "    def __bool__(self):\n",
    "        return False"
   ]
  },
  {
   "cell_type": "code",
   "execution_count": null,
   "metadata": {},
   "outputs": [],
   "source": [
    "p = Person()"
   ]
  },
  {
   "cell_type": "code",
   "execution_count": null,
   "metadata": {},
   "outputs": [],
   "source": [
    "bool(p)"
   ]
  },
  {
   "cell_type": "code",
   "execution_count": null,
   "metadata": {},
   "outputs": [],
   "source": [
    "class Person:\n",
    "    def __len__(self):\n",
    "        return 0"
   ]
  },
  {
   "cell_type": "code",
   "execution_count": null,
   "metadata": {},
   "outputs": [],
   "source": [
    "p = Person()\n",
    "bool(p)"
   ]
  },
  {
   "cell_type": "code",
   "execution_count": null,
   "metadata": {},
   "outputs": [],
   "source": [
    "class Person:\n",
    "    def __bool__(self):\n",
    "        return True\n",
    "    \n",
    "    def __len__(self):\n",
    "        return 0"
   ]
  },
  {
   "cell_type": "code",
   "execution_count": null,
   "metadata": {},
   "outputs": [],
   "source": [
    "p = Person()\n",
    "bool(p)"
   ]
  },
  {
   "cell_type": "code",
   "execution_count": null,
   "metadata": {},
   "outputs": [],
   "source": [
    "def square(n):\n",
    "    for _n in range(n+1):\n",
    "        yield _n ** 2"
   ]
  },
  {
   "cell_type": "code",
   "execution_count": null,
   "metadata": {},
   "outputs": [],
   "source": [
    "sq = square(5)"
   ]
  },
  {
   "cell_type": "code",
   "execution_count": null,
   "metadata": {},
   "outputs": [],
   "source": [
    "max(sq)"
   ]
  },
  {
   "cell_type": "code",
   "execution_count": null,
   "metadata": {},
   "outputs": [],
   "source": [
    "min(sq)"
   ]
  },
  {
   "cell_type": "code",
   "execution_count": null,
   "metadata": {},
   "outputs": [],
   "source": [
    "bool(sq)"
   ]
  },
  {
   "cell_type": "code",
   "execution_count": null,
   "metadata": {},
   "outputs": [],
   "source": [
    "any([0, '', None])"
   ]
  },
  {
   "cell_type": "code",
   "execution_count": null,
   "metadata": {},
   "outputs": [],
   "source": [
    "from numbers import Number\n",
    "isinstance(10, Number)"
   ]
  },
  {
   "cell_type": "code",
   "execution_count": null,
   "metadata": {},
   "outputs": [],
   "source": [
    "from decimal import Decimal"
   ]
  },
  {
   "cell_type": "code",
   "execution_count": null,
   "metadata": {},
   "outputs": [],
   "source": [
    "isinstance(Decimal('10.5'), Number)"
   ]
  },
  {
   "cell_type": "markdown",
   "metadata": {},
   "source": [
    "# Slicing"
   ]
  },
  {
   "cell_type": "code",
   "execution_count": null,
   "metadata": {},
   "outputs": [],
   "source": [
    "from itertools import islice"
   ]
  },
  {
   "cell_type": "code",
   "execution_count": null,
   "metadata": {},
   "outputs": [],
   "source": [
    "result = islice(l, 0, 3)"
   ]
  },
  {
   "cell_type": "code",
   "execution_count": null,
   "metadata": {},
   "outputs": [],
   "source": [
    "result"
   ]
  },
  {
   "cell_type": "code",
   "execution_count": null,
   "metadata": {},
   "outputs": [],
   "source": [
    "list(result)"
   ]
  },
  {
   "cell_type": "code",
   "execution_count": null,
   "metadata": {},
   "outputs": [],
   "source": [
    "# lazy iterator"
   ]
  },
  {
   "cell_type": "code",
   "execution_count": null,
   "metadata": {},
   "outputs": [],
   "source": [
    "import math\n",
    "\n",
    "def factorials(n):\n",
    "    for i in range(n):\n",
    "        yield math.factorial(i)"
   ]
  },
  {
   "cell_type": "code",
   "execution_count": null,
   "metadata": {},
   "outputs": [],
   "source": [
    "facts = factorials(100)"
   ]
  },
  {
   "cell_type": "code",
   "execution_count": null,
   "metadata": {},
   "outputs": [],
   "source": [
    "def slice_(iterable, start, stop):\n",
    "    for _ in range(0, start):\n",
    "        next(iterable)\n",
    "    for _ in range(start, stop):\n",
    "        yield next(iterable)"
   ]
  },
  {
   "cell_type": "code",
   "execution_count": null,
   "metadata": {},
   "outputs": [],
   "source": [
    "list(slice_(factorials(100), 0, 10))"
   ]
  },
  {
   "cell_type": "code",
   "execution_count": null,
   "metadata": {},
   "outputs": [],
   "source": [
    "from itertools import islice"
   ]
  },
  {
   "cell_type": "code",
   "execution_count": null,
   "metadata": {},
   "outputs": [],
   "source": [
    "list(islice(factorials(100), 3, 10))"
   ]
  },
  {
   "cell_type": "code",
   "execution_count": null,
   "metadata": {},
   "outputs": [],
   "source": [
    "help(islice)"
   ]
  },
  {
   "cell_type": "code",
   "execution_count": null,
   "metadata": {},
   "outputs": [],
   "source": [
    "def factorials():\n",
    "    index = 0\n",
    "    while True:\n",
    "        print(f'yielding factorial({index})...')\n",
    "        yield math.factorial(index)\n",
    "        index += 1"
   ]
  },
  {
   "cell_type": "code",
   "execution_count": null,
   "metadata": {},
   "outputs": [],
   "source": [
    "facts = factorials()\n",
    "for _ in range(0, 5):\n",
    "    print(next(facts))"
   ]
  },
  {
   "cell_type": "code",
   "execution_count": null,
   "metadata": {},
   "outputs": [],
   "source": [
    "islice(factorials(), 3, 10)"
   ]
  },
  {
   "cell_type": "code",
   "execution_count": null,
   "metadata": {},
   "outputs": [],
   "source": [
    "list(islice(factorials(), 3, 10))"
   ]
  },
  {
   "cell_type": "code",
   "execution_count": null,
   "metadata": {},
   "outputs": [],
   "source": [
    "list(islice(factorials(), 3, 10, 3))"
   ]
  },
  {
   "cell_type": "code",
   "execution_count": null,
   "metadata": {},
   "outputs": [],
   "source": [
    "facts = factorials()"
   ]
  },
  {
   "cell_type": "code",
   "execution_count": null,
   "metadata": {},
   "outputs": [],
   "source": [
    "islice(facts, 0, 5)"
   ]
  },
  {
   "cell_type": "code",
   "execution_count": null,
   "metadata": {},
   "outputs": [],
   "source": [
    "next(facts)"
   ]
  },
  {
   "cell_type": "markdown",
   "metadata": {},
   "source": [
    "# Selecting and Filtering"
   ]
  },
  {
   "cell_type": "code",
   "execution_count": null,
   "metadata": {},
   "outputs": [],
   "source": [
    "list(filter(None, [0, 'hello', 100, False]))"
   ]
  },
  {
   "cell_type": "code",
   "execution_count": null,
   "metadata": {},
   "outputs": [],
   "source": [
    "from itertools import filterfalse"
   ]
  },
  {
   "cell_type": "code",
   "execution_count": null,
   "metadata": {},
   "outputs": [],
   "source": [
    "list(filterfalse(None, [0, 'hello', 100, False]))"
   ]
  },
  {
   "cell_type": "code",
   "execution_count": null,
   "metadata": {},
   "outputs": [],
   "source": [
    "data = ['a', 'b', 'c', 'd', 'e']\n",
    "selectors = [True, False, 1, 0]"
   ]
  },
  {
   "cell_type": "code",
   "execution_count": null,
   "metadata": {},
   "outputs": [],
   "source": [
    "from itertools import compress"
   ]
  },
  {
   "cell_type": "code",
   "execution_count": null,
   "metadata": {},
   "outputs": [],
   "source": [
    "list(compress(data, selectors))"
   ]
  },
  {
   "cell_type": "code",
   "execution_count": null,
   "metadata": {},
   "outputs": [],
   "source": [
    "from itertools import takewhile"
   ]
  },
  {
   "cell_type": "code",
   "execution_count": null,
   "metadata": {},
   "outputs": [],
   "source": [
    "list(takewhile(lambda x: x < 5, [1, 3, 5, 2, 1]))"
   ]
  },
  {
   "cell_type": "code",
   "execution_count": null,
   "metadata": {},
   "outputs": [],
   "source": [
    "from itertools import dropwhile"
   ]
  },
  {
   "cell_type": "code",
   "execution_count": null,
   "metadata": {},
   "outputs": [],
   "source": [
    "list(dropwhile(lambda x: x < 5, [1, 3, 5, 2, 1]))"
   ]
  },
  {
   "cell_type": "markdown",
   "metadata": {},
   "source": [
    "# Infinite Iterators"
   ]
  },
  {
   "cell_type": "code",
   "execution_count": 4,
   "metadata": {},
   "outputs": [],
   "source": [
    "from itertools import count, cycle, repeat, islice"
   ]
  },
  {
   "cell_type": "code",
   "execution_count": 3,
   "metadata": {},
   "outputs": [
    {
     "name": "stdout",
     "output_type": "stream",
     "text": [
      "10.5\n",
      "10.5\n",
      "10.5\n",
      "10.5\n",
      "10.5\n",
      "10.5\n",
      "10.5\n",
      "10.5\n",
      "10.5\n",
      "10.5\n"
     ]
    }
   ],
   "source": [
    "for _ in range(10):\n",
    "    print(next(count(10.5, 0.1)))"
   ]
  },
  {
   "cell_type": "code",
   "execution_count": 5,
   "metadata": {},
   "outputs": [],
   "source": [
    "g = count(10)"
   ]
  },
  {
   "cell_type": "code",
   "execution_count": 6,
   "metadata": {},
   "outputs": [
    {
     "data": {
      "text/plain": [
       "[10, 11, 12, 13, 14]"
      ]
     },
     "execution_count": 6,
     "metadata": {},
     "output_type": "execute_result"
    }
   ],
   "source": [
    "list(islice(g, 5))"
   ]
  },
  {
   "cell_type": "code",
   "execution_count": 7,
   "metadata": {},
   "outputs": [
    {
     "ename": "TypeError",
     "evalue": "'float' object cannot be interpreted as an integer",
     "output_type": "error",
     "traceback": [
      "\u001b[0;31m---------------------------------------------------------------------------\u001b[0m",
      "\u001b[0;31mTypeError\u001b[0m                                 Traceback (most recent call last)",
      "\u001b[0;32m<ipython-input-7-4aab912fc27e>\u001b[0m in \u001b[0;36m<module>\u001b[0;34m\u001b[0m\n\u001b[0;32m----> 1\u001b[0;31m \u001b[0mrange\u001b[0m\u001b[0;34m(\u001b[0m\u001b[0;36m10\u001b[0m\u001b[0;34m,\u001b[0m \u001b[0;36m20\u001b[0m\u001b[0;34m,\u001b[0m \u001b[0;36m0.5\u001b[0m\u001b[0;34m)\u001b[0m\u001b[0;34m\u001b[0m\u001b[0;34m\u001b[0m\u001b[0m\n\u001b[0m",
      "\u001b[0;31mTypeError\u001b[0m: 'float' object cannot be interpreted as an integer"
     ]
    }
   ],
   "source": [
    "range(10, 20, 0.5)"
   ]
  },
  {
   "cell_type": "code",
   "execution_count": 8,
   "metadata": {},
   "outputs": [],
   "source": [
    "g = count(1, 0.5)"
   ]
  },
  {
   "cell_type": "code",
   "execution_count": 9,
   "metadata": {},
   "outputs": [
    {
     "data": {
      "text/plain": [
       "[1, 1.5, 2.0, 2.5, 3.0]"
      ]
     },
     "execution_count": 9,
     "metadata": {},
     "output_type": "execute_result"
    }
   ],
   "source": [
    "list(islice(g, 5))"
   ]
  },
  {
   "cell_type": "code",
   "execution_count": 10,
   "metadata": {},
   "outputs": [],
   "source": [
    "g = count(1+1j, 1+2j)"
   ]
  },
  {
   "cell_type": "code",
   "execution_count": 11,
   "metadata": {},
   "outputs": [
    {
     "data": {
      "text/plain": [
       "[(1+1j), (2+3j), (3+5j), (4+7j), (5+9j)]"
      ]
     },
     "execution_count": 11,
     "metadata": {},
     "output_type": "execute_result"
    }
   ],
   "source": [
    "list(islice(g, 5))"
   ]
  },
  {
   "cell_type": "code",
   "execution_count": 12,
   "metadata": {},
   "outputs": [],
   "source": [
    "from decimal import Decimal"
   ]
  },
  {
   "cell_type": "code",
   "execution_count": 13,
   "metadata": {},
   "outputs": [],
   "source": [
    "g = count(Decimal('0'), Decimal('0.1'))"
   ]
  },
  {
   "cell_type": "code",
   "execution_count": 14,
   "metadata": {},
   "outputs": [
    {
     "data": {
      "text/plain": [
       "[Decimal('0'), Decimal('0.1'), Decimal('0.2'), Decimal('0.3'), Decimal('0.4')]"
      ]
     },
     "execution_count": 14,
     "metadata": {},
     "output_type": "execute_result"
    }
   ],
   "source": [
    "list(islice(g, 5))"
   ]
  },
  {
   "cell_type": "code",
   "execution_count": 15,
   "metadata": {},
   "outputs": [],
   "source": [
    "g = cycle(('red', 'green', 'blue'))"
   ]
  },
  {
   "cell_type": "code",
   "execution_count": 16,
   "metadata": {},
   "outputs": [
    {
     "data": {
      "text/plain": [
       "['red', 'green', 'blue', 'red', 'green']"
      ]
     },
     "execution_count": 16,
     "metadata": {},
     "output_type": "execute_result"
    }
   ],
   "source": [
    "list(islice(g, 5))"
   ]
  },
  {
   "cell_type": "code",
   "execution_count": 17,
   "metadata": {},
   "outputs": [],
   "source": [
    "def colors():\n",
    "    yield 'red'\n",
    "    yield 'green'\n",
    "    yield 'blue'"
   ]
  },
  {
   "cell_type": "code",
   "execution_count": 18,
   "metadata": {},
   "outputs": [],
   "source": [
    "cols = colors()"
   ]
  },
  {
   "cell_type": "code",
   "execution_count": 19,
   "metadata": {},
   "outputs": [
    {
     "data": {
      "text/plain": [
       "['red', 'green', 'blue']"
      ]
     },
     "execution_count": 19,
     "metadata": {},
     "output_type": "execute_result"
    }
   ],
   "source": [
    "list(cols)"
   ]
  },
  {
   "cell_type": "code",
   "execution_count": 20,
   "metadata": {},
   "outputs": [
    {
     "data": {
      "text/plain": [
       "[]"
      ]
     },
     "execution_count": 20,
     "metadata": {},
     "output_type": "execute_result"
    }
   ],
   "source": [
    "list(cols)"
   ]
  },
  {
   "cell_type": "code",
   "execution_count": 21,
   "metadata": {},
   "outputs": [],
   "source": [
    "cols = colors()\n",
    "g = cycle(cols)"
   ]
  },
  {
   "cell_type": "code",
   "execution_count": 22,
   "metadata": {},
   "outputs": [
    {
     "data": {
      "text/plain": [
       "['red', 'green', 'blue', 'red', 'green']"
      ]
     },
     "execution_count": 22,
     "metadata": {},
     "output_type": "execute_result"
    }
   ],
   "source": [
    "list(islice(g, 5))"
   ]
  },
  {
   "cell_type": "code",
   "execution_count": 23,
   "metadata": {},
   "outputs": [],
   "source": [
    "from collections import namedtuple"
   ]
  },
  {
   "cell_type": "code",
   "execution_count": 24,
   "metadata": {},
   "outputs": [],
   "source": [
    "Card = namedtuple('Card', 'rank suit')"
   ]
  },
  {
   "cell_type": "code",
   "execution_count": 25,
   "metadata": {},
   "outputs": [],
   "source": [
    "def card_deck():\n",
    "    ranks = tuple(str(num) for num in range(2, 11)) + tuple('JQKA')\n",
    "    suits = ('Spades', 'Hearts', 'Diamonds', 'Clubs')\n",
    "    for suit in suits:\n",
    "        for rank in ranks:\n",
    "            yield Card(rank, suit)"
   ]
  },
  {
   "cell_type": "code",
   "execution_count": 26,
   "metadata": {},
   "outputs": [
    {
     "data": {
      "text/plain": [
       "[Card(rank='2', suit='Spades'),\n",
       " Card(rank='3', suit='Spades'),\n",
       " Card(rank='4', suit='Spades'),\n",
       " Card(rank='5', suit='Spades'),\n",
       " Card(rank='6', suit='Spades')]"
      ]
     },
     "execution_count": 26,
     "metadata": {},
     "output_type": "execute_result"
    }
   ],
   "source": [
    "list(islice(card_deck(), 5))"
   ]
  },
  {
   "cell_type": "code",
   "execution_count": 27,
   "metadata": {},
   "outputs": [],
   "source": [
    "hands = [list() for _ in range(4)]"
   ]
  },
  {
   "cell_type": "code",
   "execution_count": 28,
   "metadata": {},
   "outputs": [
    {
     "data": {
      "text/plain": [
       "[[], [], [], []]"
      ]
     },
     "execution_count": 28,
     "metadata": {},
     "output_type": "execute_result"
    }
   ],
   "source": [
    "hands"
   ]
  },
  {
   "cell_type": "code",
   "execution_count": 29,
   "metadata": {},
   "outputs": [],
   "source": [
    "index = 0\n",
    "for card in card_deck():\n",
    "    index = index % 4\n",
    "    hands[index].append(card)\n",
    "    index += 1"
   ]
  },
  {
   "cell_type": "code",
   "execution_count": 30,
   "metadata": {},
   "outputs": [
    {
     "data": {
      "text/plain": [
       "[[Card(rank='2', suit='Spades'),\n",
       "  Card(rank='6', suit='Spades'),\n",
       "  Card(rank='10', suit='Spades'),\n",
       "  Card(rank='A', suit='Spades'),\n",
       "  Card(rank='5', suit='Hearts'),\n",
       "  Card(rank='9', suit='Hearts'),\n",
       "  Card(rank='K', suit='Hearts'),\n",
       "  Card(rank='4', suit='Diamonds'),\n",
       "  Card(rank='8', suit='Diamonds'),\n",
       "  Card(rank='Q', suit='Diamonds'),\n",
       "  Card(rank='3', suit='Clubs'),\n",
       "  Card(rank='7', suit='Clubs'),\n",
       "  Card(rank='J', suit='Clubs')],\n",
       " [Card(rank='3', suit='Spades'),\n",
       "  Card(rank='7', suit='Spades'),\n",
       "  Card(rank='J', suit='Spades'),\n",
       "  Card(rank='2', suit='Hearts'),\n",
       "  Card(rank='6', suit='Hearts'),\n",
       "  Card(rank='10', suit='Hearts'),\n",
       "  Card(rank='A', suit='Hearts'),\n",
       "  Card(rank='5', suit='Diamonds'),\n",
       "  Card(rank='9', suit='Diamonds'),\n",
       "  Card(rank='K', suit='Diamonds'),\n",
       "  Card(rank='4', suit='Clubs'),\n",
       "  Card(rank='8', suit='Clubs'),\n",
       "  Card(rank='Q', suit='Clubs')],\n",
       " [Card(rank='4', suit='Spades'),\n",
       "  Card(rank='8', suit='Spades'),\n",
       "  Card(rank='Q', suit='Spades'),\n",
       "  Card(rank='3', suit='Hearts'),\n",
       "  Card(rank='7', suit='Hearts'),\n",
       "  Card(rank='J', suit='Hearts'),\n",
       "  Card(rank='2', suit='Diamonds'),\n",
       "  Card(rank='6', suit='Diamonds'),\n",
       "  Card(rank='10', suit='Diamonds'),\n",
       "  Card(rank='A', suit='Diamonds'),\n",
       "  Card(rank='5', suit='Clubs'),\n",
       "  Card(rank='9', suit='Clubs'),\n",
       "  Card(rank='K', suit='Clubs')],\n",
       " [Card(rank='5', suit='Spades'),\n",
       "  Card(rank='9', suit='Spades'),\n",
       "  Card(rank='K', suit='Spades'),\n",
       "  Card(rank='4', suit='Hearts'),\n",
       "  Card(rank='8', suit='Hearts'),\n",
       "  Card(rank='Q', suit='Hearts'),\n",
       "  Card(rank='3', suit='Diamonds'),\n",
       "  Card(rank='7', suit='Diamonds'),\n",
       "  Card(rank='J', suit='Diamonds'),\n",
       "  Card(rank='2', suit='Clubs'),\n",
       "  Card(rank='6', suit='Clubs'),\n",
       "  Card(rank='10', suit='Clubs'),\n",
       "  Card(rank='A', suit='Clubs')]]"
      ]
     },
     "execution_count": 30,
     "metadata": {},
     "output_type": "execute_result"
    }
   ],
   "source": [
    "hands"
   ]
  },
  {
   "cell_type": "code",
   "execution_count": 31,
   "metadata": {},
   "outputs": [],
   "source": [
    "hands = [list() for _ in range(4)]"
   ]
  },
  {
   "cell_type": "code",
   "execution_count": 32,
   "metadata": {},
   "outputs": [
    {
     "data": {
      "text/plain": [
       "[[], [], [], []]"
      ]
     },
     "execution_count": 32,
     "metadata": {},
     "output_type": "execute_result"
    }
   ],
   "source": [
    "hands"
   ]
  },
  {
   "cell_type": "code",
   "execution_count": 35,
   "metadata": {},
   "outputs": [],
   "source": [
    "index_cycle = cycle([0, 1, 2, 3])"
   ]
  },
  {
   "cell_type": "code",
   "execution_count": 36,
   "metadata": {},
   "outputs": [],
   "source": [
    "for card in card_deck():\n",
    "    hands[next(index_cycle)].append(card)"
   ]
  },
  {
   "cell_type": "code",
   "execution_count": 37,
   "metadata": {},
   "outputs": [
    {
     "data": {
      "text/plain": [
       "[[Card(rank='2', suit='Spades'),\n",
       "  Card(rank='6', suit='Spades'),\n",
       "  Card(rank='10', suit='Spades'),\n",
       "  Card(rank='A', suit='Spades'),\n",
       "  Card(rank='5', suit='Hearts'),\n",
       "  Card(rank='9', suit='Hearts'),\n",
       "  Card(rank='K', suit='Hearts'),\n",
       "  Card(rank='4', suit='Diamonds'),\n",
       "  Card(rank='8', suit='Diamonds'),\n",
       "  Card(rank='Q', suit='Diamonds'),\n",
       "  Card(rank='3', suit='Clubs'),\n",
       "  Card(rank='7', suit='Clubs'),\n",
       "  Card(rank='J', suit='Clubs')],\n",
       " [Card(rank='3', suit='Spades'),\n",
       "  Card(rank='7', suit='Spades'),\n",
       "  Card(rank='J', suit='Spades'),\n",
       "  Card(rank='2', suit='Hearts'),\n",
       "  Card(rank='6', suit='Hearts'),\n",
       "  Card(rank='10', suit='Hearts'),\n",
       "  Card(rank='A', suit='Hearts'),\n",
       "  Card(rank='5', suit='Diamonds'),\n",
       "  Card(rank='9', suit='Diamonds'),\n",
       "  Card(rank='K', suit='Diamonds'),\n",
       "  Card(rank='4', suit='Clubs'),\n",
       "  Card(rank='8', suit='Clubs'),\n",
       "  Card(rank='Q', suit='Clubs')],\n",
       " [Card(rank='4', suit='Spades'),\n",
       "  Card(rank='8', suit='Spades'),\n",
       "  Card(rank='Q', suit='Spades'),\n",
       "  Card(rank='3', suit='Hearts'),\n",
       "  Card(rank='7', suit='Hearts'),\n",
       "  Card(rank='J', suit='Hearts'),\n",
       "  Card(rank='2', suit='Diamonds'),\n",
       "  Card(rank='6', suit='Diamonds'),\n",
       "  Card(rank='10', suit='Diamonds'),\n",
       "  Card(rank='A', suit='Diamonds'),\n",
       "  Card(rank='5', suit='Clubs'),\n",
       "  Card(rank='9', suit='Clubs'),\n",
       "  Card(rank='K', suit='Clubs')],\n",
       " [Card(rank='5', suit='Spades'),\n",
       "  Card(rank='9', suit='Spades'),\n",
       "  Card(rank='K', suit='Spades'),\n",
       "  Card(rank='4', suit='Hearts'),\n",
       "  Card(rank='8', suit='Hearts'),\n",
       "  Card(rank='Q', suit='Hearts'),\n",
       "  Card(rank='3', suit='Diamonds'),\n",
       "  Card(rank='7', suit='Diamonds'),\n",
       "  Card(rank='J', suit='Diamonds'),\n",
       "  Card(rank='2', suit='Clubs'),\n",
       "  Card(rank='6', suit='Clubs'),\n",
       "  Card(rank='10', suit='Clubs'),\n",
       "  Card(rank='A', suit='Clubs')]]"
      ]
     },
     "execution_count": 37,
     "metadata": {},
     "output_type": "execute_result"
    }
   ],
   "source": [
    "hands"
   ]
  },
  {
   "cell_type": "code",
   "execution_count": 38,
   "metadata": {},
   "outputs": [],
   "source": [
    "hands = [list() for _ in range(4)]"
   ]
  },
  {
   "cell_type": "code",
   "execution_count": 39,
   "metadata": {},
   "outputs": [],
   "source": [
    "hands_cycle = cycle(hands)"
   ]
  },
  {
   "cell_type": "code",
   "execution_count": 40,
   "metadata": {},
   "outputs": [],
   "source": [
    "for card in card_deck():\n",
    "    next(hands_cycle).append(card)"
   ]
  },
  {
   "cell_type": "code",
   "execution_count": 41,
   "metadata": {},
   "outputs": [
    {
     "data": {
      "text/plain": [
       "[[Card(rank='2', suit='Spades'),\n",
       "  Card(rank='6', suit='Spades'),\n",
       "  Card(rank='10', suit='Spades'),\n",
       "  Card(rank='A', suit='Spades'),\n",
       "  Card(rank='5', suit='Hearts'),\n",
       "  Card(rank='9', suit='Hearts'),\n",
       "  Card(rank='K', suit='Hearts'),\n",
       "  Card(rank='4', suit='Diamonds'),\n",
       "  Card(rank='8', suit='Diamonds'),\n",
       "  Card(rank='Q', suit='Diamonds'),\n",
       "  Card(rank='3', suit='Clubs'),\n",
       "  Card(rank='7', suit='Clubs'),\n",
       "  Card(rank='J', suit='Clubs')],\n",
       " [Card(rank='3', suit='Spades'),\n",
       "  Card(rank='7', suit='Spades'),\n",
       "  Card(rank='J', suit='Spades'),\n",
       "  Card(rank='2', suit='Hearts'),\n",
       "  Card(rank='6', suit='Hearts'),\n",
       "  Card(rank='10', suit='Hearts'),\n",
       "  Card(rank='A', suit='Hearts'),\n",
       "  Card(rank='5', suit='Diamonds'),\n",
       "  Card(rank='9', suit='Diamonds'),\n",
       "  Card(rank='K', suit='Diamonds'),\n",
       "  Card(rank='4', suit='Clubs'),\n",
       "  Card(rank='8', suit='Clubs'),\n",
       "  Card(rank='Q', suit='Clubs')],\n",
       " [Card(rank='4', suit='Spades'),\n",
       "  Card(rank='8', suit='Spades'),\n",
       "  Card(rank='Q', suit='Spades'),\n",
       "  Card(rank='3', suit='Hearts'),\n",
       "  Card(rank='7', suit='Hearts'),\n",
       "  Card(rank='J', suit='Hearts'),\n",
       "  Card(rank='2', suit='Diamonds'),\n",
       "  Card(rank='6', suit='Diamonds'),\n",
       "  Card(rank='10', suit='Diamonds'),\n",
       "  Card(rank='A', suit='Diamonds'),\n",
       "  Card(rank='5', suit='Clubs'),\n",
       "  Card(rank='9', suit='Clubs'),\n",
       "  Card(rank='K', suit='Clubs')],\n",
       " [Card(rank='5', suit='Spades'),\n",
       "  Card(rank='9', suit='Spades'),\n",
       "  Card(rank='K', suit='Spades'),\n",
       "  Card(rank='4', suit='Hearts'),\n",
       "  Card(rank='8', suit='Hearts'),\n",
       "  Card(rank='Q', suit='Hearts'),\n",
       "  Card(rank='3', suit='Diamonds'),\n",
       "  Card(rank='7', suit='Diamonds'),\n",
       "  Card(rank='J', suit='Diamonds'),\n",
       "  Card(rank='2', suit='Clubs'),\n",
       "  Card(rank='6', suit='Clubs'),\n",
       "  Card(rank='10', suit='Clubs'),\n",
       "  Card(rank='A', suit='Clubs')]]"
      ]
     },
     "execution_count": 41,
     "metadata": {},
     "output_type": "execute_result"
    }
   ],
   "source": [
    "hands"
   ]
  },
  {
   "cell_type": "markdown",
   "metadata": {},
   "source": [
    "- Repeat"
   ]
  },
  {
   "cell_type": "code",
   "execution_count": 42,
   "metadata": {},
   "outputs": [
    {
     "name": "stdout",
     "output_type": "stream",
     "text": [
      "Python\n",
      "Python\n",
      "Python\n",
      "Python\n",
      "Python\n"
     ]
    }
   ],
   "source": [
    "g = repeat('Python')\n",
    "for _ in range(5):\n",
    "    print(next(g))"
   ]
  },
  {
   "cell_type": "markdown",
   "metadata": {},
   "source": [
    "# Chaining Iterables"
   ]
  },
  {
   "cell_type": "code",
   "execution_count": 48,
   "metadata": {},
   "outputs": [],
   "source": [
    "from itertools import chain"
   ]
  },
  {
   "cell_type": "code",
   "execution_count": 49,
   "metadata": {},
   "outputs": [],
   "source": [
    "l = [1, 2, 3, 4, 5]\n",
    "l_iter = iter(l)"
   ]
  },
  {
   "cell_type": "code",
   "execution_count": 50,
   "metadata": {},
   "outputs": [],
   "source": [
    "l1 = [l_iter, l_iter, l_iter]"
   ]
  },
  {
   "cell_type": "code",
   "execution_count": 51,
   "metadata": {},
   "outputs": [
    {
     "name": "stdout",
     "output_type": "stream",
     "text": [
      "1\n",
      "2\n",
      "3\n",
      "4\n",
      "5\n"
     ]
    }
   ],
   "source": [
    "for n in chain(*l1):\n",
    "    print(n)"
   ]
  },
  {
   "cell_type": "code",
   "execution_count": 52,
   "metadata": {},
   "outputs": [
    {
     "ename": "ModuleNotFoundError",
     "evalue": "No module named 'itertools.chain'; 'itertools' is not a package",
     "output_type": "error",
     "traceback": [
      "\u001b[0;31m---------------------------------------------------------------------------\u001b[0m",
      "\u001b[0;31mModuleNotFoundError\u001b[0m                       Traceback (most recent call last)",
      "\u001b[0;32m<ipython-input-52-4f4f208f4100>\u001b[0m in \u001b[0;36m<module>\u001b[0;34m\u001b[0m\n\u001b[0;32m----> 1\u001b[0;31m \u001b[0;32mfrom\u001b[0m \u001b[0mitertools\u001b[0m\u001b[0;34m.\u001b[0m\u001b[0mchain\u001b[0m \u001b[0;32mimport\u001b[0m \u001b[0mfrom_iterable\u001b[0m\u001b[0;34m\u001b[0m\u001b[0;34m\u001b[0m\u001b[0m\n\u001b[0m",
      "\u001b[0;31mModuleNotFoundError\u001b[0m: No module named 'itertools.chain'; 'itertools' is not a package"
     ]
    }
   ],
   "source": []
  },
  {
   "cell_type": "code",
   "execution_count": null,
   "metadata": {},
   "outputs": [],
   "source": [
    "l1 = "
   ]
  }
 ],
 "metadata": {
  "kernelspec": {
   "display_name": "Python 3",
   "language": "python",
   "name": "python3"
  },
  "language_info": {
   "codemirror_mode": {
    "name": "ipython",
    "version": 3
   },
   "file_extension": ".py",
   "mimetype": "text/x-python",
   "name": "python",
   "nbconvert_exporter": "python",
   "pygments_lexer": "ipython3",
   "version": "3.7.1"
  }
 },
 "nbformat": 4,
 "nbformat_minor": 2
}
