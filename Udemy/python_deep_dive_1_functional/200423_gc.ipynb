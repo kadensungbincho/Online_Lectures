{
 "cells": [
  {
   "cell_type": "markdown",
   "metadata": {},
   "source": [
    "Circular References\n",
    "\n",
    "GC identify CR and clean up"
   ]
  },
  {
   "cell_type": "code",
   "execution_count": 1,
   "metadata": {},
   "outputs": [],
   "source": [
    "import sys\n",
    "import ctypes"
   ]
  },
  {
   "cell_type": "code",
   "execution_count": 3,
   "metadata": {},
   "outputs": [
    {
     "data": {
      "text/plain": [
       "142"
      ]
     },
     "execution_count": 3,
     "metadata": {},
     "output_type": "execute_result"
    }
   ],
   "source": [
    "a = 10\n",
    "sys.getrefcount(a)"
   ]
  },
  {
   "cell_type": "code",
   "execution_count": 4,
   "metadata": {},
   "outputs": [],
   "source": [
    "import gc"
   ]
  },
  {
   "cell_type": "markdown",
   "metadata": {},
   "source": [
    "- default it is turned on\n",
    "- you may turn it off if you're sure your code does not create circular references = but beware\n",
    "- runs periodically on its own \n",
    "- you can call it manually, and even do your own cleanup"
   ]
  },
  {
   "cell_type": "code",
   "execution_count": 2,
   "metadata": {},
   "outputs": [
    {
     "data": {
      "text/plain": [
       "['ARRAY',\n",
       " 'ArgumentError',\n",
       " 'Array',\n",
       " 'BigEndianStructure',\n",
       " 'CDLL',\n",
       " 'CFUNCTYPE',\n",
       " 'DEFAULT_MODE',\n",
       " 'LibraryLoader',\n",
       " 'LittleEndianStructure',\n",
       " 'POINTER',\n",
       " 'PYFUNCTYPE',\n",
       " 'PyDLL',\n",
       " 'RTLD_GLOBAL',\n",
       " 'RTLD_LOCAL',\n",
       " 'SetPointerType',\n",
       " 'Structure',\n",
       " 'Union',\n",
       " '_CFuncPtr',\n",
       " '_FUNCFLAG_CDECL',\n",
       " '_FUNCFLAG_PYTHONAPI',\n",
       " '_FUNCFLAG_USE_ERRNO',\n",
       " '_FUNCFLAG_USE_LASTERROR',\n",
       " '_Pointer',\n",
       " '_SimpleCData',\n",
       " '__builtins__',\n",
       " '__cached__',\n",
       " '__doc__',\n",
       " '__file__',\n",
       " '__loader__',\n",
       " '__name__',\n",
       " '__package__',\n",
       " '__path__',\n",
       " '__spec__',\n",
       " '__version__',\n",
       " '_c_functype_cache',\n",
       " '_calcsize',\n",
       " '_cast',\n",
       " '_cast_addr',\n",
       " '_check_size',\n",
       " '_ctypes_version',\n",
       " '_dlopen',\n",
       " '_endian',\n",
       " '_memmove_addr',\n",
       " '_memset_addr',\n",
       " '_os',\n",
       " '_pointer_type_cache',\n",
       " '_reset_cache',\n",
       " '_string_at',\n",
       " '_string_at_addr',\n",
       " '_sys',\n",
       " '_wstring_at',\n",
       " '_wstring_at_addr',\n",
       " 'addressof',\n",
       " 'alignment',\n",
       " 'byref',\n",
       " 'c_bool',\n",
       " 'c_buffer',\n",
       " 'c_byte',\n",
       " 'c_char',\n",
       " 'c_char_p',\n",
       " 'c_double',\n",
       " 'c_float',\n",
       " 'c_int',\n",
       " 'c_int16',\n",
       " 'c_int32',\n",
       " 'c_int64',\n",
       " 'c_int8',\n",
       " 'c_long',\n",
       " 'c_longdouble',\n",
       " 'c_longlong',\n",
       " 'c_short',\n",
       " 'c_size_t',\n",
       " 'c_ssize_t',\n",
       " 'c_ubyte',\n",
       " 'c_uint',\n",
       " 'c_uint16',\n",
       " 'c_uint32',\n",
       " 'c_uint64',\n",
       " 'c_uint8',\n",
       " 'c_ulong',\n",
       " 'c_ulonglong',\n",
       " 'c_ushort',\n",
       " 'c_void_p',\n",
       " 'c_voidp',\n",
       " 'c_wchar',\n",
       " 'c_wchar_p',\n",
       " 'cast',\n",
       " 'cdll',\n",
       " 'create_string_buffer',\n",
       " 'create_unicode_buffer',\n",
       " 'get_errno',\n",
       " 'memmove',\n",
       " 'memset',\n",
       " 'pointer',\n",
       " 'py_object',\n",
       " 'pydll',\n",
       " 'pythonapi',\n",
       " 'resize',\n",
       " 'set_errno',\n",
       " 'sizeof',\n",
       " 'string_at',\n",
       " 'wstring_at']"
      ]
     },
     "execution_count": 2,
     "metadata": {},
     "output_type": "execute_result"
    }
   ],
   "source": [
    "dir(ctypes)"
   ]
  },
  {
   "cell_type": "code",
   "execution_count": 5,
   "metadata": {},
   "outputs": [],
   "source": [
    "def ref_count(address):\n",
    "    return ctypes.c_long.from_address(address).value"
   ]
  },
  {
   "cell_type": "code",
   "execution_count": 6,
   "metadata": {},
   "outputs": [],
   "source": [
    "def object_by_id(object_id):\n",
    "    for obj in gc.get_objects():\n",
    "        if id(obj) == object_id:\n",
    "            return \"Object exists\"\n",
    "    return \"Not Found\""
   ]
  },
  {
   "cell_type": "code",
   "execution_count": 7,
   "metadata": {},
   "outputs": [],
   "source": [
    "class A:\n",
    "    def __init__(self):\n",
    "        self.b = B(self)\n",
    "        print('A: self: {0}, b: {1}'.format(hex(id(self)), hex(id(self.b))))\n",
    "    \n",
    "class B:\n",
    "    def __init__(self, a):\n",
    "        self.a = a\n",
    "        print('B: self: {0}, a: {1}'.format(hex(id(self)), hex(id(self.a))))\n"
   ]
  },
  {
   "cell_type": "code",
   "execution_count": 8,
   "metadata": {},
   "outputs": [],
   "source": [
    "gc.disable()"
   ]
  },
  {
   "cell_type": "code",
   "execution_count": 9,
   "metadata": {
    "scrolled": true
   },
   "outputs": [
    {
     "name": "stdout",
     "output_type": "stream",
     "text": [
      "B: self: 0x10d05b208, a: 0x10d05b1d0\n",
      "A: self: 0x10d05b1d0, b: 0x10d05b208\n"
     ]
    }
   ],
   "source": [
    "my_var = A()"
   ]
  },
  {
   "cell_type": "code",
   "execution_count": 10,
   "metadata": {},
   "outputs": [
    {
     "data": {
      "text/plain": [
       "'0x10d05b1d0'"
      ]
     },
     "execution_count": 10,
     "metadata": {},
     "output_type": "execute_result"
    }
   ],
   "source": [
    "hex(id(my_var))"
   ]
  },
  {
   "cell_type": "code",
   "execution_count": 13,
   "metadata": {},
   "outputs": [
    {
     "name": "stdout",
     "output_type": "stream",
     "text": [
      "0x10d05b208\n"
     ]
    }
   ],
   "source": [
    "print(hex(id(my_var.b)))"
   ]
  },
  {
   "cell_type": "code",
   "execution_count": 15,
   "metadata": {},
   "outputs": [],
   "source": [
    "a_id = id(my_var)\n",
    "b_id = id(my_var.b)"
   ]
  },
  {
   "cell_type": "code",
   "execution_count": 17,
   "metadata": {},
   "outputs": [
    {
     "name": "stdout",
     "output_type": "stream",
     "text": [
      "0x10d05b1d0\n",
      "0x10d05b208\n"
     ]
    }
   ],
   "source": [
    "print(hex(a_id))\n",
    "print(hex(b_id))"
   ]
  },
  {
   "cell_type": "code",
   "execution_count": 18,
   "metadata": {},
   "outputs": [
    {
     "data": {
      "text/plain": [
       "'Object exists'"
      ]
     },
     "execution_count": 18,
     "metadata": {},
     "output_type": "execute_result"
    }
   ],
   "source": [
    "object_by_id(a_id)"
   ]
  },
  {
   "cell_type": "code",
   "execution_count": 19,
   "metadata": {},
   "outputs": [
    {
     "data": {
      "text/plain": [
       "'Object exists'"
      ]
     },
     "execution_count": 19,
     "metadata": {},
     "output_type": "execute_result"
    }
   ],
   "source": [
    "object_by_id(b_id)"
   ]
  },
  {
   "cell_type": "code",
   "execution_count": 20,
   "metadata": {},
   "outputs": [
    {
     "data": {
      "text/plain": [
       "2"
      ]
     },
     "execution_count": 20,
     "metadata": {},
     "output_type": "execute_result"
    }
   ],
   "source": [
    "ref_count(a_id)"
   ]
  },
  {
   "cell_type": "code",
   "execution_count": 21,
   "metadata": {},
   "outputs": [
    {
     "data": {
      "text/plain": [
       "1"
      ]
     },
     "execution_count": 21,
     "metadata": {},
     "output_type": "execute_result"
    }
   ],
   "source": [
    "ref_count(b_id)"
   ]
  },
  {
   "cell_type": "code",
   "execution_count": 31,
   "metadata": {},
   "outputs": [
    {
     "data": {
      "text/plain": [
       "60"
      ]
     },
     "execution_count": 31,
     "metadata": {},
     "output_type": "execute_result"
    }
   ],
   "source": [
    "gc.collect()"
   ]
  },
  {
   "cell_type": "code",
   "execution_count": 32,
   "metadata": {},
   "outputs": [
    {
     "data": {
      "text/plain": [
       "'Object exists'"
      ]
     },
     "execution_count": 32,
     "metadata": {},
     "output_type": "execute_result"
    }
   ],
   "source": [
    "object_by_id(a_id)"
   ]
  },
  {
   "cell_type": "code",
   "execution_count": 33,
   "metadata": {},
   "outputs": [
    {
     "data": {
      "text/plain": [
       "'Object exists'"
      ]
     },
     "execution_count": 33,
     "metadata": {},
     "output_type": "execute_result"
    }
   ],
   "source": [
    "object_by_id(b_id)"
   ]
  },
  {
   "cell_type": "code",
   "execution_count": null,
   "metadata": {},
   "outputs": [],
   "source": []
  }
 ],
 "metadata": {
  "kernelspec": {
   "display_name": "Python 3",
   "language": "python",
   "name": "python3"
  },
  "language_info": {
   "codemirror_mode": {
    "name": "ipython",
    "version": 3
   },
   "file_extension": ".py",
   "mimetype": "text/x-python",
   "name": "python",
   "nbconvert_exporter": "python",
   "pygments_lexer": "ipython3",
   "version": "3.7.2"
  }
 },
 "nbformat": 4,
 "nbformat_minor": 2
}
