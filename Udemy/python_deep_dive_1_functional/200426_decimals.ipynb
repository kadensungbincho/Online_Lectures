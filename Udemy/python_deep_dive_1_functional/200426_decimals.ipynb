{
 "cells": [
  {
   "cell_type": "code",
   "execution_count": 2,
   "metadata": {},
   "outputs": [],
   "source": [
    "from decimal import Decimal"
   ]
  },
  {
   "cell_type": "code",
   "execution_count": 3,
   "metadata": {},
   "outputs": [],
   "source": [
    "import sys"
   ]
  },
  {
   "cell_type": "code",
   "execution_count": 4,
   "metadata": {},
   "outputs": [],
   "source": [
    "a = 3.1415\n",
    "b = Decimal('3.1415')"
   ]
  },
  {
   "cell_type": "code",
   "execution_count": 5,
   "metadata": {},
   "outputs": [
    {
     "data": {
      "text/plain": [
       "24"
      ]
     },
     "execution_count": 5,
     "metadata": {},
     "output_type": "execute_result"
    }
   ],
   "source": [
    "sys.getsizeof(a)"
   ]
  },
  {
   "cell_type": "code",
   "execution_count": 6,
   "metadata": {},
   "outputs": [
    {
     "data": {
      "text/plain": [
       "104"
      ]
     },
     "execution_count": 6,
     "metadata": {},
     "output_type": "execute_result"
    }
   ],
   "source": [
    "sys.getsizeof(b)"
   ]
  },
  {
   "cell_type": "code",
   "execution_count": 7,
   "metadata": {},
   "outputs": [],
   "source": [
    "import time\n",
    "\n",
    "def run_float(n=1):\n",
    "    for i in range(n):\n",
    "        a = 3.1415\n",
    "        \n",
    "        \n",
    "def run_decimal(n=1):\n",
    "    for i in range(n):\n",
    "        a = Decimal('3.1415')\n",
    "        "
   ]
  },
  {
   "cell_type": "code",
   "execution_count": 8,
   "metadata": {},
   "outputs": [],
   "source": [
    "n = 10000000"
   ]
  },
  {
   "cell_type": "code",
   "execution_count": 9,
   "metadata": {},
   "outputs": [
    {
     "name": "stdout",
     "output_type": "stream",
     "text": [
      "float:  0.2533380730001227\n"
     ]
    }
   ],
   "source": [
    "start = time.perf_counter()\n",
    "run_float(n)\n",
    "end = time.perf_counter()\n",
    "print('float: ', end-start)"
   ]
  },
  {
   "cell_type": "code",
   "execution_count": 10,
   "metadata": {},
   "outputs": [
    {
     "name": "stdout",
     "output_type": "stream",
     "text": [
      "float:  2.09926484399989\n"
     ]
    }
   ],
   "source": [
    "start = time.perf_counter()\n",
    "run_decimal(n)\n",
    "end = time.perf_counter()\n",
    "print('float: ', end-start)"
   ]
  },
  {
   "cell_type": "code",
   "execution_count": 12,
   "metadata": {},
   "outputs": [
    {
     "name": "stdout",
     "output_type": "stream",
     "text": [
      "float:  0.42737675900002614\n",
      "float:  12.495110661000126\n"
     ]
    }
   ],
   "source": [
    "import time\n",
    "import math\n",
    "n = 5000000\n",
    "\n",
    "\n",
    "def run_float(n=1):\n",
    "    a = 3.1415\n",
    "    for i in range(n):\n",
    "        math.sqrt(a)\n",
    "        \n",
    "        \n",
    "def run_decimal(n=1):\n",
    "    a = Decimal('3.1415')\n",
    "    for i in range(n):\n",
    "        a.sqrt()\n",
    "        \n",
    "        \n",
    "start = time.perf_counter()\n",
    "run_float(n)\n",
    "end = time.perf_counter()\n",
    "print('float: ', end-start)\n",
    "\n",
    "start = time.perf_counter()\n",
    "run_decimal(n)\n",
    "end = time.perf_counter()\n",
    "print('float: ', end-start)"
   ]
  },
  {
   "cell_type": "code",
   "execution_count": null,
   "metadata": {},
   "outputs": [],
   "source": []
  }
 ],
 "metadata": {
  "kernelspec": {
   "display_name": "Python 3",
   "language": "python",
   "name": "python3"
  },
  "language_info": {
   "codemirror_mode": {
    "name": "ipython",
    "version": 3
   },
   "file_extension": ".py",
   "mimetype": "text/x-python",
   "name": "python",
   "nbconvert_exporter": "python",
   "pygments_lexer": "ipython3",
   "version": "3.7.2"
  }
 },
 "nbformat": 4,
 "nbformat_minor": 2
}
