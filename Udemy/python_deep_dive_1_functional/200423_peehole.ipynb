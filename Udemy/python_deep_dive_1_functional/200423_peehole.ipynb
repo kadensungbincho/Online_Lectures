{
 "cells": [
  {
   "cell_type": "markdown",
   "metadata": {},
   "source": [
    "This is another variety of optimizations that can occur at compile time.\n",
    "\n",
    "Constant expressions\n",
    "\n",
    "numeric calculations\n",
    "\n",
    "    24 * 60 -> Python will actually pre-calculate 24 * 60 -> 1440\n",
    " \n",
    "short sequences length < 20\n",
    "\n",
    "    (1, 2) * 5 -> (1, 2, 1, 2, 1, 2, 1, 2, 1, 2)\n",
    "    'abc' * 3 - abcabcabc"
   ]
  },
  {
   "cell_type": "markdown",
   "metadata": {},
   "source": [
    "Membership tests: mutables are replaced by immutables\n",
    "\n",
    "When membership tests such as:\n",
    "\n",
    "    if e in [1, 2, 3]:\n",
    "    \n",
    "    are encountered, the [1, 2, 3] constant is replaced by its immutable counterpart\n",
    "   \n",
    "- lists -> tuples\n",
    "- sets -> frozensets\n",
    "\n",
    "Set membership is much faster than list or tuple membership (sets are basically like dictionaries)\n",
    "\n",
    "So, instead of writing:\n",
    "    \n",
    "    if e in [1, 2, 3]: or if e in (1, 2, 3):\n",
    "    \n",
    "    write if e in {1, 2, 3}:"
   ]
  },
  {
   "cell_type": "code",
   "execution_count": 1,
   "metadata": {},
   "outputs": [],
   "source": [
    "a = \"\"\"\n",
    "<link href=\"http://alexgorbatchev.com/pub/sh/current/styles/shCore.css\" rel=\"stylesheet\" type=\"text/css\" />\n",
    "<link href=\"http://alexgorbatchev.com/pub/sh/current/styles/shThemeEmacs.css\" rel=\"stylesheet\" type=\"text/css\" />\n",
    "<script src=\"http://alexgorbatchev.com/pub/sh/current/scripts/shCore.js\" type=\"text/javascript\" />\n",
    " \n",
    "<script src=\"http://alexgorbatchev.com/pub/sh/current/scripts/shBrushAS3.js\" type=\"text/javascript\" />\n",
    "<script src=\"http://alexgorbatchev.com/pub/sh/current/scripts/shBrushBash.js\" type=\"text/javascript\" />\n",
    "<script src=\"http://alexgorbatchev.com/pub/sh/current/scripts/shBrushColdFusion.js\" type=\"text/javascript\" />\n",
    "<script src=\"http://alexgorbatchev.com/pub/sh/current/scripts/shBrushCSharp.js\" type=\"text/javascript\" />\n",
    "<script src=\"http://alexgorbatchev.com/pub/sh/current/scripts/shBrushCpp.js\" type=\"text/javascript\" />\n",
    "<script src=\"http://alexgorbatchev.com/pub/sh/current/scripts/shBrushCss.js\" type=\"text/javascript\" />\n",
    "<script src=\"http://alexgorbatchev.com/pub/sh/current/scripts/shBrushDelphi.js\" type=\"text/javascript\" />\n",
    "<script src=\"http://alexgorbatchev.com/pub/sh/current/scripts/shBrushDiff.js\" type=\"text/javascript\" />\n",
    "<script src=\"http://alexgorbatchev.com/pub/sh/current/scripts/shBrushErlang.js\" type=\"text/javascript\" />\n",
    "<script src=\"http://alexgorbatchev.com/pub/sh/current/scripts/shBrushGroovy.js\" type=\"text/javascript\" />\n",
    "<script src=\"http://alexgorbatchev.com/pub/sh/current/scripts/shBrushJScript.js\" type=\"text/javascript\" />\n",
    "<script src=\"http://alexgorbatchev.com/pub/sh/current/scripts/shBrushJava.js\" type=\"text/javascript\" />\n",
    "<script src=\"http://alexgorbatchev.com/pub/sh/current/scripts/shBrushJavaFX.js\" type=\"text/javascript\" />\n",
    "<script src=\"http://alexgorbatchev.com/pub/sh/current/scripts/shBrushPerl.js\" type=\"text/javascript\" />\n",
    "<script src=\"http://alexgorbatchev.com/pub/sh/current/scripts/shBrushPhp.js\" type=\"text/javascript\" />\n",
    "<script src=\"http://alexgorbatchev.com/pub/sh/current/scripts/shBrushPlain.js\" type=\"text/javascript\" />\n",
    "<script src=\"http://alexgorbatchev.com/pub/sh/current/scripts/shBrushPowerShell.js\" type=\"text/javascript\" />\n",
    "<script src=\"http://alexgorbatchev.com/pub/sh/current/scripts/shBrushPython.js\" type=\"text/javascript\" />\n",
    "<script src=\"http://alexgorbatchev.com/pub/sh/current/scripts/shBrushRuby.js\" type=\"text/javascript\" />\n",
    "<script src=\"http://alexgorbatchev.com/pub/sh/current/scripts/shBrushScala.js\" type=\"text/javascript\" />\n",
    "<script src=\"http://alexgorbatchev.com/pub/sh/current/scripts/shBrushSql.js\" type=\"text/javascript\" />\n",
    "<script src=\"http://alexgorbatchev.com/pub/sh/current/scripts/shBrushVb.js\" type=\"text/javascript\" />\n",
    "<script src=\"http://alexgorbatchev.com/pub/sh/current/scripts/shBrushXml.js\" type=\"text/javascript\" />\n",
    "  \n",
    "<script language=\"javascript\" type=\"text/javascript\">\n",
    " SyntaxHighlighter.config.bloggerMode = true;\n",
    " SyntaxHighlighter.all();\n",
    "</script>\n",
    "\"\"\""
   ]
  },
  {
   "cell_type": "code",
   "execution_count": 3,
   "metadata": {},
   "outputs": [
    {
     "name": "stdout",
     "output_type": "stream",
     "text": [
      "\n",
      "<link href='http://alexgorbatchev.com/pub/sh/current/styles/shCore.css' rel='stylesheet' type='text/css' />\n",
      "<link href='http://alexgorbatchev.com/pub/sh/current/styles/shThemeEmacs.css' rel='stylesheet' type='text/css' />\n",
      "<script src='http://alexgorbatchev.com/pub/sh/current/scripts/shCore.js' type='text/javascript' />\n",
      " \n",
      "<script src='http://alexgorbatchev.com/pub/sh/current/scripts/shBrushAS3.js' type='text/javascript' />\n",
      "<script src='http://alexgorbatchev.com/pub/sh/current/scripts/shBrushBash.js' type='text/javascript' />\n",
      "<script src='http://alexgorbatchev.com/pub/sh/current/scripts/shBrushColdFusion.js' type='text/javascript' />\n",
      "<script src='http://alexgorbatchev.com/pub/sh/current/scripts/shBrushCSharp.js' type='text/javascript' />\n",
      "<script src='http://alexgorbatchev.com/pub/sh/current/scripts/shBrushCpp.js' type='text/javascript' />\n",
      "<script src='http://alexgorbatchev.com/pub/sh/current/scripts/shBrushCss.js' type='text/javascript' />\n",
      "<script src='http://alexgorbatchev.com/pub/sh/current/scripts/shBrushDelphi.js' type='text/javascript' />\n",
      "<script src='http://alexgorbatchev.com/pub/sh/current/scripts/shBrushDiff.js' type='text/javascript' />\n",
      "<script src='http://alexgorbatchev.com/pub/sh/current/scripts/shBrushErlang.js' type='text/javascript' />\n",
      "<script src='http://alexgorbatchev.com/pub/sh/current/scripts/shBrushGroovy.js' type='text/javascript' />\n",
      "<script src='http://alexgorbatchev.com/pub/sh/current/scripts/shBrushJScript.js' type='text/javascript' />\n",
      "<script src='http://alexgorbatchev.com/pub/sh/current/scripts/shBrushJava.js' type='text/javascript' />\n",
      "<script src='http://alexgorbatchev.com/pub/sh/current/scripts/shBrushJavaFX.js' type='text/javascript' />\n",
      "<script src='http://alexgorbatchev.com/pub/sh/current/scripts/shBrushPerl.js' type='text/javascript' />\n",
      "<script src='http://alexgorbatchev.com/pub/sh/current/scripts/shBrushPhp.js' type='text/javascript' />\n",
      "<script src='http://alexgorbatchev.com/pub/sh/current/scripts/shBrushPlain.js' type='text/javascript' />\n",
      "<script src='http://alexgorbatchev.com/pub/sh/current/scripts/shBrushPowerShell.js' type='text/javascript' />\n",
      "<script src='http://alexgorbatchev.com/pub/sh/current/scripts/shBrushPython.js' type='text/javascript' />\n",
      "<script src='http://alexgorbatchev.com/pub/sh/current/scripts/shBrushRuby.js' type='text/javascript' />\n",
      "<script src='http://alexgorbatchev.com/pub/sh/current/scripts/shBrushScala.js' type='text/javascript' />\n",
      "<script src='http://alexgorbatchev.com/pub/sh/current/scripts/shBrushSql.js' type='text/javascript' />\n",
      "<script src='http://alexgorbatchev.com/pub/sh/current/scripts/shBrushVb.js' type='text/javascript' />\n",
      "<script src='http://alexgorbatchev.com/pub/sh/current/scripts/shBrushXml.js' type='text/javascript' />\n",
      "  \n",
      "<script language='javascript' type='text/javascript'>\n",
      " SyntaxHighlighter.config.bloggerMode = true;\n",
      " SyntaxHighlighter.all();\n",
      "</script>\n",
      "\n"
     ]
    }
   ],
   "source": [
    "print(a.replace(\"\\\"\", \"'\"))"
   ]
  },
  {
   "cell_type": "code",
   "execution_count": null,
   "metadata": {},
   "outputs": [],
   "source": []
  }
 ],
 "metadata": {
  "kernelspec": {
   "display_name": "Python 3",
   "language": "python",
   "name": "python3"
  },
  "language_info": {
   "codemirror_mode": {
    "name": "ipython",
    "version": 3
   },
   "file_extension": ".py",
   "mimetype": "text/x-python",
   "name": "python",
   "nbconvert_exporter": "python",
   "pygments_lexer": "ipython3",
   "version": "3.7.2"
  }
 },
 "nbformat": 4,
 "nbformat_minor": 2
}
