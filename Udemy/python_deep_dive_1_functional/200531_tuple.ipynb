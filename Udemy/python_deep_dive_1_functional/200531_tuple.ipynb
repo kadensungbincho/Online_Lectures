{
 "cells": [
  {
   "cell_type": "markdown",
   "metadata": {},
   "source": [
    "- We really need to think of tuples also as data records\n",
    "- This is why we are going to start looking at tuples before we even cover sequence types\n",
    "- We are going to focus here on tuples as a data records and structure"
   ]
  },
  {
   "cell_type": "markdown",
   "metadata": {},
   "source": [
    "- tuples vs lists vs strings\n",
    "\n",
    "\n",
    "- tuples\n",
    "    - elements cannot be added or removed\n",
    "    - the order of elements cannot be changed\n",
    "    - **works wel for representing data structures**\n",
    "    - Point (10, 20), Circle (0, 0, 10)\n",
    "    - City ('London', 'UK', 8_780_000) \n",
    "        - 1 elem is the name of a city\n",
    "        - 2 elem is the country\n",
    "        - ...\n",
    "    - the position has meaning\n",
    "   \n",
    "    "
   ]
  },
  {
   "cell_type": "code",
   "execution_count": 1,
   "metadata": {},
   "outputs": [],
   "source": [
    "# extract data by position"
   ]
  },
  {
   "cell_type": "code",
   "execution_count": 2,
   "metadata": {},
   "outputs": [],
   "source": [
    "cities = [('London', 'UK', 8_780_000),\n",
    "          ('New York', 'USA', 8_500_000)]"
   ]
  },
  {
   "cell_type": "code",
   "execution_count": 4,
   "metadata": {},
   "outputs": [],
   "source": [
    "total_population = 0\n",
    "for city in cities:\n",
    "    total_population += city[2]"
   ]
  },
  {
   "cell_type": "code",
   "execution_count": 5,
   "metadata": {},
   "outputs": [],
   "source": [
    "# packing, unpacking \n",
    "# dummy variable"
   ]
  },
  {
   "cell_type": "code",
   "execution_count": 6,
   "metadata": {},
   "outputs": [
    {
     "data": {
      "text/plain": [
       "(10, 20, 30)"
      ]
     },
     "execution_count": 6,
     "metadata": {},
     "output_type": "execute_result"
    }
   ],
   "source": [
    "(10, 20, 30)"
   ]
  },
  {
   "cell_type": "code",
   "execution_count": null,
   "metadata": {},
   "outputs": [],
   "source": [
    "a = "
   ]
  }
 ],
 "metadata": {
  "kernelspec": {
   "display_name": "Python 3",
   "language": "python",
   "name": "python3"
  },
  "language_info": {
   "codemirror_mode": {
    "name": "ipython",
    "version": 3
   },
   "file_extension": ".py",
   "mimetype": "text/x-python",
   "name": "python",
   "nbconvert_exporter": "python",
   "pygments_lexer": "ipython3",
   "version": "3.7.2"
  }
 },
 "nbformat": 4,
 "nbformat_minor": 2
}
