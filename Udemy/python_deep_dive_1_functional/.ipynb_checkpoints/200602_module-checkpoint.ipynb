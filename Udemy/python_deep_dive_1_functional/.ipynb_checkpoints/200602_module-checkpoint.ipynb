{
 "cells": [
  {
   "cell_type": "markdown",
   "metadata": {},
   "source": [
    "# What is a module?\n"
   ]
  },
  {
   "cell_type": "code",
   "execution_count": 1,
   "metadata": {},
   "outputs": [],
   "source": [
    "def func():\n",
    "    a = 10\n",
    "    return a"
   ]
  },
  {
   "cell_type": "code",
   "execution_count": 2,
   "metadata": {},
   "outputs": [
    {
     "data": {
      "text/plain": [
       "<function __main__.func()>"
      ]
     },
     "execution_count": 2,
     "metadata": {},
     "output_type": "execute_result"
    }
   ],
   "source": [
    "func"
   ]
  },
  {
   "cell_type": "code",
   "execution_count": 3,
   "metadata": {},
   "outputs": [],
   "source": [
    "# this is on main module"
   ]
  },
  {
   "cell_type": "code",
   "execution_count": 4,
   "metadata": {},
   "outputs": [
    {
     "data": {
      "text/plain": [
       "4476349568"
      ]
     },
     "execution_count": 4,
     "metadata": {},
     "output_type": "execute_result"
    }
   ],
   "source": [
    "id(func)"
   ]
  },
  {
   "cell_type": "code",
   "execution_count": 5,
   "metadata": {},
   "outputs": [],
   "source": [
    "# namespace that holds "
   ]
  },
  {
   "cell_type": "code",
   "execution_count": 7,
   "metadata": {},
   "outputs": [
    {
     "data": {
      "text/plain": [
       "{'__name__': '__main__',\n",
       " '__doc__': 'Automatically created module for IPython interactive environment',\n",
       " '__package__': None,\n",
       " '__loader__': None,\n",
       " '__spec__': None,\n",
       " '__builtin__': <module 'builtins' (built-in)>,\n",
       " '__builtins__': <module 'builtins' (built-in)>,\n",
       " '_ih': ['',\n",
       "  'def func():\\n    a = 10\\n    return a',\n",
       "  'func',\n",
       "  '# this is on main module',\n",
       "  'id(func)',\n",
       "  '# namespace that holds ',\n",
       "  'globals',\n",
       "  'globals()'],\n",
       " '_oh': {2: <function __main__.func()>,\n",
       "  4: 4476349568,\n",
       "  6: <function globals()>},\n",
       " '_dh': ['/Users/a1101256/git/kadensungbincho/Online_Lectures/Udemy/python_deep_dive_1_functional'],\n",
       " 'In': ['',\n",
       "  'def func():\\n    a = 10\\n    return a',\n",
       "  'func',\n",
       "  '# this is on main module',\n",
       "  'id(func)',\n",
       "  '# namespace that holds ',\n",
       "  'globals',\n",
       "  'globals()'],\n",
       " 'Out': {2: <function __main__.func()>,\n",
       "  4: 4476349568,\n",
       "  6: <function globals()>},\n",
       " 'get_ipython': <bound method InteractiveShell.get_ipython of <ipykernel.zmqshell.ZMQInteractiveShell object at 0x10a826b70>>,\n",
       " 'exit': <IPython.core.autocall.ZMQExitAutocall at 0x10ad43588>,\n",
       " 'quit': <IPython.core.autocall.ZMQExitAutocall at 0x10ad43588>,\n",
       " '_': <function globals()>,\n",
       " '__': 4476349568,\n",
       " '___': <function __main__.func()>,\n",
       " '_i': 'globals',\n",
       " '_ii': '# namespace that holds ',\n",
       " '_iii': 'id(func)',\n",
       " '_i1': 'def func():\\n    a = 10\\n    return a',\n",
       " 'func': <function __main__.func()>,\n",
       " '_i2': 'func',\n",
       " '_2': <function __main__.func()>,\n",
       " '_i3': '# this is on main module',\n",
       " '_i4': 'id(func)',\n",
       " '_4': 4476349568,\n",
       " '_i5': '# namespace that holds ',\n",
       " '_i6': 'globals',\n",
       " '_6': <function globals()>,\n",
       " '_i7': 'globals()'}"
      ]
     },
     "execution_count": 7,
     "metadata": {},
     "output_type": "execute_result"
    }
   ],
   "source": [
    "globals()"
   ]
  },
  {
   "cell_type": "code",
   "execution_count": 8,
   "metadata": {},
   "outputs": [],
   "source": [
    "f = globals()['func']"
   ]
  },
  {
   "cell_type": "code",
   "execution_count": 9,
   "metadata": {},
   "outputs": [
    {
     "data": {
      "text/plain": [
       "True"
      ]
     },
     "execution_count": 9,
     "metadata": {},
     "output_type": "execute_result"
    }
   ],
   "source": [
    "f is func"
   ]
  },
  {
   "cell_type": "code",
   "execution_count": 10,
   "metadata": {},
   "outputs": [
    {
     "data": {
      "text/plain": [
       "10"
      ]
     },
     "execution_count": 10,
     "metadata": {},
     "output_type": "execute_result"
    }
   ],
   "source": [
    "f()"
   ]
  },
  {
   "cell_type": "code",
   "execution_count": 1,
   "metadata": {},
   "outputs": [
    {
     "data": {
      "text/plain": [
       "True"
      ]
     },
     "execution_count": 1,
     "metadata": {},
     "output_type": "execute_result"
    }
   ],
   "source": [
    "locals() is globals()"
   ]
  },
  {
   "cell_type": "code",
   "execution_count": 2,
   "metadata": {},
   "outputs": [],
   "source": [
    "import sys"
   ]
  },
  {
   "cell_type": "code",
   "execution_count": 3,
   "metadata": {},
   "outputs": [
    {
     "data": {
      "text/plain": [
       "{'sys': <module 'sys' (built-in)>,\n",
       " 'builtins': <module 'builtins' (built-in)>,\n",
       " '_frozen_importlib': <module 'importlib._bootstrap' (frozen)>,\n",
       " '_imp': <module '_imp' (built-in)>,\n",
       " '_thread': <module '_thread' (built-in)>,\n",
       " '_warnings': <module '_warnings' (built-in)>,\n",
       " '_weakref': <module '_weakref' (built-in)>,\n",
       " 'zipimport': <module 'zipimport' (built-in)>,\n",
       " '_frozen_importlib_external': <module 'importlib._bootstrap_external' (frozen)>,\n",
       " '_io': <module 'io' (built-in)>,\n",
       " 'marshal': <module 'marshal' (built-in)>,\n",
       " 'posix': <module 'posix' (built-in)>,\n",
       " 'encodings': <module 'encodings' from '/Users/a1101256/.pyenv/versions/3.7.2/lib/python3.7/encodings/__init__.py'>,\n",
       " 'codecs': <module 'codecs' from '/Users/a1101256/.pyenv/versions/3.7.2/lib/python3.7/codecs.py'>,\n",
       " '_codecs': <module '_codecs' (built-in)>,\n",
       " 'encodings.aliases': <module 'encodings.aliases' from '/Users/a1101256/.pyenv/versions/3.7.2/lib/python3.7/encodings/aliases.py'>,\n",
       " 'encodings.utf_8': <module 'encodings.utf_8' from '/Users/a1101256/.pyenv/versions/3.7.2/lib/python3.7/encodings/utf_8.py'>,\n",
       " '_signal': <module '_signal' (built-in)>,\n",
       " '__main__': <module '__main__'>,\n",
       " 'encodings.latin_1': <module 'encodings.latin_1' from '/Users/a1101256/.pyenv/versions/3.7.2/lib/python3.7/encodings/latin_1.py'>,\n",
       " 'io': <module 'io' from '/Users/a1101256/.pyenv/versions/3.7.2/lib/python3.7/io.py'>,\n",
       " 'abc': <module 'abc' from '/Users/a1101256/.pyenv/versions/3.7.2/lib/python3.7/abc.py'>,\n",
       " '_abc': <module '_abc' (built-in)>,\n",
       " '_bootlocale': <module '_bootlocale' from '/Users/a1101256/.pyenv/versions/3.7.2/lib/python3.7/_bootlocale.py'>,\n",
       " '_locale': <module '_locale' (built-in)>,\n",
       " 'site': <module 'site' from '/Users/a1101256/.pyenv/versions/3.7.2/lib/python3.7/site.py'>,\n",
       " 'os': <module 'os' from '/Users/a1101256/.pyenv/versions/3.7.2/lib/python3.7/os.py'>,\n",
       " 'stat': <module 'stat' from '/Users/a1101256/.pyenv/versions/3.7.2/lib/python3.7/stat.py'>,\n",
       " '_stat': <module '_stat' (built-in)>,\n",
       " 'posixpath': <module 'posixpath' from '/Users/a1101256/.pyenv/versions/3.7.2/lib/python3.7/posixpath.py'>,\n",
       " 'genericpath': <module 'genericpath' from '/Users/a1101256/.pyenv/versions/3.7.2/lib/python3.7/genericpath.py'>,\n",
       " 'os.path': <module 'posixpath' from '/Users/a1101256/.pyenv/versions/3.7.2/lib/python3.7/posixpath.py'>,\n",
       " '_collections_abc': <module '_collections_abc' from '/Users/a1101256/.pyenv/versions/3.7.2/lib/python3.7/_collections_abc.py'>,\n",
       " '_sitebuiltins': <module '_sitebuiltins' from '/Users/a1101256/.pyenv/versions/3.7.2/lib/python3.7/_sitebuiltins.py'>,\n",
       " 'runpy': <module 'runpy' from '/Users/a1101256/.pyenv/versions/3.7.2/lib/python3.7/runpy.py'>,\n",
       " 'importlib': <module 'importlib' from '/Users/a1101256/.pyenv/versions/3.7.2/lib/python3.7/importlib/__init__.py'>,\n",
       " 'importlib._bootstrap': <module 'importlib._bootstrap' (frozen)>,\n",
       " 'importlib._bootstrap_external': <module 'importlib._bootstrap_external' (frozen)>,\n",
       " 'types': <module 'types' from '/Users/a1101256/.pyenv/versions/3.7.2/lib/python3.7/types.py'>,\n",
       " 'warnings': <module 'warnings' from '/Users/a1101256/.pyenv/versions/3.7.2/lib/python3.7/warnings.py'>,\n",
       " 'importlib.machinery': <module 'importlib.machinery' from '/Users/a1101256/.pyenv/versions/3.7.2/lib/python3.7/importlib/machinery.py'>,\n",
       " 'importlib.util': <module 'importlib.util' from '/Users/a1101256/.pyenv/versions/3.7.2/lib/python3.7/importlib/util.py'>,\n",
       " 'importlib.abc': <module 'importlib.abc' from '/Users/a1101256/.pyenv/versions/3.7.2/lib/python3.7/importlib/abc.py'>,\n",
       " 'contextlib': <module 'contextlib' from '/Users/a1101256/.pyenv/versions/3.7.2/lib/python3.7/contextlib.py'>,\n",
       " 'collections': <module 'collections' from '/Users/a1101256/.pyenv/versions/3.7.2/lib/python3.7/collections/__init__.py'>,\n",
       " 'operator': <module 'operator' from '/Users/a1101256/.pyenv/versions/3.7.2/lib/python3.7/operator.py'>,\n",
       " '_operator': <module '_operator' (built-in)>,\n",
       " 'keyword': <module 'keyword' from '/Users/a1101256/.pyenv/versions/3.7.2/lib/python3.7/keyword.py'>,\n",
       " 'heapq': <module 'heapq' from '/Users/a1101256/.pyenv/versions/3.7.2/lib/python3.7/heapq.py'>,\n",
       " '_heapq': <module '_heapq' from '/Users/a1101256/.pyenv/versions/3.7.2/lib/python3.7/lib-dynload/_heapq.cpython-37m-darwin.so'>,\n",
       " 'itertools': <module 'itertools' (built-in)>,\n",
       " 'reprlib': <module 'reprlib' from '/Users/a1101256/.pyenv/versions/3.7.2/lib/python3.7/reprlib.py'>,\n",
       " '_collections': <module '_collections' (built-in)>,\n",
       " 'functools': <module 'functools' from '/Users/a1101256/.pyenv/versions/3.7.2/lib/python3.7/functools.py'>,\n",
       " '_functools': <module '_functools' (built-in)>,\n",
       " 'pkgutil': <module 'pkgutil' from '/Users/a1101256/.pyenv/versions/3.7.2/lib/python3.7/pkgutil.py'>,\n",
       " 'weakref': <module 'weakref' from '/Users/a1101256/.pyenv/versions/3.7.2/lib/python3.7/weakref.py'>,\n",
       " '_weakrefset': <module '_weakrefset' from '/Users/a1101256/.pyenv/versions/3.7.2/lib/python3.7/_weakrefset.py'>,\n",
       " 'ipykernel': <module 'ipykernel' from '/Users/a1101256/.pyenv/versions/3.7.2/lib/python3.7/site-packages/ipykernel/__init__.py'>,\n",
       " 'ipykernel._version': <module 'ipykernel._version' from '/Users/a1101256/.pyenv/versions/3.7.2/lib/python3.7/site-packages/ipykernel/_version.py'>,\n",
       " 'ipykernel.connect': <module 'ipykernel.connect' from '/Users/a1101256/.pyenv/versions/3.7.2/lib/python3.7/site-packages/ipykernel/connect.py'>,\n",
       " '__future__': <module '__future__' from '/Users/a1101256/.pyenv/versions/3.7.2/lib/python3.7/__future__.py'>,\n",
       " 'json': <module 'json' from '/Users/a1101256/.pyenv/versions/3.7.2/lib/python3.7/json/__init__.py'>,\n",
       " 'json.decoder': <module 'json.decoder' from '/Users/a1101256/.pyenv/versions/3.7.2/lib/python3.7/json/decoder.py'>,\n",
       " 're': <module 're' from '/Users/a1101256/.pyenv/versions/3.7.2/lib/python3.7/re.py'>,\n",
       " 'enum': <module 'enum' from '/Users/a1101256/.pyenv/versions/3.7.2/lib/python3.7/enum.py'>,\n",
       " 'sre_compile': <module 'sre_compile' from '/Users/a1101256/.pyenv/versions/3.7.2/lib/python3.7/sre_compile.py'>,\n",
       " '_sre': <module '_sre' (built-in)>,\n",
       " 'sre_parse': <module 'sre_parse' from '/Users/a1101256/.pyenv/versions/3.7.2/lib/python3.7/sre_parse.py'>,\n",
       " 'sre_constants': <module 'sre_constants' from '/Users/a1101256/.pyenv/versions/3.7.2/lib/python3.7/sre_constants.py'>,\n",
       " 'copyreg': <module 'copyreg' from '/Users/a1101256/.pyenv/versions/3.7.2/lib/python3.7/copyreg.py'>,\n",
       " 'json.scanner': <module 'json.scanner' from '/Users/a1101256/.pyenv/versions/3.7.2/lib/python3.7/json/scanner.py'>,\n",
       " '_json': <module '_json' from '/Users/a1101256/.pyenv/versions/3.7.2/lib/python3.7/lib-dynload/_json.cpython-37m-darwin.so'>,\n",
       " 'json.encoder': <module 'json.encoder' from '/Users/a1101256/.pyenv/versions/3.7.2/lib/python3.7/json/encoder.py'>,\n",
       " 'subprocess': <module 'subprocess' from '/Users/a1101256/.pyenv/versions/3.7.2/lib/python3.7/subprocess.py'>,\n",
       " 'time': <module 'time' (built-in)>,\n",
       " 'signal': <module 'signal' from '/Users/a1101256/.pyenv/versions/3.7.2/lib/python3.7/signal.py'>,\n",
       " 'errno': <module 'errno' (built-in)>,\n",
       " '_posixsubprocess': <module '_posixsubprocess' from '/Users/a1101256/.pyenv/versions/3.7.2/lib/python3.7/lib-dynload/_posixsubprocess.cpython-37m-darwin.so'>,\n",
       " 'select': <module 'select' from '/Users/a1101256/.pyenv/versions/3.7.2/lib/python3.7/lib-dynload/select.cpython-37m-darwin.so'>,\n",
       " 'selectors': <module 'selectors' from '/Users/a1101256/.pyenv/versions/3.7.2/lib/python3.7/selectors.py'>,\n",
       " 'collections.abc': <module 'collections.abc' from '/Users/a1101256/.pyenv/versions/3.7.2/lib/python3.7/collections/abc.py'>,\n",
       " 'math': <module 'math' from '/Users/a1101256/.pyenv/versions/3.7.2/lib/python3.7/lib-dynload/math.cpython-37m-darwin.so'>,\n",
       " 'threading': <module 'threading' from '/Users/a1101256/.pyenv/versions/3.7.2/lib/python3.7/threading.py'>,\n",
       " 'traceback': <module 'traceback' from '/Users/a1101256/.pyenv/versions/3.7.2/lib/python3.7/traceback.py'>,\n",
       " 'linecache': <module 'linecache' from '/Users/a1101256/.pyenv/versions/3.7.2/lib/python3.7/linecache.py'>,\n",
       " 'tokenize': <module 'tokenize' from '/Users/a1101256/.pyenv/versions/3.7.2/lib/python3.7/tokenize.py'>,\n",
       " 'token': <module 'token' from '/Users/a1101256/.pyenv/versions/3.7.2/lib/python3.7/token.py'>,\n",
       " 'IPython': <module 'IPython' from '/Users/a1101256/.pyenv/versions/3.7.2/lib/python3.7/site-packages/IPython/__init__.py'>,\n",
       " 'IPython.core': <module 'IPython.core' from '/Users/a1101256/.pyenv/versions/3.7.2/lib/python3.7/site-packages/IPython/core/__init__.py'>,\n",
       " 'IPython.core.getipython': <module 'IPython.core.getipython' from '/Users/a1101256/.pyenv/versions/3.7.2/lib/python3.7/site-packages/IPython/core/getipython.py'>,\n",
       " 'IPython.core.release': <module 'IPython.core.release' from '/Users/a1101256/.pyenv/versions/3.7.2/lib/python3.7/site-packages/IPython/core/release.py'>,\n",
       " 'IPython.core.application': <module 'IPython.core.application' from '/Users/a1101256/.pyenv/versions/3.7.2/lib/python3.7/site-packages/IPython/core/application.py'>,\n",
       " 'atexit': <module 'atexit' (built-in)>,\n",
       " 'copy': <module 'copy' from '/Users/a1101256/.pyenv/versions/3.7.2/lib/python3.7/copy.py'>,\n",
       " 'glob': <module 'glob' from '/Users/a1101256/.pyenv/versions/3.7.2/lib/python3.7/glob.py'>,\n",
       " 'fnmatch': <module 'fnmatch' from '/Users/a1101256/.pyenv/versions/3.7.2/lib/python3.7/fnmatch.py'>,\n",
       " 'logging': <module 'logging' from '/Users/a1101256/.pyenv/versions/3.7.2/lib/python3.7/logging/__init__.py'>,\n",
       " 'string': <module 'string' from '/Users/a1101256/.pyenv/versions/3.7.2/lib/python3.7/string.py'>,\n",
       " '_string': <module '_string' (built-in)>,\n",
       " 'shutil': <module 'shutil' from '/Users/a1101256/.pyenv/versions/3.7.2/lib/python3.7/shutil.py'>,\n",
       " 'zlib': <module 'zlib' from '/Users/a1101256/.pyenv/versions/3.7.2/lib/python3.7/lib-dynload/zlib.cpython-37m-darwin.so'>,\n",
       " 'bz2': <module 'bz2' from '/Users/a1101256/.pyenv/versions/3.7.2/lib/python3.7/bz2.py'>,\n",
       " '_compression': <module '_compression' from '/Users/a1101256/.pyenv/versions/3.7.2/lib/python3.7/_compression.py'>,\n",
       " '_bz2': <module '_bz2' from '/Users/a1101256/.pyenv/versions/3.7.2/lib/python3.7/lib-dynload/_bz2.cpython-37m-darwin.so'>,\n",
       " 'pwd': <module 'pwd' (built-in)>,\n",
       " 'grp': <module 'grp' from '/Users/a1101256/.pyenv/versions/3.7.2/lib/python3.7/lib-dynload/grp.cpython-37m-darwin.so'>,\n",
       " 'traitlets': <module 'traitlets' from '/Users/a1101256/.pyenv/versions/3.7.2/lib/python3.7/site-packages/traitlets/__init__.py'>,\n",
       " 'traitlets.traitlets': <module 'traitlets.traitlets' from '/Users/a1101256/.pyenv/versions/3.7.2/lib/python3.7/site-packages/traitlets/traitlets.py'>,\n",
       " 'inspect': <module 'inspect' from '/Users/a1101256/.pyenv/versions/3.7.2/lib/python3.7/inspect.py'>,\n",
       " 'dis': <module 'dis' from '/Users/a1101256/.pyenv/versions/3.7.2/lib/python3.7/dis.py'>,\n",
       " 'opcode': <module 'opcode' from '/Users/a1101256/.pyenv/versions/3.7.2/lib/python3.7/opcode.py'>,\n",
       " '_opcode': <module '_opcode' from '/Users/a1101256/.pyenv/versions/3.7.2/lib/python3.7/lib-dynload/_opcode.cpython-37m-darwin.so'>,\n",
       " 'six': <module 'six' from '/Users/a1101256/.pyenv/versions/3.7.2/lib/python3.7/site-packages/six.py'>,\n",
       " 'struct': <module 'struct' from '/Users/a1101256/.pyenv/versions/3.7.2/lib/python3.7/struct.py'>,\n",
       " '_struct': <module '_struct' from '/Users/a1101256/.pyenv/versions/3.7.2/lib/python3.7/lib-dynload/_struct.cpython-37m-darwin.so'>,\n",
       " 'traitlets.utils': <module 'traitlets.utils' from '/Users/a1101256/.pyenv/versions/3.7.2/lib/python3.7/site-packages/traitlets/utils/__init__.py'>,\n",
       " 'traitlets.utils.getargspec': <module 'traitlets.utils.getargspec' from '/Users/a1101256/.pyenv/versions/3.7.2/lib/python3.7/site-packages/traitlets/utils/getargspec.py'>,\n",
       " 'traitlets.utils.importstring': <module 'traitlets.utils.importstring' from '/Users/a1101256/.pyenv/versions/3.7.2/lib/python3.7/site-packages/traitlets/utils/importstring.py'>,\n",
       " 'ipython_genutils': <module 'ipython_genutils' from '/Users/a1101256/.pyenv/versions/3.7.2/lib/python3.7/site-packages/ipython_genutils/__init__.py'>,\n",
       " 'ipython_genutils._version': <module 'ipython_genutils._version' from '/Users/a1101256/.pyenv/versions/3.7.2/lib/python3.7/site-packages/ipython_genutils/_version.py'>,\n",
       " 'ipython_genutils.py3compat': <module 'ipython_genutils.py3compat' from '/Users/a1101256/.pyenv/versions/3.7.2/lib/python3.7/site-packages/ipython_genutils/py3compat.py'>,\n",
       " 'ipython_genutils.encoding': <module 'ipython_genutils.encoding' from '/Users/a1101256/.pyenv/versions/3.7.2/lib/python3.7/site-packages/ipython_genutils/encoding.py'>,\n",
       " 'locale': <module 'locale' from '/Users/a1101256/.pyenv/versions/3.7.2/lib/python3.7/locale.py'>,\n",
       " 'platform': <module 'platform' from '/Users/a1101256/.pyenv/versions/3.7.2/lib/python3.7/platform.py'>,\n",
       " 'traitlets.utils.sentinel': <module 'traitlets.utils.sentinel' from '/Users/a1101256/.pyenv/versions/3.7.2/lib/python3.7/site-packages/traitlets/utils/sentinel.py'>,\n",
       " 'traitlets.utils.bunch': <module 'traitlets.utils.bunch' from '/Users/a1101256/.pyenv/versions/3.7.2/lib/python3.7/site-packages/traitlets/utils/bunch.py'>,\n",
       " 'traitlets._version': <module 'traitlets._version' from '/Users/a1101256/.pyenv/versions/3.7.2/lib/python3.7/site-packages/traitlets/_version.py'>,\n",
       " 'traitlets.config': <module 'traitlets.config' from '/Users/a1101256/.pyenv/versions/3.7.2/lib/python3.7/site-packages/traitlets/config/__init__.py'>,\n",
       " 'traitlets.config.application': <module 'traitlets.config.application' from '/Users/a1101256/.pyenv/versions/3.7.2/lib/python3.7/site-packages/traitlets/config/application.py'>,\n",
       " 'decorator': <module 'decorator' from '/Users/a1101256/.pyenv/versions/3.7.2/lib/python3.7/site-packages/decorator.py'>,\n",
       " 'traitlets.config.configurable': <module 'traitlets.config.configurable' from '/Users/a1101256/.pyenv/versions/3.7.2/lib/python3.7/site-packages/traitlets/config/configurable.py'>,\n",
       " 'traitlets.config.loader': <module 'traitlets.config.loader' from '/Users/a1101256/.pyenv/versions/3.7.2/lib/python3.7/site-packages/traitlets/config/loader.py'>,\n",
       " 'argparse': <module 'argparse' from '/Users/a1101256/.pyenv/versions/3.7.2/lib/python3.7/argparse.py'>,\n",
       " 'gettext': <module 'gettext' from '/Users/a1101256/.pyenv/versions/3.7.2/lib/python3.7/gettext.py'>,\n",
       " 'ast': <module 'ast' from '/Users/a1101256/.pyenv/versions/3.7.2/lib/python3.7/ast.py'>,\n",
       " '_ast': <module '_ast' (built-in)>,\n",
       " 'ipython_genutils.path': <module 'ipython_genutils.path' from '/Users/a1101256/.pyenv/versions/3.7.2/lib/python3.7/site-packages/ipython_genutils/path.py'>,\n",
       " 'random': <module 'random' from '/Users/a1101256/.pyenv/versions/3.7.2/lib/python3.7/random.py'>,\n",
       " 'hashlib': <module 'hashlib' from '/Users/a1101256/.pyenv/versions/3.7.2/lib/python3.7/hashlib.py'>,\n",
       " '_hashlib': <module '_hashlib' from '/Users/a1101256/.pyenv/versions/3.7.2/lib/python3.7/lib-dynload/_hashlib.cpython-37m-darwin.so'>,\n",
       " '_blake2': <module '_blake2' from '/Users/a1101256/.pyenv/versions/3.7.2/lib/python3.7/lib-dynload/_blake2.cpython-37m-darwin.so'>,\n",
       " '_sha3': <module '_sha3' from '/Users/a1101256/.pyenv/versions/3.7.2/lib/python3.7/lib-dynload/_sha3.cpython-37m-darwin.so'>,\n",
       " 'bisect': <module 'bisect' from '/Users/a1101256/.pyenv/versions/3.7.2/lib/python3.7/bisect.py'>,\n",
       " '_bisect': <module '_bisect' from '/Users/a1101256/.pyenv/versions/3.7.2/lib/python3.7/lib-dynload/_bisect.cpython-37m-darwin.so'>,\n",
       " '_random': <module '_random' from '/Users/a1101256/.pyenv/versions/3.7.2/lib/python3.7/lib-dynload/_random.cpython-37m-darwin.so'>,\n",
       " 'ipython_genutils.text': <module 'ipython_genutils.text' from '/Users/a1101256/.pyenv/versions/3.7.2/lib/python3.7/site-packages/ipython_genutils/text.py'>,\n",
       " 'textwrap': <module 'textwrap' from '/Users/a1101256/.pyenv/versions/3.7.2/lib/python3.7/textwrap.py'>,\n",
       " 'ipython_genutils.importstring': <module 'ipython_genutils.importstring' from '/Users/a1101256/.pyenv/versions/3.7.2/lib/python3.7/site-packages/ipython_genutils/importstring.py'>,\n",
       " 'IPython.core.crashhandler': <module 'IPython.core.crashhandler' from '/Users/a1101256/.pyenv/versions/3.7.2/lib/python3.7/site-packages/IPython/core/crashhandler.py'>,\n",
       " 'pprint': <module 'pprint' from '/Users/a1101256/.pyenv/versions/3.7.2/lib/python3.7/pprint.py'>,\n",
       " 'IPython.core.ultratb': <module 'IPython.core.ultratb' from '/Users/a1101256/.pyenv/versions/3.7.2/lib/python3.7/site-packages/IPython/core/ultratb.py'>,\n",
       " 'pydoc': <module 'pydoc' from '/Users/a1101256/.pyenv/versions/3.7.2/lib/python3.7/pydoc.py'>,\n",
       " 'urllib': <module 'urllib' from '/Users/a1101256/.pyenv/versions/3.7.2/lib/python3.7/urllib/__init__.py'>,\n",
       " 'urllib.parse': <module 'urllib.parse' from '/Users/a1101256/.pyenv/versions/3.7.2/lib/python3.7/urllib/parse.py'>,\n",
       " 'IPython.core.debugger': <module 'IPython.core.debugger' from '/Users/a1101256/.pyenv/versions/3.7.2/lib/python3.7/site-packages/IPython/core/debugger.py'>,\n",
       " 'bdb': <module 'bdb' from '/Users/a1101256/.pyenv/versions/3.7.2/lib/python3.7/bdb.py'>,\n",
       " 'IPython.utils': <module 'IPython.utils' from '/Users/a1101256/.pyenv/versions/3.7.2/lib/python3.7/site-packages/IPython/utils/__init__.py'>,\n",
       " 'IPython.utils.PyColorize': <module 'IPython.utils.PyColorize' from '/Users/a1101256/.pyenv/versions/3.7.2/lib/python3.7/site-packages/IPython/utils/PyColorize.py'>,\n",
       " 'IPython.utils.coloransi': <module 'IPython.utils.coloransi' from '/Users/a1101256/.pyenv/versions/3.7.2/lib/python3.7/site-packages/IPython/utils/coloransi.py'>,\n",
       " 'IPython.utils.ipstruct': <module 'IPython.utils.ipstruct' from '/Users/a1101256/.pyenv/versions/3.7.2/lib/python3.7/site-packages/IPython/utils/ipstruct.py'>,\n",
       " 'IPython.utils.colorable': <module 'IPython.utils.colorable' from '/Users/a1101256/.pyenv/versions/3.7.2/lib/python3.7/site-packages/IPython/utils/colorable.py'>,\n",
       " 'pygments': <module 'pygments' from '/Users/a1101256/.pyenv/versions/3.7.2/lib/python3.7/site-packages/pygments/__init__.py'>,\n",
       " 'pygments.util': <module 'pygments.util' from '/Users/a1101256/.pyenv/versions/3.7.2/lib/python3.7/site-packages/pygments/util.py'>,\n",
       " 'IPython.utils.py3compat': <module 'IPython.utils.py3compat' from '/Users/a1101256/.pyenv/versions/3.7.2/lib/python3.7/site-packages/IPython/utils/py3compat.py'>,\n",
       " 'IPython.utils.encoding': <module 'IPython.utils.encoding' from '/Users/a1101256/.pyenv/versions/3.7.2/lib/python3.7/site-packages/IPython/utils/encoding.py'>,\n",
       " 'IPython.core.excolors': <module 'IPython.core.excolors' from '/Users/a1101256/.pyenv/versions/3.7.2/lib/python3.7/site-packages/IPython/core/excolors.py'>,\n",
       " 'IPython.testing': <module 'IPython.testing' from '/Users/a1101256/.pyenv/versions/3.7.2/lib/python3.7/site-packages/IPython/testing/__init__.py'>,\n",
       " 'IPython.testing.skipdoctest': <module 'IPython.testing.skipdoctest' from '/Users/a1101256/.pyenv/versions/3.7.2/lib/python3.7/site-packages/IPython/testing/skipdoctest.py'>,\n",
       " 'pdb': <module 'pdb' from '/Users/a1101256/.pyenv/versions/3.7.2/lib/python3.7/pdb.py'>,\n",
       " 'cmd': <module 'cmd' from '/Users/a1101256/.pyenv/versions/3.7.2/lib/python3.7/cmd.py'>,\n",
       " 'code': <module 'code' from '/Users/a1101256/.pyenv/versions/3.7.2/lib/python3.7/code.py'>,\n",
       " 'codeop': <module 'codeop' from '/Users/a1101256/.pyenv/versions/3.7.2/lib/python3.7/codeop.py'>,\n",
       " 'IPython.core.display_trap': <module 'IPython.core.display_trap' from '/Users/a1101256/.pyenv/versions/3.7.2/lib/python3.7/site-packages/IPython/core/display_trap.py'>,\n",
       " 'IPython.utils.path': <module 'IPython.utils.path' from '/Users/a1101256/.pyenv/versions/3.7.2/lib/python3.7/site-packages/IPython/utils/path.py'>,\n",
       " 'IPython.utils.process': <module 'IPython.utils.process' from '/Users/a1101256/.pyenv/versions/3.7.2/lib/python3.7/site-packages/IPython/utils/process.py'>,\n",
       " 'IPython.utils._process_posix': <module 'IPython.utils._process_posix' from '/Users/a1101256/.pyenv/versions/3.7.2/lib/python3.7/site-packages/IPython/utils/_process_posix.py'>,\n",
       " 'pexpect': <module 'pexpect' from '/Users/a1101256/.pyenv/versions/3.7.2/lib/python3.7/site-packages/pexpect/__init__.py'>,\n",
       " 'pexpect.exceptions': <module 'pexpect.exceptions' from '/Users/a1101256/.pyenv/versions/3.7.2/lib/python3.7/site-packages/pexpect/exceptions.py'>,\n",
       " 'pexpect.utils': <module 'pexpect.utils' from '/Users/a1101256/.pyenv/versions/3.7.2/lib/python3.7/site-packages/pexpect/utils.py'>,\n",
       " 'pexpect.expect': <module 'pexpect.expect' from '/Users/a1101256/.pyenv/versions/3.7.2/lib/python3.7/site-packages/pexpect/expect.py'>,\n",
       " 'pexpect.pty_spawn': <module 'pexpect.pty_spawn' from '/Users/a1101256/.pyenv/versions/3.7.2/lib/python3.7/site-packages/pexpect/pty_spawn.py'>,\n",
       " 'pty': <module 'pty' from '/Users/a1101256/.pyenv/versions/3.7.2/lib/python3.7/pty.py'>,\n",
       " 'tty': <module 'tty' from '/Users/a1101256/.pyenv/versions/3.7.2/lib/python3.7/tty.py'>,\n",
       " 'termios': <module 'termios' from '/Users/a1101256/.pyenv/versions/3.7.2/lib/python3.7/lib-dynload/termios.cpython-37m-darwin.so'>,\n",
       " 'ptyprocess': <module 'ptyprocess' from '/Users/a1101256/.pyenv/versions/3.7.2/lib/python3.7/site-packages/ptyprocess/__init__.py'>,\n",
       " 'ptyprocess.ptyprocess': <module 'ptyprocess.ptyprocess' from '/Users/a1101256/.pyenv/versions/3.7.2/lib/python3.7/site-packages/ptyprocess/ptyprocess.py'>,\n",
       " 'fcntl': <module 'fcntl' from '/Users/a1101256/.pyenv/versions/3.7.2/lib/python3.7/lib-dynload/fcntl.cpython-37m-darwin.so'>,\n",
       " 'resource': <module 'resource' from '/Users/a1101256/.pyenv/versions/3.7.2/lib/python3.7/lib-dynload/resource.cpython-37m-darwin.so'>,\n",
       " 'ptyprocess.util': <module 'ptyprocess.util' from '/Users/a1101256/.pyenv/versions/3.7.2/lib/python3.7/site-packages/ptyprocess/util.py'>,\n",
       " 'pexpect.spawnbase': <module 'pexpect.spawnbase' from '/Users/a1101256/.pyenv/versions/3.7.2/lib/python3.7/site-packages/pexpect/spawnbase.py'>,\n",
       " 'pexpect.run': <module 'pexpect.run' from '/Users/a1101256/.pyenv/versions/3.7.2/lib/python3.7/site-packages/pexpect/run.py'>,\n",
       " 'IPython.utils._process_common': <module 'IPython.utils._process_common' from '/Users/a1101256/.pyenv/versions/3.7.2/lib/python3.7/site-packages/IPython/utils/_process_common.py'>,\n",
       " 'shlex': <module 'shlex' from '/Users/a1101256/.pyenv/versions/3.7.2/lib/python3.7/shlex.py'>,\n",
       " 'IPython.utils.decorators': <module 'IPython.utils.decorators' from '/Users/a1101256/.pyenv/versions/3.7.2/lib/python3.7/site-packages/IPython/utils/decorators.py'>,\n",
       " 'IPython.utils.data': <module 'IPython.utils.data' from '/Users/a1101256/.pyenv/versions/3.7.2/lib/python3.7/site-packages/IPython/utils/data.py'>,\n",
       " 'IPython.utils.terminal': <module 'IPython.utils.terminal' from '/Users/a1101256/.pyenv/versions/3.7.2/lib/python3.7/site-packages/IPython/utils/terminal.py'>,\n",
       " 'IPython.utils.sysinfo': <module 'IPython.utils.sysinfo' from '/Users/a1101256/.pyenv/versions/3.7.2/lib/python3.7/site-packages/IPython/utils/sysinfo.py'>,\n",
       " 'IPython.utils._sysinfo': <module 'IPython.utils._sysinfo' from '/Users/a1101256/.pyenv/versions/3.7.2/lib/python3.7/site-packages/IPython/utils/_sysinfo.py'>,\n",
       " 'IPython.core.profiledir': <module 'IPython.core.profiledir' from '/Users/a1101256/.pyenv/versions/3.7.2/lib/python3.7/site-packages/IPython/core/profiledir.py'>,\n",
       " 'IPython.paths': <module 'IPython.paths' from '/Users/a1101256/.pyenv/versions/3.7.2/lib/python3.7/site-packages/IPython/paths.py'>,\n",
       " 'tempfile': <module 'tempfile' from '/Users/a1101256/.pyenv/versions/3.7.2/lib/python3.7/tempfile.py'>,\n",
       " 'IPython.utils.importstring': <module 'IPython.utils.importstring' from '/Users/a1101256/.pyenv/versions/3.7.2/lib/python3.7/site-packages/IPython/utils/importstring.py'>,\n",
       " 'IPython.terminal': <module 'IPython.terminal' from '/Users/a1101256/.pyenv/versions/3.7.2/lib/python3.7/site-packages/IPython/terminal/__init__.py'>,\n",
       " 'IPython.terminal.embed': <module 'IPython.terminal.embed' from '/Users/a1101256/.pyenv/versions/3.7.2/lib/python3.7/site-packages/IPython/terminal/embed.py'>,\n",
       " 'IPython.core.compilerop': <module 'IPython.core.compilerop' from '/Users/a1101256/.pyenv/versions/3.7.2/lib/python3.7/site-packages/IPython/core/compilerop.py'>,\n",
       " 'IPython.core.magic_arguments': <module 'IPython.core.magic_arguments' from '/Users/a1101256/.pyenv/versions/3.7.2/lib/python3.7/site-packages/IPython/core/magic_arguments.py'>,\n",
       " 'IPython.core.error': <module 'IPython.core.error' from '/Users/a1101256/.pyenv/versions/3.7.2/lib/python3.7/site-packages/IPython/core/error.py'>,\n",
       " 'IPython.utils.text': <module 'IPython.utils.text' from '/Users/a1101256/.pyenv/versions/3.7.2/lib/python3.7/site-packages/IPython/utils/text.py'>,\n",
       " 'pathlib': <module 'pathlib' from '/Users/a1101256/.pyenv/versions/3.7.2/lib/python3.7/pathlib.py'>,\n",
       " 'ntpath': <module 'ntpath' from '/Users/a1101256/.pyenv/versions/3.7.2/lib/python3.7/ntpath.py'>,\n",
       " 'IPython.core.magic': <module 'IPython.core.magic' from '/Users/a1101256/.pyenv/versions/3.7.2/lib/python3.7/site-packages/IPython/core/magic.py'>,\n",
       " 'getopt': <module 'getopt' from '/Users/a1101256/.pyenv/versions/3.7.2/lib/python3.7/getopt.py'>,\n",
       " 'IPython.core.oinspect': <module 'IPython.core.oinspect' from '/Users/a1101256/.pyenv/versions/3.7.2/lib/python3.7/site-packages/IPython/core/oinspect.py'>,\n",
       " 'IPython.core.page': <module 'IPython.core.page' from '/Users/a1101256/.pyenv/versions/3.7.2/lib/python3.7/site-packages/IPython/core/page.py'>,\n",
       " 'IPython.core.display': <module 'IPython.core.display' from '/Users/a1101256/.pyenv/versions/3.7.2/lib/python3.7/site-packages/IPython/core/display.py'>,\n",
       " 'binascii': <module 'binascii' from '/Users/a1101256/.pyenv/versions/3.7.2/lib/python3.7/lib-dynload/binascii.cpython-37m-darwin.so'>,\n",
       " 'mimetypes': <module 'mimetypes' from '/Users/a1101256/.pyenv/versions/3.7.2/lib/python3.7/mimetypes.py'>,\n",
       " 'IPython.lib': <module 'IPython.lib' from '/Users/a1101256/.pyenv/versions/3.7.2/lib/python3.7/site-packages/IPython/lib/__init__.py'>,\n",
       " 'IPython.lib.security': <module 'IPython.lib.security' from '/Users/a1101256/.pyenv/versions/3.7.2/lib/python3.7/site-packages/IPython/lib/security.py'>,\n",
       " 'getpass': <module 'getpass' from '/Users/a1101256/.pyenv/versions/3.7.2/lib/python3.7/getpass.py'>,\n",
       " 'IPython.lib.pretty': <module 'IPython.lib.pretty' from '/Users/a1101256/.pyenv/versions/3.7.2/lib/python3.7/site-packages/IPython/lib/pretty.py'>,\n",
       " 'datetime': <module 'datetime' from '/Users/a1101256/.pyenv/versions/3.7.2/lib/python3.7/datetime.py'>,\n",
       " '_datetime': <module '_datetime' from '/Users/a1101256/.pyenv/versions/3.7.2/lib/python3.7/lib-dynload/_datetime.cpython-37m-darwin.so'>,\n",
       " 'IPython.utils.openpy': <module 'IPython.utils.openpy' from '/Users/a1101256/.pyenv/versions/3.7.2/lib/python3.7/site-packages/IPython/utils/openpy.py'>,\n",
       " 'IPython.utils.dir2': <module 'IPython.utils.dir2' from '/Users/a1101256/.pyenv/versions/3.7.2/lib/python3.7/site-packages/IPython/utils/dir2.py'>,\n",
       " 'IPython.utils.wildcard': <module 'IPython.utils.wildcard' from '/Users/a1101256/.pyenv/versions/3.7.2/lib/python3.7/site-packages/IPython/utils/wildcard.py'>,\n",
       " 'pygments.lexers': <module 'pygments.lexers' from '/Users/a1101256/.pyenv/versions/3.7.2/lib/python3.7/site-packages/pygments/lexers/__init__.py'>,\n",
       " 'pygments.lexers._mapping': <module 'pygments.lexers._mapping' from '/Users/a1101256/.pyenv/versions/3.7.2/lib/python3.7/site-packages/pygments/lexers/_mapping.py'>,\n",
       " 'pygments.modeline': <module 'pygments.modeline' from '/Users/a1101256/.pyenv/versions/3.7.2/lib/python3.7/site-packages/pygments/modeline.py'>,\n",
       " 'pygments.plugin': <module 'pygments.plugin' from '/Users/a1101256/.pyenv/versions/3.7.2/lib/python3.7/site-packages/pygments/plugin.py'>,\n",
       " 'pygments.lexers.python': <module 'pygments.lexers.python' from '/Users/a1101256/.pyenv/versions/3.7.2/lib/python3.7/site-packages/pygments/lexers/python.py'>,\n",
       " 'pygments.lexer': <module 'pygments.lexer' from '/Users/a1101256/.pyenv/versions/3.7.2/lib/python3.7/site-packages/pygments/lexer.py'>,\n",
       " 'pygments.filter': <module 'pygments.filter' from '/Users/a1101256/.pyenv/versions/3.7.2/lib/python3.7/site-packages/pygments/filter.py'>,\n",
       " 'pygments.filters': <module 'pygments.filters' from '/Users/a1101256/.pyenv/versions/3.7.2/lib/python3.7/site-packages/pygments/filters/__init__.py'>,\n",
       " 'pygments.token': <module 'pygments.token' from '/Users/a1101256/.pyenv/versions/3.7.2/lib/python3.7/site-packages/pygments/token.py'>,\n",
       " 'pygments.regexopt': <module 'pygments.regexopt' from '/Users/a1101256/.pyenv/versions/3.7.2/lib/python3.7/site-packages/pygments/regexopt.py'>,\n",
       " 'pygments.unistring': <module 'pygments.unistring' from '/Users/a1101256/.pyenv/versions/3.7.2/lib/python3.7/site-packages/pygments/unistring.py'>,\n",
       " 'pygments.formatters': <module 'pygments.formatters' from '/Users/a1101256/.pyenv/versions/3.7.2/lib/python3.7/site-packages/pygments/formatters/__init__.py'>,\n",
       " 'pygments.formatters._mapping': <module 'pygments.formatters._mapping' from '/Users/a1101256/.pyenv/versions/3.7.2/lib/python3.7/site-packages/pygments/formatters/_mapping.py'>,\n",
       " 'pygments.formatters.html': <module 'pygments.formatters.html' from '/Users/a1101256/.pyenv/versions/3.7.2/lib/python3.7/site-packages/pygments/formatters/html.py'>,\n",
       " 'pygments.formatter': <module 'pygments.formatter' from '/Users/a1101256/.pyenv/versions/3.7.2/lib/python3.7/site-packages/pygments/formatter.py'>,\n",
       " 'pygments.styles': <module 'pygments.styles' from '/Users/a1101256/.pyenv/versions/3.7.2/lib/python3.7/site-packages/pygments/styles/__init__.py'>,\n",
       " 'IPython.core.inputtransformer2': <module 'IPython.core.inputtransformer2' from '/Users/a1101256/.pyenv/versions/3.7.2/lib/python3.7/site-packages/IPython/core/inputtransformer2.py'>,\n",
       " 'typing': <module 'typing' from '/Users/a1101256/.pyenv/versions/3.7.2/lib/python3.7/typing.py'>,\n",
       " 'typing.io': typing.io,\n",
       " 'typing.re': typing.re,\n",
       " 'IPython.core.interactiveshell': <module 'IPython.core.interactiveshell' from '/Users/a1101256/.pyenv/versions/3.7.2/lib/python3.7/site-packages/IPython/core/interactiveshell.py'>,\n",
       " 'asyncio': <module 'asyncio' from '/Users/a1101256/.pyenv/versions/3.7.2/lib/python3.7/asyncio/__init__.py'>,\n",
       " 'asyncio.base_events': <module 'asyncio.base_events' from '/Users/a1101256/.pyenv/versions/3.7.2/lib/python3.7/asyncio/base_events.py'>,\n",
       " 'concurrent': <module 'concurrent' from '/Users/a1101256/.pyenv/versions/3.7.2/lib/python3.7/concurrent/__init__.py'>,\n",
       " 'concurrent.futures': <module 'concurrent.futures' from '/Users/a1101256/.pyenv/versions/3.7.2/lib/python3.7/concurrent/futures/__init__.py'>,\n",
       " 'concurrent.futures._base': <module 'concurrent.futures._base' from '/Users/a1101256/.pyenv/versions/3.7.2/lib/python3.7/concurrent/futures/_base.py'>,\n",
       " 'socket': <module 'socket' from '/Users/a1101256/.pyenv/versions/3.7.2/lib/python3.7/socket.py'>,\n",
       " '_socket': <module '_socket' from '/Users/a1101256/.pyenv/versions/3.7.2/lib/python3.7/lib-dynload/_socket.cpython-37m-darwin.so'>,\n",
       " 'ssl': <module 'ssl' from '/Users/a1101256/.pyenv/versions/3.7.2/lib/python3.7/ssl.py'>,\n",
       " '_ssl': <module '_ssl' from '/Users/a1101256/.pyenv/versions/3.7.2/lib/python3.7/lib-dynload/_ssl.cpython-37m-darwin.so'>,\n",
       " 'base64': <module 'base64' from '/Users/a1101256/.pyenv/versions/3.7.2/lib/python3.7/base64.py'>,\n",
       " 'asyncio.constants': <module 'asyncio.constants' from '/Users/a1101256/.pyenv/versions/3.7.2/lib/python3.7/asyncio/constants.py'>,\n",
       " 'asyncio.coroutines': <module 'asyncio.coroutines' from '/Users/a1101256/.pyenv/versions/3.7.2/lib/python3.7/asyncio/coroutines.py'>,\n",
       " 'asyncio.base_futures': <module 'asyncio.base_futures' from '/Users/a1101256/.pyenv/versions/3.7.2/lib/python3.7/asyncio/base_futures.py'>,\n",
       " 'asyncio.format_helpers': <module 'asyncio.format_helpers' from '/Users/a1101256/.pyenv/versions/3.7.2/lib/python3.7/asyncio/format_helpers.py'>,\n",
       " 'asyncio.log': <module 'asyncio.log' from '/Users/a1101256/.pyenv/versions/3.7.2/lib/python3.7/asyncio/log.py'>,\n",
       " 'asyncio.events': <module 'asyncio.events' from '/Users/a1101256/.pyenv/versions/3.7.2/lib/python3.7/asyncio/events.py'>,\n",
       " 'contextvars': <module 'contextvars' from '/Users/a1101256/.pyenv/versions/3.7.2/lib/python3.7/contextvars.py'>,\n",
       " '_contextvars': <module '_contextvars' from '/Users/a1101256/.pyenv/versions/3.7.2/lib/python3.7/lib-dynload/_contextvars.cpython-37m-darwin.so'>,\n",
       " 'asyncio.base_tasks': <module 'asyncio.base_tasks' from '/Users/a1101256/.pyenv/versions/3.7.2/lib/python3.7/asyncio/base_tasks.py'>,\n",
       " '_asyncio': <module '_asyncio' from '/Users/a1101256/.pyenv/versions/3.7.2/lib/python3.7/lib-dynload/_asyncio.cpython-37m-darwin.so'>,\n",
       " 'asyncio.futures': <module 'asyncio.futures' from '/Users/a1101256/.pyenv/versions/3.7.2/lib/python3.7/asyncio/futures.py'>,\n",
       " 'asyncio.protocols': <module 'asyncio.protocols' from '/Users/a1101256/.pyenv/versions/3.7.2/lib/python3.7/asyncio/protocols.py'>,\n",
       " 'asyncio.sslproto': <module 'asyncio.sslproto' from '/Users/a1101256/.pyenv/versions/3.7.2/lib/python3.7/asyncio/sslproto.py'>,\n",
       " 'asyncio.transports': <module 'asyncio.transports' from '/Users/a1101256/.pyenv/versions/3.7.2/lib/python3.7/asyncio/transports.py'>,\n",
       " 'asyncio.tasks': <module 'asyncio.tasks' from '/Users/a1101256/.pyenv/versions/3.7.2/lib/python3.7/asyncio/tasks.py'>,\n",
       " 'asyncio.locks': <module 'asyncio.locks' from '/Users/a1101256/.pyenv/versions/3.7.2/lib/python3.7/asyncio/locks.py'>,\n",
       " 'asyncio.runners': <module 'asyncio.runners' from '/Users/a1101256/.pyenv/versions/3.7.2/lib/python3.7/asyncio/runners.py'>,\n",
       " 'asyncio.queues': <module 'asyncio.queues' from '/Users/a1101256/.pyenv/versions/3.7.2/lib/python3.7/asyncio/queues.py'>,\n",
       " 'asyncio.streams': <module 'asyncio.streams' from '/Users/a1101256/.pyenv/versions/3.7.2/lib/python3.7/asyncio/streams.py'>,\n",
       " 'asyncio.subprocess': <module 'asyncio.subprocess' from '/Users/a1101256/.pyenv/versions/3.7.2/lib/python3.7/asyncio/subprocess.py'>,\n",
       " 'asyncio.unix_events': <module 'asyncio.unix_events' from '/Users/a1101256/.pyenv/versions/3.7.2/lib/python3.7/asyncio/unix_events.py'>,\n",
       " 'asyncio.base_subprocess': <module 'asyncio.base_subprocess' from '/Users/a1101256/.pyenv/versions/3.7.2/lib/python3.7/asyncio/base_subprocess.py'>,\n",
       " 'asyncio.selector_events': <module 'asyncio.selector_events' from '/Users/a1101256/.pyenv/versions/3.7.2/lib/python3.7/asyncio/selector_events.py'>,\n",
       " 'pickleshare': <module 'pickleshare' from '/Users/a1101256/.pyenv/versions/3.7.2/lib/python3.7/site-packages/pickleshare.py'>,\n",
       " 'pickle': <module 'pickle' from '/Users/a1101256/.pyenv/versions/3.7.2/lib/python3.7/pickle.py'>,\n",
       " '_compat_pickle': <module '_compat_pickle' from '/Users/a1101256/.pyenv/versions/3.7.2/lib/python3.7/_compat_pickle.py'>,\n",
       " '_pickle': <module '_pickle' from '/Users/a1101256/.pyenv/versions/3.7.2/lib/python3.7/lib-dynload/_pickle.cpython-37m-darwin.so'>,\n",
       " 'IPython.core.prefilter': <module 'IPython.core.prefilter' from '/Users/a1101256/.pyenv/versions/3.7.2/lib/python3.7/site-packages/IPython/core/prefilter.py'>,\n",
       " 'IPython.core.autocall': <module 'IPython.core.autocall' from '/Users/a1101256/.pyenv/versions/3.7.2/lib/python3.7/site-packages/IPython/core/autocall.py'>,\n",
       " 'IPython.core.macro': <module 'IPython.core.macro' from '/Users/a1101256/.pyenv/versions/3.7.2/lib/python3.7/site-packages/IPython/core/macro.py'>,\n",
       " 'IPython.core.splitinput': <module 'IPython.core.splitinput' from '/Users/a1101256/.pyenv/versions/3.7.2/lib/python3.7/site-packages/IPython/core/splitinput.py'>,\n",
       " 'IPython.core.alias': <module 'IPython.core.alias' from '/Users/a1101256/.pyenv/versions/3.7.2/lib/python3.7/site-packages/IPython/core/alias.py'>,\n",
       " 'IPython.core.builtin_trap': <module 'IPython.core.builtin_trap' from '/Users/a1101256/.pyenv/versions/3.7.2/lib/python3.7/site-packages/IPython/core/builtin_trap.py'>,\n",
       " 'IPython.core.events': <module 'IPython.core.events' from '/Users/a1101256/.pyenv/versions/3.7.2/lib/python3.7/site-packages/IPython/core/events.py'>,\n",
       " 'backcall': <module 'backcall' from '/Users/a1101256/.pyenv/versions/3.7.2/lib/python3.7/site-packages/backcall/__init__.py'>,\n",
       " 'backcall.backcall': <module 'backcall.backcall' from '/Users/a1101256/.pyenv/versions/3.7.2/lib/python3.7/site-packages/backcall/backcall.py'>,\n",
       " 'IPython.core.displayhook': <module 'IPython.core.displayhook' from '/Users/a1101256/.pyenv/versions/3.7.2/lib/python3.7/site-packages/IPython/core/displayhook.py'>,\n",
       " 'IPython.core.displaypub': <module 'IPython.core.displaypub' from '/Users/a1101256/.pyenv/versions/3.7.2/lib/python3.7/site-packages/IPython/core/displaypub.py'>,\n",
       " 'IPython.core.extensions': <module 'IPython.core.extensions' from '/Users/a1101256/.pyenv/versions/3.7.2/lib/python3.7/site-packages/IPython/core/extensions.py'>,\n",
       " 'IPython.core.formatters': <module 'IPython.core.formatters' from '/Users/a1101256/.pyenv/versions/3.7.2/lib/python3.7/site-packages/IPython/core/formatters.py'>,\n",
       " 'IPython.utils.sentinel': <module 'IPython.utils.sentinel' from '/Users/a1101256/.pyenv/versions/3.7.2/lib/python3.7/site-packages/IPython/utils/sentinel.py'>,\n",
       " 'IPython.core.history': <module 'IPython.core.history' from '/Users/a1101256/.pyenv/versions/3.7.2/lib/python3.7/site-packages/IPython/core/history.py'>,\n",
       " 'sqlite3': <module 'sqlite3' from '/Users/a1101256/.pyenv/versions/3.7.2/lib/python3.7/sqlite3/__init__.py'>,\n",
       " 'sqlite3.dbapi2': <module 'sqlite3.dbapi2' from '/Users/a1101256/.pyenv/versions/3.7.2/lib/python3.7/sqlite3/dbapi2.py'>,\n",
       " '_sqlite3': <module '_sqlite3' from '/Users/a1101256/.pyenv/versions/3.7.2/lib/python3.7/lib-dynload/_sqlite3.cpython-37m-darwin.so'>,\n",
       " 'IPython.core.logger': <module 'IPython.core.logger' from '/Users/a1101256/.pyenv/versions/3.7.2/lib/python3.7/site-packages/IPython/core/logger.py'>,\n",
       " 'IPython.core.payload': <module 'IPython.core.payload' from '/Users/a1101256/.pyenv/versions/3.7.2/lib/python3.7/site-packages/IPython/core/payload.py'>,\n",
       " 'IPython.core.usage': <module 'IPython.core.usage' from '/Users/a1101256/.pyenv/versions/3.7.2/lib/python3.7/site-packages/IPython/core/usage.py'>,\n",
       " 'IPython.display': <module 'IPython.display' from '/Users/a1101256/.pyenv/versions/3.7.2/lib/python3.7/site-packages/IPython/display.py'>,\n",
       " 'IPython.lib.display': <module 'IPython.lib.display' from '/Users/a1101256/.pyenv/versions/3.7.2/lib/python3.7/site-packages/IPython/lib/display.py'>,\n",
       " 'html': <module 'html' from '/Users/a1101256/.pyenv/versions/3.7.2/lib/python3.7/html/__init__.py'>,\n",
       " 'html.entities': <module 'html.entities' from '/Users/a1101256/.pyenv/versions/3.7.2/lib/python3.7/html/entities.py'>,\n",
       " 'IPython.utils.io': <module 'IPython.utils.io' from '/Users/a1101256/.pyenv/versions/3.7.2/lib/python3.7/site-packages/IPython/utils/io.py'>,\n",
       " 'IPython.utils.capture': <module 'IPython.utils.capture' from '/Users/a1101256/.pyenv/versions/3.7.2/lib/python3.7/site-packages/IPython/utils/capture.py'>,\n",
       " 'IPython.utils.strdispatch': <module 'IPython.utils.strdispatch' from '/Users/a1101256/.pyenv/versions/3.7.2/lib/python3.7/site-packages/IPython/utils/strdispatch.py'>,\n",
       " 'IPython.core.hooks': <module 'IPython.core.hooks' from '/Users/a1101256/.pyenv/versions/3.7.2/lib/python3.7/site-packages/IPython/core/hooks.py'>,\n",
       " 'IPython.utils.syspathcontext': <module 'IPython.utils.syspathcontext' from '/Users/a1101256/.pyenv/versions/3.7.2/lib/python3.7/site-packages/IPython/utils/syspathcontext.py'>,\n",
       " 'IPython.utils.tempdir': <module 'IPython.utils.tempdir' from '/Users/a1101256/.pyenv/versions/3.7.2/lib/python3.7/site-packages/IPython/utils/tempdir.py'>,\n",
       " 'IPython.utils.contexts': <module 'IPython.utils.contexts' from '/Users/a1101256/.pyenv/versions/3.7.2/lib/python3.7/site-packages/IPython/utils/contexts.py'>,\n",
       " 'IPython.core.async_helpers': <module 'IPython.core.async_helpers' from '/Users/a1101256/.pyenv/versions/3.7.2/lib/python3.7/site-packages/IPython/core/async_helpers.py'>,\n",
       " 'IPython.terminal.interactiveshell': <module 'IPython.terminal.interactiveshell' from '/Users/a1101256/.pyenv/versions/3.7.2/lib/python3.7/site-packages/IPython/terminal/interactiveshell.py'>,\n",
       " 'prompt_toolkit': <module 'prompt_toolkit' from '/Users/a1101256/.pyenv/versions/3.7.2/lib/python3.7/site-packages/prompt_toolkit/__init__.py'>,\n",
       " 'prompt_toolkit.application': <module 'prompt_toolkit.application' from '/Users/a1101256/.pyenv/versions/3.7.2/lib/python3.7/site-packages/prompt_toolkit/application/__init__.py'>,\n",
       " 'prompt_toolkit.application.application': <module 'prompt_toolkit.application.application' from '/Users/a1101256/.pyenv/versions/3.7.2/lib/python3.7/site-packages/prompt_toolkit/application/application.py'>,\n",
       " 'prompt_toolkit.buffer': <module 'prompt_toolkit.buffer' from '/Users/a1101256/.pyenv/versions/3.7.2/lib/python3.7/site-packages/prompt_toolkit/buffer.py'>,\n",
       " 'prompt_toolkit.application.current': <module 'prompt_toolkit.application.current' from '/Users/a1101256/.pyenv/versions/3.7.2/lib/python3.7/site-packages/prompt_toolkit/application/current.py'>,\n",
       " 'prompt_toolkit.eventloop': <module 'prompt_toolkit.eventloop' from '/Users/a1101256/.pyenv/versions/3.7.2/lib/python3.7/site-packages/prompt_toolkit/eventloop/__init__.py'>,\n",
       " 'prompt_toolkit.eventloop.base': <module 'prompt_toolkit.eventloop.base' from '/Users/a1101256/.pyenv/versions/3.7.2/lib/python3.7/site-packages/prompt_toolkit/eventloop/base.py'>,\n",
       " 'prompt_toolkit.log': <module 'prompt_toolkit.log' from '/Users/a1101256/.pyenv/versions/3.7.2/lib/python3.7/site-packages/prompt_toolkit/log.py'>,\n",
       " 'prompt_toolkit.eventloop.coroutine': <module 'prompt_toolkit.eventloop.coroutine' from '/Users/a1101256/.pyenv/versions/3.7.2/lib/python3.7/site-packages/prompt_toolkit/eventloop/coroutine.py'>,\n",
       " 'prompt_toolkit.eventloop.defaults': <module 'prompt_toolkit.eventloop.defaults' from '/Users/a1101256/.pyenv/versions/3.7.2/lib/python3.7/site-packages/prompt_toolkit/eventloop/defaults.py'>,\n",
       " 'prompt_toolkit.utils': <module 'prompt_toolkit.utils' from '/Users/a1101256/.pyenv/versions/3.7.2/lib/python3.7/site-packages/prompt_toolkit/utils.py'>,\n",
       " 'six.moves': <module 'six.moves' (<six._SixMetaPathImporter object at 0x106f58d30>)>,\n",
       " 'wcwidth': <module 'wcwidth' from '/Users/a1101256/.pyenv/versions/3.7.2/lib/python3.7/site-packages/wcwidth/__init__.py'>,\n",
       " 'wcwidth.wcwidth': <module 'wcwidth.wcwidth' from '/Users/a1101256/.pyenv/versions/3.7.2/lib/python3.7/site-packages/wcwidth/wcwidth.py'>,\n",
       " 'wcwidth.table_wide': <module 'wcwidth.table_wide' from '/Users/a1101256/.pyenv/versions/3.7.2/lib/python3.7/site-packages/wcwidth/table_wide.py'>,\n",
       " 'wcwidth.table_zero': <module 'wcwidth.table_zero' from '/Users/a1101256/.pyenv/versions/3.7.2/lib/python3.7/site-packages/wcwidth/table_zero.py'>,\n",
       " 'prompt_toolkit.cache': <module 'prompt_toolkit.cache' from '/Users/a1101256/.pyenv/versions/3.7.2/lib/python3.7/site-packages/prompt_toolkit/cache.py'>,\n",
       " 'prompt_toolkit.eventloop.future': <module 'prompt_toolkit.eventloop.future' from '/Users/a1101256/.pyenv/versions/3.7.2/lib/python3.7/site-packages/prompt_toolkit/eventloop/future.py'>,\n",
       " 'prompt_toolkit.eventloop.context': <module 'prompt_toolkit.eventloop.context' from '/Users/a1101256/.pyenv/versions/3.7.2/lib/python3.7/site-packages/prompt_toolkit/eventloop/context.py'>,\n",
       " 'prompt_toolkit.eventloop.async_generator': <module 'prompt_toolkit.eventloop.async_generator' from '/Users/a1101256/.pyenv/versions/3.7.2/lib/python3.7/site-packages/prompt_toolkit/eventloop/async_generator.py'>,\n",
       " 'queue': <module 'queue' from '/Users/a1101256/.pyenv/versions/3.7.2/lib/python3.7/queue.py'>,\n",
       " '_queue': <module '_queue' from '/Users/a1101256/.pyenv/versions/3.7.2/lib/python3.7/lib-dynload/_queue.cpython-37m-darwin.so'>,\n",
       " 'six.moves.queue': <module 'queue' from '/Users/a1101256/.pyenv/versions/3.7.2/lib/python3.7/queue.py'>,\n",
       " 'prompt_toolkit.eventloop.event': <module 'prompt_toolkit.eventloop.event' from '/Users/a1101256/.pyenv/versions/3.7.2/lib/python3.7/site-packages/prompt_toolkit/eventloop/event.py'>,\n",
       " 'prompt_toolkit.application.run_in_terminal': <module 'prompt_toolkit.application.run_in_terminal' from '/Users/a1101256/.pyenv/versions/3.7.2/lib/python3.7/site-packages/prompt_toolkit/application/run_in_terminal.py'>,\n",
       " 'prompt_toolkit.auto_suggest': <module 'prompt_toolkit.auto_suggest' from '/Users/a1101256/.pyenv/versions/3.7.2/lib/python3.7/site-packages/prompt_toolkit/auto_suggest.py'>,\n",
       " 'prompt_toolkit.filters': <module 'prompt_toolkit.filters' from '/Users/a1101256/.pyenv/versions/3.7.2/lib/python3.7/site-packages/prompt_toolkit/filters/__init__.py'>,\n",
       " 'prompt_toolkit.filters.base': <module 'prompt_toolkit.filters.base' from '/Users/a1101256/.pyenv/versions/3.7.2/lib/python3.7/site-packages/prompt_toolkit/filters/base.py'>,\n",
       " 'prompt_toolkit.filters.app': <module 'prompt_toolkit.filters.app' from '/Users/a1101256/.pyenv/versions/3.7.2/lib/python3.7/site-packages/prompt_toolkit/filters/app.py'>,\n",
       " 'prompt_toolkit.enums': <module 'prompt_toolkit.enums' from '/Users/a1101256/.pyenv/versions/3.7.2/lib/python3.7/site-packages/prompt_toolkit/enums.py'>,\n",
       " 'prompt_toolkit.filters.utils': <module 'prompt_toolkit.filters.utils' from '/Users/a1101256/.pyenv/versions/3.7.2/lib/python3.7/site-packages/prompt_toolkit/filters/utils.py'>,\n",
       " 'prompt_toolkit.filters.cli': <module 'prompt_toolkit.filters.cli' from '/Users/a1101256/.pyenv/versions/3.7.2/lib/python3.7/site-packages/prompt_toolkit/filters/cli.py'>,\n",
       " 'prompt_toolkit.clipboard': <module 'prompt_toolkit.clipboard' from '/Users/a1101256/.pyenv/versions/3.7.2/lib/python3.7/site-packages/prompt_toolkit/clipboard/__init__.py'>,\n",
       " 'prompt_toolkit.clipboard.base': <module 'prompt_toolkit.clipboard.base' from '/Users/a1101256/.pyenv/versions/3.7.2/lib/python3.7/site-packages/prompt_toolkit/clipboard/base.py'>,\n",
       " 'prompt_toolkit.selection': <module 'prompt_toolkit.selection' from '/Users/a1101256/.pyenv/versions/3.7.2/lib/python3.7/site-packages/prompt_toolkit/selection.py'>,\n",
       " 'prompt_toolkit.clipboard.in_memory': <module 'prompt_toolkit.clipboard.in_memory' from '/Users/a1101256/.pyenv/versions/3.7.2/lib/python3.7/site-packages/prompt_toolkit/clipboard/in_memory.py'>,\n",
       " 'prompt_toolkit.completion': <module 'prompt_toolkit.completion' from '/Users/a1101256/.pyenv/versions/3.7.2/lib/python3.7/site-packages/prompt_toolkit/completion/__init__.py'>,\n",
       " 'prompt_toolkit.completion.base': <module 'prompt_toolkit.completion.base' from '/Users/a1101256/.pyenv/versions/3.7.2/lib/python3.7/site-packages/prompt_toolkit/completion/base.py'>,\n",
       " 'prompt_toolkit.completion.filesystem': <module 'prompt_toolkit.completion.filesystem' from '/Users/a1101256/.pyenv/versions/3.7.2/lib/python3.7/site-packages/prompt_toolkit/completion/filesystem.py'>,\n",
       " 'prompt_toolkit.completion.word_completer': <module 'prompt_toolkit.completion.word_completer' from '/Users/a1101256/.pyenv/versions/3.7.2/lib/python3.7/site-packages/prompt_toolkit/completion/word_completer.py'>,\n",
       " 'prompt_toolkit.completion.fuzzy_completer': <module 'prompt_toolkit.completion.fuzzy_completer' from '/Users/a1101256/.pyenv/versions/3.7.2/lib/python3.7/site-packages/prompt_toolkit/completion/fuzzy_completer.py'>,\n",
       " 'prompt_toolkit.document': <module 'prompt_toolkit.document' from '/Users/a1101256/.pyenv/versions/3.7.2/lib/python3.7/site-packages/prompt_toolkit/document.py'>,\n",
       " 'prompt_toolkit.history': <module 'prompt_toolkit.history' from '/Users/a1101256/.pyenv/versions/3.7.2/lib/python3.7/site-packages/prompt_toolkit/history.py'>,\n",
       " 'prompt_toolkit.search': <module 'prompt_toolkit.search' from '/Users/a1101256/.pyenv/versions/3.7.2/lib/python3.7/site-packages/prompt_toolkit/search.py'>,\n",
       " 'prompt_toolkit.key_binding': <module 'prompt_toolkit.key_binding' from '/Users/a1101256/.pyenv/versions/3.7.2/lib/python3.7/site-packages/prompt_toolkit/key_binding/__init__.py'>,\n",
       " 'prompt_toolkit.key_binding.key_bindings': <module 'prompt_toolkit.key_binding.key_bindings' from '/Users/a1101256/.pyenv/versions/3.7.2/lib/python3.7/site-packages/prompt_toolkit/key_binding/key_bindings.py'>,\n",
       " 'prompt_toolkit.keys': <module 'prompt_toolkit.keys' from '/Users/a1101256/.pyenv/versions/3.7.2/lib/python3.7/site-packages/prompt_toolkit/keys.py'>,\n",
       " 'prompt_toolkit.key_binding.vi_state': <module 'prompt_toolkit.key_binding.vi_state' from '/Users/a1101256/.pyenv/versions/3.7.2/lib/python3.7/site-packages/prompt_toolkit/key_binding/vi_state.py'>,\n",
       " 'prompt_toolkit.validation': <module 'prompt_toolkit.validation' from '/Users/a1101256/.pyenv/versions/3.7.2/lib/python3.7/site-packages/prompt_toolkit/validation.py'>,\n",
       " 'prompt_toolkit.input': <module 'prompt_toolkit.input' from '/Users/a1101256/.pyenv/versions/3.7.2/lib/python3.7/site-packages/prompt_toolkit/input/__init__.py'>,\n",
       " 'prompt_toolkit.input.base': <module 'prompt_toolkit.input.base' from '/Users/a1101256/.pyenv/versions/3.7.2/lib/python3.7/site-packages/prompt_toolkit/input/base.py'>,\n",
       " 'prompt_toolkit.input.defaults': <module 'prompt_toolkit.input.defaults' from '/Users/a1101256/.pyenv/versions/3.7.2/lib/python3.7/site-packages/prompt_toolkit/input/defaults.py'>,\n",
       " 'prompt_toolkit.input.typeahead': <module 'prompt_toolkit.input.typeahead' from '/Users/a1101256/.pyenv/versions/3.7.2/lib/python3.7/site-packages/prompt_toolkit/input/typeahead.py'>,\n",
       " 'prompt_toolkit.key_binding.bindings': <module 'prompt_toolkit.key_binding.bindings' from '/Users/a1101256/.pyenv/versions/3.7.2/lib/python3.7/site-packages/prompt_toolkit/key_binding/bindings/__init__.py'>,\n",
       " 'prompt_toolkit.key_binding.bindings.page_navigation': <module 'prompt_toolkit.key_binding.bindings.page_navigation' from '/Users/a1101256/.pyenv/versions/3.7.2/lib/python3.7/site-packages/prompt_toolkit/key_binding/bindings/page_navigation.py'>,\n",
       " 'prompt_toolkit.key_binding.bindings.scroll': <module 'prompt_toolkit.key_binding.bindings.scroll' from '/Users/a1101256/.pyenv/versions/3.7.2/lib/python3.7/site-packages/prompt_toolkit/key_binding/bindings/scroll.py'>,\n",
       " 'prompt_toolkit.key_binding.defaults': <module 'prompt_toolkit.key_binding.defaults' from '/Users/a1101256/.pyenv/versions/3.7.2/lib/python3.7/site-packages/prompt_toolkit/key_binding/defaults.py'>,\n",
       " 'prompt_toolkit.key_binding.bindings.basic': <module 'prompt_toolkit.key_binding.bindings.basic' from '/Users/a1101256/.pyenv/versions/3.7.2/lib/python3.7/site-packages/prompt_toolkit/key_binding/bindings/basic.py'>,\n",
       " 'prompt_toolkit.key_binding.key_processor': <module 'prompt_toolkit.key_binding.key_processor' from '/Users/a1101256/.pyenv/versions/3.7.2/lib/python3.7/site-packages/prompt_toolkit/key_binding/key_processor.py'>,\n",
       " 'prompt_toolkit.key_binding.bindings.named_commands': <module 'prompt_toolkit.key_binding.bindings.named_commands' from '/Users/a1101256/.pyenv/versions/3.7.2/lib/python3.7/site-packages/prompt_toolkit/key_binding/bindings/named_commands.py'>,\n",
       " 'prompt_toolkit.key_binding.bindings.completion': <module 'prompt_toolkit.key_binding.bindings.completion' from '/Users/a1101256/.pyenv/versions/3.7.2/lib/python3.7/site-packages/prompt_toolkit/key_binding/bindings/completion.py'>,\n",
       " 'prompt_toolkit.key_binding.bindings.emacs': <module 'prompt_toolkit.key_binding.bindings.emacs' from '/Users/a1101256/.pyenv/versions/3.7.2/lib/python3.7/site-packages/prompt_toolkit/key_binding/bindings/emacs.py'>,\n",
       " 'prompt_toolkit.key_binding.bindings.vi': <module 'prompt_toolkit.key_binding.bindings.vi' from '/Users/a1101256/.pyenv/versions/3.7.2/lib/python3.7/site-packages/prompt_toolkit/key_binding/bindings/vi.py'>,\n",
       " 'prompt_toolkit.input.vt100_parser': <module 'prompt_toolkit.input.vt100_parser' from '/Users/a1101256/.pyenv/versions/3.7.2/lib/python3.7/site-packages/prompt_toolkit/input/vt100_parser.py'>,\n",
       " 'prompt_toolkit.input.ansi_escape_sequences': <module 'prompt_toolkit.input.ansi_escape_sequences' from '/Users/a1101256/.pyenv/versions/3.7.2/lib/python3.7/site-packages/prompt_toolkit/input/ansi_escape_sequences.py'>,\n",
       " 'prompt_toolkit.key_binding.digraphs': <module 'prompt_toolkit.key_binding.digraphs' from '/Users/a1101256/.pyenv/versions/3.7.2/lib/python3.7/site-packages/prompt_toolkit/key_binding/digraphs.py'>,\n",
       " 'prompt_toolkit.key_binding.bindings.mouse': <module 'prompt_toolkit.key_binding.bindings.mouse' from '/Users/a1101256/.pyenv/versions/3.7.2/lib/python3.7/site-packages/prompt_toolkit/key_binding/bindings/mouse.py'>,\n",
       " 'prompt_toolkit.layout': <module 'prompt_toolkit.layout' from '/Users/a1101256/.pyenv/versions/3.7.2/lib/python3.7/site-packages/prompt_toolkit/layout/__init__.py'>,\n",
       " 'prompt_toolkit.layout.containers': <module 'prompt_toolkit.layout.containers' from '/Users/a1101256/.pyenv/versions/3.7.2/lib/python3.7/site-packages/prompt_toolkit/layout/containers.py'>,\n",
       " 'prompt_toolkit.layout.controls': <module 'prompt_toolkit.layout.controls' from '/Users/a1101256/.pyenv/versions/3.7.2/lib/python3.7/site-packages/prompt_toolkit/layout/controls.py'>,\n",
       " 'prompt_toolkit.formatted_text': <module 'prompt_toolkit.formatted_text' from '/Users/a1101256/.pyenv/versions/3.7.2/lib/python3.7/site-packages/prompt_toolkit/formatted_text/__init__.py'>,\n",
       " 'prompt_toolkit.formatted_text.base': <module 'prompt_toolkit.formatted_text.base' from '/Users/a1101256/.pyenv/versions/3.7.2/lib/python3.7/site-packages/prompt_toolkit/formatted_text/base.py'>,\n",
       " 'prompt_toolkit.formatted_text.html': <module 'prompt_toolkit.formatted_text.html' from '/Users/a1101256/.pyenv/versions/3.7.2/lib/python3.7/site-packages/prompt_toolkit/formatted_text/html.py'>,\n",
       " 'xml': <module 'xml' from '/Users/a1101256/.pyenv/versions/3.7.2/lib/python3.7/xml/__init__.py'>,\n",
       " 'xml.dom': <module 'xml.dom' from '/Users/a1101256/.pyenv/versions/3.7.2/lib/python3.7/xml/dom/__init__.py'>,\n",
       " 'xml.dom.domreg': <module 'xml.dom.domreg' from '/Users/a1101256/.pyenv/versions/3.7.2/lib/python3.7/xml/dom/domreg.py'>,\n",
       " 'xml.dom.minidom': <module 'xml.dom.minidom' from '/Users/a1101256/.pyenv/versions/3.7.2/lib/python3.7/xml/dom/minidom.py'>,\n",
       " 'xml.dom.minicompat': <module 'xml.dom.minicompat' from '/Users/a1101256/.pyenv/versions/3.7.2/lib/python3.7/xml/dom/minicompat.py'>,\n",
       " 'xml.dom.xmlbuilder': <module 'xml.dom.xmlbuilder' from '/Users/a1101256/.pyenv/versions/3.7.2/lib/python3.7/xml/dom/xmlbuilder.py'>,\n",
       " 'xml.dom.NodeFilter': <module 'xml.dom.NodeFilter' from '/Users/a1101256/.pyenv/versions/3.7.2/lib/python3.7/xml/dom/NodeFilter.py'>,\n",
       " 'prompt_toolkit.formatted_text.ansi': <module 'prompt_toolkit.formatted_text.ansi' from '/Users/a1101256/.pyenv/versions/3.7.2/lib/python3.7/site-packages/prompt_toolkit/formatted_text/ansi.py'>,\n",
       " 'prompt_toolkit.output': <module 'prompt_toolkit.output' from '/Users/a1101256/.pyenv/versions/3.7.2/lib/python3.7/site-packages/prompt_toolkit/output/__init__.py'>,\n",
       " 'prompt_toolkit.output.base': <module 'prompt_toolkit.output.base' from '/Users/a1101256/.pyenv/versions/3.7.2/lib/python3.7/site-packages/prompt_toolkit/output/base.py'>,\n",
       " 'prompt_toolkit.layout.screen': <module 'prompt_toolkit.layout.screen' from '/Users/a1101256/.pyenv/versions/3.7.2/lib/python3.7/site-packages/prompt_toolkit/layout/screen.py'>,\n",
       " 'prompt_toolkit.output.defaults': <module 'prompt_toolkit.output.defaults' from '/Users/a1101256/.pyenv/versions/3.7.2/lib/python3.7/site-packages/prompt_toolkit/output/defaults.py'>,\n",
       " 'prompt_toolkit.output.color_depth': <module 'prompt_toolkit.output.color_depth' from '/Users/a1101256/.pyenv/versions/3.7.2/lib/python3.7/site-packages/prompt_toolkit/output/color_depth.py'>,\n",
       " 'prompt_toolkit.output.vt100': <module 'prompt_toolkit.output.vt100' from '/Users/a1101256/.pyenv/versions/3.7.2/lib/python3.7/site-packages/prompt_toolkit/output/vt100.py'>,\n",
       " 'prompt_toolkit.styles': <module 'prompt_toolkit.styles' from '/Users/a1101256/.pyenv/versions/3.7.2/lib/python3.7/site-packages/prompt_toolkit/styles/__init__.py'>,\n",
       " 'prompt_toolkit.styles.base': <module 'prompt_toolkit.styles.base' from '/Users/a1101256/.pyenv/versions/3.7.2/lib/python3.7/site-packages/prompt_toolkit/styles/base.py'>,\n",
       " 'prompt_toolkit.styles.defaults': <module 'prompt_toolkit.styles.defaults' from '/Users/a1101256/.pyenv/versions/3.7.2/lib/python3.7/site-packages/prompt_toolkit/styles/defaults.py'>,\n",
       " 'prompt_toolkit.styles.style': <module 'prompt_toolkit.styles.style' from '/Users/a1101256/.pyenv/versions/3.7.2/lib/python3.7/site-packages/prompt_toolkit/styles/style.py'>,\n",
       " 'prompt_toolkit.styles.named_colors': <module 'prompt_toolkit.styles.named_colors' from '/Users/a1101256/.pyenv/versions/3.7.2/lib/python3.7/site-packages/prompt_toolkit/styles/named_colors.py'>,\n",
       " 'prompt_toolkit.styles.pygments': <module 'prompt_toolkit.styles.pygments' from '/Users/a1101256/.pyenv/versions/3.7.2/lib/python3.7/site-packages/prompt_toolkit/styles/pygments.py'>,\n",
       " 'prompt_toolkit.styles.style_transformation': <module 'prompt_toolkit.styles.style_transformation' from '/Users/a1101256/.pyenv/versions/3.7.2/lib/python3.7/site-packages/prompt_toolkit/styles/style_transformation.py'>,\n",
       " 'colorsys': <module 'colorsys' from '/Users/a1101256/.pyenv/versions/3.7.2/lib/python3.7/colorsys.py'>,\n",
       " 'array': <module 'array' from '/Users/a1101256/.pyenv/versions/3.7.2/lib/python3.7/lib-dynload/array.cpython-37m-darwin.so'>,\n",
       " 'prompt_toolkit.formatted_text.pygments': <module 'prompt_toolkit.formatted_text.pygments' from '/Users/a1101256/.pyenv/versions/3.7.2/lib/python3.7/site-packages/prompt_toolkit/formatted_text/pygments.py'>,\n",
       " 'prompt_toolkit.formatted_text.utils': <module 'prompt_toolkit.formatted_text.utils' from '/Users/a1101256/.pyenv/versions/3.7.2/lib/python3.7/site-packages/prompt_toolkit/formatted_text/utils.py'>,\n",
       " 'prompt_toolkit.lexers': <module 'prompt_toolkit.lexers' from '/Users/a1101256/.pyenv/versions/3.7.2/lib/python3.7/site-packages/prompt_toolkit/lexers/__init__.py'>,\n",
       " 'prompt_toolkit.lexers.base': <module 'prompt_toolkit.lexers.base' from '/Users/a1101256/.pyenv/versions/3.7.2/lib/python3.7/site-packages/prompt_toolkit/lexers/base.py'>,\n",
       " 'prompt_toolkit.lexers.pygments': <module 'prompt_toolkit.lexers.pygments' from '/Users/a1101256/.pyenv/versions/3.7.2/lib/python3.7/site-packages/prompt_toolkit/lexers/pygments.py'>,\n",
       " 'prompt_toolkit.mouse_events': <module 'prompt_toolkit.mouse_events' from '/Users/a1101256/.pyenv/versions/3.7.2/lib/python3.7/site-packages/prompt_toolkit/mouse_events.py'>,\n",
       " 'prompt_toolkit.layout.processors': <module 'prompt_toolkit.layout.processors' from '/Users/a1101256/.pyenv/versions/3.7.2/lib/python3.7/site-packages/prompt_toolkit/layout/processors.py'>,\n",
       " 'prompt_toolkit.layout.utils': <module 'prompt_toolkit.layout.utils' from '/Users/a1101256/.pyenv/versions/3.7.2/lib/python3.7/site-packages/prompt_toolkit/layout/utils.py'>,\n",
       " 'prompt_toolkit.layout.dimension': <module 'prompt_toolkit.layout.dimension' from '/Users/a1101256/.pyenv/versions/3.7.2/lib/python3.7/site-packages/prompt_toolkit/layout/dimension.py'>,\n",
       " 'prompt_toolkit.layout.margins': <module 'prompt_toolkit.layout.margins' from '/Users/a1101256/.pyenv/versions/3.7.2/lib/python3.7/site-packages/prompt_toolkit/layout/margins.py'>,\n",
       " 'prompt_toolkit.layout.layout': <module 'prompt_toolkit.layout.layout' from '/Users/a1101256/.pyenv/versions/3.7.2/lib/python3.7/site-packages/prompt_toolkit/layout/layout.py'>,\n",
       " 'prompt_toolkit.layout.menus': <module 'prompt_toolkit.layout.menus' from '/Users/a1101256/.pyenv/versions/3.7.2/lib/python3.7/site-packages/prompt_toolkit/layout/menus.py'>,\n",
       " 'prompt_toolkit.renderer': <module 'prompt_toolkit.renderer' from '/Users/a1101256/.pyenv/versions/3.7.2/lib/python3.7/site-packages/prompt_toolkit/renderer.py'>,\n",
       " 'prompt_toolkit.layout.mouse_handlers': <module 'prompt_toolkit.layout.mouse_handlers' from '/Users/a1101256/.pyenv/versions/3.7.2/lib/python3.7/site-packages/prompt_toolkit/layout/mouse_handlers.py'>,\n",
       " 'prompt_toolkit.key_binding.bindings.cpr': <module 'prompt_toolkit.key_binding.bindings.cpr' from '/Users/a1101256/.pyenv/versions/3.7.2/lib/python3.7/site-packages/prompt_toolkit/key_binding/bindings/cpr.py'>,\n",
       " 'prompt_toolkit.key_binding.emacs_state': <module 'prompt_toolkit.key_binding.emacs_state' from '/Users/a1101256/.pyenv/versions/3.7.2/lib/python3.7/site-packages/prompt_toolkit/key_binding/emacs_state.py'>,\n",
       " 'prompt_toolkit.layout.dummy': <module 'prompt_toolkit.layout.dummy' from '/Users/a1101256/.pyenv/versions/3.7.2/lib/python3.7/site-packages/prompt_toolkit/layout/dummy.py'>,\n",
       " 'prompt_toolkit.application.dummy': <module 'prompt_toolkit.application.dummy' from '/Users/a1101256/.pyenv/versions/3.7.2/lib/python3.7/site-packages/prompt_toolkit/application/dummy.py'>,\n",
       " 'prompt_toolkit.shortcuts': <module 'prompt_toolkit.shortcuts' from '/Users/a1101256/.pyenv/versions/3.7.2/lib/python3.7/site-packages/prompt_toolkit/shortcuts/__init__.py'>,\n",
       " 'prompt_toolkit.shortcuts.dialogs': <module 'prompt_toolkit.shortcuts.dialogs' from '/Users/a1101256/.pyenv/versions/3.7.2/lib/python3.7/site-packages/prompt_toolkit/shortcuts/dialogs.py'>,\n",
       " 'prompt_toolkit.key_binding.bindings.focus': <module 'prompt_toolkit.key_binding.bindings.focus' from '/Users/a1101256/.pyenv/versions/3.7.2/lib/python3.7/site-packages/prompt_toolkit/key_binding/bindings/focus.py'>,\n",
       " 'prompt_toolkit.widgets': <module 'prompt_toolkit.widgets' from '/Users/a1101256/.pyenv/versions/3.7.2/lib/python3.7/site-packages/prompt_toolkit/widgets/__init__.py'>,\n",
       " 'prompt_toolkit.widgets.base': <module 'prompt_toolkit.widgets.base' from '/Users/a1101256/.pyenv/versions/3.7.2/lib/python3.7/site-packages/prompt_toolkit/widgets/base.py'>,\n",
       " 'prompt_toolkit.widgets.toolbars': <module 'prompt_toolkit.widgets.toolbars' from '/Users/a1101256/.pyenv/versions/3.7.2/lib/python3.7/site-packages/prompt_toolkit/widgets/toolbars.py'>,\n",
       " 'prompt_toolkit.widgets.dialogs': <module 'prompt_toolkit.widgets.dialogs' from '/Users/a1101256/.pyenv/versions/3.7.2/lib/python3.7/site-packages/prompt_toolkit/widgets/dialogs.py'>,\n",
       " 'prompt_toolkit.widgets.menus': <module 'prompt_toolkit.widgets.menus' from '/Users/a1101256/.pyenv/versions/3.7.2/lib/python3.7/site-packages/prompt_toolkit/widgets/menus.py'>,\n",
       " 'prompt_toolkit.shortcuts.prompt': <module 'prompt_toolkit.shortcuts.prompt' from '/Users/a1101256/.pyenv/versions/3.7.2/lib/python3.7/site-packages/prompt_toolkit/shortcuts/prompt.py'>,\n",
       " 'prompt_toolkit.key_binding.bindings.auto_suggest': <module 'prompt_toolkit.key_binding.bindings.auto_suggest' from '/Users/a1101256/.pyenv/versions/3.7.2/lib/python3.7/site-packages/prompt_toolkit/key_binding/bindings/auto_suggest.py'>,\n",
       " 'prompt_toolkit.key_binding.bindings.open_in_editor': <module 'prompt_toolkit.key_binding.bindings.open_in_editor' from '/Users/a1101256/.pyenv/versions/3.7.2/lib/python3.7/site-packages/prompt_toolkit/key_binding/bindings/open_in_editor.py'>,\n",
       " 'prompt_toolkit.shortcuts.utils': <module 'prompt_toolkit.shortcuts.utils' from '/Users/a1101256/.pyenv/versions/3.7.2/lib/python3.7/site-packages/prompt_toolkit/shortcuts/utils.py'>,\n",
       " 'prompt_toolkit.shortcuts.progress_bar': <module 'prompt_toolkit.shortcuts.progress_bar' from '/Users/a1101256/.pyenv/versions/3.7.2/lib/python3.7/site-packages/prompt_toolkit/shortcuts/progress_bar/__init__.py'>,\n",
       " 'prompt_toolkit.shortcuts.progress_bar.base': <module 'prompt_toolkit.shortcuts.progress_bar.base' from '/Users/a1101256/.pyenv/versions/3.7.2/lib/python3.7/site-packages/prompt_toolkit/shortcuts/progress_bar/base.py'>,\n",
       " 'prompt_toolkit.shortcuts.progress_bar.formatters': <module 'prompt_toolkit.shortcuts.progress_bar.formatters' from '/Users/a1101256/.pyenv/versions/3.7.2/lib/python3.7/site-packages/prompt_toolkit/shortcuts/progress_bar/formatters.py'>,\n",
       " 'prompt_toolkit.patch_stdout': <module 'prompt_toolkit.patch_stdout' from '/Users/a1101256/.pyenv/versions/3.7.2/lib/python3.7/site-packages/prompt_toolkit/patch_stdout.py'>,\n",
       " 'pygments.style': <module 'pygments.style' from '/Users/a1101256/.pyenv/versions/3.7.2/lib/python3.7/site-packages/pygments/style.py'>,\n",
       " 'IPython.terminal.debugger': <module 'IPython.terminal.debugger' from '/Users/a1101256/.pyenv/versions/3.7.2/lib/python3.7/site-packages/IPython/terminal/debugger.py'>,\n",
       " 'IPython.core.completer': <module 'IPython.core.completer' from '/Users/a1101256/.pyenv/versions/3.7.2/lib/python3.7/site-packages/IPython/core/completer.py'>,\n",
       " 'unicodedata': <module 'unicodedata' from '/Users/a1101256/.pyenv/versions/3.7.2/lib/python3.7/lib-dynload/unicodedata.cpython-37m-darwin.so'>,\n",
       " 'IPython.core.latex_symbols': <module 'IPython.core.latex_symbols' from '/Users/a1101256/.pyenv/versions/3.7.2/lib/python3.7/site-packages/IPython/core/latex_symbols.py'>,\n",
       " 'IPython.utils.generics': <module 'IPython.utils.generics' from '/Users/a1101256/.pyenv/versions/3.7.2/lib/python3.7/site-packages/IPython/utils/generics.py'>,\n",
       " 'jedi': <module 'jedi' from '/Users/a1101256/.pyenv/versions/3.7.2/lib/python3.7/site-packages/jedi/__init__.py'>,\n",
       " 'jedi.api': <module 'jedi.api' from '/Users/a1101256/.pyenv/versions/3.7.2/lib/python3.7/site-packages/jedi/api/__init__.py'>,\n",
       " 'parso': <module 'parso' from '/Users/a1101256/.pyenv/versions/3.7.2/lib/python3.7/site-packages/parso/__init__.py'>,\n",
       " 'parso.parser': <module 'parso.parser' from '/Users/a1101256/.pyenv/versions/3.7.2/lib/python3.7/site-packages/parso/parser.py'>,\n",
       " 'parso.tree': <module 'parso.tree' from '/Users/a1101256/.pyenv/versions/3.7.2/lib/python3.7/site-packages/parso/tree.py'>,\n",
       " 'parso._compatibility': <module 'parso._compatibility' from '/Users/a1101256/.pyenv/versions/3.7.2/lib/python3.7/site-packages/parso/_compatibility.py'>,\n",
       " 'parso.utils': <module 'parso.utils' from '/Users/a1101256/.pyenv/versions/3.7.2/lib/python3.7/site-packages/parso/utils.py'>,\n",
       " 'parso.pgen2': <module 'parso.pgen2' from '/Users/a1101256/.pyenv/versions/3.7.2/lib/python3.7/site-packages/parso/pgen2/__init__.py'>,\n",
       " 'parso.pgen2.generator': <module 'parso.pgen2.generator' from '/Users/a1101256/.pyenv/versions/3.7.2/lib/python3.7/site-packages/parso/pgen2/generator.py'>,\n",
       " 'parso.pgen2.grammar_parser': <module 'parso.pgen2.grammar_parser' from '/Users/a1101256/.pyenv/versions/3.7.2/lib/python3.7/site-packages/parso/pgen2/grammar_parser.py'>,\n",
       " 'parso.python': <module 'parso.python' from '/Users/a1101256/.pyenv/versions/3.7.2/lib/python3.7/site-packages/parso/python/__init__.py'>,\n",
       " 'parso.python.tokenize': <module 'parso.python.tokenize' from '/Users/a1101256/.pyenv/versions/3.7.2/lib/python3.7/site-packages/parso/python/tokenize.py'>,\n",
       " 'parso.python.token': <module 'parso.python.token' from '/Users/a1101256/.pyenv/versions/3.7.2/lib/python3.7/site-packages/parso/python/token.py'>,\n",
       " 'parso.grammar': <module 'parso.grammar' from '/Users/a1101256/.pyenv/versions/3.7.2/lib/python3.7/site-packages/parso/grammar.py'>,\n",
       " 'parso.python.diff': <module 'parso.python.diff' from '/Users/a1101256/.pyenv/versions/3.7.2/lib/python3.7/site-packages/parso/python/diff.py'>,\n",
       " 'difflib': <module 'difflib' from '/Users/a1101256/.pyenv/versions/3.7.2/lib/python3.7/difflib.py'>,\n",
       " 'parso.python.parser': <module 'parso.python.parser' from '/Users/a1101256/.pyenv/versions/3.7.2/lib/python3.7/site-packages/parso/python/parser.py'>,\n",
       " 'parso.python.tree': <module 'parso.python.tree' from '/Users/a1101256/.pyenv/versions/3.7.2/lib/python3.7/site-packages/parso/python/tree.py'>,\n",
       " 'parso.python.prefix': <module 'parso.python.prefix' from '/Users/a1101256/.pyenv/versions/3.7.2/lib/python3.7/site-packages/parso/python/prefix.py'>,\n",
       " 'parso.cache': <module 'parso.cache' from '/Users/a1101256/.pyenv/versions/3.7.2/lib/python3.7/site-packages/parso/cache.py'>,\n",
       " 'gc': <module 'gc' (built-in)>,\n",
       " 'parso.python.errors': <module 'parso.python.errors' from '/Users/a1101256/.pyenv/versions/3.7.2/lib/python3.7/site-packages/parso/python/errors.py'>,\n",
       " 'parso.normalizer': <module 'parso.normalizer' from '/Users/a1101256/.pyenv/versions/3.7.2/lib/python3.7/site-packages/parso/normalizer.py'>,\n",
       " 'parso.python.pep8': <module 'parso.python.pep8' from '/Users/a1101256/.pyenv/versions/3.7.2/lib/python3.7/site-packages/parso/python/pep8.py'>,\n",
       " 'parso.file_io': <module 'parso.file_io' from '/Users/a1101256/.pyenv/versions/3.7.2/lib/python3.7/site-packages/parso/file_io.py'>,\n",
       " 'jedi._compatibility': <module 'jedi._compatibility' from '/Users/a1101256/.pyenv/versions/3.7.2/lib/python3.7/site-packages/jedi/_compatibility.py'>,\n",
       " 'jedi.file_io': <module 'jedi.file_io' from '/Users/a1101256/.pyenv/versions/3.7.2/lib/python3.7/site-packages/jedi/file_io.py'>,\n",
       " 'jedi.parser_utils': <module 'jedi.parser_utils' from '/Users/a1101256/.pyenv/versions/3.7.2/lib/python3.7/site-packages/jedi/parser_utils.py'>,\n",
       " 'jedi.debug': <module 'jedi.debug' from '/Users/a1101256/.pyenv/versions/3.7.2/lib/python3.7/site-packages/jedi/debug.py'>,\n",
       " 'jedi.settings': <module 'jedi.settings' from '/Users/a1101256/.pyenv/versions/3.7.2/lib/python3.7/site-packages/jedi/settings.py'>,\n",
       " 'jedi.cache': <module 'jedi.cache' from '/Users/a1101256/.pyenv/versions/3.7.2/lib/python3.7/site-packages/jedi/cache.py'>,\n",
       " 'jedi.api.classes': <module 'jedi.api.classes' from '/Users/a1101256/.pyenv/versions/3.7.2/lib/python3.7/site-packages/jedi/api/classes.py'>,\n",
       " 'jedi.evaluate': <module 'jedi.evaluate' from '/Users/a1101256/.pyenv/versions/3.7.2/lib/python3.7/site-packages/jedi/evaluate/__init__.py'>,\n",
       " 'jedi.evaluate.utils': <module 'jedi.evaluate.utils' from '/Users/a1101256/.pyenv/versions/3.7.2/lib/python3.7/site-packages/jedi/evaluate/utils.py'>,\n",
       " 'jedi.evaluate.imports': <module 'jedi.evaluate.imports' from '/Users/a1101256/.pyenv/versions/3.7.2/lib/python3.7/site-packages/jedi/evaluate/imports.py'>,\n",
       " 'jedi.evaluate.sys_path': <module 'jedi.evaluate.sys_path' from '/Users/a1101256/.pyenv/versions/3.7.2/lib/python3.7/site-packages/jedi/evaluate/sys_path.py'>,\n",
       " 'jedi.evaluate.cache': <module 'jedi.evaluate.cache' from '/Users/a1101256/.pyenv/versions/3.7.2/lib/python3.7/site-packages/jedi/evaluate/cache.py'>,\n",
       " 'jedi.evaluate.base_context': <module 'jedi.evaluate.base_context' from '/Users/a1101256/.pyenv/versions/3.7.2/lib/python3.7/site-packages/jedi/evaluate/base_context.py'>,\n",
       " 'jedi.common': <module 'jedi.common' from '/Users/a1101256/.pyenv/versions/3.7.2/lib/python3.7/site-packages/jedi/common/__init__.py'>,\n",
       " 'jedi.common.context': <module 'jedi.common.context' from '/Users/a1101256/.pyenv/versions/3.7.2/lib/python3.7/site-packages/jedi/common/context.py'>,\n",
       " 'jedi.evaluate.helpers': <module 'jedi.evaluate.helpers' from '/Users/a1101256/.pyenv/versions/3.7.2/lib/python3.7/site-packages/jedi/evaluate/helpers.py'>,\n",
       " 'jedi.common.utils': <module 'jedi.common.utils' from '/Users/a1101256/.pyenv/versions/3.7.2/lib/python3.7/site-packages/jedi/common/utils.py'>,\n",
       " 'jedi.evaluate.compiled': <module 'jedi.evaluate.compiled' from '/Users/a1101256/.pyenv/versions/3.7.2/lib/python3.7/site-packages/jedi/evaluate/compiled/__init__.py'>,\n",
       " 'jedi.evaluate.compiled.context': <module 'jedi.evaluate.compiled.context' from '/Users/a1101256/.pyenv/versions/3.7.2/lib/python3.7/site-packages/jedi/evaluate/compiled/context.py'>,\n",
       " 'jedi.evaluate.filters': <module 'jedi.evaluate.filters' from '/Users/a1101256/.pyenv/versions/3.7.2/lib/python3.7/site-packages/jedi/evaluate/filters.py'>,\n",
       " 'jedi.evaluate.flow_analysis': <module 'jedi.evaluate.flow_analysis' from '/Users/a1101256/.pyenv/versions/3.7.2/lib/python3.7/site-packages/jedi/evaluate/flow_analysis.py'>,\n",
       " 'jedi.evaluate.recursion': <module 'jedi.evaluate.recursion' from '/Users/a1101256/.pyenv/versions/3.7.2/lib/python3.7/site-packages/jedi/evaluate/recursion.py'>,\n",
       " 'jedi.evaluate.names': <module 'jedi.evaluate.names' from '/Users/a1101256/.pyenv/versions/3.7.2/lib/python3.7/site-packages/jedi/evaluate/names.py'>,\n",
       " 'jedi.evaluate.lazy_context': <module 'jedi.evaluate.lazy_context' from '/Users/a1101256/.pyenv/versions/3.7.2/lib/python3.7/site-packages/jedi/evaluate/lazy_context.py'>,\n",
       " 'jedi.evaluate.compiled.access': <module 'jedi.evaluate.compiled.access' from '/Users/a1101256/.pyenv/versions/3.7.2/lib/python3.7/site-packages/jedi/evaluate/compiled/access.py'>,\n",
       " 'jedi.evaluate.compiled.getattr_static': <module 'jedi.evaluate.compiled.getattr_static' from '/Users/a1101256/.pyenv/versions/3.7.2/lib/python3.7/site-packages/jedi/evaluate/compiled/getattr_static.py'>,\n",
       " 'jedi.evaluate.signature': <module 'jedi.evaluate.signature' from '/Users/a1101256/.pyenv/versions/3.7.2/lib/python3.7/site-packages/jedi/evaluate/signature.py'>,\n",
       " 'jedi.evaluate.analysis': <module 'jedi.evaluate.analysis' from '/Users/a1101256/.pyenv/versions/3.7.2/lib/python3.7/site-packages/jedi/evaluate/analysis.py'>,\n",
       " 'jedi.evaluate.gradual': <module 'jedi.evaluate.gradual' from '/Users/a1101256/.pyenv/versions/3.7.2/lib/python3.7/site-packages/jedi/evaluate/gradual/__init__.py'>,\n",
       " 'jedi.evaluate.gradual.typeshed': <module 'jedi.evaluate.gradual.typeshed' from '/Users/a1101256/.pyenv/versions/3.7.2/lib/python3.7/site-packages/jedi/evaluate/gradual/typeshed.py'>,\n",
       " 'jedi.evaluate.gradual.stub_context': <module 'jedi.evaluate.gradual.stub_context' from '/Users/a1101256/.pyenv/versions/3.7.2/lib/python3.7/site-packages/jedi/evaluate/gradual/stub_context.py'>,\n",
       " 'jedi.evaluate.context': <module 'jedi.evaluate.context' from '/Users/a1101256/.pyenv/versions/3.7.2/lib/python3.7/site-packages/jedi/evaluate/context/__init__.py'>,\n",
       " 'jedi.evaluate.context.module': <module 'jedi.evaluate.context.module' from '/Users/a1101256/.pyenv/versions/3.7.2/lib/python3.7/site-packages/jedi/evaluate/context/module.py'>,\n",
       " 'jedi.evaluate.context.klass': <module 'jedi.evaluate.context.klass' from '/Users/a1101256/.pyenv/versions/3.7.2/lib/python3.7/site-packages/jedi/evaluate/context/klass.py'>,\n",
       " 'jedi.evaluate.arguments': <module 'jedi.evaluate.arguments' from '/Users/a1101256/.pyenv/versions/3.7.2/lib/python3.7/site-packages/jedi/evaluate/arguments.py'>,\n",
       " 'jedi.evaluate.context.iterable': <module 'jedi.evaluate.context.iterable' from '/Users/a1101256/.pyenv/versions/3.7.2/lib/python3.7/site-packages/jedi/evaluate/context/iterable.py'>,\n",
       " 'jedi.evaluate.param': <module 'jedi.evaluate.param' from '/Users/a1101256/.pyenv/versions/3.7.2/lib/python3.7/site-packages/jedi/evaluate/param.py'>,\n",
       " 'jedi.evaluate.docstrings': <module 'jedi.evaluate.docstrings' from '/Users/a1101256/.pyenv/versions/3.7.2/lib/python3.7/site-packages/jedi/evaluate/docstrings.py'>,\n",
       " 'jedi.evaluate.context.function': <module 'jedi.evaluate.context.function' from '/Users/a1101256/.pyenv/versions/3.7.2/lib/python3.7/site-packages/jedi/evaluate/context/function.py'>,\n",
       " 'jedi.evaluate.parser_cache': <module 'jedi.evaluate.parser_cache' from '/Users/a1101256/.pyenv/versions/3.7.2/lib/python3.7/site-packages/jedi/evaluate/parser_cache.py'>,\n",
       " 'jedi.plugins': <module 'jedi.plugins' from '/Users/a1101256/.pyenv/versions/3.7.2/lib/python3.7/site-packages/jedi/plugins/__init__.py'>,\n",
       " 'jedi.evaluate.context.instance': <module 'jedi.evaluate.context.instance' from '/Users/a1101256/.pyenv/versions/3.7.2/lib/python3.7/site-packages/jedi/evaluate/context/instance.py'>,\n",
       " 'jedi.evaluate.gradual.typing': <module 'jedi.evaluate.gradual.typing' from '/Users/a1101256/.pyenv/versions/3.7.2/lib/python3.7/site-packages/jedi/evaluate/gradual/typing.py'>,\n",
       " 'jedi.evaluate.syntax_tree': <module 'jedi.evaluate.syntax_tree' from '/Users/a1101256/.pyenv/versions/3.7.2/lib/python3.7/site-packages/jedi/evaluate/syntax_tree.py'>,\n",
       " 'jedi.evaluate.finder': <module 'jedi.evaluate.finder' from '/Users/a1101256/.pyenv/versions/3.7.2/lib/python3.7/site-packages/jedi/evaluate/finder.py'>,\n",
       " 'jedi.evaluate.gradual.conversion': <module 'jedi.evaluate.gradual.conversion' from '/Users/a1101256/.pyenv/versions/3.7.2/lib/python3.7/site-packages/jedi/evaluate/gradual/conversion.py'>,\n",
       " 'jedi.evaluate.gradual.annotation': <module 'jedi.evaluate.gradual.annotation' from '/Users/a1101256/.pyenv/versions/3.7.2/lib/python3.7/site-packages/jedi/evaluate/gradual/annotation.py'>,\n",
       " 'jedi.evaluate.context.decorator': <module 'jedi.evaluate.context.decorator' from '/Users/a1101256/.pyenv/versions/3.7.2/lib/python3.7/site-packages/jedi/evaluate/context/decorator.py'>,\n",
       " 'jedi.api.keywords': <module 'jedi.api.keywords' from '/Users/a1101256/.pyenv/versions/3.7.2/lib/python3.7/site-packages/jedi/api/keywords.py'>,\n",
       " 'pydoc_data': <module 'pydoc_data' from '/Users/a1101256/.pyenv/versions/3.7.2/lib/python3.7/pydoc_data/__init__.py'>,\n",
       " 'pydoc_data.topics': <module 'pydoc_data.topics' from '/Users/a1101256/.pyenv/versions/3.7.2/lib/python3.7/pydoc_data/topics.py'>,\n",
       " 'jedi.api.interpreter': <module 'jedi.api.interpreter' from '/Users/a1101256/.pyenv/versions/3.7.2/lib/python3.7/site-packages/jedi/api/interpreter.py'>,\n",
       " 'jedi.evaluate.compiled.mixed': <module 'jedi.evaluate.compiled.mixed' from '/Users/a1101256/.pyenv/versions/3.7.2/lib/python3.7/site-packages/jedi/evaluate/compiled/mixed.py'>,\n",
       " 'jedi.api.helpers': <module 'jedi.api.helpers' from '/Users/a1101256/.pyenv/versions/3.7.2/lib/python3.7/site-packages/jedi/api/helpers.py'>,\n",
       " 'jedi.api.completion': <module 'jedi.api.completion' from '/Users/a1101256/.pyenv/versions/3.7.2/lib/python3.7/site-packages/jedi/api/completion.py'>,\n",
       " 'jedi.api.file_name': <module 'jedi.api.file_name' from '/Users/a1101256/.pyenv/versions/3.7.2/lib/python3.7/site-packages/jedi/api/file_name.py'>,\n",
       " 'jedi.api.environment': <module 'jedi.api.environment' from '/Users/a1101256/.pyenv/versions/3.7.2/lib/python3.7/site-packages/jedi/api/environment.py'>,\n",
       " 'filecmp': <module 'filecmp' from '/Users/a1101256/.pyenv/versions/3.7.2/lib/python3.7/filecmp.py'>,\n",
       " 'jedi.evaluate.compiled.subprocess': <module 'jedi.evaluate.compiled.subprocess' from '/Users/a1101256/.pyenv/versions/3.7.2/lib/python3.7/site-packages/jedi/evaluate/compiled/subprocess/__init__.py'>,\n",
       " 'jedi.evaluate.compiled.subprocess.functions': <module 'jedi.evaluate.compiled.subprocess.functions' from '/Users/a1101256/.pyenv/versions/3.7.2/lib/python3.7/site-packages/jedi/evaluate/compiled/subprocess/functions.py'>,\n",
       " 'jedi.api.exceptions': <module 'jedi.api.exceptions' from '/Users/a1101256/.pyenv/versions/3.7.2/lib/python3.7/site-packages/jedi/api/exceptions.py'>,\n",
       " 'jedi.api.project': <module 'jedi.api.project' from '/Users/a1101256/.pyenv/versions/3.7.2/lib/python3.7/site-packages/jedi/api/project.py'>,\n",
       " 'jedi.evaluate.usages': <module 'jedi.evaluate.usages' from '/Users/a1101256/.pyenv/versions/3.7.2/lib/python3.7/site-packages/jedi/evaluate/usages.py'>,\n",
       " 'jedi.evaluate.gradual.utils': <module 'jedi.evaluate.gradual.utils' from '/Users/a1101256/.pyenv/versions/3.7.2/lib/python3.7/site-packages/jedi/evaluate/gradual/utils.py'>,\n",
       " 'jedi.plugins.registry': <module 'jedi.plugins.registry' from '/Users/a1101256/.pyenv/versions/3.7.2/lib/python3.7/site-packages/jedi/plugins/registry.py'>,\n",
       " 'jedi.plugins.stdlib': <module 'jedi.plugins.stdlib' from '/Users/a1101256/.pyenv/versions/3.7.2/lib/python3.7/site-packages/jedi/plugins/stdlib.py'>,\n",
       " 'jedi.plugins.flask': <module 'jedi.plugins.flask' from '/Users/a1101256/.pyenv/versions/3.7.2/lib/python3.7/site-packages/jedi/plugins/flask.py'>,\n",
       " 'IPython.terminal.ptutils': <module 'IPython.terminal.ptutils' from '/Users/a1101256/.pyenv/versions/3.7.2/lib/python3.7/site-packages/IPython/terminal/ptutils.py'>,\n",
       " 'IPython.terminal.shortcuts': <module 'IPython.terminal.shortcuts' from '/Users/a1101256/.pyenv/versions/3.7.2/lib/python3.7/site-packages/IPython/terminal/shortcuts.py'>,\n",
       " 'IPython.terminal.magics': <module 'IPython.terminal.magics' from '/Users/a1101256/.pyenv/versions/3.7.2/lib/python3.7/site-packages/IPython/terminal/magics.py'>,\n",
       " 'IPython.lib.clipboard': <module 'IPython.lib.clipboard' from '/Users/a1101256/.pyenv/versions/3.7.2/lib/python3.7/site-packages/IPython/lib/clipboard.py'>,\n",
       " 'IPython.terminal.pt_inputhooks': <module 'IPython.terminal.pt_inputhooks' from '/Users/a1101256/.pyenv/versions/3.7.2/lib/python3.7/site-packages/IPython/terminal/pt_inputhooks/__init__.py'>,\n",
       " 'IPython.terminal.prompts': <module 'IPython.terminal.prompts' from '/Users/a1101256/.pyenv/versions/3.7.2/lib/python3.7/site-packages/IPython/terminal/prompts.py'>,\n",
       " 'IPython.terminal.ipapp': <module 'IPython.terminal.ipapp' from '/Users/a1101256/.pyenv/versions/3.7.2/lib/python3.7/site-packages/IPython/terminal/ipapp.py'>,\n",
       " 'IPython.core.magics': <module 'IPython.core.magics' from '/Users/a1101256/.pyenv/versions/3.7.2/lib/python3.7/site-packages/IPython/core/magics/__init__.py'>,\n",
       " 'IPython.core.magics.auto': <module 'IPython.core.magics.auto' from '/Users/a1101256/.pyenv/versions/3.7.2/lib/python3.7/site-packages/IPython/core/magics/auto.py'>,\n",
       " 'IPython.core.magics.basic': <module 'IPython.core.magics.basic' from '/Users/a1101256/.pyenv/versions/3.7.2/lib/python3.7/site-packages/IPython/core/magics/basic.py'>,\n",
       " 'IPython.core.magics.code': <module 'IPython.core.magics.code' from '/Users/a1101256/.pyenv/versions/3.7.2/lib/python3.7/site-packages/IPython/core/magics/code.py'>,\n",
       " 'urllib.request': <module 'urllib.request' from '/Users/a1101256/.pyenv/versions/3.7.2/lib/python3.7/urllib/request.py'>,\n",
       " 'email': <module 'email' from '/Users/a1101256/.pyenv/versions/3.7.2/lib/python3.7/email/__init__.py'>,\n",
       " 'http': <module 'http' from '/Users/a1101256/.pyenv/versions/3.7.2/lib/python3.7/http/__init__.py'>,\n",
       " 'http.client': <module 'http.client' from '/Users/a1101256/.pyenv/versions/3.7.2/lib/python3.7/http/client.py'>,\n",
       " 'email.parser': <module 'email.parser' from '/Users/a1101256/.pyenv/versions/3.7.2/lib/python3.7/email/parser.py'>,\n",
       " 'email.feedparser': <module 'email.feedparser' from '/Users/a1101256/.pyenv/versions/3.7.2/lib/python3.7/email/feedparser.py'>,\n",
       " 'email.errors': <module 'email.errors' from '/Users/a1101256/.pyenv/versions/3.7.2/lib/python3.7/email/errors.py'>,\n",
       " 'email._policybase': <module 'email._policybase' from '/Users/a1101256/.pyenv/versions/3.7.2/lib/python3.7/email/_policybase.py'>,\n",
       " 'email.header': <module 'email.header' from '/Users/a1101256/.pyenv/versions/3.7.2/lib/python3.7/email/header.py'>,\n",
       " 'email.quoprimime': <module 'email.quoprimime' from '/Users/a1101256/.pyenv/versions/3.7.2/lib/python3.7/email/quoprimime.py'>,\n",
       " 'email.base64mime': <module 'email.base64mime' from '/Users/a1101256/.pyenv/versions/3.7.2/lib/python3.7/email/base64mime.py'>,\n",
       " 'email.charset': <module 'email.charset' from '/Users/a1101256/.pyenv/versions/3.7.2/lib/python3.7/email/charset.py'>,\n",
       " 'email.encoders': <module 'email.encoders' from '/Users/a1101256/.pyenv/versions/3.7.2/lib/python3.7/email/encoders.py'>,\n",
       " 'quopri': <module 'quopri' from '/Users/a1101256/.pyenv/versions/3.7.2/lib/python3.7/quopri.py'>,\n",
       " 'email.utils': <module 'email.utils' from '/Users/a1101256/.pyenv/versions/3.7.2/lib/python3.7/email/utils.py'>,\n",
       " 'email._parseaddr': <module 'email._parseaddr' from '/Users/a1101256/.pyenv/versions/3.7.2/lib/python3.7/email/_parseaddr.py'>,\n",
       " 'calendar': <module 'calendar' from '/Users/a1101256/.pyenv/versions/3.7.2/lib/python3.7/calendar.py'>,\n",
       " 'email.message': <module 'email.message' from '/Users/a1101256/.pyenv/versions/3.7.2/lib/python3.7/email/message.py'>,\n",
       " 'uu': <module 'uu' from '/Users/a1101256/.pyenv/versions/3.7.2/lib/python3.7/uu.py'>,\n",
       " 'email._encoded_words': <module 'email._encoded_words' from '/Users/a1101256/.pyenv/versions/3.7.2/lib/python3.7/email/_encoded_words.py'>,\n",
       " 'email.iterators': <module 'email.iterators' from '/Users/a1101256/.pyenv/versions/3.7.2/lib/python3.7/email/iterators.py'>,\n",
       " 'urllib.error': <module 'urllib.error' from '/Users/a1101256/.pyenv/versions/3.7.2/lib/python3.7/urllib/error.py'>,\n",
       " 'urllib.response': <module 'urllib.response' from '/Users/a1101256/.pyenv/versions/3.7.2/lib/python3.7/urllib/response.py'>,\n",
       " '_scproxy': <module '_scproxy' from '/Users/a1101256/.pyenv/versions/3.7.2/lib/python3.7/lib-dynload/_scproxy.cpython-37m-darwin.so'>,\n",
       " 'IPython.core.magics.config': <module 'IPython.core.magics.config' from '/Users/a1101256/.pyenv/versions/3.7.2/lib/python3.7/site-packages/IPython/core/magics/config.py'>,\n",
       " 'IPython.core.magics.display': <module 'IPython.core.magics.display' from '/Users/a1101256/.pyenv/versions/3.7.2/lib/python3.7/site-packages/IPython/core/magics/display.py'>,\n",
       " 'IPython.core.magics.execution': <module 'IPython.core.magics.execution' from '/Users/a1101256/.pyenv/versions/3.7.2/lib/python3.7/site-packages/IPython/core/magics/execution.py'>,\n",
       " 'timeit': <module 'timeit' from '/Users/a1101256/.pyenv/versions/3.7.2/lib/python3.7/timeit.py'>,\n",
       " 'cProfile': <module 'cProfile' from '/Users/a1101256/.pyenv/versions/3.7.2/lib/python3.7/cProfile.py'>,\n",
       " '_lsprof': <module '_lsprof' from '/Users/a1101256/.pyenv/versions/3.7.2/lib/python3.7/lib-dynload/_lsprof.cpython-37m-darwin.so'>,\n",
       " 'profile': <module 'profile' from '/Users/a1101256/.pyenv/versions/3.7.2/lib/python3.7/profile.py'>,\n",
       " 'pstats': <module 'pstats' from '/Users/a1101256/.pyenv/versions/3.7.2/lib/python3.7/pstats.py'>,\n",
       " 'IPython.utils.module_paths': <module 'IPython.utils.module_paths' from '/Users/a1101256/.pyenv/versions/3.7.2/lib/python3.7/site-packages/IPython/utils/module_paths.py'>,\n",
       " 'IPython.utils.timing': <module 'IPython.utils.timing' from '/Users/a1101256/.pyenv/versions/3.7.2/lib/python3.7/site-packages/IPython/utils/timing.py'>,\n",
       " 'IPython.core.magics.extension': <module 'IPython.core.magics.extension' from '/Users/a1101256/.pyenv/versions/3.7.2/lib/python3.7/site-packages/IPython/core/magics/extension.py'>,\n",
       " 'IPython.core.magics.history': <module 'IPython.core.magics.history' from '/Users/a1101256/.pyenv/versions/3.7.2/lib/python3.7/site-packages/IPython/core/magics/history.py'>,\n",
       " 'IPython.core.magics.logging': <module 'IPython.core.magics.logging' from '/Users/a1101256/.pyenv/versions/3.7.2/lib/python3.7/site-packages/IPython/core/magics/logging.py'>,\n",
       " 'IPython.core.magics.namespace': <module 'IPython.core.magics.namespace' from '/Users/a1101256/.pyenv/versions/3.7.2/lib/python3.7/site-packages/IPython/core/magics/namespace.py'>,\n",
       " 'IPython.core.magics.osm': <module 'IPython.core.magics.osm' from '/Users/a1101256/.pyenv/versions/3.7.2/lib/python3.7/site-packages/IPython/core/magics/osm.py'>,\n",
       " 'IPython.core.magics.packaging': <module 'IPython.core.magics.packaging' from '/Users/a1101256/.pyenv/versions/3.7.2/lib/python3.7/site-packages/IPython/core/magics/packaging.py'>,\n",
       " 'IPython.core.magics.pylab': <module 'IPython.core.magics.pylab' from '/Users/a1101256/.pyenv/versions/3.7.2/lib/python3.7/site-packages/IPython/core/magics/pylab.py'>,\n",
       " 'IPython.core.pylabtools': <module 'IPython.core.pylabtools' from '/Users/a1101256/.pyenv/versions/3.7.2/lib/python3.7/site-packages/IPython/core/pylabtools.py'>,\n",
       " 'IPython.core.magics.script': <module 'IPython.core.magics.script' from '/Users/a1101256/.pyenv/versions/3.7.2/lib/python3.7/site-packages/IPython/core/magics/script.py'>,\n",
       " 'IPython.lib.backgroundjobs': <module 'IPython.lib.backgroundjobs' from '/Users/a1101256/.pyenv/versions/3.7.2/lib/python3.7/site-packages/IPython/lib/backgroundjobs.py'>,\n",
       " 'IPython.core.shellapp': <module 'IPython.core.shellapp' from '/Users/a1101256/.pyenv/versions/3.7.2/lib/python3.7/site-packages/IPython/core/shellapp.py'>,\n",
       " 'IPython.extensions': <module 'IPython.extensions' from '/Users/a1101256/.pyenv/versions/3.7.2/lib/python3.7/site-packages/IPython/extensions/__init__.py'>,\n",
       " 'IPython.extensions.storemagic': <module 'IPython.extensions.storemagic' from '/Users/a1101256/.pyenv/versions/3.7.2/lib/python3.7/site-packages/IPython/extensions/storemagic.py'>,\n",
       " 'IPython.utils.frame': <module 'IPython.utils.frame' from '/Users/a1101256/.pyenv/versions/3.7.2/lib/python3.7/site-packages/IPython/utils/frame.py'>,\n",
       " 'jupyter_client': <module 'jupyter_client' from '/Users/a1101256/.pyenv/versions/3.7.2/lib/python3.7/site-packages/jupyter_client/__init__.py'>,\n",
       " 'jupyter_client._version': <module 'jupyter_client._version' from '/Users/a1101256/.pyenv/versions/3.7.2/lib/python3.7/site-packages/jupyter_client/_version.py'>,\n",
       " 'jupyter_client.connect': <module 'jupyter_client.connect' from '/Users/a1101256/.pyenv/versions/3.7.2/lib/python3.7/site-packages/jupyter_client/connect.py'>,\n",
       " 'zmq': <module 'zmq' from '/Users/a1101256/.pyenv/versions/3.7.2/lib/python3.7/site-packages/zmq/__init__.py'>,\n",
       " 'ctypes': <module 'ctypes' from '/Users/a1101256/.pyenv/versions/3.7.2/lib/python3.7/ctypes/__init__.py'>,\n",
       " '_ctypes': <module '_ctypes' from '/Users/a1101256/.pyenv/versions/3.7.2/lib/python3.7/lib-dynload/_ctypes.cpython-37m-darwin.so'>,\n",
       " 'ctypes._endian': <module 'ctypes._endian' from '/Users/a1101256/.pyenv/versions/3.7.2/lib/python3.7/ctypes/_endian.py'>,\n",
       " 'zmq.libzmq': <module 'zmq.libzmq' from '/Users/a1101256/.pyenv/versions/3.7.2/lib/python3.7/site-packages/zmq/libzmq.cpython-37m-darwin.so'>,\n",
       " 'zmq.backend': <module 'zmq.backend' from '/Users/a1101256/.pyenv/versions/3.7.2/lib/python3.7/site-packages/zmq/backend/__init__.py'>,\n",
       " 'zmq.backend.select': <module 'zmq.backend.select' from '/Users/a1101256/.pyenv/versions/3.7.2/lib/python3.7/site-packages/zmq/backend/select.py'>,\n",
       " 'zmq.backend.cython': <module 'zmq.backend.cython' from '/Users/a1101256/.pyenv/versions/3.7.2/lib/python3.7/site-packages/zmq/backend/cython/__init__.py'>,\n",
       " 'zmq.backend.cython.constants': <module 'zmq.backend.cython.constants' from '/Users/a1101256/.pyenv/versions/3.7.2/lib/python3.7/site-packages/zmq/backend/cython/constants.cpython-37m-darwin.so'>,\n",
       " 'cython_runtime': <module 'cython_runtime'>,\n",
       " 'zmq.backend.cython.error': <module 'zmq.backend.cython.error' from '/Users/a1101256/.pyenv/versions/3.7.2/lib/python3.7/site-packages/zmq/backend/cython/error.cpython-37m-darwin.so'>,\n",
       " '_cython_0_29_13': <module '_cython_0_29_13'>,\n",
       " 'zmq.backend.cython.message': <module 'zmq.backend.cython.message' from '/Users/a1101256/.pyenv/versions/3.7.2/lib/python3.7/site-packages/zmq/backend/cython/message.cpython-37m-darwin.so'>,\n",
       " 'zmq.error': <module 'zmq.error' from '/Users/a1101256/.pyenv/versions/3.7.2/lib/python3.7/site-packages/zmq/error.py'>,\n",
       " 'zmq.backend.cython.context': <module 'zmq.backend.cython.context' from '/Users/a1101256/.pyenv/versions/3.7.2/lib/python3.7/site-packages/zmq/backend/cython/context.cpython-37m-darwin.so'>,\n",
       " 'zmq.backend.cython.socket': <module 'zmq.backend.cython.socket' from '/Users/a1101256/.pyenv/versions/3.7.2/lib/python3.7/site-packages/zmq/backend/cython/socket.cpython-37m-darwin.so'>,\n",
       " 'zmq.backend.cython.utils': <module 'zmq.backend.cython.utils' from '/Users/a1101256/.pyenv/versions/3.7.2/lib/python3.7/site-packages/zmq/backend/cython/utils.cpython-37m-darwin.so'>,\n",
       " 'zmq.backend.cython._poll': <module 'zmq.backend.cython._poll' from '/Users/a1101256/.pyenv/versions/3.7.2/lib/python3.7/site-packages/zmq/backend/cython/_poll.cpython-37m-darwin.so'>,\n",
       " 'zmq.backend.cython._version': <module 'zmq.backend.cython._version' from '/Users/a1101256/.pyenv/versions/3.7.2/lib/python3.7/site-packages/zmq/backend/cython/_version.cpython-37m-darwin.so'>,\n",
       " 'zmq.backend.cython._device': <module 'zmq.backend.cython._device' from '/Users/a1101256/.pyenv/versions/3.7.2/lib/python3.7/site-packages/zmq/backend/cython/_device.cpython-37m-darwin.so'>,\n",
       " 'zmq.backend.cython._proxy_steerable': <module 'zmq.backend.cython._proxy_steerable' from '/Users/a1101256/.pyenv/versions/3.7.2/lib/python3.7/site-packages/zmq/backend/cython/_proxy_steerable.cpython-37m-darwin.so'>,\n",
       " 'zmq.sugar': <module 'zmq.sugar' from '/Users/a1101256/.pyenv/versions/3.7.2/lib/python3.7/site-packages/zmq/sugar/__init__.py'>,\n",
       " 'zmq.sugar.constants': <module 'zmq.sugar.constants' from '/Users/a1101256/.pyenv/versions/3.7.2/lib/python3.7/site-packages/zmq/sugar/constants.py'>,\n",
       " 'zmq.utils': <module 'zmq.utils' from '/Users/a1101256/.pyenv/versions/3.7.2/lib/python3.7/site-packages/zmq/utils/__init__.py'>,\n",
       " 'zmq.utils.constant_names': <module 'zmq.utils.constant_names' from '/Users/a1101256/.pyenv/versions/3.7.2/lib/python3.7/site-packages/zmq/utils/constant_names.py'>,\n",
       " 'zmq.sugar.context': <module 'zmq.sugar.context' from '/Users/a1101256/.pyenv/versions/3.7.2/lib/python3.7/site-packages/zmq/sugar/context.py'>,\n",
       " 'zmq.sugar.attrsettr': <module 'zmq.sugar.attrsettr' from '/Users/a1101256/.pyenv/versions/3.7.2/lib/python3.7/site-packages/zmq/sugar/attrsettr.py'>,\n",
       " 'zmq.sugar.socket': <module 'zmq.sugar.socket' from '/Users/a1101256/.pyenv/versions/3.7.2/lib/python3.7/site-packages/zmq/sugar/socket.py'>,\n",
       " 'zmq.sugar.poll': <module 'zmq.sugar.poll' from '/Users/a1101256/.pyenv/versions/3.7.2/lib/python3.7/site-packages/zmq/sugar/poll.py'>,\n",
       " 'zmq.utils.jsonapi': <module 'zmq.utils.jsonapi' from '/Users/a1101256/.pyenv/versions/3.7.2/lib/python3.7/site-packages/zmq/utils/jsonapi.py'>,\n",
       " 'zmq.utils.strtypes': <module 'zmq.utils.strtypes' from '/Users/a1101256/.pyenv/versions/3.7.2/lib/python3.7/site-packages/zmq/utils/strtypes.py'>,\n",
       " 'zmq.sugar.frame': <module 'zmq.sugar.frame' from '/Users/a1101256/.pyenv/versions/3.7.2/lib/python3.7/site-packages/zmq/sugar/frame.py'>,\n",
       " 'zmq.sugar.tracker': <module 'zmq.sugar.tracker' from '/Users/a1101256/.pyenv/versions/3.7.2/lib/python3.7/site-packages/zmq/sugar/tracker.py'>,\n",
       " 'zmq.sugar.version': <module 'zmq.sugar.version' from '/Users/a1101256/.pyenv/versions/3.7.2/lib/python3.7/site-packages/zmq/sugar/version.py'>,\n",
       " 'zmq.sugar.stopwatch': <module 'zmq.sugar.stopwatch' from '/Users/a1101256/.pyenv/versions/3.7.2/lib/python3.7/site-packages/zmq/sugar/stopwatch.py'>,\n",
       " 'jupyter_client.localinterfaces': <module 'jupyter_client.localinterfaces' from '/Users/a1101256/.pyenv/versions/3.7.2/lib/python3.7/site-packages/jupyter_client/localinterfaces.py'>,\n",
       " 'jupyter_core': <module 'jupyter_core' from '/Users/a1101256/.pyenv/versions/3.7.2/lib/python3.7/site-packages/jupyter_core/__init__.py'>,\n",
       " 'jupyter_core.version': <module 'jupyter_core.version' from '/Users/a1101256/.pyenv/versions/3.7.2/lib/python3.7/site-packages/jupyter_core/version.py'>,\n",
       " 'jupyter_core.paths': <module 'jupyter_core.paths' from '/Users/a1101256/.pyenv/versions/3.7.2/lib/python3.7/site-packages/jupyter_core/paths.py'>,\n",
       " 'jupyter_client.launcher': <module 'jupyter_client.launcher' from '/Users/a1101256/.pyenv/versions/3.7.2/lib/python3.7/site-packages/jupyter_client/launcher.py'>,\n",
       " 'traitlets.log': <module 'traitlets.log' from '/Users/a1101256/.pyenv/versions/3.7.2/lib/python3.7/site-packages/traitlets/log.py'>,\n",
       " 'jupyter_client.client': <module 'jupyter_client.client' from '/Users/a1101256/.pyenv/versions/3.7.2/lib/python3.7/site-packages/jupyter_client/client.py'>,\n",
       " 'jupyter_client.channels': <module 'jupyter_client.channels' from '/Users/a1101256/.pyenv/versions/3.7.2/lib/python3.7/site-packages/jupyter_client/channels.py'>,\n",
       " 'jupyter_client.channelsabc': <module 'jupyter_client.channelsabc' from '/Users/a1101256/.pyenv/versions/3.7.2/lib/python3.7/site-packages/jupyter_client/channelsabc.py'>,\n",
       " 'jupyter_client.clientabc': <module 'jupyter_client.clientabc' from '/Users/a1101256/.pyenv/versions/3.7.2/lib/python3.7/site-packages/jupyter_client/clientabc.py'>,\n",
       " 'jupyter_client.manager': <module 'jupyter_client.manager' from '/Users/a1101256/.pyenv/versions/3.7.2/lib/python3.7/site-packages/jupyter_client/manager.py'>,\n",
       " 'jupyter_client.kernelspec': <module 'jupyter_client.kernelspec' from '/Users/a1101256/.pyenv/versions/3.7.2/lib/python3.7/site-packages/jupyter_client/kernelspec.py'>,\n",
       " 'jupyter_client.managerabc': <module 'jupyter_client.managerabc' from '/Users/a1101256/.pyenv/versions/3.7.2/lib/python3.7/site-packages/jupyter_client/managerabc.py'>,\n",
       " 'jupyter_client.blocking': <module 'jupyter_client.blocking' from '/Users/a1101256/.pyenv/versions/3.7.2/lib/python3.7/site-packages/jupyter_client/blocking/__init__.py'>,\n",
       " 'jupyter_client.blocking.client': <module 'jupyter_client.blocking.client' from '/Users/a1101256/.pyenv/versions/3.7.2/lib/python3.7/site-packages/jupyter_client/blocking/client.py'>,\n",
       " 'jupyter_client.blocking.channels': <module 'jupyter_client.blocking.channels' from '/Users/a1101256/.pyenv/versions/3.7.2/lib/python3.7/site-packages/jupyter_client/blocking/channels.py'>,\n",
       " 'jupyter_client.multikernelmanager': <module 'jupyter_client.multikernelmanager' from '/Users/a1101256/.pyenv/versions/3.7.2/lib/python3.7/site-packages/jupyter_client/multikernelmanager.py'>,\n",
       " 'uuid': <module 'uuid' from '/Users/a1101256/.pyenv/versions/3.7.2/lib/python3.7/uuid.py'>,\n",
       " 'ipykernel.kernelapp': <module 'ipykernel.kernelapp' from '/Users/a1101256/.pyenv/versions/3.7.2/lib/python3.7/site-packages/ipykernel/kernelapp.py'>,\n",
       " 'tornado': <module 'tornado' from '/Users/a1101256/.pyenv/versions/3.7.2/lib/python3.7/site-packages/tornado/__init__.py'>,\n",
       " 'tornado.ioloop': <module 'tornado.ioloop' from '/Users/a1101256/.pyenv/versions/3.7.2/lib/python3.7/site-packages/tornado/ioloop.py'>,\n",
       " 'numbers': <module 'numbers' from '/Users/a1101256/.pyenv/versions/3.7.2/lib/python3.7/numbers.py'>,\n",
       " 'tornado.concurrent': <module 'tornado.concurrent' from '/Users/a1101256/.pyenv/versions/3.7.2/lib/python3.7/site-packages/tornado/concurrent.py'>,\n",
       " 'tornado.log': <module 'tornado.log' from '/Users/a1101256/.pyenv/versions/3.7.2/lib/python3.7/site-packages/tornado/log.py'>,\n",
       " 'logging.handlers': <module 'logging.handlers' from '/Users/a1101256/.pyenv/versions/3.7.2/lib/python3.7/logging/handlers.py'>,\n",
       " 'tornado.escape': <module 'tornado.escape' from '/Users/a1101256/.pyenv/versions/3.7.2/lib/python3.7/site-packages/tornado/escape.py'>,\n",
       " 'tornado.util': <module 'tornado.util' from '/Users/a1101256/.pyenv/versions/3.7.2/lib/python3.7/site-packages/tornado/util.py'>,\n",
       " 'tornado.speedups': <module 'tornado.speedups' from '/Users/a1101256/.pyenv/versions/3.7.2/lib/python3.7/site-packages/tornado/speedups.cpython-37m-darwin.so'>,\n",
       " 'curses': <module 'curses' from '/Users/a1101256/.pyenv/versions/3.7.2/lib/python3.7/curses/__init__.py'>,\n",
       " '_curses': <module '_curses' from '/Users/a1101256/.pyenv/versions/3.7.2/lib/python3.7/lib-dynload/_curses.cpython-37m-darwin.so'>,\n",
       " 'zmq.eventloop': <module 'zmq.eventloop' from '/Users/a1101256/.pyenv/versions/3.7.2/lib/python3.7/site-packages/zmq/eventloop/__init__.py'>,\n",
       " 'zmq.eventloop.ioloop': <module 'zmq.eventloop.ioloop' from '/Users/a1101256/.pyenv/versions/3.7.2/lib/python3.7/site-packages/zmq/eventloop/ioloop.py'>,\n",
       " 'tornado.platform': <module 'tornado.platform' from '/Users/a1101256/.pyenv/versions/3.7.2/lib/python3.7/site-packages/tornado/platform/__init__.py'>,\n",
       " 'tornado.platform.asyncio': <module 'tornado.platform.asyncio' from '/Users/a1101256/.pyenv/versions/3.7.2/lib/python3.7/site-packages/tornado/platform/asyncio.py'>,\n",
       " 'tornado.gen': <module 'tornado.gen' from '/Users/a1101256/.pyenv/versions/3.7.2/lib/python3.7/site-packages/tornado/gen.py'>,\n",
       " 'zmq.eventloop.zmqstream': <module 'zmq.eventloop.zmqstream' from '/Users/a1101256/.pyenv/versions/3.7.2/lib/python3.7/site-packages/zmq/eventloop/zmqstream.py'>,\n",
       " 'ipykernel.iostream': <module 'ipykernel.iostream' from '/Users/a1101256/.pyenv/versions/3.7.2/lib/python3.7/site-packages/ipykernel/iostream.py'>,\n",
       " 'imp': <module 'imp' from '/Users/a1101256/.pyenv/versions/3.7.2/lib/python3.7/imp.py'>,\n",
       " 'jupyter_client.session': <module 'jupyter_client.session' from '/Users/a1101256/.pyenv/versions/3.7.2/lib/python3.7/site-packages/jupyter_client/session.py'>,\n",
       " 'hmac': <module 'hmac' from '/Users/a1101256/.pyenv/versions/3.7.2/lib/python3.7/hmac.py'>,\n",
       " 'jupyter_client.jsonutil': <module 'jupyter_client.jsonutil' from '/Users/a1101256/.pyenv/versions/3.7.2/lib/python3.7/site-packages/jupyter_client/jsonutil.py'>,\n",
       " 'dateutil': <module 'dateutil' from '/Users/a1101256/.pyenv/versions/3.7.2/lib/python3.7/site-packages/dateutil/__init__.py'>,\n",
       " 'dateutil._version': <module 'dateutil._version' from '/Users/a1101256/.pyenv/versions/3.7.2/lib/python3.7/site-packages/dateutil/_version.py'>,\n",
       " 'dateutil.parser': <module 'dateutil.parser' from '/Users/a1101256/.pyenv/versions/3.7.2/lib/python3.7/site-packages/dateutil/parser/__init__.py'>,\n",
       " 'dateutil.parser._parser': <module 'dateutil.parser._parser' from '/Users/a1101256/.pyenv/versions/3.7.2/lib/python3.7/site-packages/dateutil/parser/_parser.py'>,\n",
       " 'decimal': <module 'decimal' from '/Users/a1101256/.pyenv/versions/3.7.2/lib/python3.7/decimal.py'>,\n",
       " '_decimal': <module '_decimal' from '/Users/a1101256/.pyenv/versions/3.7.2/lib/python3.7/lib-dynload/_decimal.cpython-37m-darwin.so'>,\n",
       " 'dateutil.relativedelta': <module 'dateutil.relativedelta' from '/Users/a1101256/.pyenv/versions/3.7.2/lib/python3.7/site-packages/dateutil/relativedelta.py'>,\n",
       " 'dateutil._common': <module 'dateutil._common' from '/Users/a1101256/.pyenv/versions/3.7.2/lib/python3.7/site-packages/dateutil/_common.py'>,\n",
       " 'dateutil.tz': <module 'dateutil.tz' from '/Users/a1101256/.pyenv/versions/3.7.2/lib/python3.7/site-packages/dateutil/tz/__init__.py'>,\n",
       " 'dateutil.tz.tz': <module 'dateutil.tz.tz' from '/Users/a1101256/.pyenv/versions/3.7.2/lib/python3.7/site-packages/dateutil/tz/tz.py'>,\n",
       " 'dateutil.tz._common': <module 'dateutil.tz._common' from '/Users/a1101256/.pyenv/versions/3.7.2/lib/python3.7/site-packages/dateutil/tz/_common.py'>,\n",
       " 'dateutil.tz._factories': <module 'dateutil.tz._factories' from '/Users/a1101256/.pyenv/versions/3.7.2/lib/python3.7/site-packages/dateutil/tz/_factories.py'>,\n",
       " 'dateutil.parser.isoparser': <module 'dateutil.parser.isoparser' from '/Users/a1101256/.pyenv/versions/3.7.2/lib/python3.7/site-packages/dateutil/parser/isoparser.py'>,\n",
       " '_strptime': <module '_strptime' from '/Users/a1101256/.pyenv/versions/3.7.2/lib/python3.7/_strptime.py'>,\n",
       " 'jupyter_client.adapter': <module 'jupyter_client.adapter' from '/Users/a1101256/.pyenv/versions/3.7.2/lib/python3.7/site-packages/jupyter_client/adapter.py'>,\n",
       " 'ipykernel.heartbeat': <module 'ipykernel.heartbeat' from '/Users/a1101256/.pyenv/versions/3.7.2/lib/python3.7/site-packages/ipykernel/heartbeat.py'>,\n",
       " 'ipykernel.ipkernel': <module 'ipykernel.ipkernel' from '/Users/a1101256/.pyenv/versions/3.7.2/lib/python3.7/site-packages/ipykernel/ipkernel.py'>,\n",
       " 'IPython.utils.tokenutil': <module 'IPython.utils.tokenutil' from '/Users/a1101256/.pyenv/versions/3.7.2/lib/python3.7/site-packages/IPython/utils/tokenutil.py'>,\n",
       " 'ipykernel.comm': <module 'ipykernel.comm' from '/Users/a1101256/.pyenv/versions/3.7.2/lib/python3.7/site-packages/ipykernel/comm/__init__.py'>,\n",
       " 'ipykernel.comm.manager': <module 'ipykernel.comm.manager' from '/Users/a1101256/.pyenv/versions/3.7.2/lib/python3.7/site-packages/ipykernel/comm/manager.py'>,\n",
       " 'ipykernel.comm.comm': <module 'ipykernel.comm.comm' from '/Users/a1101256/.pyenv/versions/3.7.2/lib/python3.7/site-packages/ipykernel/comm/comm.py'>,\n",
       " 'ipykernel.kernelbase': <module 'ipykernel.kernelbase' from '/Users/a1101256/.pyenv/versions/3.7.2/lib/python3.7/site-packages/ipykernel/kernelbase.py'>,\n",
       " 'tornado.queues': <module 'tornado.queues' from '/Users/a1101256/.pyenv/versions/3.7.2/lib/python3.7/site-packages/tornado/queues.py'>,\n",
       " 'tornado.locks': <module 'tornado.locks' from '/Users/a1101256/.pyenv/versions/3.7.2/lib/python3.7/site-packages/tornado/locks.py'>,\n",
       " 'ipykernel.jsonutil': <module 'ipykernel.jsonutil' from '/Users/a1101256/.pyenv/versions/3.7.2/lib/python3.7/site-packages/ipykernel/jsonutil.py'>,\n",
       " 'ipykernel.zmqshell': <module 'ipykernel.zmqshell' from '/Users/a1101256/.pyenv/versions/3.7.2/lib/python3.7/site-packages/ipykernel/zmqshell.py'>,\n",
       " 'IPython.core.payloadpage': <module 'IPython.core.payloadpage' from '/Users/a1101256/.pyenv/versions/3.7.2/lib/python3.7/site-packages/IPython/core/payloadpage.py'>,\n",
       " 'ipykernel.displayhook': <module 'ipykernel.displayhook' from '/Users/a1101256/.pyenv/versions/3.7.2/lib/python3.7/site-packages/ipykernel/displayhook.py'>,\n",
       " 'ipykernel.parentpoller': <module 'ipykernel.parentpoller' from '/Users/a1101256/.pyenv/versions/3.7.2/lib/python3.7/site-packages/ipykernel/parentpoller.py'>,\n",
       " 'faulthandler': <module 'faulthandler' (built-in)>,\n",
       " 'ipykernel.datapub': <module 'ipykernel.datapub' from '/Users/a1101256/.pyenv/versions/3.7.2/lib/python3.7/site-packages/ipykernel/datapub.py'>,\n",
       " 'ipykernel.serialize': <module 'ipykernel.serialize' from '/Users/a1101256/.pyenv/versions/3.7.2/lib/python3.7/site-packages/ipykernel/serialize.py'>,\n",
       " 'ipykernel.pickleutil': <module 'ipykernel.pickleutil' from '/Users/a1101256/.pyenv/versions/3.7.2/lib/python3.7/site-packages/ipykernel/pickleutil.py'>,\n",
       " 'ipykernel.codeutil': <module 'ipykernel.codeutil' from '/Users/a1101256/.pyenv/versions/3.7.2/lib/python3.7/site-packages/ipykernel/codeutil.py'>,\n",
       " 'IPython.core.completerlib': <module 'IPython.core.completerlib' from '/Users/a1101256/.pyenv/versions/3.7.2/lib/python3.7/site-packages/IPython/core/completerlib.py'>,\n",
       " 'storemagic': <module 'storemagic' from '/Users/a1101256/.pyenv/versions/3.7.2/lib/python3.7/site-packages/IPython/extensions/storemagic.py'>,\n",
       " 'ipywidgets': <module 'ipywidgets' from '/Users/a1101256/.pyenv/versions/3.7.2/lib/python3.7/site-packages/ipywidgets/__init__.py'>,\n",
       " 'ipywidgets._version': <module 'ipywidgets._version' from '/Users/a1101256/.pyenv/versions/3.7.2/lib/python3.7/site-packages/ipywidgets/_version.py'>,\n",
       " 'ipywidgets.widgets': <module 'ipywidgets.widgets' from '/Users/a1101256/.pyenv/versions/3.7.2/lib/python3.7/site-packages/ipywidgets/widgets/__init__.py'>,\n",
       " 'ipywidgets.widgets.widget': <module 'ipywidgets.widgets.widget' from '/Users/a1101256/.pyenv/versions/3.7.2/lib/python3.7/site-packages/ipywidgets/widgets/widget.py'>,\n",
       " 'ipywidgets.widgets.domwidget': <module 'ipywidgets.widgets.domwidget' from '/Users/a1101256/.pyenv/versions/3.7.2/lib/python3.7/site-packages/ipywidgets/widgets/domwidget.py'>,\n",
       " 'ipywidgets.widgets.trait_types': <module 'ipywidgets.widgets.trait_types' from '/Users/a1101256/.pyenv/versions/3.7.2/lib/python3.7/site-packages/ipywidgets/widgets/trait_types.py'>,\n",
       " 'ipywidgets.widgets.util': <module 'ipywidgets.widgets.util' from '/Users/a1101256/.pyenv/versions/3.7.2/lib/python3.7/site-packages/ipywidgets/widgets/util.py'>,\n",
       " 'ipywidgets.widgets.widget_layout': <module 'ipywidgets.widgets.widget_layout' from '/Users/a1101256/.pyenv/versions/3.7.2/lib/python3.7/site-packages/ipywidgets/widgets/widget_layout.py'>,\n",
       " 'ipywidgets.widgets.widget_style': <module 'ipywidgets.widgets.widget_style' from '/Users/a1101256/.pyenv/versions/3.7.2/lib/python3.7/site-packages/ipywidgets/widgets/widget_style.py'>,\n",
       " 'ipywidgets.widgets.valuewidget': <module 'ipywidgets.widgets.valuewidget' from '/Users/a1101256/.pyenv/versions/3.7.2/lib/python3.7/site-packages/ipywidgets/widgets/valuewidget.py'>,\n",
       " 'ipywidgets.widgets.widget_core': <module 'ipywidgets.widgets.widget_core' from '/Users/a1101256/.pyenv/versions/3.7.2/lib/python3.7/site-packages/ipywidgets/widgets/widget_core.py'>,\n",
       " 'ipywidgets.widgets.widget_bool': <module 'ipywidgets.widgets.widget_bool' from '/Users/a1101256/.pyenv/versions/3.7.2/lib/python3.7/site-packages/ipywidgets/widgets/widget_bool.py'>,\n",
       " 'ipywidgets.widgets.widget_description': <module 'ipywidgets.widgets.widget_description' from '/Users/a1101256/.pyenv/versions/3.7.2/lib/python3.7/site-packages/ipywidgets/widgets/widget_description.py'>,\n",
       " 'ipywidgets.widgets.widget_button': <module 'ipywidgets.widgets.widget_button' from '/Users/a1101256/.pyenv/versions/3.7.2/lib/python3.7/site-packages/ipywidgets/widgets/widget_button.py'>,\n",
       " 'ipywidgets.widgets.widget_box': <module 'ipywidgets.widgets.widget_box' from '/Users/a1101256/.pyenv/versions/3.7.2/lib/python3.7/site-packages/ipywidgets/widgets/widget_box.py'>,\n",
       " 'ipywidgets.widgets.docutils': <module 'ipywidgets.widgets.docutils' from '/Users/a1101256/.pyenv/versions/3.7.2/lib/python3.7/site-packages/ipywidgets/widgets/docutils.py'>,\n",
       " 'ipywidgets.widgets.widget_float': <module 'ipywidgets.widgets.widget_float' from '/Users/a1101256/.pyenv/versions/3.7.2/lib/python3.7/site-packages/ipywidgets/widgets/widget_float.py'>,\n",
       " 'ipywidgets.widgets.widget_int': <module 'ipywidgets.widgets.widget_int' from '/Users/a1101256/.pyenv/versions/3.7.2/lib/python3.7/site-packages/ipywidgets/widgets/widget_int.py'>,\n",
       " 'ipywidgets.widgets.widget_color': <module 'ipywidgets.widgets.widget_color' from '/Users/a1101256/.pyenv/versions/3.7.2/lib/python3.7/site-packages/ipywidgets/widgets/widget_color.py'>,\n",
       " 'ipywidgets.widgets.widget_date': <module 'ipywidgets.widgets.widget_date' from '/Users/a1101256/.pyenv/versions/3.7.2/lib/python3.7/site-packages/ipywidgets/widgets/widget_date.py'>,\n",
       " 'ipywidgets.widgets.widget_output': <module 'ipywidgets.widgets.widget_output' from '/Users/a1101256/.pyenv/versions/3.7.2/lib/python3.7/site-packages/ipywidgets/widgets/widget_output.py'>,\n",
       " 'ipywidgets.widgets.widget_selection': <module 'ipywidgets.widgets.widget_selection' from '/Users/a1101256/.pyenv/versions/3.7.2/lib/python3.7/site-packages/ipywidgets/widgets/widget_selection.py'>,\n",
       " 'ipywidgets.widgets.widget_selectioncontainer': <module 'ipywidgets.widgets.widget_selectioncontainer' from '/Users/a1101256/.pyenv/versions/3.7.2/lib/python3.7/site-packages/ipywidgets/widgets/widget_selectioncontainer.py'>,\n",
       " 'ipywidgets.widgets.widget_string': <module 'ipywidgets.widgets.widget_string' from '/Users/a1101256/.pyenv/versions/3.7.2/lib/python3.7/site-packages/ipywidgets/widgets/widget_string.py'>,\n",
       " 'ipywidgets.widgets.widget_controller': <module 'ipywidgets.widgets.widget_controller' from '/Users/a1101256/.pyenv/versions/3.7.2/lib/python3.7/site-packages/ipywidgets/widgets/widget_controller.py'>,\n",
       " 'ipywidgets.widgets.interaction': <module 'ipywidgets.widgets.interaction' from '/Users/a1101256/.pyenv/versions/3.7.2/lib/python3.7/site-packages/ipywidgets/widgets/interaction.py'>,\n",
       " 'ipywidgets.widgets.widget_link': <module 'ipywidgets.widgets.widget_link' from '/Users/a1101256/.pyenv/versions/3.7.2/lib/python3.7/site-packages/ipywidgets/widgets/widget_link.py'>,\n",
       " 'ipywidgets.widgets.widget_media': <module 'ipywidgets.widgets.widget_media' from '/Users/a1101256/.pyenv/versions/3.7.2/lib/python3.7/site-packages/ipywidgets/widgets/widget_media.py'>,\n",
       " 'ipywidgets.widgets.widget_templates': <module 'ipywidgets.widgets.widget_templates' from '/Users/a1101256/.pyenv/versions/3.7.2/lib/python3.7/site-packages/ipywidgets/widgets/widget_templates.py'>,\n",
       " 'ipywidgets.widgets.widget_upload': <module 'ipywidgets.widgets.widget_upload' from '/Users/a1101256/.pyenv/versions/3.7.2/lib/python3.7/site-packages/ipywidgets/widgets/widget_upload.py'>}"
      ]
     },
     "execution_count": 3,
     "metadata": {},
     "output_type": "execute_result"
    }
   ],
   "source": [
    "sys.modules"
   ]
  },
  {
   "cell_type": "code",
   "execution_count": 4,
   "metadata": {},
   "outputs": [
    {
     "data": {
      "text/plain": [
       "dict"
      ]
     },
     "execution_count": 4,
     "metadata": {},
     "output_type": "execute_result"
    }
   ],
   "source": [
    "type(sys.modules)"
   ]
  },
  {
   "cell_type": "code",
   "execution_count": 5,
   "metadata": {},
   "outputs": [
    {
     "data": {
      "text/plain": [
       "<module 'math' from '/Users/a1101256/.pyenv/versions/3.7.2/lib/python3.7/lib-dynload/math.cpython-37m-darwin.so'>"
      ]
     },
     "execution_count": 5,
     "metadata": {},
     "output_type": "execute_result"
    }
   ],
   "source": [
    "sys.modules['math']"
   ]
  },
  {
   "cell_type": "code",
   "execution_count": 6,
   "metadata": {},
   "outputs": [
    {
     "data": {
      "text/plain": [
       "4409910200"
      ]
     },
     "execution_count": 6,
     "metadata": {},
     "output_type": "execute_result"
    }
   ],
   "source": [
    "id(sys.modules['math'])"
   ]
  },
  {
   "cell_type": "code",
   "execution_count": 7,
   "metadata": {},
   "outputs": [],
   "source": [
    "import fractions"
   ]
  },
  {
   "cell_type": "code",
   "execution_count": 8,
   "metadata": {},
   "outputs": [
    {
     "data": {
      "text/plain": [
       "<module 'fractions' from '/Users/a1101256/.pyenv/versions/3.7.2/lib/python3.7/fractions.py'>"
      ]
     },
     "execution_count": 8,
     "metadata": {},
     "output_type": "execute_result"
    }
   ],
   "source": [
    "sys.modules['fractions']"
   ]
  },
  {
   "cell_type": "code",
   "execution_count": 9,
   "metadata": {},
   "outputs": [
    {
     "data": {
      "text/plain": [
       "{'__name__': 'fractions',\n",
       " '__doc__': 'Fraction, infinite-precision, real numbers.',\n",
       " '__package__': '',\n",
       " '__loader__': <_frozen_importlib_external.SourceFileLoader at 0x108b7c1d0>,\n",
       " '__spec__': ModuleSpec(name='fractions', loader=<_frozen_importlib_external.SourceFileLoader object at 0x108b7c1d0>, origin='/Users/a1101256/.pyenv/versions/3.7.2/lib/python3.7/fractions.py'),\n",
       " '__file__': '/Users/a1101256/.pyenv/versions/3.7.2/lib/python3.7/fractions.py',\n",
       " '__cached__': '/Users/a1101256/.pyenv/versions/3.7.2/lib/python3.7/__pycache__/fractions.cpython-37.pyc',\n",
       " '__builtins__': {'__name__': 'builtins',\n",
       "  '__doc__': \"Built-in functions, exceptions, and other objects.\\n\\nNoteworthy: None is the `nil' object; Ellipsis represents `...' in slices.\",\n",
       "  '__package__': '',\n",
       "  '__loader__': _frozen_importlib.BuiltinImporter,\n",
       "  '__spec__': ModuleSpec(name='builtins', loader=<class '_frozen_importlib.BuiltinImporter'>),\n",
       "  '__build_class__': <function __build_class__>,\n",
       "  '__import__': <function __import__>,\n",
       "  'abs': <function abs(x, /)>,\n",
       "  'all': <function all(iterable, /)>,\n",
       "  'any': <function any(iterable, /)>,\n",
       "  'ascii': <function ascii(obj, /)>,\n",
       "  'bin': <function bin(number, /)>,\n",
       "  'breakpoint': <function breakpoint>,\n",
       "  'callable': <function callable(obj, /)>,\n",
       "  'chr': <function chr(i, /)>,\n",
       "  'compile': <function compile(source, filename, mode, flags=0, dont_inherit=False, optimize=-1)>,\n",
       "  'delattr': <function delattr(obj, name, /)>,\n",
       "  'dir': <function dir>,\n",
       "  'divmod': <function divmod(x, y, /)>,\n",
       "  'eval': <function eval(source, globals=None, locals=None, /)>,\n",
       "  'exec': <function exec(source, globals=None, locals=None, /)>,\n",
       "  'format': <function format(value, format_spec='', /)>,\n",
       "  'getattr': <function getattr>,\n",
       "  'globals': <function globals()>,\n",
       "  'hasattr': <function hasattr(obj, name, /)>,\n",
       "  'hash': <function hash(obj, /)>,\n",
       "  'hex': <function hex(number, /)>,\n",
       "  'id': <function id(obj, /)>,\n",
       "  'input': <bound method Kernel.raw_input of <ipykernel.ipkernel.IPythonKernel object at 0x108933f28>>,\n",
       "  'isinstance': <function isinstance(obj, class_or_tuple, /)>,\n",
       "  'issubclass': <function issubclass(cls, class_or_tuple, /)>,\n",
       "  'iter': <function iter>,\n",
       "  'len': <function len(obj, /)>,\n",
       "  'locals': <function locals()>,\n",
       "  'max': <function max>,\n",
       "  'min': <function min>,\n",
       "  'next': <function next>,\n",
       "  'oct': <function oct(number, /)>,\n",
       "  'ord': <function ord(c, /)>,\n",
       "  'pow': <function pow(x, y, z=None, /)>,\n",
       "  'print': <function print>,\n",
       "  'repr': <function repr(obj, /)>,\n",
       "  'round': <function round(number, ndigits=None)>,\n",
       "  'setattr': <function setattr(obj, name, value, /)>,\n",
       "  'sorted': <function sorted(iterable, /, *, key=None, reverse=False)>,\n",
       "  'sum': <function sum(iterable, start=0, /)>,\n",
       "  'vars': <function vars>,\n",
       "  'None': None,\n",
       "  'Ellipsis': Ellipsis,\n",
       "  'NotImplemented': NotImplemented,\n",
       "  'False': False,\n",
       "  'True': True,\n",
       "  'bool': bool,\n",
       "  'memoryview': memoryview,\n",
       "  'bytearray': bytearray,\n",
       "  'bytes': bytes,\n",
       "  'classmethod': classmethod,\n",
       "  'complex': complex,\n",
       "  'dict': dict,\n",
       "  'enumerate': enumerate,\n",
       "  'filter': filter,\n",
       "  'float': float,\n",
       "  'frozenset': frozenset,\n",
       "  'property': property,\n",
       "  'int': int,\n",
       "  'list': list,\n",
       "  'map': map,\n",
       "  'object': object,\n",
       "  'range': range,\n",
       "  'reversed': reversed,\n",
       "  'set': set,\n",
       "  'slice': slice,\n",
       "  'staticmethod': staticmethod,\n",
       "  'str': str,\n",
       "  'super': super,\n",
       "  'tuple': tuple,\n",
       "  'type': type,\n",
       "  'zip': zip,\n",
       "  '__debug__': True,\n",
       "  'BaseException': BaseException,\n",
       "  'Exception': Exception,\n",
       "  'TypeError': TypeError,\n",
       "  'StopAsyncIteration': StopAsyncIteration,\n",
       "  'StopIteration': StopIteration,\n",
       "  'GeneratorExit': GeneratorExit,\n",
       "  'SystemExit': SystemExit,\n",
       "  'KeyboardInterrupt': KeyboardInterrupt,\n",
       "  'ImportError': ImportError,\n",
       "  'ModuleNotFoundError': ModuleNotFoundError,\n",
       "  'OSError': OSError,\n",
       "  'EnvironmentError': OSError,\n",
       "  'IOError': OSError,\n",
       "  'EOFError': EOFError,\n",
       "  'RuntimeError': RuntimeError,\n",
       "  'RecursionError': RecursionError,\n",
       "  'NotImplementedError': NotImplementedError,\n",
       "  'NameError': NameError,\n",
       "  'UnboundLocalError': UnboundLocalError,\n",
       "  'AttributeError': AttributeError,\n",
       "  'SyntaxError': SyntaxError,\n",
       "  'IndentationError': IndentationError,\n",
       "  'TabError': TabError,\n",
       "  'LookupError': LookupError,\n",
       "  'IndexError': IndexError,\n",
       "  'KeyError': KeyError,\n",
       "  'ValueError': ValueError,\n",
       "  'UnicodeError': UnicodeError,\n",
       "  'UnicodeEncodeError': UnicodeEncodeError,\n",
       "  'UnicodeDecodeError': UnicodeDecodeError,\n",
       "  'UnicodeTranslateError': UnicodeTranslateError,\n",
       "  'AssertionError': AssertionError,\n",
       "  'ArithmeticError': ArithmeticError,\n",
       "  'FloatingPointError': FloatingPointError,\n",
       "  'OverflowError': OverflowError,\n",
       "  'ZeroDivisionError': ZeroDivisionError,\n",
       "  'SystemError': SystemError,\n",
       "  'ReferenceError': ReferenceError,\n",
       "  'MemoryError': MemoryError,\n",
       "  'BufferError': BufferError,\n",
       "  'Warning': Warning,\n",
       "  'UserWarning': UserWarning,\n",
       "  'DeprecationWarning': DeprecationWarning,\n",
       "  'PendingDeprecationWarning': PendingDeprecationWarning,\n",
       "  'SyntaxWarning': SyntaxWarning,\n",
       "  'RuntimeWarning': RuntimeWarning,\n",
       "  'FutureWarning': FutureWarning,\n",
       "  'ImportWarning': ImportWarning,\n",
       "  'UnicodeWarning': UnicodeWarning,\n",
       "  'BytesWarning': BytesWarning,\n",
       "  'ResourceWarning': ResourceWarning,\n",
       "  'ConnectionError': ConnectionError,\n",
       "  'BlockingIOError': BlockingIOError,\n",
       "  'BrokenPipeError': BrokenPipeError,\n",
       "  'ChildProcessError': ChildProcessError,\n",
       "  'ConnectionAbortedError': ConnectionAbortedError,\n",
       "  'ConnectionRefusedError': ConnectionRefusedError,\n",
       "  'ConnectionResetError': ConnectionResetError,\n",
       "  'FileExistsError': FileExistsError,\n",
       "  'FileNotFoundError': FileNotFoundError,\n",
       "  'IsADirectoryError': IsADirectoryError,\n",
       "  'NotADirectoryError': NotADirectoryError,\n",
       "  'InterruptedError': InterruptedError,\n",
       "  'PermissionError': PermissionError,\n",
       "  'ProcessLookupError': ProcessLookupError,\n",
       "  'TimeoutError': TimeoutError,\n",
       "  'open': <function io.open(file, mode='r', buffering=-1, encoding=None, errors=None, newline=None, closefd=True, opener=None)>,\n",
       "  'copyright': Copyright (c) 2001-2018 Python Software Foundation.\n",
       "  All Rights Reserved.\n",
       "  \n",
       "  Copyright (c) 2000 BeOpen.com.\n",
       "  All Rights Reserved.\n",
       "  \n",
       "  Copyright (c) 1995-2001 Corporation for National Research Initiatives.\n",
       "  All Rights Reserved.\n",
       "  \n",
       "  Copyright (c) 1991-1995 Stichting Mathematisch Centrum, Amsterdam.\n",
       "  All Rights Reserved.,\n",
       "  'credits':     Thanks to CWI, CNRI, BeOpen.com, Zope Corporation and a cast of thousands\n",
       "      for supporting Python development.  See www.python.org for more information.,\n",
       "  'license': Type license() to see the full license text,\n",
       "  'help': Type help() for interactive help, or help(object) for help about object.,\n",
       "  '__IPYTHON__': True,\n",
       "  'display': <function IPython.core.display.display(*objs, include=None, exclude=None, metadata=None, transient=None, display_id=None, **kwargs)>,\n",
       "  'get_ipython': <bound method InteractiveShell.get_ipython of <ipykernel.zmqshell.ZMQInteractiveShell object at 0x1085c2978>>},\n",
       " 'Decimal': decimal.Decimal,\n",
       " 'math': <module 'math' from '/Users/a1101256/.pyenv/versions/3.7.2/lib/python3.7/lib-dynload/math.cpython-37m-darwin.so'>,\n",
       " 'numbers': <module 'numbers' from '/Users/a1101256/.pyenv/versions/3.7.2/lib/python3.7/numbers.py'>,\n",
       " 'operator': <module 'operator' from '/Users/a1101256/.pyenv/versions/3.7.2/lib/python3.7/operator.py'>,\n",
       " 're': <module 're' from '/Users/a1101256/.pyenv/versions/3.7.2/lib/python3.7/re.py'>,\n",
       " 'sys': <module 'sys' (built-in)>,\n",
       " '__all__': ['Fraction', 'gcd'],\n",
       " 'gcd': <function fractions.gcd(a, b)>,\n",
       " '_gcd': <function fractions._gcd(a, b)>,\n",
       " '_PyHASH_MODULUS': 2305843009213693951,\n",
       " '_PyHASH_INF': 314159,\n",
       " '_RATIONAL_FORMAT': re.compile(r'\\n    \\A\\s*                      # optional whitespace at the start, then\\n    (?P<sign>[-+]?)            # an optional sign, then\\n    (?=\\d|\\.\\d)                # lookahead for digit or .digit\\n    (?P<num>\\d*)               # numerator (possibly empty)\\n    (?:                        # followed by\\n       (?:/(?P<denom>\\d+))?    # an optional denominator\\n    |                          # or\\n       (?:\\.(?P<decimal>\\d*))? # an optional fractional part\\n       (?:E(?P<exp>[-+]?\\d+))? # and optional exponent\\n    )\\n    \\s*\\Z                      # and optional whitespace to finish\\n',\n",
       " re.IGNORECASE|re.UNICODE|re.VERBOSE),\n",
       " 'Fraction': fractions.Fraction}"
      ]
     },
     "execution_count": 9,
     "metadata": {},
     "output_type": "execute_result"
    }
   ],
   "source": [
    "fractions.__dict__"
   ]
  },
  {
   "cell_type": "code",
   "execution_count": 10,
   "metadata": {},
   "outputs": [],
   "source": [
    "import types"
   ]
  },
  {
   "cell_type": "code",
   "execution_count": 11,
   "metadata": {},
   "outputs": [
    {
     "data": {
      "text/plain": [
       "True"
      ]
     },
     "execution_count": 11,
     "metadata": {},
     "output_type": "execute_result"
    }
   ],
   "source": [
    "isinstance(fractions, types.ModuleType)"
   ]
  },
  {
   "cell_type": "markdown",
   "metadata": {},
   "source": [
    "# Importing Modules\n",
    "\n",
    "- When we run a statement such as import fractions"
   ]
  },
  {
   "cell_type": "code",
   "execution_count": 12,
   "metadata": {},
   "outputs": [],
   "source": [
    "import sys"
   ]
  },
  {
   "cell_type": "code",
   "execution_count": 13,
   "metadata": {},
   "outputs": [
    {
     "data": {
      "text/plain": [
       "'/Users/a1101256/.pyenv/versions/3.7.2'"
      ]
     },
     "execution_count": 13,
     "metadata": {},
     "output_type": "execute_result"
    }
   ],
   "source": [
    "sys.prefix"
   ]
  },
  {
   "cell_type": "code",
   "execution_count": 14,
   "metadata": {},
   "outputs": [
    {
     "data": {
      "text/plain": [
       "'/Users/a1101256/.pyenv/versions/3.7.2'"
      ]
     },
     "execution_count": 14,
     "metadata": {},
     "output_type": "execute_result"
    }
   ],
   "source": [
    "sys.exec_prefix"
   ]
  },
  {
   "cell_type": "markdown",
   "metadata": {},
   "source": []
  },
  {
   "cell_type": "code",
   "execution_count": 15,
   "metadata": {},
   "outputs": [
    {
     "data": {
      "text/plain": [
       "['/Users/a1101256/git/kadensungbincho/Online_Lectures/Udemy/python_deep_dive_1_functional',\n",
       " '/Users/a1101256/.pyenv/versions/3.7.2/lib/python37.zip',\n",
       " '/Users/a1101256/.pyenv/versions/3.7.2/lib/python3.7',\n",
       " '/Users/a1101256/.pyenv/versions/3.7.2/lib/python3.7/lib-dynload',\n",
       " '',\n",
       " '/Users/a1101256/.pyenv/versions/3.7.2/lib/python3.7/site-packages',\n",
       " '/Users/a1101256/.pyenv/versions/3.7.2/lib/python3.7/site-packages/IPython/extensions',\n",
       " '/Users/a1101256/.ipython']"
      ]
     },
     "execution_count": 15,
     "metadata": {},
     "output_type": "execute_result"
    }
   ],
   "source": [
    "sys.path"
   ]
  },
  {
   "cell_type": "markdown",
   "metadata": {},
   "source": [
    "- checks the sys.modules cache to see if the module has already been imported - if so it simply uses the reference in there, otherwise\n",
    "- creates a new module object\n",
    "- loads the source code from file\n",
    "- adds an entry to sys.modules with name as key and the newly created\n",
    "- compiles and executes the code"
   ]
  },
  {
   "cell_type": "code",
   "execution_count": 1,
   "metadata": {},
   "outputs": [],
   "source": [
    "import sys"
   ]
  },
  {
   "cell_type": "code",
   "execution_count": 2,
   "metadata": {},
   "outputs": [],
   "source": [
    "sys.modules['test'] = lambda: 'Testing module caching'"
   ]
  },
  {
   "cell_type": "code",
   "execution_count": 3,
   "metadata": {},
   "outputs": [],
   "source": [
    "import test"
   ]
  },
  {
   "cell_type": "code",
   "execution_count": 4,
   "metadata": {},
   "outputs": [
    {
     "data": {
      "text/plain": [
       "'Testing module caching'"
      ]
     },
     "execution_count": 4,
     "metadata": {},
     "output_type": "execute_result"
    }
   ],
   "source": [
    "test()"
   ]
  },
  {
   "cell_type": "markdown",
   "metadata": {},
   "source": [
    "# Imports and importlib"
   ]
  },
  {
   "cell_type": "code",
   "execution_count": 5,
   "metadata": {},
   "outputs": [],
   "source": [
    "import sys"
   ]
  },
  {
   "cell_type": "code",
   "execution_count": 6,
   "metadata": {},
   "outputs": [
    {
     "data": {
      "text/plain": [
       "<module 'sys' (built-in)>"
      ]
     },
     "execution_count": 6,
     "metadata": {},
     "output_type": "execute_result"
    }
   ],
   "source": [
    "sys"
   ]
  },
  {
   "cell_type": "code",
   "execution_count": 7,
   "metadata": {},
   "outputs": [],
   "source": [
    "import collections"
   ]
  },
  {
   "cell_type": "code",
   "execution_count": 8,
   "metadata": {},
   "outputs": [
    {
     "data": {
      "text/plain": [
       "<module 'collections' from '/Users/a1101256/.pyenv/versions/3.7.2/lib/python3.7/collections/__init__.py'>"
      ]
     },
     "execution_count": 8,
     "metadata": {},
     "output_type": "execute_result"
    }
   ],
   "source": [
    "collections"
   ]
  },
  {
   "cell_type": "code",
   "execution_count": 9,
   "metadata": {},
   "outputs": [],
   "source": [
    "mod_name = 'math'"
   ]
  },
  {
   "cell_type": "code",
   "execution_count": 10,
   "metadata": {},
   "outputs": [],
   "source": [
    "import importlib"
   ]
  },
  {
   "cell_type": "code",
   "execution_count": 11,
   "metadata": {},
   "outputs": [
    {
     "data": {
      "text/plain": [
       "<module 'importlib' from '/Users/a1101256/.pyenv/versions/3.7.2/lib/python3.7/importlib/__init__.py'>"
      ]
     },
     "execution_count": 11,
     "metadata": {},
     "output_type": "execute_result"
    }
   ],
   "source": [
    "importlib"
   ]
  },
  {
   "cell_type": "code",
   "execution_count": 12,
   "metadata": {},
   "outputs": [
    {
     "data": {
      "text/plain": [
       "<module 'math' from '/Users/a1101256/.pyenv/versions/3.7.2/lib/python3.7/lib-dynload/math.cpython-37m-darwin.so'>"
      ]
     },
     "execution_count": 12,
     "metadata": {},
     "output_type": "execute_result"
    }
   ],
   "source": [
    "importlib.import_module(mod_name)"
   ]
  },
  {
   "cell_type": "code",
   "execution_count": 13,
   "metadata": {},
   "outputs": [
    {
     "data": {
      "text/plain": [
       "<module 'math' from '/Users/a1101256/.pyenv/versions/3.7.2/lib/python3.7/lib-dynload/math.cpython-37m-darwin.so'>"
      ]
     },
     "execution_count": 13,
     "metadata": {},
     "output_type": "execute_result"
    }
   ],
   "source": [
    "sys.modules['math']"
   ]
  },
  {
   "cell_type": "code",
   "execution_count": 14,
   "metadata": {},
   "outputs": [
    {
     "ename": "KeyError",
     "evalue": "'fractions'",
     "output_type": "error",
     "traceback": [
      "\u001b[0;31m---------------------------------------------------------------------------\u001b[0m",
      "\u001b[0;31mKeyError\u001b[0m                                  Traceback (most recent call last)",
      "\u001b[0;32m<ipython-input-14-d27faa790fa7>\u001b[0m in \u001b[0;36m<module>\u001b[0;34m\u001b[0m\n\u001b[0;32m----> 1\u001b[0;31m \u001b[0msys\u001b[0m\u001b[0;34m.\u001b[0m\u001b[0mmodules\u001b[0m\u001b[0;34m[\u001b[0m\u001b[0;34m'fractions'\u001b[0m\u001b[0;34m]\u001b[0m\u001b[0;34m\u001b[0m\u001b[0;34m\u001b[0m\u001b[0m\n\u001b[0m",
      "\u001b[0;31mKeyError\u001b[0m: 'fractions'"
     ]
    }
   ],
   "source": [
    "sys.modules['fractions']"
   ]
  },
  {
   "cell_type": "code",
   "execution_count": 15,
   "metadata": {},
   "outputs": [
    {
     "ename": "NameError",
     "evalue": "name 'math' is not defined",
     "output_type": "error",
     "traceback": [
      "\u001b[0;31m---------------------------------------------------------------------------\u001b[0m",
      "\u001b[0;31mNameError\u001b[0m                                 Traceback (most recent call last)",
      "\u001b[0;32m<ipython-input-15-b1a01eea6359>\u001b[0m in \u001b[0;36m<module>\u001b[0;34m\u001b[0m\n\u001b[0;32m----> 1\u001b[0;31m \u001b[0mmath\u001b[0m\u001b[0;34m.\u001b[0m\u001b[0msqrt\u001b[0m\u001b[0;34m(\u001b[0m\u001b[0;36m2\u001b[0m\u001b[0;34m)\u001b[0m\u001b[0;34m\u001b[0m\u001b[0;34m\u001b[0m\u001b[0m\n\u001b[0m",
      "\u001b[0;31mNameError\u001b[0m: name 'math' is not defined"
     ]
    }
   ],
   "source": [
    "math.sqrt(2)"
   ]
  },
  {
   "cell_type": "code",
   "execution_count": 16,
   "metadata": {},
   "outputs": [
    {
     "data": {
      "text/plain": [
       "False"
      ]
     },
     "execution_count": 16,
     "metadata": {},
     "output_type": "execute_result"
    }
   ],
   "source": [
    "'math' in globals()"
   ]
  },
  {
   "cell_type": "code",
   "execution_count": 18,
   "metadata": {},
   "outputs": [],
   "source": [
    "# import math as math2\n",
    "math2 = sys.modules['math']"
   ]
  },
  {
   "cell_type": "code",
   "execution_count": 19,
   "metadata": {},
   "outputs": [],
   "source": [
    "math2 = importlib.import_module(mod_name)"
   ]
  },
  {
   "cell_type": "code",
   "execution_count": 20,
   "metadata": {},
   "outputs": [
    {
     "data": {
      "text/plain": [
       "True"
      ]
     },
     "execution_count": 20,
     "metadata": {},
     "output_type": "execute_result"
    }
   ],
   "source": [
    "'math2' in globals()"
   ]
  },
  {
   "cell_type": "code",
   "execution_count": 21,
   "metadata": {},
   "outputs": [
    {
     "data": {
      "text/plain": [
       "4412916584"
      ]
     },
     "execution_count": 21,
     "metadata": {},
     "output_type": "execute_result"
    }
   ],
   "source": [
    "id(math2)"
   ]
  },
  {
   "cell_type": "code",
   "execution_count": 22,
   "metadata": {},
   "outputs": [
    {
     "data": {
      "text/plain": [
       "4412916584"
      ]
     },
     "execution_count": 22,
     "metadata": {},
     "output_type": "execute_result"
    }
   ],
   "source": [
    "id(sys.modules['math'])"
   ]
  },
  {
   "cell_type": "code",
   "execution_count": 1,
   "metadata": {},
   "outputs": [],
   "source": [
    "import sys"
   ]
  },
  {
   "cell_type": "code",
   "execution_count": 2,
   "metadata": {},
   "outputs": [
    {
     "name": "stdout",
     "output_type": "stream",
     "text": [
      "IPython\n",
      "IPython.core\n",
      "IPython.core.alias\n",
      "IPython.core.application\n",
      "IPython.core.async_helpers\n",
      "IPython.core.autocall\n",
      "IPython.core.builtin_trap\n",
      "IPython.core.compilerop\n",
      "IPython.core.completer\n",
      "IPython.core.completerlib\n",
      "IPython.core.crashhandler\n",
      "IPython.core.debugger\n",
      "IPython.core.display\n",
      "IPython.core.display_trap\n",
      "IPython.core.displayhook\n",
      "IPython.core.displaypub\n",
      "IPython.core.error\n",
      "IPython.core.events\n",
      "IPython.core.excolors\n",
      "IPython.core.extensions\n",
      "IPython.core.formatters\n",
      "IPython.core.getipython\n",
      "IPython.core.history\n",
      "IPython.core.hooks\n",
      "IPython.core.inputtransformer2\n",
      "IPython.core.interactiveshell\n",
      "IPython.core.latex_symbols\n",
      "IPython.core.logger\n",
      "IPython.core.macro\n",
      "IPython.core.magic\n",
      "IPython.core.magic_arguments\n",
      "IPython.core.magics\n",
      "IPython.core.magics.auto\n",
      "IPython.core.magics.basic\n",
      "IPython.core.magics.code\n",
      "IPython.core.magics.config\n",
      "IPython.core.magics.display\n",
      "IPython.core.magics.execution\n",
      "IPython.core.magics.extension\n",
      "IPython.core.magics.history\n",
      "IPython.core.magics.logging\n",
      "IPython.core.magics.namespace\n",
      "IPython.core.magics.osm\n",
      "IPython.core.magics.packaging\n",
      "IPython.core.magics.pylab\n",
      "IPython.core.magics.script\n",
      "IPython.core.oinspect\n",
      "IPython.core.page\n",
      "IPython.core.payload\n",
      "IPython.core.payloadpage\n",
      "IPython.core.prefilter\n",
      "IPython.core.profiledir\n",
      "IPython.core.pylabtools\n",
      "IPython.core.release\n",
      "IPython.core.shellapp\n",
      "IPython.core.splitinput\n",
      "IPython.core.ultratb\n",
      "IPython.core.usage\n",
      "IPython.display\n",
      "IPython.extensions\n",
      "IPython.extensions.storemagic\n",
      "IPython.lib\n",
      "IPython.lib.backgroundjobs\n",
      "IPython.lib.clipboard\n",
      "IPython.lib.display\n",
      "IPython.lib.pretty\n",
      "IPython.lib.security\n",
      "IPython.paths\n",
      "IPython.terminal\n",
      "IPython.terminal.debugger\n",
      "IPython.terminal.embed\n",
      "IPython.terminal.interactiveshell\n",
      "IPython.terminal.ipapp\n",
      "IPython.terminal.magics\n",
      "IPython.terminal.prompts\n",
      "IPython.terminal.pt_inputhooks\n",
      "IPython.terminal.ptutils\n",
      "IPython.terminal.shortcuts\n",
      "IPython.testing\n",
      "IPython.testing.skipdoctest\n",
      "IPython.utils\n",
      "IPython.utils.PyColorize\n",
      "IPython.utils._process_common\n",
      "IPython.utils._process_posix\n",
      "IPython.utils._sysinfo\n",
      "IPython.utils.capture\n",
      "IPython.utils.colorable\n",
      "IPython.utils.coloransi\n",
      "IPython.utils.contexts\n",
      "IPython.utils.data\n",
      "IPython.utils.decorators\n",
      "IPython.utils.dir2\n",
      "IPython.utils.encoding\n",
      "IPython.utils.frame\n",
      "IPython.utils.generics\n",
      "IPython.utils.importstring\n",
      "IPython.utils.io\n",
      "IPython.utils.ipstruct\n",
      "IPython.utils.module_paths\n",
      "IPython.utils.openpy\n",
      "IPython.utils.path\n",
      "IPython.utils.process\n",
      "IPython.utils.py3compat\n",
      "IPython.utils.sentinel\n",
      "IPython.utils.strdispatch\n",
      "IPython.utils.sysinfo\n",
      "IPython.utils.syspathcontext\n",
      "IPython.utils.tempdir\n",
      "IPython.utils.terminal\n",
      "IPython.utils.text\n",
      "IPython.utils.timing\n",
      "IPython.utils.tokenutil\n",
      "IPython.utils.wildcard\n",
      "__future__\n",
      "__main__\n",
      "_abc\n",
      "_ast\n",
      "_asyncio\n",
      "_bisect\n",
      "_blake2\n",
      "_bootlocale\n",
      "_bz2\n",
      "_codecs\n",
      "_collections\n",
      "_collections_abc\n",
      "_compat_pickle\n",
      "_compression\n",
      "_contextvars\n",
      "_ctypes\n",
      "_curses\n",
      "_cython_0_29_13\n",
      "_datetime\n",
      "_decimal\n",
      "_frozen_importlib\n",
      "_frozen_importlib_external\n",
      "_functools\n",
      "_hashlib\n",
      "_heapq\n",
      "_imp\n",
      "_io\n",
      "_json\n",
      "_locale\n",
      "_lsprof\n",
      "_opcode\n",
      "_operator\n",
      "_pickle\n",
      "_posixsubprocess\n",
      "_queue\n",
      "_random\n",
      "_scproxy\n",
      "_sha3\n",
      "_signal\n",
      "_sitebuiltins\n",
      "_socket\n",
      "_sqlite3\n",
      "_sre\n",
      "_ssl\n",
      "_stat\n",
      "_string\n",
      "_strptime\n",
      "_struct\n",
      "_thread\n",
      "_warnings\n",
      "_weakref\n",
      "_weakrefset\n",
      "abc\n",
      "argparse\n",
      "array\n",
      "ast\n",
      "asyncio\n",
      "asyncio.base_events\n",
      "asyncio.base_futures\n",
      "asyncio.base_subprocess\n",
      "asyncio.base_tasks\n",
      "asyncio.constants\n",
      "asyncio.coroutines\n",
      "asyncio.events\n",
      "asyncio.format_helpers\n",
      "asyncio.futures\n",
      "asyncio.locks\n",
      "asyncio.log\n",
      "asyncio.protocols\n",
      "asyncio.queues\n",
      "asyncio.runners\n",
      "asyncio.selector_events\n",
      "asyncio.sslproto\n",
      "asyncio.streams\n",
      "asyncio.subprocess\n",
      "asyncio.tasks\n",
      "asyncio.transports\n",
      "asyncio.unix_events\n",
      "atexit\n",
      "backcall\n",
      "backcall.backcall\n",
      "base64\n",
      "bdb\n",
      "binascii\n",
      "bisect\n",
      "builtins\n",
      "bz2\n",
      "cProfile\n",
      "calendar\n",
      "cmd\n",
      "code\n",
      "codecs\n",
      "codeop\n",
      "collections\n",
      "collections.abc\n",
      "colorsys\n",
      "concurrent\n",
      "concurrent.futures\n",
      "concurrent.futures._base\n",
      "contextlib\n",
      "contextvars\n",
      "copy\n",
      "copyreg\n",
      "ctypes\n",
      "ctypes._endian\n",
      "curses\n",
      "cython_runtime\n",
      "datetime\n",
      "dateutil\n",
      "dateutil._common\n",
      "dateutil._version\n",
      "dateutil.parser\n",
      "dateutil.parser._parser\n",
      "dateutil.parser.isoparser\n",
      "dateutil.relativedelta\n",
      "dateutil.tz\n",
      "dateutil.tz._common\n",
      "dateutil.tz._factories\n",
      "dateutil.tz.tz\n",
      "decimal\n",
      "decorator\n",
      "difflib\n",
      "dis\n",
      "email\n",
      "email._encoded_words\n",
      "email._parseaddr\n",
      "email._policybase\n",
      "email.base64mime\n",
      "email.charset\n",
      "email.encoders\n",
      "email.errors\n",
      "email.feedparser\n",
      "email.header\n",
      "email.iterators\n",
      "email.message\n",
      "email.parser\n",
      "email.quoprimime\n",
      "email.utils\n",
      "encodings\n",
      "encodings.aliases\n",
      "encodings.latin_1\n",
      "encodings.utf_8\n",
      "enum\n",
      "errno\n",
      "faulthandler\n",
      "fcntl\n",
      "filecmp\n",
      "fnmatch\n",
      "functools\n",
      "gc\n",
      "genericpath\n",
      "getopt\n",
      "getpass\n",
      "gettext\n",
      "glob\n",
      "grp\n",
      "hashlib\n",
      "heapq\n",
      "hmac\n",
      "html\n",
      "html.entities\n",
      "http\n",
      "http.client\n",
      "imp\n",
      "importlib\n",
      "importlib._bootstrap\n",
      "importlib._bootstrap_external\n",
      "importlib.abc\n",
      "importlib.machinery\n",
      "importlib.util\n",
      "inspect\n",
      "io\n",
      "ipykernel\n",
      "ipykernel._version\n",
      "ipykernel.codeutil\n",
      "ipykernel.comm\n",
      "ipykernel.comm.comm\n",
      "ipykernel.comm.manager\n",
      "ipykernel.connect\n",
      "ipykernel.datapub\n",
      "ipykernel.displayhook\n",
      "ipykernel.heartbeat\n",
      "ipykernel.iostream\n",
      "ipykernel.ipkernel\n",
      "ipykernel.jsonutil\n",
      "ipykernel.kernelapp\n",
      "ipykernel.kernelbase\n",
      "ipykernel.parentpoller\n",
      "ipykernel.pickleutil\n",
      "ipykernel.serialize\n",
      "ipykernel.zmqshell\n",
      "ipython_genutils\n",
      "ipython_genutils._version\n",
      "ipython_genutils.encoding\n",
      "ipython_genutils.importstring\n",
      "ipython_genutils.path\n",
      "ipython_genutils.py3compat\n",
      "ipython_genutils.text\n",
      "ipywidgets\n",
      "ipywidgets._version\n",
      "ipywidgets.widgets\n",
      "ipywidgets.widgets.docutils\n",
      "ipywidgets.widgets.domwidget\n",
      "ipywidgets.widgets.interaction\n",
      "ipywidgets.widgets.trait_types\n",
      "ipywidgets.widgets.util\n",
      "ipywidgets.widgets.valuewidget\n",
      "ipywidgets.widgets.widget\n",
      "ipywidgets.widgets.widget_bool\n",
      "ipywidgets.widgets.widget_box\n",
      "ipywidgets.widgets.widget_button\n",
      "ipywidgets.widgets.widget_color\n",
      "ipywidgets.widgets.widget_controller\n",
      "ipywidgets.widgets.widget_core\n",
      "ipywidgets.widgets.widget_date\n",
      "ipywidgets.widgets.widget_description\n",
      "ipywidgets.widgets.widget_float\n",
      "ipywidgets.widgets.widget_int\n",
      "ipywidgets.widgets.widget_layout\n",
      "ipywidgets.widgets.widget_link\n",
      "ipywidgets.widgets.widget_media\n",
      "ipywidgets.widgets.widget_output\n",
      "ipywidgets.widgets.widget_selection\n",
      "ipywidgets.widgets.widget_selectioncontainer\n",
      "ipywidgets.widgets.widget_string\n",
      "ipywidgets.widgets.widget_style\n",
      "ipywidgets.widgets.widget_templates\n",
      "ipywidgets.widgets.widget_upload\n",
      "itertools\n",
      "jedi\n",
      "jedi._compatibility\n",
      "jedi.api\n",
      "jedi.api.classes\n",
      "jedi.api.completion\n",
      "jedi.api.environment\n",
      "jedi.api.exceptions\n",
      "jedi.api.file_name\n",
      "jedi.api.helpers\n",
      "jedi.api.interpreter\n",
      "jedi.api.keywords\n",
      "jedi.api.project\n",
      "jedi.cache\n",
      "jedi.common\n",
      "jedi.common.context\n",
      "jedi.common.utils\n",
      "jedi.debug\n",
      "jedi.evaluate\n",
      "jedi.evaluate.analysis\n",
      "jedi.evaluate.arguments\n",
      "jedi.evaluate.base_context\n",
      "jedi.evaluate.cache\n",
      "jedi.evaluate.compiled\n",
      "jedi.evaluate.compiled.access\n",
      "jedi.evaluate.compiled.context\n",
      "jedi.evaluate.compiled.getattr_static\n",
      "jedi.evaluate.compiled.mixed\n",
      "jedi.evaluate.compiled.subprocess\n",
      "jedi.evaluate.compiled.subprocess.functions\n",
      "jedi.evaluate.context\n",
      "jedi.evaluate.context.decorator\n",
      "jedi.evaluate.context.function\n",
      "jedi.evaluate.context.instance\n",
      "jedi.evaluate.context.iterable\n",
      "jedi.evaluate.context.klass\n",
      "jedi.evaluate.context.module\n",
      "jedi.evaluate.docstrings\n",
      "jedi.evaluate.filters\n",
      "jedi.evaluate.finder\n",
      "jedi.evaluate.flow_analysis\n",
      "jedi.evaluate.gradual\n",
      "jedi.evaluate.gradual.annotation\n",
      "jedi.evaluate.gradual.conversion\n",
      "jedi.evaluate.gradual.stub_context\n",
      "jedi.evaluate.gradual.typeshed\n",
      "jedi.evaluate.gradual.typing\n",
      "jedi.evaluate.gradual.utils\n",
      "jedi.evaluate.helpers\n",
      "jedi.evaluate.imports\n",
      "jedi.evaluate.lazy_context\n",
      "jedi.evaluate.names\n",
      "jedi.evaluate.param\n",
      "jedi.evaluate.parser_cache\n",
      "jedi.evaluate.recursion\n",
      "jedi.evaluate.signature\n",
      "jedi.evaluate.syntax_tree\n",
      "jedi.evaluate.sys_path\n",
      "jedi.evaluate.usages\n",
      "jedi.evaluate.utils\n",
      "jedi.file_io\n",
      "jedi.parser_utils\n",
      "jedi.plugins\n",
      "jedi.plugins.flask\n",
      "jedi.plugins.registry\n",
      "jedi.plugins.stdlib\n",
      "jedi.settings\n",
      "json\n",
      "json.decoder\n",
      "json.encoder\n",
      "json.scanner\n",
      "jupyter_client\n",
      "jupyter_client._version\n",
      "jupyter_client.adapter\n",
      "jupyter_client.blocking\n",
      "jupyter_client.blocking.channels\n",
      "jupyter_client.blocking.client\n",
      "jupyter_client.channels\n",
      "jupyter_client.channelsabc\n",
      "jupyter_client.client\n",
      "jupyter_client.clientabc\n",
      "jupyter_client.connect\n",
      "jupyter_client.jsonutil\n",
      "jupyter_client.kernelspec\n",
      "jupyter_client.launcher\n",
      "jupyter_client.localinterfaces\n",
      "jupyter_client.manager\n",
      "jupyter_client.managerabc\n",
      "jupyter_client.multikernelmanager\n",
      "jupyter_client.session\n",
      "jupyter_core\n",
      "jupyter_core.paths\n",
      "jupyter_core.version\n",
      "keyword\n",
      "linecache\n",
      "locale\n",
      "logging\n",
      "logging.handlers\n",
      "marshal\n",
      "math\n",
      "mimetypes\n",
      "ntpath\n",
      "numbers\n",
      "opcode\n",
      "operator\n",
      "os\n",
      "os.path\n",
      "parso\n",
      "parso._compatibility\n",
      "parso.cache\n",
      "parso.file_io\n",
      "parso.grammar\n",
      "parso.normalizer\n",
      "parso.parser\n",
      "parso.pgen2\n",
      "parso.pgen2.generator\n",
      "parso.pgen2.grammar_parser\n",
      "parso.python\n",
      "parso.python.diff\n",
      "parso.python.errors\n",
      "parso.python.parser\n",
      "parso.python.pep8\n",
      "parso.python.prefix\n",
      "parso.python.token\n",
      "parso.python.tokenize\n",
      "parso.python.tree\n",
      "parso.tree\n",
      "parso.utils\n",
      "pathlib\n",
      "pdb\n",
      "pexpect\n",
      "pexpect.exceptions\n",
      "pexpect.expect\n",
      "pexpect.pty_spawn\n",
      "pexpect.run\n",
      "pexpect.spawnbase\n",
      "pexpect.utils\n",
      "pickle\n",
      "pickleshare\n",
      "pkgutil\n",
      "platform\n",
      "posix\n",
      "posixpath\n",
      "pprint\n",
      "profile\n",
      "prompt_toolkit\n",
      "prompt_toolkit.application\n",
      "prompt_toolkit.application.application\n",
      "prompt_toolkit.application.current\n",
      "prompt_toolkit.application.dummy\n",
      "prompt_toolkit.application.run_in_terminal\n",
      "prompt_toolkit.auto_suggest\n",
      "prompt_toolkit.buffer\n",
      "prompt_toolkit.cache\n",
      "prompt_toolkit.clipboard\n",
      "prompt_toolkit.clipboard.base\n",
      "prompt_toolkit.clipboard.in_memory\n",
      "prompt_toolkit.completion\n",
      "prompt_toolkit.completion.base\n",
      "prompt_toolkit.completion.filesystem\n",
      "prompt_toolkit.completion.fuzzy_completer\n",
      "prompt_toolkit.completion.word_completer\n",
      "prompt_toolkit.document\n",
      "prompt_toolkit.enums\n",
      "prompt_toolkit.eventloop\n",
      "prompt_toolkit.eventloop.async_generator\n",
      "prompt_toolkit.eventloop.base\n",
      "prompt_toolkit.eventloop.context\n",
      "prompt_toolkit.eventloop.coroutine\n",
      "prompt_toolkit.eventloop.defaults\n",
      "prompt_toolkit.eventloop.event\n",
      "prompt_toolkit.eventloop.future\n",
      "prompt_toolkit.filters\n",
      "prompt_toolkit.filters.app\n",
      "prompt_toolkit.filters.base\n",
      "prompt_toolkit.filters.cli\n",
      "prompt_toolkit.filters.utils\n",
      "prompt_toolkit.formatted_text\n",
      "prompt_toolkit.formatted_text.ansi\n",
      "prompt_toolkit.formatted_text.base\n",
      "prompt_toolkit.formatted_text.html\n",
      "prompt_toolkit.formatted_text.pygments\n",
      "prompt_toolkit.formatted_text.utils\n",
      "prompt_toolkit.history\n",
      "prompt_toolkit.input\n",
      "prompt_toolkit.input.ansi_escape_sequences\n",
      "prompt_toolkit.input.base\n",
      "prompt_toolkit.input.defaults\n",
      "prompt_toolkit.input.typeahead\n",
      "prompt_toolkit.input.vt100_parser\n",
      "prompt_toolkit.key_binding\n",
      "prompt_toolkit.key_binding.bindings\n",
      "prompt_toolkit.key_binding.bindings.auto_suggest\n",
      "prompt_toolkit.key_binding.bindings.basic\n",
      "prompt_toolkit.key_binding.bindings.completion\n",
      "prompt_toolkit.key_binding.bindings.cpr\n",
      "prompt_toolkit.key_binding.bindings.emacs\n",
      "prompt_toolkit.key_binding.bindings.focus\n",
      "prompt_toolkit.key_binding.bindings.mouse\n",
      "prompt_toolkit.key_binding.bindings.named_commands\n",
      "prompt_toolkit.key_binding.bindings.open_in_editor\n",
      "prompt_toolkit.key_binding.bindings.page_navigation\n",
      "prompt_toolkit.key_binding.bindings.scroll\n",
      "prompt_toolkit.key_binding.bindings.vi\n",
      "prompt_toolkit.key_binding.defaults\n",
      "prompt_toolkit.key_binding.digraphs\n",
      "prompt_toolkit.key_binding.emacs_state\n",
      "prompt_toolkit.key_binding.key_bindings\n",
      "prompt_toolkit.key_binding.key_processor\n",
      "prompt_toolkit.key_binding.vi_state\n",
      "prompt_toolkit.keys\n",
      "prompt_toolkit.layout\n",
      "prompt_toolkit.layout.containers\n",
      "prompt_toolkit.layout.controls\n",
      "prompt_toolkit.layout.dimension\n",
      "prompt_toolkit.layout.dummy\n",
      "prompt_toolkit.layout.layout\n",
      "prompt_toolkit.layout.margins\n",
      "prompt_toolkit.layout.menus\n",
      "prompt_toolkit.layout.mouse_handlers\n",
      "prompt_toolkit.layout.processors\n",
      "prompt_toolkit.layout.screen\n",
      "prompt_toolkit.layout.utils\n",
      "prompt_toolkit.lexers\n",
      "prompt_toolkit.lexers.base\n",
      "prompt_toolkit.lexers.pygments\n",
      "prompt_toolkit.log\n",
      "prompt_toolkit.mouse_events\n",
      "prompt_toolkit.output\n",
      "prompt_toolkit.output.base\n",
      "prompt_toolkit.output.color_depth\n",
      "prompt_toolkit.output.defaults\n",
      "prompt_toolkit.output.vt100\n",
      "prompt_toolkit.patch_stdout\n",
      "prompt_toolkit.renderer\n",
      "prompt_toolkit.search\n",
      "prompt_toolkit.selection\n",
      "prompt_toolkit.shortcuts\n",
      "prompt_toolkit.shortcuts.dialogs\n",
      "prompt_toolkit.shortcuts.progress_bar\n",
      "prompt_toolkit.shortcuts.progress_bar.base\n",
      "prompt_toolkit.shortcuts.progress_bar.formatters\n",
      "prompt_toolkit.shortcuts.prompt\n",
      "prompt_toolkit.shortcuts.utils\n",
      "prompt_toolkit.styles\n",
      "prompt_toolkit.styles.base\n",
      "prompt_toolkit.styles.defaults\n",
      "prompt_toolkit.styles.named_colors\n",
      "prompt_toolkit.styles.pygments\n",
      "prompt_toolkit.styles.style\n",
      "prompt_toolkit.styles.style_transformation\n",
      "prompt_toolkit.utils\n",
      "prompt_toolkit.validation\n",
      "prompt_toolkit.widgets\n",
      "prompt_toolkit.widgets.base\n",
      "prompt_toolkit.widgets.dialogs\n",
      "prompt_toolkit.widgets.menus\n",
      "prompt_toolkit.widgets.toolbars\n",
      "pstats\n",
      "pty\n",
      "ptyprocess\n",
      "ptyprocess.ptyprocess\n",
      "ptyprocess.util\n",
      "pwd\n",
      "pydoc\n",
      "pydoc_data\n",
      "pydoc_data.topics\n",
      "pygments\n",
      "pygments.filter\n",
      "pygments.filters\n",
      "pygments.formatter\n",
      "pygments.formatters\n",
      "pygments.formatters._mapping\n",
      "pygments.formatters.html\n",
      "pygments.lexer\n",
      "pygments.lexers\n",
      "pygments.lexers._mapping\n",
      "pygments.lexers.python\n",
      "pygments.modeline\n",
      "pygments.plugin\n",
      "pygments.regexopt\n",
      "pygments.style\n",
      "pygments.styles\n",
      "pygments.token\n",
      "pygments.unistring\n",
      "pygments.util\n",
      "queue\n",
      "quopri\n",
      "random\n",
      "re\n",
      "reprlib\n",
      "resource\n",
      "runpy\n",
      "select\n",
      "selectors\n",
      "shlex\n",
      "shutil\n",
      "signal\n",
      "site\n",
      "six\n",
      "six.moves\n",
      "six.moves.queue\n",
      "socket\n",
      "sqlite3\n",
      "sqlite3.dbapi2\n",
      "sre_compile\n",
      "sre_constants\n",
      "sre_parse\n",
      "ssl\n",
      "stat\n",
      "storemagic\n",
      "string\n",
      "struct\n",
      "subprocess\n",
      "sys\n",
      "tempfile\n",
      "termios\n",
      "textwrap\n",
      "threading\n",
      "time\n",
      "timeit\n",
      "token\n",
      "tokenize\n",
      "tornado\n",
      "tornado.concurrent\n",
      "tornado.escape\n",
      "tornado.gen\n",
      "tornado.ioloop\n",
      "tornado.locks\n",
      "tornado.log\n",
      "tornado.platform\n",
      "tornado.platform.asyncio\n",
      "tornado.queues\n",
      "tornado.speedups\n",
      "tornado.util\n",
      "traceback\n",
      "traitlets\n",
      "traitlets._version\n",
      "traitlets.config\n",
      "traitlets.config.application\n",
      "traitlets.config.configurable\n",
      "traitlets.config.loader\n",
      "traitlets.log\n",
      "traitlets.traitlets\n",
      "traitlets.utils\n",
      "traitlets.utils.bunch\n",
      "traitlets.utils.getargspec\n",
      "traitlets.utils.importstring\n",
      "traitlets.utils.sentinel\n",
      "tty\n",
      "types\n",
      "typing\n",
      "typing.io\n",
      "typing.re\n",
      "unicodedata\n",
      "urllib\n",
      "urllib.error\n",
      "urllib.parse\n",
      "urllib.request\n",
      "urllib.response\n",
      "uu\n",
      "uuid\n",
      "warnings\n",
      "wcwidth\n",
      "wcwidth.table_wide\n",
      "wcwidth.table_zero\n",
      "wcwidth.wcwidth\n",
      "weakref\n",
      "xml\n",
      "xml.dom\n",
      "xml.dom.NodeFilter\n",
      "xml.dom.domreg\n",
      "xml.dom.minicompat\n",
      "xml.dom.minidom\n",
      "xml.dom.xmlbuilder\n",
      "zipimport\n",
      "zlib\n",
      "zmq\n",
      "zmq.backend\n",
      "zmq.backend.cython\n",
      "zmq.backend.cython._device\n",
      "zmq.backend.cython._poll\n",
      "zmq.backend.cython._proxy_steerable\n",
      "zmq.backend.cython._version\n",
      "zmq.backend.cython.constants\n",
      "zmq.backend.cython.context\n",
      "zmq.backend.cython.error\n",
      "zmq.backend.cython.message\n",
      "zmq.backend.cython.socket\n",
      "zmq.backend.cython.utils\n",
      "zmq.backend.select\n",
      "zmq.error\n",
      "zmq.eventloop\n",
      "zmq.eventloop.ioloop\n",
      "zmq.eventloop.zmqstream\n",
      "zmq.libzmq\n",
      "zmq.sugar\n",
      "zmq.sugar.attrsettr\n",
      "zmq.sugar.constants\n",
      "zmq.sugar.context\n",
      "zmq.sugar.frame\n",
      "zmq.sugar.poll\n",
      "zmq.sugar.socket\n",
      "zmq.sugar.stopwatch\n",
      "zmq.sugar.tracker\n",
      "zmq.sugar.version\n",
      "zmq.utils\n",
      "zmq.utils.constant_names\n",
      "zmq.utils.jsonapi\n",
      "zmq.utils.strtypes\n"
     ]
    }
   ],
   "source": [
    "for key in sorted(sys.modules.keys()):\n",
    "    print(key)"
   ]
  },
  {
   "cell_type": "code",
   "execution_count": 3,
   "metadata": {},
   "outputs": [
    {
     "data": {
      "text/plain": [
       "False"
      ]
     },
     "execution_count": 3,
     "metadata": {},
     "output_type": "execute_result"
    }
   ],
   "source": [
    "'cmath' in sys.modules"
   ]
  },
  {
   "cell_type": "code",
   "execution_count": 4,
   "metadata": {},
   "outputs": [],
   "source": [
    "from cmath import exp"
   ]
  },
  {
   "cell_type": "code",
   "execution_count": 5,
   "metadata": {},
   "outputs": [
    {
     "data": {
      "text/plain": [
       "False"
      ]
     },
     "execution_count": 5,
     "metadata": {},
     "output_type": "execute_result"
    }
   ],
   "source": [
    "'cmath' in globals()"
   ]
  },
  {
   "cell_type": "code",
   "execution_count": 6,
   "metadata": {},
   "outputs": [
    {
     "data": {
      "text/plain": [
       "True"
      ]
     },
     "execution_count": 6,
     "metadata": {},
     "output_type": "execute_result"
    }
   ],
   "source": [
    "'exp' in globals()"
   ]
  },
  {
   "cell_type": "code",
   "execution_count": 7,
   "metadata": {},
   "outputs": [
    {
     "data": {
      "text/plain": [
       "<function cmath.exp(z, /)>"
      ]
     },
     "execution_count": 7,
     "metadata": {},
     "output_type": "execute_result"
    }
   ],
   "source": [
    "exp"
   ]
  },
  {
   "cell_type": "code",
   "execution_count": 8,
   "metadata": {},
   "outputs": [
    {
     "data": {
      "text/plain": [
       "True"
      ]
     },
     "execution_count": 8,
     "metadata": {},
     "output_type": "execute_result"
    }
   ],
   "source": [
    "'cmath' in sys.modules"
   ]
  },
  {
   "cell_type": "markdown",
   "metadata": {},
   "source": [
    "# Reloading Modules"
   ]
  },
  {
   "cell_type": "code",
   "execution_count": 9,
   "metadata": {},
   "outputs": [],
   "source": [
    "import os\n",
    "\n",
    "def create_module_file(module_name, **kwargs):\n",
    "    '''create a module file named <mobule_name>.py\n",
    "    Module has a single function (print_values) that will pring\n",
    "    out the supplied kwargs'''\n",
    "    \n",
    "    module_file_name = f'{module_name}.py'\n",
    "    \n",
    "    module_rel_file_path = module_file_name\n",
    "    module_abs_file_path = os.path.abspath(module_rel_file_path)\n",
    "    \n",
    "    with open(module_abs_file_path, 'w') as f:\n",
    "        f.write(f'# {module_name}.py\\n\\n')\n",
    "        f.write(f\"print('running {module_file_name}...')\\n\\n\")\n",
    "        f.write(f'def print_values():\\n')\n",
    "        for key, value in kwargs.items():\n",
    "            f.write(f\"\\tprint('{str(key)}', '{str(value)}')\\n\")\n",
    "    "
   ]
  },
  {
   "cell_type": "code",
   "execution_count": 10,
   "metadata": {},
   "outputs": [],
   "source": [
    "create_module_file('test', k1=10, k2='python')"
   ]
  },
  {
   "cell_type": "code",
   "execution_count": 11,
   "metadata": {},
   "outputs": [
    {
     "name": "stdout",
     "output_type": "stream",
     "text": [
      "running test.py...\n"
     ]
    }
   ],
   "source": [
    "import test"
   ]
  },
  {
   "cell_type": "code",
   "execution_count": 12,
   "metadata": {},
   "outputs": [
    {
     "data": {
      "text/plain": [
       "<module 'test' from '/Users/a1101256/git/kadensungbincho/Online_Lectures/Udemy/python_deep_dive_1_functional/test.py'>"
      ]
     },
     "execution_count": 12,
     "metadata": {},
     "output_type": "execute_result"
    }
   ],
   "source": [
    "test"
   ]
  },
  {
   "cell_type": "code",
   "execution_count": 13,
   "metadata": {},
   "outputs": [
    {
     "name": "stdout",
     "output_type": "stream",
     "text": [
      "k1 10\n",
      "k2 python\n"
     ]
    }
   ],
   "source": [
    "test.print_values()"
   ]
  },
  {
   "cell_type": "code",
   "execution_count": 14,
   "metadata": {},
   "outputs": [],
   "source": [
    "create_module_file('test', k1=10, k2='python', k3='cheese')"
   ]
  },
  {
   "cell_type": "code",
   "execution_count": 15,
   "metadata": {},
   "outputs": [],
   "source": [
    "import test"
   ]
  },
  {
   "cell_type": "code",
   "execution_count": 16,
   "metadata": {},
   "outputs": [
    {
     "name": "stdout",
     "output_type": "stream",
     "text": [
      "k1 10\n",
      "k2 python\n"
     ]
    }
   ],
   "source": [
    "test.print_values()"
   ]
  },
  {
   "cell_type": "code",
   "execution_count": 17,
   "metadata": {},
   "outputs": [
    {
     "data": {
      "text/plain": [
       "4340745544"
      ]
     },
     "execution_count": 17,
     "metadata": {},
     "output_type": "execute_result"
    }
   ],
   "source": [
    "id(test)"
   ]
  },
  {
   "cell_type": "code",
   "execution_count": 18,
   "metadata": {},
   "outputs": [],
   "source": [
    "import sys"
   ]
  },
  {
   "cell_type": "code",
   "execution_count": 19,
   "metadata": {},
   "outputs": [
    {
     "data": {
      "text/plain": [
       "True"
      ]
     },
     "execution_count": 19,
     "metadata": {},
     "output_type": "execute_result"
    }
   ],
   "source": [
    "'test' in sys.modules"
   ]
  },
  {
   "cell_type": "code",
   "execution_count": 20,
   "metadata": {},
   "outputs": [],
   "source": [
    "del sys.modules['test']"
   ]
  },
  {
   "cell_type": "code",
   "execution_count": 21,
   "metadata": {},
   "outputs": [
    {
     "data": {
      "text/plain": [
       "False"
      ]
     },
     "execution_count": 21,
     "metadata": {},
     "output_type": "execute_result"
    }
   ],
   "source": [
    "'test' in sys.modules"
   ]
  },
  {
   "cell_type": "code",
   "execution_count": 22,
   "metadata": {},
   "outputs": [
    {
     "name": "stdout",
     "output_type": "stream",
     "text": [
      "running test.py...\n"
     ]
    }
   ],
   "source": [
    "import test"
   ]
  },
  {
   "cell_type": "code",
   "execution_count": 23,
   "metadata": {},
   "outputs": [
    {
     "data": {
      "text/plain": [
       "4340560744"
      ]
     },
     "execution_count": 23,
     "metadata": {},
     "output_type": "execute_result"
    }
   ],
   "source": [
    "id(sys.modules['test'])"
   ]
  },
  {
   "cell_type": "code",
   "execution_count": 24,
   "metadata": {},
   "outputs": [
    {
     "data": {
      "text/plain": [
       "True"
      ]
     },
     "execution_count": 24,
     "metadata": {},
     "output_type": "execute_result"
    }
   ],
   "source": [
    "'test' in globals()"
   ]
  },
  {
   "cell_type": "code",
   "execution_count": 25,
   "metadata": {},
   "outputs": [
    {
     "data": {
      "text/plain": [
       "4340560744"
      ]
     },
     "execution_count": 25,
     "metadata": {},
     "output_type": "execute_result"
    }
   ],
   "source": [
    "id(test)"
   ]
  },
  {
   "cell_type": "code",
   "execution_count": 26,
   "metadata": {},
   "outputs": [
    {
     "name": "stdout",
     "output_type": "stream",
     "text": [
      "k1 10\n",
      "k2 python\n",
      "k3 cheese\n"
     ]
    }
   ],
   "source": [
    "test.print_values()"
   ]
  },
  {
   "cell_type": "code",
   "execution_count": 27,
   "metadata": {},
   "outputs": [
    {
     "name": "stdout",
     "output_type": "stream",
     "text": [
      "running test.py...\n"
     ]
    },
    {
     "data": {
      "text/plain": [
       "<module 'test' from '/Users/a1101256/git/kadensungbincho/Online_Lectures/Udemy/python_deep_dive_1_functional/test.py'>"
      ]
     },
     "execution_count": 27,
     "metadata": {},
     "output_type": "execute_result"
    }
   ],
   "source": [
    "import importlib\n",
    "\n",
    "importlib.reload(test)"
   ]
  },
  {
   "cell_type": "markdown",
   "metadata": {},
   "source": [
    "# Using __main__"
   ]
  },
  {
   "cell_type": "code",
   "execution_count": 28,
   "metadata": {},
   "outputs": [],
   "source": [
    "# run.py"
   ]
  },
  {
   "cell_type": "code",
   "execution_count": 1,
   "metadata": {},
   "outputs": [],
   "source": [
    "import sys"
   ]
  },
  {
   "cell_type": "code",
   "execution_count": 2,
   "metadata": {},
   "outputs": [
    {
     "data": {
      "text/plain": [
       "[_frozen_importlib.BuiltinImporter,\n",
       " _frozen_importlib.FrozenImporter,\n",
       " _frozen_importlib_external.PathFinder,\n",
       " <six._SixMetaPathImporter at 0x10eba2eb8>]"
      ]
     },
     "execution_count": 2,
     "metadata": {},
     "output_type": "execute_result"
    }
   ],
   "source": [
    "sys.meta_path"
   ]
  },
  {
   "cell_type": "code",
   "execution_count": 3,
   "metadata": {},
   "outputs": [],
   "source": [
    "import collections"
   ]
  },
  {
   "cell_type": "code",
   "execution_count": 4,
   "metadata": {},
   "outputs": [
    {
     "data": {
      "text/plain": [
       "['/Users/a1101256/.pyenv/versions/3.7.2/lib/python3.7/collections']"
      ]
     },
     "execution_count": 4,
     "metadata": {},
     "output_type": "execute_result"
    }
   ],
   "source": [
    "collections.__path__"
   ]
  },
  {
   "cell_type": "code",
   "execution_count": 5,
   "metadata": {},
   "outputs": [
    {
     "data": {
      "text/plain": [
       "module"
      ]
     },
     "execution_count": 5,
     "metadata": {},
     "output_type": "execute_result"
    }
   ],
   "source": [
    "# built-in\n",
    "import math\n",
    "type(math)"
   ]
  },
  {
   "cell_type": "code",
   "execution_count": 6,
   "metadata": {},
   "outputs": [
    {
     "data": {
      "text/plain": [
       "ModuleSpec(name='math', loader=<_frozen_importlib_external.ExtensionFileLoader object at 0x10e9ea080>, origin='/Users/a1101256/.pyenv/versions/3.7.2/lib/python3.7/lib-dynload/math.cpython-37m-darwin.so')"
      ]
     },
     "execution_count": 6,
     "metadata": {},
     "output_type": "execute_result"
    }
   ],
   "source": [
    "math.__spec__"
   ]
  },
  {
   "cell_type": "code",
   "execution_count": 7,
   "metadata": {},
   "outputs": [
    {
     "data": {
      "text/plain": [
       "'math'"
      ]
     },
     "execution_count": 7,
     "metadata": {},
     "output_type": "execute_result"
    }
   ],
   "source": [
    "math.__name__"
   ]
  },
  {
   "cell_type": "code",
   "execution_count": 8,
   "metadata": {},
   "outputs": [
    {
     "data": {
      "text/plain": [
       "''"
      ]
     },
     "execution_count": 8,
     "metadata": {},
     "output_type": "execute_result"
    }
   ],
   "source": [
    "math.__package__"
   ]
  },
  {
   "cell_type": "code",
   "execution_count": 9,
   "metadata": {},
   "outputs": [
    {
     "data": {
      "text/plain": [
       "'/Users/a1101256/.pyenv/versions/3.7.2/lib/python3.7/lib-dynload/math.cpython-37m-darwin.so'"
      ]
     },
     "execution_count": 9,
     "metadata": {},
     "output_type": "execute_result"
    }
   ],
   "source": [
    "math.__file__\n",
    "# only the built-in module has __file__ attr"
   ]
  },
  {
   "cell_type": "code",
   "execution_count": 10,
   "metadata": {},
   "outputs": [],
   "source": [
    "# finder\n",
    "# loader\n"
   ]
  },
  {
   "cell_type": "markdown",
   "metadata": {},
   "source": [
    "# What are packages?"
   ]
  },
  {
   "cell_type": "code",
   "execution_count": 11,
   "metadata": {},
   "outputs": [],
   "source": [
    "# packages are modules (but modules are not necessarily. packages)\n",
    "# if a module is a package, it must have a value set for __path__"
   ]
  },
  {
   "cell_type": "markdown",
   "metadata": {},
   "source": [
    "- File Based Packages\n",
    "    - package paths are created by using file system directories and files\n",
    "    - on a file system we therefore have to use directories for packages\n",
    "    - the directory name becomes the package name\n",
    "    - so where does the code go for the package\n",
    "   \n",
    "- \\_\\_init\\_\\_.py\n",
    "    - to define a package in our file system, we must:\n",
    "        - create a directory whose name will be the package name\n",
    "        - create a file called \\_\\_init\\_\\_.py inside that directory\n",
    "    - that \\_\\_init\\_\\_.py file is what tells Python that the directory is a package as opposed to a standard directory"
   ]
  },
  {
   "cell_type": "markdown",
   "metadata": {},
   "source": [
    "- Modules have \\_\\_file\\_\\_ and \\_\\_package\\_\\_ properties\n",
    "    - \\_\\_file\\_\\_ is the location of module code in the file system\n",
    "    - \\_\\_package\\_\\_ is the package the module code is located in (an empty string if the module is located in the application root)\n",
    "    - if the module is also a package, then it also has a \\_\\_path\\_\\_ property\n",
    "        - \\_\\_path\\_\\_ is the location of the package in the file system"
   ]
  },
  {
   "cell_type": "markdown",
   "metadata": {},
   "source": [
    "# Why Package?"
   ]
  },
  {
   "cell_type": "markdown",
   "metadata": {},
   "source": [
    "- Code Organization, Ease of Use\n",
    "- Another use case\n",
    "    - you have a module that implements 2 functions / classes for users of the module\n",
    "    - those two objects require 20 different helper functions and 2 additional helper classes\n",
    "    \n",
    "    - From module developer's perspective\n",
    "        - much easier to break the code down into multiple modules\n",
    "    - From module user's perspective\n",
    "        - they just want a single import for the function and the class"
   ]
  },
  {
   "cell_type": "markdown",
   "metadata": {},
   "source": [
    "# Structuring Packages"
   ]
  },
  {
   "cell_type": "markdown",
   "metadata": {},
   "source": [
    "# Namespace Packages"
   ]
  },
  {
   "cell_type": "markdown",
   "metadata": {},
   "source": [
    "- Package-like\n",
    "    - directories\n",
    "        - may contain modules\n",
    "        - may contain nested regular packages\n",
    "        - may contain nested namespace packages\n",
    "        - but cannot contain \\_\\_init\\_\\_.py"
   ]
  },
  {
   "cell_type": "code",
   "execution_count": null,
   "metadata": {},
   "outputs": [],
   "source": []
  }
 ],
 "metadata": {
  "kernelspec": {
   "display_name": "Python 3",
   "language": "python",
   "name": "python3"
  },
  "language_info": {
   "codemirror_mode": {
    "name": "ipython",
    "version": 3
   },
   "file_extension": ".py",
   "mimetype": "text/x-python",
   "name": "python",
   "nbconvert_exporter": "python",
   "pygments_lexer": "ipython3",
   "version": "3.7.2"
  }
 },
 "nbformat": 4,
 "nbformat_minor": 2
}
