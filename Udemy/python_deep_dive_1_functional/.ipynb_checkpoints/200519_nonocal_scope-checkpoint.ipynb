{
 "cells": [
  {
   "cell_type": "code",
   "execution_count": 2,
   "metadata": {},
   "outputs": [
    {
     "name": "stdout",
     "output_type": "stream",
     "text": [
      "inner!\n"
     ]
    }
   ],
   "source": [
    "def outer_func():\n",
    "    \n",
    "    def inner_func():\n",
    "        print('inner!')\n",
    "    inner_func()\n",
    "\n",
    "outer_func()"
   ]
  },
  {
   "cell_type": "code",
   "execution_count": null,
   "metadata": {},
   "outputs": [],
   "source": []
  },
  {
   "cell_type": "code",
   "execution_count": 3,
   "metadata": {},
   "outputs": [],
   "source": [
    "def outer_func():\n",
    "    x = 'hello'\n",
    "    \n",
    "    def inner_func():\n",
    "        x = 'python'\n",
    "        \n",
    "    inner_func()\n",
    "    \n",
    "    print(x)"
   ]
  },
  {
   "cell_type": "code",
   "execution_count": 4,
   "metadata": {},
   "outputs": [
    {
     "name": "stdout",
     "output_type": "stream",
     "text": [
      "hello\n"
     ]
    }
   ],
   "source": [
    "outer_func()"
   ]
  },
  {
   "cell_type": "code",
   "execution_count": 5,
   "metadata": {},
   "outputs": [],
   "source": [
    "def outer_func():\n",
    "    x = 'hello'\n",
    "    \n",
    "    def inner_func():\n",
    "        nonlocal x\n",
    "        x = 'python'\n",
    "        \n",
    "    inner_func()\n",
    "    \n",
    "    print(x)"
   ]
  },
  {
   "cell_type": "code",
   "execution_count": 6,
   "metadata": {},
   "outputs": [
    {
     "name": "stdout",
     "output_type": "stream",
     "text": [
      "python\n"
     ]
    }
   ],
   "source": [
    "outer_func()"
   ]
  },
  {
   "cell_type": "code",
   "execution_count": 7,
   "metadata": {},
   "outputs": [],
   "source": [
    "def outer():\n",
    "    x = 'hello'\n",
    "    \n",
    "    def inner1():\n",
    "        def inner2():\n",
    "            nonlocal x\n",
    "            x = 'python'\n",
    "        inner2()\n",
    "        \n",
    "    inner1()\n",
    "    print(x)"
   ]
  },
  {
   "cell_type": "code",
   "execution_count": 8,
   "metadata": {},
   "outputs": [
    {
     "name": "stdout",
     "output_type": "stream",
     "text": [
      "python\n"
     ]
    }
   ],
   "source": [
    "outer()"
   ]
  },
  {
   "cell_type": "code",
   "execution_count": 9,
   "metadata": {},
   "outputs": [],
   "source": [
    "def outer():\n",
    "    x = 'hello'\n",
    "    \n",
    "    def inner1():\n",
    "        x = 'python'\n",
    "        def inner2():\n",
    "            nonlocal x\n",
    "            x = 'monty'\n",
    "        print('inner(before)', x)\n",
    "        inner2()\n",
    "        print('inner(after)', x)\n",
    "        \n",
    "    inner1()\n",
    "    print('outer', x)"
   ]
  },
  {
   "cell_type": "code",
   "execution_count": 10,
   "metadata": {},
   "outputs": [
    {
     "name": "stdout",
     "output_type": "stream",
     "text": [
      "inner(before) python\n",
      "inner(after) monty\n",
      "outer hello\n"
     ]
    }
   ],
   "source": [
    "outer()"
   ]
  },
  {
   "cell_type": "code",
   "execution_count": 11,
   "metadata": {},
   "outputs": [],
   "source": [
    "def outer():\n",
    "    x = 'hello'\n",
    "    \n",
    "    def inner1():\n",
    "        nonlocal x\n",
    "        x = 'python'\n",
    "        def inner2():\n",
    "            nonlocal x\n",
    "            x = 'monty'\n",
    "        \n",
    "        print('inner(before)', x)\n",
    "        inner2()\n",
    "        print('inner(after)', x)\n",
    "        \n",
    "    inner1()\n",
    "    print('outer', x)"
   ]
  },
  {
   "cell_type": "code",
   "execution_count": 12,
   "metadata": {},
   "outputs": [
    {
     "name": "stdout",
     "output_type": "stream",
     "text": [
      "inner(before) python\n",
      "inner(after) monty\n",
      "outer monty\n"
     ]
    }
   ],
   "source": [
    "outer()"
   ]
  },
  {
   "cell_type": "code",
   "execution_count": 13,
   "metadata": {},
   "outputs": [],
   "source": [
    "x = 100\n",
    "\n",
    "def outer():\n",
    "    x = 'python'\n",
    "    \n",
    "    def inner1():\n",
    "        nonlocal x\n",
    "        x = 'monty'\n",
    "        def inner2():\n",
    "            global x\n",
    "            x = 'hello'\n",
    "        print('inner(before)', x)\n",
    "        inner2()\n",
    "        print('inner(after)', x)\n",
    "        \n",
    "    inner1()\n",
    "    print('outer', x)"
   ]
  },
  {
   "cell_type": "code",
   "execution_count": 14,
   "metadata": {},
   "outputs": [
    {
     "name": "stdout",
     "output_type": "stream",
     "text": [
      "inner(before) monty\n",
      "inner(after) monty\n",
      "outer monty\n"
     ]
    }
   ],
   "source": [
    "outer()"
   ]
  },
  {
   "cell_type": "code",
   "execution_count": null,
   "metadata": {},
   "outputs": [],
   "source": []
  }
 ],
 "metadata": {
  "kernelspec": {
   "display_name": "Python 3",
   "language": "python",
   "name": "python3"
  },
  "language_info": {
   "codemirror_mode": {
    "name": "ipython",
    "version": 3
   },
   "file_extension": ".py",
   "mimetype": "text/x-python",
   "name": "python",
   "nbconvert_exporter": "python",
   "pygments_lexer": "ipython3",
   "version": "3.7.2"
  }
 },
 "nbformat": 4,
 "nbformat_minor": 2
}
