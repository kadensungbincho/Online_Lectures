{
 "cells": [
  {
   "cell_type": "markdown",
   "metadata": {},
   "source": [
    "# DynamoDB Consistency model\""
   ]
  },
  {
   "cell_type": "markdown",
   "metadata": {},
   "source": [
    "- Strong Consistency\n",
    "    - The most up-to-date data\n",
    "    - Must be requested explicitly\n",
    "- Eventual Consistency\n",
    "    - May or may not reflect the latest copy of data\n",
    "    - Default consistency for all operations\n",
    "    - 50% cheaper"
   ]
  },
  {
   "cell_type": "markdown",
   "metadata": {},
   "source": [
    "- DynamoDB Tables\n",
    "    - Top level entities\n",
    "    - No strict inter-table relationships\n",
    "    - Mandatory primary keys\n",
    "    - Control performace at the table level"
   ]
  },
  {
   "cell_type": "code",
   "execution_count": null,
   "metadata": {},
   "outputs": [],
   "source": []
  }
 ],
 "metadata": {
  "kernelspec": {
   "display_name": "Python 3",
   "language": "python",
   "name": "python3"
  },
  "language_info": {
   "codemirror_mode": {
    "name": "ipython",
    "version": 3
   },
   "file_extension": ".py",
   "mimetype": "text/x-python",
   "name": "python",
   "nbconvert_exporter": "python",
   "pygments_lexer": "ipython3",
   "version": "3.7.1"
  }
 },
 "nbformat": 4,
 "nbformat_minor": 2
}
