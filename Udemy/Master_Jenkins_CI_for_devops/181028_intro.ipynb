{
 "cells": [
  {
   "cell_type": "markdown",
   "metadata": {},
   "source": [
    "### Continuous Integration is also a mindet"
   ]
  },
  {
   "cell_type": "markdown",
   "metadata": {},
   "source": [
    "```bash\n",
    "java -verion\n",
    "``` "
   ]
  },
  {
   "cell_type": "markdown",
   "metadata": {},
   "source": [
    "- master \n",
    "  - schedule build jobs\n",
    "  - Dispatch buils to the slaves for the actual job execution\n",
    "  - Monitor the slave and record the build results\n",
    "  - Can also execute build jobs directly\n",
    " \n",
    "- Slave\n",
    "  - Execute build jobs dispatched by the master"
   ]
  },
  {
   "cell_type": "markdown",
   "metadata": {},
   "source": [
    "#### Jobs / Project\n",
    "- Those two terms are used interchagebly\n",
    "\n",
    "#### Slave / Node\n",
    "- Slave are computers that are set up to build proejct from a master\n",
    "- Jenkins runs a separate program cclaaed 'slave agent' on slaves\n",
    "- When slaves are registered to a master, a master starts distributing loads to slaves\n",
    "- Node is used to refer to all mathines that are part of jenkins, master and slaves\n",
    "\n",
    "#### Executor\n",
    "- Executor is a seprate stream of builds to be run on a node in paralle\n",
    "- A Node  can have one or more executors\n",
    "\n",
    "#### Build\n",
    "- A result of one or more projects\n",
    "\n",
    "#### Plugin\n",
    "- A plugin, like plugins on any other system, is a piece of software that extends the core functionality of the core Jenkins server "
   ]
  },
  {
   "cell_type": "markdown",
   "metadata": {},
   "source": [
    "### First jenkins job"
   ]
  },
  {
   "cell_type": "markdown",
   "metadata": {},
   "source": [
    "### Run our first jenkins job"
   ]
  },
  {
   "cell_type": "markdown",
   "metadata": {},
   "source": [
    "### Install Git and GitHub plugin"
   ]
  },
  {
   "cell_type": "markdown",
   "metadata": {},
   "source": [
    "#### Setting up a Maven-based Jenkins job\n",
    "\n",
    "1. Check out source code from GitHub\n",
    "2. Cimplie the code\n",
    "3. Run the test\n",
    "4. Pachage the application"
   ]
  },
  {
   "cell_type": "markdown",
   "metadata": {},
   "source": [
    "### Install Maven on local"
   ]
  },
  {
   "cell_type": "markdown",
   "metadata": {},
   "source": [
    "- Maven describes how the software is built\n",
    "- Maven describes the project's dependencies"
   ]
  },
  {
   "attachments": {},
   "cell_type": "markdown",
   "metadata": {},
   "source": [
    "```bash\n",
    "mvn -v\n",
    "```"
   ]
  },
  {
   "cell_type": "markdown",
   "metadata": {},
   "source": [
    "### Configure jenkins for our maven-based project"
   ]
  },
  {
   "cell_type": "markdown",
   "metadata": {},
   "source": [
    "- add java, git, maven\n"
   ]
  },
  {
   "cell_type": "markdown",
   "metadata": {},
   "source": [
    "### Create our First Maven-based jenkins project"
   ]
  },
  {
   "cell_type": "markdown",
   "metadata": {},
   "source": [
    "#### maven pom.xml file\n",
    "- Describe the software project being built, including\n",
    "  - The dependencies on other external modules\n",
    "  - The directory strucutes\n",
    "  - The required plugins\n",
    "  - The predefined targets for performing certain tasks such a  compilation and packaging\n",
    " "
   ]
  },
  {
   "cell_type": "markdown",
   "metadata": {},
   "source": [
    "#### Different phases in Maven Build Lifecycle"
   ]
  },
  {
   "cell_type": "markdown",
   "metadata": {},
   "source": [
    "- validate : validate the project is correct and all necessary inormation is available\n",
    "- compile : compile the cource code of the project\n",
    "- Test : test the compiled source code using a suitable unit testing framework\n",
    "- package : take the compiled code and package it in its distributable format\n",
    "- verify : run any checks on results of integration tests to ensure quality criteria are met\n",
    "- install : install the package into the local repository, for use as a dependency in other projecdts locally\n",
    "- copy the final package to the remote repositoyr for sharing with other develpers and projects"
   ]
  },
  {
   "cell_type": "markdown",
   "metadata": {},
   "source": [
    "#### Meven build phases"
   ]
  },
  {
   "cell_type": "markdown",
   "metadata": {},
   "source": [
    "- theses lifecycle phases are executed sequentailly to complete the default lifecycle\n",
    "- We want to specift the maven package command, this command would execute each default life cycle phase in order including valida"
   ]
  }
 ],
 "metadata": {
  "kernelspec": {
   "display_name": "Python 3",
   "language": "python",
   "name": "python3"
  },
  "language_info": {
   "codemirror_mode": {
    "name": "ipython",
    "version": 3
   },
   "file_extension": ".py",
   "mimetype": "text/x-python",
   "name": "python",
   "nbconvert_exporter": "python",
   "pygments_lexer": "ipython3",
   "version": "3.7.0"
  }
 },
 "nbformat": 4,
 "nbformat_minor": 2
}
