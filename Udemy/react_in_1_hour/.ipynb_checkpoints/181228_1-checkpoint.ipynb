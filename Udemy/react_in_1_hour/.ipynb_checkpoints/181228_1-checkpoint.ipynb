{
 "cells": [
  {
   "cell_type": "markdown",
   "metadata": {},
   "source": [
    "- not a framework\n",
    "- handle just (view, controller of MVC model)"
   ]
  },
  {
   "cell_type": "markdown",
   "metadata": {},
   "source": [
    "- fast and responsive\n",
    "- composable components\n",
    "- pluggable\n",
    "- simple to learn"
   ]
  },
  {
   "cell_type": "markdown",
   "metadata": {},
   "source": [
    "# JSX"
   ]
  },
  {
   "cell_type": "markdown",
   "metadata": {},
   "source": [
    "- xml like \n",
    "- compiled by javascript"
   ]
  },
  {
   "cell_type": "markdown",
   "metadata": {},
   "source": [
    "- https://plnkr.co/"
   ]
  },
  {
   "cell_type": "markdown",
   "metadata": {},
   "source": [
    "```html\n",
    "<!DOCTYPE html>\n",
    "<html>\n",
    "\n",
    "  <head>\n",
    "    <link rel=\"stylesheet\" href=\"style.css\">\n",
    "  </head>\n",
    "\n",
    "  <body>\n",
    "    <div id=\"root\"></div>\n",
    "    \n",
    "    <script src=\"https://fb.me/react-0.14.3.js\"></script>\n",
    "    <script src=\"https://fb.me/react-dom-0.14.3.js\"></script>\n",
    "    <script src=\"script.js\"></script>\n",
    "  </body>\n",
    "\n",
    "</html>\n",
    "``` "
   ]
  },
  {
   "cell_type": "markdown",
   "metadata": {},
   "source": [
    "```javascript\n",
    "// Code goes here\n",
    "var Product = React.createClass({\n",
    "  getInitialState: function() {\n",
    "    return {qty: 0};\n",
    "  },\n",
    "  \n",
    "  buy : function() {\n",
    "    this.setState({qty: this.state.qty + 1});\n",
    "    this.props.handleTotal(this.props.price);\n",
    "  },\n",
    "  \n",
    "  show: function() {\n",
    "    this.props.handleShow(this.props.name);\n",
    "  },\n",
    "  \n",
    "  render: function() {\n",
    "    return (\n",
    "        <div>\n",
    "          <p>{this.props.name} - ${this.props.price}</p>\n",
    "          <button onClick={this.buy}>Buy</button>\n",
    "          <button onClick={this.show}>Show</button>\n",
    "          <h3>Qty: {this.state.qty} item(s)</h3>\n",
    "          <hr/>\n",
    "        </div>\n",
    "      );\n",
    "  }\n",
    "});\n",
    "\n",
    "var Total = React.createClass({\n",
    "  render: function() {\n",
    "    return (\n",
    "      <div>\n",
    "        <h3>Total Cash: ${this.props.total}</h3>\n",
    "      </div>\n",
    "    );\n",
    "  }\n",
    "});\n",
    "\n",
    "var ProductForm = React.createClass({\n",
    "  submit: function(e) {\n",
    "    e.preventDefault();\n",
    "    var product = {\n",
    "      name: this.refs.name.value,\n",
    "      price: parseInt(this.refs.price.value)\n",
    "    };\n",
    "    \n",
    "    this.props.handleCreate(product);\n",
    "    \n",
    "    this.refs.name.value = \"\";\n",
    "    this.refs.price.value = \"\";\n",
    "  },\n",
    "  \n",
    "  render: function() {\n",
    "    return (\n",
    "      <form onSubmit={this.submit}>\n",
    "        <input type=\"text\" placeholder=\"Product Name\" ref=\"name\"/>\n",
    "        <input type=\"text\" placeholder=\"Product Price\" ref=\"price\"/>\n",
    "        <br/>\n",
    "        <button>Create Product</button>\n",
    "      </form>\n",
    "    );\n",
    "  }\n",
    "});\n",
    "\n",
    "var ProductList = React.createClass({\n",
    "  getInitialState: function() {\n",
    "    return {\n",
    "      total: 0,\n",
    "      productList: [\n",
    "        {name: \"Android\", price: 121},\n",
    "        {name: \"Apple\", price: 123},\n",
    "        {name: \"Nokia\", price: 65}\n",
    "      ]\n",
    "    };  \n",
    "  },\n",
    "  \n",
    "  createProduct: function(product) {\n",
    "    this.setState({\n",
    "      productList: this.state.productList.concat(product)\n",
    "    });\n",
    "  },\n",
    "  \n",
    "  calculateTotal: function(price) {\n",
    "    this.setState({total: this.state.total + price});\n",
    "    alert(this.state.total);\n",
    "  },\n",
    "  \n",
    "  showProduct: function(name) {\n",
    "    alert(\"You selected \" + name);\n",
    "  },\n",
    "  \n",
    "  render: function() {\n",
    "    var component = this;\n",
    "    var products = this.state.productList.map(function(product) {\n",
    "      return (\n",
    "        <Product name={product.name} price={product.price} handleShow={component.showProduct}\n",
    "        handleTotal={component.calculateTotal}/>\n",
    "      );\n",
    "    });\n",
    "    return (\n",
    "      <div>\n",
    "        <ProductForm handleCreate={this.createProduct}/>\n",
    "        {products}\n",
    "        <Total total={this.state.total}/>\n",
    "      </div>\n",
    "    );\n",
    "  }\n",
    "});\n",
    "\n",
    "React.render(<ProductList/>, document.getElementById(\"root\"));\n",
    "``` "
   ]
  },
  {
   "cell_type": "code",
   "execution_count": null,
   "metadata": {},
   "outputs": [],
   "source": []
  }
 ],
 "metadata": {
  "kernelspec": {
   "display_name": "Javascript (Node.js)",
   "language": "javascript",
   "name": "javascript"
  },
  "language_info": {
   "file_extension": ".js",
   "mimetype": "application/javascript",
   "name": "javascript",
   "version": "8.11.4"
  }
 },
 "nbformat": 4,
 "nbformat_minor": 2
}
