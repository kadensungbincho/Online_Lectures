{
 "cells": [
  {
   "cell_type": "markdown",
   "metadata": {},
   "source": [
    "# Index Unique Scan"
   ]
  },
  {
   "cell_type": "markdown",
   "metadata": {},
   "source": [
    "```sql\n",
    "SELECT * FROM employees WHERE employee_id = 103;\n",
    "``` "
   ]
  },
  {
   "cell_type": "markdown",
   "metadata": {},
   "source": [
    "# Index Range Scan"
   ]
  },
  {
   "cell_type": "markdown",
   "metadata": {},
   "source": [
    "- If the data we queried is bounded from one or both sides, the optimizer can use index range scan\n",
    "- Can be applied to b-tree indexes and bitmap indexes\n",
    "- Can be applied to unique or non-unique indexes\n",
    "- Normally, data is stored in ascending order in the indexes\n",
    "- if the oprimizer finds one or more leading columns with = > < signs, it will use index range scan\n",
    "- If the query includes an order by or group by clauses with the indexing columns, range scan will not do any sort, it is already sorted. It should not have null value.\n",
    "- If order by clause has desc keyword, it will read the data in descending order\n",
    "- you can create your index as dscending\n",
    "- function based indexes can be accessed as index range scan\n",
    "- if wildcard characters are written on the right, it will perform index range scan"
   ]
  },
  {
   "cell_type": "markdown",
   "metadata": {},
   "source": [
    "```sql\n",
    "-- One side bounded searched\n",
    "SELECT * FROM SALES WHERE time_id > to_date('01-NOV-01','DD-MON-RR');\n",
    " \n",
    "-- Bounded by both sides\n",
    "SELECT * FROM SALES WHERE time_id between to_date('01-NOV-00','DD-MON-RR') and to_date('05-NOV-00','DD-MON-RR'); \n",
    " \n",
    "-- B-Tree index range scan\n",
    "SELECT * FROM employees where employee_id > 190;\n",
    " \n",
    "-- Index range scan on Non-Unique Index\n",
    "SELECT * FROM employees where department_id > 80;\n",
    " \n",
    "-- Order by with the indexed column -  sort is processed\n",
    "SELECT * FROM employees where employee_id > 190 order by email;\n",
    " \n",
    "-- Order by with the indexed column - no sort is processed\n",
    "SELECT * FROM employees where employee_id > 190 order by employee_id;\n",
    " \n",
    "-- Index range scan descending\n",
    "SELECT * FROM employees where department_id > 80 order by department_id desc;\n",
    " \n",
    "-- Index range scan with wildcard\n",
    "SELECT * FROM PRODUCTS WHERE PROD_SUBCATEGORY LIKE 'Accessories%';\n",
    "SELECT * FROM PRODUCTS WHERE PROD_SUBCATEGORY LIKE '%Accessories';\n",
    "SELECT * FROM PRODUCTS WHERE PROD_SUBCATEGORY LIKE '%Accessories%';\n",
    "``` "
   ]
  },
  {
   "cell_type": "markdown",
   "metadata": {},
   "source": [
    "# Index Full Scan"
   ]
  },
  {
   "cell_type": "markdown",
   "metadata": {},
   "source": [
    "- All the rows of the tables are indexes by their indexes\n",
    "- When the optimizer uses the index full scan?\n",
    "    - Query has order by clause only with the indexed columns\n",
    "    - Query has group by clause only with the indexes columns\n",
    "    - Query requires a sort-merge join"
   ]
  },
  {
   "cell_type": "markdown",
   "metadata": {},
   "source": [
    "```sql\n",
    "/* Index usage with order by */\n",
    "SELECT * FROM departments ORDER BY department_id;\n",
    " \n",
    "/* Index usage with order by, one column of an index - causes index full scan*/\n",
    "SELECT last_name,first_name FROM employees ORDER BY last_name;\n",
    " \n",
    "/* Index usage with order by, one column of an index - causes unnecessary sort operation*/\n",
    "SELECT last_name,first_name FROM employees ORDER BY first_name;\n",
    " \n",
    "/* Index usage with order by, but with wrong order - causes unnecessary sort operation */\n",
    "SELECT last_name,first_name FROM employees ORDER BY first_name,last_name;\n",
    " \n",
    "/* Index usage with order by, with right order of the index - there is no unncessary sort */\n",
    "SELECT last_name,first_name FROM employees ORDER BY last_name,first_name;\n",
    " \n",
    "/* Index usage with order by, wit unindexed column - there is no unncessary sort */\n",
    "SELECT last_name,first_name FROM employees ORDER BY last_name,salary;\n",
    " \n",
    "/* Index usage order by - when use * , it performed full table scan */\n",
    "SELECT * FROM employees ORDER BY last_name,first_name;\n",
    " \n",
    "/* Index usage with group by - using a column with no index leads a full table scan */\n",
    "SELECT salary,count(*) FROM employees e \n",
    "WHERE salary IS NOT NULL\n",
    "GROUP BY salary;\n",
    " \n",
    "/* Index usage with group by - using indexed columns may lead to a index full scan */\n",
    "SELECT department_id,count(*) FROM employees e \n",
    "WHERE department_id IS NOT NULL\n",
    "GROUP BY department_id;\n",
    " \n",
    "/* Index usage with group by - using more columns than ONE index has may prevent index full scan */ \n",
    "SELECT department_id,manager_id,count(*) FROM employees e \n",
    "WHERE department_id IS NOT NULL\n",
    "GROUP BY department_id, manager_id;\n",
    " \n",
    "/* Index usage with merge join */\n",
    "SELECT e.employee_id, e.last_name, e.first_name, e.department_id, \n",
    "       d.department_name\n",
    "FROM   employees e, departments d\n",
    "WHERE  e.department_id = d.department_id;\n",
    "``` "
   ]
  },
  {
   "cell_type": "markdown",
   "metadata": {},
   "source": [
    "# Index Fast Full Scan"
   ]
  },
  {
   "cell_type": "markdown",
   "metadata": {},
   "source": [
    "- If the query requests only the columns existing in the index, it uses IFF Scan\n",
    "- Can be applied to both b-tree and bitmap indexes\n",
    "- Hints can be used to force the optimizer to use IFF scan\n",
    "- The diff of index full scan vs index fast full scan\n",
    "    - IFF always reads only from the index | index full scan may read from table\n",
    "    - IFS reads blocks one by one, sequentially | IFF reads multiple simultaneously, in unordered manner\n",
    "    - IFF is faster than IFS most of the times\n",
    "    - IFS can be used to eliminate sorting, IFF cannot"
   ]
  },
  {
   "cell_type": "markdown",
   "metadata": {},
   "source": [
    "```sql\n",
    "/* Index Fast Full Scan Usage - Adding a different column \n",
    "    than index has will prevent the Index Fast Full Scan */\n",
    "SELECT e.employee_id, d.department_id, e.first_name,\n",
    "       d.department_name\n",
    "FROM   employees e, departments d\n",
    "WHERE  e.department_id = d.department_id;\n",
    " \n",
    "/* If all the columns are in the index, it may perform\n",
    "   an Index Fast Full Scan */\n",
    "SELECT e.employee_id, d.department_id,\n",
    "       d.department_name\n",
    "FROM   employees e, departments d\n",
    "WHERE  e.department_id = d.department_id;\n",
    " \n",
    "/*Index Fast Full Scan can be applied to b-tree indexes, too \n",
    "  Even if there is an order by here, it used IFF Scan */\n",
    "SELECT prod_id from sales order by prod_id;\n",
    " \n",
    "/* Optimizer thinks Index Full Scan is better here*/\n",
    "SELECT time_id from sales order by time_id;\n",
    " \n",
    "/* Optimizer uses inded Fast Full Scan*/\n",
    "SELECT time_id from sales;\n",
    "``` "
   ]
  },
  {
   "cell_type": "markdown",
   "metadata": {},
   "source": [
    "# Index Skip Scan"
   ]
  },
  {
   "cell_type": "markdown",
   "metadata": {},
   "source": [
    "- if you don't use the indexes columns on the where clause, the optimizer will not use the indexes\n",
    "- we don't create indexes for all the rows because of the costs\n",
    "- if the sceond, third, column of a composite index is used as an access predicate, the optimizer will consider the index skip scan\n",
    "- Index skip scan skips the leaves which do not have any chance to have any matching rows\n",
    "- what are the advantages?\n",
    "    - helps to reduce the number of indexes\n",
    "    - decreases the index space\n",
    "    - Increases the overall performance by reducing the indexes\n",
    "   "
   ]
  },
  {
   "cell_type": "markdown",
   "metadata": {},
   "source": [
    "```sql\n",
    "-- index skip scan : first_name is the second column of an index so it uses ISS\n",
    "SELECT * FROM employees WHERE first_name = 'Alex';\n",
    "\n",
    "/*Index skip scan usage with equality operator*/\n",
    "SELECT * FROM employees WHERE first_name = 'Alex';\n",
    " \n",
    "/* Index range scan occurs if we use the first column of the index */\n",
    "SELECT * FROM employees WHERE last_name = 'King';\n",
    " \n",
    "/* Using index skip scan with adding a new index */\n",
    "SELECT * FROM employees WHERE salary BETWEEN 6000 AND 7000;\n",
    "CREATE INDEX dept_sal_ix ON employees (department_id,salary);\n",
    "DROP INDEX dept_sal_ix;\n",
    " \n",
    "/* Using index skip scan with adding a new index\n",
    "   This time the cost increases significantly */\n",
    "ALTER INDEX customers_yob_bix invisible;\n",
    "SELECT * FROM customers WHERE cust_year_of_birth BETWEEN 1989 AND 1990;\n",
    "CREATE INDEX customers_gen_dob_ix ON customers (cust_gender,cust_year_of_birth);\n",
    "DROP INDEX customers_gen_dob_ix;\n",
    "ALTER INDEX customers_yob_bix visible;\n",
    "```"
   ]
  },
  {
   "cell_type": "markdown",
   "metadata": {},
   "source": [
    "# Index Jon Scan"
   ]
  },
  {
   "cell_type": "markdown",
   "metadata": {},
   "source": [
    "- If an index stores the columns of a query, the optimizer will perform index fast full scan\n",
    "- If the combination of multiple indexes store the columns of a query, the optimizer will join them and read the data from that join\n",
    "- What to know about IJS?\n",
    "    - The combination of indexes must have every column of the select clause\n",
    "    - There is no join limit. More than two indexes can be joined together to get the data\n",
    "    - There might be any index access path before the index join scan\n",
    "    - If you write ROWID in the select clause, it will not perorm index join scan"
   ]
  },
  {
   "cell_type": "markdown",
   "metadata": {},
   "source": [
    "```sql\n",
    "/* Index join scan with two indexes */\n",
    "SELECT employee_id,email FROM employees;\n",
    " \n",
    "/* Index join scan with two indexes, but with range scan included*/\n",
    "SELECT last_name,email FROM employees WHERE last_name LIKE 'B%';\n",
    " \n",
    "/* Index join scan is not performed when we add rowid to the select clause */\n",
    "SELECT rowid,employee_id,email FROM employees;\n",
    "``` "
   ]
  },
  {
   "cell_type": "markdown",
   "metadata": {},
   "source": [
    "# Using Optimizer Hints"
   ]
  },
  {
   "cell_type": "code",
   "execution_count": null,
   "metadata": {},
   "outputs": [],
   "source": []
  }
 ],
 "metadata": {
  "kernelspec": {
   "display_name": "Python 3",
   "language": "python",
   "name": "python3"
  },
  "language_info": {
   "codemirror_mode": {
    "name": "ipython",
    "version": 3
   },
   "file_extension": ".py",
   "mimetype": "text/x-python",
   "name": "python",
   "nbconvert_exporter": "python",
   "pygments_lexer": "ipython3",
   "version": "3.7.1"
  }
 },
 "nbformat": 4,
 "nbformat_minor": 2
}
