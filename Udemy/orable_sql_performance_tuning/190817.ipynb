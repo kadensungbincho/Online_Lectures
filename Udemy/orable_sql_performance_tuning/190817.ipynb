{
 "cells": [
  {
   "cell_type": "markdown",
   "metadata": {},
   "source": [
    "# Why indexing is important?"
   ]
  },
  {
   "cell_type": "markdown",
   "metadata": {},
   "source": [
    "- Indexing is the most important thing in SQL and Performance Tuning\n",
    "- There are alots of very useful index types in Oracle Database\n",
    "- Poor indexeing stategy will result poor performance\n",
    "- Since the data is stored randomly "
   ]
  },
  {
   "cell_type": "markdown",
   "metadata": {},
   "source": [
    "- Cost\n",
    "    - Storing the simliar data more than once\n",
    "    - Maintenance\n",
    "    \n",
    "- why & how should we use the indexes\n",
    "    - If our queries search for a small fraction of the table\n",
    "    - if the related columns are queried"
   ]
  },
  {
   "cell_type": "markdown",
   "metadata": {},
   "source": [
    "# Tuning with Advanced indexing techniques"
   ]
  },
  {
   "cell_type": "markdown",
   "metadata": {},
   "source": [
    "- Index selectivity is very important for index performance\n",
    "- If the database reads from an index, there are multiple reads here. It first reads from bracnhes then leaves and then the table"
   ]
  },
  {
   "cell_type": "markdown",
   "metadata": {},
   "source": [
    "# B-Tree index in details"
   ]
  },
  {
   "cell_type": "markdown",
   "metadata": {},
   "source": [
    "```sql\n",
    "CREATE TABLE employees_copy AS SELECT * FROM employees;\n",
    " \n",
    "SELECT * FROM employees_copy WHERE employee_id = 120;\n",
    " \n",
    "CREATE INDEX emp_id_idx ON employees_copy(employee_id) COMPUTE STATISTICS;\n",
    " \n",
    "SELECT * FROM employees_copy WHERE employee_id = 120;\n",
    " \n",
    "EXEC dbms_stats.gather_table_stats (ownname=>'HR',tabname => 'EMPLOYEES_COPY',CASCADE => TRUE);\n",
    " \n",
    "SELECT * FROM employees_copy WHERE employee_id = 120;\n",
    " \n",
    "ALTER TABLE employees_copy ADD CONSTRAINT unique_emps UNIQUE (employee_id);\n",
    " \n",
    "SELECT * FROM employees_copy WHERE employee_id = 120;\n",
    " \n",
    "ALTER INDEX emp_id_idx REBUILD;\n",
    " \n",
    "SELECT * FROM employees_copy WHERE employee_id = 120;\n",
    " \n",
    "ALTER TABLE employees_copy DROP CONSTRAINT unique_emps;\n",
    " \n",
    "ALTER TABLE employees_copy ADD CONSTRAINT unique_emps UNIQUE (employee_id)\n",
    "USING INDEX emp_id_idx;\n",
    " \n",
    "SELECT * FROM employees_copy WHERE employee_id = 120;\n",
    " \n",
    "ALTER TABLE employees_copy DROP CONSTRAINT unique_emps;\n",
    "DROP INDEX emp_id_idx;\n",
    " \n",
    "ALTER TABLE employees_copy ADD CONSTRAINT unique_emps UNIQUE (employee_id);\n",
    " \n",
    "SELECT * FROM employees_copy WHERE employee_id = 120;\n",
    " \n",
    "DROP TABLE employees_copy;\n",
    "``` "
   ]
  },
  {
   "cell_type": "markdown",
   "metadata": {},
   "source": [
    "```sql\n",
    "SELECT * FROM employees WHERE department_id IS NOT NULL;\n",
    "SELECT department_id FROM employees WHERE department_id IS NOT NULL;\n",
    "SELECT department_id FROM employees WHERE department_id IS NULL;\n",
    " \n",
    "SELECT * FROM customers WHERE cust_marital_status IS NOT NULL;\n",
    "SELECT cust_marital_status FROM customers WHERE cust_marital_status IS NOT NULL;\n",
    "SELECT cust_marital_status FROM customers WHERE cust_marital_status IS NULL;\n",
    "SELECT COUNT(cust_marital_status) FROM customers WHERE cust_marital_status IS NULL;\n",
    " \n",
    "CREATE TABLE customers_temp AS SELECT * FROM customers;\n",
    " \n",
    "CREATE INDEX cust_mar_stat_ix ON customers_temp(cust_marital_status);\n",
    " \n",
    "SELECT * FROM customers_temp WHERE cust_marital_status = 'married';\n",
    " \n",
    "CREATE INDEX cust_gender_ix ON customers_temp(cust_gender);\n",
    " \n",
    "SELECT * FROM customers_temp WHERE cust_gender = 'M';\n",
    "SELECT * FROM customers_temp WHERE cust_gender = 'M' AND cust_marital_status = 'married';\n",
    " \n",
    "DROP INDEX cust_gender_ix;\n",
    "DROP INDEX cust_mar_stat_ix;\n",
    " \n",
    "CREATE BITMAP INDEX cust_mar_stat_bix ON customers_temp(cust_marital_status);\n",
    " \n",
    "SELECT * FROM customers_temp WHERE cust_marital_status = 'married';\n",
    " \n",
    "CREATE BITMAP INDEX cust_gender_bix ON customers_temp(cust_gender);\n",
    " \n",
    "SELECT * FROM customers_temp WHERE cust_gender = 'M';\n",
    "SELECT * FROM customers_temp WHERE cust_gender = 'M' AND cust_marital_status = 'married';\n",
    " \n",
    "DROP TABLE customers_temp;\n",
    "``` "
   ]
  },
  {
   "cell_type": "markdown",
   "metadata": {},
   "source": [
    "# Bitmap Operations"
   ]
  },
  {
   "cell_type": "code",
   "execution_count": null,
   "metadata": {},
   "outputs": [],
   "source": []
  }
 ],
 "metadata": {
  "kernelspec": {
   "display_name": "Python 3",
   "language": "python",
   "name": "python3"
  },
  "language_info": {
   "codemirror_mode": {
    "name": "ipython",
    "version": 3
   },
   "file_extension": ".py",
   "mimetype": "text/x-python",
   "name": "python",
   "nbconvert_exporter": "python",
   "pygments_lexer": "ipython3",
   "version": "3.7.1"
  }
 },
 "nbformat": 4,
 "nbformat_minor": 2
}
