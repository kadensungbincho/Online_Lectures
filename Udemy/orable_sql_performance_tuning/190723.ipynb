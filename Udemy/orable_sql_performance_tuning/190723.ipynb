{
 "cells": [
  {
   "cell_type": "markdown",
   "metadata": {},
   "source": [
    "# When to Tune?"
   ]
  },
  {
   "cell_type": "markdown",
   "metadata": {},
   "source": [
    "- SQL tuning is a continuous process\n",
    "- Normally, the top consuming queries consumes 80% of resource"
   ]
  },
  {
   "cell_type": "markdown",
   "metadata": {},
   "source": [
    "# What is a Bad SQL?"
   ]
  },
  {
   "cell_type": "markdown",
   "metadata": {},
   "source": [
    "- Poorly performing Queries"
   ]
  },
  {
   "cell_type": "markdown",
   "metadata": {},
   "source": [
    "- Characteristics\n",
    "    - Unnecessary ..\n",
    "        - Parse time\n",
    "        - I/O operations\n",
    "        - CPU time\n",
    "        - waits"
   ]
  },
  {
   "cell_type": "markdown",
   "metadata": {},
   "source": [
    "# Effective Schema Design"
   ]
  },
  {
   "cell_type": "markdown",
   "metadata": {},
   "source": [
    "- Select the data types carefully\n",
    "    - Assign data types as much as needed\n",
    "    - Select exactly the same data type between parent-child keys\n",
    "\n",
    "- Enforce data integrity\n",
    "- Use normalization well\n",
    "- Select right table type\n",
    "    - heap organized table\n",
    "    - index cluster\n",
    "    - hash cluster\n",
    "    - index organized \n",
    "    - external \n",
    "- Create Clusters\n",
    "- Use indexes often and select index type carefully\n",
    "- Create index-organized tables (IOT)"
   ]
  },
  {
   "cell_type": "code",
   "execution_count": null,
   "metadata": {},
   "outputs": [],
   "source": []
  }
 ],
 "metadata": {
  "kernelspec": {
   "display_name": "Python 3",
   "language": "python",
   "name": "python3"
  },
  "language_info": {
   "codemirror_mode": {
    "name": "ipython",
    "version": 3
   },
   "file_extension": ".py",
   "mimetype": "text/x-python",
   "name": "python",
   "nbconvert_exporter": "python",
   "pygments_lexer": "ipython3",
   "version": "3.7.1"
  }
 },
 "nbformat": 4,
 "nbformat_minor": 2
}
