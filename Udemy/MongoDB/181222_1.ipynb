{
 "cells": [
  {
   "cell_type": "markdown",
   "metadata": {},
   "source": [
    "- Data is stored together, so no need to join"
   ]
  },
  {
   "cell_type": "markdown",
   "metadata": {},
   "source": [
    "# Understand the mongoDB env"
   ]
  },
  {
   "cell_type": "markdown",
   "metadata": {},
   "source": [
    "- MongoDB database\n",
    "  - self-managed / enterprise\n",
    "    - cloudmanager / opsmanager\n",
    "  - Atals(Cloud)\n",
    "  - Mobile\n",
    "  - compass\n",
    "  - BI connector\n",
    "  - MongoDB charts\n",
    "- Stitch\n",
    "  - serverless solution\n",
    "- Serverless Query API\n",
    "- Serverless functions\n",
    "- Database triggers\n",
    "- Real time sync"
   ]
  },
  {
   "cell_type": "markdown",
   "metadata": {},
   "source": [
    "# Driver"
   ]
  },
  {
   "cell_type": "markdown",
   "metadata": {},
   "source": [
    "# Mongo + Client"
   ]
  },
  {
   "cell_type": "markdown",
   "metadata": {},
   "source": [
    "- Application\n",
    "  - frontend\n",
    "  - backend\n",
    "    - drivers\n",
    "- Data\n",
    "  - mongoDB server : communicate with drivers and forwards query to storage engine\n",
    "  - storage engine : commun\n",
    "  icate file or data in memory(faster)"
   ]
  },
  {
   "cell_type": "markdown",
   "metadata": {},
   "source": [
    "# Json vs Bson"
   ]
  },
  {
   "cell_type": "markdown",
   "metadata": {},
   "source": [
    "- json \n",
    "- binary json\n",
    "  - converted by driver"
   ]
  }
 ],
 "metadata": {
  "kernelspec": {
   "display_name": "Javascript (Node.js)",
   "language": "javascript",
   "name": "javascript"
  },
  "language_info": {
   "file_extension": ".js",
   "mimetype": "application/javascript",
   "name": "javascript",
   "version": "8.11.4"
  }
 },
 "nbformat": 4,
 "nbformat_minor": 2
}
