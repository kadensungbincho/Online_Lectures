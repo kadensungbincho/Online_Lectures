{
 "cells": [
  {
   "cell_type": "markdown",
   "metadata": {},
   "source": [
    "select distinct(sb.name)from SUBJECTS as sb\n",
    "inner join CLASSES as cl on cl.SUBJECT_ID = sb.ID;"
   ]
  },
  {
   "cell_type": "markdown",
   "metadata": {},
   "source": [
    "# Counting Students"
   ]
  },
  {
   "cell_type": "markdown",
   "metadata": {},
   "source": [
    "select count(*) from STUDENTS;b"
   ]
  },
  {
   "cell_type": "markdown",
   "metadata": {},
   "source": [
    "select * from STUDENTS where LAST_NAME like \"A%\";"
   ]
  },
  {
   "cell_type": "markdown",
   "metadata": {},
   "source": [
    "# Calcaulating school Capacity"
   ]
  },
  {
   "cell_type": "markdown",
   "metadata": {},
   "source": [
    "select sum(CAPACITY) from ROOMS;"
   ]
  },
  {
   "cell_type": "markdown",
   "metadata": {},
   "source": [
    "# The biggest room"
   ]
  },
  {
   "cell_type": "markdown",
   "metadata": {},
   "source": [
    "select max(CAPACITY) from ROOMS;"
   ]
  },
  {
   "cell_type": "markdown",
   "metadata": {},
   "source": [
    "# Subjects in the Big Room"
   ]
  },
  {
   "cell_type": "markdown",
   "metadata": {},
   "source": [
    "select distinct(NAME) from CLASSES \n",
    "join SUBJECTS on CLASSES.SUBJECT_ID = SUBJECTS.ID\n",
    "where ROOM_ID = 19;"
   ]
  },
  {
   "cell_type": "markdown",
   "metadata": {},
   "source": [
    "# 8th Grade Teachers"
   ]
  },
  {
   "cell_type": "markdown",
   "metadata": {},
   "source": [
    "select DISTINCT(TEACHERS.ID), FIRST_NAME, LAST_NAME from TEACHERS\n",
    "join CLASSES ON TEACHERS.ID = CLASSES.TEACHER_ID\n",
    "JOIN SUBJECTS ON SUBJECTS.ID = CLASSES.SUBJECT_ID\n",
    "WHERE SUBJECTS.GRADE = 8;"
   ]
  },
  {
   "cell_type": "markdown",
   "metadata": {},
   "source": [
    "SELECT DISTINCT(TEACHERS.ID), TEACHERS.FIRST_NAME, TEACHERS.LAST_NAME FROM SUBJECTS\n",
    "JOIN CLASSES ON SUBJECTS.ID = CLASSES.SUBJECT_ID\n",
    "JOIN TEACHERS ON TEACHERS.ID = CLASSES.TEACHER_ID\n",
    "WHERE SUBJECTS.NAME = \"Science\" AND SUBJECTS.GRADE = 7;"
   ]
  },
  {
   "cell_type": "markdown",
   "metadata": {},
   "source": [
    "# Elective Teachers"
   ]
  },
  {
   "cell_type": "markdown",
   "metadata": {},
   "source": [
    "> **You cannot use NULL like this **"
   ]
  },
  {
   "cell_type": "markdown",
   "metadata": {},
   "source": [
    "SELECT DISTINCT(TEACHERS.ID), TEACHERS.FIRST_NAME, TEACHERS.LAST_NAME \n",
    "FROM TEACHERS\n",
    "JOIN CLASSES ON TEACHERS.ID = CLASSES.TEACHER_ID\n",
    "JOIN SUBJECTS ON SUBJECTS.ID = CLASSES.SUBJECT_ID\n",
    "WHERE GRADE = NULL;"
   ]
  },
  {
   "cell_type": "markdown",
   "metadata": {},
   "source": [
    "select 1 = 0; // GET 0\n",
    "select 1 = 1; // GET 1\n",
    "select 1 = NULL; // GET NULL\n",
    "select NULL = NULL; // GET NULL\n",
    "select NULL IS NULL; // GET 1\n",
    "\n",
    "\n",
    "\n"
   ]
  },
  {
   "cell_type": "markdown",
   "metadata": {},
   "source": [
    "> BELOW WORK"
   ]
  },
  {
   "cell_type": "markdown",
   "metadata": {},
   "source": [
    "SELECT DISTINCT(TEACHERS.ID), TEACHERS.FIRST_NAME, TEACHERS.LAST_NAME \n",
    "FROM TEACHERS\n",
    "JOIN CLASSES ON TEACHERS.ID = CLASSES.TEACHER_ID\n",
    "JOIN SUBJECTS ON SUBJECTS.ID = CLASSES.SUBJECT_ID\n",
    "WHERE GRADE IS NULL;"
   ]
  },
  {
   "cell_type": "markdown",
   "metadata": {},
   "source": [
    "# Student Schedule"
   ]
  },
  {
   "cell_type": "markdown",
   "metadata": {},
   "source": [
    "SELECT PERIOD_ID, NAME, SUBJECTS.GRADE FROM STUDENTS\n",
    "JOIN SCHEDULE ON STUDENTS.ID = SCHEDULE.STUDENT_ID\n",
    "JOIN CLASSES ON CLASSES.ID = SCHEDULE.CLASS_ID\n",
    "JOIN SUBJECTS ON SUBJECTS.ID = CLASSES.SUBJECT_ID\n",
    "WHERE FIRST_NAME = \"Rex\" AND LAST_NAME = \"Rios\"\n",
    "ORDER BY PERIOD_ID ASC;"
   ]
  },
  {
   "cell_type": "markdown",
   "metadata": {},
   "source": [
    "# A Smelly Issue"
   ]
  },
  {
   "cell_type": "markdown",
   "metadata": {},
   "source": [
    "-- How many students have Physical Education during first period?\n",
    "\n",
    "SELECT COUNT(*) FROM STUDENTS\n",
    "JOIN SCHEDULE ON STUDENTS.ID = SCHEDULE.STUDENT_ID\n",
    "JOIN CLASSES ON CLASSES.ID = SCHEDULE.CLASS_ID\n",
    "JOIN SUBJECTS ON SUBJECTS.ID = CLASSES.SUBJECT_ID\n",
    "WHERE PERIOD_ID = 1 AND NAME = \"Physical Education\";"
   ]
  },
  {
   "cell_type": "markdown",
   "metadata": {},
   "source": [
    "# Students A to M"
   ]
  },
  {
   "cell_type": "markdown",
   "metadata": {},
   "source": [
    "-- Generate a list of students with last names from A to M.\n",
    "\n",
    "SELECT * FROM STUDENTS\n",
    "WHERE LAST_NAME >= 'A' AND LAST_NAME < 'N'\n",
    "ORDER BY LAST_NAME ASC;"
   ]
  },
  {
   "cell_type": "markdown",
   "metadata": {},
   "source": [
    "# Students by Grade"
   ]
  },
  {
   "cell_type": "markdown",
   "metadata": {},
   "source": [
    "-- How many students are in each grade? And how many 6th graders do you think they'll have next year?\n",
    "\n",
    "SELECT GRADE, COUNT(*) FROM STUDENTS\n",
    "GROUP BY GRADE;"
   ]
  },
  {
   "cell_type": "markdown",
   "metadata": {},
   "source": [
    "# Predicting the Future"
   ]
  },
  {
   "cell_type": "markdown",
   "metadata": {},
   "source": [
    "SELECT MIN(CAPACITY) * 7 FROM CLASSES\n",
    "JOIN SUBJECTS ON SUBJECTS.ID = CLASSES.SUBJECT_ID\n",
    "JOIN ROOMS ON ROOMS.ID = CLASSES.ROOM_ID\n",
    "WHERE GRADE = 6"
   ]
  },
  {
   "cell_type": "markdown",
   "metadata": {},
   "source": [
    "# Busiest Teachers"
   ]
  },
  {
   "cell_type": "markdown",
   "metadata": {},
   "source": [
    "SELECT TEACHERS.ID, FIRST_NAME, LAST_NAME, COUNT(*) FROM TEACHERS\n",
    "JOIN CLASSES ON TEACHERS.ID = CLASSES.TEACHER_ID\n",
    "GROUP BY TEACHERS.ID HAVING COUNT(*) = 7"
   ]
  },
  {
   "cell_type": "markdown",
   "metadata": {},
   "source": [
    "# Multi-Subject Teachers"
   ]
  },
  {
   "cell_type": "markdown",
   "metadata": {},
   "source": [
    "SELECT TEACHERS.* FROM TEACHERS\n",
    "JOIN CLASSES ON TEACHERS.ID = CLASSES.TEACHER_ID\n",
    "GROUP BY TEACHERS.ID HAVING COUNT(DISTINCT(SUBJECT_ID)) > 1"
   ]
  },
  {
   "cell_type": "markdown",
   "metadata": {},
   "source": [
    "# Janis's Schedule"
   ]
  },
  {
   "cell_type": "markdown",
   "metadata": {},
   "source": [
    "-- What class does Janis Ambrose teach during each period? Be sure to include all 7 periods in your report!\n",
    "\n",
    "SELECT PERIOD_ID, SUBJECTS.NAME FROM TEACHERS\n",
    "JOIN CLASSES ON TEACHERS.ID = CLASSES.TEACHER_ID\n",
    "JOIN SUBJECTS ON SUBJECTS.ID = CLASSES.SUBJECT_ID\n",
    "WHERE TEACHERS.ID = 391;"
   ]
  },
  {
   "cell_type": "markdown",
   "metadata": {},
   "source": [
    "WITH JANIS_CLASSES AS (\n",
    "  SELECT PERIOD_ID, SUBJECTS.NAME FROM TEACHERS\n",
    "  JOIN CLASSES ON TEACHERS.ID = CLASSES.TEACHER_ID\n",
    "  JOIN SUBJECTS ON SUBJECTS.ID = CLASSES.SUBJECT_ID\n",
    "  WHERE TEACHERS.ID = 391\n",
    ")\n",
    "SELECT * FROM JANIS_CLASSES "
   ]
  },
  {
   "cell_type": "markdown",
   "metadata": {},
   "source": [
    "-- What class does Janis Ambrose teach during each period? Be sure to include all 7 periods in your report!\n",
    "\n",
    "WITH JANIS_CLASSES AS (\n",
    "  SELECT PERIOD_ID, SUBJECTS.NAME FROM TEACHERS\n",
    "  JOIN CLASSES ON TEACHERS.ID = CLASSES.TEACHER_ID\n",
    "  JOIN SUBJECTS ON SUBJECTS.ID = CLASSES.SUBJECT_ID\n",
    "  WHERE TEACHERS.ID = 391\n",
    ")\n",
    "SELECT PERIODS.ID, JANIS_CLASSES.NAME FROM PERIODS \n",
    "LEFT OUTER JOIN JANIS_CLASSES ON PERIODS.ID = PERIOD_ID"
   ]
  },
  {
   "cell_type": "markdown",
   "metadata": {},
   "source": [
    "# Least Popular Subject"
   ]
  },
  {
   "cell_type": "markdown",
   "metadata": {},
   "source": [
    "SELECT SUBJECTS.NAME, COUNT(*) FROM SUBJECTS\n",
    "JOIN CLASSES ON SUBJECTS.ID = CLASSES.SUBJECT_ID\n",
    "JOIN SCHEDULE ON CLASSES.ID = SCHEDULE.CLASS_ID\n",
    "GROUP BY SUBJECT_ID ORDER BY COUNT(*) ASC"
   ]
  },
  {
   "cell_type": "markdown",
   "metadata": {},
   "source": [
    "-- Which subject is the least popular, and how many students are taking it?\n",
    "\n",
    "WITH SUBJECTS_COUNTS AS (\n",
    "  SELECT SUBJECTS.NAME, COUNT(*) 'CT' FROM SUBJECTS\n",
    "  JOIN CLASSES ON SUBJECTS.ID = CLASSES.SUBJECT_ID\n",
    "  JOIN SCHEDULE ON CLASSES.ID = SCHEDULE.CLASS_ID\n",
    "  GROUP BY SUBJECT_ID\n",
    ")\n",
    "SELECT NAME, MIN(CT) FROM SUBJECTS_COUNTS"
   ]
  },
  {
   "cell_type": "markdown",
   "metadata": {},
   "source": [
    "# Finding the Troublemaker"
   ]
  },
  {
   "cell_type": "markdown",
   "metadata": {},
   "source": [
    "-- Which students have 5th period science and 7th period art?\n",
    "\n",
    "WITH FIFTH_SCIENCE AS (\n",
    "  SELECT STUDENT_ID FROM STUDENTS \n",
    "  JOIN SCHEDULE ON STUDENTS.ID = SCHEDULE.STUDENT_ID\n",
    "  JOIN CLASSES ON CLASSES.ID = SCHEDULE.CLASS_ID\n",
    "  JOIN SUBJECTS ON SUBJECTS.ID = CLASSES.SUBJECT_ID\n",
    "  WHERE PERIOD_ID = 5 AND SUBJECTS.NAME = \"Science\"\n",
    "), SEVENTH_ART AS (\n",
    "  SELECT STUDENT_ID FROM STUDENTS \n",
    "  JOIN SCHEDULE ON STUDENTS.ID = SCHEDULE.STUDENT_ID\n",
    "  JOIN CLASSES ON CLASSES.ID = SCHEDULE.CLASS_ID\n",
    "  JOIN SUBJECTS ON SUBJECTS.ID = CLASSES.SUBJECT_ID\n",
    "  WHERE PERIOD_ID = 7 AND SUBJECTS.NAME = \"Art\"\n",
    ")\n",
    "SELECT C.* FROM FIFTH_SCIENCE A\n",
    "JOIN SEVENTH_ART B ON A.STUDENT_ID = B.STUDENT_ID \n",
    "JOIN STUDENTS C ON A.STUDENT_ID = C.ID"
   ]
  },
  {
   "cell_type": "markdown",
   "metadata": {},
   "source": [
    "# Most Popular Teacher"
   ]
  },
  {
   "cell_type": "markdown",
   "metadata": {},
   "source": [
    "-- Which elective teacher is the most popular (teaches the most students)?\n",
    "\n",
    "WITH ELECTIVE_TEACHERS AS (\n",
    "  SELECT DISTINCT TEACHERS.ID\n",
    "  FROM TEACHERS\n",
    "  JOIN CLASSES ON TEACHERS.ID = CLASSES.TEACHER_ID \n",
    "  JOIN SUBJECTS ON CLASSES.SUBJECT_ID = SUBJECTS.ID\n",
    "  WHERE GRADE IS NULL\n",
    "), STUDENTS_COUNTS AS (\n",
    "  SELECT ELECTIVE_TEACHERS.ID, COUNT(*) 'CT'\n",
    "  FROM ELECTIVE_TEACHERS\n",
    "  JOIN CLASSES ON ELECTIVE_TEACHERS.ID = CLASSES.TEACHER_ID\n",
    "  JOIN SCHEDULE ON CLASSES.ID = SCHEDULE.CLASS_ID\n",
    "  GROUP BY ELECTIVE_TEACHERS.ID\n",
    ")\n",
    "SELECT MAX(STUDENTS_COUNTS.CT), TEACHERS.FIRST_NAME, TEACHERS.LAST_NAME\n",
    "FROM STUDENTS_COUNTS\n",
    "JOIN TEACHERS ON STUDENTS_COUNTS.ID = TEACHERS.ID\n"
   ]
  },
  {
   "cell_type": "markdown",
   "metadata": {},
   "source": [
    "# Bus Trouble"
   ]
  },
  {
   "cell_type": "markdown",
   "metadata": {},
   "source": [
    "-- Which teachers don't have a class during 1st period?\n",
    "SELECT TEACHERS.* FROM TEACHERS\n",
    "EXCEPT\n",
    "SELECT TEACHERS.* FROM TEACHERS\n",
    "JOIN CLASSES ON TEACHERS.ID = CLASSES.TEACHER_ID\n",
    "WHERE PERIOD_ID = 1"
   ]
  },
  {
   "cell_type": "markdown",
   "metadata": {},
   "source": [
    "** Common Table Expressions (CTE)  **"
   ]
  },
  {
   "cell_type": "markdown",
   "metadata": {},
   "source": [
    "WITH name AS {query}"
   ]
  }
 ],
 "metadata": {
  "kernelspec": {
   "display_name": "Python 3",
   "language": "python",
   "name": "python3"
  },
  "language_info": {
   "codemirror_mode": {
    "name": "ipython",
    "version": 3
   },
   "file_extension": ".py",
   "mimetype": "text/x-python",
   "name": "python",
   "nbconvert_exporter": "python",
   "pygments_lexer": "ipython3",
   "version": "3.6.2"
  }
 },
 "nbformat": 4,
 "nbformat_minor": 2
}
