{
 "cells": [
  {
   "cell_type": "markdown",
   "metadata": {},
   "source": [
    "- maximaizing storage\n",
    "- bettern application functionaliry\n",
    "- cleaner, richer data for reproting"
   ]
  },
  {
   "cell_type": "markdown",
   "metadata": {},
   "source": [
    "# Database Normalization"
   ]
  },
  {
   "cell_type": "markdown",
   "metadata": {},
   "source": [
    "- Database designers go through a great deal of planning to achieve optimal storage and performance while generating the desired context for the data stored in database table"
   ]
  },
  {
   "cell_type": "markdown",
   "metadata": {},
   "source": [
    "# How normalization helps us"
   ]
  },
  {
   "cell_type": "markdown",
   "metadata": {},
   "source": [
    "- to minimize overlap in disk (hardware cost)\n",
    "- easy to change(Data integrity)\n",
    "- "
   ]
  },
  {
   "cell_type": "markdown",
   "metadata": {},
   "source": [
    "# Set Theory and Relational Databases"
   ]
  },
  {
   "cell_type": "markdown",
   "metadata": {},
   "source": [
    "- set operation"
   ]
  },
  {
   "cell_type": "markdown",
   "metadata": {},
   "source": [
    "- intersect, union, except"
   ]
  },
  {
   "cell_type": "markdown",
   "metadata": {},
   "source": [
    "# Theoretical Groundwork"
   ]
  },
  {
   "cell_type": "markdown",
   "metadata": {},
   "source": [
    "- 3 benefits\n",
    "- normalization\n",
    "- set theory"
   ]
  },
  {
   "cell_type": "markdown",
   "metadata": {},
   "source": [
    "# Unique Keys"
   ]
  },
  {
   "cell_type": "markdown",
   "metadata": {},
   "source": [
    "- no value can be repeated in a column\n",
    "\n",
    "- can be null\n",
    "- multiple unique keys per table\n",
    "- can be modified to a new value"
   ]
  },
  {
   "cell_type": "markdown",
   "metadata": {},
   "source": [
    "# Primary Keys"
   ]
  },
  {
   "cell_type": "markdown",
   "metadata": {},
   "source": [
    "- unique\n",
    "- never be null\n",
    "- one primary key per table\n",
    "- cannot be modified to a new value"
   ]
  },
  {
   "cell_type": "markdown",
   "metadata": {},
   "source": [
    "# Foreign Keys"
   ]
  },
  {
   "cell_type": "markdown",
   "metadata": {},
   "source": [
    "- Columns Designed Correctly\n",
    "- foreign key constraint"
   ]
  },
  {
   "cell_type": "markdown",
   "metadata": {},
   "source": [
    "** Referential Integrity**\n",
    "- Foreign key values must also exist as a primary key value in the reference table"
   ]
  },
  {
   "cell_type": "markdown",
   "metadata": {},
   "source": [
    "- http://www.teach-ict.com/as_a2_ict_new/ocr/AS_G061/315_database_concepts/terminology/miniweb/pg13.htm"
   ]
  },
  {
   "cell_type": "markdown",
   "metadata": {},
   "source": [
    "# One to Many Relationships"
   ]
  },
  {
   "cell_type": "markdown",
   "metadata": {},
   "source": [
    "> Table Relationship"
   ]
  },
  {
   "cell_type": "markdown",
   "metadata": {},
   "source": [
    "- one to one\n",
    "- one to many\n",
    "- many to many"
   ]
  },
  {
   "cell_type": "markdown",
   "metadata": {},
   "source": [
    "# Many to Many relationships"
   ]
  },
  {
   "cell_type": "markdown",
   "metadata": {},
   "source": [
    "- example order & part"
   ]
  },
  {
   "cell_type": "markdown",
   "metadata": {},
   "source": [
    "make a column that handle the relationship between two column"
   ]
  },
  {
   "cell_type": "markdown",
   "metadata": {},
   "source": [
    "** junction table **"
   ]
  },
  {
   "cell_type": "markdown",
   "metadata": {},
   "source": [
    "# One to one Relationships"
   ]
  },
  {
   "cell_type": "markdown",
   "metadata": {},
   "source": [
    "- better to combine but..."
   ]
  },
  {
   "cell_type": "markdown",
   "metadata": {},
   "source": [
    "> Scenarios"
   ]
  },
  {
   "cell_type": "markdown",
   "metadata": {},
   "source": [
    "- boost performance with tables with lots of intrequently used columns\n",
    "- working with 3rd party databases"
   ]
  },
  {
   "cell_type": "markdown",
   "metadata": {},
   "source": [
    "# Modeling Table Relationships"
   ]
  },
  {
   "cell_type": "markdown",
   "metadata": {},
   "source": [
    "![main](img_database.png \"main\")"
   ]
  },
  {
   "cell_type": "markdown",
   "metadata": {},
   "source": [
    "# Join queries"
   ]
  },
  {
   "cell_type": "markdown",
   "metadata": {},
   "source": [
    "- inner & outer"
   ]
  },
  {
   "cell_type": "markdown",
   "metadata": {},
   "source": [
    "# Inner Join"
   ]
  },
  {
   "cell_type": "markdown",
   "metadata": {},
   "source": [
    "select mk.MakeName, md.ModelName from make as mk\n",
    "    inner join model as md on mk.MakeID = md.MakeID where mk.MakeName =\"Chevy\";"
   ]
  },
  {
   "cell_type": "markdown",
   "metadata": {},
   "source": [
    "# Outer Join"
   ]
  },
  {
   "cell_type": "markdown",
   "metadata": {},
   "source": [
    "![main](inner_join.png \"main\")"
   ]
  },
  {
   "cell_type": "markdown",
   "metadata": {},
   "source": [
    "![main](left_outer_join.png \"main\")"
   ]
  },
  {
   "cell_type": "markdown",
   "metadata": {},
   "source": [
    "SELECT mk.MakeName, count(md.ModelName) as NumberOfModel FROM make AS mk \n",
    "  left outer JOIN model AS md ON mk.MakeID = md.MakeID\n",
    "  group by mk.MakeName; "
   ]
  },
  {
   "cell_type": "markdown",
   "metadata": {},
   "source": [
    "# Practice"
   ]
  },
  {
   "cell_type": "markdown",
   "metadata": {},
   "source": [
    "-- Use a JOIN to find out which patrons haven't had any loans. Select their first name and email address.\n",
    "\n",
    "select pt.first_name, pt.email from patrons as pt \n",
    "left join loans as ln on pt.id = ln.id;`"
   ]
  },
  {
   "cell_type": "markdown",
   "metadata": {},
   "source": [
    "-- Create a report that shows the title of the book, first and last name of the patron, email and all date fields of the loan.\n",
    "\n",
    "\n",
    "select bk.title, pt.first_name, pt.last_name, pt.email, ln.loaned_on, ln.return_by, ln.returned_on from books as bk \n",
    "join loans as ln on bk.id = ln.id \n",
    "join patrons as pt on ln.id = pt.id;"
   ]
  },
  {
   "cell_type": "markdown",
   "metadata": {},
   "source": [
    "# What are Set Operations?"
   ]
  },
  {
   "cell_type": "markdown",
   "metadata": {},
   "source": [
    "- Union, Union all, intersect, except"
   ]
  },
  {
   "cell_type": "markdown",
   "metadata": {},
   "source": [
    "- Union also brings two tables in a one set\n",
    "- But is doesn't use a foreign key relationship at all \n",
    "- and it stacks the data\n",
    "- should match the number of columns"
   ]
  },
  {
   "cell_type": "markdown",
   "metadata": {},
   "source": [
    "SELECT MakeName FROM Make union SELECT MakeName FROM ForeignMake; "
   ]
  },
  {
   "cell_type": "markdown",
   "metadata": {},
   "source": [
    "SELECT MakeID, MakeName FROM Make union SELECT ForeignMakeID, MakeName FROM ForeignMake; "
   ]
  },
  {
   "cell_type": "markdown",
   "metadata": {},
   "source": [
    "SELECT MakeID, MakeName FROM Make \n",
    "where MakeName < \"D\"\n",
    "union \n",
    "SELECT ForeignMakeID, MakeName FROM ForeignMake\n",
    "where MakeName < \"D\"\n",
    "order by MakeName; "
   ]
  },
  {
   "cell_type": "markdown",
   "metadata": {},
   "source": [
    "query1 union query2"
   ]
  },
  {
   "cell_type": "markdown",
   "metadata": {},
   "source": [
    "# Union All Operation"
   ]
  },
  {
   "cell_type": "markdown",
   "metadata": {},
   "source": [
    "- union all will return all of us from each select, even if there are duplicates. "
   ]
  },
  {
   "cell_type": "markdown",
   "metadata": {},
   "source": [
    "SELECT MakeName FROM Make UNION all SELECT MakeName FROM ForeignMake\n",
    "order by MakeName;"
   ]
  },
  {
   "cell_type": "markdown",
   "metadata": {},
   "source": [
    "# Intersect operation"
   ]
  },
  {
   "cell_type": "markdown",
   "metadata": {},
   "source": [
    "SELECT MakeName FROM Make intersect SELECT MakeName FROM ForeignMake\n",
    "order by MakeName desc;"
   ]
  },
  {
   "cell_type": "markdown",
   "metadata": {},
   "source": [
    "# Except Operations"
   ]
  },
  {
   "cell_type": "markdown",
   "metadata": {},
   "source": [
    "# Review and Practice"
   ]
  },
  {
   "cell_type": "code",
   "execution_count": null,
   "metadata": {
    "collapsed": true
   },
   "outputs": [],
   "source": []
  }
 ],
 "metadata": {
  "kernelspec": {
   "display_name": "Python 3",
   "language": "python",
   "name": "python3"
  },
  "language_info": {
   "codemirror_mode": {
    "name": "ipython",
    "version": 3
   },
   "file_extension": ".py",
   "mimetype": "text/x-python",
   "name": "python",
   "nbconvert_exporter": "python",
   "pygments_lexer": "ipython3",
   "version": "3.6.2"
  }
 },
 "nbformat": 4,
 "nbformat_minor": 2
}
