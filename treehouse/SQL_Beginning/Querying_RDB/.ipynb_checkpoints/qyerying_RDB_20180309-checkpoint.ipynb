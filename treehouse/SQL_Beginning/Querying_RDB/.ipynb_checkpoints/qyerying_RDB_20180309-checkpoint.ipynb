{
 "cells": [
  {
   "cell_type": "markdown",
   "metadata": {},
   "source": [
    "- maximaizing storage\n",
    "- bettern application functionaliry\n",
    "- cleaner, richer data for reproting"
   ]
  },
  {
   "cell_type": "markdown",
   "metadata": {},
   "source": [
    "# Database Normalization"
   ]
  },
  {
   "cell_type": "markdown",
   "metadata": {},
   "source": [
    "- Database designers go through a great deal of planning to achieve optimal storage and performance while generating the desired context for the data stored in database table"
   ]
  },
  {
   "cell_type": "markdown",
   "metadata": {},
   "source": [
    "# How normalization helps us"
   ]
  },
  {
   "cell_type": "markdown",
   "metadata": {},
   "source": [
    "- to minimize overlap in disk (hardware cost)\n",
    "- easy to change(Data integrity)\n",
    "- "
   ]
  },
  {
   "cell_type": "markdown",
   "metadata": {},
   "source": [
    "# Set Theory and Relational Databases"
   ]
  },
  {
   "cell_type": "markdown",
   "metadata": {},
   "source": [
    "- set operation"
   ]
  },
  {
   "cell_type": "markdown",
   "metadata": {},
   "source": [
    "- intersect, union, except"
   ]
  },
  {
   "cell_type": "markdown",
   "metadata": {},
   "source": [
    "# Theoretical Groundwork"
   ]
  },
  {
   "cell_type": "markdown",
   "metadata": {},
   "source": [
    "- 3 benefits\n",
    "- normalization\n",
    "- set theory"
   ]
  },
  {
   "cell_type": "markdown",
   "metadata": {},
   "source": [
    "# Unique Keys"
   ]
  },
  {
   "cell_type": "markdown",
   "metadata": {},
   "source": [
    "- no value can be repeated in a column\n",
    "\n",
    "- can be null\n",
    "- multiple unique keys per table\n",
    "- can be modified to a new value"
   ]
  },
  {
   "cell_type": "markdown",
   "metadata": {},
   "source": [
    "# Primary Keys"
   ]
  },
  {
   "cell_type": "markdown",
   "metadata": {},
   "source": [
    "- unique\n",
    "- never be null\n",
    "- one primary key per table\n",
    "- cannot be modified to a new value"
   ]
  },
  {
   "cell_type": "markdown",
   "metadata": {},
   "source": [
    "# Foreign Keys"
   ]
  },
  {
   "cell_type": "markdown",
   "metadata": {},
   "source": [
    "- Columns Designed Correctly\n",
    "- foreign key constraint"
   ]
  },
  {
   "cell_type": "markdown",
   "metadata": {},
   "source": [
    "** Referential Integrity**\n",
    "- Foreign key values must also exist as a primary key value in the reference table"
   ]
  },
  {
   "cell_type": "markdown",
   "metadata": {},
   "source": [
    "- http://www.teach-ict.com/as_a2_ict_new/ocr/AS_G061/315_database_concepts/terminology/miniweb/pg13.htm"
   ]
  },
  {
   "cell_type": "markdown",
   "metadata": {},
   "source": [
    "# One to Many Relationships"
   ]
  },
  {
   "cell_type": "markdown",
   "metadata": {},
   "source": [
    "> Table Relationship"
   ]
  },
  {
   "cell_type": "markdown",
   "metadata": {},
   "source": [
    "- one to one\n",
    "- one to many\n",
    "- many to many"
   ]
  },
  {
   "cell_type": "markdown",
   "metadata": {},
   "source": [
    "# Many to Many relationships"
   ]
  },
  {
   "cell_type": "markdown",
   "metadata": {},
   "source": [
    "- example order & part"
   ]
  },
  {
   "cell_type": "markdown",
   "metadata": {},
   "source": [
    "make a column that handle the relationship between two column"
   ]
  },
  {
   "cell_type": "markdown",
   "metadata": {},
   "source": [
    "** junction table **"
   ]
  },
  {
   "cell_type": "markdown",
   "metadata": {},
   "source": [
    "# One to one Relationships"
   ]
  },
  {
   "cell_type": "markdown",
   "metadata": {},
   "source": [
    "- better to combine but..."
   ]
  },
  {
   "cell_type": "markdown",
   "metadata": {},
   "source": [
    "> Scenarios"
   ]
  },
  {
   "cell_type": "markdown",
   "metadata": {},
   "source": [
    "- boost performance with tables with lots of intrequently used columns\n",
    "- working with 3rd party databases"
   ]
  },
  {
   "cell_type": "markdown",
   "metadata": {},
   "source": [
    "# Modeling Table Relationships"
   ]
  },
  {
   "cell_type": "markdown",
   "metadata": {},
   "source": [
    "![main](img_database.png \"main\")"
   ]
  },
  {
   "cell_type": "markdown",
   "metadata": {},
   "source": [
    "# Join queries"
   ]
  },
  {
   "cell_type": "markdown",
   "metadata": {},
   "source": [
    "- inner & outer"
   ]
  },
  {
   "cell_type": "markdown",
   "metadata": {},
   "source": [
    "# Inner Join"
   ]
  },
  {
   "cell_type": "markdown",
   "metadata": {},
   "source": [
    "select mk.MakeName, md.ModelName from make as mk\n",
    "    inner join model as md on mk.MakeID = md.MakeID where mk.MakeName =\"Chevy\";"
   ]
  },
  {
   "cell_type": "markdown",
   "metadata": {},
   "source": [
    "# Outer Join"
   ]
  },
  {
   "cell_type": "markdown",
   "metadata": {},
   "source": [
    "![main](inner_join.png \"main\")"
   ]
  },
  {
   "cell_type": "markdown",
   "metadata": {},
   "source": [
    "![main](left_outer_join.png \"main\")"
   ]
  },
  {
   "cell_type": "markdown",
   "metadata": {},
   "source": [
    "SELECT mk.MakeName, count(md.ModelName) as NumberOfModel FROM make AS mk \n",
    "  left outer JOIN model AS md ON mk.MakeID = md.MakeID\n",
    "  group by mk.MakeName; "
   ]
  },
  {
   "cell_type": "markdown",
   "metadata": {},
   "source": [
    "# Practice"
   ]
  },
  {
   "cell_type": "markdown",
   "metadata": {},
   "source": [
    "-- Use a JOIN to find out which patrons haven't had any loans. Select their first name and email address.\n",
    "\n",
    "select pt.first_name, pt.email from patrons as pt \n",
    "left join loans as ln on pt.id = ln.id;`"
   ]
  },
  {
   "cell_type": "markdown",
   "metadata": {},
   "source": [
    "-- Create a report that shows the title of the book, first and last name of the patron, email and all date fields of the loan.\n",
    "\n",
    "\n",
    "select bk.title, pt.first_name, pt.last_name, pt.email, ln.loaned_on, ln.return_by, ln.returned_on from books as bk \n",
    "join loans as ln on bk.id = ln.id \n",
    "join patrons as pt on ln.id = pt.id;"
   ]
  },
  {
   "cell_type": "markdown",
   "metadata": {},
   "source": [
    "# What are Set Operations?"
   ]
  },
  {
   "cell_type": "markdown",
   "metadata": {},
   "source": [
    "- Union, Union all, intersect, except"
   ]
  },
  {
   "cell_type": "markdown",
   "metadata": {},
   "source": [
    "- Union also brings two tables in a one set\n",
    "- But is doesn't use a foreign key relationship at all \n",
    "- and it stacks the data\n",
    "- should match the number of columns"
   ]
  },
  {
   "cell_type": "markdown",
   "metadata": {},
   "source": [
    "SELECT MakeName FROM Make union SELECT MakeName FROM ForeignMake; "
   ]
  },
  {
   "cell_type": "markdown",
   "metadata": {},
   "source": [
    "SELECT MakeID, MakeName FROM Make union SELECT ForeignMakeID, MakeName FROM ForeignMake; "
   ]
  },
  {
   "cell_type": "markdown",
   "metadata": {},
   "source": [
    "SELECT MakeID, MakeName FROM Make \n",
    "where MakeName < \"D\"\n",
    "union \n",
    "SELECT ForeignMakeID, MakeName FROM ForeignMake\n",
    "where MakeName < \"D\"\n",
    "order by MakeName; "
   ]
  },
  {
   "cell_type": "markdown",
   "metadata": {},
   "source": [
    "query1 union query2"
   ]
  },
  {
   "cell_type": "markdown",
   "metadata": {},
   "source": [
    "# Union All Operation"
   ]
  },
  {
   "cell_type": "markdown",
   "metadata": {},
   "source": [
    "- union all will return all of us from each select, even if there are duplicates. "
   ]
  },
  {
   "cell_type": "markdown",
   "metadata": {},
   "source": [
    "SELECT MakeName FROM Make UNION all SELECT MakeName FROM ForeignMake\n",
    "order by MakeName;"
   ]
  },
  {
   "cell_type": "markdown",
   "metadata": {},
   "source": [
    "# Intersect operation"
   ]
  },
  {
   "cell_type": "markdown",
   "metadata": {},
   "source": [
    "SELECT MakeName FROM Make intersect SELECT MakeName FROM ForeignMake\n",
    "order by MakeName desc;"
   ]
  },
  {
   "cell_type": "markdown",
   "metadata": {},
   "source": [
    "# Except Operations"
   ]
  },
  {
   "cell_type": "markdown",
   "metadata": {},
   "source": [
    "# Review and Practice"
   ]
  },
  {
   "cell_type": "markdown",
   "metadata": {},
   "source": [
    "# What it subqueries?"
   ]
  },
  {
   "cell_type": "markdown",
   "metadata": {},
   "source": [
    "- narrowing the result of data returned"
   ]
  },
  {
   "cell_type": "markdown",
   "metadata": {},
   "source": [
    "- Criteria for a where clause is not specifically known \n",
    "- You need a temporary dataset to join with other tables in your database"
   ]
  },
  {
   "cell_type": "markdown",
   "metadata": {},
   "source": [
    "select [columns]\n",
    "from [table1]\n",
    "where column1 in (\n",
    "    select column1\n",
    "    from [table2]\n",
    "    where [search criteria]\n",
    ");"
   ]
  },
  {
   "cell_type": "markdown",
   "metadata": {},
   "source": [
    "# Using IN with Subqueries to Filter Data\n"
   ]
  },
  {
   "cell_type": "markdown",
   "metadata": {},
   "source": [
    "- one column in a subquery"
   ]
  },
  {
   "cell_type": "markdown",
   "metadata": {},
   "source": [
    "SELECT * FROM Sale WHERE CarID not IN (select CarID from Car where ModelYear = 2015);"
   ]
  },
  {
   "cell_type": "markdown",
   "metadata": {},
   "source": [
    "# Using a Subquery to Create a Temporary Table"
   ]
  },
  {
   "cell_type": "markdown",
   "metadata": {},
   "source": [
    "SELECT * FROM (SELECT * FROM Car WHERE ModelYear = 2015) where CarID < 20;"
   ]
  },
  {
   "cell_type": "markdown",
   "metadata": {},
   "source": [
    "SELECT * FROM Sale as s\n",
    "  inner join (SELECT * FROM Car WHERE ModelYear = 2015) as t \n",
    "  on s.CarID = t.CarID;"
   ]
  },
  {
   "cell_type": "markdown",
   "metadata": {},
   "source": [
    "SELECT * FROM Sale as s\n",
    "  inner join (SELECT CarID, ModelYear FROM Car WHERE ModelYear = 2015) as t \n",
    "  on s.CarID = t.CarID;\n"
   ]
  },
  {
   "cell_type": "markdown",
   "metadata": {},
   "source": [
    "> part2"
   ]
  },
  {
   "cell_type": "markdown",
   "metadata": {},
   "source": [
    "-- SELECT <columns> FROM <table 1> WHERE <column 1> <INNER|OUTER> JOIN \n",
    "--      (SELECT <column 1>\tFROM <table 2>\tWHERE <search_criteria>) AS <temporary name> ON <equality criteria>;\n",
    "\n",
    "-- What is the sum of all sales by rep and location?\n",
    "\n",
    "SELECT sr.LastName, Loc1.StLouisAmount, Loc2.ColumbiaAmount from SalesRep as sr\n",
    "  left outer join (\n",
    "    select SalesRepID, sum(SaleAmount) as StLouisAmount\n",
    "    from Sale as s where s.LocationID = 1\n",
    "    group by SalesRepID\n",
    ") as Loc1 on sr.SalesRepID = Loc1.SalesRepID \n",
    "  left outer join (\n",
    "    select SalesRepID, sum(SaleAmount) as ColumbiaAmount\n",
    "    from Sale as s where s.LocationID = 2\n",
    "    group by SalesRepID\n",
    ") as Loc2 on sr.SalesRepID = Loc2.SalesRepID;"
   ]
  },
  {
   "cell_type": "markdown",
   "metadata": {},
   "source": [
    "# Practice"
   ]
  },
  {
   "cell_type": "markdown",
   "metadata": {},
   "source": [
    "select count(title) from (\n",
    "  select title from books_north\n",
    "  intersect\n",
    "  select title from books_south\n",
    ");"
   ]
  },
  {
   "cell_type": "markdown",
   "metadata": {},
   "source": [
    "select pt.first_name, pt.email, count(*) from patrons as pt\n",
    "inner join (\n",
    "  select * from loans_north\n",
    "  union \n",
    "  select * from loans_south) as ln\n",
    "  on pt.id = ln.patron_id\n",
    "  where ln.returned_on is NULL\n",
    "  group by pt.id;"
   ]
  },
  {
   "cell_type": "markdown",
   "metadata": {},
   "source": [
    "select ModelName from Model\n",
    "  where ModelId in (\n",
    "    select ModelID from Car \n",
    "    where StickerPrice > 30000\n",
    "  );"
   ]
  },
  {
   "cell_type": "markdown",
   "metadata": {},
   "source": [
    "select * from Sale \n",
    "  where CustomerID in (\n",
    "    select CustomerID from Customer\n",
    "    where Gender = \"F\" \n",
    "  );"
   ]
  },
  {
   "cell_type": "markdown",
   "metadata": {},
   "source": [
    "SELECT * FROM Sale AS s \n",
    "INNER JOIN (\n",
    "  SELECT CustomerID FROM Customer\n",
    "  WHERE Gender = 'F'\n",
    ") AS c \n",
    "ON s.CustomerID = c.CustomerID;"
   ]
  }
 ],
 "metadata": {
  "kernelspec": {
   "display_name": "Python 3",
   "language": "python",
   "name": "python3"
  },
  "language_info": {
   "codemirror_mode": {
    "name": "ipython",
    "version": 3
   },
   "file_extension": ".py",
   "mimetype": "text/x-python",
   "name": "python",
   "nbconvert_exporter": "python",
   "pygments_lexer": "ipython3",
   "version": "3.6.2"
  }
 },
 "nbformat": 4,
 "nbformat_minor": 2
}
