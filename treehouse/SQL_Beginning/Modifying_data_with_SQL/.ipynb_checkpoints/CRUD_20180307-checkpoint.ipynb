{
 "cells": [
  {
   "cell_type": "markdown",
   "metadata": {},
   "source": [
    "# Intro"
   ]
  },
  {
   "cell_type": "markdown",
   "metadata": {},
   "source": [
    "- create\n",
    "- read\n",
    "- update\n",
    "- delete"
   ]
  },
  {
   "cell_type": "markdown",
   "metadata": {},
   "source": [
    "# Adding row to a table"
   ]
  },
  {
   "cell_type": "markdown",
   "metadata": {},
   "source": [
    "- id(PK), title, author, genre, first_published"
   ]
  },
  {
   "cell_type": "markdown",
   "metadata": {},
   "source": [
    "insert into books values (18, \"1986\", \"Kaden Cho\", \"Fiction\", 2018);"
   ]
  },
  {
   "cell_type": "markdown",
   "metadata": {},
   "source": [
    "> Should specify column name to insert NULL value"
   ]
  },
  {
   "cell_type": "markdown",
   "metadata": {},
   "source": [
    "insert into loans (id, book_id, patron_id, loaned_on, return_by, returned_on)\n",
    "values (NULL, 2, 4, \"2015-12-14\", \"2015-12-21\", NULL);"
   ]
  },
  {
   "cell_type": "markdown",
   "metadata": {},
   "source": [
    "> Can change the order of column"
   ]
  },
  {
   "cell_type": "markdown",
   "metadata": {},
   "source": [
    "insert into loans (patron_id, loaned_on, return_by, returned_on, id, book_id)\n",
    "values (4, \"2015-12-14\", \"2015-12-21\", NULL, NULL, 2);"
   ]
  },
  {
   "cell_type": "markdown",
   "metadata": {},
   "source": [
    "# Adding Multiple Rows to a Table"
   ]
  },
  {
   "cell_type": "markdown",
   "metadata": {},
   "source": [
    "INSERT INTO books (title, author, genre, first_published) \n",
    "VALUES (\"The Circle\", \"Dave Eggers\", \"Science Fiction\", 2013);\n",
    "\n",
    "INSERT INTO books (title, author, genre, first_published) \n",
    "VALUES (\"Contact\", \"Carl Sagan\", \"Science Fiction\", 1985);\n",
    "\n",
    "INSERT INTO books (title, author, genre, first_published) \n",
    "VALUES (\"Animal Farm\", \"George Orwell\", NULL, 1945);"
   ]
  },
  {
   "cell_type": "markdown",
   "metadata": {},
   "source": [
    "> Simplified"
   ]
  },
  {
   "cell_type": "markdown",
   "metadata": {},
   "source": [
    "INSERT INTO books (title, author, genre, first_published) \n",
    "VALUES (\"The Circle\", \"Dave Eggers\", \"Science Fiction\", 2013),\n",
    "       (\"Contact\", \"Carl Sagan\", \"Science Fiction\", 1985),\n",
    "       (\"Animal Farm\", \"George Orwell\", NULL, 1945);"
   ]
  },
  {
   "cell_type": "markdown",
   "metadata": {},
   "source": [
    "# Review"
   ]
  },
  {
   "cell_type": "markdown",
   "metadata": {
    "collapsed": true
   },
   "source": [
    "# Updating all rows in a table"
   ]
  },
  {
   "cell_type": "markdown",
   "metadata": {},
   "source": [
    "update [table] set [column] = [value]; = to assign"
   ]
  },
  {
   "cell_type": "markdown",
   "metadata": {},
   "source": [
    "update patrons set last_name = \"Anonymous\";\n",
    "update patrons set first_name = \"Kaden\", email = \"kadencho@gmail.com\";"
   ]
  },
  {
   "cell_type": "markdown",
   "metadata": {},
   "source": [
    "# Updating Specific Rows"
   ]
  },
  {
   "cell_type": "markdown",
   "metadata": {},
   "source": [
    "update loans set returned_on = \"2015-12-18\" where patron_id = 1;"
   ]
  },
  {
   "cell_type": "markdown",
   "metadata": {},
   "source": [
    "# Review"
   ]
  },
  {
   "cell_type": "markdown",
   "metadata": {},
   "source": [
    "# Deleting"
   ]
  },
  {
   "cell_type": "markdown",
   "metadata": {},
   "source": [
    "delete from books;"
   ]
  },
  {
   "cell_type": "markdown",
   "metadata": {},
   "source": [
    "# Removing specific row"
   ]
  },
  {
   "cell_type": "markdown",
   "metadata": {},
   "source": [
    "- can add BETWEEN, IN, LIKE"
   ]
  },
  {
   "cell_type": "markdown",
   "metadata": {},
   "source": [
    "delete from books where title like \"harry potter%\";"
   ]
  },
  {
   "cell_type": "markdown",
   "metadata": {},
   "source": [
    "# Introduction to transactions"
   ]
  },
  {
   "cell_type": "markdown",
   "metadata": {},
   "source": [
    "- autocommit blocking by transaction"
   ]
  },
  {
   "cell_type": "markdown",
   "metadata": {},
   "source": [
    "begin; // or begin transaction;\n",
    "\n",
    "queries;\n",
    "\n",
    "commit;"
   ]
  },
  {
   "cell_type": "markdown",
   "metadata": {},
   "source": [
    "# Rolling back from update"
   ]
  },
  {
   "cell_type": "markdown",
   "metadata": {},
   "source": [
    "- to undo the transaction we use "
   ]
  },
  {
   "cell_type": "markdown",
   "metadata": {},
   "source": [
    "begin;\n",
    "queries;\n",
    "rollback;"
   ]
  },
  {
   "cell_type": "markdown",
   "metadata": {},
   "source": [
    "- no change on db because of rollback"
   ]
  },
  {
   "cell_type": "markdown",
   "metadata": {},
   "source": [
    "# Databases with Frameworks"
   ]
  },
  {
   "cell_type": "markdown",
   "metadata": {},
   "source": [
    "ORM : \n",
    "  - perform CRUD operations with a language other than SQL\n",
    "  - provides a convenient way for developers to perfrom CRUD operations in their language of choice\n",
    "\n",
    "** Benefits of an ORM(object-relational mapping) **\n",
    "- Handle transactions\n",
    "- one language\n",
    "- examples : Hibernate, CoreData, Django ORM, ActiveRecord"
   ]
  },
  {
   "cell_type": "markdown",
   "metadata": {},
   "source": []
  }
 ],
 "metadata": {
  "kernelspec": {
   "display_name": "Python 3",
   "language": "python",
   "name": "python3"
  },
  "language_info": {
   "codemirror_mode": {
    "name": "ipython",
    "version": 3
   },
   "file_extension": ".py",
   "mimetype": "text/x-python",
   "name": "python",
   "nbconvert_exporter": "python",
   "pygments_lexer": "ipython3",
   "version": "3.6.2"
  }
 },
 "nbformat": 4,
 "nbformat_minor": 2
}
