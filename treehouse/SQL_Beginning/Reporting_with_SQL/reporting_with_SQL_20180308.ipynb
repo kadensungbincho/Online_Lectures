{
 "cells": [
  {
   "cell_type": "markdown",
   "metadata": {},
   "source": [
    "# Overview"
   ]
  },
  {
   "cell_type": "markdown",
   "metadata": {},
   "source": [
    "> Handling Data"
   ]
  },
  {
   "cell_type": "markdown",
   "metadata": {},
   "source": [
    "- Ordering : e.g. sorting\n",
    "- Limiting : e.g. paging\n",
    "- Manipulating Text : e.g. lowercase or uppercase\n",
    "- Aggregation : e.g. count values, sum values ...\n",
    "- Date : date calculation "
   ]
  },
  {
   "cell_type": "markdown",
   "metadata": {},
   "source": [
    "# Retrieving Results in a Particular Order\n"
   ]
  },
  {
   "cell_type": "markdown",
   "metadata": {},
   "source": [
    "SELECT * FROM products ORDER BY stock_count ASC;\n",
    "SELECT * FROM products ORDER BY stock_count DESC;"
   ]
  },
  {
   "cell_type": "markdown",
   "metadata": {},
   "source": [
    "select * from customers order by last_name desc, first_name desc;"
   ]
  },
  {
   "cell_type": "markdown",
   "metadata": {},
   "source": [
    "# Limiting the Number of Results"
   ]
  },
  {
   "cell_type": "markdown",
   "metadata": {},
   "source": [
    "SELECT * FROM campaigns order by sales desc limit 3;"
   ]
  },
  {
   "cell_type": "markdown",
   "metadata": {},
   "source": [
    "# Paging through Results"
   ]
  },
  {
   "cell_type": "markdown",
   "metadata": {},
   "source": [
    "**offset** + skipped number of rows"
   ]
  },
  {
   "cell_type": "markdown",
   "metadata": {},
   "source": [
    "SELECT * FROM orders LIMIT 50 offset 50;"
   ]
  },
  {
   "cell_type": "markdown",
   "metadata": {},
   "source": [
    "# What Are Functions?"
   ]
  },
  {
   "cell_type": "markdown",
   "metadata": {},
   "source": [
    "> Syntax"
   ]
  },
  {
   "cell_type": "markdown",
   "metadata": {},
   "source": [
    "- Keywords : Data presented unaltered\n",
    "  - e.g. select, as, from, order by, where, in, between\n",
    "  \n",
    "- Operators : Performs comparisons and simple manipulation\n",
    "  - e.g. =, <, >, <=, >=\n",
    "  \n",
    "- Functions : Presents data differently through manipulation\n",
    "  - e.g. length(), upper(), sum()"
   ]
  },
  {
   "cell_type": "markdown",
   "metadata": {},
   "source": [
    "UPPER(\"Kaden Cho\");\n",
    "\"KADEN CHO\""
   ]
  },
  {
   "cell_type": "markdown",
   "metadata": {},
   "source": [
    "# Adding Text Columns Together"
   ]
  },
  {
   "cell_type": "markdown",
   "metadata": {},
   "source": [
    "** concatenate operator **\n",
    "- SQL Playground : ||\n",
    "- Alternative SQL Databases : +, CONCAT()"
   ]
  },
  {
   "cell_type": "markdown",
   "metadata": {},
   "source": [
    "SELECT  first_name || \" \" || last_name AS \"Full Name\", \n",
    "        email AS \"Email\", phone AS \"Phone\" \n",
    "          FROM customers;"
   ]
  },
  {
   "cell_type": "markdown",
   "metadata": {},
   "source": [
    "# Finding the Length of Text"
   ]
  },
  {
   "cell_type": "markdown",
   "metadata": {},
   "source": [
    "SELECT username, length(username) as length FROM customers order by length desc limit 1;"
   ]
  },
  {
   "cell_type": "markdown",
   "metadata": {},
   "source": [
    "# Changing the Case of Text Columns"
   ]
  },
  {
   "cell_type": "markdown",
   "metadata": {},
   "source": [
    "SELECT * FROM customers WHERE email LIKE \"andrew@teamtreehouse.com\";"
   ]
  },
  {
   "cell_type": "markdown",
   "metadata": {},
   "source": [
    "> searching with case-insensitive"
   ]
  },
  {
   "cell_type": "markdown",
   "metadata": {},
   "source": [
    "SELECT * FROM customers WHERE lower(email) = \"andrew@teamtreehouse.com\";"
   ]
  },
  {
   "cell_type": "markdown",
   "metadata": {},
   "source": [
    "SELECT upper(zip) FROM addresses WHERE country = \"UK\";\n"
   ]
  },
  {
   "cell_type": "markdown",
   "metadata": {},
   "source": [
    "# Creating Excerpts From Text"
   ]
  },
  {
   "cell_type": "markdown",
   "metadata": {},
   "source": [
    "> Substring : substr([value or column], start, length)\n",
    "- require more than just column name"
   ]
  },
  {
   "cell_type": "markdown",
   "metadata": {},
   "source": [
    "# Replacing Portions of Text"
   ]
  },
  {
   "cell_type": "markdown",
   "metadata": {},
   "source": [
    "replace([value or column], [target], [replacement])"
   ]
  },
  {
   "cell_type": "markdown",
   "metadata": {},
   "source": [
    "SELECT * FROM addresses \n",
    "        WHERE REPLACE(state, \"California\", \"CA\") = \"CA\";"
   ]
  },
  {
   "cell_type": "markdown",
   "metadata": {},
   "source": [
    "# Counting Results"
   ]
  },
  {
   "cell_type": "markdown",
   "metadata": {},
   "source": [
    "SELECT count(*) FROM customers;\n",
    "\n",
    "count non null values"
   ]
  },
  {
   "cell_type": "markdown",
   "metadata": {},
   "source": [
    "select count(*) from products where category = \"Clothing\";"
   ]
  },
  {
   "cell_type": "markdown",
   "metadata": {},
   "source": [
    "select count(distinct category) from products;"
   ]
  },
  {
   "cell_type": "markdown",
   "metadata": {},
   "source": [
    "# Counting Group of Rows"
   ]
  },
  {
   "cell_type": "markdown",
   "metadata": {},
   "source": [
    "- distinct is used to get the unique values in a column"
   ]
  },
  {
   "cell_type": "markdown",
   "metadata": {},
   "source": [
    "SELECT category, count(*) as product_count FROM products group BY category;"
   ]
  },
  {
   "cell_type": "markdown",
   "metadata": {},
   "source": [
    "# Getting the Grand Total"
   ]
  },
  {
   "cell_type": "markdown",
   "metadata": {},
   "source": [
    "> SUM()"
   ]
  },
  {
   "cell_type": "markdown",
   "metadata": {},
   "source": [
    "SELECT sum(cost) as total_spend, user_id FROM orders group by user_id order by total_spend desc;"
   ]
  },
  {
   "cell_type": "markdown",
   "metadata": {},
   "source": [
    "> Using having to make condition on grouped"
   ]
  },
  {
   "cell_type": "markdown",
   "metadata": {},
   "source": [
    "SELECT sum(cost) as total_spend, user_id FROM orders group by user_id having total_spend > 250 order by total_spend desc;"
   ]
  },
  {
   "cell_type": "markdown",
   "metadata": {},
   "source": [
    "# Calculating Averages"
   ]
  },
  {
   "cell_type": "markdown",
   "metadata": {},
   "source": [
    "SELECT avg(cost) FROM orders;"
   ]
  },
  {
   "cell_type": "markdown",
   "metadata": {},
   "source": [
    "# Getting Min and Max"
   ]
  },
  {
   "cell_type": "markdown",
   "metadata": {},
   "source": [
    "SELECT AVG(cost) AS average, max(cost) as maximum, min(cost) as minimum \n",
    "          FROM orders GROUP BY user_id;"
   ]
  },
  {
   "cell_type": "markdown",
   "metadata": {},
   "source": [
    "# Performing Math on Numeric Types"
   ]
  },
  {
   "cell_type": "markdown",
   "metadata": {},
   "source": [
    "- + - \\* /"
   ]
  },
  {
   "cell_type": "markdown",
   "metadata": {},
   "source": [
    "SELECT \"Hello\";\n",
    "SELECT 1 + 4;\n",
    "SELECT 4 + 3;\n",
    "SELECT 2 * 5;\n",
    "SELECT 3 * 10;\n",
    "SELECT 5 / 2;\n",
    "SELECT 5 / 2.0;\n",
    "SELECT 5.0 / 2;"
   ]
  },
  {
   "cell_type": "markdown",
   "metadata": {},
   "source": [
    "> Rounding included"
   ]
  },
  {
   "cell_type": "markdown",
   "metadata": {},
   "source": [
    "SELECT name, round(price * 1.06, 2) as \"Price in Florida\" FROM products;"
   ]
  },
  {
   "cell_type": "markdown",
   "metadata": {},
   "source": [
    "# Differences between databases"
   ]
  },
  {
   "cell_type": "markdown",
   "metadata": {},
   "source": [
    "> Dates"
   ]
  },
  {
   "cell_type": "markdown",
   "metadata": {},
   "source": [
    "- Writing Dates\n",
    "- Functions\n",
    "- Formatting output"
   ]
  },
  {
   "cell_type": "markdown",
   "metadata": {},
   "source": [
    "# Creating Up-to-the-Minute Reports"
   ]
  },
  {
   "cell_type": "markdown",
   "metadata": {},
   "source": [
    "select date('now'); // get 2018-03-08"
   ]
  },
  {
   "cell_type": "markdown",
   "metadata": {},
   "source": [
    "SELECT * FROM orders where status = \"placed\" and ordered_on = date('now');"
   ]
  },
  {
   "cell_type": "markdown",
   "metadata": {},
   "source": [
    "SQLite\n",
    "To get the current date use: DATE(\"now\")\n",
    "\n",
    "To get the current time use: TIME(\"now\")\n",
    "\n",
    "To get the current date time: DATETIME(\"NOW\")\n",
    "\n",
    "MS SQL\n",
    "To get the current date use: CONVERT(date, GETDATE())\n",
    "\n",
    "To get the current time use: CONVERT(time, GETDATE())\n",
    "\n",
    "To get the current date time: GETDATE()\n",
    "\n",
    "MySQL\n",
    "To get the current date use: CURDATE()\n",
    "\n",
    "To get the current time use: CURTIME()\n",
    "\n",
    "To get the current date time: NOW()\n",
    "\n",
    "Oracle and PostgreSQL\n",
    "To get the current date use: CURRENT_DATE\n",
    "\n",
    "To get the current time use: CURRENT_TIME\n",
    "\n",
    "To get the current date time: `CURRENT_TIMESTAMP"
   ]
  },
  {
   "cell_type": "markdown",
   "metadata": {},
   "source": [
    "# Calculating Dates"
   ]
  },
  {
   "cell_type": "markdown",
   "metadata": {},
   "source": [
    "- date([time string])\n",
    "- date([time string], [modifier])\n"
   ]
  },
  {
   "cell_type": "markdown",
   "metadata": {},
   "source": [
    "date(\"2018-03-08\", \"-7 days\");\n",
    "date(\"2018-03-08\", \"-7 months\");\n",
    "date(\"2018-03-08\", \"-7 years\");\n",
    "date(\"2018-03-08\", \"-1 day\");"
   ]
  },
  {
   "cell_type": "markdown",
   "metadata": {},
   "source": [
    "SELECT COUNT(*) FROM orders where ordered_on between date('now', \"-7 days\") and date('now', \"-1 day\") ;\n"
   ]
  },
  {
   "cell_type": "markdown",
   "metadata": {},
   "source": [
    "# Formatting Dates For Reporting"
   ]
  },
  {
   "cell_type": "markdown",
   "metadata": {},
   "source": [
    "> Date Datatypes"
   ]
  },
  {
   "cell_type": "markdown",
   "metadata": {},
   "source": [
    "- date 2018-03-08\n",
    "- time 23:12:01\n",
    "- datetime 2018-03-08 23:12:01"
   ]
  },
  {
   "cell_type": "markdown",
   "metadata": {},
   "source": [
    "date(\"2018-03-08 23:12:01\") -> \"2018-03-08\"\n",
    "time(\"2018-03-08 23:12:01\") -> \"23:12:01\""
   ]
  },
  {
   "cell_type": "markdown",
   "metadata": {},
   "source": [
    "> strftime([format string], [time string], [modifier])"
   ]
  },
  {
   "cell_type": "markdown",
   "metadata": {},
   "source": [
    "- strftime(\"%d/%m/%Y\", \"2018-03-08 23:12:01\", \"+1 year\")"
   ]
  },
  {
   "cell_type": "markdown",
   "metadata": {},
   "source": [
    "\n",
    "SELECT *, strftime(\"%d/%m/%Y\", ordered_on) AS UK_date FROM orders;"
   ]
  },
  {
   "cell_type": "code",
   "execution_count": null,
   "metadata": {
    "collapsed": true
   },
   "outputs": [],
   "source": []
  }
 ],
 "metadata": {
  "kernelspec": {
   "display_name": "Python 3",
   "language": "python",
   "name": "python3"
  },
  "language_info": {
   "codemirror_mode": {
    "name": "ipython",
    "version": 3
   },
   "file_extension": ".py",
   "mimetype": "text/x-python",
   "name": "python",
   "nbconvert_exporter": "python",
   "pygments_lexer": "ipython3",
   "version": "3.6.2"
  }
 },
 "nbformat": 4,
 "nbformat_minor": 2
}
