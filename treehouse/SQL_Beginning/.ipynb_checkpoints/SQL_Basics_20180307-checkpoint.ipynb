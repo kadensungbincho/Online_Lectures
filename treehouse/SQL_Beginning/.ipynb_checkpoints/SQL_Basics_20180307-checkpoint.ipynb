{
 "cells": [
  {
   "cell_type": "markdown",
   "metadata": {},
   "source": [
    "# Where"
   ]
  },
  {
   "cell_type": "markdown",
   "metadata": {},
   "source": [
    "SELECT title, author FROM books WHERE first_published = 1997;"
   ]
  },
  {
   "cell_type": "markdown",
   "metadata": {},
   "source": [
    "select title, author, first_published from books where author = \"J.K. Rowling\";\n",
    "\n",
    "- case sensitive "
   ]
  },
  {
   "cell_type": "markdown",
   "metadata": {},
   "source": [
    "select title, author, first_published from books where author != \"J.K. Rowling\";"
   ]
  },
  {
   "cell_type": "markdown",
   "metadata": {},
   "source": [
    "# Filtering by Comparing value"
   ]
  },
  {
   "cell_type": "markdown",
   "metadata": {},
   "source": [
    "> Operators"
   ]
  },
  {
   "cell_type": "markdown",
   "metadata": {},
   "source": [
    "- =\n",
    "- !=\n",
    "- < \\>\n",
    "- "
   ]
  },
  {
   "cell_type": "markdown",
   "metadata": {},
   "source": [
    "select * from books where first_published < 1900;\n"
   ]
  },
  {
   "cell_type": "markdown",
   "metadata": {},
   "source": [
    "# Filtering on More than one condition"
   ]
  },
  {
   "cell_type": "markdown",
   "metadata": {},
   "source": [
    "- using AND or OR"
   ]
  },
  {
   "cell_type": "markdown",
   "metadata": {},
   "source": [
    "SELECT title FROM books WHERE author = \"J.K. Rowling\" OR first_published < 2000;\n",
    "SELECT title FROM books WHERE author = \"Ernest Cline\" OR author = \"Andy Weir\";"
   ]
  },
  {
   "cell_type": "markdown",
   "metadata": {},
   "source": [
    "# Filtering by date"
   ]
  },
  {
   "cell_type": "markdown",
   "metadata": {},
   "source": [
    "select * from results where away_team = \"Hessle\" and played_on >=  \"2015-10-01\";"
   ]
  },
  {
   "cell_type": "markdown",
   "metadata": {},
   "source": [
    "# Searching Within a Set of Values"
   ]
  },
  {
   "cell_type": "markdown",
   "metadata": {},
   "source": [
    "select first_name, email from patrons where library_id = \"MCL1001\" or library_id = \"MCL1100\" or library_id = \"MCL1011\";"
   ]
  },
  {
   "cell_type": "markdown",
   "metadata": {},
   "source": [
    "> Simplified"
   ]
  },
  {
   "cell_type": "markdown",
   "metadata": {},
   "source": [
    "select first_name, email from patrons where library_id in (\"MCL1001\", \"MCL1100\", \"MCL1011\");"
   ]
  },
  {
   "cell_type": "markdown",
   "metadata": {},
   "source": [
    "select first_name, email from patrons where library_id not in (\"MCL1001\", \"MCL1100\", \"MCL1011\");"
   ]
  },
  {
   "cell_type": "markdown",
   "metadata": {},
   "source": [
    "# Searching Within Range of Values"
   ]
  },
  {
   "cell_type": "markdown",
   "metadata": {},
   "source": [
    "select title, author from books where first_published >= 1800 and first_published <= 1899;"
   ]
  },
  {
   "cell_type": "markdown",
   "metadata": {},
   "source": [
    "> Simplified"
   ]
  },
  {
   "cell_type": "markdown",
   "metadata": {},
   "source": [
    "select * from books where first_published between 1800 and 1899;"
   ]
  },
  {
   "cell_type": "markdown",
   "metadata": {},
   "source": [
    "- date available"
   ]
  },
  {
   "cell_type": "markdown",
   "metadata": {},
   "source": [
    "SELECT * FROM loans WHERE loaned_on BETWEEN \"2015-12-13\" AND \"2015-12-19\";"
   ]
  },
  {
   "cell_type": "markdown",
   "metadata": {},
   "source": [
    "# Finding Data that Matches a Pattern"
   ]
  },
  {
   "cell_type": "markdown",
   "metadata": {},
   "source": [
    "select title from books where title like \"Harry Potter\";"
   ]
  },
  {
   "cell_type": "markdown",
   "metadata": {},
   "source": [
    "** get**\n",
    "Harry Potter and the Chamber of Secrets\n",
    "Harry Potter and the Deathly Hallows\n",
    "Harry Potter and the Goblet of Fire\n",
    "Harry Potter and the Half-Blood Prince\n",
    "Harry Potter and the Order of the Phoenix\n",
    "Harry Potter and the Philosopher's Stone\n",
    "Harry Potter and the Prisoner of Azkaban"
   ]
  },
  {
   "cell_type": "markdown",
   "metadata": {},
   "source": [
    "select title from books where title like \"%universe%\" and genre = \"Non Fiction\";"
   ]
  },
  {
   "cell_type": "markdown",
   "metadata": {},
   "source": [
    "# Filtering out or finding missing information"
   ]
  },
  {
   "cell_type": "markdown",
   "metadata": {},
   "source": [
    "select * from loans where return_by > \"2015-12-18\" and returned_on is NULL;\n",
    "select * from loans where return_by > \"2015-12-18\" and returned_on is not NULL;"
   ]
  },
  {
   "cell_type": "markdown",
   "metadata": {},
   "source": [
    "# Review"
   ]
  },
  {
   "cell_type": "code",
   "execution_count": null,
   "metadata": {
    "collapsed": true
   },
   "outputs": [],
   "source": []
  }
 ],
 "metadata": {
  "kernelspec": {
   "display_name": "Python 3",
   "language": "python",
   "name": "python3"
  },
  "language_info": {
   "codemirror_mode": {
    "name": "ipython",
    "version": 3
   },
   "file_extension": ".py",
   "mimetype": "text/x-python",
   "name": "python",
   "nbconvert_exporter": "python",
   "pygments_lexer": "ipython3",
   "version": "3.6.2"
  }
 },
 "nbformat": 4,
 "nbformat_minor": 2
}
