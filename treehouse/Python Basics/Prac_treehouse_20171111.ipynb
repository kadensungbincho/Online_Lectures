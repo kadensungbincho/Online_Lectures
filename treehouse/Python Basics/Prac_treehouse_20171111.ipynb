{
 "cells": [
  {
   "cell_type": "markdown",
   "metadata": {},
   "source": [
    "# Python testing\n"
   ]
  },
  {
   "cell_type": "markdown",
   "metadata": {},
   "source": [
    "# Doctest"
   ]
  },
  {
   "cell_type": "code",
   "execution_count": null,
   "metadata": {
    "collapsed": true
   },
   "outputs": [],
   "source": [
    "\"\"\"Dungeon Game\n",
    "Explore a dungeon to find a hidden door and excape. But be careful!\n",
    "The grue is hiding somewhere inside!\n",
    "\n",
    "Created: 2017\n",
    "Updated: 2017\n",
    "Author: Kaden Cho\n",
    "\"\"\"\n",
    "\n",
    "def build_cells(width, height):\n",
    "    \"\"\"Create and return a 'width' by 'height' grid of two-tuples\n",
    "    \n",
    "    >>> cells = build_cells(2, 2)\n",
    "    >>> len(cells) \n",
    "    4\n",
    "    \n",
    "    \"\"\"\n",
    "    \n",
    "    cells = []\n",
    "    for y in range(height):\n",
    "        for x in range(width):\n",
    "            cells.append((x, y))\n",
    "    return cells\n",
    "\n",
    "\n",
    "def locations(cells):\n",
    "    \"\"\"Randomly pick starting location for the monster, the door and \n",
    "    the player\n",
    "    \n",
    "    >>> cells = build_cells(2, 2)\n",
    "    >>> m, d, p = get_locations(cells)\n",
    "    >>> m != d and d != p\n",
    "    True\n",
    "    >>> d in cells\n",
    "    True\n",
    "    \n",
    "    \"\"\"\n",
    "    monster = random.choice(cells)\n",
    "    door = random.choice(cells)\n",
    "    player = random.choice(cells)\n",
    "    \n",
    "    if monster == door or monster == player or door == player:\n",
    "        monster, door, player = get_locations(cells)\n",
    "        \n",
    "    return monster, door, player\n",
    "\n",
    "\n",
    "def get_moves(player):\n",
    "    \"\"\"Based on the tuple of the player's position, return the list\n",
    "    of acceptable moves\n",
    "    \n",
    "    \n",
    "    >>> GAME_DIMENSIONS = (2, 2)\n",
    "    >>> get_moves((0, 2))\n",
    "    ['RIGHT', 'UP', 'DOWN']\n",
    "    \n",
    "    \"\"\"\n",
    "    \n",
    "    \n",
    "    x, y = player\n",
    "    moves = ['LEFT', 'RIGHT', 'UP', 'DOWN']\n",
    "    if x == 0:\n",
    "        moves.remove('LEFT')\n",
    "    if x == GAME_DIMENSIONS[0] - 1:\n",
    "        moves.remove('RIGHT')\n",
    "    if y == 0:\n",
    "        moves.remove('UP')\n",
    "    if y == GAME_DIMENSIONS[1] - 1:\n",
    "        moves.remove('DOWN')\n",
    "    return moves"
   ]
  },
  {
   "cell_type": "code",
   "execution_count": null,
   "metadata": {
    "collapsed": true
   },
   "outputs": [],
   "source": [
    "python -m doctest dd_game.py # -m to load doctest module"
   ]
  },
  {
   "cell_type": "markdown",
   "metadata": {},
   "source": [
    "# Unittest module"
   ]
  },
  {
   "cell_type": "code",
   "execution_count": 2,
   "metadata": {
    "collapsed": true
   },
   "outputs": [],
   "source": [
    "import sys\n",
    "\n",
    "from moves import Rock, Paper, Scissors\n",
    "\n",
    "class Game:\n",
    "    def __init__(self, player, rounds=3):\n",
    "        self.rounds= rounds\n",
    "        self.player = player\n",
    "        self.score = [0, 0]\n",
    "        \n",
    "    def _convert_move(self, move):\n",
    "        if move == 'r':\n",
    "            return Rock()\n",
    "        elif move == 'p':\n",
    "            return Paper()\n",
    "        elif move == 's':\n",
    "            return Scissors()\n",
    "        \n",
    "    def summary(self, title):\n",
    "        print(\"\\n{}\".format(title))\n",
    "        print(\"-\"*len(title))\n",
    "        print(\"{}: {}\".format(self.player, self.score[0]))\n",
    "        print(\"Computr: {}\\n\".format(self.score[1]))\n",
    "        \n",
    "    def get_move(self, move=None):\n",
    "        move = move or input(\"[R]ock, [P]aper, [S]cissors? \".lower())\n",
    "        if move == 'q':\n",
    "            print(\"Bye!\")\n",
    "            sys.exit()\n",
    "        elif move not in list('rps'):\n",
    "            return self.get_choice()\n",
    "        return self._convert_move(move)\n",
    "    \n",
    "    def game_round(self):\n",
    "        player_move = self.get_move()\n",
    "        computer_move = self._convert_move(choice(list('rps')))\n",
    "        if player_move > computer_move:\n",
    "            self.score[0] += 1\n",
    "            print(\"\\nYou won that round, {}!\".format(self.plyer))\n",
    "        else:\n",
    "            print(\"\\nYou tied!\")\n",
    "        self.summary(\"Current score\")\n",
    "        \n",
    "    def game_over(self):\n",
    "        if self.score[0] > self.score[1]:\n",
    "            print(\"{} wins!\".format(self.player))\n",
    "        else:\n",
    "            print(\"{} loses!\".format(self.player))\n",
    "        self.summary(\"Final score\")\n",
    "        \n",
    "if __name__ == '__main__':\n",
    "    os.system('cls' if os.name == 'nt' else 'claer')\n",
    "    game = Game(player=input(\"What's your name? \"))\n",
    "    \n",
    "    while 3 not in game.score:\n",
    "        game.game_round()\n",
    "    else:\n",
    "        game.game_over()"
   ]
  },
  {
   "cell_type": "code",
   "execution_count": null,
   "metadata": {
    "collapsed": true
   },
   "outputs": [],
   "source": [
    "class Move:\n",
    "    better_than = None\n",
    "    worse_than = None\n",
    "    \n",
    "    def __gt__(self, other):\n",
    "        \"\"\"Is this instance being compared to an instance from a worse class\"\"\"\"\"\n",
    "        return other.__class__.__name__ in self.better_than\n",
    "    \n",
    "    def __lt__(self, other):\n",
    "        \"\"\"Is this instance being compared to an instance from a better class\"\"\"\"\"\n",
    "        return other.__class__.__name__ in self.worse_than\n",
    "    \n",
    "    def __eq__(self, other):\n",
    "        \"\"\"Is this instance being compared to an instance from the same class\"\"\"\n",
    "        return type(other) == type(self)\n",
    "    \n",
    "    def __ne__(self, other):\n",
    "        \"\"\"Is this instance being compared to an instance from abother class\"\"\"\n",
    "        return other.__class__ != self.__class__\n",
    "    \n",
    "\n",
    "class Rock(Move):\n",
    "    better_than = ['Scissors']\n",
    "    worse_than = ['Paper']\n",
    "    \n",
    "\n",
    "class Paper(Move):\n",
    "    better_than = ['Rock']\n",
    "    worse_than = ['Scissors']\n",
    "    \n",
    "\n",
    "class Scissors(Move):\n",
    "    better_than = ['Paper']\n",
    "    worse_than = ['Rock']"
   ]
  },
  {
   "cell_type": "markdown",
   "metadata": {},
   "source": [
    "# test.py"
   ]
  },
  {
   "cell_type": "code",
   "execution_count": null,
   "metadata": {
    "collapsed": true
   },
   "outputs": [],
   "source": [
    "import unittest\n",
    "\n",
    "# import move\n",
    "\n",
    "class MoveTests(unittest.TestCase):\n",
    "    def test_five_plus_five(self):\n",
    "        assert 5 + 5 == 10\n",
    "        \n",
    "    def test_one_plus_one(self):\n",
    "        assert not 1 + 1 == 3\n",
    "        \n",
    "    \n",
    "if __name__ == '__main__':\n",
    "    unittest.main()\n",
    "    # run unittest.main() if I run this file directly"
   ]
  },
  {
   "cell_type": "code",
   "execution_count": null,
   "metadata": {
    "collapsed": true
   },
   "outputs": [],
   "source": [
    "python -m unittest tests.py"
   ]
  },
  {
   "cell_type": "code",
   "execution_count": null,
   "metadata": {
    "collapsed": true
   },
   "outputs": [],
   "source": []
  },
  {
   "cell_type": "code",
   "execution_count": null,
   "metadata": {
    "collapsed": true
   },
   "outputs": [],
   "source": []
  },
  {
   "cell_type": "code",
   "execution_count": null,
   "metadata": {
    "collapsed": true
   },
   "outputs": [],
   "source": []
  }
 ],
 "metadata": {
  "kernelspec": {
   "display_name": "Python 3",
   "language": "python",
   "name": "python3"
  },
  "language_info": {
   "codemirror_mode": {
    "name": "ipython",
    "version": 3
   },
   "file_extension": ".py",
   "mimetype": "text/x-python",
   "name": "python",
   "nbconvert_exporter": "python",
   "pygments_lexer": "ipython3",
   "version": "3.6.2"
  }
 },
 "nbformat": 4,
 "nbformat_minor": 2
}
