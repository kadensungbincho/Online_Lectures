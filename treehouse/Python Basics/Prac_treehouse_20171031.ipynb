{
 "cells": [
  {
   "cell_type": "code",
   "execution_count": 8,
   "metadata": {},
   "outputs": [],
   "source": [
    "def disemvowel(word):\n",
    "    temp = list(word)\n",
    "    for c in ['a', 'i', 'u', 'e', 'o', 'A', 'I', 'U', 'E', 'O']:\n",
    "        if c in temp:\n",
    "            temp.remove(c)\n",
    "    word = ''.join(temp)\n",
    "    return word"
   ]
  },
  {
   "cell_type": "code",
   "execution_count": 9,
   "metadata": {},
   "outputs": [
    {
     "data": {
      "text/plain": [
       "'ppls'"
      ]
     },
     "execution_count": 9,
     "metadata": {},
     "output_type": "execute_result"
    }
   ],
   "source": [
    "disemvowel('applesA')"
   ]
  },
  {
   "cell_type": "code",
   "execution_count": 11,
   "metadata": {},
   "outputs": [],
   "source": [
    "def disemvowel1(word):\n",
    "    temp = [c for c in word if c not in ['a', 'i', 'u', 'e', 'o', 'A', 'I', 'U', 'E', 'O']]\n",
    "    word = ''.join(temp)           \n",
    "    return word"
   ]
  },
  {
   "cell_type": "code",
   "execution_count": 13,
   "metadata": {},
   "outputs": [],
   "source": [
    "messy_list = [\"a\", 2, 3, 1, False, [1, 2, 3]]\n",
    "messy_list.pop(3)\n",
    "messy_list.insert(1, 1)"
   ]
  },
  {
   "cell_type": "code",
   "execution_count": 62,
   "metadata": {
    "scrolled": true
   },
   "outputs": [],
   "source": [
    "messy_list = [\"a\", 2, 3, 1, False, [1, 2, 3]]\n",
    "# Your code goes below here\n",
    "mess"
   ]
  },
  {
   "cell_type": "code",
   "execution_count": 63,
   "metadata": {},
   "outputs": [
    {
     "data": {
      "text/plain": [
       "[2, 1, [1, 2, 3]]"
      ]
     },
     "execution_count": 63,
     "metadata": {},
     "output_type": "execute_result"
    }
   ],
   "source": [
    "messy_list"
   ]
  },
  {
   "cell_type": "code",
   "execution_count": 50,
   "metadata": {},
   "outputs": [
    {
     "data": {
      "text/plain": [
       "[2, 3, 1, [1, 2, 3]]"
      ]
     },
     "execution_count": 50,
     "metadata": {},
     "output_type": "execute_result"
    }
   ],
   "source": []
  },
  {
   "cell_type": "code",
   "execution_count": 64,
   "metadata": {},
   "outputs": [],
   "source": [
    "a = [1, 2, 3, 4, 5]"
   ]
  },
  {
   "cell_type": "code",
   "execution_count": 66,
   "metadata": {},
   "outputs": [
    {
     "data": {
      "text/plain": [
       "[5, 3, 1]"
      ]
     },
     "execution_count": 66,
     "metadata": {},
     "output_type": "execute_result"
    }
   ],
   "source": [
    "a[::-2]"
   ]
  },
  {
   "cell_type": "code",
   "execution_count": 75,
   "metadata": {},
   "outputs": [
    {
     "data": {
      "text/plain": [
       "[\"Hi, I'm Michelangelo and I love to eat PIZZA!\",\n",
       " \"Hi, I'm Garfield and I love to eat lasagna!\"]"
      ]
     },
     "execution_count": 75,
     "metadata": {},
     "output_type": "execute_result"
    }
   ],
   "source": [
    "# Example:\n",
    "values = [{\"name\": \"Michelangelo\", \"food\": \"PIZZA\"}, {\"name\": \"Garfield\", \"food\": \"lasagna\"}]\n",
    "# string_factory(values)\n",
    "# [\"Hi, I'm Michelangelo and I love to eat PIZZA!\", \"Hi, I'm Garfield and I love to eat lasagna!\"]\n",
    "\n",
    "template = \"Hi, I'm {name} and I love to eat {food}!\"\n",
    "\n",
    "def string_factory(lst):\n",
    "    temp_lst = []\n",
    "    for dic in lst:        \n",
    "        temp_lst.append(template.format(name = dic['name'], food = dic['food']))\n",
    "    return temp_lst\n",
    "    \n",
    "string_factory(values)"
   ]
  },
  {
   "cell_type": "code",
   "execution_count": 80,
   "metadata": {},
   "outputs": [
    {
     "name": "stdout",
     "output_type": "stream",
     "text": [
      "<class 'dict'>\n"
     ]
    }
   ],
   "source": [
    "def packer(**kwargs):\n",
    "    print(type(kwargs))\n",
    "    \n",
    "packer(name=\"Kenneth\", num=42, spanish_inquisition=None)"
   ]
  },
  {
   "cell_type": "code",
   "execution_count": 81,
   "metadata": {},
   "outputs": [
    {
     "ename": "SyntaxError",
     "evalue": "invalid syntax (<ipython-input-81-dd46fa2cbea6>, line 1)",
     "output_type": "error",
     "traceback": [
      "\u001b[1;36m  File \u001b[1;32m\"<ipython-input-81-dd46fa2cbea6>\"\u001b[1;36m, line \u001b[1;32m1\u001b[0m\n\u001b[1;33m    name, food = **{\"name\": \"Michelangelo\", \"food\": \"PIZZA\"}\u001b[0m\n\u001b[1;37m                  ^\u001b[0m\n\u001b[1;31mSyntaxError\u001b[0m\u001b[1;31m:\u001b[0m invalid syntax\n"
     ]
    }
   ],
   "source": [
    "name, food = **{\"name\": \"Michelangelo\", \"food\": \"PIZZA\"}"
   ]
  },
  {
   "cell_type": "code",
   "execution_count": null,
   "metadata": {},
   "outputs": [],
   "source": []
  }
 ],
 "metadata": {
  "kernelspec": {
   "display_name": "Python 3",
   "language": "python",
   "name": "python3"
  },
  "language_info": {
   "codemirror_mode": {
    "name": "ipython",
    "version": 3
   },
   "file_extension": ".py",
   "mimetype": "text/x-python",
   "name": "python",
   "nbconvert_exporter": "python",
   "pygments_lexer": "ipython3",
   "version": "3.6.1"
  }
 },
 "nbformat": 4,
 "nbformat_minor": 2
}
