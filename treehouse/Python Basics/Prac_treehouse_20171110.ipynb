{
 "cells": [
  {
   "cell_type": "markdown",
   "metadata": {},
   "source": [
    "# Regular Expression"
   ]
  },
  {
   "cell_type": "code",
   "execution_count": 1,
   "metadata": {
    "collapsed": true
   },
   "outputs": [],
   "source": [
    "import re\n",
    "\n",
    "email = 'kenneth@gmail.com @dfdsf.com sdf+sdfsd@daf.com mfklfdg@ sfsdf@fdsf++sdf.com'\n"
   ]
  },
  {
   "cell_type": "code",
   "execution_count": 2,
   "metadata": {},
   "outputs": [
    {
     "data": {
      "text/plain": [
       "['kenneth@gmail.com @dfdsf.com sdf+sdfsd@daf.com mfklfdg@ sfsdf@fdsf++sdf.com']"
      ]
     },
     "execution_count": 2,
     "metadata": {},
     "output_type": "execute_result"
    }
   ],
   "source": [
    "re.findall(r'.+@.+', email)"
   ]
  },
  {
   "cell_type": "code",
   "execution_count": 3,
   "metadata": {
    "collapsed": true
   },
   "outputs": [],
   "source": [
    "f = open(\"regul.txt\", encoding='utf-8') \n",
    "data = f.read()\n",
    "f.close()"
   ]
  },
  {
   "cell_type": "code",
   "execution_count": 4,
   "metadata": {},
   "outputs": [
    {
     "data": {
      "text/plain": [
       "'Love, Kenneth\\tkenneth@teamtreehouse.com\\t(555) 555-5555\\tTeacher, Treehouse\\t@kennethlove\\nMcFarland, Dave\\tdave@teamtreehouse.com\\t(555) 555-5554\\tTeacher, Treehouse\\nArthur, King\\tking_arthur@camelot.co.uk\\t\\tKing, Camelot\\nÖsterberg, Sven-Erik\\tgovernor@norrbotten.co.se\\t\\tGovernor, Norrbotten\\t@sverik\\n, Tim\\ttim@killerrabbit.com\\t\\tEnchanter, Killer Rabbit Cave\\nCarson, Ryan\\tryan@teamtreehouse.com\\t(555) 555-5543\\tCEO, Treehouse\\t@ryancarson\\nDoctor, The\\tdoctor+companion@tardis.co.uk\\t\\tTime Lord, Gallifrey\\nExampleson, Example\\tme@example.com\\t555-555-5552\\tExample, Example Co.\\t@example\\nObama, Barack\\tpresident.44@us.gov\\t555 555-5551\\tPresident, United States of America\\t@potus44\\nChalkley, Andrew\\tandrew@teamtreehouse.com\\t(555) 555-5553\\tTeacher, Treehouse\\t@chalkers\\nVader, Darth\\tdarth-vader@empire.gov\\t(555) 555-4444\\tSith Lord, Galactic Empire\\t@darthvader\\nFernández de la Vega Sanz, María Teresa\\tmtfvs@spain.gov\\t\\tFirst Deputy Prime Minister, Spanish Govt.\\n'"
      ]
     },
     "execution_count": 4,
     "metadata": {},
     "output_type": "execute_result"
    }
   ],
   "source": [
    "data"
   ]
  },
  {
   "cell_type": "code",
   "execution_count": 5,
   "metadata": {},
   "outputs": [
    {
     "name": "stdout",
     "output_type": "stream",
     "text": [
      "['kenneth@teamtreehouse.com', 'dave@teamtreehouse.com', 'king_arthur@camelot.co.uk', 'governor@norrbotten.co.se', 'tim@killerrabbit.com', 'ryan@teamtreehouse.com', 'doctor+companion@tardis.co.uk', 'me@example.com', 'president.44@us.gov', 'andrew@teamtreehouse.com', 'darth-vader@empire.gov', 'mtfvs@spain.gov']\n"
     ]
    }
   ],
   "source": [
    "print(re.findall(r'[-\\w\\d+.]+@[-\\w\\d.]+', data))"
   ]
  },
  {
   "cell_type": "code",
   "execution_count": 7,
   "metadata": {},
   "outputs": [
    {
     "name": "stdout",
     "output_type": "stream",
     "text": [
      "['@teamtreehouse.com', '@teamtreehouse.com', '@camelot.co.uk', '@norrbotten.co.se', '@killerrabbit.com', '@teamtreehouse.com', '@tardis.co.uk', '@example.com', '@us.', '@teamtreehouse.com', '@empire.', '@spain.']\n"
     ]
    }
   ],
   "source": [
    "print(re.findall(r'''\n",
    "    \\b@[-\\w\\d.]* # First a word boundary, an @, and then any number of character\n",
    "    [^gov\\t]+ # ignore 1+ instances of the letter 'g', 'o' or 'v' and a tab.\n",
    "    \\b # Match another word boundary\n",
    "    ''', data, re.VERBOSE|re.I))"
   ]
  },
  {
   "cell_type": "code",
   "execution_count": 8,
   "metadata": {},
   "outputs": [
    {
     "name": "stdout",
     "output_type": "stream",
     "text": [
      "['Love, Kenneth', 'Teacher, Treehouse', 'McFarland, Dave', 'Teacher, Treehouse', 'Arthur, King', 'King, Camelot', 'Österberg, Sven-Erik', 'Governor, Norrbotten', 'Enchanter, Killer Rabbit Cave', 'Carson, Ryan', 'CEO, Treehouse', 'Doctor, The', 'Lord, Gallifrey', 'Exampleson, Example', 'Example, Example Co.', 'Obama, Barack', 'President, United States of America', 'Chalkley, Andrew', 'Teacher, Treehouse', 'Vader, Darth', 'Lord, Galactic Empire', 'Sanz, María Teresa', 'Minister, Spanish Govt.']\n"
     ]
    }
   ],
   "source": [
    "print(re.findall(r\"\"\"\n",
    "    \\b[-\\w]+, # Find a word boundary , 1+ hyphens or characters , and a comma\n",
    "    \\s # Find 1 whitespace\n",
    "    [-\\w ]+ # 1+ hyphens and character and explicit spaces\n",
    "    [^\\t\\n] # Ignore tabs and new lines\n",
    "    \"\"\", data, re.X))"
   ]
  },
  {
   "cell_type": "code",
   "execution_count": 10,
   "metadata": {},
   "outputs": [
    {
     "name": "stdout",
     "output_type": "stream",
     "text": [
      "['Love', 'Kenneth', 'kenneth', 'teamtreehouse', 'com', '555', '555-5555', 'Teacher', 'Treehouse', 'kennethlove', 'McFarland', 'Dave', 'dave', 'teamtreehouse', 'com', '555', '555-5554', 'Teacher', 'Treehouse', 'Arthur', 'King', 'king_arthur', 'camelot', 'co', 'uk', 'King', 'Camelot', 'Österberg', 'Sven-Erik', 'governor', 'norrbotten', 'co', 'se', 'Governor', 'Norrbotten', 'sverik', 'Tim', 'tim', 'killerrabbit', 'com', 'Enchanter', 'Killer', 'Rabbit', 'Cave', 'Carson', 'Ryan', 'ryan', 'teamtreehouse', 'com', '555', '555-5543', 'CEO', 'Treehouse', 'ryancarson', 'Doctor', 'The', 'doctor', 'companion', 'tardis', 'co', 'uk', 'Time', 'Lord', 'Gallifrey', 'Exampleson', 'Example', 'me', 'example', 'com', '555-555-5552', 'Example', 'Example', 'Co', 'example', 'Obama', 'Barack', 'president', '44', 'us', 'gov', '555', '555-5551', 'President', 'United', 'States', 'of', 'America', 'potus44', 'Chalkley', 'Andrew', 'andrew', 'teamtreehouse', 'com', '555', '555-5553', 'Teacher', 'Treehouse', 'chalkers', 'Vader', 'Darth', 'darth-vader', 'empire', 'gov', '555', '555-4444', 'Sith', 'Lord', 'Galactic', 'Empire', 'darthvader', 'Fernández', 'de', 'la', 'Vega', 'Sanz', 'María', 'Teresa', 'mtfvs', 'spain', 'gov', 'First', 'Deputy', 'Prime', 'Minister', 'Spanish', 'Govt']\n"
     ]
    }
   ],
   "source": [
    "print(re.findall(r'\\b[-\\w]+', data))"
   ]
  },
  {
   "cell_type": "code",
   "execution_count": 12,
   "metadata": {},
   "outputs": [
    {
     "data": {
      "text/plain": [
       "['1234', '890']"
      ]
     },
     "execution_count": 12,
     "metadata": {},
     "output_type": "execute_result"
    }
   ],
   "source": [
    "import re\n",
    "\n",
    "string = '1234567890'\n",
    "\n",
    "good_numbers = re.findall(r'[^567]+', string)\n",
    "good_numbers"
   ]
  },
  {
   "cell_type": "code",
   "execution_count": 14,
   "metadata": {},
   "outputs": [
    {
     "name": "stdout",
     "output_type": "stream",
     "text": [
      "[('Love, Kenneth', 'kenneth@teamtreehouse.com', '(555) 555-5555', 'Teacher, Treehouse\\t', '@kennethlove'), ('McFarland, Dave', 'dave@teamtreehouse.com', '(555) 555-5554', 'Teacher, Treehouse', ''), ('Arthur, King', 'king_arthur@camelot.co.uk', '', 'King, Camelot', ''), ('Österberg, Sven-Erik', 'governor@norrbotten.co.se', '', 'Governor, Norrbotten\\t', '@sverik'), (', Tim', 'tim@killerrabbit.com', '', 'Enchanter, Killer Rabbit Cave', ''), ('Carson, Ryan', 'ryan@teamtreehouse.com', '(555) 555-5543', 'CEO, Treehouse\\t', '@ryancarson'), ('Exampleson, Example', 'me@example.com', '555-555-5552', 'Example, Example Co.\\t', '@example'), ('Obama, Barack', 'president.44@us.gov', '555 555-5551', 'President, United States of America\\t', '@potus44'), ('Chalkley, Andrew', 'andrew@teamtreehouse.com', '(555) 555-5553', 'Teacher, Treehouse\\t', '@chalkers')]\n"
     ]
    }
   ],
   "source": [
    "print(re.findall(r'''\n",
    "    ^([-\\w ]*,\\s[-\\w ]+)\\t # Last and first name\n",
    "    ([-\\w\\d.+]+@[-\\w\\d.]+)\\t # Email\n",
    "    (\\(?\\d{3}\\)?-?\\s?\\d{3}-\\d{4})?\\t # Phone\n",
    "    ([\\w\\d]+,\\s[\\w\\s.]+)\\t? # Job and Company\n",
    "    (@[\\w\\d]+)?$ # Twitter\n",
    "''', data, re.X|re.MULTILINE))  # re.M = re.MULITLINE, re.X = re.VERBOSE"
   ]
  },
  {
   "cell_type": "code",
   "execution_count": null,
   "metadata": {
    "collapsed": true
   },
   "outputs": [],
   "source": [
    "'Love, Kenneth\\tkenneth@teamtreehouse.com\\t(555) 555-5555\\tTeacher, Treehouse\\t@kennethlove\\nMcFarland, Dave\\tdave@teamtreehouse.com\\t(555) 555-5554\\tTeacher, Treehouse\\nArthur, King\\tking_arthur@camelot.co.uk\\t\\tKing, Camelot\\nÖsterberg, Sven-Erik\\tgovernor@norrbotten.co.se\\t\\tGovernor, Norrbotten\\t@sverik\\n, Tim\\ttim@killerrabbit.com\\t\\tEnchanter, Killer Rabbit Cave\\nCarson, Ryan\\tryan@teamtreehouse.com\\t(555) 555-5543\\tCEO, Treehouse\\t@ryancarson\\nDoctor, The\\tdoctor+companion@tardis.co.uk\\t\\tTime Lord, Gallifrey\\nExampleson, Example\\tme@example.com\\t555-555-5552\\tExample, Example Co.\\t@example\\nObama, Barack\\tpresident.44@us.gov\\t555 555-5551\\tPresident, United States of America\\t@potus44\\nChalkley, Andrew\\tandrew@teamtreehouse.com\\t(555) 555-5553\\tTeacher, Treehouse\\t@chalkers\\nVader, Darth\\tdarth-vader@empire.gov\\t(555) 555-4444\\tSith Lord, Galactic Empire\\t@darthvader\\nFernández de la Vega Sanz, María Teresa\\tmtfvs@spain.gov\\t\\tFirst Deputy Prime Minister, Spanish Govt.\\n'"
   ]
  },
  {
   "cell_type": "code",
   "execution_count": null,
   "metadata": {
    "collapsed": true
   },
   "outputs": [],
   "source": [
    "    (?P<email>[-\\w\\d.\\+]+@[-\\w\\d.]+)\\t # Email\n",
    "    (?P<phone>\\(?\\d{3}\\)?-?\\s?\\d{3}-\\d{4})?\\t # Phone\n",
    "    (?P<job>[\\w\\d]+,\\s[\\w\\s.]+)\\t?  Job and Company\n",
    "    (?P<twitter>@[\\w\\d]+)?$ # Twitter"
   ]
  },
  {
   "cell_type": "code",
   "execution_count": 69,
   "metadata": {},
   "outputs": [
    {
     "name": "stdout",
     "output_type": "stream",
     "text": [
      "<_sre.SRE_Match object; span=(0, 86), match='Love, Kenneth\\tkenneth@teamtreehouse.com\\t(555) 5>\n",
      "{'name': 'Love, Kenneth', 'email': 'kenneth@teamtreehouse.com', 'phone': '(555) 555-5555', 'job': 'Teacher, Treehouse\\t', 'twitter': '@kennethlove'}\n"
     ]
    }
   ],
   "source": [
    "line = re.search(r'''\n",
    "    ^(?P<name>[-\\w ]*,\\s[-\\w ]+)\\t # Last and first name\n",
    "    (?P<email>[-\\w\\d.\\+]+@[-\\w\\d.]+)\\t # Email\n",
    "    (?P<phone>\\(?\\d{3}\\)?-?\\s?\\d{3}-\\d{4})?\\t # Phone\n",
    "    (?P<job>[\\w\\s]+,\\s[\\w\\s.]+)\\t? # Job and Company\n",
    "    (?P<twitter>@[\\w\\d]+)?$ # Twitter\n",
    "  ''', data, re.X|re.M)\n",
    "print(line)\n",
    "print(line.groupdict())"
   ]
  },
  {
   "cell_type": "code",
   "execution_count": 51,
   "metadata": {},
   "outputs": [
    {
     "data": {
      "text/plain": [
       "{'email': 'kenneth+challenge@teamtreehouse.com', 'phone': '555-555-5555'}"
      ]
     },
     "execution_count": 51,
     "metadata": {},
     "output_type": "execute_result"
    }
   ],
   "source": [
    "import re\n",
    "\n",
    "string = '''Love, Kenneth, kenneth+challenge@teamtreehouse.com, 555-555-5555, @kennethlove\n",
    "Chalkley, Andrew, andrew@teamtreehouse.co.uk, 555-555-5556, @chalkers\n",
    "McFarland, Dave, dave.mcfarland@teamtreehouse.com, 555-555-5557, @davemcfarland\n",
    "Kesten, Joy, joy@teamtreehouse.com, 555-555-5558, @joykesten'''\n",
    "\n",
    "contacts = re.search(r'''\n",
    "    (?P<email>[\\w\\+.]+@[\\w.]+),\\s\n",
    "    (?P<phone>\\d{3}-\\d{3}-\\d{4}),\n",
    "    ''', string, re.X|re.M)\n",
    "contacts.groupdict()"
   ]
  },
  {
   "cell_type": "code",
   "execution_count": 25,
   "metadata": {
    "collapsed": true
   },
   "outputs": [],
   "source": [
    "contacts"
   ]
  },
  {
   "cell_type": "code",
   "execution_count": null,
   "metadata": {
    "collapsed": true
   },
   "outputs": [],
   "source": [
    "contacts = re.search(r'''\n",
    "    (?P<email>[\\w\\+.]+@[\\w.]+),\\s\n",
    "    (?P<phone>\\d{3}-\\d{3}-\\d{4}),\n",
    "    ''', string, re.X|re.M)\n",
    "\n",
    "twitters = re.search(r'''\n",
    "    (?P<twitter>@[\\w\\d]+)$''', string, re.X|re.M)"
   ]
  },
  {
   "cell_type": "markdown",
   "metadata": {},
   "source": [
    "# Compile regex"
   ]
  },
  {
   "cell_type": "code",
   "execution_count": 71,
   "metadata": {},
   "outputs": [
    {
     "name": "stdout",
     "output_type": "stream",
     "text": [
      "{'name': 'Love, Kenneth', 'email': 'kenneth@teamtreehouse.com', 'phone': '(555) 555-5555', 'job': 'Teacher, Treehouse\\t', 'twitter': '@kennethlove'}\n",
      "{'name': 'Love, Kenneth', 'email': 'kenneth@teamtreehouse.com', 'phone': '(555) 555-5555', 'job': 'Teacher, Treehouse\\t', 'twitter': '@kennethlove'}\n"
     ]
    }
   ],
   "source": [
    "line = re.compile(r'''\n",
    "    ^(?P<name>[-\\w ]*,\\s[-\\w ]+)\\t # Last and first name\n",
    "    (?P<email>[-\\w\\d.\\+]+@[-\\w\\d.]+)\\t # Email\n",
    "    (?P<phone>\\(?\\d{3}\\)?-?\\s?\\d{3}-\\d{4})?\\t # Phone\n",
    "    (?P<job>[\\w\\s]+,\\s[\\w\\s.]+)\\t? # Job and Company\n",
    "    (?P<twitter>@[\\w\\d]+)?$ # Twitter\n",
    "  ''', re.X|re.M)\n",
    "print(re.search(line, data).groupdict())\n",
    "print(line.search(data).groupdict())"
   ]
  },
  {
   "cell_type": "code",
   "execution_count": 72,
   "metadata": {},
   "outputs": [
    {
     "name": "stdout",
     "output_type": "stream",
     "text": [
      "Love, Kenneth\n",
      "McFarland, Dave\n",
      "Arthur, King\n",
      "Österberg, Sven-Erik\n",
      ", Tim\n",
      "Carson, Ryan\n",
      "Doctor, The\n",
      "Exampleson, Example\n",
      "Obama, Barack\n",
      "Chalkley, Andrew\n",
      "Vader, Darth\n",
      "Fernández de la Vega Sanz, María Teresa\n"
     ]
    }
   ],
   "source": [
    "for match in line.finditer(data):\n",
    "    print(match.group('name'))"
   ]
  },
  {
   "cell_type": "code",
   "execution_count": 73,
   "metadata": {
    "collapsed": true
   },
   "outputs": [],
   "source": [
    "line2 = re.compile(r'''\n",
    "    ^(?P<name>(?P<last>[-\\w ]*),\\s(?P<first>[-\\w ]+))\\t # Last and first name\n",
    "    (?P<email>[-\\w\\d.\\+]+@[-\\w\\d.]+)\\t # Email\n",
    "    (?P<phone>\\(?\\d{3}\\)?-?\\s?\\d{3}-\\d{4})?\\t # Phone\n",
    "    (?P<job>[\\w\\s]+,\\s[\\w\\s.]+)\\t? # Job and Company\n",
    "    (?P<twitter>@[\\w\\d]+)?$ # Twitter\n",
    "  ''', re.X|re.M)"
   ]
  },
  {
   "cell_type": "code",
   "execution_count": 75,
   "metadata": {},
   "outputs": [
    {
     "name": "stdout",
     "output_type": "stream",
     "text": [
      "Kenneth Love <kenneth@teamtreehouse.com>\n",
      "Dave McFarland <dave@teamtreehouse.com>\n",
      "King Arthur <king_arthur@camelot.co.uk>\n",
      "Sven-Erik Österberg <governor@norrbotten.co.se>\n",
      "Tim  <tim@killerrabbit.com>\n",
      "Ryan Carson <ryan@teamtreehouse.com>\n",
      "The Doctor <doctor+companion@tardis.co.uk>\n",
      "Example Exampleson <me@example.com>\n",
      "Barack Obama <president.44@us.gov>\n",
      "Andrew Chalkley <andrew@teamtreehouse.com>\n",
      "Darth Vader <darth-vader@empire.gov>\n",
      "María Teresa Fernández de la Vega Sanz <mtfvs@spain.gov>\n"
     ]
    }
   ],
   "source": [
    "for match in line2.finditer(data):\n",
    "    print('{first} {last} <{email}>'.format(**match.groupdict()))"
   ]
  },
  {
   "cell_type": "markdown",
   "metadata": {},
   "source": [
    "## Prac"
   ]
  },
  {
   "cell_type": "code",
   "execution_count": null,
   "metadata": {
    "collapsed": true
   },
   "outputs": [],
   "source": [
    "import re\n",
    "\n",
    "string = '''Love, Kenneth: 20\n",
    "Chalkley, Andrew: 25\n",
    "McFarland, Dave: 10\n",
    "Kesten, Joy: 22\n",
    "Stewart Pinchback, Pinckney Benton: 18'''\n",
    "\n",
    "players = re.search(r'''\n",
    "    ^(?P<last_name>[\\w\\s]+),\\s\n",
    "    (?P<first_name>[\\w\\s]+):\\s\n",
    "    (?P<score>[\\d]+)$\n",
    "    ''', string, re.X|re.M)"
   ]
  },
  {
   "cell_type": "markdown",
   "metadata": {},
   "source": [
    "# TDD (test driven development)"
   ]
  },
  {
   "cell_type": "code",
   "execution_count": null,
   "metadata": {
    "collapsed": true
   },
   "outputs": [],
   "source": []
  }
 ],
 "metadata": {
  "kernelspec": {
   "display_name": "Python 3",
   "language": "python",
   "name": "python3"
  },
  "language_info": {
   "codemirror_mode": {
    "name": "ipython",
    "version": 3
   },
   "file_extension": ".py",
   "mimetype": "text/x-python",
   "name": "python",
   "nbconvert_exporter": "python",
   "pygments_lexer": "ipython3",
   "version": "3.6.2"
  }
 },
 "nbformat": 4,
 "nbformat_minor": 2
}
