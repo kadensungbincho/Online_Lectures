{
 "cells": [
  {
   "cell_type": "code",
   "execution_count": 37,
   "metadata": {
    "collapsed": true
   },
   "outputs": [],
   "source": [
    "import random\n",
    "\n",
    "\n",
    "class Die:\n",
    "    def __init__(self, sides=2):\n",
    "        if sides < 2:\n",
    "            raise ValueError(\"Can't have fewer than two sides\")\n",
    "        self.sides = sides\n",
    "        self.value = random.randint(1, sides)\n",
    "        \n",
    "    def __int__(self):\n",
    "        return self.value\n",
    "      \n",
    "    def __add__(self, other):\n",
    "        return int(self) + other\n",
    "    \n",
    "    def __radd__(self, other):\n",
    "        return self + other\n",
    "    \n",
    "    def __repr__(self):\n",
    "        return str(self.value)\n",
    "    \n",
    "class D20(Die):\n",
    "    def __init__(self):\n",
    "        super().__init__(sides=20)"
   ]
  },
  {
   "cell_type": "code",
   "execution_count": 65,
   "metadata": {
    "collapsed": true
   },
   "outputs": [],
   "source": [
    "class Hand(list):\n",
    "    def __init__(self, rolls_list=None):\n",
    "        if not rolls_list:\n",
    "            raise ValueError(\"You must input the list\")\n",
    "        super().__init__()\n",
    "        \n",
    "        for i in rolls_list:\n",
    "            self.append(i)\n",
    "    \n",
    "    @property\n",
    "    def total(self):\n",
    "        return sum(self)\n",
    "    \n",
    "    @classmethod\n",
    "    def roll(cls, size):\n",
    "        rolls_list = []\n",
    "        for i in range(size):\n",
    "            rolls_list.append(D20())        \n",
    "        return cls(rolls_list)"
   ]
  },
  {
   "cell_type": "code",
   "execution_count": 68,
   "metadata": {},
   "outputs": [
    {
     "data": {
      "text/plain": [
       "[3, 1]"
      ]
     },
     "execution_count": 68,
     "metadata": {},
     "output_type": "execute_result"
    }
   ],
   "source": [
    "bc = Hand.roll(2)\n",
    "bc"
   ]
  },
  {
   "cell_type": "code",
   "execution_count": 69,
   "metadata": {},
   "outputs": [
    {
     "data": {
      "text/plain": [
       "4"
      ]
     },
     "execution_count": 69,
     "metadata": {},
     "output_type": "execute_result"
    }
   ],
   "source": [
    "bc.total"
   ]
  },
  {
   "cell_type": "markdown",
   "metadata": {},
   "source": [
    "# Yatzy"
   ]
  },
  {
   "cell_type": "code",
   "execution_count": 73,
   "metadata": {
    "collapsed": true
   },
   "outputs": [],
   "source": [
    "import random\n",
    "\n",
    "class Die:\n",
    "    def __init__(self, sides=2, value=0):\n",
    "        if not sides >= 2:\n",
    "            raise ValueError(\"Must have at least 2 sides\")\n",
    "        if not isinstance(sides, int):\n",
    "            raise ValueError(\"Sides must be a while number\")\n",
    "        self.value = value or random.randint(1, sides)\n",
    "    \n",
    "    def __int__(self):\n",
    "        return self.value\n",
    "    \n",
    "    def __eq__(self, other):\n",
    "        return int(self) == other\n",
    "    \n",
    "    def __ne__(self, other):\n",
    "        return int(self) != other\n",
    "    \n",
    "    def __gt__(self, other):\n",
    "        return int(self) > other\n",
    "    \n",
    "    def __lt__(self, other):\n",
    "        return int(self) < other\n",
    "    \n",
    "    def __ge__(self, other):\n",
    "        return int(self) > other or int(self) == other\n",
    "    \n",
    "    def __le__(self, other):\n",
    "        return int(self) < other or int(self) == other\n",
    "    \n",
    "    def __add__(self, other):\n",
    "        return int(self) + other\n",
    "    \n",
    "    def __radd__(self, other):\n",
    "        return int(self) + other\n",
    "    \n",
    "    def __repr__(self):\n",
    "        return str(self.value)\n",
    "\n",
    "        \n",
    "class D6(Die):\n",
    "    def __init__(self, value=0):\n",
    "        super().__init__(sides=6, value=value)"
   ]
  },
  {
   "cell_type": "code",
   "execution_count": 97,
   "metadata": {
    "collapsed": true
   },
   "outputs": [],
   "source": [
    "# from dice import D6\n",
    "\n",
    "class Hand(list):\n",
    "    def __init__(self, size=0, die_class=None, *args, **kwargs):\n",
    "        if not die_class:\n",
    "            raise ValueError(\"You must provide a die class\")\n",
    "        super().__init__()\n",
    "        \n",
    "        for _ in range(size):\n",
    "            self.append(die_class())\n",
    "        self.sort()\n",
    "        \n",
    "    def _by_value(self, value):\n",
    "        dice = []\n",
    "        for die in self:\n",
    "            if die == value:\n",
    "                dice.append(die)\n",
    "        return dice\n",
    "    \n",
    "        \n",
    "class YatzyHand(Hand):\n",
    "    def __init__(self, *args, **kwargs):\n",
    "        super().__init__(size=5, die_class=D6, *args, **kwargs)\n",
    "        \n",
    "    @property\n",
    "    def ones(self):\n",
    "        return self._by_value(1)\n",
    "    \n",
    "    @property\n",
    "    def twos(self):\n",
    "        return self._by_value(2)\n",
    "    \n",
    "    @property\n",
    "    def threes(self):\n",
    "        return self._by_value(3)\n",
    "    \n",
    "    @property\n",
    "    def fours(self):\n",
    "        return self._by_value(4)\n",
    "    \n",
    "    @property\n",
    "    def fives(self):\n",
    "        return self._by_value(5)\n",
    "    \n",
    "    @property\n",
    "    def sixes(self):\n",
    "        return self._by_value(6)\n",
    "    \n",
    "    @property\n",
    "    def _sets(self):\n",
    "        return {\n",
    "            1: len(self.ones),\n",
    "            2: len(self.twos),\n",
    "            3: len(self.threes),\n",
    "            4: len(self.fours),\n",
    "            5: len(self.fives),\n",
    "            6: len(self.sixes)\n",
    "        }"
   ]
  },
  {
   "cell_type": "code",
   "execution_count": 98,
   "metadata": {
    "collapsed": true
   },
   "outputs": [],
   "source": [
    "# score sheets\n",
    "class YatzyScoresheet:\n",
    "    def score_ones(self, hand):\n",
    "        return sum(hand.ones)\n",
    "    \n",
    "    def score_twos(self, hand):\n",
    "        return sum(hand.twos)\n",
    "    \n",
    "    def score_threes(self, hand):\n",
    "        return sum(hand.threes)\n",
    "    \n",
    "    def score_fours(self, hand):\n",
    "        return sum(hand.fours)\n",
    "    \n",
    "    def score_fives(self, hand):\n",
    "        return sum(hand.fives)\n",
    "    \n",
    "    def score_sixes(self, hand):\n",
    "        return sum(hand.sixes)\n",
    "    \n",
    "    def _score_set(self, hand, set_size):\n",
    "        scores = [0]\n",
    "        for worth, count in hand._sets.items():\n",
    "            if count == set_size:\n",
    "                scores.append(worth*set_size)\n",
    "        return max(scores)\n",
    "    \n",
    "    def score_one_pair(self, hand):\n",
    "        return self._score_set(hand, 2)"
   ]
  },
  {
   "cell_type": "code",
   "execution_count": 99,
   "metadata": {
    "collapsed": true
   },
   "outputs": [],
   "source": [
    "hand = YatzyHand()"
   ]
  },
  {
   "cell_type": "code",
   "execution_count": 100,
   "metadata": {
    "collapsed": true
   },
   "outputs": [],
   "source": [
    "three = D6(value=3)\n",
    "four = D6(value=4)\n",
    "one = D6(value=1)\n"
   ]
  },
  {
   "cell_type": "code",
   "execution_count": 101,
   "metadata": {},
   "outputs": [
    {
     "data": {
      "text/plain": [
       "8"
      ]
     },
     "execution_count": 101,
     "metadata": {},
     "output_type": "execute_result"
    }
   ],
   "source": [
    "hand[:] = [one, three, three, four, four]\n",
    "YatzyScoresheet().score_one_pair(hand)"
   ]
  },
  {
   "cell_type": "code",
   "execution_count": 105,
   "metadata": {},
   "outputs": [
    {
     "data": {
      "text/plain": [
       "4"
      ]
     },
     "execution_count": 105,
     "metadata": {},
     "output_type": "execute_result"
    }
   ],
   "source": [
    "a = [1, 2, 3, 4, 5, 1, 1, 1]\n",
    "result = "
   ]
  },
  {
   "cell_type": "markdown",
   "metadata": {},
   "source": [
    "# Database with python & peewee\n",
    "ORM : Object Relational Mapping\n"
   ]
  },
  {
   "cell_type": "code",
   "execution_count": 106,
   "metadata": {
    "collapsed": true
   },
   "outputs": [],
   "source": [
    "from peewee import *"
   ]
  },
  {
   "cell_type": "code",
   "execution_count": 114,
   "metadata": {},
   "outputs": [
    {
     "name": "stdout",
     "output_type": "stream",
     "text": [
      "Our top student right now is: kennethlove\n"
     ]
    }
   ],
   "source": [
    "db = SqliteDatabase('students.db')\n",
    "\n",
    "class Student(Model):     # set model\n",
    "    username = CharField(max_length=255, unique=True)   # set attr or field \n",
    "    points = IntegerField(default=0)\n",
    "    \n",
    "    class Meta:\n",
    "        database = db\n",
    "\n",
    "students = [\n",
    "    {'username': 'kennethlove',\n",
    "    'points': 14888},\n",
    "    {'username': 'chalkers',\n",
    "    'points': 11912},\n",
    "    {'username': 'joykesten2',\n",
    "    'points': 7363},\n",
    "    {'username': 'craigsdennis',\n",
    "    'points': 4879},\n",
    "    {'username': 'davemcfarland',\n",
    "    'points': 14717},\n",
    "]\n",
    "        \n",
    "def add_students():\n",
    "    for student in students:\n",
    "        try:\n",
    "            Student.create(username=student['username'],\n",
    "                           points=student['points'])\n",
    "        except IntegrityError:      # update the record & execute it thought there is\n",
    "            student_record = Student.get(username=student['username'])\n",
    "            student_record.points = student['points']\n",
    "            student_record.save()\n",
    "            \n",
    "def top_student():\n",
    "    student = Student.select().order_by(Student.points.desc()).get()\n",
    "    return student\n",
    "            \n",
    "\n",
    "if __name__ == '__main__':\n",
    "    db.connect()\n",
    "    db.create_tables([Student], safe=True)\n",
    "    add_students()\n",
    "    print(\"Our top student right now is: {0.username}\".format(top_student()))"
   ]
  },
  {
   "cell_type": "code",
   "execution_count": 109,
   "metadata": {},
   "outputs": [
    {
     "data": {
      "text/plain": [
       "'__main__'"
      ]
     },
     "execution_count": 109,
     "metadata": {},
     "output_type": "execute_result"
    }
   ],
   "source": [
    "__name__  # what is this?\n",
    "          # https://stackoverflow.com/questions/419163/what-does-if-name-main-do"
   ]
  },
  {
   "cell_type": "code",
   "execution_count": null,
   "metadata": {
    "collapsed": true
   },
   "outputs": [],
   "source": []
  }
 ],
 "metadata": {
  "kernelspec": {
   "display_name": "Python 3",
   "language": "python",
   "name": "python3"
  },
  "language_info": {
   "codemirror_mode": {
    "name": "ipython",
    "version": 3
   },
   "file_extension": ".py",
   "mimetype": "text/x-python",
   "name": "python",
   "nbconvert_exporter": "python",
   "pygments_lexer": "ipython3",
   "version": "3.6.2"
  }
 },
 "nbformat": 4,
 "nbformat_minor": 2
}
