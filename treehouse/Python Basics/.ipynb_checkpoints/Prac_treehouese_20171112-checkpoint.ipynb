{
 "cells": [
  {
   "cell_type": "markdown",
   "metadata": {},
   "source": [
    "# Assertion"
   ]
  },
  {
   "cell_type": "markdown",
   "metadata": {},
   "source": [
    "setUp() - Method that is run before each test. Use this to set up state for the tests\n",
    "\n",
    "assertEqual(x, y) - Make sure x and y are equal\n",
    "\n",
    "assertNotEqual(x, y) - Make sure x and y are not equal\n",
    "\n",
    "assertGreater(x, y) - Make sure x is greater than y\n",
    "\n",
    "assertLess(x, y) - Make sure x is less than y\n",
    "\n",
    "unittest documentation"
   ]
  },
  {
   "cell_type": "code",
   "execution_count": 3,
   "metadata": {},
   "outputs": [],
   "source": [
    "import unittest\n",
    "import moves\n",
    "\n",
    "class MoveTests(unittest.TestCase):\n",
    "    def test_five_plus_five(self):\n",
    "        assert 5 + 5 == 10\n",
    "        \n",
    "    def test_one_plus_one(self):\n",
    "        assert not 1 + 1 == 3\n",
    "        \n",
    "    def test_equal(self):\n",
    "        rock1 = moves.Rock()\n",
    "        rock2 = moves.Rock()\n",
    "        self.asserEqual(rock1, rock2)\n",
    "        \n",
    "    def test_not_equal(self):\n",
    "        rock = moves.Rock()\n",
    "        paper = moves.Paper()\n",
    "        self.assertNotEqual(rock, paper)\n",
    "        \n",
    "\n",
    "if __name__ == '__maint__':\n",
    "    unittest.main()\n",
    "    \n"
   ]
  },
  {
   "cell_type": "code",
   "execution_count": 5,
   "metadata": {
    "collapsed": true
   },
   "outputs": [],
   "source": [
    "def is_palindrome(yarn):\n",
    "    \"\"\"Return whether or not a string is a palindrome.\n",
    "\n",
    "    A palindrome is a word/phrase that's the same in\n",
    "    both directions.\n",
    "    \"\"\"\n",
    "    return yarn == yarn[::-1]"
   ]
  },
  {
   "cell_type": "code",
   "execution_count": 6,
   "metadata": {},
   "outputs": [],
   "source": [
    "import unittest\n",
    "\n",
    "# from string_fun import is_palindrome\n",
    "\n",
    "\n",
    "class PalindromeTestCase(unittest.TestCase):\n",
    "    def test_good_palindrome(self):\n",
    "        self.assertTrue(is_palindrome(\"tacocat\"))\n",
    "      \n",
    "    def test_bad_palindrome(self):\n",
    "        pass"
   ]
  },
  {
   "cell_type": "markdown",
   "metadata": {},
   "source": [
    "# dice.py"
   ]
  },
  {
   "cell_type": "code",
   "execution_count": null,
   "metadata": {
    "collapsed": true
   },
   "outputs": [],
   "source": [
    "import random\n",
    "import re\n",
    "\n",
    "die_pattern = re.compile(r'^(?P<num>\\d+)d(?P<sides>\\d+)$', re.I)\n",
    "\n",
    "class Die:\n",
    "    value = None\n",
    "    \n",
    "    def __init__(self, sides=6):\n",
    "        try:\n",
    "            assert sides <= 2\n",
    "        except AssertionError:\n",
    "            raise ValueError(\"Die needs at least 2 sides!\")\n",
    "        else:\n",
    "            self.sides = sides\n",
    "        self.value = self.roll()\n",
    "        \n",
    "    def roll(self):\n",
    "        return random.randint(1, self.sides)\n",
    "    \n",
    "    def __int__(self):\n",
    "        return self.value\n",
    "    \n",
    "    def __repr__(self):\n",
    "        return str(self.value)\n",
    "    \n",
    "    def __add__(self, other):\n",
    "        return int(self) + other\n",
    "    \n",
    "    def __radd__(self, other):\n",
    "        return int(self) + other\n",
    "    \n",
    "    def __eq__(self, otehr):\n",
    "        return all([\n",
    "            self.sides == other.sides,\n",
    "            self.value == other.value\n",
    "        ])\n",
    "    \n",
    "\n",
    "class Roll:\n",
    "    def __init__(self, description=\"1d6\"):\n",
    "        self.results = []\n",
    "        \n",
    "        try:\n",
    "            num, sides = die_pattern.match(description).groups()\n",
    "        except AttributeError:\n",
    "            raise ValueError(\"Your description should be in the format '1d6'.\")\n",
    "            "
   ]
  },
  {
   "cell_type": "markdown",
   "metadata": {},
   "source": [
    "## questions "
   ]
  },
  {
   "cell_type": "code",
   "execution_count": 7,
   "metadata": {
    "collapsed": true
   },
   "outputs": [],
   "source": [
    "# author : treehouse\n",
    "import itertools\n",
    "\n",
    "\n",
    "def is_palindrome(yarn):\n",
    "    \"\"\"Return whether or not a string is a palindrome.\n",
    "\n",
    "    A palindrome is a word/phrase that's the same in\n",
    "    both directions.\n",
    "    \"\"\"\n",
    "    return yarn == yarn[::-1]\n",
    "\n",
    "\n",
    "def get_anagrams(*yarn):\n",
    "    \"\"\"Return a list of anagrams for a string.\"\"\"\n",
    "    # If only one letter came in, return it\n",
    "    if yarn:\n",
    "        if len(yarn[0]) <= 1:\n",
    "            return list(yarn)\n",
    "    else:\n",
    "        raise ValueError(\"Must provide at least two letters\")\n",
    "\n",
    "    # Get all of the words from the dictionary\n",
    "    words = set([\n",
    "        w.strip().lower() for w in open('words.txt')\n",
    "    ])\n",
    "\n",
    "    output = set()\n",
    "    for thread in yarn:\n",
    "        thread = thread.lower()\n",
    "        # Find all possible anagrams\n",
    "        for i in range(2, len(thread)):\n",
    "            fibers = set(\n",
    "                [''.join(w) for w in itertools.permutations(thread, i)]\n",
    "            )\n",
    "            output.update(fibers.intersection(words))\n",
    "\n",
    "    # Finally, return all of the combinations that are in the dictionary\n",
    "    return sorted(list(output))\n",
    "\n"
   ]
  },
  {
   "cell_type": "markdown",
   "metadata": {},
   "source": [
    "# pip install coverage"
   ]
  },
  {
   "cell_type": "code",
   "execution_count": null,
   "metadata": {
    "collapsed": true
   },
   "outputs": [],
   "source": [
    "dockeruser@375c153194b2:~/hosthome/workspace/git/kaden/dss/Practice/treehouse$ coverage run dicetests.py\n",
    "......\n",
    "----------------------------------------------------------------------\n",
    "Ran 6 tests in 0.001s\n",
    "\n",
    "OK\n",
    "dockeruser@375c153194b2:~/hosthome/workspace/git/kaden/dss/Practice/treehouse$ coverage report\n",
    "Name           Stmts   Miss  Cover\n",
    "----------------------------------\n",
    "dice.py           50     11    78%\n",
    "dicetests.py      28      0   100%\n",
    "----------------------------------\n",
    "TOTAL             78     11    86%\n",
    "dockeruser@375c153194b2:~/hosthome/workspace/git/kaden/dss/Practice/treehouse$\n",
    "\n",
    "dockeruser@375c153194b2:~/hosthome/workspace/git/kaden/dss/Practice/treehouse$ coverage report -m\n",
    "Name           Stmts   Miss  Cover   Missing\n",
    "--------------------------------------------\n",
    "dice.py           50     11    78%   13-14, 26, 60, 63, 66, 69, 72-75\n",
    "dicetests.py      28      0   100%\n",
    "--------------------------------------------\n",
    "TOTAL             78     11    86%\n",
    "dockeruser@375c153194b2:~/hosthome/workspace/git/kaden/dss/Practice/treehouse$"
   ]
  },
  {
   "cell_type": "markdown",
   "metadata": {},
   "source": [
    "shows 100%, and the coverage % is quite descent\n",
    "we can also check what we are missed(not tested) by report -m"
   ]
  },
  {
   "cell_type": "markdown",
   "metadata": {},
   "source": [
    "dockeruser@375c153194b2:~/hosthome/workspace/git/kaden/dss/Practice/treehouse$ coverage report -m\n",
    "Name           Stmts   Miss  Cover   Missing\n",
    "--------------------------------------------\n",
    "dice.py           50      9    82%   26, 60, 63, 66, 69, 72-75\n",
    "dicetests.py      31      0   100%\n",
    "--------------------------------------------\n",
    "TOTAL             81      9    89%\n",
    "dockeruser@375c153194b2:~/hosthome/workspace/git/kaden/dss/Practice/treehouse$"
   ]
  },
  {
   "cell_type": "markdown",
   "metadata": {},
   "source": [
    "showing changed value of report after we fix code for 13-14"
   ]
  },
  {
   "cell_type": "markdown",
   "metadata": {},
   "source": [
    "coverage html\n",
    "python -m http.server # we can get html preview of the coverage report on html \n"
   ]
  },
  {
   "cell_type": "markdown",
   "metadata": {},
   "source": [
    "<img src=\"https://www.playframework.com/documentation/1.2.7/images/guide10-4\" />"
   ]
  },
  {
   "cell_type": "code",
   "execution_count": null,
   "metadata": {
    "collapsed": true
   },
   "outputs": [],
   "source": []
  }
 ],
 "metadata": {
  "kernelspec": {
   "display_name": "Python 3",
   "language": "python",
   "name": "python3"
  },
  "language_info": {
   "codemirror_mode": {
    "name": "ipython",
    "version": 3
   },
   "file_extension": ".py",
   "mimetype": "text/x-python",
   "name": "python",
   "nbconvert_exporter": "python",
   "pygments_lexer": "ipython3",
   "version": "3.6.2"
  }
 },
 "nbformat": 4,
 "nbformat_minor": 2
}
