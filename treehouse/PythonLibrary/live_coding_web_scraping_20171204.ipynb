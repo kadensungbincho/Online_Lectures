{
 "cells": [
  {
   "cell_type": "markdown",
   "metadata": {},
   "source": [
    "# Web- Scraping\n",
    "- Markov chain generator : https://pypi.python.org/pypi/markovify/0.4.3\n",
    "- scrapy : https://scrapy.org/\n",
    "- bs4 : https://www.crummy.com/software/BeautifulSoup/bs4/doc/\n",
    "- request : https://pypi.python.org/pypi/requests/2.11.1"
   ]
  },
  {
   "cell_type": "markdown",
   "metadata": {},
   "source": [
    "## What is scraper?\n",
    "- Request library : usually just go to any endpoint and grab it, and parse it with like bs4\n",
    "- bs4 : neat way to parse web pages, but it doesn't scale super well\n",
    "- scrapy : make spriders and they go out and get whatever I want\n",
    "\n",
    "- ** pip install scrapy markovify**\n",
    "- scrapy needs twisted, LXML, Six, CSS Select, Zoap, "
   ]
  },
  {
   "cell_type": "code",
   "execution_count": 36,
   "metadata": {},
   "outputs": [
    {
     "name": "stdout",
     "output_type": "stream",
     "text": [
      "200\n"
     ]
    }
   ],
   "source": [
    "from bs4 import BeautifulSoup\n",
    "import requests\n",
    "import os\n",
    "req = requests.get(\"https://seoul.craigslist.co.kr/pet/d/rabbit-to-good-home/6373149291.html\")\n",
    "print(req.status_code)"
   ]
  },
  {
   "cell_type": "code",
   "execution_count": 2,
   "metadata": {
    "collapsed": true
   },
   "outputs": [
    {
     "data": {
      "text/plain": [
       "'<!DOCTYPE html>\\n<html class=\"no-js\">\\n<head>\\n<title>Rabbit to a good home - pets</title>\\n    \\t<link rel=\"canonical\" href=\"https://seoul.craigslist.co.kr/pet/d/rabbit-to-good-home/6373149291.html\">\\n\\t<meta name=\"description\" content=\"I\\'m looking for a good home for my rabbit. His name is Basil. He would be perfect for anyone with a child or anyone who just wants an easy pet to have around. He\\'s potty trained and will come with...\">\\n\\t<meta name=\"robots\" content=\"noarchive,nofollow,unavailable_after: 19-Dec-17 18:35:25 KST\">\\n\\t<meta name=\"twitter:card\" content=\"preview\">\\n\\t<meta property=\"og:description\" content=\"I\\'m looking for a good home for my rabbit. His name is Basil. He would be perfect for anyone with a child or anyone who just wants an easy pet to have around. He\\'s potty trained and will come with...\">\\n\\t<meta property=\"og:image\" content=\"https://images.craigslist.org/00L0L_fg0unpXytzp_600x450.jpg\">\\n\\t<meta property=\"og:site_name\" content=\"craigslist\">\\n\\t<meta property=\"og:title\" content=\"Rabbit to a good home\">\\n\\t<meta property=\"og:type\" content=\"article\">\\n\\t<meta property=\"og:url\" content=\"https://seoul.craigslist.co.kr/pet/d/rabbit-to-good-home/6373149291.html\">\\n<meta name=\"viewport\" content=\"width=device-width,initial-scale=1\"><link type=\"text/css\" rel=\"stylesheet\" media=\"all\" href=\"//www.craigslist.org/styles/cl.css?v=58db8b9d287844a7f120e277e3e8439c\"><link type=\"text/css\" rel=\"stylesheet\" media=\"all\" href=\"//www.craigslist.org/styles/postings.css?v=44664b7f67211b8957e950af9ce9164d\">    \\n<!--[if lt IE 9]>\\n<script src=\"//www.craigslist.org/js/html5shiv.min.js?v=c0739b14a84b052680cdee44fea07435\" type=\"text/javascript\" ></script>\\n\\n<script src=\"//www.craigslist.org/js/respond-fork.min.js?v=247e877d69233f6f77bff30aca7b5473\" type=\"text/javascript\" ></script>\\n\\n<![endif]-->\\n<!--[if lte IE 7]>\\n<script src=\"//www.craigslist.org/js/json2.min.js?v=6e47a4bb061d538548771024390aa00b\" type=\"text/javascript\" ></script>\\n\\n<![endif]--></head>\\n\\n<body class=\"posting en\">\\n<script type=\"text/javascript\"><!--\\n    function C(k){return(document.cookie.match(\\'(^|; )\\'+k+\\'=([^;]*)\\')||0)[2]}\\n    var pagetype, pagemode;\\n    (function(){\\n        var h = document.documentElement;\\n        h.className = h.className.replace(\\'no-js\\', \\'js\\');\\n        var b = document.body;\\n        var bodyClassList = b.className.split(/\\\\s+/);;\\n        pagetype = bodyClassList[0]; // dangerous assumption\\n        var fmt = C(\\'cl_fmt\\');\\n        if ( fmt === \\'regular\\' || fmt === \\'mobile\\' ) {\\n            pagemode = fmt;\\n        } else if (screen.width <= 480) {\\n            pagemode = \\'mobile\\';\\n        } else {\\n            pagemode = \\'regular\\';\\n        }\\n        pagemode = pagemode === \\'mobile\\' ? \\'mobile\\' : \\'desktop\\';\\n        bodyClassList.push(pagemode);\\n        if (C(\\'hidesearch\\') === \\'1\\' && pagemode !== \\'mobile\\') {\\n            bodyClassList.push(\\'hide-search\\');\\n        }\\n        var width = window.innerWidth || document.documentElement.clientWidth;\\n        if (width > 1000) { bodyClassList.push(\\'w1024\\'); }\\n        if (typeof window.sectionBase !== \\'undefined\\') {\\n            var mode = (decodeURIComponent(C(\\'cl_tocmode\\') || \\'\\').match(new RegExp(window.sectionBase + \\':([^,]+)\\', \\'i\\')) || {})[1] || window.defaultView;\\n            if (mode) {\\n                bodyClassList.push(mode);\\n            }\\n        }\\n        b.className = bodyClassList.join(\\' \\');\\n    }());\\n--></script>\\n\\n    <section class=\"page-container\">\\n        <div class=\"bglogo\"></div>\\n<header class=\"global-header wide\">\\n   <a class=\"header-logo\" name=\"logoLink\" href=\"/\">CL</a>\\n\\n    <nav class=\"breadcrumbs-container\">\\n\\n<ul class=\"breadcrumbs\">\\n        <li class=\"crumb area\">\\n            <p>\\n                    <a href=\"/\">seoul</a>\\n\\n                    <span class=\"breadcrumb-arrow\">&gt;</span>\\n            </p>\\n        </li>\\n\\n\\n        <li class=\"crumb section\">\\n            <p>\\n                    <a href=\"/search/ccc\">community</a>\\n\\n                    <span class=\"breadcrumb-arrow\">&gt;</span>\\n            </p>\\n        </li>\\n\\n        <li class=\"crumb category\">\\n            <p>\\n                <a href=\"/search/pet\">pets</a>\\n\\n            </p>\\n        </li>\\n\\n</ul>\\n    </nav>\\n\\n<div class=\"userlinks\">\\n    <ul class=\"user-actions\">\\n        <li class=\"user post\">\\n            <a href=\"https://post.craigslist.org/c/sel\">post</a>\\n        </li>\\n        <li class=\"user account\">\\n            <a href=\"https://accounts.craigslist.org/login/home\">account</a>\\n        </li>\\n    </ul>\\n    <ul class=\"user-favs-discards\">\\n        <li class=\"user\">\\n            <div class=\"favorites\">\\n                <a href=\"#\" class=\"favlink\"><span class=\"icon icon-star fav\" aria-hidden=\"true\"></span><span class=\"fav-number\"></span><span class=\"fav-label\"> favorites</span></a>\\n            </div>\\n        </li>\\n        <li class=\"user discards\">\\n          <form class=\"unfavform js-only\" method=\"POST\" action=\"/favorites\">\\n            <div class=\"to-banish-page\">\\n              <input type=\"hidden\" class=\"lastLink\" name=\"lastLink\" value=\"/pet/6373149291.html\">\\n              <input type=\"hidden\" class=\"lastTitle\" name=\"lastTitle\" value=\"Rabbit to a good home\">\\n              <input type=\"hidden\" class=\"unfaves\" name=\"fl\">\\n              <input type=\"hidden\" name=\"uf\" value=\"1\">\\n              <a href=\"#\" class=\"to-banish-page-link\">\\n                <span class=\"icon icon-trash red\" aria-hidden=\"true\"></span>\\n                <span class=\"banished_count\"></span>\\n                <span class=\"discards-label\"> hidden</span>\\n              </a>\\n            </div>\\n          </form>\\n        </li>\\n    </ul>\\n</div>\\n\\n</header>\\n<header class=\"global-header narrow\">\\n   <a class=\"header-logo\" href=\"/\">CL</a>\\n    <nav class=\"breadcrumbs-container\">\\n\\n<ul class=\"breadcrumbs\">\\n\\n\\nseoul            &gt;\\n\\npets\\n\\n</ul>\\n\\n\\n    </nav>\\n    <span class=\"linklike show-wide-header\">...</span>\\n</header>\\n        <section class=\"body\">\\n<header class=\"dateReplyBar\">\\n    <div class=\"prevnext-sec\">\\n        <div class=\"prevnext js-only\">\\n    <a class=\"prev\">&#9664;  prev </a>\\n    <a class=\"backup\" title=\"back to search\">&#9650;</a>\\n    <a class=\"next\"> next &#9654; </a>\\n</div>\\n\\n    </div>\\n\\n   <button class=\"reply_button js-only\">reply \\n      <span class=\"envelope\">&#9993;</span> \\n    </button>\\n    <span class=\"replylink\">\\n      <a id=\"replylink\" href=\"/reply/sel/pet/6373149291\">\\nreply      </a>\\n    </span>\\n\\n<div class=\"returnemail js-only\"></div>\\n\\n\\n    <aside class=\"flags\">\\n    <a class=\"flaglink\" data-flag=\"28\" href=\"https://post.craigslist.org/flag?flagCode=28&amp;postingID=6373149291&amp;cat=pet&amp;area=sel\" title=\"flag as prohibited / spam / miscategorized\"><span class=\"flag\">x</span> <span class=\"flagtext\">prohibited</span></a><sup>[<a href=\"http://www.craigslist.org/about/prohibited\">?</a>]</sup>\\n</aside>\\n        <p id=\"display-date\" class=\"postinginfo reveal\">\\n                Posted\\n                <time class=\"date timeago\" datetime=\"2017-11-04T18:35:21+0900\">\\n                    2017-11-04  6:35pm\\n                </time>\\n        </p>\\n\\n    <p class=\"print-information print-contact\">\\n        Contact Information: <span class=\"print-email\"></span> <span class=\"print-phone\"></span>\\n    </p>\\n\\n        <a href=\"#\" id=\"printme\">print</a>\\n\\n</header>\\n\\n<h2 class=\"postingtitle\">\\n    <span class=\"icon icon-star\" role=\"button\">\\n        <span class=\"screen-reader-text\">favorite this post</span>\\n    </span>\\n    <span class=\"postingtitletext\">\\n<span id=\"titletextonly\">Rabbit to a good home</span><small> (Cleveland Heights)</small><span class=\"js-only banish-unbanish\">\\n  <span class=\"banish\" role=\"button\">\\n    <span class=\"icon icon-trash\" aria-hidden=\"true\"></span>\\n    <span class=\"screen-reader-text\">hide this posting</span>\\n  </span>\\n  <span class=\"unbanish\" role=\"button\">\\n    <span class=\"icon icon-trash red\" aria-hidden=\"true\"></span>\\n    unhide\\n  </span>\\n</span>\\n    </span>\\n</h2>\\n<section class=\"userbody\">\\n    \\n\\n<figure class=\"iw multiimage\">\\n    <div class=\"gallery\">\\n        <span class=\"slider-back arrow\">&lt;</span>\\n        <span class=\"slider-info\">image 1 of 4</span>\\n        <span class=\"slider-forward arrow\">&gt;</span>\\n\\n        <div class=\"swipe\">\\n            <div class=\"swipe-wrap\"><div id=\"1_image_fg0unpXytzp\" data-imgid=\"fg0unpXytzp\" class=\"slide first visible\"><img src=\"https://images.craigslist.org/00L0L_fg0unpXytzp_600x450.jpg\" title=\" 1\" alt=\" 1\"></div><div id=\"2_image_1D2RubHE2ac\" data-imgid=\"1D2RubHE2ac\" class=\"slide \"></div><div id=\"3_image_cMp3BfaCxsn\" data-imgid=\"cMp3BfaCxsn\" class=\"slide \"></div><div id=\"4_image_7rKEbCEqfjS\" data-imgid=\"7rKEbCEqfjS\" class=\"slide \"></div></div>\\n        </div>\\n    </div>\\n\\n    <div id=\"thumbs\"><a id=\"1_thumb_fg0unpXytzp\" class=\"thumb\" data-imgid=\"fg0unpXytzp\" href=\"https://images.craigslist.org/00L0L_fg0unpXytzp_600x450.jpg\" title=\"1\"><img src=\"https://images.craigslist.org/00L0L_fg0unpXytzp_50x50c.jpg\" class=\"selected\" alt=\" 1\"></a><a id=\"2_thumb_1D2RubHE2ac\" class=\"thumb\" data-imgid=\"1D2RubHE2ac\" href=\"https://images.craigslist.org/00w0w_1D2RubHE2ac_600x450.jpg\" title=\"2\"><img src=\"https://images.craigslist.org/00w0w_1D2RubHE2ac_50x50c.jpg\"  alt=\" 2\"></a><a id=\"3_thumb_cMp3BfaCxsn\" class=\"thumb\" data-imgid=\"cMp3BfaCxsn\" href=\"https://images.craigslist.org/00U0U_cMp3BfaCxsn_600x450.jpg\" title=\"3\"><img src=\"https://images.craigslist.org/00U0U_cMp3BfaCxsn_50x50c.jpg\"  alt=\" 3\"></a><a id=\"4_thumb_7rKEbCEqfjS\" class=\"thumb\" data-imgid=\"7rKEbCEqfjS\" href=\"https://images.craigslist.org/00s0s_7rKEbCEqfjS_600x450.jpg\" title=\"4\"><img src=\"https://images.craigslist.org/00s0s_7rKEbCEqfjS_50x50c.jpg\"  alt=\" 4\"></a></div>\\n    \\n        <script type=\"text/javascript\"><!--\\nvar imgList = [{\"shortid\":\"fg0unpXytzp\",\"url\":\"https://images.craigslist.org/00L0L_fg0unpXytzp_600x450.jpg\",\"thumb\":\"https://images.craigslist.org/00L0L_fg0unpXytzp_50x50c.jpg\",\"imgid\":\"1:00L0L_fg0unpXytzp\"},{\"shortid\":\"1D2RubHE2ac\",\"url\":\"https://images.craigslist.org/00w0w_1D2RubHE2ac_600x450.jpg\",\"thumb\":\"https://images.craigslist.org/00w0w_1D2RubHE2ac_50x50c.jpg\",\"imgid\":\"1:00w0w_1D2RubHE2ac\"},{\"shortid\":\"cMp3BfaCxsn\",\"url\":\"https://images.craigslist.org/00U0U_cMp3BfaCxsn_600x450.jpg\",\"thumb\":\"https://images.craigslist.org/00U0U_cMp3BfaCxsn_50x50c.jpg\",\"imgid\":\"1:00U0U_cMp3BfaCxsn\"},{\"shortid\":\"7rKEbCEqfjS\",\"url\":\"https://images.craigslist.org/00s0s_7rKEbCEqfjS_600x450.jpg\",\"thumb\":\"https://images.craigslist.org/00s0s_7rKEbCEqfjS_50x50c.jpg\",\"imgid\":\"1:00s0s_7rKEbCEqfjS\"}];\\n--></script>\\n    \\n</figure>\\n\\n    <div class=\"mapAndAttrs\">\\n\\n    </div>\\n\\n    <section id=\"postingbody\">\\n        <div class=\"print-information print-qrcode-container\">\\n            <p class=\"print-qrcode-label\">QR Code Link to This Post</p>\\n            <div class=\"print-qrcode\" data-location=\"https://seoul.craigslist.co.kr/pet/d/rabbit-to-good-home/6373149291.html\"></div>\\n        </div>\\nI\\'m looking for a good home for my rabbit. His name is Basil. He would be perfect for anyone with a child or anyone who just wants an easy pet to have around. He\\'s potty trained and will come with his cage, a carrier, food good for 1-2 months, brush and water feeder. <br>\\n<br>\\nThe reason I am looking to rehome him is because of my schedule. I travel a bit and when I\\'m home I am not there much. I don\\'t have tons of friends in Korea so when I do leave town it\\'s hard to find someone to check on him. I\\'m not charging for him. I will help in relocating him also. Inquire for any more details with the email via craigslist.    </section>\\n\\n<ul class=\"notices\">\\n            <li>do NOT contact me with unsolicited services or offers</li>\\n</ul>\\n\\n    <div class=\"postinginfos\">\\n            <p class=\"postinginfo\">post id: 6373149291</p>\\n                <p class=\"postinginfo reveal\">posted: <time class=\"date timeago\" datetime=\"2017-11-04T18:35:21+0900\">2017-11-04  6:35pm</time></p>\\n\\n\\n\\n               <p class=\"postinginfo\">\\n                   <a href=\"https://accounts.craigslist.org/eaf?postingID=6373149291&amp;token=U2FsdGVkX185MDI4OTAyOPcDJf8b9eDTZqilkRZG-qD_YfmD9KsPh10uIStwMmCD\" class=\"email-friend\">email to friend</a>\\n               </p>\\n        <p class=\"postinginfo\">\\n              <a class=\"bestof-link\" data-flag=\"9\" href=\"https://post.craigslist.org/flag?flagCode=9&amp;postingID=6373149291\" title=\"nominate for best-of-CL\">\\n                <span class=\"bestof-icon\">&hearts; </span><span class=\"bestof-text\">best of</span>\\n              </a> <sup>[<a href=\"https://www.craigslist.org/about/best-of-craigslist\">?</a>]</sup>\\n        </p>\\n        \\n    </div>\\n\\n    <div class=\"print-information print-pics\"></div>\\n\\n</section>\\n\\n<div class=\"psa-box\">\\n</div>\\n\\n<div class=\"avoid-scams\">\\n</div>\\n\\n        </section>\\n<footer>\\n    <ul class=\"clfooter\">\\n        <li>&copy;  <span class=\"desktop\">craigslist</span><span class=\"mobile\">CL</span></li>\\n        <li><a href=\"https://www.craigslist.org/about/help/\">help</a></li>\\n        <li><a href=\"https://www.craigslist.org/about/scams\">safety</a></li>\\n        <li class=\"desktop\"><a href=\"https://www.craigslist.org/about/privacy.policy\">privacy</a></li>\\n        <li class=\"desktop\"><a href=\"https://forums.craigslist.org/?forumID=8\">feedback</a></li>\\n        <li class=\"desktop\"><a href=\"https://www.craigslist.org/about/craigslist_is_hiring\">cl jobs</a></li>\\n        <li><a href=\"//www.craigslist.org/about/terms.of.use.en\">terms</a></li>\\n        <li><a href=\"https://www.craigslist.org/about/\">about</a></li>\\n        <li class=\"fsel desktop linklike\" data-mode=\"mobile\">mobile</li>\\n        <li class=\"fsel mobile linklike\" data-mode=\"regular\">desktop</li>\\n    </ul>\\n</footer>\\n    </section>\\n\\n    \\n        <script type=\"text/javascript\"><!--\\nvar countOfTotalText = \"image {count} of {total}\";\\nvar imageConfig = {\"1\":{\"hostname\":\"https://images.craigslist.org\",\"sizes\":[\"50x50c\",\"300x300\",\"600x450\",\"1200x900\"]},\"0\":{\"hostname\":\"https://images.craigslist.org\",\"sizes\":[\"50x50c\",\"300x300\",\"600x450\"]},\"2\":{\"hostname\":\"https://images.craigslist.org\",\"sizes\":[\"50x50c\",\"300x300\",\"600x450\",\"1200x900\"]}};\\nvar maptileBaseUrl = \"//map{s}.craigslist.org/t09/{z}/{x}/{y}.png\";\\nvar pID = \"6373149291\";\\n--></script>\\n    \\n<script src=\"//www.craigslist.org/js/general-concat.min.js?v=1eade4d753066c8e994c8cc2ee4c4db9\" type=\"text/javascript\" ></script>\\n<script type=\"text/javascript\"><!--\\n        var iframe = document.createElement(\\'iframe\\');\\n        iframe.style.display = \\'none\\';\\n        iframe.src = \\'//www.\\' + CL.url.baseDomain + \\'/static/localstorage.html?v=51a29e41f8e978141e4085ed4a77d170\\';\\n        document.body.insertBefore(iframe, null);\\n    --></script>\\n    \\n<script src=\"//www.craigslist.org/js/postings-concat.min.js?v=bd39bcd2cece0a2676c445089927f40b\" type=\"text/javascript\" ></script>\\n</body>\\n</html>\\n'"
      ]
     },
     "execution_count": 2,
     "metadata": {},
     "output_type": "execute_result"
    }
   ],
   "source": [
    "req.text"
   ]
  },
  {
   "cell_type": "code",
   "execution_count": 51,
   "metadata": {},
   "outputs": [
    {
     "name": "stdout",
     "output_type": "stream",
     "text": [
      "None\n",
      "Please be the lucky person who adopts him.\n"
     ]
    }
   ],
   "source": [
    "from bs4 import BeautifulSoup\n",
    "import markovify\n",
    "import requests\n",
    "import os\n",
    "\n",
    "urls = [\n",
    "    'https://newyork.craigslist.org/brk/pet/d/female-roller-pigeon-6/6411589358.html',\n",
    "    'https://newyork.craigslist.org/wch/pet/d/kitten-made-of-love/6411471250.html',\n",
    "    'https://newyork.craigslist.org/wch/pet/d/posey-delightful-bundle/6411507144.html',\n",
    "    'https://newyork.craigslist.org/que/pet/d/looking-to-adopt-loving-adult/6411496297.html',\n",
    "    'https://newyork.craigslist.org/brx/pet/d/adorable-yorkie-puppies/6411459357.html',\n",
    "    'https://newyork.craigslist.org/brk/pet/d/dog-walker-dog-sitter/6385375915.html'\n",
    "    \n",
    "]\n",
    "\n",
    "\n",
    "def process_post(url):\n",
    "    req = requests.get(url)\n",
    "    if req.status_code == 200:\n",
    "        soup = BeautifulSoup(req.text, 'html.parser')\n",
    "        post_title = soup.find(id='titletextonly').text\n",
    "        post_body = soup.find(id='postingbody').text\n",
    "        if any([\n",
    "            post_title is None,\n",
    "            post_body is None\n",
    "        ]):\n",
    "            raise ValueError()\n",
    "        return (post_title, post_body)\n",
    "    else: \n",
    "        raise ValueError()\n",
    "\n",
    "\n",
    "def save(post_title, post_body):\n",
    "    with open('titles.txt', 'a') as title_file:\n",
    "        title_file.write(post_title + '\\n')\n",
    "    with open('bodies.txt', 'a') as body_file:\n",
    "        body_file.write(post_body + '\\n')    \n",
    "        \n",
    "\n",
    "def generate(which_file):\n",
    "    files = {\n",
    "        'body': 'bodies.txt',\n",
    "        'title': 'titles.txt'\n",
    "    }\n",
    "    with open(files[which_file]) as f:\n",
    "        text = f.read()\n",
    "    text_model = markovify.Text(text, state_size=3)\n",
    "    return text_model.make_sentence(tries=50)\n",
    "    \n",
    "\n",
    "def main():\n",
    "    try:\n",
    "        os.unlink('titles.txt')\n",
    "        os.unlink('bodies.txt') \n",
    "    except FileNotFoundError:\n",
    "        pass\n",
    "   \n",
    "    first_page = requests.get('https://newyork.craigslist.org/d/pets/search/pet')\n",
    "    soup = BeautifulSoup(first_page.text, 'html.parser')\n",
    "    links = soup.select('#sortable-results > ul > li > p > a')\n",
    "    urls = [link.get('href') for link in links]\n",
    "       \n",
    "    for url in urls:\n",
    "        try:\n",
    "            title, body = process_post(url)\n",
    "        except ValueError:\n",
    "            pass\n",
    "        else:\n",
    "            save(title, body)\n",
    "    #         print('title : {}\\n\\n body : {}\\n\\n'.format(title, body))\n",
    "        \n",
    "        \n",
    "if __name__ == '__main__':\n",
    "    main()\n",
    "    print(generate('title'))\n",
    "    print(generate('body'))"
   ]
  },
  {
   "cell_type": "code",
   "execution_count": null,
   "metadata": {
    "collapsed": true
   },
   "outputs": [],
   "source": [
    "#sortable-results > ul > li> p > a"
   ]
  },
  {
   "cell_type": "code",
   "execution_count": 34,
   "metadata": {},
   "outputs": [
    {
     "name": "stdout",
     "output_type": "stream",
     "text": [
      "Female Roller Pigeon - $6\r\n",
      "A Kitten Made Of Love\r\n",
      "Posey - A Delightful Bundle Wrapped Up In A Cat\r\n",
      "Looking to Adopt Loving Adult Cat\r\n",
      "Adorable Yorkie Puppies!\r\n",
      "Dog walker / dog sitter\r\n"
     ]
    }
   ],
   "source": [
    "!cat titles.txt"
   ]
  },
  {
   "cell_type": "code",
   "execution_count": 35,
   "metadata": {
    "collapsed": true
   },
   "outputs": [
    {
     "name": "stdout",
     "output_type": "stream",
     "text": [
      "\r\n",
      "\r\n",
      "QR Code Link to This Post\r\n",
      "\r\n",
      "\r\n",
      "Female. Cage not included email with any questions.    \r\n",
      "\r\n",
      "\r\n",
      "QR Code Link to This Post\r\n",
      "\r\n",
      "\r\n",
      "If there was a recipe for the perfect kitten, it would be called Pepper.  He is everyone's idea of the most playful, the most affectionate and the most adorable kitten that could every be.  If you adopt this bundle of joy, he will be a wonderful companion as well as a friend to any other family cat.  He is FLV/FIV negative and will recently neutered.  He is all set to walk into your loving home.  If interest, please call  show contact info\r\n",
      " (landline), cell #  show contact info\r\n",
      ".\r\n",
      "\r\n",
      "\r\n",
      "\r\n",
      "QR Code Link to This Post\r\n",
      "\r\n",
      "\r\n",
      "How would you describe the perfect cat? She would have to be really sweet and have a great disposition.  She would have to be playful and loving and really affectionate.  She would have to sit on your lap and purr with joy at just being with you.  And maybe if your are lucky, she would also be beautiful.  Well, you have found her.  Would you really care if she has only one eye?  Please be the lucky person who gives this wonderful cat a furever home.  She is only 8 months old, FLV/FIV negative and has been spayed and vaccinated.  Please call  show contact info\r\n",
      " (landline), or  show contact info\r\n",
      " (cell) if you are that person.\r\n",
      "\r\n",
      "\r\n",
      "\r\n",
      "QR Code Link to This Post\r\n",
      "\r\n",
      "\r\n",
      "Hello there!\r\n",
      "\r\n",
      "I'm looking to adopt an adult cat!  I prefer an adult cat because you can easily get an idea of their personality, but let's be honest, if a kitten fell on my lap I wouldn't say no!\r\n",
      "\r\n",
      "I would like a loving and affectionate companion to go home to everyday.  Sometimes my life gets stressful and one thing I noticed is that animals always ease my stress.  The cat will be mine but I have two roommates who are excited about the idea of having a cat in the apartment and who I know will give a cat a bunch of love as well.  I don't care about age.  I would adopt a senior cat as long as it's healthy and sweet tempered.  \r\n",
      "\r\n",
      "I would like a cat who is also spayed/neutered and is up to date on vaccinations to make the transition to its new home less stressful for the cat and myself.  Also, I prefer a cat that's not too talkative. \r\n",
      "\r\n",
      "I'm 30 years old and I have had cats and dogs my entire life.  I have one tattoo and it's a tattoo (pictured) of a dog and a cat if that gives any indication for my love of animals.  \r\n",
      "\r\n",
      "Any cat I adopt will stay with me for life!  Once it's mine, it will always be mine and well taken care of and loved.  \r\n",
      "\r\n",
      "Feel free to text me:\r\n",
      "\r\n",
      "show contact info\r\n",
      "\r\n",
      "\r\n",
      "Thank you!    \r\n",
      "\r\n",
      "\r\n",
      "QR Code Link to This Post\r\n",
      "\r\n",
      "\r\n",
      "Healthiest and cutest Yorkies in town and up to date on shots! These adorable puppies would make great Christmas presents and even better companions! You and your loved ones will be overjoyed for the holidays and years to come once you invite one of our precious Yorkies into your home. They are going quick, so come meet your best friend today!\r\n",
      "\r\n",
      " Contact  show contact info\r\n",
      "\r\n",
      "\r\n",
      "\r\n",
      "\r\n",
      "QR Code Link to This Post\r\n",
      "\r\n",
      "\r\n",
      "I am a experienced dog walker and sitter looking for more clients ! 11/ half an hour for walks :) and for dog sitting we can negotiate  ! My name is Kaitlin. Email if you need to know more    \r\n"
     ]
    }
   ],
   "source": [
    "!cat bodies.txt"
   ]
  },
  {
   "cell_type": "code",
   "execution_count": 38,
   "metadata": {},
   "outputs": [
    {
     "name": "stdout",
     "output_type": "stream",
     "text": [
      "assets\t\t\t\t\t python_for_file_system.ipynb\r\n",
      "live_coding_web_scraping_20171204.ipynb  scraper.py\r\n",
      "project1\t\t\t\t tempdir1\r\n",
      "python_for_file_system_20171204.ipynb\r\n"
     ]
    }
   ],
   "source": [
    "!ls"
   ]
  },
  {
   "cell_type": "code",
   "execution_count": 61,
   "metadata": {
    "collapsed": true
   },
   "outputs": [],
   "source": [
    "import scrapy \n",
    "from scrapy.spiders import CrawlSpider, Rule\n",
    "from scrapy.linkextractors import LinkExtractor\n",
    "# from scrapy.linkextractors import LinkExtractor\n",
    "\n",
    "from pet_item import Pet\n",
    "\n",
    "class PetSpider(scrapy.Spider):\n",
    "    name = 'petspider'\n",
    "    start_url = ['https://newyork.craigslist.org/d/pets/search/pet']\n",
    "    \n",
    "    def parse(self, response):\n",
    "#         links = LinkExtactor(\n",
    "#             restrict_css=('#sortable-results > ul > li > p')\n",
    "#         ).extract_links(response)\n",
    "#         print(links)\n",
    "        next_page = response.css('.rows .row a::attr(href)').extract_first()\n",
    "        if next_page is not None:\n",
    "            next_page = response.urljoin(next_page)\n",
    "            yield scrapy.Request(next_page, callback=self.parse)\n",
    "#         for link in response.css('#sortable-results > ul > li > p'):\n",
    "#             yield {'href': link.css('a ::href').extra_first()}\n",
    "        "
   ]
  },
  {
   "cell_type": "code",
   "execution_count": null,
   "metadata": {
    "collapsed": true
   },
   "outputs": [],
   "source": [
    "import scrapy.exceptions import DropItem\n",
    "\n",
    "class PetPipeline(object):\n",
    "    def process_item(self, item, spider):\n",
    "        if item['body']"
   ]
  },
  {
   "cell_type": "code",
   "execution_count": 62,
   "metadata": {
    "collapsed": true
   },
   "outputs": [],
   "source": [
    "import scrapy\n",
    "\n",
    "\n",
    "class QuotesSpider(scrapy.Spider):\n",
    "    name = \"quotes\"\n",
    "    start_urls = [\n",
    "        'http://quotes.toscrape.com/tag/humor/',\n",
    "    ]\n",
    "\n",
    "    def parse(self, response):\n",
    "        for quote in response.css('div.quote'):\n",
    "            yield {\n",
    "                'text': quote.css('span.text::text').extract_first(),\n",
    "                'author': quote.xpath('span/small/text()').extract_first(),\n",
    "            }\n",
    "\n",
    "        next_page = response.css('li.next a::attr(\"href\")').extract_first()\n",
    "        if next_page is not None:\n",
    "            yield response.follow(next_page, self.parse)"
   ]
  },
  {
   "cell_type": "code",
   "execution_count": null,
   "metadata": {
    "collapsed": true
   },
   "outputs": [],
   "source": []
  }
 ],
 "metadata": {
  "kernelspec": {
   "display_name": "Python 3",
   "language": "python",
   "name": "python3"
  },
  "language_info": {
   "codemirror_mode": {
    "name": "ipython",
    "version": 3
   },
   "file_extension": ".py",
   "mimetype": "text/x-python",
   "name": "python",
   "nbconvert_exporter": "python",
   "pygments_lexer": "ipython3",
   "version": "3.6.2"
  }
 },
 "nbformat": 4,
 "nbformat_minor": 2
}
