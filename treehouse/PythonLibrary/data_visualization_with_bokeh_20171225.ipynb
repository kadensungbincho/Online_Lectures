{
 "cells": [
  {
   "cell_type": "markdown",
   "metadata": {},
   "source": [
    "# stage1_2.py"
   ]
  },
  {
   "cell_type": "code",
   "execution_count": null,
   "metadata": {},
   "outputs": [],
   "source": [
    "from bokeh.io import output_file, show\n",
    "from bokeh.plotting import figure\n",
    "\n",
    "output_file('test.html')\n",
    "\n",
    "plot = figure(plot_width=600, plot_height=600, tools='pan,box_zoom,reset')\n",
    "\n",
    "plot.square(x=[1, 2, 4, 8, 10], y=[6, 2, 18, 4, 9], size=20)\n",
    "\n",
    "show(plot)"
   ]
  },
  {
   "cell_type": "markdown",
   "metadata": {},
   "source": [
    "generate json type info \n",
    ": \"data\":{\"x\":[1,2,4,8,10],\"y\":[6,2,18,4,9]}},\n",
    " "
   ]
  },
  {
   "cell_type": "markdown",
   "metadata": {},
   "source": [
    "- plot tools : http://bokeh.pydata.org/en/latest/docs/user_guide/tools.html"
   ]
  },
  {
   "cell_type": "markdown",
   "metadata": {},
   "source": [
    "## Bokeh's ColumnDataSource"
   ]
  },
  {
   "cell_type": "markdown",
   "metadata": {},
   "source": [
    "### stage1_3.py"
   ]
  },
  {
   "cell_type": "code",
   "execution_count": 1,
   "metadata": {},
   "outputs": [],
   "source": [
    "# import numpy as np\n",
    "import pandas as pd\n",
    "\n",
    "# from bokeh.charts import Bar\n",
    "from bokeh.io import output_file, show\n",
    "from bokeh.plotting import ColumnDataSource, figure\n",
    "\n",
    "# output_file('./bokeh_result/population.html')\n",
    "output_file('./bokeh_result/pop-life.html')\n",
    "\n",
    "file = './bokeh_dataset/country-pops.csv'\n",
    "\n",
    "countries = pd.read_csv(file, nrows=5)\n",
    "# countries_array = np.array(countries.head)\n",
    "\n",
    "# print(countries_array)\n",
    "\n",
    "# bar_chart = Bar(countries, 'Country_English', values='Population',\n",
    "#                title='Population', legend=False)\n",
    "\n",
    "# show(bar_chart)\n",
    "\n",
    "country_data = ColumnDataSource(countries)\n",
    "\n",
    "plot = figure(x_axis_label='Population', y_axis_label='Life Expectancy')\n",
    "\n",
    "plot.circle(x='Population', y='Life_expectancy', source=country_data, size=15)\n",
    "\n",
    "show(plot)"
   ]
  },
  {
   "cell_type": "markdown",
   "metadata": {},
   "source": [
    "## Colors and Legends"
   ]
  },
  {
   "cell_type": "code",
   "execution_count": 4,
   "metadata": {},
   "outputs": [
    {
     "name": "stderr",
     "output_type": "stream",
     "text": [
      "INFO:bokeh.core.state:Session output file './bokeh_result/color_mapper.html' already exists, will be overwritten.\n"
     ]
    }
   ],
   "source": [
    "import pandas as pd\n",
    "\n",
    "from bokeh.io import output_file, show\n",
    "from bokeh.plotting import ColumnDataSource, figure\n",
    "from bokeh.models import CategoricalColorMapper\n",
    "\n",
    "output_file('./bokeh_result/color_mapper.html')\n",
    "\n",
    "file = './bokeh_dataset/country-pops.csv'\n",
    "\n",
    "countries = pd.read_csv(file)\n",
    "\n",
    "country_data = ColumnDataSource(countries)\n",
    "\n",
    "color_mapper = CategoricalColorMapper(factors=['Asia', 'Africa', 'Antarctica',\n",
    "                                              'Australia', 'Central America',\n",
    "                                              'Europe', 'North America',\n",
    "                                              'Oceania', 'South America'],\n",
    "                                     palette=['#00FF00', '#FFD343',\n",
    "                                             'darkgray', 'brown', 'cyan',\n",
    "                                             'crimson', 'red', '#0000FF',\n",
    "                                             'purple'])\n",
    "\n",
    "plot = figure(x_axis_label='Population', y_axis_label='Life Expectancy')\n",
    "\n",
    "plot.diamond(x='Population', y='Life_expectancy', source=country_data, size=10,\n",
    "            color=dict(field='Continent', transform=color_mapper), \n",
    "            legend='Continent')\n",
    "plot.legend.location = 'bottom_right'\n",
    "plot.legend.background_fill_color = 'lightgray'\n",
    "\n",
    "show(plot)"
   ]
  },
  {
   "cell_type": "markdown",
   "metadata": {},
   "source": [
    "## Hover Tools"
   ]
  },
  {
   "cell_type": "code",
   "execution_count": 6,
   "metadata": {},
   "outputs": [
    {
     "name": "stderr",
     "output_type": "stream",
     "text": [
      "INFO:bokeh.core.state:Session output file './bokeh_result/color_mapper_hover.html' already exists, will be overwritten.\n"
     ]
    }
   ],
   "source": [
    "import pandas as pd\n",
    "\n",
    "from bokeh.io import output_file, show\n",
    "from bokeh.plotting import ColumnDataSource, figure\n",
    "from bokeh.models import CategoricalColorMapper, HoverTool\n",
    "\n",
    "output_file('./bokeh_result/color_mapper_hover.html')\n",
    "\n",
    "file = './bokeh_dataset/country-pops.csv'\n",
    "\n",
    "countries = pd.read_csv(file)\n",
    "\n",
    "country_data = ColumnDataSource(countries)\n",
    "\n",
    "color_mapper = CategoricalColorMapper(factors=['Asia', 'Africa', 'Antarctica',\n",
    "                                              'Australia', 'Central America',\n",
    "                                              'Europe', 'North America',\n",
    "                                              'Oceania', 'South America'],\n",
    "                                     palette=['#00FF00', '#FFD343',\n",
    "                                             'darkgray', 'brown', 'cyan',\n",
    "                                             'crimson', 'red', '#0000FF',\n",
    "                                             'purple'])\n",
    "\n",
    "plot = figure(x_axis_label='Population', y_axis_label='Life Expectancy',\n",
    "             tools='pan,wheel_zoom, box_zoom, reset, hover, save',\n",
    "             title='Populataion vs Life Expectancy')\n",
    "\n",
    "plot.diamond(x='Population', y='Life_expectancy', source=country_data, size=10,\n",
    "            color=dict(field='Continent', transform=color_mapper), \n",
    "            legend='Continent')\n",
    "\n",
    "hover = plot.select_one(HoverTool)\n",
    "\n",
    "hover.tooltips = [('Country Name English', '@Country_English'),\n",
    "                 ('Population', '@Population'),\n",
    "                 ('Life Expectancy (years)', '@Life_expectancy')]\n",
    "plot.legend.location = 'bottom_right'\n",
    "plot.legend.background_fill_color = 'lightgray'\n",
    "\n",
    "show(plot)"
   ]
  },
  {
   "cell_type": "markdown",
   "metadata": {},
   "source": [
    "## Linking Data"
   ]
  },
  {
   "cell_type": "code",
   "execution_count": 11,
   "metadata": {},
   "outputs": [],
   "source": [
    "import pandas as pd\n",
    "\n",
    "from bokeh.io import output_file, show\n",
    "from bokeh.plotting import ColumnDataSource, figure\n",
    "from bokeh.models import CategoricalColorMapper, HoverTool\n",
    "from bokeh.layouts import column, row\n",
    "\n",
    "output_file('./bokeh_result/linking_data_4.html')\n",
    "\n",
    "file = './bokeh_dataset/country-pops.csv'\n",
    "\n",
    "countries = pd.read_csv(file)\n",
    "\n",
    "country_data = ColumnDataSource(countries)\n",
    "\n",
    "color_mapper = CategoricalColorMapper(factors=['Asia', 'Africa', 'Antarctica',\n",
    "                                              'Australia', 'Central America',\n",
    "                                              'Europe', 'North America',\n",
    "                                              'Oceania', 'South America'],\n",
    "                                     palette=['#00FF00', '#FFD343',\n",
    "                                             'darkgray', 'brown', 'cyan',\n",
    "                                             'crimson', 'red', '#0000FF',\n",
    "                                             'purple'])\n",
    "\n",
    "TOOLTIPS = 'pan,wheel_zoom, box_zoom, reset, hover, save'\n",
    "\n",
    "\n",
    "plot_life_expect = figure(x_axis_label='Population', y_axis_label='Life Expectancy',\n",
    "             tools=TOOLTIPS,\n",
    "             title='Populataion vs Life Expectancy')\n",
    "\n",
    "plot_birth_rate = figure(x_axis_label='Population', y_axis_label='Birth Rate',\n",
    "                        title='Population vs Birth Rate',\n",
    "                        tools=TOOLTIPS)\n",
    "\n",
    "plot_death_rate = figure(x_axis_label='Population', y_axis_label='Death Rate',\n",
    "                        title='Population vs Death Rate',\n",
    "                        tools=TOOLTIPS)\n",
    "\n",
    "\n",
    "plot_birth_rate.circle(x='Population', y='Birthrate', source=country_data,\n",
    "                      size=10,\n",
    "                      color=dict(field='Continent', transform=color_mapper),\n",
    "                      legend='Continent')\n",
    "\n",
    "plot_death_rate.triangle(x='Population', y='Deathrate', source=country_data,\n",
    "                        size=10,\n",
    "                        color=dict(field='Continent', transform=color_mapper),\n",
    "                        legend='Continent')\n",
    "\n",
    "plot_life_expect.diamond(x='Population', y='Life_expectancy', source=country_data, size=10,\n",
    "            color=dict(field='Continent', transform=color_mapper), \n",
    "            legend='Continent')\n",
    "\n",
    "\n",
    "hover_plot_life_expect = plot_life_expect.select_one(HoverTool)\n",
    "hover_plot_life_expect.tooltips = [('Country Name English', '@Country_English'),\n",
    "                 ('Population', '@Population'),\n",
    "                 ('Life Expectancy (years)', '@Life_expectancy')]\n",
    "\n",
    "hover_plot_birth_rate = plot_birth_rate.select_one(HoverTool)\n",
    "hover_plot_birth_rate.tooltips = [('Population', '@Population'),\n",
    "                                 ('Birth Rate', '@Birthrate')]\n",
    "\n",
    "hover_plot_death_rate = plot_death_rate.select_one(HoverTool)\n",
    "hover_plot_death_rate.tooltips = [('Population', '@Population'),\n",
    "                                 ('Death Rate', '@Deathrate')]\n",
    "\n",
    "\n",
    "plot_life_expect.legend.location = 'bottom_right'\n",
    "plot_life_expect.legend.background_fill_color = 'lightgray'\n",
    "plot_birth_rate.legend.location = 'bottom_right'\n",
    "plot_birth_rate.legend.background_fill_color = 'lightgray'\n",
    "plot_death_rate.legend.location = 'bottom_right'\n",
    "plot_death_rate.legend.background_fill_color = 'lightgray'\n",
    "\n",
    "\n",
    "plot_birth_rate.x_range = plot_life_expect.x_range\n",
    "plot_death_rate.x_range = plot_life_expect.x_range\n",
    "\n",
    "show(row(column(plot_life_expect, plot_birth_rate), column(plot_death_rate)))"
   ]
  },
  {
   "cell_type": "markdown",
   "metadata": {},
   "source": [
    "## Plotting the World"
   ]
  },
  {
   "cell_type": "code",
   "execution_count": 14,
   "metadata": {},
   "outputs": [
    {
     "name": "stderr",
     "output_type": "stream",
     "text": [
      "INFO:bokeh.core.state:Session output file './bokeh_result/shapes.html' already exists, will be overwritten.\n"
     ]
    }
   ],
   "source": [
    "from bokeh.layouts import row\n",
    "from bokeh.plotting import figure, output_file, show\n",
    "\n",
    "output_file('./bokeh_result/shapes.html')\n",
    "\n",
    "plot = figure(plot_width=400, plot_height=400, title='Shape')\n",
    "\n",
    "plot_multiple = figure(plot_width=400, plot_height=400, title=\"Multiple Shapes\")\n",
    "\n",
    "plot.patch([1, 2, 3, 4,], [7, 12, 9, 3], color='#2B5B84', alpha=0.7, \n",
    "           line_width=2)\n",
    "\n",
    "plot_multiple.patches([[1, 1, 4, 4], [3, 5, 9]],\n",
    "                     [[1, 4, 4, 1], [1, 9, 3]],\n",
    "                     color=['#5FCF80', '#637A91'],\n",
    "                     alpha=[0.7, 0.3],\n",
    "                     line_width=[2, 3])\n",
    "\n",
    "show(row(plot, plot_multiple))\n"
   ]
  },
  {
   "cell_type": "markdown",
   "metadata": {},
   "source": [
    "### world_map.py"
   ]
  },
  {
   "cell_type": "code",
   "execution_count": 29,
   "metadata": {},
   "outputs": [],
   "source": [
    "def get_coordinates(features):\n",
    "    depth = lambda L: isinstance(L, list) and max(map(depth, L))+1\n",
    "    country_id = []\n",
    "    longitudes = []\n",
    "    latitudes = []\n",
    "\n",
    "    for feature in json_data['features']:\n",
    "        coordinates = feature['geometry']['coordinates']\n",
    "        number_dimensions = depth(coordinates)\n",
    "        # one border\n",
    "        if number_dimensions == 3:\n",
    "            country_id.append(feature['id'])\n",
    "            points = np.array(coordinates[0], 'f')\n",
    "            longitudes.append(points[:, 0])\n",
    "            latitudes.append(points[:, 1])\n",
    "        # several borders\n",
    "        else:\n",
    "            for shape in coordinates:\n",
    "                country_id.append(feature['id'])\n",
    "                points = np.array(shape[0], 'f')\n",
    "                longitudes.append(points[:, 0])\n",
    "                latitudes.append(points[:, 1])\n",
    "    return country_id, longitudes, latitudes"
   ]
  },
  {
   "cell_type": "code",
   "execution_count": 35,
   "metadata": {},
   "outputs": [
    {
     "name": "stderr",
     "output_type": "stream",
     "text": [
      "/home/dockeruser/anaconda3/lib/python3.6/site-packages/bokeh/core/json_encoder.py:73: FutureWarning: pandas.tslib is deprecated and will be removed in a future version.\n",
      "You can access Timestamp as pandas.Timestamp\n",
      "  if pd and isinstance(obj, pd.tslib.Timestamp):\n"
     ]
    }
   ],
   "source": [
    "import pandas as pd\n",
    "import numpy as np\n",
    "import requests\n",
    "\n",
    "from bokeh.io import output_file, show\n",
    "\n",
    "from bokeh.models import HoverTool\n",
    "from bokeh.plotting import ColumnDataSource, figure\n",
    "\n",
    "output_file('./bokeh_result/world_map_hover.html', title='World Map')\n",
    "\n",
    "url = 'https://raw.githubusercontent.com/johan/world.geo.json/master/countries.geo.json'\n",
    "\n",
    "TOOLS = 'pan, wheel_zoom, box_zoom, reset, hover, save'\n",
    "\n",
    "r = requests.get(url)\n",
    "json_data = r.json()\n",
    "\n",
    "country_id, lats, longs = get_coordinates(json_data['features'])\n",
    "\n",
    "country_coords = []\n",
    "\n",
    "for index, country in enumerate(country_id):\n",
    "    land_mass = {'country_code': country, 'latitudes': lats[index],\n",
    "                'longitudes': longs[index]}\n",
    "    country_coords.append(land_mass)\n",
    "\n",
    "country_maps = pd.DataFrame(country_coords)\n",
    "\n",
    "input_file = './bokeh_dataset/country-pops.csv'\n",
    "country_populations= pd.read_csv(input_file)\n",
    "\n",
    "world_map_with_data = country_populations.merge(country_maps,\n",
    "                                               left_on='ISO_3166-1_alpha3',\n",
    "                                               right_on='country_code',\n",
    "                                               how='outer')\n",
    "\n",
    "map_data = ColumnDataSource(world_map_with_data)\n",
    "    \n",
    "world_map_plot = figure(plot_width=900, plot_height=600, title='World Map',\n",
    "                       tools=TOOLS,\n",
    "                       x_range=(-180, 180),\n",
    "                       y_range=(-90, 90))\n",
    "\n",
    "world_map_plot.patches(xs='latitudes', \n",
    "                      ys='longitudes',\n",
    "                      source=map_data,\n",
    "                      fill_color='#F1EEF6',\n",
    "                      fill_alpha=0.7,\n",
    "                      line_width=2)\n",
    "hover = world_map_plot.select_one(HoverTool)\n",
    "\n",
    "hover.tooltips = [('Country Name English', '@Country_English'),\n",
    "                 ('Population', '@Population'),\n",
    "                 ('Life Expectancy (years)', '@Life_expectancy'),\n",
    "                 ]\n",
    "show(world_map_plot)\n"
   ]
  }
 ],
 "metadata": {
  "kernelspec": {
   "display_name": "Python 3",
   "language": "python",
   "name": "python3"
  },
  "language_info": {
   "codemirror_mode": {
    "name": "ipython",
    "version": 3
   },
   "file_extension": ".py",
   "mimetype": "text/x-python",
   "name": "python",
   "nbconvert_exporter": "python",
   "pygments_lexer": "ipython3",
   "version": "3.6.2"
  }
 },
 "nbformat": 4,
 "nbformat_minor": 2
}
