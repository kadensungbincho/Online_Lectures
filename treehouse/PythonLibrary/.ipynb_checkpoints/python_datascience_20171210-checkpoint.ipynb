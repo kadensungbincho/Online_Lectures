{
 "cells": [
  {
   "cell_type": "markdown",
   "metadata": {},
   "source": [
    "# Loading Raw Data"
   ]
  },
  {
   "cell_type": "markdown",
   "metadata": {},
   "source": [
    "#### Numpy"
   ]
  },
  {
   "cell_type": "code",
   "execution_count": null,
   "metadata": {
    "collapsed": true
   },
   "outputs": [],
   "source": [
    "import csv\n",
    "\n",
    "def open_with_csv(fielname, d='\\t'):\n",
    "    data = []\n",
    "    with open(filename, encoding='utf-8') as tsvin:\n",
    "        tie_reader = csv.reader(tsvin, delimieter=d)\n",
    "        for line in tie_reader:\n",
    "            data.append(line)\n",
    "    return data\n",
    "\n",
    "data_from_csv = open_with_csv('data.csv')\n",
    "print(data_from_csv[0])"
   ]
  },
  {
   "cell_type": "code",
   "execution_count": 3,
   "metadata": {
    "collapsed": true
   },
   "outputs": [],
   "source": [
    "FIELDNAMES = ['', 'id', 'priceLabel', 'name', 'brandId', \\\n",
    "              'brandName', 'imageLink', 'desc', 'vendor', \\\n",
    "              'patterned', 'material']\n",
    "\n",
    "DATATYPES = [('myint', 'i'), ('myid', 'i'), ('price', 'f8'), \\\n",
    "             ('name', 'a200'), ('brandId', '<i8'), \\\n",
    "             ('brandName', 'a200'), ('imageUrl', '|S500'), \\\n",
    "             ('description', '|S900'), ('vendor', '|S100'), \\\n",
    "             ('pattern', '|S50'), ('material', '|S50'), ]\n",
    "\n",
    "def load_data(filename, d='\\t;'):\n",
    "    my_csv = np.genfromtxt(filename, delimiter=d, skip_header=1, invalid_raise=False, names='FILEDNAMES',\n",
    "                  dtype=DATATYPES)\n",
    "    return my_csv\n",
    "\n",
    "my_csv = load_data('data.csv')"
   ]
  },
  {
   "cell_type": "code",
   "execution_count": null,
   "metadata": {
    "collapsed": true
   },
   "outputs": [],
   "source": []
  }
 ],
 "metadata": {
  "kernelspec": {
   "display_name": "Python 3",
   "language": "python",
   "name": "python3"
  },
  "language_info": {
   "codemirror_mode": {
    "name": "ipython",
    "version": 3
   },
   "file_extension": ".py",
   "mimetype": "text/x-python",
   "name": "python",
   "nbconvert_exporter": "python",
   "pygments_lexer": "ipython3",
   "version": "3.6.2"
  }
 },
 "nbformat": 4,
 "nbformat_minor": 2
}
