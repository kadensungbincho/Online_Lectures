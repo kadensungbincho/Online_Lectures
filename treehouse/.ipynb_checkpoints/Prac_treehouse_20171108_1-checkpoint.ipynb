{
 "cells": [
  {
   "cell_type": "code",
   "execution_count": 3,
   "metadata": {},
   "outputs": [
    {
     "name": "stdout",
     "output_type": "stream",
     "text": [
      "Enter 'q' to quit.\n",
      "a) Add an entry\n",
      "v) View previous entries\n",
      "s) None\n",
      "Action: a\n",
      "Enter yout entry. Press ctrl+d when finished.\n",
      "Enter 'q' to quit.\n",
      "a) Add an entry\n",
      "v) View previous entries\n",
      "s) None\n",
      "Action: q\n"
     ]
    }
   ],
   "source": [
    "#! /usr/bin/env python3\n",
    "\n",
    "from collections import OrderedDict\n",
    "import datetime\n",
    "import sys\n",
    "\n",
    "from peewee import *\n",
    "\n",
    "db = SqliteDatabase('diary.db')\n",
    "\n",
    "\n",
    "class Entry(Model):\n",
    "    content = TextField()\n",
    "    timestamp = DateTimeField(default=datetime.datetime.now)\n",
    "    # content\n",
    "    # timestamp\n",
    "    \n",
    "    \n",
    "    class Meta:\n",
    "        database = db\n",
    "        \n",
    "        \n",
    "def initialize():\n",
    "    \"\"\"Create the database and the table if they don't extist.\"\"\"\n",
    "    db.connect()\n",
    "    db.create_tables([Entry], safe=True)\n",
    "    \n",
    "\n",
    "        \n",
    "def menu_loop():\n",
    "    \"\"\"show the menu\"\"\"\n",
    "    choice = None   # setting choice variable, unlike Java, it need default\n",
    "    \n",
    "    while choice != 'q':\n",
    "        print(\"Enter 'q' to quit.\")\n",
    "        for key, value in menu.items():\n",
    "            print('{}) {}'.format(key, value.__doc__))\n",
    "        choice = input('Action: ').lower().strip()\n",
    "        \n",
    "        if choice in menu:\n",
    "            menu[choice]()\n",
    "            \n",
    "\n",
    "def add_entry():\n",
    "    \"\"\"Add an entry\"\"\"\n",
    "    print(\"Enter yout entry. Press ctrl+d when finished.\")\n",
    "    data = sys.stdin.read().strip()\n",
    "    \n",
    "    if data:\n",
    "        if input('Save entry? [Y/n] ').lower() != 'n':\n",
    "            Entry.create(content=data)\n",
    "            print(\"Saved successfully!\")\n",
    "    \n",
    "    \n",
    "    \n",
    "def view_entries(search_query=None):\n",
    "    \"\"\"View previous entries\"\"\"\n",
    "    entries = Entry.select().order_by(Entry.timestamp.desc())\n",
    "    if search_query:\n",
    "        entries = entries.where(Entry.content.contains(search_query))\n",
    "    \n",
    "    for entry in entries:\n",
    "        timestamp = entry.timestamp.strftime('%A %B %d, %Y %I : %M%p')\n",
    "        print(timestamp)\n",
    "        print('='*len(timestamp))\n",
    "        print(entry.content)\n",
    "        print('n) next entry')\n",
    "        print('q) retrun to main menu')\n",
    "        \n",
    "        next_action = input('Action: [Nq] ').lower().strip()\n",
    "        if next_action == 'q':\n",
    "            break\n",
    "    \n",
    "def search_entries():\n",
    "    \"\"\"Search entries for a string.\"\"\"\n",
    "    view_entries(input('Search query: '))\n",
    "    \n",
    "\n",
    "    \n",
    "def delete_entry(entry):\n",
    "    \"\"\"Delete and entry\"\"\"\n",
    "    \n",
    "    \n",
    "menu =OrderedDict([\n",
    "    ('a', add_entry),\n",
    "    ('v', view_entries),\n",
    "    ('s', search_entries),\n",
    "    \n",
    "])\n",
    "    \n",
    "    \n",
    "if __name__ == '__main__':\n",
    "    initialize()\n",
    "    menu_loop()"
   ]
  },
  {
   "cell_type": "markdown",
   "metadata": {},
   "source": [
    "### search query of peewee\n",
    "\n",
    "<pre> SELECT * FROM entry WHERE content LIKE '%search_query%'\n",
    "        ORDER BY timestamp DESC </pre>"
   ]
  },
  {
   "cell_type": "markdown",
   "metadata": {},
   "source": [
    "### python .py to run everywhere\n",
    "you should use shebang mark on the top(#! addr) and\n",
    "change the authority of the file (chmod +x ~.py) \n",
    "and it works\n"
   ]
  },
  {
   "cell_type": "markdown",
   "metadata": {},
   "source": [
    "# By kenneth"
   ]
  }
 ],
 "metadata": {
  "kernelspec": {
   "display_name": "Python 3",
   "language": "python",
   "name": "python3"
  },
  "language_info": {
   "codemirror_mode": {
    "name": "ipython",
    "version": 3
   },
   "file_extension": ".py",
   "mimetype": "text/x-python",
   "name": "python",
   "nbconvert_exporter": "python",
   "pygments_lexer": "ipython3",
   "version": "3.6.2"
  }
 },
 "nbformat": 4,
 "nbformat_minor": 2
}
