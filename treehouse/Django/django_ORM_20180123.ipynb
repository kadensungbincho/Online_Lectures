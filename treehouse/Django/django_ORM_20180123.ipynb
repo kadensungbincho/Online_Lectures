{
 "cells": [
  {
   "cell_type": "markdown",
   "metadata": {},
   "source": [
    "# Restricting Results"
   ]
  },
  {
   "cell_type": "markdown",
   "metadata": {},
   "source": [
    "# Filter and Exclude"
   ]
  },
  {
   "cell_type": "markdown",
   "metadata": {},
   "source": [
    "- More on filter() and exclude().\n",
    "\n",
    "Model.objects.filter(attribute__condition=value)\n",
    "\n",
    "The conditions are called field lookups and there are a lot of them. The ones I seem to use the most often are gte (greater than or equal to), lte (less than or equal to), in (uh, just like Python's in keyword), and icontains (case-insensitive in for strings). I'm sure you'll find some that you love, too.\n",
    "\n",
    "The condition can also be a related model, so, for example, if C has a foreign key to B and B has a foreign key to A, you could do: C.objects.filter(b__a__id__in=[1, 5, 10]) to get all of the C objects that have a B object with an A object whose id attribute is 1, 5, or 10. Yes, this is an over-engineered, overly-complicated scenario, but you'll be surprised how often similar things come up.\n",
    "\n",
    "If you're coding along and the form isn't submitting when you click the button, change the button's type attribute to be \"submit\" (or, better yet, turn it into <input type=\"submit\"> with all of the other classes applied).\n",
    "\n"
   ]
  },
  {
   "cell_type": "code",
   "execution_count": 12,
   "metadata": {
    "collapsed": true
   },
   "outputs": [],
   "source": [
    "import datetime"
   ]
  },
  {
   "cell_type": "code",
   "execution_count": 13,
   "metadata": {},
   "outputs": [],
   "source": [
    "back = datetime.datetime.today() - datetime.timedelta(days=180)"
   ]
  },
  {
   "cell_type": "code",
   "execution_count": 14,
   "metadata": {},
   "outputs": [
    {
     "data": {
      "text/plain": [
       "datetime.datetime(2017, 7, 27, 10, 5, 5, 966267)"
      ]
     },
     "execution_count": 14,
     "metadata": {},
     "output_type": "execute_result"
    }
   ],
   "source": [
    "back"
   ]
  },
  {
   "cell_type": "markdown",
   "metadata": {},
   "source": [
    "# Creation of records"
   ]
  },
  {
   "cell_type": "markdown",
   "metadata": {},
   "source": [
    "- Docs on .create(), .bulk_create(), and get_or_create().\n",
    "\n",
    "When you're using get_or_create(), you'll probably want to assign the object that comes back and the boolean for whether or not it was created in some variables.\n",
    "\n",
    "course, created = Course.objects.get_or_create(title=\"REST API Basics\") will divide up the values for you, into the two variables. If you don't need the created value, though, you can just throw it away with an underscore: course, _ = Course.objects.get_or_create(title=\"REST API Basics\")."
   ]
  },
  {
   "cell_type": "markdown",
   "metadata": {},
   "source": [
    "# Django F object"
   ]
  },
  {
   "cell_type": "markdown",
   "metadata": {},
   "source": [
    "- Check out the F() objects documentation.\n",
    "\n",
    "F objects are really handy when doing annotations and aggregations, which we'll get to in a couple of videos."
   ]
  },
  {
   "cell_type": "markdown",
   "metadata": {},
   "source": [
    "# Mind your Ps and Qs"
   ]
  },
  {
   "cell_type": "markdown",
   "metadata": {},
   "source": [
    "# Aggregate and Annotate"
   ]
  },
  {
   "cell_type": "markdown",
   "metadata": {},
   "source": [
    " # Related Records : prefetch"
   ]
  },
  {
   "cell_type": "markdown",
   "metadata": {},
   "source": [
    "- prefetch_related : is for getting lots of other items. This is the method you want if you're following a reverce relationship like quizzed questions.\n",
    "- select_related : as you can probably guess is for getting smaller amounts of items, usually just one. Usually this will relate to a foreign key field in the model you're originally selecting, like going from question to quiz practice with these two and..."
   ]
  },
  {
   "cell_type": "markdown",
   "metadata": {},
   "source": [
    "- https://docs.djangoproject.com/en/1.9/ref/models/querysets/#select-related\n",
    "- https://docs.djangoproject.com/en/1.9/ref/models/querysets/#prefetch-related"
   ]
  },
  {
   "cell_type": "markdown",
   "metadata": {},
   "source": [
    "# Customizing Django Admin"
   ]
  },
  {
   "cell_type": "code",
   "execution_count": null,
   "metadata": {
    "collapsed": true
   },
   "outputs": [],
   "source": []
  }
 ],
 "metadata": {
  "kernelspec": {
   "display_name": "Python 3",
   "language": "python",
   "name": "python3"
  },
  "language_info": {
   "codemirror_mode": {
    "name": "ipython",
    "version": 3
   },
   "file_extension": ".py",
   "mimetype": "text/x-python",
   "name": "python",
   "nbconvert_exporter": "python",
   "pygments_lexer": "ipython3",
   "version": "3.6.2"
  }
 },
 "nbformat": 4,
 "nbformat_minor": 2
}
