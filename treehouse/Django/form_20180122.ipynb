{
 "cells": [
  {
   "cell_type": "markdown",
   "metadata": {},
   "source": [
    "# Form"
   ]
  },
  {
   "cell_type": "markdown",
   "metadata": {},
   "source": [
    "### Inline formset"
   ]
  },
  {
   "cell_type": "markdown",
   "metadata": {},
   "source": [
    "- inline formset  :https://docs.djangoproject.com/en/1.9/topics/forms/modelforms/#inline-formse\n",
    "- Form wizard : http://django-formtools.readthedocs.io/en/latest/wizard.html"
   ]
  },
  {
   "cell_type": "markdown",
   "metadata": {},
   "source": [
    "## Custom form media\n",
    "- http://whoisnicoleharris.com/2015/01/06/implementing-django-formsets.html\n",
    "- http://rubaxa.github.io/Sortable/"
   ]
  },
  {
   "cell_type": "markdown",
   "metadata": {},
   "source": [
    "# Django ORM"
   ]
  },
  {
   "cell_type": "markdown",
   "metadata": {},
   "source": [
    "- QuerySet : is a collection of records returned from the database.\n",
    "- it's lazy, : whatever works the lazy thing is going to do won't be done until we use the lazy thing. "
   ]
  },
  {
   "cell_type": "markdown",
   "metadata": {},
   "source": [
    "- fixture : https://docs.djangoproject.com/en/1.9/howto/initial-data/"
   ]
  },
  {
   "cell_type": "markdown",
   "metadata": {},
   "source": [
    "## Django Debug Toolbar"
   ]
  },
  {
   "cell_type": "code",
   "execution_count": null,
   "metadata": {
    "collapsed": true
   },
   "outputs": [],
   "source": []
  }
 ],
 "metadata": {
  "kernelspec": {
   "display_name": "Python 3",
   "language": "python",
   "name": "python3"
  },
  "language_info": {
   "codemirror_mode": {
    "name": "ipython",
    "version": 3
   },
   "file_extension": ".py",
   "mimetype": "text/x-python",
   "name": "python",
   "nbconvert_exporter": "python",
   "pygments_lexer": "ipython3",
   "version": "3.6.2"
  }
 },
 "nbformat": 4,
 "nbformat_minor": 2
}
