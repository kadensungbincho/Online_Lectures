{
 "cells": [
  {
   "cell_type": "markdown",
   "metadata": {},
   "source": [
    "http requests\n",
    "\n",
    "request-line - GET|POST [uri] HTTP/[version] - GET /xml HTTP/1.1\n",
    "\n",
    "Headers - [Header Name]: [Headr Value] -  Host: httpbin.org User-Agent: telnet\n",
    "           (each on its own line)          Accept-Language: en_US\n",
    "           \n",
    "Blank line\n",
    "\n",
    "Body\n",
    "(pay load)\n",
    "(optional, only for\n",
    "POST requests, \n",
    "note GET requests)"
   ]
  },
  {
   "cell_type": "code",
   "execution_count": null,
   "metadata": {
    "collapsed": true
   },
   "outputs": [],
   "source": [
    "Status-line - HTTP/[version] [status code] [status message] - HTTP/1.1 200 OK\n",
    "\n",
    "404 Page not found\n",
    "300 Page moved url\n",
    "500 Server error (something error on server)\n",
    "\n",
    "Headers - [Header Name] : [Header Value] - Server: nginx \n",
    "                                           Date: Thu, 05 Noc 2015 19:57:23 GMT\n",
    "                                           Content-Type: application/xml\n",
    "Body                                       xml or html depending on requests"
   ]
  },
  {
   "cell_type": "code",
   "execution_count": null,
   "metadata": {
    "collapsed": true
   },
   "outputs": [],
   "source": [
    "http is stateless \n",
    "No record of previous interactions, and each interaction is processed only \n",
    "with the information that comes with that particular interaction"
   ]
  },
  {
   "cell_type": "markdown",
   "metadata": {},
   "source": [
    "# request & response ex"
   ]
  },
  {
   "cell_type": "code",
   "execution_count": null,
   "metadata": {
    "collapsed": true
   },
   "outputs": [],
   "source": [
    "                       \n",
    "GET /get?company=Treehouse&city=Portland HTTP/1.1   # appending on uri    \n",
    "Host: httpbin.org                                           \n",
    "                                                            \n",
    "HTTP/1.1 200 OK                                             \n",
    "Connection: keep-alive                                      \n",
    "Server: meinheld/0.6.1                                      \n",
    "Date: Mon, 13 Nov 2017 04:59:54 GMT                         \n",
    "Content-Type: application/json                              \n",
    "Access-Control-Allow-Origin: *                              \n",
    "Access-Control-Allow-Credentials: true                      \n",
    "X-Powered-By: Flask                                         \n",
    "X-Processed-Time: 0.000693798065186                         \n",
    "Content-Length: 245                                         \n",
    "Via: 1.1 vegur                                              \n",
    "                                                            \n",
    "{                                                           \n",
    "  \"args\": {                                                 \n",
    "    \"city\": \"Portland\",                                     \n",
    "    \"company\": \"Treehouse\"                                  \n",
    "  },                                                        \n",
    "  \"headers\": {                                              \n",
    "    \"Connection\": \"close\",                                  \n",
    "    \"Host\": \"httpbin.org\"                                   \n",
    "  },                                                        \n",
    "  \"origin\": \"169.45.222.23\",                                \n",
    "  \"url\": \"http://httpbin.org/get?company=Treehouse&city=Port\n",
    "land\"                                                       \n",
    "}      "
   ]
  },
  {
   "cell_type": "markdown",
   "metadata": {},
   "source": [
    "# post"
   ]
  },
  {
   "cell_type": "markdown",
   "metadata": {},
   "source": [
    "post brings the change of the database or the URI of the request\n",
    "put the information in the payload not like get which in URI"
   ]
  },
  {
   "cell_type": "code",
   "execution_count": null,
   "metadata": {
    "collapsed": true
   },
   "outputs": [],
   "source": [
    "treehouse:~/workspace$ telnet httpbin.org 80                \n",
    "Trying 204.236.236.192...                                   \n",
    "Connected to httpbin.org.                                   \n",
    "Escape character is '^]'.                                   \n",
    "POST /post HTTP/1.1                                         \n",
    "Host: httpbin.org                                           \n",
    "Content-Length: 64                                          \n",
    "                                                            \n",
    "firstname=kaden&language=English     # contents are below the query"
   ]
  },
  {
   "cell_type": "markdown",
   "metadata": {},
   "source": [
    "# Web Browser Web server"
   ]
  },
  {
   "cell_type": "code",
   "execution_count": null,
   "metadata": {
    "collapsed": true
   },
   "outputs": [],
   "source": [
    "developer tools - network - click target on requests header and view source"
   ]
  },
  {
   "cell_type": "code",
   "execution_count": null,
   "metadata": {
    "collapsed": true
   },
   "outputs": [],
   "source": [
    "GET /html HTTP/1.1\n",
    "Host: httpbin.org\n",
    "Connection: keep-alive\n",
    "Pragma: no-cache\n",
    "Cache-Control: no-cache\n",
    "Upgrade-Insecure-Requests: 1\n",
    "User-Agent: Mozilla/5.0 (Windows NT 10.0; Win64; x64) AppleWebKit/537.36 (KHTML, like Gecko) Chrome/60.0.3112.90 Safari/537.36\n",
    "Accept: text/html,application/xhtml+xml,application/xml;q=0.9,image/webp,image/apng,*/*;q=0.8\n",
    "DNT: 1\n",
    "Accept-Encoding: gzip, deflate\n",
    "Accept-Language: en-US,en;q=0.8,ko-KR;q=0.6,ko;q=0.4,ja;q=0.2\n",
    "Cookie: _gauges_unique_hour=1; _gauges_unique_day=1; _gauges_unique_month=1; _gauges_unique_year=1; _gauges_unique=1\n",
    "Name\n",
    "html\n",
    "1 requests ❘ 4.0 KB transferred ❘ Finish: 270 ms ❘ DOMContentLoaded: 487 ms ❘ Load: 484 ms\n",
    "\n",
    "Console\n",
    "What's New\n",
    "\n",
    "\n",
    "\n",
    "top\n",
    "\n",
    "Filter\n",
    "Default levels\n",
    "\n",
    "﻿\n",
    "﻿\n",
    "\n",
    "​"
   ]
  },
  {
   "cell_type": "code",
   "execution_count": null,
   "metadata": {
    "collapsed": true
   },
   "outputs": [],
   "source": [
    "on response header and click view source"
   ]
  },
  {
   "cell_type": "code",
   "execution_count": null,
   "metadata": {
    "collapsed": true
   },
   "outputs": [],
   "source": [
    "HTTP/1.1 200 OK\n",
    "Connection: keep-alive\n",
    "Server: meinheld/0.6.1\n",
    "Date: Mon, 13 Nov 2017 05:37:24 GMT\n",
    "Content-Type: text/html; charset=utf-8\n",
    "Content-Length: 3741\n",
    "Access-Control-Allow-Origin: *\n",
    "Access-Control-Allow-Credentials: true\n",
    "X-Powered-By: Flask\n",
    "X-Processed-Time: 0.000461101531982\n",
    "Via: 1.1 vegur"
   ]
  },
  {
   "cell_type": "code",
   "execution_count": null,
   "metadata": {
    "collapsed": true
   },
   "outputs": [],
   "source": [
    "like stackoverflow.com if there're too much answer then click docs then you\n",
    "can get only the documents you requested"
   ]
  },
  {
   "cell_type": "code",
   "execution_count": null,
   "metadata": {
    "collapsed": true
   },
   "outputs": [],
   "source": [
    "URL : uniform resource location\n",
    "URI : uniform resource identifier\n",
    "    \n",
    "GET .xml HTTP/1.1  # xml is URI\n",
    "http://httpbin.org/xml  # URL protocol + hostname"
   ]
  },
  {
   "cell_type": "markdown",
   "metadata": {},
   "source": [
    "###### 6 importants things on form \n",
    "1. Form tags\n",
    "2. From method attribute - optional, defaults to \"get\n",
    "3. From action attribute\n",
    "4. From elements for users to porvide info\n",
    "5. Submit button = optional, triggered with Enter"
   ]
  },
  {
   "cell_type": "markdown",
   "metadata": {},
   "source": [
    "<form method=\"post\" action=\"/register\">\n",
    "    <input type=\"hidden\" name=\"couponcode\" value=\"ABC123\">\n",
    "    \n",
    "    <input type=\"text\" name=\"username\" placeholder=\"password\">\n",
    "    <input type=\"password\" name=\"password\" placeholder=\"password\">\n",
    "    \n",
    "    Language(s):\n",
    "    \n",
    "    <input type=\"checkbox\" name=\"lang\" value=\"html\">\n",
    "    <input type=\"checkbox\" name=\"lang\" value=\"css\">\n",
    "    <input type=\"checkbox\" name=\"lang\" value=\"java\">\n",
    "    \n",
    "    Preferred IDE/Editor\n",
    "    \n",
    "    <input type=\"radio\" name=\"ide\" value=\"intellij\">\n",
    "    ...\n",
    "    \n",
    "    How you found us:\n",
    "    <select name=\"referral\">\n",
    "        <option value=\"friend\">Friend</option>\n",
    "        \n",
    "    </select>\n",
    "    \n",
    "    Additional Notes:\n",
    "    \n",
    "    <textarea name=\"notes\" placeholder=\"more info about you></textarea>\n",
    "    <button type=\"submit\"> Register</button>\n",
    "    \n",
    "   </form>"
   ]
  }
 ],
 "metadata": {
  "kernelspec": {
   "display_name": "Python 3",
   "language": "python",
   "name": "python3"
  },
  "language_info": {
   "codemirror_mode": {
    "name": "ipython",
    "version": 3
   },
   "file_extension": ".py",
   "mimetype": "text/x-python",
   "name": "python",
   "nbconvert_exporter": "python",
   "pygments_lexer": "ipython3",
   "version": "3.6.2"
  }
 },
 "nbformat": 4,
 "nbformat_minor": 2
}
