{
 "cells": [
  {
   "cell_type": "markdown",
   "metadata": {},
   "source": [
    "- built-in tags & filters\n",
    "- "
   ]
  },
  {
   "cell_type": "markdown",
   "metadata": {},
   "source": [
    "# Built-in Tags and Filters"
   ]
  },
  {
   "cell_type": "markdown",
   "metadata": {},
   "source": [
    "- date filter : https://docs.djangoproject.com/en/1.8/ref/templates/builtins/#date"
   ]
  },
  {
   "cell_type": "markdown",
   "metadata": {},
   "source": [
    "wordcount - Counts the words (defined by whitespace) in the variable.\n",
    "\n",
    "truncatewords:X - Ends the variable after X words and appends an ellipsis if any content was cut off.\n",
    "\n",
    "urlize - Converts HTTP(S) and email addresses into HTML anchor tags with appropriate links."
   ]
  },
  {
   "cell_type": "markdown",
   "metadata": {},
   "source": [
    "# DIY custom tags"
   ]
  },
  {
   "cell_type": "markdown",
   "metadata": {},
   "source": [
    "template is Django's module for all things template-related. We'll use this several times in the course.\n",
    "\n",
    "template.Library is a class that lets us register new tags and filters through an instance of itself.\n",
    "\n",
    "register.simple_tag(tag_name) or @register.simple_tag - Registers a function as a simple tag. Simple tags don't include new templates, don't have an end tag, and don't assign values to context variables."
   ]
  },
  {
   "cell_type": "markdown",
   "metadata": {},
   "source": [
    "**tags** are more reusable!"
   ]
  },
  {
   "cell_type": "markdown",
   "metadata": {},
   "source": [
    "# Complex template tags\n",
    "- register.inclusion_tag(\"tag_template.html\")(tag_name) or @register.inclusion_tag(\"tag_template.html\") - Registers an inclusion tag. Inclusion tags render a template into wherever they're used."
   ]
  },
  {
   "cell_type": "markdown",
   "metadata": {},
   "source": [
    "# Custom Time Estimate Filter\n",
    "- pluralize - A filter that, by default, returns an \"s\" when attached to a number that's not 1, and nothing when the number is 1. You can provide different options if needed. More information is available in the official documentation.\n",
    "\n",
    "register.filter(\"filter_name\", filter_function) or @register.filter(\"filter_name\") - Registers a filter with the given name."
   ]
  },
  {
   "cell_type": "markdown",
   "metadata": {},
   "source": [
    "# Chaining Filters"
   ]
  },
  {
   "cell_type": "markdown",
   "metadata": {},
   "source": [
    "{{ word|lower|cap }} \n",
    "\n",
    "orderly applied"
   ]
  },
  {
   "cell_type": "markdown",
   "metadata": {},
   "source": [
    "markdown safe guard"
   ]
  }
 ],
 "metadata": {
  "kernelspec": {
   "display_name": "Python 3",
   "language": "python",
   "name": "python3"
  },
  "language_info": {
   "codemirror_mode": {
    "name": "ipython",
    "version": 3
   },
   "file_extension": ".py",
   "mimetype": "text/x-python",
   "name": "python",
   "nbconvert_exporter": "python",
   "pygments_lexer": "ipython3",
   "version": "3.6.2"
  }
 },
 "nbformat": 4,
 "nbformat_minor": 2
}
