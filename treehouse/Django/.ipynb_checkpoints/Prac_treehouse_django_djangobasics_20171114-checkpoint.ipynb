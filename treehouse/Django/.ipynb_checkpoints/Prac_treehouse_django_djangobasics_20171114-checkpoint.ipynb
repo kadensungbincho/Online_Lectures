{
 "cells": [
  {
   "cell_type": "markdown",
   "metadata": {},
   "source": [
    "MVC : model-view-controller framework\n",
    "Django doesn't call template views or functions that return rendered templates controllers\n",
    "\n",
    "instead, Django calls templates templates, the function that return rendered templates views"
   ]
  },
  {
   "cell_type": "code",
   "execution_count": null,
   "metadata": {
    "collapsed": true
   },
   "outputs": [],
   "source": [
    "vim views.py\n",
    "\n",
    "from django.http import HttpResponse\n",
    "\n",
    "def hello_world(request):\n",
    "    return HttpResponse(\"hello world\")\n"
   ]
  },
  {
   "cell_type": "code",
   "execution_count": null,
   "metadata": {
    "collapsed": true
   },
   "outputs": [],
   "source": [
    "url addition is needed in "
   ]
  }
 ],
 "metadata": {
  "kernelspec": {
   "display_name": "Python 3",
   "language": "python",
   "name": "python3"
  },
  "language_info": {
   "codemirror_mode": {
    "name": "ipython",
    "version": 3
   },
   "file_extension": ".py",
   "mimetype": "text/x-python",
   "name": "python",
   "nbconvert_exporter": "python",
   "pygments_lexer": "ipython3",
   "version": "3.6.2"
  }
 },
 "nbformat": 4,
 "nbformat_minor": 2
}
