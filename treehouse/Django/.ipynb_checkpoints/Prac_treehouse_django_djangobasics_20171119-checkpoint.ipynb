{
 "cells": [
  {
   "cell_type": "markdown",
   "metadata": {},
   "source": [
    "## step_detail view"
   ]
  },
  {
   "cell_type": "markdown",
   "metadata": {},
   "source": [
    "in /courses/views.py \n",
    "\n",
    "<pre>\n",
    "  3 from .models import Course, Step\n",
    "17 def step_detail(request, course_pk, step_pk):\n",
    " 18     step = get_object_or_404(Step, course_id=course_pk, pk=step_pk)\n",
    " 19     return render(request, 'courses/step_detail.html', {'step': step})\n",
    " \n",
    " </pre>\n",
    " \n",
    " \n",
    " in /courses/urls.py\n",
    " \n",
    " <pre>\n",
    "      6     url(r'(?P<course_pk>\\d+)/(?P<step_pk>\\d+)/$', views.step_detail),\n",
    " \n",
    " </pre>\n",
    " \n",
    " in courses/templates/courses/step_detail.html\n",
    " \n",
    " \n",
    " <pre>\n",
    "    1 {% extends \"layout.html\" %}\n",
    "  2\n",
    "  3 {% block title %}{{ step.title }} - {{ step.course.title }}{% endblock %}\n",
    "  4\n",
    "  5 {% block content %}\n",
    "  6 <article>\n",
    "  7     <h2>{{ step.course.title }}</h2>\n",
    "  8     <h3>{{ step.title }}</h3>\n",
    "  9     {{ step.content|linebreaks }}\n",
    " 10 </article>\n",
    " 11 {% endblock %}\n",
    " </pre>"
   ]
  },
  {
   "cell_type": "markdown",
   "metadata": {},
   "source": [
    "in /courses/models.py  add additional 1 line\n",
    "\n",
    "<pre>\n",
    " 15     content = models.TextField()\n",
    " </pre>\n",
    " \n",
    " since we changed the data model, we've changed the database\n",
    " \n",
    "change the database with a migration, but we got a new message\n",
    "\n",
    "\n",
    "<pre>\n",
    "    \\dockeruser@4fc6563981f2:~/hostname/workspace/git/kaden/dss/Practice/treehouse/learning_site$ python manage.py makemigrations courses\n",
    "    You are trying to add a non-nullable field 'content' to step without a default; we can't do that (the database needs something to populate existing rows).\n",
    "    Please select a fix:\n",
    "     1) Provide a one-off default now (will be set on all existing rows with a null value for this column)\n",
    "     2) Quit, and let me add a default in models.py\n",
    "    Select an option:\n",
    "\n",
    "</pre>"
   ]
  },
  {
   "cell_type": "markdown",
   "metadata": {},
   "source": [
    "we have existing rows when we migrate and the new category (content) should not be null, so django don't know what to do so just ask.\n",
    "\n",
    "so we offer a default\n",
    "\n",
    "\n",
    "<pre>\n",
    " 15     content = models.TextField(blank=True, default='')\n",
    " </pre>\n",
    " \n",
    " $ python manage.py migrate courses \n",
    " \\$ python manage.py migrate courses\n",
    " \n",
    " then check\n",
    " \n",
    " http://192.168.99.100:8000/courses/1/2/"
   ]
  },
  {
   "cell_type": "markdown",
   "metadata": {},
   "source": [
    "\n",
    "# Url template tag"
   ]
  },
  {
   "cell_type": "markdown",
   "metadata": {},
   "source": [
    "in /templates/layout.html\n",
    "\n",
    "<pre>\n",
    "  1 {% load static from staticfiles %}\n",
    "  2\n",
    "  3 <!doctype html>\n",
    "  4 <html>\n",
    "  5     <head>\n",
    "  6         <title>{% block title %}Well hello world!{% endblock %}</title>\n",
    "  7         <link rel=\"stylesheet\" href=\"{% static 'css/layout.css' %}\">\n",
    "  8     </head>\n",
    "  9     <body>\n",
    " 10         <div class=\"site-container\">\n",
    " 11             <nav>\n",
    " 12                 <a href=\"{% url 'views.hello_world' %}\">Home</a>\n",
    " 13             </nav>\n",
    " 14         {% block content %}<h1>Hello World!</h1>{% endblock %}\n",
    " 15         </div>\n",
    " 16     </body>\n",
    " 17 </html>\n",
    "</pre>\n",
    "\n",
    "\n",
    "for django version over 1.1 \n",
    "\n",
    "you should tag by using the name \n",
    "\n",
    "so in /learning_site/urls.py, set name for hello_world\n",
    "<pre>\n",
    "    26     url(r'^$', views.hello_world, name='hometag')\n",
    "</pre>\n",
    " \n",
    "\n",
    "and change in /templates/layout.html\n",
    "\n",
    "<pre>\n",
    " \n",
    "    12                 <a href=\"{% url 'hometag' %}\">Home</a>\n",
    " </pre>"
   ]
  },
  {
   "cell_type": "code",
   "execution_count": null,
   "metadata": {
    "collapsed": true
   },
   "outputs": [],
   "source": []
  }
 ],
 "metadata": {
  "kernelspec": {
   "display_name": "Python 3",
   "language": "python",
   "name": "python3"
  },
  "language_info": {
   "codemirror_mode": {
    "name": "ipython",
    "version": 3
   },
   "file_extension": ".py",
   "mimetype": "text/x-python",
   "name": "python",
   "nbconvert_exporter": "python",
   "pygments_lexer": "ipython3",
   "version": "3.6.2"
  }
 },
 "nbformat": 4,
 "nbformat_minor": 2
}
