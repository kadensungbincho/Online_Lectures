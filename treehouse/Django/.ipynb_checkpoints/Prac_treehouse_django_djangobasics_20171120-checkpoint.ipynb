{
 "cells": [
  {
   "cell_type": "markdown",
   "metadata": {},
   "source": [
    "# Models Test"
   ]
  },
  {
   "cell_type": "markdown",
   "metadata": {},
   "source": [
    "in /courses/tests.py\n",
    "\n",
    "<pre>\n",
    " 1 from django.test import TestCase\n",
    "  2 from django.utils import timezone\n",
    "  3\n",
    "  4 from .models import Course\n",
    "  5\n",
    "  6\n",
    "  7 class CourseModelTests(TestCase):\n",
    "  8     def test_course_creationg(self):\n",
    "  9         course = Course.objects.create(\n",
    " 10             title = \"Python regular Expression\",\n",
    " 11             description = \"Learn to write regular expressions in Python\"\n",
    " 12         )\n",
    " 13         now = timezone.now()\n",
    " 14         self.assertLess(course.created_at, now)\n",
    " </pre>\n",
    "\n",
    "\n",
    "\n",
    "- python manage.py test\n",
    "\n",
    "\n",
    "Creating test database for alias 'default'...\n",
    "System check identified no issues (0 silenced).\n",
    ".\n",
    "----------------------------------------------------------------------\n",
    "Ran 1 test in 0.002s\n",
    "\n",
    "OK\n",
    "Destroying test database for alias 'default'...\n",
    "dockeruser@4fc6563981f2:~/hostname/workspace/git/kaden/dss/Practice/treehouse/learning_site$"
   ]
  },
  {
   "cell_type": "markdown",
   "metadata": {},
   "source": [
    "from django.test import TestCase\n",
    "\n",
    "from .models import Writer\n",
    "\n",
    "class WriterModelTestCase(TestCase):\n",
    "    '''Tests for the Writer model'''\n",
    "    def test_attribute_in(self):\n",
    "        writer = Writer.objects.create(\n",
    "            name = \"Kadencho\",\n",
    "            email = \"dfdf@gmail.com\",\n",
    "            bio = \"that's really awesome to be\"\n",
    "        )\n",
    "        self.assertIn(writer.email, writer.mailto())"
   ]
  },
  {
   "cell_type": "markdown",
   "metadata": {},
   "source": [
    "# View Test\n",
    "you can test URL and view at the same time\n",
    "URl and view are so tightly bound in django, so it is preferable to test both together unlike other testing which prefers one-test-for-one-function rule."
   ]
  },
  {
   "cell_type": "markdown",
   "metadata": {},
   "source": [
    "using setUp method start beginning of the each test, and it just creates some things for us"
   ]
  },
  {
   "cell_type": "markdown",
   "metadata": {},
   "source": [
    "django.core.urlresolvers.reverse() takes a URL name and reverses it to the correct URL string. More information\n",
    "\n",
    "self.client acts like a web browser and lets you make requests to URLs, both inside and outside of your Django project.\n",
    "\n",
    "assertEqual(a, b) checks that a and b are equal to each other.\n",
    "\n",
    "assertIn(a, b) checks that a is contained in b.\n",
    "\n",
    "\n",
    "https://docs.djangoproject.com/en/1.8/ref/urlresolvers/#reverse"
   ]
  },
  {
   "cell_type": "markdown",
   "metadata": {},
   "source": [
    "1 from django.core.urlresolvers import reverse\n",
    "  2 from django.test import TestCase\n",
    "  3 from django.utils import timezone\n",
    "  4\n",
    "  5 from .models import Course, Step\n",
    "  6\n",
    "  7\n",
    "  8 class CourseModelTests(TestCase):\n",
    "  9     def test_course_creation(self):\n",
    " 10         course = Course.objects.create(\n",
    " 11             title = \"Python regular Expression\",\n",
    " 12             description = \"Learn to write regular expressions in Python\"\n",
    " 13         )\n",
    " 14         now = timezone.now()\n",
    " 15         self.assertLess(course.created_at, now)\n",
    " 16\n",
    " 17\n",
    " 18 class StepModelTests(TestCase):\n",
    " 19     def setUp(self):\n",
    " 20         self.course = Course.objects.create(\n",
    " 21             title = \"Python Testing\",\n",
    " 22             description = \"Learn to write tests in Python\"\n",
    " 23         )\n",
    " 24\n",
    " 25     def test_step_creation(self):\n",
    " 26         step = Step.objects.create(\n",
    " 27             title = \"Introduction to Doctests\",\n",
    " 28             description = \"Learn to write tests in your docstrings\",\n",
    " 29             course = self.course\n",
    " 30         )\n",
    " 31         self.assertIn(step, self.course.step_set.all())\n",
    " 32\n",
    " 33\n",
    " 34 class CourseViewsTests(TestCase):\n",
    " 35     def setUp(self):\n",
    " 36         self.course = Course.objects.create(\n",
    " 37             title = \"Python Testing\",\n",
    " 38             description = \"Learn to write tests in Python\",\n",
    " 39         )\n",
    " 40         self.course2 = Course.objects.create(\n",
    " 41             title = \"New Coruse\",\n",
    " 42             description = \"A new course\"\n",
    " 43         )\n",
    " 44         self.step = Step.objects.create(\n",
    " 45             title = \"Introduction to Doctests\",\n",
    " 46             description = \"Learn to write test in your docstrings.\",\n",
    " 47             course = self.course\n",
    " 48         )\n",
    " 49\n",
    " 50     def test_course_list_view(self):\n",
    " 51         resp = self.client.get(reverse('courses:list'))\n",
    " 52         self.assertEqual(resp.status_code, 200)\n",
    " 53         self.assertIn(self.course, resp.context['courses'])\n",
    " 54         self.assertIn(self.course2, resp.context['courses'])"
   ]
  },
  {
   "cell_type": "markdown",
   "metadata": {},
   "source": [
    "additional 2 tests for the other views. Points are on the reverse's arguments using args & kwargs"
   ]
  },
  {
   "cell_type": "markdown",
   "metadata": {},
   "source": [
    " 56     def test_course_detail_view(self):\n",
    " 57         resp = self.client.get(reverse('courses:detail', args=[self.course.pk])    `)\n",
    " 58         self.assertEqual(resp.status_code, 200)\n",
    " 59         self.assertEqual(self.course, resp.context['course'])\n",
    " 60\n",
    " 61     def test_step_detail_view(self):\n",
    " 62         resp = self.client.get(reverse('courses:step', kwargs={'course_pk' : se    lf.course.pk, 'step_pk' : self.step.pk}))\n",
    " 63         self.assertEqual(resp.status_code, 200)\n",
    " 64         self.assertEqual(self.step, resp.context['step'])`"
   ]
  },
  {
   "cell_type": "markdown",
   "metadata": {},
   "source": [
    "# Template Test\n",
    "- assertTemplateUsed\n",
    "- assertContains"
   ]
  },
  {
   "cell_type": "markdown",
   "metadata": {},
   "source": [
    "in /courses/tests.py, add 2 lines at the end of test_course_list_view\n",
    "\n",
    "we're gonna test the 'structure' or 'string' not html which could be changed by other teams\n",
    "\n",
    "\n",
    "<pre>\n",
    "\n",
    " 50     def test_course_list_view(self):\n",
    " 51         resp = self.client.get(reverse('courses:list'))\n",
    " 52         self.assertEqual(resp.status_code, 200)\n",
    " 53         self.assertIn(self.course, resp.context['courses'])\n",
    " 54         self.assertIn(self.course2, resp.context['courses'])\n",
    " 55         self.assertTemplateUsed(resp, 'courses/course_list.html')\n",
    " 56         self.assertContains(resp, self.course.title)\n",
    " \n",
    " </pre>"
   ]
  },
  {
   "cell_type": "markdown",
   "metadata": {},
   "source": [
    "## Treehouse challenge quiz example"
   ]
  },
  {
   "cell_type": "markdown",
   "metadata": {},
   "source": [
    "import datetime\n",
    "\n",
    "from django.core.urlresolvers import reverse\n",
    "from django.test import TestCase\n",
    "\n",
    "from .models import Article, Writer\n",
    "\n",
    "class ArticleDetailViewTestCase(TestCase):\n",
    "    '''Tests for the Article detail view'''\n",
    "\n",
    "    def setUp(self):\n",
    "        self.writer = Writer.objects.create(\n",
    "            name='Kenneth Love',\n",
    "            email='kenneth@teamtreehouse.com',\n",
    "            bio='Your friendly, local Python teacher'\n",
    "        )\n",
    "        self.article = Article.objects.create(\n",
    "          writer=self.writer,\n",
    "          headline='Article 0',\n",
    "          content='Something about 0',\n",
    "          publish_date=datetime.datetime.today()\n",
    "        )\n",
    "\n",
    "    def test_detail_template(self):\n",
    "        '''Make sure the `articles/article_detail.html` template is used'''\n",
    "        resp = self.client.get(reverse('articles:detail',kwargs={'pk':self.article.pk}))\n",
    "        self.assertEqual(resp.status_code, 200)\n",
    "        self.assertEqual(self.article, resp.context['article'])\n",
    "        self.assertTemplateUsed(resp, 'articles/article_detail.html')\n",
    "\n",
    "\n",
    "    def test_detail_template_writer(self):\n",
    "        '''Make sure the article writer's name is in the rendered output'''\n",
    "        resp = self.client.get(reverse('articles:detail', kwargs={'pk':self.article.pk}))  # <-- changed to article:detail\n",
    "        self.assertEqual(resp.status_code, 200)\n",
    "        self.assertEqual(self.article, resp.context['article'])  # <-- changed to self.article\n",
    "        self.assertContains(resp, self.article.writer.name)  # <-- add 'assertConains' check"
   ]
  }
 ],
 "metadata": {
  "kernelspec": {
   "display_name": "Python 3",
   "language": "python",
   "name": "python3"
  },
  "language_info": {
   "codemirror_mode": {
    "name": "ipython",
    "version": 3
   },
   "file_extension": ".py",
   "mimetype": "text/x-python",
   "name": "python",
   "nbconvert_exporter": "python",
   "pygments_lexer": "ipython3",
   "version": "3.6.2"
  }
 },
 "nbformat": 4,
 "nbformat_minor": 2
}
