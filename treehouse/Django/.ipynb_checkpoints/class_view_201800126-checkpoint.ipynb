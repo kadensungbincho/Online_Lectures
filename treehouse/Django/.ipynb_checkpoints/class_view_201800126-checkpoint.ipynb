{
 "cells": [
  {
   "cell_type": "markdown",
   "metadata": {},
   "source": [
    "# class view\n",
    "- http://ccbv.co.uk/projects/Django/1.9/django.views.generic.base/View/"
   ]
  },
  {
   "cell_type": "markdown",
   "metadata": {},
   "source": [
    "## Tempate View"
   ]
  },
  {
   "cell_type": "markdown",
   "metadata": {},
   "source": [
    "## ListView and DetailView"
   ]
  },
  {
   "cell_type": "markdown",
   "metadata": {},
   "source": [
    "- https://ccbv.co.uk/listview\n",
    "- https://ccbv.co.uk/detailview/\n",
    "- "
   ]
  },
  {
   "cell_type": "markdown",
   "metadata": {
    "collapsed": true
   },
   "source": [
    "## Overriding Methods"
   ]
  },
  {
   "cell_type": "markdown",
   "metadata": {},
   "source": [
    "![main](overriding_methods.png \"main\")"
   ]
  },
  {
   "cell_type": "markdown",
   "metadata": {},
   "source": [
    "> Limit on permission of deleting "
   ]
  },
  {
   "cell_type": "markdown",
   "metadata": {},
   "source": [
    "            def get_queryset(self):\n",
    " 50         if not self.request.user.is_superuser:\n",
    " 51             return self.model.objects.filter(coach=self.request.user)\n",
    " 52         return self.model.objects.all()"
   ]
  },
  {
   "cell_type": "markdown",
   "metadata": {},
   "source": [
    "> initail defaul setting change"
   ]
  },
  {
   "cell_type": "markdown",
   "metadata": {},
   "source": [
    " 30 class TeamCreateView(CreateView):\n",
    " 31     fields = (\"name\", \"practice_location\", \"coach\")\n",
    " 32     model = models.Team\n",
    " 33\n",
    " 34     def get_initial(self):\n",
    " 35         initial = super().get_initial()\n",
    " 36         initial[\"coach\"] = self.request.user.pk\n",
    " 37         return initial"
   ]
  },
  {
   "cell_type": "markdown",
   "metadata": {},
   "source": [
    "## Franken Views"
   ]
  },
  {
   "cell_type": "markdown",
   "metadata": {},
   "source": [
    "## Mixins"
   ]
  },
  {
   "cell_type": "markdown",
   "metadata": {},
   "source": [
    "- check ccbv for overriding or mixins\n",
    "- django-braces"
   ]
  },
  {
   "cell_type": "markdown",
   "metadata": {},
   "source": [
    "> Ex. : class ModelFormMixin\n",
    "- A mixin that provides a way to show and handle modelform in a request."
   ]
  },
  {
   "cell_type": "markdown",
   "metadata": {},
   "source": [
    "mixins and template handling to block un-authenticated users"
   ]
  },
  {
   "cell_type": "markdown",
   "metadata": {},
   "source": [
    "- LoginRequiredMixin"
   ]
  },
  {
   "cell_type": "code",
   "execution_count": null,
   "metadata": {
    "collapsed": true
   },
   "outputs": [],
   "source": []
  }
 ],
 "metadata": {
  "kernelspec": {
   "display_name": "Python 3",
   "language": "python",
   "name": "python3"
  },
  "language_info": {
   "codemirror_mode": {
    "name": "ipython",
    "version": 3
   },
   "file_extension": ".py",
   "mimetype": "text/x-python",
   "name": "python",
   "nbconvert_exporter": "python",
   "pygments_lexer": "ipython3",
   "version": "3.6.2"
  }
 },
 "nbformat": 4,
 "nbformat_minor": 2
}
