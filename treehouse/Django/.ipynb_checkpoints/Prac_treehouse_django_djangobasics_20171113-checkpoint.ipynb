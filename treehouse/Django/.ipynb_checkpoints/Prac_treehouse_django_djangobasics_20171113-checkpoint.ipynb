{
 "cells": [
  {
   "cell_type": "code",
   "execution_count": null,
   "metadata": {
    "collapsed": true
   },
   "outputs": [],
   "source": [
    "journal : content management system, CMS \n",
    "     (django aimed this market at first,) (used by Instagram, mozilla etc)"
   ]
  },
  {
   "cell_type": "code",
   "execution_count": null,
   "metadata": {
    "collapsed": true
   },
   "outputs": [],
   "source": [
    "the polls tutorial"
   ]
  },
  {
   "cell_type": "code",
   "execution_count": null,
   "metadata": {
    "collapsed": true
   },
   "outputs": [],
   "source": [
    "pip install Django\n",
    "django-admin startproject learning_site\n",
    "python manage.py runserver 0.0.0.0:8000\n",
    "    \n",
    "    \"check 192.168.99.100:8000 and get It worked!\"\n",
    "\n",
    "    \"it gives a database 'db.sqlite3'\"\n",
    "python manage.py migrate\n",
    "\n",
    "python manage.py runserver 0.0.0.0:8000   # no error message get"
   ]
  },
  {
   "cell_type": "code",
   "execution_count": null,
   "metadata": {
    "collapsed": true
   },
   "outputs": [],
   "source": []
  }
 ],
 "metadata": {
  "kernelspec": {
   "display_name": "Python 3",
   "language": "python",
   "name": "python3"
  },
  "language_info": {
   "codemirror_mode": {
    "name": "ipython",
    "version": 3
   },
   "file_extension": ".py",
   "mimetype": "text/x-python",
   "name": "python",
   "nbconvert_exporter": "python",
   "pygments_lexer": "ipython3",
   "version": "3.6.2"
  }
 },
 "nbformat": 4,
 "nbformat_minor": 2
}
