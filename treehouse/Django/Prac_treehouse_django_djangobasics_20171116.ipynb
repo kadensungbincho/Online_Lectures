{
 "cells": [
  {
   "cell_type": "markdown",
   "metadata": {},
   "source": [
    "python manage.py createsuperuser"
   ]
  },
  {
   "cell_type": "markdown",
   "metadata": {},
   "source": [
    "<img src=\"https://docs.djangoproject.com/en/1.11/_images/admin02.png\"/>"
   ]
  },
  {
   "cell_type": "markdown",
   "metadata": {},
   "source": [
    "views\n",
    "\n",
    "Class-based views¶\n",
    "\n",
    "A view is a callable which takes a request and returns a response. This can be more than just a function, and Django provides an example of some classes which can be used as views. These allow you to structure your views and reuse code by harnessing inheritance and mixins. There are also some generic views for simple tasks which we’ll get to later, but you may want to design your own structure of reusable views which suits your use case. For full details, see the class-based views reference documentation.\n",
    "\n",
    "https://docs.djangoproject.com/en/1.11/topics/class-based-views/"
   ]
  },
  {
   "cell_type": "markdown",
   "metadata": {},
   "source": [
    "template(similar to the template in flask)\n",
    "\n",
    "HTML that has spectial tags or commands in it\n",
    "it lets you print out data, create loops and conditionals\n",
    "and perform other progamming constructs.\n",
    "\n",
    "templates are also often inheritable, or extendable.\n",
    "In django template can be any language that I want.\n",
    "HTML, JSON, XML"
   ]
  },
  {
   "cell_type": "markdown",
   "metadata": {},
   "source": [
    "App-specific templates are best kept in a structure like app_name/templates/app_name because Django looks in app directories for a directory named templates and makes those templates automatically available.\n",
    "\n",
    "{{ and }} are used to mark a variable you want printed out.\n",
    "\n",
    "{% and %} mark template tags, or special bits of Python that Django's template engine knows how to run. Unlike Jinja2 templates, you can't just run arbitrary Python in a template.\n",
    "\n",
    "render() turns a request object, a template, and an optional context dictionary into a generated string. More about render.\n",
    "\n",
    "https://docs.djangoproject.com/en/1.8/topics/http/shortcuts/#render"
   ]
  },
  {
   "cell_type": "markdown",
   "metadata": {},
   "source": [
    "in courses/templates/courses/course_list.html\n",
    "\n",
    "django template render..\n",
    "\n",
    "  1 {% for course in courses %}\n",
    "  2 <h2>{{ course.title }}</h2>\n",
    "  3 {{ course.description }}\n",
    "  4 {% endfor %}\n",
    "  \n",
    " in courses/views.py\n",
    " \n",
    "  1 from django.http import HttpResponse\n",
    "  2 from django.shortcuts import render\n",
    "  3\n",
    "  4 from .models import Course\n",
    "  5 # Create your views here.\n",
    "  6 def course_list(request):\n",
    "  7     courses = Course.objects.all()\n",
    "  8     return render(request, 'courses/course_list.html', {'courses': courses})\n",
    "  \n",
    "  {} is dict context"
   ]
  },
  {
   "cell_type": "markdown",
   "metadata": {},
   "source": [
    "in / mkdir templates (for main page design)\n",
    "\n",
    "in /learning_site/settings.py (change DIRS, let it know where to find the template for the root page)\n",
    "\n",
    "- TEMPLATES below is a list with dictionaries in it, each of those dictionaries describes one way of rendering templates. BACKEND that renders Django templates, this is just the Django templates renderer. This is where we had change to like the Jinja2 template renderer. APP_DIRS directory is the one that says look for templates directory inside the apps. That's what lets us do the templates courses thing. OPtions, just different things that you can configure per tamplate rendener.\n",
    "\n",
    "- debug, request, auth, messages could be changed\n",
    "\n",
    "TEMPLATES = [\n",
    " 56     {\n",
    " 57         'BACKEND': 'django.template.backends.django.DjangoTemplates',\n",
    " 58         'DIRS': ['templates',],\n",
    " 59         'APP_DIRS': True,\n",
    " 60         'OPTIONS': {\n",
    " 61             'context_processors': [\n",
    " 62                 'django.template.context_processors.debug',\n",
    " 63                 'django.template.context_processors.request',\n",
    " 64                 'django.contrib.auth.context_processors.auth',\n",
    " 65                 'django.contrib.messages.context_processors.messages',\n",
    " 66             ],\n",
    " 67         },\n",
    " 68     },\n",
    " 69 ]"
   ]
  },
  {
   "cell_type": "markdown",
   "metadata": {},
   "source": [
    "in /learning_site/views.py\n",
    "\n",
    "change the file\n",
    "\n",
    "  1 from django.shortcuts import render\n",
    "  2\n",
    "  3 def hello_world(request):\n",
    "  4     return render(request, 'home.html')\n",
    "  \n",
    "  this time, don't need to give a directory because it doesn;t live inside. we don't have to include the context directory, because there's no context. "
   ]
  },
  {
   "cell_type": "markdown",
   "metadata": {},
   "source": [
    "### template inheritance"
   ]
  },
  {
   "cell_type": "markdown",
   "metadata": {},
   "source": [
    "master or parent template\n",
    "\n",
    "in /templates vim layout.html\n",
    "\n",
    "  1 <!doctype html>\n",
    "  2 <html>\n",
    "  3     <head>\n",
    "  4         <title>{% block title %}Well Hello there!{% endblock %}</title>\n",
    "  5     </head>\n",
    "  6     <body>{% block content %}<h1>Welcome!</h1>{% endblock %}</body>\n",
    "  7 </html>\n",
    "\n",
    "in /templates/home.html  # template inheritance\n",
    "\n",
    "  1 {% extends \"layout.html\" %}\n",
    "  2\n",
    "  3\n",
    "  4\n",
    "  5\n",
    "  6 <h1> Welcome!</h1>"
   ]
  },
  {
   "cell_type": "markdown",
   "metadata": {},
   "source": [
    "static assets "
   ]
  },
  {
   "cell_type": "markdown",
   "metadata": {},
   "source": [
    "in /learning_site/settings.py (add a setting, tuple)\n",
    "\n",
    "static stuff path setting\n",
    "\n",
    "STATICFILES_DIRS = (\n",
    "123     os.path.join(BASE_DIR, 'assets'),\n",
    "124 )\n",
    "\n",
    "in /templates/layout.html (change code)\n",
    "\n",
    "  1 {% load static from staticfiles %}\n",
    "  2\n",
    "  3 <!doctype html>\n",
    "  4 <html>\n",
    "  5     <head>\n",
    "  6         <title>{% block title %}Well Hello there!{% endblock %}</title>\n",
    "  7         <link rel=\"stylesheet\" href=\"{% static % 'css/layout.css' %}\">\n",
    "  8     </head>\n",
    "  9     <body>{% block content %}<h1>Welcome!</h1>{% endblock %}</body>\n",
    " 10 </html>\n",
    " \n",
    " "
   ]
  }
 ],
 "metadata": {
  "kernelspec": {
   "display_name": "Python 3",
   "language": "python",
   "name": "python3"
  },
  "language_info": {
   "codemirror_mode": {
    "name": "ipython",
    "version": 3
   },
   "file_extension": ".py",
   "mimetype": "text/x-python",
   "name": "python",
   "nbconvert_exporter": "python",
   "pygments_lexer": "ipython3",
   "version": "3.6.2"
  }
 },
 "nbformat": 4,
 "nbformat_minor": 2
}
