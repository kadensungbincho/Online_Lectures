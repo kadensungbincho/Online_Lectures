{
 "cells": [
  {
   "cell_type": "markdown",
   "metadata": {},
   "source": [
    "- An object is a container for values in the form of properties and functionality in the form of methods"
   ]
  },
  {
   "cell_type": "code",
   "execution_count": null,
   "metadata": {
    "collapsed": true
   },
   "outputs": [],
   "source": [
    "var h1 = document.getElementById('header');\n",
    "console.log(h1.innerHTML);\n",
    "h1.innerHTML = \"JavaScript is Awesome!\"; "
   ]
  },
  {
   "cell_type": "markdown",
   "metadata": {},
   "source": [
    "- document object\n",
    "- getElementById is a method on the document object\n",
    "- log is also method but do not return anything\n",
    "- methods on objects can return values like getElementById case, but they don't have to return anything at all.\n",
    "- h1 is an object and innerHTML is an property which make us can get or access to the HTML value of the object\n",
    "- At third line the innerHTML is **assigned ** with \"\" string\n",
    "- So properties can be accessed or assigned, this is also known as getting and setting"
   ]
  },
  {
   "cell_type": "markdown",
   "metadata": {},
   "source": [
    "> Object"
   ]
  },
  {
   "cell_type": "markdown",
   "metadata": {},
   "source": [
    "- Provide functionality through methods. Methods may or may not return values\n",
    "- Provides data storage in properties\n",
    "- The name of the property is a key\n",
    "- The contents of a property is known as a value"
   ]
  },
  {
   "cell_type": "markdown",
   "metadata": {},
   "source": [
    "> 3 kinds of Object"
   ]
  },
  {
   "cell_type": "markdown",
   "metadata": {},
   "source": [
    "- Native Objects : no matter where your JavaScript programs are run, it will have these objects (number, string, array, boolean, object)\n",
    "- Host Objects : which are provided by the environment where the JavaScript program is running (document, console, Element) usually from browser. But you won't find them in other host environments like Node.js\n",
    "- Own Objects : you create in your programming (Anything you like)"
   ]
  },
  {
   "cell_type": "markdown",
   "metadata": {},
   "source": [
    "- All real-world objects sharey two important characteristics, state and behavior."
   ]
  },
  {
   "cell_type": "markdown",
   "metadata": {},
   "source": [
    "> 2 benefits \n",
    "- make it simple\n",
    "- organizing your code : encapsulation"
   ]
  },
  {
   "cell_type": "markdown",
   "metadata": {},
   "source": [
    "## Object Literal Review"
   ]
  },
  {
   "cell_type": "markdown",
   "metadata": {},
   "source": [
    "- object's key is always string, anything can be string can be object's key"
   ]
  },
  {
   "cell_type": "code",
   "execution_count": 1,
   "metadata": {
    "collapsed": true
   },
   "outputs": [],
   "source": [
    "var person = {\n",
    "    name: \"Lauren\",\n",
    "    treehouseStudent: true,\n",
    "    \"full name\": \"Lauren Chalkley\"\n",
    "}"
   ]
  },
  {
   "cell_type": "code",
   "execution_count": 3,
   "metadata": {},
   "outputs": [
    {
     "data": {
      "text/plain": [
       "'Lauren Chalkley'"
      ]
     },
     "execution_count": 3,
     "metadata": {},
     "output_type": "execute_result"
    }
   ],
   "source": [
    "person[\"full name\"] // key with space or special character at first \n",
    "                    // can only be used on bracket access"
   ]
  },
  {
   "cell_type": "markdown",
   "metadata": {},
   "source": [
    "## Adding method to an Object"
   ]
  },
  {
   "cell_type": "code",
   "execution_count": 4,
   "metadata": {
    "collapsed": true
   },
   "outputs": [],
   "source": [
    "var dice = {\n",
    "    roll: function diceRoll() {\n",
    "        var sides = 6;\n",
    "        var randomNumber = Math.floor(Math.random() * sides) + 1;\n",
    "        console.log(randomNumber);\n",
    "    }    \n",
    "}"
   ]
  },
  {
   "cell_type": "code",
   "execution_count": 5,
   "metadata": {},
   "outputs": [
    {
     "name": "stdout",
     "output_type": "stream",
     "text": [
      "2\n"
     ]
    }
   ],
   "source": [
    "dice.roll()"
   ]
  },
  {
   "cell_type": "markdown",
   "metadata": {},
   "source": [
    "> no need to name the function"
   ]
  },
  {
   "cell_type": "code",
   "execution_count": null,
   "metadata": {
    "collapsed": true
   },
   "outputs": [],
   "source": [
    "var dice = {\n",
    "    roll: function() {\n",
    "        var sides = 6;\n",
    "        var randomNumber = Math.floor(Math.random() * sides) + 1;\n",
    "        console.log(randomNumber);\n",
    "    }    \n",
    "}"
   ]
  },
  {
   "cell_type": "markdown",
   "metadata": {},
   "source": [
    "** this ** is the owner of the function."
   ]
  },
  {
   "cell_type": "code",
   "execution_count": null,
   "metadata": {
    "collapsed": true
   },
   "outputs": [],
   "source": [
    "var dice = {\n",
    "    sides: 6,\n",
    "    roll: function() {\n",
    "        var randomNumber = Math.floor(Math.random() * dice.sides) + 1;\n",
    "        console.log(randomNumber);\n",
    "    }    \n",
    "}"
   ]
  },
  {
   "cell_type": "code",
   "execution_count": null,
   "metadata": {
    "collapsed": true
   },
   "outputs": [],
   "source": [
    "var dice = {\n",
    "    sides: 6,\n",
    "    roll: function() {\n",
    "        var randomNumber = Math.floor(Math.random() * this.sides) + 1;\n",
    "        console.log(randomNumber);\n",
    "    }    \n",
    "}"
   ]
  },
  {
   "cell_type": "markdown",
   "metadata": {},
   "source": [
    "> Then easily change the sides of dice and variable name"
   ]
  },
  {
   "cell_type": "code",
   "execution_count": null,
   "metadata": {
    "collapsed": true
   },
   "outputs": [],
   "source": [
    "var dice10 = {\n",
    "    sides: 10,\n",
    "    roll: function() {\n",
    "        var randomNumber = Math.floor(Math.random() * this.sides) + 1;\n",
    "        console.log(randomNumber);\n",
    "    }    \n",
    "}"
   ]
  },
  {
   "cell_type": "markdown",
   "metadata": {},
   "source": [
    "## Creating Multiple Instances with Constructors"
   ]
  },
  {
   "cell_type": "markdown",
   "metadata": {},
   "source": [
    "- Describes how an object should be created\n",
    "- Create similar objects\n",
    "- Each object created is known as an instance of that object type"
   ]
  },
  {
   "cell_type": "code",
   "execution_count": 6,
   "metadata": {
    "collapsed": true
   },
   "outputs": [],
   "source": [
    "function Contact(name, email) {\n",
    "    //this = {};\n",
    "    this.name = name; // this means new instance of an object\n",
    "    this.email = email;\n",
    "} // You \n",
    "var contact = new Contact(\"Andrew\", \"andrew@teamtreehouse.com\");"
   ]
  },
  {
   "cell_type": "code",
   "execution_count": 7,
   "metadata": {},
   "outputs": [
    {
     "data": {
      "text/plain": [
       "Contact { name: 'Andrew', email: 'andrew@teamtreehouse.com' }"
      ]
     },
     "execution_count": 7,
     "metadata": {},
     "output_type": "execute_result"
    }
   ],
   "source": [
    "contact"
   ]
  },
  {
   "cell_type": "code",
   "execution_count": 8,
   "metadata": {
    "collapsed": true
   },
   "outputs": [],
   "source": [
    "var contact2 = new Contact(\"Dave\", \"dave@teamtreehouse.com\")"
   ]
  },
  {
   "cell_type": "markdown",
   "metadata": {},
   "source": [
    "## Methods with prototype"
   ]
  },
  {
   "cell_type": "code",
   "execution_count": 9,
   "metadata": {
    "collapsed": true
   },
   "outputs": [],
   "source": [
    "function Dice(sides) {\n",
    "    this.sides = sides;\n",
    "    this.roll = function() {\n",
    "        var randomNumber = Math.fllor(Math.random() * this.sides) + 1;\n",
    "        return randomNumber;\n",
    "    }\n",
    "}"
   ]
  },
  {
   "cell_type": "code",
   "execution_count": 11,
   "metadata": {},
   "outputs": [
    {
     "name": "stdout",
     "output_type": "stream",
     "text": [
      "false\n"
     ]
    }
   ],
   "source": [
    "var dice = new Dice(6);\n",
    "var dice10 = new Dice(10);\n",
    "\n",
    "console.log(dice.roll === dice10.roll);"
   ]
  },
  {
   "cell_type": "markdown",
   "metadata": {},
   "source": [
    "> It takes too much memory or RAM "
   ]
  },
  {
   "cell_type": "code",
   "execution_count": 15,
   "metadata": {},
   "outputs": [
    {
     "name": "stdout",
     "output_type": "stream",
     "text": [
      "true\n"
     ]
    }
   ],
   "source": [
    "function diceRoll() {\n",
    "    var randomNumber = Math.fllor(Math.random() * this.sides) + 1;\n",
    "    return randomNumber;\n",
    "}\n",
    "\n",
    "function Dice(sides) {\n",
    "    this.sides = sides;\n",
    "    this.roll = diceRoll;\n",
    "    }\n",
    "\n",
    "var dice = new Dice(6);\n",
    "var dice10 = new Dice(10);\n",
    "\n",
    "console.log(dice.roll === dice10.roll);"
   ]
  },
  {
   "cell_type": "markdown",
   "metadata": {},
   "source": [
    "** JavaScript is prototypal language **\n",
    "- you can use prototypes as templates for objects"
   ]
  },
  {
   "cell_type": "code",
   "execution_count": 18,
   "metadata": {},
   "outputs": [
    {
     "name": "stdout",
     "output_type": "stream",
     "text": [
      "true\n"
     ]
    }
   ],
   "source": [
    "function Dice(sides) {\n",
    "    this.sides = sides;\n",
    "    }\n",
    "\n",
    "\n",
    "Dice.prototype.roll = function() {\n",
    "        var randomNumber = Math.fllor(Math.random() * this.sides) + 1;\n",
    "        return randomNumber;\n",
    "}\n",
    "\n",
    "var dice = new Dice(6);\n",
    "var dice10 = new Dice(10);\n",
    "\n",
    "console.log(dice.roll === dice10.roll);"
   ]
  },
  {
   "cell_type": "markdown",
   "metadata": {},
   "source": [
    "- What happens when we call dice.roll now?"
   ]
  },
  {
   "cell_type": "markdown",
   "metadata": {},
   "source": [
    "- Well there's the JavaScript interpreter tries to call it on the object itself. If it's not there, it will check its prototype. If the roll is there, it will call the method in the context of that instance. "
   ]
  },
  {
   "cell_type": "markdown",
   "metadata": {},
   "source": [
    "## Playlist"
   ]
  },
  {
   "cell_type": "markdown",
   "metadata": {
    "collapsed": true
   },
   "source": [
    "# Prototype Chain\n",
    "- Inheritance"
   ]
  },
  {
   "cell_type": "markdown",
   "metadata": {},
   "source": [
    "![main](inheritance.png \"main\")"
   ]
  },
  {
   "cell_type": "markdown",
   "metadata": {},
   "source": [
    "![main](inheritance1.png \"main\")"
   ]
  },
  {
   "cell_type": "code",
   "execution_count": null,
   "metadata": {
    "collapsed": true
   },
   "outputs": [],
   "source": []
  }
 ],
 "metadata": {
  "kernelspec": {
   "display_name": "Javascript (Node.js)",
   "language": "javascript",
   "name": "javascript"
  },
  "language_info": {
   "file_extension": ".js",
   "mimetype": "application/javascript",
   "name": "javascript",
   "version": "6.12.2"
  }
 },
 "nbformat": 4,
 "nbformat_minor": 2
}
