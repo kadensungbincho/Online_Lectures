{
 "cells": [
  {
   "cell_type": "markdown",
   "metadata": {},
   "source": [
    "# Intro to CSS"
   ]
  },
  {
   "cell_type": "markdown",
   "metadata": {},
   "source": [
    "- https://developer.mozilla.org/en-US/docs/Web/CSS\n",
    "- https://webplatform.github.io/docs/css/\n",
    "- https://www.w3.org/Style/CSS/Overview.en.html\n",
    "- https://caniuse.com/"
   ]
  },
  {
   "cell_type": "markdown",
   "metadata": {},
   "source": [
    "- inline style\n",
    "- internal\n",
    "- external"
   ]
  },
  {
   "cell_type": "markdown",
   "metadata": {},
   "source": [
    "- stylesheet locate on the top of document for parsing before html body or other contents. And sugget to have less than 3."
   ]
  },
  {
   "cell_type": "markdown",
   "metadata": {},
   "source": [
    "# Intro to Selector"
   ]
  },
  {
   "cell_type": "markdown",
   "metadata": {},
   "source": [
    "selector {\n",
    "  property: value;\n",
    "}"
   ]
  },
  {
   "cell_type": "markdown",
   "metadata": {},
   "source": [
    "# Pseudo Classes"
   ]
  },
  {
   "cell_type": "markdown",
   "metadata": {},
   "source": [
    "# CSS data types"
   ]
  },
  {
   "cell_type": "markdown",
   "metadata": {},
   "source": [
    "- type of css value"
   ]
  },
  {
   "cell_type": "markdown",
   "metadata": {},
   "source": [
    "- color, length, \n",
    "- absolute, relative length\n",
    "- 6 absolute units : px, mn, cm, in, pt, pc\n"
   ]
  },
  {
   "cell_type": "markdown",
   "metadata": {},
   "source": [
    "- http://inamidst.com/stuff/notes/csspx"
   ]
  },
  {
   "cell_type": "markdown",
   "metadata": {},
   "source": [
    "## Percentage unit"
   ]
  },
  {
   "cell_type": "markdown",
   "metadata": {},
   "source": [
    "# Color Values"
   ]
  },
  {
   "cell_type": "markdown",
   "metadata": {},
   "source": [
    "# Font properties\n",
    "- http://www.cssfontstack.com/"
   ]
  },
  {
   "cell_type": "markdown",
   "metadata": {},
   "source": [
    "# Line Height"
   ]
  },
  {
   "cell_type": "markdown",
   "metadata": {},
   "source": [
    "## CSS Box model"
   ]
  },
  {
   "cell_type": "markdown",
   "metadata": {},
   "source": [
    "- content area, padding area, border, margin"
   ]
  },
  {
   "cell_type": "markdown",
   "metadata": {},
   "source": [
    "# Padding, Borders"
   ]
  },
  {
   "cell_type": "markdown",
   "metadata": {},
   "source": [
    "# Margin"
   ]
  },
  {
   "cell_type": "markdown",
   "metadata": {
    "collapsed": true
   },
   "source": [
    "# Text-Shadow"
   ]
  },
  {
   "cell_type": "markdown",
   "metadata": {},
   "source": [
    "# Web Fonts with @font-face"
   ]
  },
  {
   "cell_type": "markdown",
   "metadata": {},
   "source": [
    "- EOT (Embedded OpenType) : this is a proprietary format for Internet Explorer, and for IE 9 compats\n",
    "- EOT iefix for older version\n",
    "- WOFF (Web Open Font Format) : this is a newer font format developed by Mozilla and supported by all modern browsers. (load super fast ; compressed)\n",
    "- TTF (TrueType Format) : user for Safari, Android, IOS"
   ]
  },
  {
   "cell_type": "markdown",
   "metadata": {},
   "source": [
    "- free fonts : http://www.fontsquirrel.com/"
   ]
  },
  {
   "cell_type": "markdown",
   "metadata": {},
   "source": [
    "# Media Query Basic"
   ]
  },
  {
   "cell_type": "markdown",
   "metadata": {},
   "source": [
    "# CSS : Cascading?"
   ]
  },
  {
   "cell_type": "markdown",
   "metadata": {},
   "source": [
    "- understanding how CSS rules are applied by the browser vis what's called the cascade.\n",
    "- Cascade is what determines which styles are assigned to an element. "
   ]
  },
  {
   "cell_type": "markdown",
   "metadata": {},
   "source": [
    "- Importance\n",
    "- Specificity\n",
    "- Source Order"
   ]
  },
  {
   "cell_type": "markdown",
   "metadata": {},
   "source": [
    "> Specificity \n",
    "\n",
    "<pre>\n",
    " HTML : \n",
    " <h1 class=\"heading\" id=\"heading\">Hello World!</h1>\n",
    " \n",
    " CSS:\n",
    " #heading {\n",
    "   color: orange;\n",
    " }\n",
    " \n",
    " .heading {\n",
    "   color: blue;\n",
    " }\n",
    " \n",
    " h1 {\n",
    "   color: green;\n",
    " }\n",
    " \n",
    "</pre>"
   ]
  },
  {
   "cell_type": "markdown",
   "metadata": {},
   "source": [
    "- Assign a weight to each style declaration, after considering its importance, specificity, source order"
   ]
  },
  {
   "cell_type": "markdown",
   "metadata": {},
   "source": [
    "# Inheritance"
   ]
  },
  {
   "cell_type": "code",
   "execution_count": null,
   "metadata": {
    "collapsed": true
   },
   "outputs": [],
   "source": []
  }
 ],
 "metadata": {
  "kernelspec": {
   "display_name": "Python 3",
   "language": "python",
   "name": "python3"
  },
  "language_info": {
   "codemirror_mode": {
    "name": "ipython",
    "version": 3
   },
   "file_extension": ".py",
   "mimetype": "text/x-python",
   "name": "python",
   "nbconvert_exporter": "python",
   "pygments_lexer": "ipython3",
   "version": "3.6.2"
  }
 },
 "nbformat": 4,
 "nbformat_minor": 2
}
