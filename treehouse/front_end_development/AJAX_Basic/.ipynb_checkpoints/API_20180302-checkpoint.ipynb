{
 "cells": [
  {
   "cell_type": "markdown",
   "metadata": {},
   "source": [
    "1. The user clicks a button\n",
    "2. The JavaScript program will get the word on that button\n",
    "3. Make a GET request to Flickr, sending the word along\n",
    "4. Receive the JSON response\n",
    "5. Add a link and <img> "
   ]
  },
  {
   "cell_type": "markdown",
   "metadata": {},
   "source": [
    "- When you put your jQuery code near the top of your html, in this case it'll load through the flickr.fs file at the top of our page. You need to use a special function called $(document).ready, to make sure your JavaScript code doesn't run before the html is fully loaded."
   ]
  },
  {
   "cell_type": "code",
   "execution_count": null,
   "metadata": {
    "collapsed": true
   },
   "outputs": [],
   "source": [
    "$(document).ready(function () {\n",
    "  $('button').click(function() {\n",
    "    $(\"button\").removeClass(\"selected\");\n",
    "    $(this).addClass(\"selected\");\n",
    "    var flickerAPI = \"http://api.flickr.com.servies/feeds/photos_public.gne?jsoncallback=?\";\n",
    "    $.getJSON(flickerAPI, flickrOptions, displayPhotos);\n",
    "  });\n",
    "}); // end ready"
   ]
  },
  {
   "cell_type": "markdown",
   "metadata": {},
   "source": [
    "- Adding the question mark jsoncallback eqauls question mark to the end of the URL lets you get around the security limitation. Many of the websites that let you access their API using Ajax use the same convention of adding the term jsoncallback to the query string."
   ]
  },
  {
   "cell_type": "markdown",
   "metadata": {},
   "source": [
    "- https://www.flickr.com/services/feeds/docs/photos_public/"
   ]
  },
  {
   "cell_type": "markdown",
   "metadata": {},
   "source": [
    "## Challenge"
   ]
  },
  {
   "cell_type": "code",
   "execution_count": null,
   "metadata": {
    "collapsed": true
   },
   "outputs": [],
   "source": [
    "$('form').submit( function (evt) {\n",
    "    evt.preventDefault();\n",
    "    var searchTerm = $('#search').val();\n",
    "    \n",
    "})"
   ]
  },
  {
   "cell_type": "markdown",
   "metadata": {},
   "source": [
    "1. Replace the button click event with a form submit event \n",
    "2. Stop the form from submitting\n",
    "3. Retrieve the value the visitor typed in the input field\n",
    "4. "
   ]
  }
 ],
 "metadata": {
  "kernelspec": {
   "display_name": "Javascript (Node.js)",
   "language": "javascript",
   "name": "javascript"
  },
  "language_info": {
   "file_extension": ".js",
   "mimetype": "application/javascript",
   "name": "javascript",
   "version": "6.12.2"
  }
 },
 "nbformat": 4,
 "nbformat_minor": 2
}
