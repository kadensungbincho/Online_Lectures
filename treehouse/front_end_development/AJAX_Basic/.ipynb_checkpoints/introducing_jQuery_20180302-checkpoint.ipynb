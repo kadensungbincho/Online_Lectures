{
 "cells": [
  {
   "cell_type": "markdown",
   "metadata": {},
   "source": [
    "- popular libarary to use short hand ajax"
   ]
  },
  {
   "cell_type": "markdown",
   "metadata": {},
   "source": [
    "jQuery.get(url, data, callback);\n",
    "\n",
    "$('#nav')"
   ]
  },
  {
   "cell_type": "code",
   "execution_count": null,
   "metadata": {
    "collapsed": true
   },
   "outputs": [],
   "source": [
    "var url = '/employees.php';\n",
    "var data = {\n",
    "    firstName : \"Dave\",\n",
    "    lastName : \"Kaden\" \n",
    "};\n",
    "var callback = function (response) {\n",
    "  // do something with the response\n",
    "};\n",
    "$.get(url, data, callback); // don't need to check xhrStatus or errors\n",
    "                           // the callback function is only run when the AJAX request is complete"
   ]
  },
  {
   "cell_type": "code",
   "execution_count": null,
   "metadata": {
    "collapsed": true
   },
   "outputs": [],
   "source": [
    "<script>\n",
    "  /* var xhr = new XMLHttpRequest();\n",
    "  xhr.onreadystatechange = function () {\n",
    "    if (xhr.readyState === 4) {\n",
    "      document.getElementById('ajax').innerHTML = xhr.responseText;\n",
    "    }\n",
    "  };\n",
    "  xhr.open('GET', 'sidebar.html'); */\n",
    "\n",
    "  function sendAJAX() {\n",
    "    /* xhr.send();\n",
    "    document.getElementById('load').style.display = 'none'; */\n",
    "    $('#ajax').load('sidebar.html');\n",
    "    $('#load').hide();\n",
    "  }\n",
    "  </script>"
   ]
  },
  {
   "cell_type": "code",
   "execution_count": null,
   "metadata": {
    "collapsed": true
   },
   "outputs": [],
   "source": [
    "function sendAJAX() {\n",
    "    $.get('sidebar.html', function(response) {\n",
    "        $('#ajax').html(response);\n",
    "    });\n",
    "}"
   ]
  },
  {
   "cell_type": "markdown",
   "metadata": {},
   "source": [
    "The .load() method must be chained onto a jQuery selection. For example, $('#element').load('page.html');"
   ]
  },
  {
   "cell_type": "markdown",
   "metadata": {},
   "source": [
    "> jQuery Version "
   ]
  },
  {
   "cell_type": "code",
   "execution_count": null,
   "metadata": {
    "collapsed": true
   },
   "outputs": [],
   "source": [
    "$(document).ready(function () {\n",
    "  var url = \"../data/employess.json\";\n",
    "  $.getJSON(url, function (response) {\n",
    "    var statusHTML = '<ul class=\"bulleted\">';\n",
    "    $.each(response, function (index, employee) {\n",
    "      if (employee.inoffice === true ) {\n",
    "        statusHTML += '<li class=\"in\">';        \n",
    "      } else {\n",
    "        statusHTML += '<li class=\"out\">'; \n",
    "      }\n",
    "      statusHTML += employee.name + '</li>';      \n",
    "    });\n",
    "    statusHTML += '</ul>';\n",
    "    $('#empleeList').html(statusHTML);\n",
    "  }); // end getJSON\n",
    "}); // end ready "
   ]
  },
  {
   "cell_type": "markdown",
   "metadata": {},
   "source": [
    "## Posting data with jQuery"
   ]
  },
  {
   "cell_type": "code",
   "execution_count": null,
   "metadata": {
    "collapsed": true
   },
   "outputs": [],
   "source": [
    "var url = \"http://website.com/posts\";\n",
    "var data = {\n",
    "    firstName : \"Dave\",\n",
    "    lastName : \"Kaden\"\n",
    "};\n",
    "$.post(url, data, callback);"
   ]
  },
  {
   "cell_type": "code",
   "execution_count": null,
   "metadata": {
    "collapsed": true
   },
   "outputs": [],
   "source": [
    "<script>\n",
    "    $(document).ready(function() {\n",
    "      $('form').submit(function(evt) {\n",
    "        evt.preventDefault();\n",
    "        var url = $(this).attr(\"action\");\n",
    "        var formData = $(this).serialize();\n",
    "        $.post(url, formData, function(response) {\n",
    "          $('#signup').html(\"<p>Thanks for signing up!</p>\");\n",
    "        });\n",
    "      }); // end submit\n",
    "    }); // end ready\n",
    "  </script>"
   ]
  },
  {
   "cell_type": "markdown",
   "metadata": {},
   "source": [
    "# The jQuery AJAX Method"
   ]
  },
  {
   "cell_type": "code",
   "execution_count": null,
   "metadata": {
    "collapsed": true
   },
   "outputs": [],
   "source": [
    "$.ajax(url, settings);"
   ]
  },
  {
   "cell_type": "code",
   "execution_count": null,
   "metadata": {
    "collapsed": true
   },
   "outputs": [],
   "source": [
    "$.ajax(url, {\n",
    "    data : formData,\n",
    "    type : \"POST\",\n",
    "    success : function(response) {\n",
    "      $('#signup;').html(\"<p>Thanks for signing up!</p>\")   \n",
    "    }\n",
    "});"
   ]
  },
  {
   "cell_type": "markdown",
   "metadata": {},
   "source": [
    "- The $.ajax() method has more options and provides greater control of the AJAX request.\n",
    "- The $.ajax() method lets you set a timeout to control how long you're willing to wait for a response from a server\n",
    "- The $.ajax() method lets you send a username and password to resources that require user authentication"
   ]
  },
  {
   "cell_type": "markdown",
   "metadata": {},
   "source": [
    "# Handling Errors"
   ]
  },
  {
   "cell_type": "code",
   "execution_count": null,
   "metadata": {
    "collapsed": true
   },
   "outputs": [],
   "source": [
    "$.get('missing.html', function(data) {\n",
    "    $('#myDiv').html(data);\n",
    "}).fail(function (jqXHR) {\n",
    "    // alert(jqXHR.status);\n",
    "    $('#myDiv').html(\"<p>Sorry! \" + jqXHR.statusText + \"error.</p>\");\n",
    "})"
   ]
  },
  {
   "cell_type": "markdown",
   "metadata": {},
   "source": []
  }
 ],
 "metadata": {
  "kernelspec": {
   "display_name": "Javascript (Node.js)",
   "language": "javascript",
   "name": "javascript"
  },
  "language_info": {
   "file_extension": ".js",
   "mimetype": "application/javascript",
   "name": "javascript",
   "version": "6.12.2"
  }
 },
 "nbformat": 4,
 "nbformat_minor": 2
}
