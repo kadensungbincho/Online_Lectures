{
 "cells": [
  {
   "cell_type": "markdown",
   "metadata": {},
   "source": [
    "- Asynchronous JavaScript and XML."
   ]
  },
  {
   "cell_type": "markdown",
   "metadata": {},
   "source": [
    "- AJAX lets you update HTML without loading a new webpage"
   ]
  },
  {
   "cell_type": "markdown",
   "metadata": {},
   "source": [
    "- Instead of jumping to a new webpage every time we wnat new information, AJAX lets you build webpages that ask for information from a web server. The web server returns data to the web browser, and JS processes that data to selectively change parts of the web page."
   ]
  },
  {
   "cell_type": "markdown",
   "metadata": {},
   "source": [
    "- Request and Response : \n",
    "- Can check on JS console\n",
    "- officially XMLHttpRequest Object "
   ]
  },
  {
   "cell_type": "markdown",
   "metadata": {},
   "source": [
    "- Asynchronous : not waiting for the response, changes when there's response that came from the server\n",
    "- JavaScript : handle all the AJAX \n",
    "- and\n",
    "- XML : extensible markup language,"
   ]
  },
  {
   "cell_type": "markdown",
   "metadata": {},
   "source": [
    "> Step\n",
    "1. Create an XMLHTTP Request object\n",
    "2. Create a callback function\n",
    "3. Open a request\n",
    "4. Send the request"
   ]
  },
  {
   "cell_type": "code",
   "execution_count": null,
   "metadata": {
    "collapsed": true
   },
   "outputs": [],
   "source": [
    "var xhr = new XMLHttpRequest(); // 1."
   ]
  },
  {
   "cell_type": "markdown",
   "metadata": {},
   "source": [
    "- If you make multiple AJAX requests, you'll never know which request will be handled first. \n",
    "- In other words, you can never tell in which order your AJAX callbacks will run."
   ]
  },
  {
   "cell_type": "code",
   "execution_count": null,
   "metadata": {
    "collapsed": true
   },
   "outputs": [],
   "source": [
    "xhr.onreadystatechange = function () {\n",
    "      if (xhr.readyState === 4)) {\n",
    "        document.getElementById('ajax').innerHTML = xhr.responseText; \n",
    "      }\n",
    "    }; // 2."
   ]
  },
  {
   "cell_type": "code",
   "execution_count": null,
   "metadata": {
    "collapsed": true
   },
   "outputs": [],
   "source": [
    "xhr.open('GET', 'sidebar.html'); // 3."
   ]
  },
  {
   "cell_type": "code",
   "execution_count": null,
   "metadata": {
    "collapsed": true
   },
   "outputs": [],
   "source": [
    "xhr.send(); // 4."
   ]
  },
  {
   "cell_type": "markdown",
   "metadata": {},
   "source": [
    "## GET and POST\n",
    "- GET and POST have each own encoding method"
   ]
  },
  {
   "cell_type": "markdown",
   "metadata": {},
   "source": [
    "- & to %26\n",
    "- space to +\n",
    "- + to %2B\n",
    "\n",
    "in url query"
   ]
  },
  {
   "cell_type": "markdown",
   "metadata": {},
   "source": [
    "- http://www.url-encode-decode.com/"
   ]
  },
  {
   "cell_type": "markdown",
   "metadata": {},
   "source": [
    "- Internet Explorer can only handle URLs that are 2083 characters long"
   ]
  },
  {
   "cell_type": "markdown",
   "metadata": {},
   "source": [
    "- POST put the information in the body of the request"
   ]
  },
  {
   "cell_type": "markdown",
   "metadata": {},
   "source": [
    "## AJAX Response Format"
   ]
  },
  {
   "cell_type": "markdown",
   "metadata": {},
   "source": [
    "- need order or structure on AJAX response"
   ]
  },
  {
   "cell_type": "markdown",
   "metadata": {},
   "source": [
    "- Two common data interchange formats are XML and JSON."
   ]
  },
  {
   "cell_type": "markdown",
   "metadata": {},
   "source": [
    "- using XML with JavaScript isn't easy like other server side languages"
   ]
  },
  {
   "cell_type": "markdown",
   "metadata": {},
   "source": [
    "## AJAX Security Limitations"
   ]
  },
  {
   "cell_type": "markdown",
   "metadata": {},
   "source": [
    "- In general, you can use Ajax to communicate from one page to another on the same web server but not to access other web servers."
   ]
  },
  {
   "cell_type": "markdown",
   "metadata": {},
   "source": [
    "- Switching HTTP to HTTPS isn't allowed \n",
    "- Swithching host, port aren't allowed"
   ]
  },
  {
   "cell_type": "markdown",
   "metadata": {},
   "source": [
    "** Fortunately, there are a few ways to circumvent the same origin policy. **"
   ]
  },
  {
   "cell_type": "markdown",
   "metadata": {},
   "source": [
    "> Proxy"
   ]
  },
  {
   "cell_type": "markdown",
   "metadata": {},
   "source": [
    "- A web server can request data from servers at other domains. Because of this, you can set up a script in PHP, or using Ruby on Rails on your server, which asks for information from another web server, which asks for information from another web server."
   ]
  },
  {
   "cell_type": "markdown",
   "metadata": {},
   "source": [
    "> Using JSONP, which stands for JSON with Padding"
   ]
  },
  {
   "cell_type": "markdown",
   "metadata": {},
   "source": [
    "- It's not traditional AJAX. It actually relies on the ability to link to JavaScript files across domains. Browsers actually do allow many types of cross domain links. For example, you can link to photos on other websites. In fact, linking to JS files across domains is a common technique when working with popular JS lib like jQuery."
   ]
  },
  {
   "cell_type": "markdown",
   "metadata": {},
   "source": [
    "- In fact, this is how CDNs, or Content Delivery Networks, work.\n",
    "- You can link to Google's CDN to download jQuery instead of putting the jQuery Js files on your own server, which would waste disk space and your server's processing power."
   ]
  },
  {
   "cell_type": "markdown",
   "metadata": {},
   "source": [
    "- JSONP relies on the feature. Instead of actually using AJAX to contact another web server, you load a JavaScript file from the other site. jQuery provides a really easy way to use JSONP."
   ]
  },
  {
   "cell_type": "markdown",
   "metadata": {},
   "source": [
    "> CORS - Cross Origin Resource Sharing"
   ]
  },
  {
   "cell_type": "markdown",
   "metadata": {},
   "source": [
    "- Is does require some set up on the servers part. But allows the server to accept requests from other domains. "
   ]
  },
  {
   "cell_type": "markdown",
   "metadata": {},
   "source": [
    "- ** AJAX only works on pages through web server **"
   ]
  },
  {
   "cell_type": "markdown",
   "metadata": {},
   "source": [
    "## AJAX Callbacks"
   ]
  },
  {
   "cell_type": "markdown",
   "metadata": {},
   "source": [
    "1. Create an XMLHTTP Request object\n",
    "2. Create a callback function\n",
    "3. Open a request\n",
    "4. Send the request"
   ]
  },
  {
   "cell_type": "markdown",
   "metadata": {},
   "source": [
    "- XML HTTP request object's readyState property holds a number from 0 to 4. The number represents each state of the Ajax request.\n",
    "- 4 for when the web server has sent everthing it's going to send."
   ]
  },
  {
   "cell_type": "markdown",
   "metadata": {},
   "source": [
    "- To handle possible errors, we can expand the conditional statement a bit by checking another property of the request object, the status property."
   ]
  },
  {
   "cell_type": "code",
   "execution_count": null,
   "metadata": {
    "collapsed": true
   },
   "outputs": [],
   "source": [
    "xhr.onreadystatechange = function () {\n",
    "      if (xhr.readyState === 4 && xhr.status === 200)) {\n",
    "        document.getElementById('ajax').innerHTML = xhr.responseText; \n",
    "      }\n",
    "    }; // 2."
   ]
  },
  {
   "cell_type": "code",
   "execution_count": null,
   "metadata": {
    "collapsed": true
   },
   "outputs": [],
   "source": [
    "xhr.onreadystatechange = function () {\n",
    "      if (xhr.readyState === 4)) {\n",
    "        if (xhr.status === 200) {\n",
    "        document.getElementById('ajax').innerHTML = xhr.responseText; \n",
    "        } else if (xhr.status === 404) {\n",
    "             // file not found\n",
    "        } else if (xhr.status === 500) {\n",
    "             // server had a problem\n",
    "        } else {\n",
    "            alert(xhr.statusText);\n",
    "        }\n",
    "      }\n",
    "    }; // 2."
   ]
  },
  {
   "cell_type": "markdown",
   "metadata": {},
   "source": [
    "## JSON Intro"
   ]
  },
  {
   "cell_type": "markdown",
   "metadata": {},
   "source": [
    "- array or object style\n",
    "- "
   ]
  },
  {
   "cell_type": "code",
   "execution_count": 1,
   "metadata": {},
   "outputs": [
    {
     "data": {
      "text/plain": [
       "[ 'string', 3, true, false, [ 1, 2, 3 ] ]"
      ]
     },
     "execution_count": 1,
     "metadata": {},
     "output_type": "execute_result"
    }
   ],
   "source": [
    "['string', 3, true, false, [1, 2, 3]] // use object to let other know value's key"
   ]
  },
  {
   "cell_type": "code",
   "execution_count": null,
   "metadata": {
    "collapsed": true
   },
   "outputs": [],
   "source": [
    "{\n",
    "    \"name\": \"Jim\",\n",
    "    \"phone\": \"503-555-1212\"\n",
    "} // need double quotes"
   ]
  },
  {
   "cell_type": "markdown",
   "metadata": {},
   "source": [
    "## Parsing JSON Data"
   ]
  },
  {
   "cell_type": "markdown",
   "metadata": {},
   "source": [
    "## Processing JSON data"
   ]
  },
  {
   "cell_type": "markdown",
   "metadata": {},
   "source": [
    "1. Create a new HTML list item\n",
    "2. Check the \"inoffice\" property\n",
    "3. Get the value for the \"name\" property; Insert it inside the li tag\n",
    "4. Close the li tag"
   ]
  },
  {
   "cell_type": "markdown",
   "metadata": {
    "collapsed": true
   },
   "source": [
    "## Challenge"
   ]
  },
  {
   "cell_type": "markdown",
   "metadata": {},
   "source": [
    "1. Repeat the same 4 steps of the AJAX process \n",
    "2. The URL for the JSON data is ../data/rooms.json\n",
    "3. Finished widget HTML\n",
    "4. inside a div with the ID of \"roomList\""
   ]
  },
  {
   "cell_type": "markdown",
   "metadata": {},
   "source": [
    "<ul class=\"rooms\">\n",
    "  <li class=\"full\">101</li>\n",
    "  <li class=\"empty\">102</li>\n",
    "  ...\n",
    "  <li class=\"empty\">106</li>\n",
    "</ul>"
   ]
  }
 ],
 "metadata": {
  "kernelspec": {
   "display_name": "Javascript (Node.js)",
   "language": "javascript",
   "name": "javascript"
  },
  "language_info": {
   "file_extension": ".js",
   "mimetype": "application/javascript",
   "name": "javascript",
   "version": "6.12.2"
  }
 },
 "nbformat": 4,
 "nbformat_minor": 2
}
