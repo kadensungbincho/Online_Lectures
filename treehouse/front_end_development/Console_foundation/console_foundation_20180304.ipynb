{
 "cells": [
  {
   "cell_type": "markdown",
   "metadata": {},
   "source": [
    "- Console is another way to interact with your computer"
   ]
  },
  {
   "cell_type": "markdown",
   "metadata": {},
   "source": [
    "- more flexibility and consistency with console"
   ]
  },
  {
   "cell_type": "markdown",
   "metadata": {},
   "source": [
    "> POSIX"
   ]
  },
  {
   "cell_type": "markdown",
   "metadata": {},
   "source": [
    "- Unix\n",
    "- Darwin, GNU/Linux, Solaris, BSD"
   ]
  },
  {
   "cell_type": "markdown",
   "metadata": {},
   "source": [
    "> Windows"
   ]
  },
  {
   "cell_type": "markdown",
   "metadata": {},
   "source": [
    "- Command line\n",
    "- Cursor\n",
    "- Prompt"
   ]
  },
  {
   "cell_type": "markdown",
   "metadata": {
    "collapsed": true
   },
   "source": [
    "- ls, ls -l, ls- -a\n",
    "- pwd : absolute path, relative path\n",
    "- cd"
   ]
  },
  {
   "cell_type": "markdown",
   "metadata": {},
   "source": [
    "# Reading files"
   ]
  },
  {
   "cell_type": "markdown",
   "metadata": {},
   "source": [
    "- less  \n",
    "- more\n",
    "- cat"
   ]
  },
  {
   "cell_type": "markdown",
   "metadata": {},
   "source": [
    "# Editing Files\n"
   ]
  },
  {
   "cell_type": "markdown",
   "metadata": {},
   "source": [
    "- nano\n",
    "- vim"
   ]
  },
  {
   "cell_type": "markdown",
   "metadata": {},
   "source": [
    "# Moving and Deleting Files"
   ]
  },
  {
   "cell_type": "markdown",
   "metadata": {},
   "source": [
    "- need recusive option to cp or rm many files "
   ]
  },
  {
   "cell_type": "markdown",
   "metadata": {},
   "source": [
    "cp -r documents docs  \n"
   ]
  },
  {
   "cell_type": "markdown",
   "metadata": {},
   "source": [
    "- mkdir"
   ]
  },
  {
   "cell_type": "markdown",
   "metadata": {},
   "source": [
    "mkdir -p documents/notes/console "
   ]
  },
  {
   "cell_type": "markdown",
   "metadata": {},
   "source": [
    "# Creating User"
   ]
  },
  {
   "cell_type": "markdown",
   "metadata": {},
   "source": [
    "- whoami : print out the name of user\n",
    "- adduser [name of user] \n",
    "- su(switch user) [name of user] \n",
    "- "
   ]
  },
  {
   "cell_type": "markdown",
   "metadata": {},
   "source": [
    "# Permissions"
   ]
  },
  {
   "cell_type": "markdown",
   "metadata": {},
   "source": [
    "- Read, Write, Execute\n",
    "- User, Group, others\n",
    "\n",
    "3 x 3 9 characters\n",
    "drwxrwxrwx 3\n",
    "-rwxrwxrwx 3 \n",
    "\n",
    "- the first d stands for directory"
   ]
  },
  {
   "cell_type": "markdown",
   "metadata": {},
   "source": [
    "- chmod"
   ]
  },
  {
   "cell_type": "markdown",
   "metadata": {},
   "source": [
    "chmod o-r [filename]"
   ]
  },
  {
   "cell_type": "markdown",
   "metadata": {},
   "source": [
    "- https://askubuntu.com/questions/11840/how-do-i-use-chmod-on-an-ntfs-or-fat32-partition"
   ]
  },
  {
   "cell_type": "markdown",
   "metadata": {},
   "source": [
    "# File Ownership"
   ]
  },
  {
   "cell_type": "markdown",
   "metadata": {},
   "source": [
    "- chown [user name] [filename]  : change the owner of a file \n",
    "- chown [user name]:[group name] [filename] : change the owner and group of a file\n",
    "- "
   ]
  },
  {
   "cell_type": "markdown",
   "metadata": {},
   "source": [
    "# Sudo"
   ]
  },
  {
   "cell_type": "markdown",
   "metadata": {},
   "source": [
    "!! : replace it with previously ran command"
   ]
  },
  {
   "cell_type": "markdown",
   "metadata": {},
   "source": [
    "chown kadencho hello.txt     -> get errors\n",
    "sudo !!                      -> works"
   ]
  },
  {
   "cell_type": "markdown",
   "metadata": {},
   "source": [
    "# Process"
   ]
  },
  {
   "cell_type": "markdown",
   "metadata": {},
   "source": [
    "> top"
   ]
  },
  {
   "cell_type": "markdown",
   "metadata": {},
   "source": [
    "- ? : help\n",
    "- F, O : to sort standard \n",
    "- "
   ]
  },
  {
   "cell_type": "markdown",
   "metadata": {},
   "source": [
    "> ps"
   ]
  },
  {
   "cell_type": "markdown",
   "metadata": {},
   "source": [
    "- current process"
   ]
  },
  {
   "cell_type": "markdown",
   "metadata": {},
   "source": [
    "> ps aux"
   ]
  },
  {
   "cell_type": "markdown",
   "metadata": {},
   "source": [
    "- all the processes on your machine"
   ]
  },
  {
   "cell_type": "markdown",
   "metadata": {},
   "source": [
    "> ps aux | grep top \n"
   ]
  },
  {
   "cell_type": "markdown",
   "metadata": {},
   "source": [
    "- pipe to combine filter\n",
    "- grep is a tool taht allows us to take some input, search for a certain pattern, and filter only the lines with that pattern on it."
   ]
  },
  {
   "cell_type": "markdown",
   "metadata": {},
   "source": [
    "# Pausing and Resuming"
   ]
  },
  {
   "cell_type": "markdown",
   "metadata": {},
   "source": [
    "- manage jobs"
   ]
  },
  {
   "cell_type": "markdown",
   "metadata": {},
   "source": [
    "- Processes have id which is 5 ~ 6 digits(complicated)\n",
    "- Jobs belong to you in your session, so they can have job numbers like 1, 2, and 3 which are easier to work with\n",
    "- **ctrl + z** : pause\n",
    "- job number in **[]**\n",
    "- **fg** (foreground command) : Bringg the most recently stopped program to the foreground"
   ]
  },
  {
   "cell_type": "markdown",
   "metadata": {},
   "source": [
    "- ** jobs ** : print the list of jobs in this session"
   ]
  },
  {
   "cell_type": "markdown",
   "metadata": {},
   "source": [
    "> Add & at the end of command to **automatically put in background**"
   ]
  },
  {
   "cell_type": "markdown",
   "metadata": {},
   "source": [
    "# Killing Processes"
   ]
  },
  {
   "cell_type": "markdown",
   "metadata": {},
   "source": [
    "- signal : A message sent to a process by the operating system"
   ]
  },
  {
   "cell_type": "markdown",
   "metadata": {},
   "source": [
    "- signal: TERM (terminate) : Requests that the process terminates after any cleanup"
   ]
  },
  {
   "cell_type": "markdown",
   "metadata": {},
   "source": [
    "- ctrl + c : Send the TERM signal to the current process, is a consistent way t o signal to a particular process that you're running, that you want it to terminate."
   ]
  },
  {
   "cell_type": "markdown",
   "metadata": {},
   "source": [
    "> But what if the target is on the other tab or terminal?"
   ]
  },
  {
   "cell_type": "markdown",
   "metadata": {},
   "source": [
    "- jobs are per sessions, which means that we can't foreground it over the other tab or terminal"
   ]
  },
  {
   "cell_type": "markdown",
   "metadata": {},
   "source": [
    "1. Find the process ID usually by \"ps aux | grep\"\n",
    "2. check the id number is correct \n",
    "3. kill [process id number]  == kill -TERM [process id number] == kill -15 [process id number]"
   ]
  },
  {
   "cell_type": "markdown",
   "metadata": {},
   "source": [
    "> But sometimes a process can get in a state where it's not even looking at those signals coming in."
   ]
  },
  {
   "cell_type": "markdown",
   "metadata": {},
   "source": [
    "- We need to escalate things"
   ]
  },
  {
   "cell_type": "markdown",
   "metadata": {},
   "source": [
    "1. Find the process ID usually by \"ps aux | grep\"\n",
    "2. kill -KILL [process id number] == kill -9 [process id number] : forcely kill the process, use this with care"
   ]
  },
  {
   "cell_type": "markdown",
   "metadata": {},
   "source": [
    "![main](killprocess.png \"main\")"
   ]
  },
  {
   "cell_type": "markdown",
   "metadata": {},
   "source": [
    "- But this just shows you what kill does. When we send a normal terminate signal, the top command was able to clear out anything that we saw before, and appropriately place our new command lien at the bottom of it. However, the process just stopped, so our new cursor kind of appeared wherever it needed to be. And it didn't get a chance to clean up after itself."
   ]
  },
  {
   "cell_type": "markdown",
   "metadata": {},
   "source": [
    "- kill -STOP [process id number] : keep the process at the background, can see with \"jobs\""
   ]
  },
  {
   "cell_type": "markdown",
   "metadata": {
    "collapsed": true
   },
   "source": [
    "# Environmental Variables"
   ]
  },
  {
   "cell_type": "markdown",
   "metadata": {},
   "source": [
    "> Command"
   ]
  },
  {
   "cell_type": "markdown",
   "metadata": {},
   "source": [
    "- env (capitalized"
   ]
  },
  {
   "cell_type": "markdown",
   "metadata": {},
   "source": [
    "- PS1 : prompt"
   ]
  },
  {
   "cell_type": "markdown",
   "metadata": {},
   "source": [
    "> \\$ to retrieve env variables"
   ]
  },
  {
   "cell_type": "markdown",
   "metadata": {},
   "source": [
    "- echo $HOME\n",
    "- echo $PS1\n",
    "- PS1=\"\\e >\"\n",
    "\n",
    "- bash : make a session in our former session\n",
    "- all env sets are changed, get back when getting out with exit"
   ]
  },
  {
   "cell_type": "markdown",
   "metadata": {},
   "source": [
    "if we set MESSAGE just by MESSAGE=\"hello world\"\n",
    "\n",
    "we lose the value when we get new bash\n",
    "\n",
    "but we can use export MESSAGE=\"hello world\" to use variables in other bash"
   ]
  },
  {
   "cell_type": "markdown",
   "metadata": {},
   "source": [
    "** path**"
   ]
  },
  {
   "cell_type": "markdown",
   "metadata": {},
   "source": [
    "- which echo\n",
    "/bin/echo\n",
    "- /bin/echo Hello  : full path command\n",
    "Hello \n",
    "\n",
    "-> Add path to use anywhere"
   ]
  },
  {
   "cell_type": "markdown",
   "metadata": {},
   "source": [
    "path left to right (left prior)"
   ]
  },
  {
   "cell_type": "markdown",
   "metadata": {},
   "source": [
    "> insert path as a first element"
   ]
  },
  {
   "cell_type": "markdown",
   "metadata": {},
   "source": [
    "- export PATH=/home/treehouse/bin:$PATH"
   ]
  },
  {
   "cell_type": "markdown",
   "metadata": {},
   "source": [
    "> Edit .bachrc to automatically run program when the shell starts"
   ]
  },
  {
   "cell_type": "markdown",
   "metadata": {},
   "source": [
    "- add export PATH=/home/treehouse/bin:$PATH to .bashrc "
   ]
  },
  {
   "cell_type": "markdown",
   "metadata": {},
   "source": [
    "# Find and Grep"
   ]
  },
  {
   "cell_type": "markdown",
   "metadata": {},
   "source": [
    "> find [base directory] -name \"[name of a file]\""
   ]
  },
  {
   "cell_type": "markdown",
   "metadata": {},
   "source": [
    "- find documents bin -name \"how to find a file\"\n"
   ]
  },
  {
   "cell_type": "markdown",
   "metadata": {},
   "source": [
    "> grep : search inside a file for a pattern (global regular expression print)"
   ]
  },
  {
   "cell_type": "markdown",
   "metadata": {},
   "source": [
    "- grep \"is\" hello.txt\n",
    "- grep -n \"is\" hello.txt  : print out line number option\n",
    "- grep -i \"is\" hello.txt : case insensitive\n",
    "- grep -v  e hello.txt : words without e\n",
    "- man grep "
   ]
  },
  {
   "cell_type": "markdown",
   "metadata": {},
   "source": [
    "# Pipes and Redirections"
   ]
  },
  {
   "cell_type": "markdown",
   "metadata": {},
   "source": [
    "> standard in and standard out"
   ]
  },
  {
   "cell_type": "markdown",
   "metadata": {},
   "source": [
    "<FILE : use FILE as the standard input"
   ]
  },
  {
   "cell_type": "markdown",
   "metadata": {},
   "source": [
    "grep this hello.txt > hello_grep.txt\n",
    "\n",
    "grep this > hello_grep.txt \n",
    "\n",
    "-> use standard input sequencially"
   ]
  },
  {
   "cell_type": "markdown",
   "metadata": {},
   "source": [
    "$ >>FILE $ : Redirect output to append to FILE"
   ]
  },
  {
   "cell_type": "markdown",
   "metadata": {},
   "source": [
    "> standard error"
   ]
  },
  {
   "cell_type": "markdown",
   "metadata": {},
   "source": [
    "- find / -name \"sudoers\" 2> FILE : Redirect the standard error stream to FILE"
   ]
  },
  {
   "cell_type": "markdown",
   "metadata": {},
   "source": [
    "/dev/null : A special file that will delete anything written into it"
   ]
  },
  {
   "cell_type": "markdown",
   "metadata": {},
   "source": [
    "- find / -name \"sudoers\" 2> /dev/null "
   ]
  },
  {
   "cell_type": "markdown",
   "metadata": {},
   "source": [
    "> sort : sorts the lines of standard input and sends it to standard output"
   ]
  },
  {
   "cell_type": "markdown",
   "metadata": {},
   "source": [
    "- ps aux | grep bash | sort > sorted.txt"
   ]
  },
  {
   "cell_type": "markdown",
   "metadata": {},
   "source": [
    "# Building Software From Source"
   ]
  },
  {
   "cell_type": "markdown",
   "metadata": {},
   "source": [
    "- package manager : APT (Advanced packaging tool)"
   ]
  },
  {
   "cell_type": "markdown",
   "metadata": {},
   "source": [
    "- sudo apt-get update \n",
    "- sudo apt-get install build-essential\n"
   ]
  },
  {
   "cell_type": "markdown",
   "metadata": {},
   "source": [
    "- curl -O "
   ]
  },
  {
   "cell_type": "markdown",
   "metadata": {},
   "source": [
    "- ./configure, make, sudo make install"
   ]
  },
  {
   "cell_type": "markdown",
   "metadata": {},
   "source": [
    "1. Download source file\n",
    "2. Untar file\n",
    "3. Run ./configure script\n",
    "4. Run make command\n",
    "5. Run sudo make install"
   ]
  },
  {
   "cell_type": "markdown",
   "metadata": {},
   "source": [
    "# Introduction to Package Managers"
   ]
  },
  {
   "cell_type": "markdown",
   "metadata": {},
   "source": [
    "- Packages manager are advantageous on managin dependencies, handling updates, and uninstalling. \n",
    "- APT \n",
    "- Ubuntu is a member of a family of Linux distributions that are based on Debian Linux.\n",
    "- APT is for debian Linux and its distros\n",
    "- Some others are Pacman, RPM, and YUM"
   ]
  },
  {
   "cell_type": "markdown",
   "metadata": {},
   "source": [
    "- sudo apt-get update\n",
    "- apt-cache search git : find packages with the pattern\n",
    "- "
   ]
  },
  {
   "cell_type": "code",
   "execution_count": null,
   "metadata": {
    "collapsed": true
   },
   "outputs": [],
   "source": []
  }
 ],
 "metadata": {
  "kernelspec": {
   "display_name": "Python 3",
   "language": "python",
   "name": "python3"
  },
  "language_info": {
   "codemirror_mode": {
    "name": "ipython",
    "version": 3
   },
   "file_extension": ".py",
   "mimetype": "text/x-python",
   "name": "python",
   "nbconvert_exporter": "python",
   "pygments_lexer": "ipython3",
   "version": "3.6.2"
  }
 },
 "nbformat": 4,
 "nbformat_minor": 2
}
