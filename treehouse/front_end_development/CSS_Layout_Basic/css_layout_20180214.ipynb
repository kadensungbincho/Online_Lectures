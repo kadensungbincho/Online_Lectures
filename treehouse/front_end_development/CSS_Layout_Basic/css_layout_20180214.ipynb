{
 "cells": [
  {
   "cell_type": "markdown",
   "metadata": {},
   "source": [
    "# CSS Reset with Normalize"
   ]
  },
  {
   "cell_type": "markdown",
   "metadata": {},
   "source": [
    "- User Agent Stylesheet : default css by web browser\n",
    "- CSS reset removes all browser inconsistencies to ensure that your layout diplays as consistently as possible across all browsers."
   ]
  },
  {
   "cell_type": "markdown",
   "metadata": {},
   "source": [
    "- http://nicolasgallagher.com/about-normalize-css/\n",
    "- https://necolas.github.io/normalize.css/"
   ]
  },
  {
   "cell_type": "markdown",
   "metadata": {},
   "source": [
    "# Creating a layout wrapper"
   ]
  },
  {
   "cell_type": "markdown",
   "metadata": {},
   "source": [
    "- wrapper and container"
   ]
  },
  {
   "cell_type": "markdown",
   "metadata": {},
   "source": [
    "** collapsing margin **"
   ]
  },
  {
   "cell_type": "markdown",
   "metadata": {},
   "source": [
    "- https://developer.mozilla.org/en-US/docs/Web/CSS/CSS_Box_Model/Mastering_margin_collapsing"
   ]
  },
  {
   "cell_type": "markdown",
   "metadata": {},
   "source": [
    "![main](fullwidth_control.png \"main\")"
   ]
  },
  {
   "cell_type": "markdown",
   "metadata": {},
   "source": [
    "# Mobile First Approach"
   ]
  },
  {
   "cell_type": "markdown",
   "metadata": {
    "collapsed": true
   },
   "source": [
    "- https://zurb.com/word/mobile-first\n",
    "- http://bradfrost.com/blog/web/mobile-first-responsive-web-design/\n",
    "- http://blog.teamtreehouse.com/box-sizing-secret-simple-css-layouts\n",
    "- http://blog.teamtreehouse.com/take-control-of-the-box-model-with-box-sizing"
   ]
  },
  {
   "cell_type": "markdown",
   "metadata": {},
   "source": [
    "# Sticky footer"
   ]
  },
  {
   "cell_type": "markdown",
   "metadata": {},
   "source": [
    "- https://css-tricks.com/snippets/css/sticky-footer/\n",
    "- https://developer.mozilla.org/en-US/docs/Web/CSS/min-height\n",
    "- https://developer.mozilla.org/en-US/docs/Web/CSS/calc\n",
    "- https://snook.ca/archives/html_and_css/vm-vh-units"
   ]
  },
  {
   "cell_type": "markdown",
   "metadata": {},
   "source": [
    "# Positioning Elements side-by-side with inline display"
   ]
  },
  {
   "cell_type": "markdown",
   "metadata": {},
   "source": [
    "- inline cannot have top, bottom margin or padding"
   ]
  },
  {
   "cell_type": "markdown",
   "metadata": {},
   "source": [
    "# Wrapping Text Around Images with Floats"
   ]
  },
  {
   "cell_type": "markdown",
   "metadata": {},
   "source": [
    "# Clearing and Containing Floats"
   ]
  },
  {
   "cell_type": "markdown",
   "metadata": {},
   "source": [
    "- When you apply this clearfix to a non-floating element, like the generated afterpseudo element, it moves the element below all floated elements. This movement prevents the container's height from collapsing."
   ]
  },
  {
   "cell_type": "markdown",
   "metadata": {},
   "source": [
    "- http://nicolasgallagher.com/micro-clearfix-hack/\n",
    "- https://developer.mozilla.org/en-US/docs/Web/CSS/overflow\n",
    "- https://developer.mozilla.org/en-US/docs/Web/CSS/clear\n",
    "- https://developer.mozilla.org/en-US/docs/Web/CSS/%3A%3Aafter"
   ]
  },
  {
   "cell_type": "markdown",
   "metadata": {
    "collapsed": true
   },
   "source": [
    "# How Absolute Positioning Works"
   ]
  },
  {
   "cell_type": "markdown",
   "metadata": {},
   "source": [
    "- https://developer.mozilla.org/en-US/docs/Web/CSS/z-index\n",
    "- https://philipwalton.com/articles/what-no-one-told-you-about-z-index/"
   ]
  },
  {
   "cell_type": "code",
   "execution_count": null,
   "metadata": {
    "collapsed": true
   },
   "outputs": [],
   "source": []
  }
 ],
 "metadata": {
  "kernelspec": {
   "display_name": "Python 3",
   "language": "python",
   "name": "python3"
  },
  "language_info": {
   "codemirror_mode": {
    "name": "ipython",
    "version": 3
   },
   "file_extension": ".py",
   "mimetype": "text/x-python",
   "name": "python",
   "nbconvert_exporter": "python",
   "pygments_lexer": "ipython3",
   "version": "3.6.2"
  }
 },
 "nbformat": 4,
 "nbformat_minor": 2
}
