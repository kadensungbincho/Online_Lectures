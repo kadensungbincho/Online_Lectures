{
 "cells": [
  {
   "cell_type": "markdown",
   "metadata": {},
   "source": [
    "- About front end part relating to : HTML, CSS, JS"
   ]
  },
  {
   "cell_type": "markdown",
   "metadata": {},
   "source": [
    "- HTTP Request \n",
    "- first for HTML, then HTML request subsequently asking for CSS< JS, images, and more.\n",
    "- page weight : the total file size of all of your site's assets."
   ]
  },
  {
   "cell_type": "markdown",
   "metadata": {},
   "source": [
    "## Chrome Dev Tools : Measurement"
   ]
  },
  {
   "cell_type": "markdown",
   "metadata": {},
   "source": [
    "- Google page speed"
   ]
  },
  {
   "cell_type": "markdown",
   "metadata": {},
   "source": [
    "- https://developers.google.com/speed/"
   ]
  },
  {
   "cell_type": "markdown",
   "metadata": {},
   "source": [
    "# Optimize images\n",
    "- https://teamtreehouse.com/library/svg-basics"
   ]
  },
  {
   "cell_type": "markdown",
   "metadata": {},
   "source": [
    "# Optimize CSS"
   ]
  },
  {
   "cell_type": "markdown",
   "metadata": {
    "collapsed": true
   },
   "source": [
    "## Create a Sprite Map"
   ]
  },
  {
   "cell_type": "markdown",
   "metadata": {},
   "source": [
    "## Optimize JS"
   ]
  },
  {
   "cell_type": "markdown",
   "metadata": {},
   "source": [
    "- Why put JS at the end of the script?"
   ]
  },
  {
   "cell_type": "markdown",
   "metadata": {},
   "source": [
    "> Simple Explanation"
   ]
  },
  {
   "cell_type": "markdown",
   "metadata": {},
   "source": [
    "- When our page is being loaded and the browser finds a JavaScript file, it will block any further rendering until the JavaScript has finished being loaded and parsed. Loading JavaScript at the bottom won't really change the overall amount of time that it takes for everything to load. But it will improve what's called perceived performance. In other words, if the HTML content and the CSS styling is loaded in.  The user can see that first, and then in the next instant, the JavaScript is loaded in, usually before the user can tap or click on anything. We're just loading things in a different order so that it looks like it's faster to the end user."
   ]
  },
  {
   "cell_type": "markdown",
   "metadata": {},
   "source": [
    "> Complicated Explanation"
   ]
  },
  {
   "cell_type": "markdown",
   "metadata": {},
   "source": [
    "- async attribute introduced in HTML5, which now has fairly decent browser support. We can sometimes add the async attribute to a JavaScript file if it's completely independent of any other file on the page, and this will tell the browser not to block rendering and perform more operations in parallel. That sounds great but if we're already loading JavaScript at the bottom, then there's no need to load JavaScript asynchronously because we're not really blocking any rendering. So then, why not keep our scripts at the top and use the async attribute? "
   ]
  },
  {
   "cell_type": "markdown",
   "metadata": {},
   "source": [
    "- Well, when we use async, scripts will be executed immediately after they're loaded. That's fine if the scripts are completely independent and don't depend on one another. \n",
    "\n",
    "- For example, if a jQuery plugin loaded before the jQuery library itself, there would be errors all over our page.\n",
    "- https://www.html5rocks.com/en/tutorials/speed/script-loading/"
   ]
  },
  {
   "cell_type": "markdown",
   "metadata": {},
   "source": [
    "# Minify\n",
    "- google compiler for JS\n",
    "- CSS minifier for CSS"
   ]
  },
  {
   "cell_type": "markdown",
   "metadata": {},
   "source": [
    "- https://closure-compiler.appspot.com/home\n",
    "- https://cssminifier.com/"
   ]
  },
  {
   "cell_type": "markdown",
   "metadata": {},
   "source": [
    "add compiled JS code on index.html file directly"
   ]
  },
  {
   "cell_type": "markdown",
   "metadata": {},
   "source": [
    "$(document).ready(function(){$(\".magnific\").magnificPopup({type:\"image\",closeOnContentClick:!0,image:{verticalFit:!1}})});"
   ]
  },
  {
   "cell_type": "markdown",
   "metadata": {},
   "source": [
    "![main](optimization.png \"main\")"
   ]
  },
  {
   "cell_type": "markdown",
   "metadata": {},
   "source": [
    "- start from 20 requests and 800 KB, about 500 ms"
   ]
  },
  {
   "cell_type": "code",
   "execution_count": null,
   "metadata": {
    "collapsed": true
   },
   "outputs": [],
   "source": []
  }
 ],
 "metadata": {
  "kernelspec": {
   "display_name": "Javascript (Node.js)",
   "language": "javascript",
   "name": "javascript"
  },
  "language_info": {
   "file_extension": ".js",
   "mimetype": "application/javascript",
   "name": "javascript",
   "version": "6.12.2"
  }
 },
 "nbformat": 4,
 "nbformat_minor": 2
}
