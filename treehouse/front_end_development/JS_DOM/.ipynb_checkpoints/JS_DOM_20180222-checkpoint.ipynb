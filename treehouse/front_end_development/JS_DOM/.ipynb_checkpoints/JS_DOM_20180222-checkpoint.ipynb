{
 "cells": [
  {
   "cell_type": "markdown",
   "metadata": {},
   "source": [
    "** Getting and Setting Text with textContent and innerHTML **"
   ]
  },
  {
   "cell_type": "markdown",
   "metadata": {},
   "source": [
    "- Element.textContent\n",
    "- Element.innerHTML"
   ]
  },
  {
   "cell_type": "code",
   "execution_count": null,
   "metadata": {
    "collapsed": true
   },
   "outputs": [],
   "source": [
    "let myHeading = document.querySelector('h1')\n",
    "myHeading.textContent\n"
   ]
  },
  {
   "cell_type": "markdown",
   "metadata": {},
   "source": [
    "- Element.attribute"
   ]
  },
  {
   "cell_type": "markdown",
   "metadata": {},
   "source": [
    "** Creating New DOM Elements **"
   ]
  },
  {
   "cell_type": "markdown",
   "metadata": {},
   "source": [
    "- document.CreateElement('div')"
   ]
  },
  {
   "cell_type": "markdown",
   "metadata": {
    "collapsed": true
   },
   "source": [
    "# Event?"
   ]
  },
  {
   "cell_type": "markdown",
   "metadata": {},
   "source": [
    "- e.g. click, double click, mousedown, mouseover, \n",
    "- touch, \n",
    "- keydown, "
   ]
  },
  {
   "cell_type": "markdown",
   "metadata": {},
   "source": [
    "- selecting\n",
    "- manipulating\n",
    "- listening for use action : https://developer.mozilla.org/en-US/docs/Web/API/EventTarget/addEventListener"
   ]
  },
  {
   "cell_type": "markdown",
   "metadata": {},
   "source": [
    "** Previoud Element Sibling **"
   ]
  },
  {
   "cell_type": "markdown",
   "metadata": {},
   "source": [
    "- https://developer.mozilla.org/en-US/docs/Web/API/NonDocumentTypeChildNode/previousElementSibling"
   ]
  },
  {
   "cell_type": "markdown",
   "metadata": {},
   "source": [
    "- Traversal : Selet an element based on its relationship to another element within the DOM"
   ]
  },
  {
   "cell_type": "markdown",
   "metadata": {},
   "source": [
    "- parentNode.firstElementChild\n",
    "- parentNode.lastElementChild"
   ]
  },
  {
   "cell_type": "code",
   "execution_count": null,
   "metadata": {
    "collapsed": true
   },
   "outputs": [],
   "source": []
  }
 ],
 "metadata": {
  "kernelspec": {
   "display_name": "Javascript (Node.js)",
   "language": "javascript",
   "name": "javascript"
  },
  "language_info": {
   "file_extension": ".js",
   "mimetype": "application/javascript",
   "name": "javascript",
   "version": "6.12.2"
  }
 },
 "nbformat": 4,
 "nbformat_minor": 2
}
