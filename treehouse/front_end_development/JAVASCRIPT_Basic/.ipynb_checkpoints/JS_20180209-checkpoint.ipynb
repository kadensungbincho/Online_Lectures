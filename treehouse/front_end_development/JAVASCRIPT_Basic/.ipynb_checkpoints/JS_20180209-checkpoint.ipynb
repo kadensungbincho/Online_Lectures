{
 "cells": [
  {
   "cell_type": "markdown",
   "metadata": {},
   "source": [
    "- Vocabulary\n",
    "- Programming Technique"
   ]
  },
  {
   "cell_type": "markdown",
   "metadata": {},
   "source": [
    "** statement**"
   ]
  },
  {
   "cell_type": "markdown",
   "metadata": {
    "collapsed": true
   },
   "source": [
    "- running and executing the program\n",
    "\n",
    "> alert, document.write, console"
   ]
  },
  {
   "cell_type": "markdown",
   "metadata": {},
   "source": [
    "## Variables"
   ]
  },
  {
   "cell_type": "code",
   "execution_count": 4,
   "metadata": {},
   "outputs": [
    {
     "name": "stdout",
     "output_type": "stream",
     "text": [
      "Hello!\n"
     ]
    }
   ],
   "source": [
    "var message = \"Hello!\";\n",
    "console.log(message);"
   ]
  },
  {
   "cell_type": "code",
   "execution_count": 6,
   "metadata": {},
   "outputs": [
    {
     "ename": "ReferenceError",
     "evalue": "document is not defined",
     "output_type": "error",
     "traceback": [
      "evalmachine.<anonymous>:1",
      "document.write(\"come\");",
      "^",
      "",
      "ReferenceError: document is not defined",
      "    at evalmachine.<anonymous>:1:1",
      "    at ContextifyScript.Script.runInThisContext (vm.js:25:33)",
      "    at Object.runInThisContext (vm.js:97:38)",
      "    at run ([eval]:775:15)",
      "    at onRunRequest ([eval]:620:18)",
      "    at onMessage ([eval]:588:13)",
      "    at emitTwo (events.js:106:13)",
      "    at process.emit (events.js:191:7)",
      "    at process.nextTick (internal/child_process.js:787:12)",
      "    at _combinedTickCallback (internal/process/next_tick.js:73:7)"
     ]
    }
   ],
   "source": [
    "document.write(\"come\");"
   ]
  },
  {
   "cell_type": "markdown",
   "metadata": {},
   "source": [
    "## Naming variables"
   ]
  },
  {
   "cell_type": "markdown",
   "metadata": {},
   "source": [
    "- no reserver name \n",
    "- break, default, var ...\n"
   ]
  }
 ],
 "metadata": {
  "kernelspec": {
   "display_name": "Javascript (Node.js)",
   "language": "javascript",
   "name": "javascript"
  },
  "language_info": {
   "file_extension": ".js",
   "mimetype": "application/javascript",
   "name": "javascript",
   "version": "6.12.2"
  }
 },
 "nbformat": 4,
 "nbformat_minor": 2
}
