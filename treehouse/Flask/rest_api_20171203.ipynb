{
 "cells": [
  {
   "cell_type": "markdown",
   "metadata": {},
   "source": [
    "# Lecture : Beyond GET and POST\n",
    "- http://flask.pocoo.org/docs/0.10/quickstart/#about-responses"
   ]
  },
  {
   "cell_type": "markdown",
   "metadata": {},
   "source": [
    "# Lecture : Hashing Users\n",
    "- pip install argon2-cffi https://argon2-cffi.readthedocs.org/en/stable/\n",
    "- https://hynek.me/articles/storing-passwords/#fnref:fea7314775d264387c9689950a89a459:exc\n",
    "- classmethod https://docs.python.org/3/library/functions.html?highlight=classmethod#classmethod\n",
    "- staticmethod https://docs.python.org/3/library/functions.html?highlight=staticmethod#staticmethod"
   ]
  },
  {
   "cell_type": "markdown",
   "metadata": {},
   "source": [
    "- Assign : user list with a post "
   ]
  },
  {
   "cell_type": "markdown",
   "metadata": {},
   "source": [
    "# Lecture : User Resources\n",
    "- http://docs.peewee-orm.com/en/latest/peewee/database.html#schema-migrations"
   ]
  },
  {
   "cell_type": "markdown",
   "metadata": {},
   "source": [
    "# Lecture : HTTP Basic Auth\n",
    "- flask HTTP-Auth https://github.com/miguelgrinberg/Flask-HTTPAuth\n",
    "- docs https://flask-httpauth.readthedocs.io/en/latest/\n",
    "- flask object : http://flask.pocoo.org/docs/0.10/api/#flask.g\n",
    "\n",
    "- pip install flask-httpauth"
   ]
  },
  {
   "cell_type": "markdown",
   "metadata": {},
   "source": [
    "- this is when I remind you that you should always have an SSL certificate for anything that users a login."
   ]
  },
  {
   "cell_type": "markdown",
   "metadata": {},
   "source": [
    "# Lecture : Generating Tokens\n",
    "- https://pythonhosted.org/itsdangerous/\n",
    "- https://scotch.io/tutorials/the-anatomy-of-a-json-web-token"
   ]
  },
  {
   "cell_type": "markdown",
   "metadata": {},
   "source": [
    "- let's give our users a sager way of sending most of their requests by creating a signed token that they can give back to us to prove they are who they said they are."
   ]
  },
  {
   "cell_type": "markdown",
   "metadata": {},
   "source": [
    "# Lecture : Rate Limiting"
   ]
  },
  {
   "cell_type": "markdown",
   "metadata": {},
   "source": [
    "- https://flask-limiter.readthedocs.io/en/stable/\n",
    "- pip install flask_limiter"
   ]
  },
  {
   "cell_type": "markdown",
   "metadata": {},
   "source": [
    "- Rate limiting makes it so that a particular user can only access an endpoint so many times in a certain time period. This helps prevent stampedes against your API and makes things that much more stable."
   ]
  },
  {
   "cell_type": "markdown",
   "metadata": {},
   "source": [
    "![alt text](Lecture_ratelimiting.png 'Lecture_ratelimiting')"
   ]
  },
  {
   "cell_type": "markdown",
   "metadata": {},
   "source": [
    "## need more \n",
    "- caching a databas queries "
   ]
  },
  {
   "cell_type": "markdown",
   "metadata": {},
   "source": [
    "1. Q1 : What kind of auth accepts a username and password in plain text?\n",
    " Basic auth\n",
    "\n",
    "2. Q2 : When adding an argument to RequestParser, which argument controls where data is searched for?\n",
    " location\n",
    " \n",
    "3. Q3 : The Argon2 algorithm taxes both the CPU and memory of the attacker. Why is this effective?\n",
    " Eventually an attacker will run out of both of those resources.\n",
    " \n",
    "4. Q4 : What does marshaling do?\n",
    " Turns a code construct into something that's safe to transmit\n",
    "5. Using Flask Blueprints, how do you set the URL that comes before the Blueprint's routes?\n",
    " url_prefix\n",
    " \n",
    "6. When you create, update, or delete a record, you should include the **location**  header so the user knows where to go.\n",
    "\n",
    "7. Rate limiting is not a useful method of preventing DDOS attacks.\n",
    " False\n",
    " \n",
    "8. Flask Blueprints are pluggable apps.\n",
    " False\n",
    " \n",
    "9. For updating records, there are two HTTP methods commonly used: PATCH and what?\n",
    " put\n",
    " \n",
    "10. Why are tokens a useful way to handle authentication?\n",
    " - They don't require a username and password\n",
    " - They can be set to time out automatically, requiring a fresh session.\n",
    " - They can be signed so you know they're from your authentication mechanism\n",
    " - They can contain encoded data to provide extra information about an authenticated user\n"
   ]
  },
  {
   "cell_type": "code",
   "execution_count": null,
   "metadata": {
    "collapsed": true
   },
   "outputs": [],
   "source": []
  }
 ],
 "metadata": {
  "kernelspec": {
   "display_name": "Python 3",
   "language": "python",
   "name": "python3"
  },
  "language_info": {
   "codemirror_mode": {
    "name": "ipython",
    "version": 3
   },
   "file_extension": ".py",
   "mimetype": "text/x-python",
   "name": "python",
   "nbconvert_exporter": "python",
   "pygments_lexer": "ipython3",
   "version": "3.6.2"
  }
 },
 "nbformat": 4,
 "nbformat_minor": 2
}
