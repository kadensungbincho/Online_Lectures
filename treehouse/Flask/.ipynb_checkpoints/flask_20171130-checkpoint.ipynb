{
 "cells": [
  {
   "cell_type": "markdown",
   "metadata": {},
   "source": [
    "## Lecture : Stream Template"
   ]
  },
  {
   "cell_type": "markdown",
   "metadata": {},
   "source": [
    "## Lecture : Relationship Model\n",
    "- need asymmetrical relationship \n",
    "- indexes - A list of indexes to create on the model. These could be fields to index for faster searches or, as in our case, fields to make unique. More information\n",
    "- join() - A query that references another table or another query."
   ]
  },
  {
   "cell_type": "markdown",
   "metadata": {},
   "source": [
    "## Lecture : Follow and Unfollow Button\n",
    "- exposing IEDs could potentially open you up to some security problems."
   ]
  },
  {
   "cell_type": "markdown",
   "metadata": {},
   "source": [
    "**test example **\n",
    "<pre>\n",
    "import datetime\n",
    "\n",
    "from flask import Flask, g, render_template, flash, redirect, url_for\n",
    "from flask.ext.bcrypt import check_password_hash\n",
    "from flask.ext.login import LoginManager, login_user, current_user, login_required, logout_user\n",
    "\n",
    "import forms\n",
    "import models\n",
    "\n",
    "app = Flask(__name__)\n",
    "app.secret_key = 'this is our super secret key. do not share it with anyone!'\n",
    "login_manager = LoginManager()\n",
    "login_manager.init_app(app)\n",
    "login_manager.login_view = 'login'\n",
    "\n",
    "\n",
    "@login_manager.user_loader\n",
    "def load_user(userid):\n",
    "    try:\n",
    "        return models.User.select().where(\n",
    "            models.User.id == int(userid)\n",
    "        ).get()\n",
    "    except models.DoesNotExist:\n",
    "        return None\n",
    "\n",
    "\n",
    "@app.before_request\n",
    "def before_request():\n",
    "    g.db = models.DATABASE\n",
    "    g.db.connect()\n",
    "    g.user = current_user\n",
    "    \n",
    "\n",
    "@app.after_request\n",
    "def after_request(response):\n",
    "    g.db.close()\n",
    "    return response\n",
    "\n",
    "\n",
    "@app.route('/register', methods=('GET', 'POST'))\n",
    "def register():\n",
    "    form = forms.SignUpInForm()\n",
    "    if form.validate_on_submit():\n",
    "        models.User.new(\n",
    "            email=form.email.data,\n",
    "            password=form.password.data\n",
    "        )\n",
    "        flash(\"Thanks for registering!\") \n",
    "    return render_template('register.html', form=form)\n",
    "  \n",
    "\n",
    "@app.route('/login', methods=('GET', 'POST'))\n",
    "def login():\n",
    "    form = forms.SignUpInForm()\n",
    "    if form.validate_on_submit():\n",
    "        try:\n",
    "            user = models.User.get(\n",
    "                models.User.email == form.email.data\n",
    "            )\n",
    "            if check_password_hash(user.password, form.password.data):\n",
    "                login_user(user)\n",
    "                flash(\"You're now logged in!\")\n",
    "            else:\n",
    "                flash(\"No user with that email/password combo\")\n",
    "        except models.DoesNotExist:\n",
    "              flash(\"No user with that email/password combo\")\n",
    "    return render_template('register.html', form=form)\n",
    "\n",
    "@app.route('/secret')\n",
    "@login_required\n",
    "def secret():\n",
    "    return \"I should only be visible to logged-in users\"\n",
    "\n",
    "@app.route('/logout')\n",
    "def logout():\n",
    "    logout_user()\n",
    "    return redirect(url_for('login'))\n",
    "  \n",
    "\n",
    "@app.route('/')\n",
    "def index():\n",
    "    return render_template('index.html')\n",
    "\n",
    "\n",
    "@app.route('/order', methods=('GET', 'POST'))\n",
    "def order_lunch():\n",
    "    form = forms.LunchOrderForm()\n",
    "    if form.validate_on_submit():\n",
    "        models.LunchOrder.create(\n",
    "            user=g.user._get_current_object(),\n",
    "            date=form.date.data,\n",
    "            order=form.order.data.strip()\n",
    "        )\n",
    "    return render_template('lunch.html', form=form)\n",
    "\n",
    "\n",
    "@app.route('/today')\n",
    "@login_required\n",
    "def today():\n",
    "    order = models.LunchOrder.select().where(\n",
    "        models.LunchOrder.date == datetime.date.today() &\n",
    "        models.LunchOrder.user == g.user._get_current_object()\n",
    "    ).get()\n",
    "    return render_template('today.html', order=order)\n",
    "  \n",
    "\n",
    "@app.route('/cancel_order/<int:order_id>')\n",
    "@login_required\n",
    "def cancel_order(order_id):\n",
    "    try:\n",
    "        order = models.LunchOrder.select().where(\n",
    "            id=order_id,\n",
    "            user=g.user._get_current_object()\n",
    "        ).get()\n",
    "    except models.DoesNotExist:\n",
    "        pass\n",
    "    else:\n",
    "        order.delete_instance()\n",
    "    return redirect(url_for('index'))\n",
    "\n",
    "\n",
    "@app.route('/follow/<int:user_id>')\n",
    "@login_required\n",
    "def follow(user_id):\n",
    "    try: \n",
    "        to_user = models.User.get(models.User.id == user_id)\n",
    "    except models.DoesNotExist:\n",
    "        pass\n",
    "    else:\n",
    "        try:\n",
    "            models.Relationship.create(\n",
    "                from_user=g.user._get_current_object(),\n",
    "                to_user=to_user\n",
    "            )\n",
    "        except models.INtegrityError:\n",
    "            pass\n",
    "        else:\n",
    "            flash(\"You're now following {}!\".format(to_user.id), \"success\")\n",
    "    return redirect(url_for('index'))\n",
    "    \n",
    "    \n",
    "</pre>"
   ]
  },
  {
   "cell_type": "markdown",
   "metadata": {},
   "source": [
    "## Lecture : Show Follower Posts"
   ]
  },
  {
   "cell_type": "markdown",
   "metadata": {},
   "source": [
    "## Lecture : Handling 404s"
   ]
  },
  {
   "cell_type": "markdown",
   "metadata": {},
   "source": [
    "## Lecture : Suggestions\n",
    "- sysops ? \n",
    "- \n",
    "\n",
    "* Allow users to upload an avatar\n",
    "* Allow users to delete their account\n",
    "* Add a method for blocking users so you don't see their posts\n",
    "* Add a method for notifying users if they're mentioned in a post\n",
    "* Add a new leveer to your users, groups. Users belong to a group and you subscribe to a group's updates instead of a single user"
   ]
  },
  {
   "cell_type": "markdown",
   "metadata": {},
   "source": [
    "# Flask app making project"
   ]
  },
  {
   "cell_type": "markdown",
   "metadata": {},
   "source": [
    "1. A user model with an e-mail address and a password\n",
    "1.1 The password should be hashed with bcrypt\n",
    "2. Views for signing up, loggin in, and loggin out\n",
    "3. A model for a taco\n",
    "3.1 The taco should have a user, a protein choice, a cheese choice, a shell choice, and a free-form text field for further options\n",
    "4. The ability for users to browse other users recent taco creations on the home page"
   ]
  },
  {
   "cell_type": "code",
   "execution_count": null,
   "metadata": {
    "collapsed": true
   },
   "outputs": [],
   "source": []
  }
 ],
 "metadata": {
  "kernelspec": {
   "display_name": "Python 3",
   "language": "python",
   "name": "python3"
  },
  "language_info": {
   "codemirror_mode": {
    "name": "ipython",
    "version": 3
   },
   "file_extension": ".py",
   "mimetype": "text/x-python",
   "name": "python",
   "nbconvert_exporter": "python",
   "pygments_lexer": "ipython3",
   "version": "3.6.2"
  }
 },
 "nbformat": 4,
 "nbformat_minor": 2
}
