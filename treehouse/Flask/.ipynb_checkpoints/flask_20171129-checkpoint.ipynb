{
 "cells": [
  {
   "cell_type": "markdown",
   "metadata": {},
   "source": [
    "## Lecture : Flash messages"
   ]
  },
  {
   "cell_type": "markdown",
   "metadata": {},
   "source": [
    "When we need to send message to our users like popping up message. And, falsh messages actually use the users session, and, sessions in Flask are cryptographically signed, which is awesome, but, that means that we have to provide, a secret key for Flask to use to sign our messages."
   ]
  },
  {
   "cell_type": "markdown",
   "metadata": {},
   "source": [
    "\n",
    "<pre>\n",
    "  1 <!DOCTYPE html>\n",
    "  2 <html>\n",
    "  3     <head>\n",
    "  4         <title>Character Generator</title>\n",
    "  5         <link rel=\"stylesheet\" href=\"/static/css/normalize.min.css\">\n",
    "  6         <link rel=\"stylesheet\" href=\"/static/css/main.css\">\n",
    "  7         <meta http-equiv=\"X-UA-Compatible\" content=\"IE=edge,chrome=1\">\n",
    "  8         <meta name=\"viewport\" content=\"width=device-width, initial-scale=1\">\n",
    "  9     </head>\n",
    " 10     <body>\n",
    " 11         <div class=\"wrap no-bottom messages\">\n",
    " 12             {% with messages = get_flashed_messages() %}\n",
    " 13\n",
    " 14             {% endwith %}\n",
    " 15         </div>\n",
    " 16         {% block content %}{% endblock %}\n",
    " 17     </body>\n",
    " 18 </html>\n",
    " </pre>"
   ]
  },
  {
   "cell_type": "markdown",
   "metadata": {},
   "source": [
    "inside the with paragraph, have variable called messages which is from get_flashed_messages() that gets all of our flash messages"
   ]
  },
  {
   "cell_type": "markdown",
   "metadata": {},
   "source": [
    "flash(): This function stores a message in the session that will self-destruct after the response is returned.\n",
    "\n",
    "get_flashed_messages(): This function gets all of the flash messages stored in the session.\n",
    "\n",
    "app.secret_key: This configuration attribute stores the secret key that all messages are cryptographically signed with.\n",
    "\n",
    "{% with %}: The Flask template version of Python's with block. Let's you temporarily define a variable. Must be closed with {% endwith %}."
   ]
  },
  {
   "cell_type": "markdown",
   "metadata": {},
   "source": [
    "** Heroku : deploying flask  on web**\n",
    "\n",
    "https://devcenter.heroku.com/articles/getting-started-with-python#introduction"
   ]
  },
  {
   "cell_type": "markdown",
   "metadata": {},
   "source": [
    "# Build a Social Network with Flask\n",
    "- use flask, peewee + others\n",
    "- covers user registration, sign ups, and user authentication, or log ins\n",
    "- cryptographically hashin passwords with a decrypt library\n",
    "- function to follow or unfollow people"
   ]
  },
  {
   "cell_type": "markdown",
   "metadata": {},
   "source": [
    "- Third party log ins using tweeter and facebook. \n",
    "- The hashing library that we use produce hashes of around like 60 characters. But we want to have some wiggle room just in case something changes."
   ]
  },
  {
   "cell_type": "markdown",
   "metadata": {},
   "source": [
    "** put in all caps ** doesn't make it a constant, it tells people that you're wanting this to be a constant."
   ]
  },
  {
   "cell_type": "markdown",
   "metadata": {},
   "source": [
    "in /models.py\n",
    "\n",
    "<pre>\n",
    "1 import datetime\n",
    "  2\n",
    "  3 from peewee import *\n",
    "  4\n",
    "  5 DATABASE = SqliteDatabase('social.db')\n",
    "  6\n",
    "  7\n",
    "  8 class User(Model):\n",
    "  9     username = CharField(unique=True)\n",
    " 10     email = CharField(unique=True)\n",
    " 11     password = CharField(max_length=100)\n",
    " 12     joined_at = DataTimeField(default=datetime.datetime.now)\n",
    " 13     is_admin = BooleanField(default=False) # for extention, can add more on admin user\n",
    " 14\n",
    " 15     class Meta:\n",
    " 16         database = DATABASE\n",
    " 17         order_by = ('-joined_at',) # - sign for descending, newer come first\n",
    " \n",
    "</pre>"
   ]
  },
  {
   "cell_type": "markdown",
   "metadata": {},
   "source": [
    "packages : flask-login (we just use user mixin which is a class that gives some small in scope piece of functionality that isn't standalone.In this case, it gives us a few properties to tell if user is logged in or not, and a method for retrieving the user's ID. This won't change the actual database table though."
   ]
  },
  {
   "cell_type": "markdown",
   "metadata": {},
   "source": [
    " from flask.ext.login import UserMixin\n",
    " \n",
    "we use pip install flask-login but the library import like this because the flask ecosystem has this kind of neat pattern where the packages get installed to this ext module(stands for external area)."
   ]
  },
  {
   "cell_type": "markdown",
   "metadata": {},
   "source": [
    "9 class User(UserMixin, Model):\n",
    "\n",
    "we can use 2 parent class like this. latter one is the ultimate parent class.\n",
    "\n",
    "https://flask-login.readthedocs.io/en/latest/#your-user-class\n",
    "** The class that you use to represent users needs to implement these properties and methods: **\n",
    "- is_authenticated\n",
    "- is_active\n",
    "- is_anonumous\n",
    "- get_id()\n",
    "\n"
   ]
  },
  {
   "cell_type": "markdown",
   "metadata": {},
   "source": [
    "## Lecture : Cryptographic Hashing with Flask-Bcrypt\n",
    "- bcrypt lib : uses the Blowfish cipher salt to prevent rainbow table attacks and is resistant to brute force attacks.\n",
    "- Cryptographic Hashing : encryption is what you do when you create a secret message to send to your friend. You swap a for m, b for n, c for o etxetera, and do the opposite to read it. Encryption can always be reversed if you know the process, or have the correct key. Hashing, though, is a process that can't be undone. Without going too far into in, hashing involves a hash function that will always turn the same input into the same output, while in the same process. We use cryptographic hashing which add salt, the random data to the input even more different and unique. "
   ]
  },
  {
   "cell_type": "markdown",
   "metadata": {},
   "source": [
    "generate_password_hash(password, rounds=None)\n",
    "    This helper function wraps the eponymous method of :class:`Bcrypt`. It\n",
    "    is intended to be used as a helper function at the expense of the\n",
    "    configuration variable provided when passing back the app object. In other\n",
    "    words this shortcut does not make use of the app object at all.\n",
    "\n",
    "    To this this function, simple import it from the module and use it in a\n",
    "    similar fashion as the method would be used. Here is a quick example::\n",
    "\n",
    "        from flask.ext.bcrypt import generate_password_hash\n",
    "        pw_hash = generate_password_hash('hunter2', 10)\n",
    "\n",
    "    :param password: The password to be hashed.\n",
    "    :param rounds: The optional number of rounds"
   ]
  },
  {
   "cell_type": "markdown",
   "metadata": {},
   "source": [
    ">>> from flask.ext.bcrypt import generate_password_hash\n",
    "__main__:1: ExtDeprecationWarning: Importing flask.ext.bcrypt is deprecated, use flask_bcrypt instead.\n",
    ">>> from flask.bcrypt import generate_password_hash\n",
    "Traceback (most recent call last):\n",
    "  File \"<stdin>\", line 1, in <module>\n",
    "ModuleNotFoundError: No module named 'flask.bcrypt'\n",
    ">>> from flask_bcrypt import generate_password_hash\n",
    ">>> help(generate_password_hash)\n",
    "\n",
    ">>> generate_password_hash('secret')\n",
    "b'$2b$12$QXeCz8VO58FW0nf/uyRbEuPOG/8JO/0FwAs/0UbRvcj0cwd8sTIai"
   ]
  },
  {
   "cell_type": "markdown",
   "metadata": {},
   "source": [
    "- use from flask_bcrypt import generate_password_hash \n",
    "- hashed one starts with $2b$ or $2a$ \n",
    "- $12$ stands for the round of hashing\n",
    "- the others are hash"
   ]
  },
  {
   "cell_type": "markdown",
   "metadata": {},
   "source": [
    ">>> generate_password_hash('secret', 15)\n",
    "b'$2b$15$1dxPwf3ywkPJde4EAn2LjOmDAMoEn3agrAoMP9IyUjudW.wIRdMBW'"
   ]
  },
  {
   "cell_type": "markdown",
   "metadata": {},
   "source": [
    "** you can increase the round if the fail times of specific id is high. **\n",
    "- it takes longer and trickier"
   ]
  },
  {
   "cell_type": "markdown",
   "metadata": {},
   "source": [
    ">>> hashed_pw = generate_password_hash('secret')\n",
    ">>> hashed_pw\n",
    "b'$2b$12$8RVntUMKkRgOrs9K5TLh6./DGyhs2BdinJ8aD7EcRsvrDGC0erc/W'\n",
    ">>> hashed_pw == generate_password_hash('secret')\n",
    "False"
   ]
  },
  {
   "cell_type": "markdown",
   "metadata": {},
   "source": [
    "- it puts salt in the hash process so it shows 'False'"
   ]
  },
  {
   "cell_type": "markdown",
   "metadata": {},
   "source": [
    ">>> from flask_bcrypt import check_password_hash\n",
    ">>> check_password_hash(hashed_pw, 'secret')\n",
    "True"
   ]
  },
  {
   "cell_type": "markdown",
   "metadata": {},
   "source": [
    "in /models.py\n",
    "\n",
    "** classmethod describes a method that belongs to a class that can create the class it belongs to. **\n",
    "- if we don't have classmethod we have to create a user instance to call create user which will create a user instance.\n",
    "\n"
   ]
  },
  {
   "cell_type": "markdown",
   "metadata": {},
   "source": [
    "## Lecture : Before and After Requests\n",
    "- set database for flask app\n",
    "- handle connecting to or disconnecting from\n",
    "- ** G object"
   ]
  },
  {
   "cell_type": "markdown",
   "metadata": {},
   "source": [
    "we specified debug, port, host in app.run, I think it is a little bit cleaner to do these as variables. And then we chage them in one spot. Or if you start deploying to things like HEroku and you're gonna use the env variables. Now set them up here(upside of the app.py)."
   ]
  },
  {
   "cell_type": "markdown",
   "metadata": {},
   "source": [
    "- g is global object, it gets passed around all the time inside Falsks, so we can use this to like, set up things that we want to have available everywhere."
   ]
  },
  {
   "cell_type": "markdown",
   "metadata": {},
   "source": [
    "in /app.py\n",
    "\n",
    "<pre>\n",
    "  1\n",
    "  2 from flask import Flask, g\n",
    "  3\n",
    "  4 import models\n",
    "  5\n",
    "  6 DEBUG = True\n",
    "  7 PORT = 8000\n",
    "  8 HOST = '0.0.0.0'\n",
    "  9\n",
    " 10 app = Flask(__name__)\n",
    " 11\n",
    " 12\n",
    " 13\n",
    " 14 @app.before_request\n",
    " 15 def before_request():\n",
    " 16     \"\"\"Connect to the database before each request.\"\"\"\n",
    " 17     g.db = models.DATABASE\n",
    " 18     g.db.connect()\n",
    " 19\n",
    " 20\n",
    " 21 @app.after_request\n",
    " 22 def after_request(response):\n",
    " 23     \"\"\"Close the database connection after each request.\"\"\"\n",
    " 24     g.db.close()\n",
    " 25     return response\n",
    " 26\n",
    " 27\n",
    " 28\n",
    " 29 if __name__ == '__main__':\n",
    " 30\n",
    " 31     app.run(debug=DEBUG, host=HOST, port=PORT)\n",
    " \n",
    " </pre>"
   ]
  },
  {
   "cell_type": "markdown",
   "metadata": {},
   "source": [
    "## Lecture : Login Manager\n",
    "- flask-login needs to be able to find teh current user or any user we're looking for. \n",
    "- to do this, we need to create a function that will return an instance of our user model. "
   ]
  },
  {
   "cell_type": "markdown",
   "metadata": {},
   "source": [
    "## Lecture : Flask-WTF Forms\n",
    "- In Flask and in Django, people often get the wrong idea about forms.They hear the word form, and immediately think aboout HTML forms. They think that forms are all about display. And really that makes forms very limited. Forms are about validation. Making sure that your data matches a certain pattern. The de facto form lib for Flask is Flask-WTF\n",
    "- pip install flask-wtf\n",
    "- this package also provides us with CSRF(cross-site request forgery, protection)\n",
    "- CSRF includes a custom one time code with each submission. And if the form doesn't have that code or doesn't have the right one, the request is ignored."
   ]
  },
  {
   "cell_type": "markdown",
   "metadata": {},
   "source": [
    "in /forms.py\n",
    "<pre>\n",
    "  2 from flask_wtf import Form\n",
    "  3 from wtfomrs import StringField, PasswordField\n",
    "  4 from wtforms.validators import (DataRequired, Regexp, ValidationError, Email\n",
    "  5                                Length, EqualTo)\n",
    "  6\n",
    "  7 from models import User\n",
    "  8\n",
    "  9\n",
    " 10 def name_exists(form, field):\n",
    " 11     if User.select().where(User.username == field.data).exists():\n",
    " 12         raise ValidationError(\"User with that name already exists.\")\n",
    " 13\n",
    " 14\n",
    " 15 def name_exists(form, field):\n",
    " 16     if User.select().where(User.email == field.data).exists():\n",
    " 17         raise ValidationError(\"User with that email already exists.\")\n",
    " 18\n",
    " 19\n",
    " 20 class RegisterForm(Form):\n",
    " 21     username = StringField(\n",
    " 22         'Username',\n",
    " 23         validators=[\n",
    " 24             DataRequired(),\n",
    " 25             Regexp(\n",
    " 26                 r'^{a-zA-Z0-9_]+$',\n",
    " 27                 message=(\"Username should be one word, letters, numbers, \"\n",
    " 28                          \"and underscores only.\")\n",
    " 29             ),\n",
    " 30             name_exists\n",
    " 31         ]) # validators are requirements, should be data specific format and no overlap\n",
    " 32     email = StringField(\n",
    " 33         'Email',\n",
    " 34         validators=[\n",
    " 35             DataRequired(),\n",
    " 36             Email(),\n",
    " 37             email_exists,\n",
    " 38         ])\n",
    " 39     password = PasswordField(\n",
    " 40         'Password',\n",
    " 41         validators=[\n",
    " 42             DataRequired(),\n",
    " 43             Length(min=2),\n",
    " 44             EqualTo('password2', message='Passwords must match')\n",
    " 45         ])\n",
    " 46     password2 = PasswordField(\n",
    " 47         'Confirm Password',\n",
    " 48         validators=[DataRequired()]\n",
    " 49         )\n",
    " \n",
    " </pre>"
   ]
  },
  {
   "cell_type": "markdown",
   "metadata": {},
   "source": [
    "## Lecture : Registration View"
   ]
  },
  {
   "cell_type": "markdown",
   "metadata": {},
   "source": [
    "- form.validate_on_submit() - When the form is submitted through POST, make sure the data is valid.\n",
    "- Macro - A custom, executable bit of templating.\n",
    "- form.hidden_tag() - Renders hidden fields inside of a hidden <div>."
   ]
  },
  {
   "cell_type": "code",
   "execution_count": 1,
   "metadata": {
    "collapsed": true
   },
   "outputs": [],
   "source": [
    "class User():\n",
    "    email = 'kadencho@gmail.com'"
   ]
  },
  {
   "cell_type": "code",
   "execution_count": 4,
   "metadata": {},
   "outputs": [
    {
     "data": {
      "text/plain": [
       "'k*******@gmail.com'"
      ]
     },
     "execution_count": 4,
     "metadata": {},
     "output_type": "execute_result"
    }
   ],
   "source": [
    "User.email.split('@')[0][0] + '*'*(len(User.email.split('@')[0])-1) + '@' \\\n",
    "+ User.email.split('@')[1]"
   ]
  },
  {
   "cell_type": "code",
   "execution_count": 5,
   "metadata": {},
   "outputs": [
    {
     "data": {
      "text/plain": [
       "18"
      ]
     },
     "execution_count": 5,
     "metadata": {},
     "output_type": "execute_result"
    }
   ],
   "source": [
    "len(User.email)"
   ]
  },
  {
   "cell_type": "code",
   "execution_count": 6,
   "metadata": {},
   "outputs": [
    {
     "data": {
      "text/plain": [
       "18"
      ]
     },
     "execution_count": 6,
     "metadata": {},
     "output_type": "execute_result"
    }
   ],
   "source": [
    "len('k*******@gmail.com')"
   ]
  },
  {
   "cell_type": "code",
   "execution_count": 7,
   "metadata": {},
   "outputs": [
    {
     "data": {
      "text/plain": [
       "'k*******@gmail.com'"
      ]
     },
     "execution_count": 7,
     "metadata": {},
     "output_type": "execute_result"
    }
   ],
   "source": [
    "User.email.split('@')[0][0] + '*'*(len(User.email.split('@')[0])-1) + '@' \\\n",
    "      + User.email.split('@')[1]"
   ]
  },
  {
   "cell_type": "markdown",
   "metadata": {},
   "source": [
    "## Lecture : Login View"
   ]
  },
  {
   "cell_type": "markdown",
   "metadata": {},
   "source": [
    "## Lecture : Logout View"
   ]
  },
  {
   "cell_type": "markdown",
   "metadata": {},
   "source": [
    "login_user or logout_user are creating sessions on the user's browser. And they're giving them a cookie. And the cookie references their user account. And it says, this user's logger in. This isn't necessarily the absolute moset secure way of doing this. You can find other things on Flaks login.\n",
    "\n",
    "- logout_user deletes that cookie, gets rid of that info. No longer know who they are."
   ]
  },
  {
   "cell_type": "markdown",
   "metadata": {},
   "source": [
    "## Lecture : Add some layout"
   ]
  },
  {
   "cell_type": "markdown",
   "metadata": {},
   "source": [
    "## Lecture : Post Model\n",
    "- like status update on tweets or facebook\n",
    "- ForeignKeyField - A field that points to another database record."
   ]
  },
  {
   "cell_type": "markdown",
   "metadata": {},
   "source": [
    "## Lecture : Post Form and View"
   ]
  },
  {
   "cell_type": "markdown",
   "metadata": {},
   "source": [
    "## Lecture : Stream View"
   ]
  },
  {
   "cell_type": "markdown",
   "metadata": {},
   "source": [
    "http://peewee.readthedocs.io/en/latest/peewee/playhouse.html?highlight=pagination#PaginatedQuery"
   ]
  },
  {
   "cell_type": "code",
   "execution_count": null,
   "metadata": {
    "collapsed": true
   },
   "outputs": [],
   "source": []
  }
 ],
 "metadata": {
  "kernelspec": {
   "display_name": "Python 3",
   "language": "python",
   "name": "python3"
  },
  "language_info": {
   "codemirror_mode": {
    "name": "ipython",
    "version": 3
   },
   "file_extension": ".py",
   "mimetype": "text/x-python",
   "name": "python",
   "nbconvert_exporter": "python",
   "pygments_lexer": "ipython3",
   "version": "3.6.2"
  }
 },
 "nbformat": 4,
 "nbformat_minor": 2
}
