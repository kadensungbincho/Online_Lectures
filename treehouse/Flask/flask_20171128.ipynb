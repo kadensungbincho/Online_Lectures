{
 "cells": [
  {
   "cell_type": "markdown",
   "metadata": {},
   "source": [
    "# Flask"
   ]
  },
  {
   "cell_type": "markdown",
   "metadata": {},
   "source": [
    "## Lecture : Intro"
   ]
  },
  {
   "cell_type": "markdown",
   "metadata": {},
   "source": [
    "- Before django or Pyramid, flask is a good choice to jump in.\n",
    "- is a great little framework for building simpler web apps and prototypes in python.\n",
    "- started out as an April Fool's joke by Armin Ronacher in 2010\n",
    "- so it's not that serious framework\n",
    "\n",
    "**Framework** is a collection of code that makes building something easier.\n",
    "- In this case flask is a framework that makes building web apps simpler"
   ]
  },
  {
   "cell_type": "markdown",
   "metadata": {},
   "source": [
    "## Lecture : First step"
   ]
  },
  {
   "cell_type": "markdown",
   "metadata": {},
   "source": [
    "- flask script (called 'app') : is where all of the requests come to, then it sends those requests to the correct function or view(find function by the route)\n",
    "\n",
    "- the called function : views\n",
    "- then views send back a response which dcan be HTML, or JSON, or XML etc.\n",
    "- request - response cycle"
   ]
  },
  {
   "cell_type": "markdown",
   "metadata": {},
   "source": [
    "![alt text](Lecture_first_step.png 'main')"
   ]
  },
  {
   "cell_type": "markdown",
   "metadata": {},
   "source": [
    "### Practice"
   ]
  },
  {
   "cell_type": "markdown",
   "metadata": {},
   "source": [
    " <pre>\n",
    " 1 from flask import Flask\n",
    "  2\n",
    "  3 app = Flask(__name__) # magic variable, means use whatever our current namespace is\n",
    "  4                       # always refer yourself\n",
    "  5\n",
    "  6 @app.route('/')  # route setting with decorator function\n",
    "  7 def index():\n",
    "  8     return \"Hello from Treehouse\"\n",
    "  9\n",
    " 10\n",
    " 11 app.run(debug=True, port=8000, host='0.0.0.0')  # debug True : always restart after change\n",
    " \n",
    " </pre>"
   ]
  },
  {
   "cell_type": "markdown",
   "metadata": {},
   "source": [
    "## Lecture : Request Variables"
   ]
  },
  {
   "cell_type": "markdown",
   "metadata": {},
   "source": [
    "using query string for sending arguments and values(Things after the url mark)"
   ]
  },
  {
   "cell_type": "markdown",
   "metadata": {},
   "source": [
    "<pre>\n",
    " 1\n",
    "  2\n",
    "  3 from flask import Flask\n",
    "  4 from flask import request\n",
    "  5\n",
    "  6\n",
    "  7 app = Flask(__name__) # magic variable, means use whatever our current namespace is\n",
    "  8                       # always refer yourself\n",
    "  9\n",
    " 10 @app.route('/')  # route setting with decorator function\n",
    " 11 def index(name=\"Treehouse\"):\n",
    " 12     name = request.args.get('name', name) # get GET or POST values whose key is name\n",
    " 13     return \"Hello from {}\".format(name)\n",
    " 14\n",
    " 15\n",
    " 16 app.run(debug=True, port=8000, host='0.0.0.0')  # debug True : always restart after ch    ange\n",
    " </pre>"
   ]
  },
  {
   "cell_type": "markdown",
   "metadata": {},
   "source": [
    "## Lecture : Clean URL Arguments"
   ]
  },
  {
   "cell_type": "markdown",
   "metadata": {},
   "source": [
    "<pre>\n",
    "15 @app.route('/add/<int:num1>/<int:num2>') # take the variable as int\n",
    " 16 def add(num1, num2):\n",
    " 17     return num1 + num2\n",
    " 18     return '{} + {} = {}'.format(num1, num2, num1+num2)\n",
    " \n",
    " </pre>\n",
    "\n",
    "\n",
    "TypeError: 'int' object is not callable\n",
    "\n",
    "** only str type can be printed on the site **"
   ]
  },
  {
   "cell_type": "markdown",
   "metadata": {},
   "source": [
    "<pre>\n",
    "\n",
    "3 from flask import Flask\n",
    "  4\n",
    "  5\n",
    "  6 app = Flask(__name__) # magic variable, means use whatever our current namespace is\n",
    "  7                       # always refer yourself\n",
    "  8\n",
    "  9 @app.route('/')  # route setting with decorator function\n",
    " 10 @app.route('/<name>') # multi route, capture whatever values after / with key 'name'\n",
    " 11 def index(name=\"Treehouse\"):\n",
    " 12     return \"Hello from {}\".format(name)\n",
    " 13\n",
    " 14\n",
    " 15 @app.route('/add/<int:num1>/<int:num2>') # take the variable as int\n",
    " 16 def add(num1, num2):\n",
    " 17     return str(num1 + num2)\n",
    " 18     return '{} + {} = {}'.format(num1, num2, num1+num2)\n",
    " 19\n",
    " 20\n",
    " 21 app.run(debug=True, port=8000, host='0.0.0.0')  # debug True : always restart after ch    ange\n",
    " \n",
    " </pre>"
   ]
  },
  {
   "cell_type": "markdown",
   "metadata": {},
   "source": [
    "## Lecture : The Adder"
   ]
  },
  {
   "cell_type": "markdown",
   "metadata": {},
   "source": [
    "Creating route for your views is a major part of working with basic Flask, but actually a whole lot more that we can do with this framework\n",
    "\n",
    "need more about ** rendering template, serving static files **"
   ]
  },
  {
   "cell_type": "markdown",
   "metadata": {},
   "source": [
    "<pre>\n",
    "\n",
    "  3 from flask import Flask\n",
    "  4\n",
    "  5\n",
    "  6 app = Flask(__name__) # magic variable, means use whatever our current namespace is\n",
    "  7                       # always refer yourself\n",
    "  8\n",
    "  9 @app.route('/')  # route setting with decorator function\n",
    " 10 @app.route('/<name>') # multi route, capture whatever values after / with key 'name'\n",
    " 11 def index(name=\"Treehouse\"):\n",
    " 12     return \"Hello from {}\".format(name)\n",
    " 13\n",
    " 14\n",
    " 15 @app.route('/add/<int:num1>/<int:num2>') # take the variable as int\n",
    " 16 @app.route('/add/<float:num1>/<float:num2>')\n",
    " 17 @app.route('/add/<int:num1>/<float:num2>')\n",
    " 18 @app.route('/add/<float:num1>/<int:num2>')\n",
    " 19 def add(num1, num2):\n",
    " 20     return '{} + {} = {}'.format(num1, num2, num1+num2)\n",
    " 21\n",
    " 22\n",
    " 23 app.run(debug=True, port=8000, host='0.0.0.0')  # debug True : always restart after ch    ang\n",
    " \n",
    " </pre>"
   ]
  },
  {
   "cell_type": "markdown",
   "metadata": {},
   "source": [
    "## Lecture : Flat HTML"
   ]
  },
  {
   "cell_type": "markdown",
   "metadata": {},
   "source": [
    "Render template : to minimize every single overlaptyping"
   ]
  },
  {
   "cell_type": "markdown",
   "metadata": {},
   "source": [
    "You can send html by your manual typing in the views\n",
    "\n",
    "<pre> \n",
    "\n",
    " 19 def add(num1, num2):\n",
    " 20     return \"\"\"\n",
    " 21 <!doctype html>\n",
    " 22 <html>\n",
    " 23 <head><title></title></head>\n",
    " 24 <body>\n",
    " 25 <h1>{} + {} = {}</h1>\n",
    " 26 </body>\n",
    " 27 </html>\n",
    " 28 \"\"\".format(num1, num2, num1 + num2)\n",
    " \n",
    " </pre>\n"
   ]
  },
  {
   "cell_type": "code",
   "execution_count": 4,
   "metadata": {
    "collapsed": true
   },
   "outputs": [],
   "source": [
    "from flask import render_template"
   ]
  },
  {
   "cell_type": "markdown",
   "metadata": {},
   "source": [
    "in /simple_app.py\n",
    "\n",
    "<pre>\n",
    "3 from flask import Flask\n",
    "  4 from flask import render_template\n",
    "  5\n",
    "  6 app = Flask(__name__) # magic variable, means use whatever our current namespace is\n",
    "  7                       # always refer yourself\n",
    "  8\n",
    "  9 @app.route('/')  # route setting with decorator function\n",
    " 10 @app.route('/<name>') # multi route, capture whatever values after / with key 'name'\n",
    " 11 def index(name=\"Treehouse\"):\n",
    " 12     return render_template(\"index.html\", name=name)\n",
    " 13\n",
    " 14\n",
    " 15 @app.route('/add/<int:num1>/<int:num2>') # take the variable as int\n",
    " 16 @app.route('/add/<float:num1>/<float:num2>')\n",
    " 17 @app.route('/add/<int:num1>/<float:num2>')\n",
    " 18 @app.route('/add/<float:num1>/<int:num2>')\n",
    " 19 def add(num1, num2):\n",
    " 20     context = {'num1': num1, 'num2': num2} # using dict for sending key-val for jinja2    in html {{ }}\n",
    " 21     return render_template(\"add.html\", **context)\n",
    " 22\n",
    " 23\n",
    " 24 app.run(debug=True, port=8000, host='0.0.0.0')  # debug True : always restart after ch    ange\n",
    " \n",
    " </pre>"
   ]
  },
  {
   "cell_type": "markdown",
   "metadata": {},
   "source": [
    "in /templates/index.html\n",
    "<pre>\n",
    "  3 <!doctype html>\n",
    "  4 <html>\n",
    "  5     <head>\n",
    "  6          <title> Howdy!</title>\n",
    "  7     </head>\n",
    "  8     <body>\n",
    "  9          <h1>Hello from {{ name }}! </h1>\n",
    " 10     </body>\n",
    " 11\n",
    " 12 </html>\n",
    " </pre>"
   ]
  },
  {
   "cell_type": "markdown",
   "metadata": {},
   "source": [
    "in /templates/add.html\n",
    "\n",
    "<pre>\n",
    "2 <!doctype html>\n",
    "  3 <html>\n",
    "  4     <head>\n",
    "  5         <title>  Adding!  </title>\n",
    "  6     </head>\n",
    "  7 <body>\n",
    "  8     <h1>{{ num1 }} + {{ num2  }} = {{ num1 + num2 }} </h1>\n",
    "  9 </body>\n",
    " 10\n",
    " 11 </html>\n",
    " </pre>\n"
   ]
  },
  {
   "cell_type": "markdown",
   "metadata": {},
   "source": [
    "## Lecture : Template Inheritance\n",
    "overridable parts : blocks"
   ]
  },
  {
   "cell_type": "markdown",
   "metadata": {},
   "source": [
    "put all the overlap part in the layout.html\n",
    "we use {% block title %}{% endblock %}.\n",
    "\n",
    "- And what that tells Ginga2, our rendering engine, it tells it that this it like, calling it a bit of python code, this is a command area, instead of a pring or evaluate area"
   ]
  },
  {
   "cell_type": "markdown",
   "metadata": {},
   "source": [
    "in /templates/index.html\n",
    "\n",
    "<pre>\n",
    "\n",
    " 1 {% extends \"layout.html\" %}\n",
    "  2\n",
    "  3 {% block title %} Howdy! | {{ super() }}{% endblock %}\n",
    "  4\n",
    "  5 {% block content %}\n",
    "  6 <h1> Hello from {{ name }}! </h1>\n",
    "  7 {% endblock %}\n",
    "  \n",
    "  </pre>\n",
    "  \n",
    "  use extends for teamplate inheritance"
   ]
  },
  {
   "cell_type": "markdown",
   "metadata": {},
   "source": [
    "## Lecture : Static Files"
   ]
  },
  {
   "cell_type": "markdown",
   "metadata": {},
   "source": [
    "in /templates/layout.html\n",
    "\n",
    "<pre>\n",
    " 1\n",
    "  2 <!doctype html>\n",
    "  3 <html>\n",
    "  4     <head>\n",
    "  5         <title>{% block title %}Flask Basics {% endblock %}</title>\n",
    "  6         <link rel=\"stylesheet\" href=\"/static/style.css\">\n",
    "  7     </head>\n",
    "  8     <body>\n",
    "  9         {% block content %}{% endblock %}\n",
    " 10         <p>Brought to you by the fine folks at Treehouse </p>\n",
    " 11         {% block scripts %}{% endblock %}\n",
    " 12     </body>\n",
    " 13 </html>\n",
    " \n",
    " </pre>"
   ]
  },
  {
   "cell_type": "markdown",
   "metadata": {},
   "source": [
    "in /templates/index.html\n",
    "\n",
    "<pre>\n",
    "\n",
    "1 {% extends \"layout.html\" %}\n",
    "  2\n",
    "  3 {% block title %} Howdy! | {{ super() }}{% endblock %}\n",
    "  4\n",
    "  5 {% block content %}\n",
    "  6 <h1> Hello from {{ name }}! </h1>\n",
    "  7 {% endblock %}\n",
    "  8\n",
    "  9 {% block scripts %}\n",
    " 10 <script src=\"/static/scripts.js\"></script>\n",
    " 11 {% endblock %}\n",
    " </pre>\n",
    " "
   ]
  },
  {
   "cell_type": "markdown",
   "metadata": {},
   "source": [
    "Can control js to be only on the main page."
   ]
  },
  {
   "cell_type": "markdown",
   "metadata": {},
   "source": [
    "## Lecture : Forms"
   ]
  },
  {
   "cell_type": "markdown",
   "metadata": {},
   "source": [
    "from flask import Flask, render_template, redirect, url_for, request\n",
    "\n",
    "\n",
    "app = Flask(__name__)\n",
    "\n",
    "\n",
    "@app.route('/')\n",
    "def index():\n",
    "    return render_template('index.html')\n",
    "\n",
    "\n",
    "@app.route('/save', methods=['POST'])\n",
    "def save():\n",
    "    import pdb; pdb.set_trace()\n",
    "    return redirect(url_for('index'))\n",
    "\n",
    "app.run(debug=True, host='0.0.0.0', port=8000)"
   ]
  },
  {
   "cell_type": "markdown",
   "metadata": {},
   "source": [
    "**lecture on form, we can get the info of the form by importing pdb and use trace for it. We can check it on our CLI. **\n",
    "* Let's use cookies to store and retrieve data *"
   ]
  },
  {
   "cell_type": "markdown",
   "metadata": {},
   "source": [
    "'authorization', 'base_url', 'blueprint', 'cache_control', 'charset', 'close', 'co\n",
    "ntent_encoding', 'content_length', 'content_md5', 'content_type', 'cookies', 'data\n",
    "', 'date', 'dict_storage_class', 'disable_data_descriptor', 'encoding_errors', 'en\n",
    "dpoint', 'environ', 'files', 'form', 'form_data_parser_class', 'from_values', 'ful\n",
    "l_path', 'get_data', 'get_json', 'headers', 'host', 'host_url', 'if_match', 'if_mo\n",
    "dified_since', 'if_none_match', 'if_range', 'if_unmodified_since', 'input_stream',\n",
    " 'is_multiprocess', 'is_multithread', 'is_run_once', 'is_secure', 'is_xhr', 'json'\n",
    ", 'list_storage_class', 'make_form_data_parser', 'max_content_length', 'max_form_m\n",
    "emory_size', 'max_forwards', 'method', 'mimetype', 'mimetype_params', 'module', 'o\n",
    "n_json_loading_failed', 'parameter_storage_class', 'path', 'pragma', 'query_string\n",
    "', 'range', 'referrer', 'remote_addr', 'remote_user', 'routing_exception', 'scheme\n",
    "', 'script_root', 'shallow', 'stream', 'trusted_hosts', 'url', 'url_charset', 'url\n",
    "_root', 'url_rule', 'user_agent', 'values', 'view_args', 'want_form_data_parsed'] \n",
    "(Pdb) request.form                                                                \n",
    "ImmutableMultiDict([('name', 'kadencho')])                                        \n",
    "(Pdb) c                                                                           \n",
    "10.120.36.5 - - [28/Nov/2017 11:48:27] \"POST /save HTTP/1.1\" 302 - "
   ]
  },
  {
   "cell_type": "markdown",
   "metadata": {},
   "source": [
    "## Lecture : Cookies\n",
    "\n",
    "Cookies are a very common way of storing data between requests. We're going to use them to store the infomation that our users submit through the form. That way we can preserve their character for them to get on future visits. To do that, we're going to turn the form submissions into JSON."
   ]
  },
  {
   "cell_type": "markdown",
   "metadata": {},
   "source": [
    "** in Flask, cookies are set in response, so we get the form after the 'return' of the views (which generate the response) **"
   ]
  },
  {
   "cell_type": "markdown",
   "metadata": {},
   "source": [
    "<pre>\n",
    "15 @app.route('/save', methods=['POST'])\n",
    " 16 def save():\n",
    " 17     response = make_response(redirect(url_for('index')))\n",
    " 18     response.set_cookie('character', json.dumps(dict(request.form.items())))\n",
    " 19     return response\n",
    " \n",
    " </pre>"
   ]
  },
  {
   "cell_type": "markdown",
   "metadata": {},
   "source": [
    "And the reason we have to do the dicked casting there, is because what comes out of request.form isn't exactly a dictionary, it's immutable dict. Immutable multidict when we call items, it gives us back a tuple of key-value pairs. So we call dict in order to create a dictionary from that and then we bump into json.jumps"
   ]
  },
  {
   "cell_type": "markdown",
   "metadata": {},
   "source": [
    "and check resources \n",
    "\n",
    "Cookie:_xsrf=2|165b27bb|bddc484cd48a4ecc227f087d929b6f98|1510466958; sessionid=g6nbdiwk563knsap63wammy3llbeqesg; csrftoken=4dMPAoJYc0X4asBxxRwfz0JSkDYgnMNCz9EHUaqsSGH3cz9JK8xhqSSy9dRSVqgJ; character=\"{\\\"name\\\": \\\"kadencho\\\"}\""
   ]
  },
  {
   "cell_type": "markdown",
   "metadata": {},
   "source": [
    "JSON dumps creates JSON, creates a JSON string. And, loads, takes that string and turns it into Python code again, so it turns data it makes data a dictionary. "
   ]
  },
  {
   "cell_type": "markdown",
   "metadata": {},
   "source": [
    "in /templates/index.html \n",
    "\n",
    "<input type=\"text\" name=\"name\" value=\"{{ saves.get('name', '') }}\" autofoc    us>\n"
   ]
  },
  {
   "cell_type": "markdown",
   "metadata": {},
   "source": [
    "we try to get the name key, if the name key doesn't exist, then we get this empty string. "
   ]
  },
  {
   "cell_type": "markdown",
   "metadata": {},
   "source": [
    "# Further lecture\n",
    "- on for loop and if condition, check out project file"
   ]
  },
  {
   "cell_type": "code",
   "execution_count": null,
   "metadata": {
    "collapsed": true
   },
   "outputs": [],
   "source": []
  }
 ],
 "metadata": {
  "kernelspec": {
   "display_name": "Python 3",
   "language": "python",
   "name": "python3"
  },
  "language_info": {
   "codemirror_mode": {
    "name": "ipython",
    "version": 3
   },
   "file_extension": ".py",
   "mimetype": "text/x-python",
   "name": "python",
   "nbconvert_exporter": "python",
   "pygments_lexer": "ipython3",
   "version": "3.6.2"
  }
 },
 "nbformat": 4,
 "nbformat_minor": 2
}
