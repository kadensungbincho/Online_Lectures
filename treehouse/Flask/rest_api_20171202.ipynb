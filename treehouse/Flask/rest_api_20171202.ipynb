{
 "cells": [
  {
   "cell_type": "markdown",
   "metadata": {},
   "source": [
    "# Lecture : Rest API intro \n",
    "- REST is really just another layer of meaning on top of HTTP.\n",
    "- `When you build a website or app, you're building a UI for your app's logic and data model. The point of an API though, is not to create a traditional UI, but to provide a programmatic inerface, a code UI if you will, to that same logic and data model. The major difference is that all communication is done through HTTP, and the burden of creating the interface is on the users of the API, not the creator.`\n",
    "\n",
    "### API?\n",
    "- Application Progamming Interface\n",
    "- code that makes it easier for things outside of our application to interact with our application. Why need this kinds of gateways?\n",
    "\n",
    "- our code usually is running on one server, we need to talk to from somewhere outside. \n",
    "\n",
    "- Maybe we have a server running for hadling the scores of our game from all caross the globe and want to be able to update scores from PC, mobile phone, or tablets. We could write some sort of bridge or connection later, but we might have do that for every new device. \n",
    "\n",
    "- ** Building a REST API that works with any external client anywhere on the Internet saves us a lot of headaches.** \n",
    "- REST : Representational State Transfer.\n",
    "- The web, is by design, stateless.\n",
    "- This means that every request you make to a website is like meeting that site for the very first time. \n",
    "- REST doesn't break this, and puts all of the work of remembering state on the client, which is your computer, or program. After each request the server forgets your client entirely. \n",
    "- Your client though can and will hold on to whatever state info it needs like key."
   ]
  },
  {
   "cell_type": "markdown",
   "metadata": {},
   "source": [
    "# Lecture : Endpoints\n",
    "- When we talk about REST APIs, we really only care about two(languages) of those word types, nouns and verbs.\n",
    "\n",
    "### Nouns?\n",
    "- Resources : model in your application like, in games, players, matches \n",
    "- these resources are things we want to be retrieved , created, or modified though our API. We do that retrieving, creating, and modifying and even deleting at specific URIs which are called endpoints.\n",
    "\n",
    "- Endpoints represent either a single record or a collection of records."
   ]
  },
  {
   "cell_type": "markdown",
   "metadata": {},
   "source": [
    "- /api/v1/games\n",
    "- /api/v1/games/1234      \n",
    "* games : resource type, 1234 is an id for a record\n",
    "- /api/v1/player\n",
    "- /api/v1/567/player : bad example\n",
    "\n",
    "- /api/v1/players  : should be plural"
   ]
  },
  {
   "cell_type": "markdown",
   "metadata": {},
   "source": [
    "### Verbs\n",
    "- verbs are our actions, they're things we're doing or want to do.\n",
    "- In RESTful API design, their actions are going to take on resources, but instead of being in your URL, they're represented by the type of request the client makes to the API.\n",
    "\n",
    "### 4 main verbs\n",
    "- **GET** is user for fetching either a collection of resources or a single resource. All of our previous URLs would be GET-able.\n",
    "- **POST** is used to add a new resource to a collection. For example, we wouldn;t POST to /players/567 or /games/1234 because they aren't collections. We would, however, POST to /players or /games to create a new player or a new game.\n",
    "- **PUT** is the HTTP method, or verb, that we use when we want to update a record. We wouldn't use PUT on collection or list URLs.\n",
    "- **DELETE** is used for sending a DELETE request to a detail record, a URL for a single record, should delete kust that record. Sending DELETE to an entire collection would delete the whole collection but that's usaully not implementer, with good reason."
   ]
  },
  {
   "cell_type": "markdown",
   "metadata": {},
   "source": [
    "- With a combinatio of nouns and verbs, we can write just about any sentence we want, at least within the constraints of our API."
   ]
  },
  {
   "cell_type": "markdown",
   "metadata": {},
   "source": [
    "# Lecture : Request"
   ]
  },
  {
   "cell_type": "markdown",
   "metadata": {},
   "source": [
    "- The request that our users send in, can give us a lot more informaiton than just our in points and HTTP verbs can. We can use different aspects of the requests to change the format of our response, the version of the API and more. A lot of early APIs did all of thas extra work through a part of the URL known as the query or query string.\n",
    "\n",
    "- /api/v1/games?order-desc&sort=points\n",
    "\n",
    "- everythings after the question mark is treated as a set of key and value pairs. \n",
    "- What if you wanted to let users request a record as either XML or JSON? You could let them provide a format argument in the query string but that might not be the best approach, especially since HTTP gives us some other options."
   ]
  },
  {
   "cell_type": "markdown",
   "metadata": {},
   "source": [
    "- We could let our users just request the format with the actual URL or we can pay attention to the HTTP headers thay send us. In fact, HTTP headers are one of the more amazing and userful pieces to a great API.\n",
    "- accept : specifies the file format the requester wants.\n",
    "- accept-language : specifies the human-readable language, like English, etc.\n",
    "- cache-control : specifies whether the response can be generated from a cache or a quick to access memory bank of data or not.\n",
    "- You don't need to do it\n",
    "- but smarter client and smarter APIs take advantage of the HTTP spec to make transaction clearer and more explicit."
   ]
  },
  {
   "cell_type": "markdown",
   "metadata": {},
   "source": [
    "# Lecture : Response\n",
    "- ** Useful headers, correct status codes, appropriate formats, and our data all combined to make a greay HTTP response for API.\n",
    "- response fields : https://en.wikipedia.org/wiki/List_of_HTTP_header_fields#Response_fields\n",
    "- list of HTTP status codes : https://en.wikipedia.org/wiki/List_of_HTTP_status_codes"
   ]
  },
  {
   "cell_type": "markdown",
   "metadata": {},
   "source": [
    "So, a user has sent a request into our API.\n",
    "0:04\n",
    "We've evaluated their query string, headers, and requested format.\n",
    "0:08\n",
    "And we've, of course, fetched the resource or collection that they wanted.\n",
    "0:11\n",
    "Now what?\n",
    "0:12\n",
    "Well, now we have to send them a response.\n",
    "0:15\n",
    "We'll, of course, include the data but we can send back quite a bit more too.\n",
    "0:20\n",
    "Like an HTTP request an HTTP response also has headers.\n",
    "0:25\n",
    "We would use the Content-Type header to specify what kind of content we're\n",
    "0:29\n",
    "sending.\n",
    "0:29\n",
    "This should match the type they requested with either a format extension\n",
    "0:34\n",
    "like your URL ending in .JSON or .XML.\n",
    "0:36\n",
    "Or the Accept header with the Last-Modified header,\n",
    "0:40\n",
    "we can tell them when the data was last modified or created.\n",
    "0:44\n",
    "Or by using the Espires header we can tell them how long the data\n",
    "0:48\n",
    "should be considered good.\n",
    "0:50\n",
    "And with the Status header, we come to another very important part of our API.\n",
    "0:55\n",
    "If you've been on the Internet for very long, you probably come across a couple of\n",
    "0:57\n",
    "status codes like 200, 500 and the fairly common 404.\n",
    "1:02\n",
    "These status codes tell us a lot about the state of a bit of content and\n",
    "1:06\n",
    "we can use them in our API to tell our clients about the state of their requests.\n",
    "1:12\n",
    "Generally status codes are broken up into four chunks, each 100 numbers apart.\n",
    "1:17\n",
    "Status codes in the 200-299 range, so the content is good and everything's okay.\n",
    "1:23\n",
    "Some of these reference the fact that an action has been taken but\n",
    "1:25\n",
    "no errors happened.\n",
    "1:27\n",
    "For example, if your client posts a new record to your collection,\n",
    "1:30\n",
    "you'd want to use the to go to status code in your response\n",
    "1:33\n",
    "to let them know the resource had been created.\n",
    "1:36\n",
    "Codes in the 300 to 399 range mean the request was understood but,\n",
    "1:40\n",
    "the requested resource is now located somewhere else.\n",
    "1:43\n",
    "We use these status codes to perform redirects to the new\n",
    "1:46\n",
    "URL's most of the time.\n",
    "1:48\n",
    "The third section status codes from 400 to 499 are errors typically\n",
    "1:52\n",
    "generated by the client.\n",
    "1:54\n",
    "Maybe the request is wrongly constructed, which would be a 400 or\n",
    "1:58\n",
    "it's for a resource that no longer exists, 404.\n",
    "2:00\n",
    "Or maybe you have a resource that can only be read with git and\n",
    "2:04\n",
    "no one is allowed to post, put, or delete to it, then you send back a 405.\n",
    "2:09\n",
    "The 400 block is the largest of the HTTP status code blocks and\n",
    "2:13\n",
    "it's well worth looking over.\n",
    "2:15\n",
    "I'll put a link for more information in the teacher's notes.\n",
    "2:18\n",
    "Finally let's talk about the 500 block,\n",
    "2:21\n",
    "errors in the 500 to 599 range are all errors on the servers end.\n",
    "2:25\n",
    "The most used of these and the least descriptive is status code 500,\n",
    "2:29\n",
    "which just means there is some sort of error on the server.\n",
    "2:32\n",
    "It's the equivalent of your server throwing its hands up and just quitting.\n",
    "2:36\n",
    "Look at the rest of the block though, because a lot of these are way better\n",
    "2:39\n",
    "error messages than just sending back a 500 to your clients.\n",
    "2:43\n",
    "A lot of clients might handle all 500 block errors the same way, but\n",
    "2:46\n",
    "giving them better responses,\n",
    "2:48\n",
    "which will show up in their logs, makes you a better Internet citizen.\n",
    "2:51\n",
    "Again, I'll put a link in the teacher's notes.\n",
    "2:54\n",
    "Useful headers, correct status codes, appropriate formats, and\n",
    "2:58\n",
    "our data all combined to make a great HTTP response for API.\n",
    "3:02\n",
    "But, no Internet service is complete without one very\n",
    "3:05\n",
    "important ingredient, security."
   ]
  },
  {
   "cell_type": "markdown",
   "metadata": {},
   "source": [
    "# Lecture : Security\n",
    "- Cache\n",
    "- Rate limiting\n",
    "- Authentication : API tokens, \n",
    "\n",
    "- Actually a lot of what we've covered so fat, caching, parsing requests and preparing respinses, authentication and more will depend on your framework, language and tools of choice."
   ]
  },
  {
   "cell_type": "markdown",
   "metadata": {},
   "source": [
    "- A cache is a service that holds onto data that you need to be able to retrieve quickly. This is very useful when your data takes awhile to retrieve or calculate. Some common caches you might use are memcached(http://www.memcached.org/), TimesTen(https://www.oracle.com/database/timesten-in-memory-database/index.html if you use Oracle products, or HazelCast(https://hazelcast.org/ for the Java world. For caching compiled pages, Varnish is a very common and powerful choice."
   ]
  },
  {
   "cell_type": "markdown",
   "metadata": {},
   "source": [
    "# Lecture : Flask REST API\n",
    "- gonna make web-service(API)\n",
    "- web APIS are a way to use your dta in a safe secure and sanitized way. \n",
    "- Our rest API is going to be a service that collects online tutorials and reviews for them. \n",
    "\n",
    "- /courses : two methods GET, POST (get back all of the existing courses, post will add a new course the collection)\n",
    "- /courses/5 : 3 methods GET, PUT, DELETE (get a course with an ID -> one course, put course -> update it, delete -> delete)\n",
    "\n",
    "- /reviews\n"
   ]
  },
  {
   "cell_type": "markdown",
   "metadata": {},
   "source": [
    "# Lecture : Models\n",
    "- pip install flask-restful\n",
    "- flask-restful : you can create classes kind of like models, that represent your resources and the HTTP methods that you want to allow on those resources. \n",
    "\n",
    "- The related_name of review_set for the Review model is actually redundant. If you don't provide one, Peewee automatically creates a back reference like <lowercased model name>_set for you."
   ]
  },
  {
   "cell_type": "markdown",
   "metadata": {},
   "source": [
    "# Lecture : Resources\n",
    "- jsonify : turns whatever this thing is whatever's in here into a json respinse. http://flask.pocoo.org/docs/0.10/api/#flask.json.jsonify\n",
    "- flask-restfull https://flask-restful.readthedocs.org/"
   ]
  },
  {
   "cell_type": "markdown",
   "metadata": {},
   "source": [
    "# Lecture : Blueprints\n",
    "- http://flask.pocoo.org/docs/0.10/blueprints/\n",
    "- since flask is a microframework, it often gets used as a single module or maybe a model or two and then all of the routes and logic in a single app module. This works great until your app gets moderately complex and you start having to use your editor search function just to find a particular piece. Once you split everything out into separate files, you'll likely find that it gets harder and harder to avoid circular imports. Or a chain of imports that ends up having one file import another file that also imports the first one. \n",
    "\n",
    "- Flask has a feature named Blueprints, and it gives us the ability to make objects that are almost like proxies for Flask apps or other features liked our API resources. "
   ]
  },
  {
   "cell_type": "markdown",
   "metadata": {},
   "source": [
    "- enforcing the API versioning, \n",
    "- this way you're keeping the resource and the API right next to each other.\n",
    "- "
   ]
  },
  {
   "cell_type": "markdown",
   "metadata": {},
   "source": [
    "# Lecture : Reqparse\n",
    "- https://flask-restplus.readthedocs.io/en/stable/parsing.html\n",
    "- http://flask.pocoo.org/docs/0.10/api/#flask.Request\n",
    "- https://www.getpostman.com/"
   ]
  },
  {
   "cell_type": "markdown",
   "metadata": {},
   "source": [
    "![alt text](flask_restapi_1/restapi_reqparse.png 'restapi_reqparse')"
   ]
  },
  {
   "cell_type": "markdown",
   "metadata": {},
   "source": [
    "- Reqparse handles the request part of the request response cycle, we still need to deal with the response half. "
   ]
  },
  {
   "cell_type": "markdown",
   "metadata": {},
   "source": [
    "from flask import Blueprint\n",
    "\n",
    "from flask.ext.restful import Resource, Api, reqparse, inputs\n",
    "\n",
    "import models\n",
    "\n",
    "\n",
    "class IngredientList(Resource):\n",
    "    def __init__(self):\n",
    "        self.reqparse = reqparse.RequestParser()\n",
    "        self.reqparse.add_argument('name', type=str, required=True, location=['form', 'json'])\n",
    "        self.reqparse.add_argument('description', type=str, required=True, location=['form', 'json'])\n",
    "        self.reqparse.add_argument('measurement_type', type=str, required=True, location=['form', 'json'])\n",
    "        self.reqparse.add_argument('quantity', type=float, required=True, location=['form', 'json'])\n",
    "        self.reqparse.add_argument('recipe', type=inputs.positive, required=True, location=['form', 'json'])\n",
    "            \n",
    "        \n",
    "    def get(self):\n",
    "        return 'IngredientList'\n",
    "\n",
    "\n",
    "class Ingredient(Resource):\n",
    "    def get(self, id):\n",
    "        return 'Ingredient'\n",
    "\n",
    "ingredients_api = Blueprint('resources.ingredients', __name__)\n",
    "api = Api(ingredients_api)\n",
    "api.add_resource(IngredientList, '/api/v1/ingredients')\n",
    "api.add_resource(Ingredient, '/api/v1/ingredients/<int:id>')"
   ]
  },
  {
   "cell_type": "markdown",
   "metadata": {},
   "source": [
    "# Lecture : Marshalling\n",
    "- inputs for Flask-RESTful\n",
    "- fields for Flask-RESTful\n",
    "- https://flask-restful.readthedocs.org/en/0.3.5/fields.html\n"
   ]
  },
  {
   "cell_type": "markdown",
   "metadata": {},
   "source": [
    "- Resourcesm routes, ACDP methods, input validation\n",
    "- marshalling : (serializing)"
   ]
  },
  {
   "cell_type": "markdown",
   "metadata": {},
   "source": [
    "- add attribute to each instance\n",
    "- model instances into dictionaries and add a key : the model approach requires the model to know about the API as a limitation."
   ]
  }
 ],
 "metadata": {
  "kernelspec": {
   "display_name": "Python 3",
   "language": "python",
   "name": "python3"
  },
  "language_info": {
   "codemirror_mode": {
    "name": "ipython",
    "version": 3
   },
   "file_extension": ".py",
   "mimetype": "text/x-python",
   "name": "python",
   "nbconvert_exporter": "python",
   "pygments_lexer": "ipython3",
   "version": "3.6.2"
  }
 },
 "nbformat": 4,
 "nbformat_minor": 2
}
