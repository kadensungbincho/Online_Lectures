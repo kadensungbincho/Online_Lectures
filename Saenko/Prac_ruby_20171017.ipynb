{
 "cells": [
  {
   "cell_type": "markdown",
   "metadata": {},
   "source": [
    "# Boolean Part"
   ]
  },
  {
   "cell_type": "code",
   "execution_count": 7,
   "metadata": {},
   "outputs": [
    {
     "name": "stdout",
     "output_type": "stream",
     "text": [
      "false\n"
     ]
    }
   ],
   "source": [
    "#operation\n",
    "puts(1==2)"
   ]
  },
  {
   "cell_type": "code",
   "execution_count": 8,
   "metadata": {},
   "outputs": [
    {
     "name": "stdout",
     "output_type": "stream",
     "text": [
      "true\n"
     ]
    }
   ],
   "source": [
    "a = 1; b =1\n",
    "puts(a == b)"
   ]
  },
  {
   "cell_type": "code",
   "execution_count": 9,
   "metadata": {},
   "outputs": [
    {
     "name": "stdout",
     "output_type": "stream",
     "text": [
      "false\n",
      "false\n",
      "true\n"
     ]
    }
   ],
   "source": [
    "puts(1 == 2)\n",
    "puts(1 > 2)\n",
    "puts(1 < 2)"
   ]
  },
  {
   "cell_type": "code",
   "execution_count": 10,
   "metadata": {},
   "outputs": [
    {
     "name": "stdout",
     "output_type": "stream",
     "text": [
      "true\n",
      "false\n"
     ]
    }
   ],
   "source": [
    "puts(true)\n",
    "puts(false)"
   ]
  },
  {
   "cell_type": "markdown",
   "metadata": {},
   "source": [
    "# Conditional Statements"
   ]
  },
  {
   "cell_type": "code",
   "execution_count": 18,
   "metadata": {},
   "outputs": [
    {
     "name": "stdout",
     "output_type": "stream",
     "text": [
      "code3\n"
     ]
    }
   ],
   "source": [
    "if false\n",
    "  puts(\"code1\") # You don't need to indentation for processing but \n",
    "  puts(\"code2\") # it is recommended for visual-freindly display.\n",
    "end     # Only Ruby has the 'end' code to end the if statements, \n",
    "        # unlike python which use indentation to distinguish them\n",
    "puts(\"code3\")\n"
   ]
  },
  {
   "cell_type": "code",
   "execution_count": 25,
   "metadata": {},
   "outputs": [
    {
     "name": "stdout",
     "output_type": "stream",
     "text": [
      "Who are you?\n"
     ]
    }
   ],
   "source": [
    "real = 3122\n",
    "input = 312\n",
    "\n",
    "if real == input\n",
    "  puts(\"Hello!\")\n",
    "else \n",
    "  puts(\"Who are you?\")\n",
    "end\n"
   ]
  },
  {
   "cell_type": "code",
   "execution_count": 32,
   "metadata": {},
   "outputs": [
    {
     "name": "stdout",
     "output_type": "stream",
     "text": [
      "Who are you?\n"
     ]
    }
   ],
   "source": [
    "real = 3122\n",
    "input = 312\n",
    "\n",
    "if real == input\n",
    "  puts(\"Hello!\") \n",
    "end              # end sign must be located at the end of each if statement\n",
    "\n",
    "if real != input\n",
    "  puts(\"Who are you?\")\n",
    "end"
   ]
  },
  {
   "cell_type": "code",
   "execution_count": 36,
   "metadata": {},
   "outputs": [
    {
     "name": "stdout",
     "output_type": "stream",
     "text": [
      "Who are you?\n"
     ]
    }
   ],
   "source": [
    "#elsif\n",
    "real_egoing = 2222\n",
    "real_kadencho = 3333\n",
    "input = 222\n",
    "\n",
    "if real_egoing == input\n",
    "  puts(\"Hello, egoing!\") \n",
    "elsif real_kadencho == input\n",
    "  puts(\"Hellow, kadencho!\")\n",
    "else \n",
    "  puts(\"Who are you?\")\n",
    "end"
   ]
  },
  {
   "cell_type": "markdown",
   "metadata": {},
   "source": [
    "# Input & Output I/O"
   ]
  },
  {
   "cell_type": "code",
   "execution_count": 41,
   "metadata": {},
   "outputs": [
    {
     "name": "stdout",
     "output_type": "stream",
     "text": [
      "Insert, please : \n",
      "  \"STDIN_PORT\": 37152, World!\n"
     ]
    }
   ],
   "source": [
    "puts(\"Insert, please : \")\n",
    "in_str = gets.chomp()\n",
    "puts(in_str.upcase() + \" World!\")\n",
    "# Ruby do not offer on-jupyter IO processing!"
   ]
  },
  {
   "cell_type": "code",
   "execution_count": 42,
   "metadata": {},
   "outputs": [
    {
     "name": "stdout",
     "output_type": "stream",
     "text": [
      "Please input your password!\n",
      "Who are you?\n"
     ]
    }
   ],
   "source": [
    "puts('Please input your password!')\n",
    "password = gets.chomp()\n",
    "real_egoing = '2222'\n",
    "real_kadencho = '3333'\n",
    "\n",
    "if real_egoing == password\n",
    "  puts(\"Hello, egoing!\") \n",
    "elsif real_kadencho == password\n",
    "  puts(\"Hellow, kadencho!\")\n",
    "else \n",
    "  puts(\"Who are you?\")\n",
    "end"
   ]
  },
  {
   "cell_type": "markdown",
   "metadata": {},
   "source": [
    "# Logical Operator"
   ]
  },
  {
   "cell_type": "code",
   "execution_count": 48,
   "metadata": {},
   "outputs": [
    {
     "name": "stdout",
     "output_type": "stream",
     "text": [
      "false\n",
      "true\n",
      "true\n"
     ]
    }
   ],
   "source": [
    "puts(false & true)\n",
    "puts(false | true)\n",
    "puts(true)"
   ]
  },
  {
   "cell_type": "code",
   "execution_count": 49,
   "metadata": {},
   "outputs": [
    {
     "name": "stdout",
     "output_type": "stream",
     "text": [
      "Insert id\n",
      "Who are you?\n"
     ]
    }
   ],
   "source": [
    "puts(\"Insert id\")\n",
    "input = gets.chomp()\n",
    "real_egoing = \"egoing\"\n",
    "real_k8805 = \"k8805\"\n",
    "if real_egoing == input or real_k8805 == input\n",
    "  puts(\"Hello!\")\n",
    "else\n",
    "  puts(\"Who are you?\")\n",
    "end"
   ]
  },
  {
   "cell_type": "code",
   "execution_count": null,
   "metadata": {
    "collapsed": true
   },
   "outputs": [],
   "source": []
  }
 ],
 "metadata": {
  "kernelspec": {
   "display_name": "Ruby 2.3.1",
   "language": "ruby",
   "name": "ruby"
  },
  "language_info": {
   "file_extension": ".rb",
   "mimetype": "application/x-ruby",
   "name": "ruby",
   "version": "2.3.1"
  }
 },
 "nbformat": 4,
 "nbformat_minor": 2
}
