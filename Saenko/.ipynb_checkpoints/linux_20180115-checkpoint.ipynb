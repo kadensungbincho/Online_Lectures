{
 "cells": [
  {
   "cell_type": "markdown",
   "metadata": {},
   "source": [
    "# Group Control"
   ]
  },
  {
   "cell_type": "markdown",
   "metadata": {},
   "source": [
    "groupadd [Group Name]\n",
    "\n",
    "useradd -G [User Name] [Group Name]\n",
    "\n",
    "vim /etc/group\n",
    "\n",
    "sudo usermod -a -G [Group Name] [User Name]\n",
    "\n"
   ]
  },
  {
   "cell_type": "markdown",
   "metadata": {},
   "source": [
    "### Change directory group"
   ]
  },
  {
   "cell_type": "markdown",
   "metadata": {},
   "source": [
    "chown {-R} [user]{:group} \n",
    "\n",
    "sudo chown root:developer ."
   ]
  },
  {
   "cell_type": "markdown",
   "metadata": {},
   "source": [
    "# Internet, Network, and Server"
   ]
  },
  {
   "cell_type": "markdown",
   "metadata": {},
   "source": [
    "- client - server \n",
    "- DNS, IP, "
   ]
  },
  {
   "cell_type": "markdown",
   "metadata": {},
   "source": [
    "ip addr\n",
    "\n",
    "curl ipinfo.io/ip\n",
    "\n",
    "Router(line ip) : Public & Private\n",
    "\n",
    "\n",
    "\n"
   ]
  },
  {
   "cell_type": "markdown",
   "metadata": {},
   "source": [
    "# Web Server : Apache"
   ]
  },
  {
   "cell_type": "markdown",
   "metadata": {},
   "source": [
    "client : web browser(explorer, chrome, firefox, etc)\n",
    "server : web server(Apache, nginx, IIs, etc)"
   ]
  },
  {
   "cell_type": "markdown",
   "metadata": {},
   "source": [
    "sudo apt-get update\n",
    "sudo apt-get install apache2\n",
    "\n",
    "sudo service apache2 start \n",
    "\n",
    "htop \n",
    "\n",
    "elinks [ip addr]\n",
    "\n"
   ]
  },
  {
   "cell_type": "markdown",
   "metadata": {},
   "source": [
    "document root "
   ]
  },
  {
   "cell_type": "markdown",
   "metadata": {},
   "source": [
    "### Log"
   ]
  },
  {
   "cell_type": "markdown",
   "metadata": {},
   "source": [
    "/var/log/apache2/access.log\n",
    "\n"
   ]
  },
  {
   "cell_type": "markdown",
   "metadata": {},
   "source": [
    "# SSH : remote control"
   ]
  },
  {
   "cell_type": "markdown",
   "metadata": {},
   "source": [
    "- server : SSH server\n",
    "- client : SSH client to control remote server\n",
    "\n",
    "sudo apt-get purge openssh-client openssh-server\n",
    "\n",
    "sudo apt-get install openssh-server openssh-client\n",
    "\n",
    "sudo service ssh start \n",
    "\n",
    "sudo ps aux | grep ssh\n",
    "\n",
    "ssh [User Name]@[ip addr]\n",
    "\n"
   ]
  },
  {
   "cell_type": "markdown",
   "metadata": {},
   "source": [
    "# Port "
   ]
  },
  {
   "cell_type": "markdown",
   "metadata": {},
   "source": [
    "web : 80\n",
    "ssh : 22\n",
    "\n",
    "port is like a hole that the external can get in through\n",
    "\n",
    "listen\n",
    "\n",
    "sudo vim /etc/ssh/sshd_config\n",
    "\n",
    "PORT 2222\n",
    "\n",
    "sudo service ssh restart\n",
    "\n",
    "ssh -p 2222 kadencho@192.168.99.100 \n",
    "\n"
   ]
  },
  {
   "cell_type": "markdown",
   "metadata": {},
   "source": [
    "### Port forwarding"
   ]
  },
  {
   "cell_type": "markdown",
   "metadata": {},
   "source": [
    "- public & private ip addr\n",
    "\n",
    "- "
   ]
  },
  {
   "cell_type": "markdown",
   "metadata": {},
   "source": [
    "# Domain"
   ]
  },
  {
   "cell_type": "markdown",
   "metadata": {},
   "source": [
    "### DNS"
   ]
  },
  {
   "cell_type": "markdown",
   "metadata": {},
   "source": [
    "#### hosts file"
   ]
  },
  {
   "cell_type": "markdown",
   "metadata": {},
   "source": [
    "- file that has links between domain name and ip\n",
    "- change /etc/hosts\n",
    "- google.com can be linked to local index.html through hosts file\n",
    "\n",
    "- Because computer check hosts file first and if there's none then it try DNS server\n",
    "\n",
    "- "
   ]
  },
  {
   "cell_type": "markdown",
   "metadata": {},
   "source": [
    "#### /etc/hosts file"
   ]
  },
  {
   "cell_type": "markdown",
   "metadata": {},
   "source": [
    "- hacker's target point\n",
    "- "
   ]
  },
  {
   "cell_type": "markdown",
   "metadata": {},
   "source": [
    "#### Domain purchasing"
   ]
  },
  {
   "cell_type": "markdown",
   "metadata": {},
   "source": [
    "/etc/resolv.conf\n",
    "\n",
    "in DNS, set kadencho.ga = 125.129.102.154 \n",
    "\n",
    "need domain purchasing\n",
    "\n",
    "domain 0 ~ 100,000 won\n",
    "\n"
   ]
  },
  {
   "cell_type": "markdown",
   "metadata": {},
   "source": [
    "#### Sub Domain"
   ]
  },
  {
   "cell_type": "markdown",
   "metadata": {},
   "source": [
    "#### how DNS works "
   ]
  },
  {
   "cell_type": "markdown",
   "metadata": {},
   "source": [
    "dig +trace kadensungbincho.com\n",
    "\n",
    "google.com. \n",
    "\n",
    "the last . is root domain\n",
    "\n",
    "save domain by hierarchical distribution\n",
    "\n",
    "root DNS server lists \n",
    "\n",
    "DNS is divided by extension so root DNS S return domain extension-related \n",
    "DNS address \n",
    "\n",
    "choose one of extension-related server and request about DNS server that handle the site\n",
    "\n",
    "extionsion-related Server return available DNS that have target ip and\n",
    "client get in through the target ip\n",
    "\n",
    "nameserver in freenom can change 3rd domain nameserver \n",
    "\n",
    "you can build your own DNS server, but not that popular"
   ]
  },
  {
   "cell_type": "markdown",
   "metadata": {},
   "source": [
    "# Rsync : another example of client-server"
   ]
  },
  {
   "cell_type": "markdown",
   "metadata": {},
   "source": [
    "- rsync : remote syncronize the computers "
   ]
  },
  {
   "cell_type": "markdown",
   "metadata": {},
   "source": [
    "touch test{1..10}\n",
    "\n",
    "rsync -a src/ dest\n",
    "\n",
    "rsync -av src/ dest"
   ]
  },
  {
   "cell_type": "markdown",
   "metadata": {},
   "source": [
    "### rsync through network"
   ]
  },
  {
   "cell_type": "markdown",
   "metadata": {},
   "source": [
    "a for archive\n",
    "z for zip\n",
    "P for Progress view"
   ]
  },
  {
   "cell_type": "markdown",
   "metadata": {},
   "source": [
    "rsync -azP ~/rsync/src/ k8805@192.168.0.65:~/rsync/dest"
   ]
  },
  {
   "cell_type": "markdown",
   "metadata": {},
   "source": [
    "### Good for backup processing"
   ]
  }
 ],
 "metadata": {
  "kernelspec": {
   "display_name": "Python 3",
   "language": "python",
   "name": "python3"
  },
  "language_info": {
   "codemirror_mode": {
    "name": "ipython",
    "version": 3
   },
   "file_extension": ".py",
   "mimetype": "text/x-python",
   "name": "python",
   "nbconvert_exporter": "python",
   "pygments_lexer": "ipython3",
   "version": "3.6.2"
  }
 },
 "nbformat": 4,
 "nbformat_minor": 2
}
