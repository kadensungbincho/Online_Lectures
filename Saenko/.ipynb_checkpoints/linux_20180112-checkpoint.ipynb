{
 "cells": [
  {
   "cell_type": "markdown",
   "metadata": {},
   "source": [
    "# Shell and Kernel"
   ]
  },
  {
   "cell_type": "markdown",
   "metadata": {},
   "source": [
    "<img src=\"http://www.tonypickett.com/wp-content/uploads/2013/09/arch_02.jpg\">"
   ]
  },
  {
   "cell_type": "markdown",
   "metadata": {},
   "source": [
    "- Shell for controling kernel through cli linking to program"
   ]
  },
  {
   "cell_type": "markdown",
   "metadata": {},
   "source": [
    "- why dp they divide the shell and kernel?\n",
    "- Shell for understanding user's command and user can choose their own shell"
   ]
  },
  {
   "cell_type": "markdown",
   "metadata": {},
   "source": [
    "- use **various shell** so that we can recognize the difference : bash, zsh"
   ]
  },
  {
   "cell_type": "markdown",
   "metadata": {},
   "source": [
    "echo \"hello\"\n",
    "echo $0"
   ]
  },
  {
   "cell_type": "markdown",
   "metadata": {},
   "source": [
    "Try zsh\n",
    "sudo apt-get install zsh"
   ]
  },
  {
   "cell_type": "markdown",
   "metadata": {},
   "source": [
    "**bash vs zsh**\n",
    "\n",
    "> cd + tab \n",
    "\n",
    "> in zsh cd /h/u + tab -> cd /home/ubuntu\n",
    "\n",
    "> in zsh cd /home/ubuntu/why \n",
    " after that cd why dir1 \n",
    "pwd /home/ubuntu/dir1"
   ]
  },
  {
   "cell_type": "markdown",
   "metadata": {},
   "source": [
    "# Shell Script"
   ]
  },
  {
   "cell_type": "markdown",
   "metadata": {},
   "source": [
    "- script? 대본, 각본\n",
    "- On which orders the actors should move\n",
    "- Sequence command \n",
    "\n"
   ]
  },
  {
   "cell_type": "markdown",
   "metadata": {},
   "source": [
    "### What is shell script? and what we can do with them?"
   ]
  },
  {
   "cell_type": "markdown",
   "metadata": {},
   "source": [
    "touch a.log b.log c.log\n",
    "mkdir bak\n",
    "cp \\*.log bak\n",
    "\n"
   ]
  },
  {
   "cell_type": "markdown",
   "metadata": {},
   "source": [
    "bash is also a program"
   ]
  },
  {
   "cell_type": "markdown",
   "metadata": {},
   "source": [
    "bash is in root /bin\n",
    "\n",
    "check ls /bin"
   ]
  },
  {
   "cell_type": "markdown",
   "metadata": {},
   "source": [
    "vim backup\n",
    "\n",
    "\\#!/bin/bash    # let os know which language should use for the code below\n",
    "\n",
    "if ! [ -d bak ]; then\n",
    "        mkdir bak\n",
    "fi\n",
    "cp \\*.log bak"
   ]
  },
  {
   "cell_type": "markdown",
   "metadata": {},
   "source": [
    "./backup"
   ]
  },
  {
   "cell_type": "markdown",
   "metadata": {},
   "source": [
    "chmod +x backup"
   ]
  },
  {
   "cell_type": "markdown",
   "metadata": {},
   "source": [
    "# Structure of Directories"
   ]
  },
  {
   "cell_type": "markdown",
   "metadata": {},
   "source": [
    "- Unix system use directory to classify applications depending on their characteristics or purposes\n",
    "- http://dev-random.net/linux-directory-structure-explained/"
   ]
  },
  {
   "cell_type": "markdown",
   "metadata": {},
   "source": [
    "1. / - root\n",
    "2. /bin - User Binaries \n",
    " - Contain binary executables\n",
    " \n",
    "3. /sbin - System Binaries\n",
    " - Just like /bin, /sbin also contains binary executables.\n",
    " - But, the linux commands located under this dir are used typically by system administrator, for system maintenance purpose.\n",
    " \n",
    "4. /etc - configuration files\n",
    " - Contains configuration files required by all programs.\n",
    " - This also contains startup and shutdown scripts \n",
    " \n",
    "5. /dev - Device Files\n",
    " - Contains device files\n",
    " \n",
    "6. /proc - process information\n",
    "\n",
    "7. /var - variable files\n",
    " -\n",
    " \n",
    "8. /tmp - temporary files\n",
    "\n",
    "9. /usr - user program\n",
    " - /usr/bin /usr/sbin /usr/lib /usr/local\n",
    " - historically divide it and put it in usr\n",
    " - bundle type usually located on the root diretories' bin, sbin, lib, etc\n",
    "  \n",
    "10. /home - home directories \n",
    " - user files directories\n",
    " - \n",
    " \n",
    "11. /boot - boot loader file\n",
    "\n",
    "12. /lib - system libraries\n",
    "\n",
    "13. /opt - optional add-on applications\n",
    "\n",
    "14. /mnt - mount directory\n",
    "\n",
    "15. /media\n",
    "\n",
    "16. /srv"
   ]
  },
  {
   "cell_type": "markdown",
   "metadata": {
    "collapsed": true
   },
   "source": [
    "# Process"
   ]
  },
  {
   "cell_type": "markdown",
   "metadata": {},
   "source": [
    "### About hardware\n",
    "- ssd, hdd : storage\n",
    "- memory, cpu(processor)\n",
    "- process is a program that is being processed on memory through processor"
   ]
  },
  {
   "cell_type": "markdown",
   "metadata": {},
   "source": [
    "top \n",
    "htop\n",
    "\n",
    "load"
   ]
  },
  {
   "cell_type": "markdown",
   "metadata": {},
   "source": [
    "# How to find a file"
   ]
  },
  {
   "cell_type": "markdown",
   "metadata": {},
   "source": [
    "### File purpose\n",
    "- data store\n",
    "- implemetaion"
   ]
  },
  {
   "cell_type": "markdown",
   "metadata": {},
   "source": [
    "locate   # find target by database so it's faster\n",
    "locate \\*.log\n",
    "sudo updatedb   # update files location so that It can be found by db\n",
    "\n",
    "\n",
    "find   # find on directories, so get the current state\n"
   ]
  },
  {
   "cell_type": "markdown",
   "metadata": {},
   "source": [
    "whereis $PATH\n",
    "\n"
   ]
  },
  {
   "cell_type": "markdown",
   "metadata": {},
   "source": [
    "ls could be available everywhere\n",
    "cause of $PATH variable\n",
    "\n",
    "ls -> os find directory of $PATH variable\n",
    "\n",
    "can change $PATH : environmental variable"
   ]
  },
  {
   "cell_type": "markdown",
   "metadata": {},
   "source": [
    "# Backgroun Implementation"
   ]
  },
  {
   "cell_type": "markdown",
   "metadata": {},
   "source": [
    "- background & foreground \n",
    "- not working on docker, it get out to the docker shell not to the bash shell\n",
    "- "
   ]
  },
  {
   "cell_type": "markdown",
   "metadata": {},
   "source": [
    "ls -alR / > result.txt 2> error.log &\n"
   ]
  },
  {
   "cell_type": "markdown",
   "metadata": {},
   "source": [
    "# Always implementation (daemon, service)"
   ]
  },
  {
   "cell_type": "markdown",
   "metadata": {},
   "source": [
    "- daemon : 항상 실행되고 있는 프로그램들, so called server\n",
    "- ls, mkdir, rm : 필요할 때만 키는 프로그램"
   ]
  },
  {
   "cell_type": "markdown",
   "metadata": {},
   "source": [
    "## Service and auto-execution"
   ]
  },
  {
   "cell_type": "markdown",
   "metadata": {},
   "source": [
    "- example : apache2"
   ]
  },
  {
   "cell_type": "markdown",
   "metadata": {},
   "source": [
    "/etc/init.d    - daemon application folder\n",
    "\n",
    "sudo service apache2 start \n",
    "sudo service apache2 stop\n"
   ]
  },
  {
   "cell_type": "markdown",
   "metadata": {},
   "source": [
    "automatically execute when booted\n",
    "\n",
    "/etc/rc3.d ls\n",
    "\n",
    "-rw-r--r--   1 root root  677 Feb  5  2016 README\n",
    "lrwxrwxrwx   1 root root   24 Oct 10 15:27 S01rstudio-server -> ../init.d/rstudio-server\n",
    "lrwxrwxrwx   1 root root   17 Oct 10 12:41 S01rsyslog -> ../init.d/rsyslog\n",
    "lrwxrwxrwx   1 root root   20 Oct 10 13:01 S01supervisor -> ../init.d/supervisor\n",
    "lrwxrwxrwx   1 root root   29 Oct 10 13:04 S01unattended-upgrades -> ../init.d/unattended-upgrades\n",
    "lrwxrwxrwx   1 root root   13 Oct 10 12:59 S01xdm -> ../init.d/xdm\n",
    "lrwxrwxrwx   1 root root   14 Oct 10 12:41 S02cron -> ../init.d/cron\n",
    "lrwxrwxrwx   1 root root   14 Oct 10 12:42 S02dbus -> ../init.d/dbus\n",
    "lrwxrwxrwx   1 root root   19 Oct 10 12:56 S02memcached -> ../init.d/memcached\n",
    "lrwxrwxrwx   1 root root   15 Oct 10 12:57 S02nginx -> ../init.d/nginx\n",
    "lrwxrwxrwx   1 root root   20 Oct 10 12:57 S02postgresql -> ../init.d/postgresql\n",
    "lrwxrwxrwx   1 root root   15 Oct 10 12:42 S02rsync -> ../init.d/rsync\n",
    "lrwxrwxrwx   1 root root   13 Oct 10 12:57 S02ssh -> ../init.d/ssh\n",
    "lrwxrwxrwx   1 root root   17 Oct 10 12:59 S02sysstat -> ../init.d/sysstat\n",
    "lrwxrwxrwx   1 root root   18 Oct 10 12:41 S03ondemand -> ../init.d/ondemand\n",
    "lrwxrwxrwx   1 root root   18 Oct 10 12:41 S03rc.local -> ../init.d/rc.local\n",
    "\n",
    "automatically start(S) when it is booted \n",
    "01 02 for priority\n",
    "\n",
    "make link for automatic implementation when it's booted"
   ]
  },
  {
   "cell_type": "markdown",
   "metadata": {},
   "source": [
    "# Regular implementation - cron"
   ]
  },
  {
   "cell_type": "markdown",
   "metadata": {},
   "source": [
    "- "
   ]
  },
  {
   "cell_type": "markdown",
   "metadata": {},
   "source": [
    "crontab\n",
    "\n",
    "edit\n",
    "\n",
    "1/* * * * * date >> date.log"
   ]
  },
  {
   "cell_type": "markdown",
   "metadata": {},
   "source": [
    "<img src=\"data:image/jpeg;base64,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\">"
   ]
  },
  {
   "cell_type": "markdown",
   "metadata": {},
   "source": [
    "- https://askubuntu.com/questions/635779/e45-readonly-option-is-set-add-to-override\n",
    "- https://superuser.com/questions/122246/how-can-i-view-results-of-my-cron-jobs"
   ]
  },
  {
   "cell_type": "markdown",
   "metadata": {},
   "source": [
    "crontab -l   # print the script\n",
    "\n",
    "cd ~ # home directory\n",
    "\n",
    "tail date.log\n",
    "\n",
    "tail -f date.log"
   ]
  },
  {
   "cell_type": "markdown",
   "metadata": {},
   "source": [
    "error is not automatically saved like output cause it's not a standard output\n",
    "<pre>\n",
    "1/* * * * * date >> date.log 2>&1\n",
    "</pre>\n",
    "2> standard error to 1(standard output)"
   ]
  },
  {
   "cell_type": "markdown",
   "metadata": {},
   "source": [
    "### Real Example\n"
   ]
  },
  {
   "cell_type": "markdown",
   "metadata": {},
   "source": [
    "# Start apps when the shell start : shell customizing\n",
    "- shell startup configuration"
   ]
  },
  {
   "cell_type": "markdown",
   "metadata": {},
   "source": [
    "- example : alias, \n",
    "\n",
    "alias l='ls -al'\n",
    "alias ..='cd ..'\n",
    "alias c='clear'\n",
    "\n",
    "\n",
    "cd ~ \n",
    "vim .bachrc    # basic startup script on bash\n",
    "\n"
   ]
  },
  {
   "cell_type": "markdown",
   "metadata": {},
   "source": [
    "# Multi Users"
   ]
  },
  {
   "cell_type": "markdown",
   "metadata": {},
   "source": [
    "- If it is, complexity is rocketing\n",
    "- Permission problem\n",
    "- unix is multi users system\n",
    "- "
   ]
  },
  {
   "cell_type": "markdown",
   "metadata": {},
   "source": [
    "**command**\n",
    "- id \n",
    "- who"
   ]
  },
  {
   "cell_type": "markdown",
   "metadata": {},
   "source": [
    "# Superuser & user"
   ]
  },
  {
   "cell_type": "markdown",
   "metadata": {},
   "source": [
    "- superuser have name which is 'root'\n",
    "- and # as a prompt\n",
    "- \\$ prompt for user"
   ]
  },
  {
   "cell_type": "markdown",
   "metadata": {},
   "source": [
    "on ubuntu to unlock superuser\n",
    "\n",
    "\n",
    "sudo passwd -u root  # unlock\n",
    " \n",
    "sudo passwd -l root  # lock again\n",
    "\n"
   ]
  },
  {
   "cell_type": "markdown",
   "metadata": {},
   "source": [
    "/root is the home directory of the rootuser\n",
    "\n"
   ]
  },
  {
   "cell_type": "markdown",
   "metadata": {},
   "source": [
    "# Add User"
   ]
  },
  {
   "cell_type": "markdown",
   "metadata": {},
   "source": [
    "<pre>\n",
    "# useradd -m duru\n",
    "\n",
    "# passwd duru\n",
    "\n",
    "let duru use super authority\n",
    "\n",
    "sudo usermod -a -G sudo duru\n",
    "\n",
    "sudo deluser duru"
   ]
  },
  {
   "cell_type": "markdown",
   "metadata": {},
   "source": [
    "# Permission"
   ]
  },
  {
   "cell_type": "markdown",
   "metadata": {},
   "source": [
    "- https://opentutorials.org/course/2598/14290"
   ]
  },
  {
   "cell_type": "code",
   "execution_count": null,
   "metadata": {
    "collapsed": true
   },
   "outputs": [],
   "source": []
  },
  {
   "cell_type": "code",
   "execution_count": null,
   "metadata": {
    "collapsed": true
   },
   "outputs": [],
   "source": []
  },
  {
   "cell_type": "code",
   "execution_count": null,
   "metadata": {
    "collapsed": true
   },
   "outputs": [],
   "source": []
  }
 ],
 "metadata": {
  "kernelspec": {
   "display_name": "Python 3",
   "language": "python",
   "name": "python3"
  },
  "language_info": {
   "codemirror_mode": {
    "name": "ipython",
    "version": 3
   },
   "file_extension": ".py",
   "mimetype": "text/x-python",
   "name": "python",
   "nbconvert_exporter": "python",
   "pygments_lexer": "ipython3",
   "version": "3.6.2"
  }
 },
 "nbformat": 4,
 "nbformat_minor": 2
}
