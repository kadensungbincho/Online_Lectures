{
 "cells": [
  {
   "cell_type": "markdown",
   "metadata": {},
   "source": [
    "sudo, vim, pip(package manager)\n",
    "wget or git, \n",
    "\n",
    "why CLI?\n",
    "\n",
    "http://slideplayer.com/slide/5117573/"
   ]
  },
  {
   "cell_type": "code",
   "execution_count": null,
   "metadata": {
    "collapsed": true
   },
   "outputs": [],
   "source": [
    "## pipe line\n",
    "#  |   output to input (connection)"
   ]
  },
  {
   "cell_type": "markdown",
   "metadata": {},
   "source": [
    "## IO Redirection & IO Stream"
   ]
  },
  {
   "cell_type": "markdown",
   "metadata": {},
   "source": [
    "\\> for redirection(change the output format)\n",
    "\n",
    "\n",
    "/< change the input format(default : keyboard else;;;)\n",
    "\n",
    "\n",
    "cat : std input to std output, this is embedded program\n",
    "\n"
   ]
  },
  {
   "cell_type": "markdown",
   "metadata": {},
   "source": [
    "head -n1 < linux.txt > one.txt\n",
    "\n",
    "cat one.txt\n",
    "\n",
    "ls -al > result.txt\n",
    "ls -al >> result.txt    # >> for appending\n",
    "\n"
   ]
  },
  {
   "cell_type": "markdown",
   "metadata": {},
   "source": [
    "# Shell & Kernel & Shell Script"
   ]
  },
  {
   "cell_type": "markdown",
   "metadata": {},
   "source": [
    "Shell vs Kernel\n",
    "`"
   ]
  },
  {
   "cell_type": "code",
   "execution_count": null,
   "metadata": {
    "collapsed": true
   },
   "outputs": [],
   "source": [
    "#!/bin/bash\n",
    "\n",
    "if ! [ -d bak ]; then\n",
    "        mkdir bak\n",
    "fi\n",
    "cp *.log bak"
   ]
  },
  {
   "cell_type": "code",
   "execution_count": null,
   "metadata": {
    "collapsed": true
   },
   "outputs": [],
   "source": [
    "echo $0\n",
    "ls /bin   # bin is the folder that have bash, mv, mkdir ... etc\n",
    "\n",
    "chmod +x backup # permission"
   ]
  },
  {
   "cell_type": "markdown",
   "metadata": {},
   "source": [
    "# Directory Structure\n",
    "https://en.wikipedia.org/wiki/Filesystem_Hierarchy_Standard"
   ]
  },
  {
   "cell_type": "markdown",
   "metadata": {},
   "source": [
    "directory is important on command system, in unix have the rule for comman directory. "
   ]
  },
  {
   "cell_type": "markdown",
   "metadata": {},
   "source": [
    "# Process"
   ]
  },
  {
   "cell_type": "markdown",
   "metadata": {},
   "source": [
    "ps, top, htop\n",
    "ps aux\n",
    "kill\n",
    "sudo top\n"
   ]
  },
  {
   "cell_type": "markdown",
   "metadata": {},
   "source": [
    "# How to find a file"
   ]
  },
  {
   "cell_type": "markdown",
   "metadata": {},
   "source": []
  }
 ],
 "metadata": {
  "kernelspec": {
   "display_name": "Python 3",
   "language": "python",
   "name": "python3"
  },
  "language_info": {
   "codemirror_mode": {
    "name": "ipython",
    "version": 3
   },
   "file_extension": ".py",
   "mimetype": "text/x-python",
   "name": "python",
   "nbconvert_exporter": "python",
   "pygments_lexer": "ipython3",
   "version": "3.6.2"
  }
 },
 "nbformat": 4,
 "nbformat_minor": 2
}
