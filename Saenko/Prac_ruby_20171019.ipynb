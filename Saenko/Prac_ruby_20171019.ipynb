{
 "cells": [
  {
   "cell_type": "markdown",
   "metadata": {},
   "source": [
    "# Container & Loop"
   ]
  },
  {
   "cell_type": "code",
   "execution_count": 2,
   "metadata": {},
   "outputs": [
    {
     "name": "stdout",
     "output_type": "stream",
     "text": [
      "kadencho\n",
      "leezche\n",
      "graphittie\n"
     ]
    }
   ],
   "source": [
    "members = ['kadencho', 'leezche', 'graphittie']\n",
    "puts(members[0])\n",
    "puts(members[1])\n",
    "puts(members[2])"
   ]
  },
  {
   "cell_type": "code",
   "execution_count": 3,
   "metadata": {},
   "outputs": [
    {
     "name": "stdout",
     "output_type": "stream",
     "text": [
      "kadencho\n",
      "leezche\n",
      "graphittie\n"
     ]
    }
   ],
   "source": [
    "i = 0\n",
    "while i < members.length do\n",
    "    puts(members[i])\n",
    "    i += 1\n",
    "end"
   ]
  },
  {
   "cell_type": "code",
   "execution_count": 4,
   "metadata": {},
   "outputs": [
    {
     "name": "stdout",
     "output_type": "stream",
     "text": [
      "kadencho\n",
      "leezche\n",
      "graphittie\n"
     ]
    },
    {
     "data": {
      "text/plain": [
       "[\"kadencho\", \"leezche\", \"graphittie\"]"
      ]
     },
     "execution_count": 4,
     "metadata": {},
     "output_type": "execute_result"
    }
   ],
   "source": [
    "for member in members do\n",
    "    puts(member)\n",
    "end"
   ]
  },
  {
   "cell_type": "code",
   "execution_count": 5,
   "metadata": {
    "collapsed": true
   },
   "outputs": [
    {
     "name": "stdout",
     "output_type": "stream",
     "text": [
      "5\n",
      "6\n",
      "7\n",
      "8\n",
      "9\n",
      "10\n"
     ]
    },
    {
     "data": {
      "text/plain": [
       "[5, 6, 7, 8, 9, 10]"
      ]
     },
     "execution_count": 5,
     "metadata": {},
     "output_type": "execute_result"
    }
   ],
   "source": [
    "for item in [5, 6, 7, 8, 9, 10] do\n",
    "  puts(item)\n",
    "end"
   ]
  },
  {
   "cell_type": "code",
   "execution_count": 8,
   "metadata": {
    "collapsed": true
   },
   "outputs": [
    {
     "name": "stdout",
     "output_type": "stream",
     "text": [
      "0\n",
      "1\n",
      "2\n",
      "3\n",
      "4\n",
      "5\n",
      "6\n",
      "7\n",
      "8\n",
      "9\n",
      "10\n"
     ]
    },
    {
     "data": {
      "text/plain": [
       "0..10"
      ]
     },
     "execution_count": 8,
     "metadata": {},
     "output_type": "execute_result"
    }
   ],
   "source": [
    "for item in (0..10) do\n",
    "  puts(item)\n",
    "end"
   ]
  },
  {
   "cell_type": "code",
   "execution_count": 9,
   "metadata": {
    "collapsed": true
   },
   "outputs": [
    {
     "name": "stdout",
     "output_type": "stream",
     "text": [
      "5\n",
      "6\n",
      "7\n",
      "8\n",
      "9\n",
      "10\n"
     ]
    },
    {
     "data": {
      "text/plain": [
       "5..10"
      ]
     },
     "execution_count": 9,
     "metadata": {},
     "output_type": "execute_result"
    }
   ],
   "source": [
    "for item in (5..10) do # python range == %..%  (% is number start & end)\n",
    "  puts(item)\n",
    "end"
   ]
  },
  {
   "cell_type": "code",
   "execution_count": 17,
   "metadata": {},
   "outputs": [
    {
     "name": "stdout",
     "output_type": "stream",
     "text": [
      "Please insert your id :\n",
      "who are you?\n",
      "who are you?\n"
     ]
    },
    {
     "data": {
      "text/plain": [
       "[\"egoing\", \"k8805\"]"
      ]
     },
     "execution_count": 17,
     "metadata": {},
     "output_type": "execute_result"
    }
   ],
   "source": [
    "members = ['egoing', 'k8805']\n",
    "puts(\"Please insert your id :\")\n",
    "in_str = gets.chomp()\n",
    "for member in members do\n",
    "  if member == in_str\n",
    "    puts(\"Hi, \" + in_str)\n",
    "#     exit\n",
    "  else\n",
    "    puts(\"who are you?\")\n",
    "  end\n",
    "end\n"
   ]
  },
  {
   "cell_type": "code",
   "execution_count": 18,
   "metadata": {},
   "outputs": [
    {
     "name": "stdout",
     "output_type": "stream",
     "text": [
      "아이디를 입력해주세요\n",
      "Who are you?\n"
     ]
    }
   ],
   "source": [
    "puts(\"아이디를 입력해주세요\")\n",
    "input_id = gets.chomp()\n",
    "members = ['egoing', 'k8805', 'leezche']\n",
    "for member in members do\n",
    "    if member == input_id\n",
    "        puts('Hello!, '+member)\n",
    "#         exit\n",
    "    end\n",
    "end\n",
    "puts('Who are you?')"
   ]
  },
  {
   "cell_type": "markdown",
   "metadata": {},
   "source": [
    "# Function"
   ]
  },
  {
   "cell_type": "code",
   "execution_count": 19,
   "metadata": {},
   "outputs": [
    {
     "name": "stdout",
     "output_type": "stream",
     "text": [
      "aaa\n"
     ]
    }
   ],
   "source": [
    "def a3()\n",
    "    puts('aaa')\n",
    "end\n",
    "a3()"
   ]
  },
  {
   "cell_type": "code",
   "execution_count": 21,
   "metadata": {},
   "outputs": [
    {
     "name": "stdout",
     "output_type": "stream",
     "text": [
      "aaaaaaaaaaaaaaaaaaaaaaaaaaaaaaaaaaaaaaaaaaaaaaaaaaaaaaaaaaaaaaaaaaaaaaaaaaaaaaaaaaaaaaaaaaaaaaaaaaaa\n",
      "\n"
     ]
    },
    {
     "data": {
      "text/plain": [
       "\"abcabcabcabcabcabcabcabcabcabc\""
      ]
     },
     "execution_count": 21,
     "metadata": {},
     "output_type": "execute_result"
    }
   ],
   "source": [
    "def a(num)\n",
    "  puts('a'*num)\n",
    "end\n",
    "puts(a(100))\n",
    "def make_string(string, num)\n",
    "    return string * num\n",
    "end\n",
    "make_string('abc', 10)\n"
   ]
  },
  {
   "cell_type": "code",
   "execution_count": 22,
   "metadata": {},
   "outputs": [
    {
     "name": "stdout",
     "output_type": "stream",
     "text": [
      "아이디를 입력해주세요\n",
      "Who are you?\n"
     ]
    }
   ],
   "source": [
    "puts(\"아이디를 입력해주세요\")\n",
    "input_id = gets.chomp()\n",
    "\n",
    "def login(_id)\n",
    "  members = ['egoing', 'k8805', 'leezche']\n",
    "  for member in members do\n",
    "    if member == _id\n",
    "      return true\n",
    "    end\n",
    "  end\n",
    "  return false\n",
    "end\n",
    "\n",
    "if login(input_id)\n",
    "  puts('Hello, ' + input_id)\n",
    "else\n",
    "  puts('Who are you?')\n",
    "end"
   ]
  },
  {
   "cell_type": "code",
   "execution_count": null,
   "metadata": {
    "collapsed": true
   },
   "outputs": [],
   "source": []
  }
 ],
 "metadata": {
  "kernelspec": {
   "display_name": "Ruby 2.3.1",
   "language": "ruby",
   "name": "ruby"
  },
  "language_info": {
   "file_extension": ".rb",
   "mimetype": "application/x-ruby",
   "name": "ruby",
   "version": "2.3.1"
  }
 },
 "nbformat": 4,
 "nbformat_minor": 2
}
