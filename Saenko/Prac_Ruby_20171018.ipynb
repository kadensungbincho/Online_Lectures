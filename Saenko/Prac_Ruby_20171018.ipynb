{
 "cells": [
  {
   "cell_type": "markdown",
   "metadata": {},
   "source": [
    "# Comment"
   ]
  },
  {
   "cell_type": "code",
   "execution_count": 1,
   "metadata": {},
   "outputs": [
    {
     "name": "stdout",
     "output_type": "stream",
     "text": [
      "1\n"
     ]
    }
   ],
   "source": [
    "puts(1)\n",
    "#puts(1)"
   ]
  },
  {
   "cell_type": "code",
   "execution_count": 4,
   "metadata": {},
   "outputs": [
    {
     "name": "stdout",
     "output_type": "stream",
     "text": [
      "Who are you?\n"
     ]
    }
   ],
   "source": [
    "#elsif\n",
    "=begin\n",
    "egoing \n",
    "2015, # is better that this\n",
    "=end\n",
    "real_egoing = 2222\n",
    "#real_kadencho = 3333 #Block one id \n",
    "input = 222\n",
    "\n",
    "if real_egoing == input\n",
    "  puts(\"Hello, egoing!\") \n",
    "#elsif real_kadencho == input\n",
    "#  puts(\"Hellow, kadencho!\")\n",
    "else \n",
    "  puts(\"Who are you?\")\n",
    "end"
   ]
  },
  {
   "cell_type": "markdown",
   "metadata": {},
   "source": [
    "# Container & How to use Documentation"
   ]
  },
  {
   "cell_type": "code",
   "execution_count": 9,
   "metadata": {},
   "outputs": [
    {
     "name": "stdout",
     "output_type": "stream",
     "text": [
      "Array\n",
      "kadencho\n",
      "[\"k8805\", \"leezche\", \"graphittie\"]\n",
      "[\"k8805\", \"leezche\", \"graphittie\"]"
     ]
    }
   ],
   "source": [
    "#Array \n",
    "names = ['kadencho', 'leezche', 'graphittie']\n",
    "puts(names.class)  # to know the type of names\n",
    "puts(names[0])\n",
    "names[0] = 'k8805'\n",
    "puts(names)\n",
    "print(names)"
   ]
  },
  {
   "cell_type": "code",
   "execution_count": 15,
   "metadata": {},
   "outputs": [
    {
     "name": "stdout",
     "output_type": "stream",
     "text": [
      "3\n",
      "1\n",
      "6\n"
     ]
    }
   ],
   "source": [
    "ary = [1, 'two', 3.0]\n",
    "ary = Array.new\n",
    "arr = [1, 2, 3, 4, 5, 6]\n",
    "puts(arr[2])\n",
    "puts(arr.first)\n",
    "puts(arr.last)"
   ]
  },
  {
   "cell_type": "code",
   "execution_count": 26,
   "metadata": {},
   "outputs": [
    {
     "name": "stdout",
     "output_type": "stream",
     "text": [
      "[1, 2, 8, 7]\n"
     ]
    }
   ],
   "source": [
    "b = Array.new(4) {Hash.new}\n",
    "b.length()\n",
    "arr.push(7)\n",
    "puts(arr)"
   ]
  },
  {
   "cell_type": "code",
   "execution_count": 27,
   "metadata": {},
   "outputs": [
    {
     "name": "stdout",
     "output_type": "stream",
     "text": [
      "[1, 2, 7]\n",
      "true\n",
      "[1, 2, 7, 8]\n"
     ]
    }
   ],
   "source": [
    "arr.delete_at(2)\n",
    "puts(arr)\n",
    "puts(arr.include?(7))\n",
    "arr.push(8)\n",
    "puts(arr)"
   ]
  },
  {
   "cell_type": "markdown",
   "metadata": {},
   "source": [
    "# Loop"
   ]
  },
  {
   "cell_type": "code",
   "execution_count": null,
   "metadata": {
    "collapsed": true
   },
   "outputs": [],
   "source": [
    "puts('Hello world 0')\n",
    "puts('Hello world 27')\n",
    "puts('Hello world 18')\n",
    "puts('Hello world 9')\n",
    "puts('Hello world 36')\n",
    "puts('Hello world 45')\n",
    "puts('Hello world 54')\n",
    "puts('Hello world 63')\n",
    "puts('Hello world 81')"
   ]
  },
  {
   "cell_type": "code",
   "execution_count": 28,
   "metadata": {},
   "outputs": [
    {
     "name": "stdout",
     "output_type": "stream",
     "text": [
      "after while\n"
     ]
    }
   ],
   "source": [
    "while false do\n",
    "  puts('Hello world')\n",
    "end\n",
    "puts('after while')"
   ]
  },
  {
   "cell_type": "code",
   "execution_count": 34,
   "metadata": {},
   "outputs": [
    {
     "name": "stdout",
     "output_type": "stream",
     "text": [
      "puts(\"Hello world 0\")\n",
      "puts(\"Hello world 9\")\n",
      "puts(\"Hello world 18\")\n",
      "puts(\"Hello world 27\")\n",
      "puts(\"Hello world 36\")\n",
      "puts(\"Hello world 45\")\n",
      "puts(\"Hello world 54\")\n",
      "puts(\"Hello world 63\")\n",
      "puts(\"Hello world 72\")\n",
      "puts(\"Hello world 81\")\n"
     ]
    }
   ],
   "source": [
    "i = 0\n",
    "while i < 10 do\n",
    "  puts('puts(\"Hello world ' + (i*9).to_s() + '\")')\n",
    "  i += 1\n",
    "end"
   ]
  },
  {
   "cell_type": "code",
   "execution_count": 36,
   "metadata": {},
   "outputs": [
    {
     "name": "stdout",
     "output_type": "stream",
     "text": [
      "0\n",
      "1\n",
      "2\n",
      "3\n"
     ]
    }
   ],
   "source": [
    "i = 0\n",
    "while i < 10 do\n",
    "  if i == 4\n",
    "      break\n",
    "  end    # if also need end mark\n",
    "  puts(i)\n",
    "  i += 1\n",
    "end"
   ]
  },
  {
   "cell_type": "code",
   "execution_count": null,
   "metadata": {
    "collapsed": true
   },
   "outputs": [],
   "source": []
  }
 ],
 "metadata": {
  "kernelspec": {
   "display_name": "Ruby 2.3.1",
   "language": "ruby",
   "name": "ruby"
  },
  "language_info": {
   "file_extension": ".rb",
   "mimetype": "application/x-ruby",
   "name": "ruby",
   "version": "2.3.1"
  }
 },
 "nbformat": 4,
 "nbformat_minor": 2
}
