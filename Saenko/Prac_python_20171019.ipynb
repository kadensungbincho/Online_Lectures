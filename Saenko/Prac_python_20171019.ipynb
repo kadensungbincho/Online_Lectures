{
 "cells": [
  {
   "cell_type": "markdown",
   "metadata": {},
   "source": [
    "# Container & Loop\n",
    " Look it as a tool together."
   ]
  },
  {
   "cell_type": "code",
   "execution_count": 1,
   "metadata": {},
   "outputs": [
    {
     "name": "stdout",
     "output_type": "stream",
     "text": [
      "kadencho\n",
      "leezche\n",
      "graphittie\n"
     ]
    }
   ],
   "source": [
    "members = ['kadencho', 'leezche', 'graphittie']\n",
    "print(members[0])\n",
    "print(members[1])\n",
    "print(members[2])"
   ]
  },
  {
   "cell_type": "code",
   "execution_count": 5,
   "metadata": {},
   "outputs": [
    {
     "name": "stdout",
     "output_type": "stream",
     "text": [
      "kadencho\n",
      "leezche\n",
      "graphittie\n"
     ]
    }
   ],
   "source": [
    "i = 0\n",
    "while i < len(members):\n",
    "    print(members[i])\n",
    "    i += 1"
   ]
  },
  {
   "cell_type": "code",
   "execution_count": 7,
   "metadata": {
    "collapsed": true
   },
   "outputs": [
    {
     "name": "stdout",
     "output_type": "stream",
     "text": [
      "kadencho\n",
      "leezche\n",
      "graphittie\n"
     ]
    }
   ],
   "source": [
    "for i in members:\n",
    "    print(i)    # It's better than the former one because variable i could be\n",
    "                # inserted with other values\n",
    "                # it is called 'for-in statement'\n",
    "                # also called 'sugar'"
   ]
  },
  {
   "cell_type": "code",
   "execution_count": 9,
   "metadata": {
    "collapsed": true
   },
   "outputs": [
    {
     "name": "stdout",
     "output_type": "stream",
     "text": [
      "hello\n",
      "hello\n",
      "hello\n",
      "hello\n",
      "hello\n"
     ]
    }
   ],
   "source": [
    "i = [0, 1, 2, 3, 4]\n",
    "for item in i:\n",
    "    print('hello')    # Substitute of while statement"
   ]
  },
  {
   "cell_type": "code",
   "execution_count": 10,
   "metadata": {
    "collapsed": true
   },
   "outputs": [
    {
     "name": "stdout",
     "output_type": "stream",
     "text": [
      "hello\n",
      "hello\n",
      "hello\n",
      "hello\n",
      "hello\n"
     ]
    }
   ],
   "source": [
    "for item in [0, 1, 2, 3, 4]:\n",
    "    print('hello') "
   ]
  },
  {
   "cell_type": "code",
   "execution_count": 11,
   "metadata": {
    "collapsed": true
   },
   "outputs": [
    {
     "name": "stdout",
     "output_type": "stream",
     "text": [
      "hello\n",
      "hello\n",
      "hello\n",
      "hello\n",
      "hello\n"
     ]
    }
   ],
   "source": [
    "for item in range(5):\n",
    "    print('hello')       # range is a good replacement of list that can be \n",
    "                         # longer at sometimes."
   ]
  },
  {
   "cell_type": "code",
   "execution_count": 13,
   "metadata": {
    "collapsed": true
   },
   "outputs": [
    {
     "name": "stdout",
     "output_type": "stream",
     "text": [
      "0\n",
      "1\n",
      "2\n",
      "3\n",
      "4\n",
      "5\n",
      "6\n",
      "7\n",
      "8\n",
      "9\n",
      "10\n"
     ]
    }
   ],
   "source": [
    "for item in range(5):\n",
    "    print(item)\n",
    "for item in range(5, 11):\n",
    "    print(item)"
   ]
  },
  {
   "cell_type": "code",
   "execution_count": 15,
   "metadata": {},
   "outputs": [
    {
     "name": "stdout",
     "output_type": "stream",
     "text": [
      "Please insert your id :egoing\n",
      "Who are you?\n"
     ]
    }
   ],
   "source": [
    "in_str = input(\"Please insert your id :\")\n",
    "real_egoing = \"11\"\n",
    "real_k8805 = \"ab\"\n",
    "if real_egoing == in_str:\n",
    "    print(\"Hello!, egoing\")\n",
    "elif real_k8805 == in_str:\n",
    "    print(\"Hello!, k8805\")\n",
    "else:\n",
    "    print(\"Who are you?\")"
   ]
  },
  {
   "cell_type": "code",
   "execution_count": 19,
   "metadata": {},
   "outputs": [
    {
     "name": "stdout",
     "output_type": "stream",
     "text": [
      "Please insert your id :d\n",
      "who are you?\n"
     ]
    }
   ],
   "source": [
    "members = ['egoing', 'k8805']\n",
    "in_str = input(\"Please insert your id :\")\n",
    "if in_str in members:\n",
    "    print(\"Hi, \" + in_str)\n",
    "#     import sys\n",
    "#     sys.exit()\n",
    "else:\n",
    "    print(\"who are you?\")"
   ]
  },
  {
   "cell_type": "markdown",
   "metadata": {},
   "source": [
    "# Function\n",
    " 1. inner function\n",
    " \n",
    " ** Return value **\n",
    " \n",
    " ** Input Value **\n",
    "\n",
    "## Remove override\n",
    " * Readability\n",
    " * Efficiency\n",
    " * Re-useability"
   ]
  },
  {
   "cell_type": "code",
   "execution_count": 22,
   "metadata": {},
   "outputs": [
    {
     "data": {
      "text/plain": [
       "4"
      ]
     },
     "execution_count": 22,
     "metadata": {},
     "output_type": "execute_result"
    }
   ],
   "source": [
    "len('aaaa')"
   ]
  },
  {
   "cell_type": "code",
   "execution_count": 25,
   "metadata": {},
   "outputs": [
    {
     "name": "stdout",
     "output_type": "stream",
     "text": [
      "aaa\n"
     ]
    }
   ],
   "source": [
    "def a3():\n",
    "    print(\"aaa\")\n",
    "a3()"
   ]
  },
  {
   "cell_type": "code",
   "execution_count": 27,
   "metadata": {},
   "outputs": [
    {
     "name": "stdout",
     "output_type": "stream",
     "text": [
      "2\n",
      "2\n",
      "2\n"
     ]
    }
   ],
   "source": [
    "print(len('aa'))\n",
    "print(1+1)\n",
    "print(2)           #Expression"
   ]
  },
  {
   "cell_type": "code",
   "execution_count": 31,
   "metadata": {},
   "outputs": [
    {
     "name": "stdout",
     "output_type": "stream",
     "text": [
      "aaa\n",
      "before\n",
      "aa\n"
     ]
    }
   ],
   "source": [
    "def a3():\n",
    "    return 'aaa'\n",
    "def aa():\n",
    "    print('before')\n",
    "    return 'aa'\n",
    "    print('after')    # after return the function is finished so no value from this line\n",
    "\n",
    "print(a3())\n",
    "print(aa())"
   ]
  },
  {
   "cell_type": "markdown",
   "metadata": {},
   "source": [
    "### Return can be a important factor that control the re-useability of the function (good module)"
   ]
  },
  {
   "cell_type": "code",
   "execution_count": 33,
   "metadata": {},
   "outputs": [
    {
     "name": "stdout",
     "output_type": "stream",
     "text": [
      "aaaaaaaaaaaaaaaaaaaaaaaaaaaaaaaaaaaaaaaaaaaaaaaaaaaaaaaaaaaaaaaaaaaaaaaaaaaaaaaaaaaaaaaaaaaaaaaaaaaa\n"
     ]
    }
   ],
   "source": [
    "def a(num):     # input value added\n",
    "    return'a'*num\n",
    "print(a(100))"
   ]
  },
  {
   "cell_type": "code",
   "execution_count": 34,
   "metadata": {},
   "outputs": [
    {
     "data": {
      "text/plain": [
       "'abcabcabcabcabcabcabcabcabcabc'"
      ]
     },
     "execution_count": 34,
     "metadata": {},
     "output_type": "execute_result"
    }
   ],
   "source": [
    "def make_string(string, num):\n",
    "    return string * num\n",
    "make_string('abc', 10)"
   ]
  },
  {
   "cell_type": "code",
   "execution_count": 38,
   "metadata": {},
   "outputs": [
    {
     "name": "stdout",
     "output_type": "stream",
     "text": [
      "Please insert your id :k8805\n",
      "Hello, k8805\n"
     ]
    }
   ],
   "source": [
    "# members = ['egoing', 'k8805']\n",
    "input_id = input(\"Please insert your id :\")\n",
    "# if in_str in members:\n",
    "#     print(\"Hi, \" + in_str)\n",
    "# #     import sys\n",
    "# #     sys.exit()\n",
    "# else:\n",
    "#     print(\"who are you?\")\n",
    "    \n",
    "def login(_id):\n",
    "    members = ['egoing', 'k8805']\n",
    "    for member in members:\n",
    "        if member == _id:\n",
    "             return True\n",
    "    return False\n",
    "\n",
    "if login(input_id):\n",
    "    print(\"Hello, \" + input_id)\n",
    "else:\n",
    "    print(\"Who are you?\")"
   ]
  },
  {
   "cell_type": "code",
   "execution_count": null,
   "metadata": {
    "collapsed": true
   },
   "outputs": [],
   "source": []
  }
 ],
 "metadata": {
  "kernelspec": {
   "display_name": "Python 3",
   "language": "python",
   "name": "python3"
  },
  "language_info": {
   "codemirror_mode": {
    "name": "ipython",
    "version": 3
   },
   "file_extension": ".py",
   "mimetype": "text/x-python",
   "name": "python",
   "nbconvert_exporter": "python",
   "pygments_lexer": "ipython3",
   "version": "3.6.2"
  }
 },
 "nbformat": 4,
 "nbformat_minor": 2
}
