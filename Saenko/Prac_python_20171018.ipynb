{
 "cells": [
  {
   "cell_type": "markdown",
   "metadata": {},
   "source": [
    "# Comment\n",
    "For blockage of useless code or additional explanation about the code."
   ]
  },
  {
   "cell_type": "code",
   "execution_count": null,
   "metadata": {},
   "outputs": [],
   "source": [
    "print(1)\n",
    "#print(1)"
   ]
  },
  {
   "cell_type": "code",
   "execution_count": null,
   "metadata": {},
   "outputs": [],
   "source": [
    "# elif\n",
    "cusinput = 11\n",
    "real_egoing = 11\n",
    "real_k8805 = \"ab\"\n",
    "if real_egoing == cusinput:\n",
    "    print(\"Hello, egoing!\")\n",
    "elif real_k8805 == cusinput:\n",
    "    print(\"Hello, k8805!\")\n",
    "else:\n",
    "    print(\"Who are you?\")\n"
   ]
  },
  {
   "cell_type": "code",
   "execution_count": null,
   "metadata": {},
   "outputs": [],
   "source": [
    "str1 = ''''This \n",
    "also could be \n",
    "used for annotation but when you put variable front of it, this act as input'''\n",
    "print(str1)"
   ]
  },
  {
   "cell_type": "markdown",
   "metadata": {},
   "source": [
    "# Container & How to use Documentation\n",
    "\n",
    " Things similar to container : Variable,  \n",
    " How to contain many things in a container?\n",
    " <br/>'~' means the things between ' mark is type-string.\n",
    " <br/>**Index, Element**\n",
    " <br/> <br/>  <br/>\n",
    " Getting Started, Tutorial (like basics vocabulary and grammar of the code)\n",
    " \n",
    " is essential structure of that field.\n",
    " After that, you should get into deeper by **searching, reference**. To search  better, the basics knowledge about the structure of that field is needed."
   ]
  },
  {
   "cell_type": "code",
   "execution_count": null,
   "metadata": {},
   "outputs": [],
   "source": [
    "print(type('kadencho'))\n",
    "name = 'kadencho'\n",
    "print(name)\n",
    "namelst = ['kadencho', 'egoing', 'leezche'] # this is called 'list'\n",
    "print(namelst)\n",
    "print(namelst[0])"
   ]
  },
  {
   "cell_type": "code",
   "execution_count": null,
   "metadata": {},
   "outputs": [],
   "source": [
    "#https://docs.python.org/3/tutorial/datastructures.html?highlight=list\n",
    "a = ['a', 'b', 'c', 'd', 'e', 'f']\n",
    "'a' in a"
   ]
  },
  {
   "cell_type": "code",
   "execution_count": null,
   "metadata": {},
   "outputs": [],
   "source": [
    "nums =[1, 2, 3, 4, 5]\n",
    "print(min(nums))\n",
    "print(max(nums))"
   ]
  },
  {
   "cell_type": "code",
   "execution_count": null,
   "metadata": {},
   "outputs": [],
   "source": [
    "a.reverse()\n",
    "print(nums)\n",
    "print(len(a))\n",
    "print(a)\n",
    "del(a[0])\n",
    "print(a)"
   ]
  },
  {
   "cell_type": "markdown",
   "metadata": {},
   "source": [
    "# English & Progamming\n",
    " if you are planning to be in this field just 3 years, Korean is enough. But you want more technical information, English is the core language to access high level tech."
   ]
  },
  {
   "cell_type": "markdown",
   "metadata": {},
   "source": [
    "# Loop\n",
    "If there is overlap, loop can be answer.\n",
    "**Limitation on loop is important**"
   ]
  },
  {
   "cell_type": "code",
   "execution_count": null,
   "metadata": {
    "collapsed": true
   },
   "outputs": [],
   "source": [
    "print('Hello world 0')\n",
    "print('Hello world 27')\n",
    "print('Hello world 18')\n",
    "print('Hello world 9')\n",
    "print('Hello world 36')\n",
    "print('Hello world 45')\n",
    "print('Hello world 54')\n",
    "print('Hello world 63')\n",
    "print('Hello world 81')"
   ]
  },
  {
   "cell_type": "code",
   "execution_count": null,
   "metadata": {
    "collapsed": true
   },
   "outputs": [],
   "source": [
    "# while + Boolean\n",
    "\n",
    "while False:\n",
    "    print('Looping')"
   ]
  },
  {
   "cell_type": "code",
   "execution_count": null,
   "metadata": {},
   "outputs": [],
   "source": [
    "i = 0\n",
    "while i < 3:\n",
    "    print('Hello world')\n",
    "    i += 1"
   ]
  },
  {
   "cell_type": "code",
   "execution_count": null,
   "metadata": {},
   "outputs": [],
   "source": [
    "i = 0\n",
    "while i < 10:\n",
    "    print('print(\"Hello world ' +str(i*9)+'\")')\n",
    "    i += 1"
   ]
  },
  {
   "cell_type": "code",
   "execution_count": null,
   "metadata": {},
   "outputs": [],
   "source": [
    "i = 0\n",
    "while i < 10:\n",
    "    if i != 4:\n",
    "        print(i)\n",
    "    i += 1"
   ]
  },
  {
   "cell_type": "code",
   "execution_count": 4,
   "metadata": {
    "scrolled": true
   },
   "outputs": [
    {
     "name": "stdout",
     "output_type": "stream",
     "text": [
      "0\n",
      "1\n",
      "2\n",
      "3\n",
      "after while\n"
     ]
    }
   ],
   "source": [
    "i = 0\n",
    "while i < 10:\n",
    "    if i == 4:\n",
    "        break\n",
    "    print(i)\n",
    "    i = i + 1\n",
    "print('after while')"
   ]
  },
  {
   "cell_type": "markdown",
   "metadata": {},
   "source": [
    "# What is source code?"
   ]
  },
  {
   "cell_type": "code",
   "execution_count": null,
   "metadata": {
    "collapsed": true
   },
   "outputs": [],
   "source": []
  }
 ],
 "metadata": {
  "kernelspec": {
   "display_name": "Python 3",
   "language": "python",
   "name": "python3"
  },
  "language_info": {
   "codemirror_mode": {
    "name": "ipython",
    "version": 3
   },
   "file_extension": ".py",
   "mimetype": "text/x-python",
   "name": "python",
   "nbconvert_exporter": "python",
   "pygments_lexer": "ipython3",
   "version": "3.6.2"
  }
 },
 "nbformat": 4,
 "nbformat_minor": 2
}
