{
 "cells": [
  {
   "cell_type": "markdown",
   "metadata": {},
   "source": [
    "# Boolean Part\n",
    " It starts by George Boole who made this concepts.\n",
    " At that time, there was basic calculating machine but no one think this could be a part of that machine. \n",
    "  And finally Claude Elwood Shannon merge it into computer. \n",
    "  It is also deeply related to the 'statement' that we had learned on highschool regular courses. "
   ]
  },
  {
   "cell_type": "code",
   "execution_count": 1,
   "metadata": {},
   "outputs": [
    {
     "data": {
      "text/plain": [
       "int"
      ]
     },
     "execution_count": 1,
     "metadata": {},
     "output_type": "execute_result"
    }
   ],
   "source": [
    "type(1)"
   ]
  },
  {
   "cell_type": "code",
   "execution_count": 3,
   "metadata": {},
   "outputs": [
    {
     "data": {
      "text/plain": [
       "str"
      ]
     },
     "execution_count": 3,
     "metadata": {},
     "output_type": "execute_result"
    }
   ],
   "source": [
    "type(\"hello\")"
   ]
  },
  {
   "cell_type": "code",
   "execution_count": 4,
   "metadata": {},
   "outputs": [
    {
     "data": {
      "text/plain": [
       "list"
      ]
     },
     "execution_count": 4,
     "metadata": {},
     "output_type": "execute_result"
    }
   ],
   "source": [
    "a = []\n",
    "type(a)"
   ]
  },
  {
   "cell_type": "code",
   "execution_count": 5,
   "metadata": {},
   "outputs": [
    {
     "name": "stdout",
     "output_type": "stream",
     "text": [
      "True\n",
      "False\n",
      "False\n",
      "True\n",
      "True\n",
      "False\n"
     ]
    }
   ],
   "source": [
    "a=1\n",
    "b=1\n",
    "print(a==b)\n",
    "print(1==2)\n",
    "print(1>2)\n",
    "print(1<2)\n",
    "print(True)\n",
    "print(False)"
   ]
  },
  {
   "cell_type": "markdown",
   "metadata": {},
   "source": [
    "# Conditional Statements\n",
    " conditional statements process something by the condition on input."
   ]
  },
  {
   "cell_type": "code",
   "execution_count": 8,
   "metadata": {},
   "outputs": [
    {
     "name": "stdout",
     "output_type": "stream",
     "text": [
      "code3\n"
     ]
    }
   ],
   "source": [
    "if False:\n",
    "    print('code1')\n",
    "    print('code2')\n",
    "print('code3')"
   ]
  },
  {
   "cell_type": "code",
   "execution_count": 12,
   "metadata": {},
   "outputs": [
    {
     "name": "stdout",
     "output_type": "stream",
     "text": [
      "Who are you?\n"
     ]
    }
   ],
   "source": [
    "cusinput = 12\n",
    "real = 123\n",
    "\n",
    "if real == cusinput:\n",
    "    print('Hello!')\n",
    "else:\n",
    "    print(\"Who are you?\")"
   ]
  },
  {
   "cell_type": "code",
   "execution_count": 13,
   "metadata": {},
   "outputs": [
    {
     "name": "stdout",
     "output_type": "stream",
     "text": [
      "Who are you?\n"
     ]
    }
   ],
   "source": [
    "cusinput = 12\n",
    "real = 123\n",
    "\n",
    "if real == cusinput:\n",
    "    print('Hello!')\n",
    "if real != cusinput:\n",
    "    print(\"Who are you?\")"
   ]
  },
  {
   "cell_type": "code",
   "execution_count": 18,
   "metadata": {},
   "outputs": [
    {
     "name": "stdout",
     "output_type": "stream",
     "text": [
      "Hello, egoing!\n"
     ]
    }
   ],
   "source": [
    "# elif\n",
    "cusinput = 11\n",
    "real_egoing = 11\n",
    "real_k8805 = \"ab\"\n",
    "if real_egoing == cusinput:\n",
    "    print(\"Hello, egoing!\")\n",
    "elif real_k8805 == cusinput:\n",
    "    print(\"Hello, k8805!\")\n",
    "else:\n",
    "    print(\"Who are you?\")\n",
    "        "
   ]
  },
  {
   "cell_type": "markdown",
   "metadata": {},
   "source": [
    "# Input & Output I/O \n",
    " All thins have input and output process so we can understand it instinctly.\n",
    " Complicated process are also based on this IO process."
   ]
  },
  {
   "cell_type": "code",
   "execution_count": 21,
   "metadata": {},
   "outputs": [
    {
     "name": "stdout",
     "output_type": "stream",
     "text": [
      "Insert : 213\n",
      "213: Nice to meet you, 213\n"
     ]
    }
   ],
   "source": [
    "in_str = str(input(\"Insert : \"))\n",
    "print(in_str.upper() + \": Nice to meet you, \" + in_str)"
   ]
  },
  {
   "cell_type": "markdown",
   "metadata": {},
   "source": [
    "# Logical Operator\n",
    "\n",
    " Or, And, Not ."
   ]
  },
  {
   "cell_type": "code",
   "execution_count": 27,
   "metadata": {},
   "outputs": [
    {
     "name": "stdout",
     "output_type": "stream",
     "text": [
      "False\n",
      "True\n",
      "False\n",
      "True\n"
     ]
    }
   ],
   "source": [
    "print(not True)\n",
    "print(True or False)\n",
    "print(True and False)\n",
    "print(not False)"
   ]
  },
  {
   "cell_type": "code",
   "execution_count": 26,
   "metadata": {},
   "outputs": [
    {
     "name": "stdout",
     "output_type": "stream",
     "text": [
      "Insert your id.\n",
      "kadencho\n",
      "Inser your password.\n",
      "11\n",
      "Hello!\n"
     ]
    }
   ],
   "source": [
    "input_id = input(\"Insert your id.\\n\")\n",
    "input_pwd = input(\"Inser your password.\\n\")\n",
    "real_id = \"kadencho\"\n",
    "real_pwd = \"11\"\n",
    "if real_id == input_id:\n",
    "    if real_pwd == input_pwd:\n",
    "        print(\"Hello!\")\n",
    "    else:\n",
    "        print(\"Wrong Password!\")\n",
    "else:\n",
    "    print(\"Wrong Id\")\n"
   ]
  },
  {
   "cell_type": "code",
   "execution_count": 29,
   "metadata": {},
   "outputs": [
    {
     "name": "stdout",
     "output_type": "stream",
     "text": [
      "Insert your id.\n",
      "k8805\n",
      "Hello!\n"
     ]
    }
   ],
   "source": [
    "in_str = input(\"Insert your id.\\n\")\n",
    "real_kadencho = \"kadencho\"\n",
    "real_k8805 = \"k8805\"\n",
    "if real_kadencho == in_str or real_k8805 == in_str:\n",
    "    print(\"Hello!\")\n",
    "else:\n",
    "    print(\"Who are you?\")"
   ]
  },
  {
   "cell_type": "code",
   "execution_count": null,
   "metadata": {
    "collapsed": true
   },
   "outputs": [],
   "source": []
  }
 ],
 "metadata": {
  "kernelspec": {
   "display_name": "Python 3",
   "language": "python",
   "name": "python3"
  },
  "language_info": {
   "codemirror_mode": {
    "name": "ipython",
    "version": 3
   },
   "file_extension": ".py",
   "mimetype": "text/x-python",
   "name": "python",
   "nbconvert_exporter": "python",
   "pygments_lexer": "ipython3",
   "version": "3.6.2"
  }
 },
 "nbformat": 4,
 "nbformat_minor": 2
}
