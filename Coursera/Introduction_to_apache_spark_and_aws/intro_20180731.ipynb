{
 "cells": [
  {
   "cell_type": "markdown",
   "metadata": {},
   "source": [
    "- Launch a spark on ec2"
   ]
  },
  {
   "cell_type": "markdown",
   "metadata": {},
   "source": [
    "- User\n",
    "- Group \n",
    "  - Access policy"
   ]
  },
  {
   "cell_type": "markdown",
   "metadata": {},
   "source": [
    "```\n",
    "export AWS_ACCESS_KEY_ID=*****\n",
    "export AWS_SECRET_ACCESS_KEY=****\n",
    "```"
   ]
  },
  {
   "cell_type": "markdown",
   "metadata": {},
   "source": [
    "```\n",
    "git clone -b branch-2.0 https://github.com/amplab/spark-ec2.git\n",
    "cd spark-ec2\n",
    "```"
   ]
  },
  {
   "cell_type": "markdown",
   "metadata": {},
   "source": [
    "```\n",
    "./spark-ec2 -k kadensungbincho_west --identity-file=/Users/kadencho/keys/kadensungbincho_west.pem --region=us-west-2 --zone=us-west-2a --copy-aws-credentials --instance-type t2.micro --worker-instances 1 launch kadencho-cluster\n",
    "/Users/kadencho/spark/spark-ec2/lib/boto-2.34.0/boto/plugin.py:40: DeprecationWarning: the imp module is deprecated in favour of importlib; see the module's documentation for alternative uses\n",
    "  import imp\n",
    "Setting up security groups...\n",
    "Creating security group kadencho-cluster-master\n",
    "Creating security group kadencho-cluster-slaves\n",
    "Searching for existing cluster kadencho-cluster in region us-west-2...\n",
    "Spark AMI: ami-ae6e0d9e\n",
    "Launching instances...\n",
    "Launched 1 slave in us-west-2a, regid = r-03ff3ebbf90d68e9a\n",
    "Launched master in us-west-2a, regid = r-01d443662dfc94eba\n",
    "Waiting for AWS to propagate instance metadata...\n",
    "Applying tags to master nodes\n",
    "Applying tags to slave nodes\n",
    "Waiting for cluster to enter 'ssh-ready' state.........../Users/kadencho/spark/spark-ec2/lib/boto-2.34.0/boto/connection.py:1015: ResourceWarning: unclosed <ssl.SSLSocket fd=6, family=AddressFamily.AF_INET, type=SocketKind.SOCK_STREAM, proto=6, laddr=('192.168.0.3', 55025)>\n",
    "  self.is_secure)\n",
    "\n",
    "\n",
    "Warning: SSH connection error. (This could be temporary.)\n",
    "Host: ec2-54-184-39-176.us-west-2.compute.amazonaws.com\n",
    "SSH return code: 255\n",
    "SSH output: b'ssh: connect to host ec2-54-184-39-176.us-west-2.compute.amazonaws.com port 22: Connection refused'\n",
    "\n",
    ".\n",
    "Cluster is now in 'ssh-ready' state. Waited 364 seconds.\n",
    "Generating cluster's SSH key on master...\n",
    "Warning: Permanently added 'ec2-54-184-39-176.us-west-2.compute.amazonaws.com,54.184.39.176' (ECDSA) to the list of known hosts.\n",
    "Connection to ec2-54-184-39-176.us-west-2.compute.amazonaws.com closed.\n",
    "Warning: Permanently added 'ec2-54-184-39-176.us-west-2.compute.amazonaws.com,54.184.39.176' (ECDSA) to the list of known hosts.\n",
    "Transferring cluster's SSH key to slaves...\n",
    "ec2-34-221-154-40.us-west-2.compute.amazonaws.com\n",
    "Warning: Permanently added 'ec2-34-221-154-40.us-west-2.compute.amazonaws.com,34.221.154.40' (ECDSA) to the list of known hosts.\n",
    "Cloning spark-ec2 scripts from https://github.com/amplab/spark-ec2/tree/branch-2.0 on master...\n",
    "Warning: Permanently added 'ec2-54-184-39-176.us-west-2.compute.amazonaws.com,54.184.39.176' (ECDSA) to the list of known hosts.\n",
    "Cloning into 'spark-ec2'...\n",
    "remote: Counting objects: 2170, done.\n",
    "remote: Total 2170 (delta 0), reused 0 (delta 0), pack-reused 2169\n",
    "Receiving objects: 100% (2170/2170), 379.36 KiB | 7.90 MiB/s, done.\n",
    "Resolving deltas: 100% (851/851), done.\n",
    "Connection to ec2-54-184-39-176.us-west-2.compute.amazonaws.com closed.\n",
    "Deploying files to master...\n",
    "No valid Tachyon version found; Tachyon won't be set up\n",
    "Warning: Permanently added 'ec2-54-184-39-176.us-west-2.compute.amazonaws.com,54.184.39.176' (ECDSA) to the list of known hosts.\n",
    "building file list ... done\n",
    "root/spark-ec2/ec2-variables.sh\n",
    "\n",
    "sent 1674 bytes  received 42 bytes  490.29 bytes/sec\n",
    "total size is 1533  speedup is 0.89\n",
    "Running setup on master...\n",
    "Warning: Permanently added 'ec2-54-184-39-176.us-west-2.compute.amazonaws.com,54.184.39.176' (ECDSA) to the list of known hosts.\n",
    "Connection to ec2-54-184-39-176.us-west-2.compute.amazonaws.com closed.\n",
    "Warning: Permanently added 'ec2-54-184-39-176.us-west-2.compute.amazonaws.com,54.184.39.176' (ECDSA) to the list of known hosts.\n",
    "Failed to set locale, defaulting to C\n",
    "Setting up Spark on ip-172-31-35-21.us-west-2.compute.internal...\n",
    "Setting executable permissions on scripts...\n",
    "RSYNC'ing /root/spark-ec2 to other cluster nodes...\n",
    "ec2-34-221-154-40.us-west-2.compute.amazonaws.com\n",
    "Warning: Permanently added 'ec2-34-221-154-40.us-west-2.compute.amazonaws.com,172.31.46.211' (ECDSA) to the list of known hosts.\n",
    "id_rsa                                                      100% 1679     3.4MB/s   00:00    \n",
    "[timing] rsync /root/spark-ec2:  00h 00m 00s\n",
    "Running setup-slave on all cluster nodes to mount filesystems, etc...\n",
    "[1] 15:42:04 [SUCCESS] ec2-54-184-39-176.us-west-2.compute.amazonaws.com\n",
    "checking/fixing resolution of hostname\n",
    "Setting up slave on ip-172-31-35-21.us-west-2.compute.internal... of type t2.micro\n",
    "1024+0 records in\n",
    "1024+0 records out\n",
    "1073741824 bytes (1.1 GB) copied, 14.8234 s, 72.4 MB/s\n",
    "Setting up swapspace version 1, size = 1048572 KiB\n",
    "no label, UUID=7924c7de-335d-4fdb-907c-4d566567a58f\n",
    "swapon: /mnt/swap: insecure permissions 0644, 0600 suggested.\n",
    "Added 1024 MB swap file /mnt/swap\n",
    "Stderr: Warning: Permanently added 'ec2-54-184-39-176.us-west-2.compute.amazonaws.com,172.31.35.21' (ECDSA) to the list of known hosts.\n",
    "Connection to ec2-54-184-39-176.us-west-2.compute.amazonaws.com closed.\n",
    "[2] 15:42:04 [SUCCESS] ec2-34-221-154-40.us-west-2.compute.amazonaws.com\n",
    "checking/fixing resolution of hostname\n",
    "Setting up slave on ip-172-31-46-211.us-west-2.compute.internal... of type t2.micro\n",
    "1024+0 records in\n",
    "1024+0 records out\n",
    "1073741824 bytes (1.1 GB) copied, 13.5531 s, 79.2 MB/s\n",
    "Setting up swapspace version 1, size = 1048572 KiB\n",
    "no label, UUID=3784b938-b04a-4a94-a233-8fcc88ff21bc\n",
    "swapon: /mnt/swap: insecure permissions 0644, 0600 suggested.\n",
    "Added 1024 MB swap file /mnt/swap\n",
    "Stderr: Connection to ec2-34-221-154-40.us-west-2.compute.amazonaws.com closed.\n",
    "[timing] setup-slave:  00h 00m 17s\n",
    "Initializing scala\n",
    "Unpacking Scala\n",
    "--2018-07-31 15:42:04--  http://s3.amazonaws.com/spark-related-packages/scala-2.10.3.tgz\n",
    "Resolving s3.amazonaws.com (s3.amazonaws.com)... 52.216.130.109\n",
    "Connecting to s3.amazonaws.com (s3.amazonaws.com)|52.216.130.109|:80... connected.\n",
    "HTTP request sent, awaiting response... 200 OK\n",
    "Length: 30531249 (29M) [application/x-compressed]\n",
    "Saving to: 'scala-2.10.3.tgz'\n",
    "\n",
    "scala-2.10.3.tgz        100%[=============================>]  29.12M  8.08MB/s    in 4.4s    \n",
    "\n",
    "2018-07-31 15:42:09 (6.64 MB/s) - 'scala-2.10.3.tgz' saved [30531249/30531249]\n",
    "\n",
    "[timing] scala init:  00h 00m 05s\n",
    "Initializing spark\n",
    "--2018-07-31 15:42:09--  http://s3.amazonaws.com/spark-related-packages/spark-2.0.0-bin-hadoop2.4.tgz\n",
    "Resolving s3.amazonaws.com (s3.amazonaws.com)... 54.231.98.155\n",
    "Connecting to s3.amazonaws.com (s3.amazonaws.com)|54.231.98.155|:80... connected.\n",
    "HTTP request sent, awaiting response... 200 OK\n",
    "Length: 180332948 (172M) [application/x-tar]\n",
    "Saving to: 'spark-2.0.0-bin-hadoop2.4.tgz'\n",
    "\n",
    "spark-2.0.0-bin-hadoop2 100%[=============================>] 171.98M  11.4MB/s    in 14s     \n",
    "\n",
    "2018-07-31 15:42:24 (12.1 MB/s) - 'spark-2.0.0-bin-hadoop2.4.tgz' saved [180332948/180332948]\n",
    "\n",
    "Unpacking Spark\n",
    "[timing] spark init:  00h 00m 17s\n",
    "Initializing ephemeral-hdfs\n",
    "--2018-07-31 15:42:26--  http://s3.amazonaws.com/spark-related-packages/hadoop-2.4.0.tar.gz\n",
    "Resolving s3.amazonaws.com (s3.amazonaws.com)... 52.216.64.179\n",
    "Connecting to s3.amazonaws.com (s3.amazonaws.com)|52.216.64.179|:80... connected.\n",
    "HTTP request sent, awaiting response... 200 OK\n",
    "Length: 138943699 (133M) [application/x-gzip]\n",
    "Saving to: 'hadoop-2.4.0.tar.gz'\n",
    "\n",
    "hadoop-2.4.0.tar.gz     100%[=============================>] 132.51M  8.48MB/s    in 13s     \n",
    "\n",
    "2018-07-31 15:42:39 (10.2 MB/s) - 'hadoop-2.4.0.tar.gz' saved [138943699/138943699]\n",
    "\n",
    "Unpacking Hadoop\n",
    "RSYNC'ing /root/ephemeral-hdfs to slaves...\n",
    "ec2-34-221-154-40.us-west-2.compute.amazonaws.com\n",
    "Warning: Permanently added 'ec2-34-221-154-40.us-west-2.compute.amazonaws.com,172.31.46.211' (ECDSA) to the list of known hosts.\n",
    "[timing] ephemeral-hdfs init:  00h 00m 26s\n",
    "Initializing persistent-hdfs\n",
    "--2018-07-31 15:42:52--  http://s3.amazonaws.com/spark-related-packages/hadoop-2.4.0.tar.gz\n",
    "Resolving s3.amazonaws.com (s3.amazonaws.com)... 54.231.50.66\n",
    "Connecting to s3.amazonaws.com (s3.amazonaws.com)|54.231.50.66|:80... connected.\n",
    "HTTP request sent, awaiting response... 200 OK\n",
    "Length: 138943699 (133M) [application/x-gzip]\n",
    "Saving to: 'hadoop-2.4.0.tar.gz'\n",
    "\n",
    "hadoop-2.4.0.tar.gz     100%[=============================>] 132.51M  12.8MB/s    in 10s     \n",
    "\n",
    "2018-07-31 15:43:03 (12.7 MB/s) - 'hadoop-2.4.0.tar.gz' saved [138943699/138943699]\n",
    "\n",
    "Unpacking Hadoop\n",
    "RSYNC'ing /root/persistent-hdfs to slaves...\n",
    "ec2-34-221-154-40.us-west-2.compute.amazonaws.com\n",
    "[timing] persistent-hdfs init:  00h 00m 26s\n",
    "Initializing mapreduce\n",
    "Nothing to initialize for MapReduce in Hadoop 2 YARN\n",
    "File or directory /root/mapreduce doesn't exist!\n",
    "[timing] mapreduce init:  00h 00m 00s\n",
    "Initializing spark-standalone\n",
    "[timing] spark-standalone init:  00h 00m 00s\n",
    "Initializing rstudio\n",
    "--2018-07-31 15:43:18--  http://download2.rstudio.org/rstudio-server-rhel-0.99.446-x86_64.rpm\n",
    "Resolving download2.rstudio.org (download2.rstudio.org)... 13.33.148.22, 13.33.148.56, 13.33.148.125, ...\n",
    "Connecting to download2.rstudio.org (download2.rstudio.org)|13.33.148.22|:80... connected.\n",
    "HTTP request sent, awaiting response... 200 OK\n",
    "Length: 35035164 (33M) [application/x-redhat-package-manager]\n",
    "Saving to: 'rstudio-server-rhel-0.99.446-x86_64.rpm'\n",
    "\n",
    "rstudio-server-rhel-0.9 100%[=============================>]  33.41M  21.2MB/s    in 1.6s    \n",
    "\n",
    "2018-07-31 15:43:20 (21.2 MB/s) - 'rstudio-server-rhel-0.99.446-x86_64.rpm' saved [35035164/35035164]\n",
    "\n",
    "Failed to set locale, defaulting to C\n",
    "Loaded plugins: priorities, update-motd, upgrade-helper\n",
    "Examining rstudio-server-rhel-0.99.446-x86_64.rpm: rstudio-server-0.99.446-1.x86_64\n",
    "Marking rstudio-server-rhel-0.99.446-x86_64.rpm to be installed\n",
    "Resolving Dependencies\n",
    "--> Running transaction check\n",
    "---> Package rstudio-server.x86_64 0:0.99.446-1 will be installed\n",
    "--> Finished Dependency Resolution\n",
    "\n",
    "Dependencies Resolved\n",
    "\n",
    "==============================================================================================\n",
    " Package            Arch       Version         Repository                                Size\n",
    "==============================================================================================\n",
    "Installing:\n",
    " rstudio-server     x86_64     0.99.446-1      /rstudio-server-rhel-0.99.446-x86_64     252 M\n",
    "\n",
    "Transaction Summary\n",
    "==============================================================================================\n",
    "Install  1 Package\n",
    "\n",
    "Total size: 252 M\n",
    "Installed size: 252 M\n",
    "Downloading packages:\n",
    "Running transaction check\n",
    "Running transaction test\n",
    "Transaction test succeeded\n",
    "Running transaction\n",
    "  Installing : rstudio-server-0.99.446-1.x86_64                                           1/1 \n",
    "groupadd: group 'rstudio-server' already exists\n",
    "rsession: no process killed\n",
    "rstudio-server start/running, process 5135\n",
    "  Verifying  : rstudio-server-0.99.446-1.x86_64                                           1/1 \n",
    "\n",
    "Installed:\n",
    "  rstudio-server.x86_64 0:0.99.446-1                                                          \n",
    "\n",
    "Complete!\n",
    "31 Jul 2018 15:43:36 [rserver] ERROR Unexpected exception: locale::facet::_S_create_c_locale name not valid; LOGGED FROM: int main(int, char* const*) /root/rstudio/src/cpp/server/ServerMain.cpp:535\n",
    "/usr/sbin/rstudio-server: line 43: return: can only `return' from a function or sourced script\n",
    "rstudio-server start/running, process 5172\n",
    "[timing] rstudio init:  00h 00m 19s\n",
    "Initializing ganglia\n",
    "Failed to set locale, defaulting to C\n",
    "Failed to set locale, defaulting to C\n",
    "Connection to ec2-34-221-154-40.us-west-2.compute.amazonaws.com closed.\n",
    "[timing] ganglia init:  00h 00m 38s\n",
    "Creating local config files...\n",
    "Connection to ec2-34-221-154-40.us-west-2.compute.amazonaws.com closed.\n",
    "Connection to ec2-34-221-154-40.us-west-2.compute.amazonaws.com closed.\n",
    "Configuring /root/spark/conf/spark-defaults.conf\n",
    "Configuring /root/spark/conf/core-site.xml\n",
    "Configuring /root/spark/conf/spark-env.sh\n",
    "Configuring /root/persistent-hdfs/conf/masters\n",
    "Configuring /root/persistent-hdfs/conf/slaves\n",
    "Configuring /root/persistent-hdfs/conf/mapred-site.xml\n",
    "Configuring /root/persistent-hdfs/conf/hadoop-env.sh\n",
    "Configuring /root/persistent-hdfs/conf/core-site.xml\n",
    "Configuring /root/persistent-hdfs/conf/hdfs-site.xml\n",
    "Configuring /root/mapreduce/hadoop.version\n",
    "Configuring /root/mapreduce/conf/masters\n",
    "Configuring /root/mapreduce/conf/slaves\n",
    "Configuring /root/mapreduce/conf/mapred-site.xml\n",
    "Configuring /root/mapreduce/conf/hadoop-env.sh\n",
    "Configuring /root/mapreduce/conf/core-site.xml\n",
    "Configuring /root/mapreduce/conf/hdfs-site.xml\n",
    "Configuring /root/ephemeral-hdfs/conf/yarn-site.xml\n",
    "Configuring /root/ephemeral-hdfs/conf/capacity-scheduler.xml\n",
    "Configuring /root/ephemeral-hdfs/conf/masters\n",
    "Configuring /root/ephemeral-hdfs/conf/slaves\n",
    "Configuring /root/ephemeral-hdfs/conf/mapred-site.xml\n",
    "Configuring /root/ephemeral-hdfs/conf/hadoop-metrics2.properties\n",
    "Configuring /root/ephemeral-hdfs/conf/hadoop-env.sh\n",
    "Configuring /root/ephemeral-hdfs/conf/core-site.xml\n",
    "Configuring /root/ephemeral-hdfs/conf/hdfs-site.xml\n",
    "Configuring /root/ephemeral-hdfs/conf/yarn-env.sh\n",
    "Configuring /root/tachyon/conf/slaves\n",
    "Configuring /root/tachyon/conf/workers\n",
    "Configuring /root/tachyon/conf/tachyon-env.sh\n",
    "Configuring /etc/httpd/conf/httpd.conf\n",
    "Configuring /etc/httpd/conf.d/ganglia.conf\n",
    "Configuring /etc/ganglia/gmetad.conf\n",
    "Configuring /etc/ganglia/gmond.conf\n",
    "Deploying Spark config files...\n",
    "RSYNC'ing /root/spark/conf to slaves...\n",
    "ec2-34-221-154-40.us-west-2.compute.amazonaws.com\n",
    "Setting up scala\n",
    "RSYNC'ing /root/scala to slaves...\n",
    "ec2-34-221-154-40.us-west-2.compute.amazonaws.com\n",
    "[timing] scala setup:  00h 00m 06s\n",
    "Setting up spark\n",
    "RSYNC'ing /root/spark to slaves...\n",
    "ec2-34-221-154-40.us-west-2.compute.amazonaws.com\n",
    "[timing] spark setup:  00h 00m 30s\n",
    "Setting up ephemeral-hdfs\n",
    "ec2-34-221-154-40.us-west-2.compute.amazonaws.com\n",
    "Connection to ec2-34-221-154-40.us-west-2.compute.amazonaws.com closed.\n",
    "RSYNC'ing /root/ephemeral-hdfs/conf to slaves...\n",
    "ec2-34-221-154-40.us-west-2.compute.amazonaws.com\n",
    "Formatting ephemeral HDFS namenode...\n",
    "DEPRECATED: Use of this script to execute hdfs command is deprecated.\n",
    "Instead use the hdfs command for it.\n",
    "\n",
    "2018-07-31 15:45:00,944 INFO  [main] namenode.NameNode (StringUtils.java:startupShutdownMessage(614)) - STARTUP_MSG: \n",
    "/************************************************************\n",
    "STARTUP_MSG: Starting NameNode\n",
    "STARTUP_MSG:   host = ip-172-31-35-21.us-west-2.compute.internal/172.31.35.21\n",
    "STARTUP_MSG:   args = [-format]\n",
    "STARTUP_MSG:   version = 2.4.0\n",
    "STARTUP_MSG:   classpath = /root/ephemeral-hdfs/conf:/root/ephemeral-hdfs/share/hadoop/common/lib/asm-3.2.jar:/root/ephemeral-hdfs/share/hadoop/common/lib/jetty-util-6.1.26.jar:/root/ephemeral-hdfs/share/hadoop/common/lib/commons-el-1.0.jar:/root/ephemeral-hdfs/share/hadoop/common/lib/commons-beanutils-core-1.8.0.jar:/root/ephemeral-hdfs/share/hadoop/common/lib/commons-httpclient-3.1.jar:/root/ephemeral-hdfs/share/hadoop/common/lib/commons-collections-3.2.1.jar:/root/ephemeral-hdfs/share/hadoop/common/lib/netty-3.6.2.Final.jar:/root/ephemeral-hdfs/share/hadoop/common/lib/jersey-json-1.9.jar:/root/ephemeral-hdfs/share/hadoop/common/lib/commons-cli-1.2.jar:/root/ephemeral-hdfs/share/hadoop/common/lib/commons-compress-1.4.1.jar:/root/ephemeral-hdfs/share/hadoop/common/lib/jets3t-0.9.0.jar:/root/ephemeral-hdfs/share/hadoop/common/lib/snappy-java-1.0.4.1.jar:/root/ephemeral-hdfs/share/hadoop/common/lib/slf4j-log4j12-1.7.5.jar:/root/ephemeral-hdfs/share/hadoop/common/lib/httpclient-4.2.5.jar:/root/ephemeral-hdfs/share/hadoop/common/lib/jackson-mapper-asl-1.8.8.jar:/root/ephemeral-hdfs/share/hadoop/common/lib/jsp-api-2.1.jar:/root/ephemeral-hdfs/share/hadoop/common/lib/hadoop-auth-2.4.0.jar:/root/ephemeral-hdfs/share/hadoop/common/lib/jasper-compiler-5.5.23.jar:/root/ephemeral-hdfs/share/hadoop/common/lib/slf4j-api-1.7.5.jar:/root/ephemeral-hdfs/share/hadoop/common/lib/jackson-core-asl-1.8.8.jar:/root/ephemeral-hdfs/share/hadoop/common/lib/mockito-all-1.8.5.jar:/root/ephemeral-hdfs/share/hadoop/common/lib/stax-api-1.0-2.jar:/root/ephemeral-hdfs/share/hadoop/common/lib/jackson-jaxrs-1.8.8.jar:/root/ephemeral-hdfs/share/hadoop/common/lib/jaxb-impl-2.2.3-1.jar:/root/ephemeral-hdfs/share/hadoop/common/lib/log4j-1.2.17.jar:/root/ephemeral-hdfs/share/hadoop/common/lib/xmlenc-0.52.jar:/root/ephemeral-hdfs/share/hadoop/common/lib/jasper-runtime-5.5.23.jar:/root/ephemeral-hdfs/share/hadoop/common/lib/guava-11.0.2.jar:/root/ephemeral-hdfs/share/hadoop/common/lib/jettison-1.1.jar:/root/ephemeral-hdfs/share/hadoop/common/lib/activation-1.1.jar:/root/ephemeral-hdfs/share/hadoop/common/lib/commons-codec-1.4.jar:/root/ephemeral-hdfs/share/hadoop/common/lib/paranamer-2.3.jar:/root/ephemeral-hdfs/share/hadoop/common/lib/jaxb-api-2.2.2.jar:/root/ephemeral-hdfs/share/hadoop/common/lib/commons-digester-1.8.jar:/root/ephemeral-hdfs/share/hadoop/common/lib/commons-math3-3.1.1.jar:/root/ephemeral-hdfs/share/hadoop/common/lib/commons-configuration-1.6.jar:/root/ephemeral-hdfs/share/hadoop/common/lib/jsch-0.1.42.jar:/root/ephemeral-hdfs/share/hadoop/common/lib/xz-1.0.jar:/root/ephemeral-hdfs/share/hadoop/common/lib/commons-net-3.1.jar:/root/ephemeral-hdfs/share/hadoop/common/lib/httpcore-4.2.5.jar:/root/ephemeral-hdfs/share/hadoop/common/lib/hadoop-annotations-2.4.0.jar:/root/ephemeral-hdfs/share/hadoop/common/lib/jersey-server-1.9.jar:/root/ephemeral-hdfs/share/hadoop/common/lib/jersey-core-1.9.jar:/root/ephemeral-hdfs/share/hadoop/common/lib/java-xmlbuilder-0.4.jar:/root/ephemeral-hdfs/share/hadoop/common/lib/jackson-xc-1.8.8.jar:/root/ephemeral-hdfs/share/hadoop/common/lib/protobuf-java-2.5.0.jar:/root/ephemeral-hdfs/share/hadoop/common/lib/jetty-6.1.26.jar:/root/ephemeral-hdfs/share/hadoop/common/lib/zookeeper-3.4.5.jar:/root/ephemeral-hdfs/share/hadoop/common/lib/commons-lang-2.6.jar:/root/ephemeral-hdfs/share/hadoop/common/lib/commons-logging-1.1.3.jar:/root/ephemeral-hdfs/share/hadoop/common/lib/commons-io-2.4.jar:/root/ephemeral-hdfs/share/hadoop/common/lib/commons-beanutils-1.7.0.jar:/root/ephemeral-hdfs/share/hadoop/common/lib/servlet-api-2.5.jar:/root/ephemeral-hdfs/share/hadoop/common/lib/jsr305-1.3.9.jar:/root/ephemeral-hdfs/share/hadoop/common/lib/avro-1.7.4.jar:/root/ephemeral-hdfs/share/hadoop/common/lib/junit-4.8.2.jar:/root/ephemeral-hdfs/share/hadoop/common/hadoop-common-2.4.0.jar:/root/ephemeral-hdfs/share/hadoop/common/hadoop-nfs-2.4.0.jar:/root/ephemeral-hdfs/share/hadoop/common/hadoop-common-2.4.0-tests.jar:/root/ephemeral-hdfs/share/hadoop/hdfs:/root/ephemeral-hdfs/share/hadoop/hdfs/lib/asm-3.2.jar:/root/ephemeral-hdfs/share/hadoop/hdfs/lib/jetty-util-6.1.26.jar:/root/ephemeral-hdfs/share/hadoop/hdfs/lib/commons-el-1.0.jar:/root/ephemeral-hdfs/share/hadoop/hdfs/lib/commons-daemon-1.0.13.jar:/root/ephemeral-hdfs/share/hadoop/hdfs/lib/netty-3.6.2.Final.jar:/root/ephemeral-hdfs/share/hadoop/hdfs/lib/commons-cli-1.2.jar:/root/ephemeral-hdfs/share/hadoop/hdfs/lib/jackson-mapper-asl-1.8.8.jar:/root/ephemeral-hdfs/share/hadoop/hdfs/lib/jsp-api-2.1.jar:/root/ephemeral-hdfs/share/hadoop/hdfs/lib/jackson-core-asl-1.8.8.jar:/root/ephemeral-hdfs/share/hadoop/hdfs/lib/log4j-1.2.17.jar:/root/ephemeral-hdfs/share/hadoop/hdfs/lib/xmlenc-0.52.jar:/root/ephemeral-hdfs/share/hadoop/hdfs/lib/jasper-runtime-5.5.23.jar:/root/ephemeral-hdfs/share/hadoop/hdfs/lib/guava-11.0.2.jar:/root/ephemeral-hdfs/share/hadoop/hdfs/lib/commons-codec-1.4.jar:/root/ephemeral-hdfs/share/hadoop/hdfs/lib/jersey-server-1.9.jar:/root/ephemeral-hdfs/share/hadoop/hdfs/lib/jersey-core-1.9.jar:/root/ephemeral-hdfs/share/hadoop/hdfs/lib/protobuf-java-2.5.0.jar:/root/ephemeral-hdfs/share/hadoop/hdfs/lib/jetty-6.1.26.jar:/root/ephemeral-hdfs/share/hadoop/hdfs/lib/commons-lang-2.6.jar:/root/ephemeral-hdfs/share/hadoop/hdfs/lib/commons-logging-1.1.3.jar:/root/ephemeral-hdfs/share/hadoop/hdfs/lib/commons-io-2.4.jar:/root/ephemeral-hdfs/share/hadoop/hdfs/lib/servlet-api-2.5.jar:/root/ephemeral-hdfs/share/hadoop/hdfs/lib/jsr305-1.3.9.jar:/root/ephemeral-hdfs/share/hadoop/hdfs/hadoop-hdfs-nfs-2.4.0.jar:/root/ephemeral-hdfs/share/hadoop/hdfs/hadoop-hdfs-2.4.0-tests.jar:/root/ephemeral-hdfs/share/hadoop/hdfs/hadoop-hdfs-2.4.0.jar:/root/ephemeral-hdfs/share/hadoop/yarn/lib/asm-3.2.jar:/root/ephemeral-hdfs/share/hadoop/yarn/lib/jetty-util-6.1.26.jar:/root/ephemeral-hdfs/share/hadoop/yarn/lib/aopalliance-1.0.jar:/root/ephemeral-hdfs/share/hadoop/yarn/lib/commons-httpclient-3.1.jar:/root/ephemeral-hdfs/share/hadoop/yarn/lib/commons-collections-3.2.1.jar:/root/ephemeral-hdfs/share/hadoop/yarn/lib/jersey-json-1.9.jar:/root/ephemeral-hdfs/share/hadoop/yarn/lib/commons-cli-1.2.jar:/root/ephemeral-hdfs/share/hadoop/yarn/lib/commons-compress-1.4.1.jar:/root/ephemeral-hdfs/share/hadoop/yarn/lib/leveldbjni-all-1.8.jar:/root/ephemeral-hdfs/share/hadoop/yarn/lib/javax.inject-1.jar:/root/ephemeral-hdfs/share/hadoop/yarn/lib/jackson-mapper-asl-1.8.8.jar:/root/ephemeral-hdfs/share/hadoop/yarn/lib/jersey-guice-1.9.jar:/root/ephemeral-hdfs/share/hadoop/yarn/lib/jline-0.9.94.jar:/root/ephemeral-hdfs/share/hadoop/yarn/lib/jackson-core-asl-1.8.8.jar:/root/ephemeral-hdfs/share/hadoop/yarn/lib/stax-api-1.0-2.jar:/root/ephemeral-hdfs/share/hadoop/yarn/lib/jackson-jaxrs-1.8.8.jar:/root/ephemeral-hdfs/share/hadoop/yarn/lib/jaxb-impl-2.2.3-1.jar:/root/ephemeral-hdfs/share/hadoop/yarn/lib/log4j-1.2.17.jar:/root/ephemeral-hdfs/share/hadoop/yarn/lib/guava-11.0.2.jar:/root/ephemeral-hdfs/share/hadoop/yarn/lib/jettison-1.1.jar:/root/ephemeral-hdfs/share/hadoop/yarn/lib/activation-1.1.jar:/root/ephemeral-hdfs/share/hadoop/yarn/lib/commons-codec-1.4.jar:/root/ephemeral-hdfs/share/hadoop/yarn/lib/jaxb-api-2.2.2.jar:/root/ephemeral-hdfs/share/hadoop/yarn/lib/guice-servlet-3.0.jar:/root/ephemeral-hdfs/share/hadoop/yarn/lib/guice-3.0.jar:/root/ephemeral-hdfs/share/hadoop/yarn/lib/xz-1.0.jar:/root/ephemeral-hdfs/share/hadoop/yarn/lib/jersey-client-1.9.jar:/root/ephemeral-hdfs/share/hadoop/yarn/lib/jersey-server-1.9.jar:/root/ephemeral-hdfs/share/hadoop/yarn/lib/jersey-core-1.9.jar:/root/ephemeral-hdfs/share/hadoop/yarn/lib/jackson-xc-1.8.8.jar:/root/ephemeral-hdfs/share/hadoop/yarn/lib/protobuf-java-2.5.0.jar:/root/ephemeral-hdfs/share/hadoop/yarn/lib/jetty-6.1.26.jar:/root/ephemeral-hdfs/share/hadoop/yarn/lib/zookeeper-3.4.5.jar:/root/ephemeral-hdfs/share/hadoop/yarn/lib/commons-lang-2.6.jar:/root/ephemeral-hdfs/share/hadoop/yarn/lib/commons-logging-1.1.3.jar:/root/ephemeral-hdfs/share/hadoop/yarn/lib/commons-io-2.4.jar:/root/ephemeral-hdfs/share/hadoop/yarn/lib/servlet-api-2.5.jar:/root/ephemeral-hdfs/share/hadoop/yarn/lib/jsr305-1.3.9.jar:/root/ephemeral-hdfs/share/hadoop/yarn/hadoop-yarn-server-nodemanager-2.4.0.jar:/root/ephemeral-hdfs/share/hadoop/yarn/hadoop-yarn-applications-distributedshell-2.4.0.jar:/root/ephemeral-hdfs/share/hadoop/yarn/hadoop-yarn-common-2.4.0.jar:/root/ephemeral-hdfs/share/hadoop/yarn/hadoop-yarn-server-common-2.4.0.jar:/root/ephemeral-hdfs/share/hadoop/yarn/hadoop-yarn-server-web-proxy-2.4.0.jar:/root/ephemeral-hdfs/share/hadoop/yarn/hadoop-yarn-server-tests-2.4.0.jar:/root/ephemeral-hdfs/share/hadoop/yarn/hadoop-yarn-api-2.4.0.jar:/root/ephemeral-hdfs/share/hadoop/yarn/hadoop-yarn-applications-unmanaged-am-launcher-2.4.0.jar:/root/ephemeral-hdfs/share/hadoop/yarn/hadoop-yarn-server-applicationhistoryservice-2.4.0.jar:/root/ephemeral-hdfs/share/hadoop/yarn/hadoop-yarn-client-2.4.0.jar:/root/ephemeral-hdfs/share/hadoop/yarn/hadoop-yarn-server-resourcemanager-2.4.0.jar:/root/ephemeral-hdfs/share/hadoop/mapreduce/lib/asm-3.2.jar:/root/ephemeral-hdfs/share/hadoop/mapreduce/lib/aopalliance-1.0.jar:/root/ephemeral-hdfs/share/hadoop/mapreduce/lib/netty-3.6.2.Final.jar:/root/ephemeral-hdfs/share/hadoop/mapreduce/lib/commons-compress-1.4.1.jar:/root/ephemeral-hdfs/share/hadoop/mapreduce/lib/snappy-java-1.0.4.1.jar:/root/ephemeral-hdfs/share/hadoop/mapreduce/lib/hamcrest-core-1.1.jar:/root/ephemeral-hdfs/share/hadoop/mapreduce/lib/javax.inject-1.jar:/root/ephemeral-hdfs/share/hadoop/mapreduce/lib/jackson-mapper-asl-1.8.8.jar:/root/ephemeral-hdfs/share/hadoop/mapreduce/lib/junit-4.10.jar:/root/ephemeral-hdfs/share/hadoop/mapreduce/lib/jersey-guice-1.9.jar:/root/ephemeral-hdfs/share/hadoop/mapreduce/lib/jackson-core-asl-1.8.8.jar:/root/ephemeral-hdfs/share/hadoop/mapreduce/lib/log4j-1.2.17.jar:/root/ephemeral-hdfs/share/hadoop/mapreduce/lib/paranamer-2.3.jar:/root/ephemeral-hdfs/share/hadoop/mapreduce/lib/guice-servlet-3.0.jar:/root/ephemeral-hdfs/share/hadoop/mapreduce/lib/guice-3.0.jar:/root/ephemeral-hdfs/share/hadoop/mapreduce/lib/xz-1.0.jar:/root/ephemeral-hdfs/share/hadoop/mapreduce/lib/hadoop-annotations-2.4.0.jar:/root/ephemeral-hdfs/share/hadoop/mapreduce/lib/jersey-server-1.9.jar:/root/ephemeral-hdfs/share/hadoop/mapreduce/lib/jersey-core-1.9.jar:/root/ephemeral-hdfs/share/hadoop/mapreduce/lib/protobuf-java-2.5.0.jar:/root/ephemeral-hdfs/share/hadoop/mapreduce/lib/commons-io-2.4.jar:/root/ephemeral-hdfs/share/hadoop/mapreduce/lib/avro-1.7.4.jar:/root/ephemeral-hdfs/share/hadoop/mapreduce/hadoop-mapreduce-examples-2.4.0.jar:/root/ephemeral-hdfs/share/hadoop/mapreduce/hadoop-mapreduce-client-shuffle-2.4.0.jar:/root/ephemeral-hdfs/share/hadoop/mapreduce/hadoop-mapreduce-client-hs-2.4.0.jar:/root/ephemeral-hdfs/share/hadoop/mapreduce/hadoop-mapreduce-client-common-2.4.0.jar:/root/ephemeral-hdfs/share/hadoop/mapreduce/hadoop-mapreduce-client-jobclient-2.4.0-tests.jar:/root/ephemeral-hdfs/share/hadoop/mapreduce/hadoop-mapreduce-client-jobclient-2.4.0.jar:/root/ephemeral-hdfs/share/hadoop/mapreduce/hadoop-mapreduce-client-app-2.4.0.jar:/root/ephemeral-hdfs/share/hadoop/mapreduce/hadoop-mapreduce-client-hs-plugins-2.4.0.jar:/root/ephemeral-hdfs/share/hadoop/mapreduce/hadoop-mapreduce-client-core-2.4.0.jar\n",
    "STARTUP_MSG:   build = http://svn.apache.org/repos/asf/hadoop/common -r 1583262; compiled by 'jenkins' on 2014-03-31T08:29Z\n",
    "STARTUP_MSG:   java = 1.7.0_181\n",
    "************************************************************/\n",
    "2018-07-31 15:45:00,956 INFO  [main] namenode.NameNode (SignalLogger.java:register(91)) - registered UNIX signal handlers for [TERM, HUP, INT]\n",
    "2018-07-31 15:45:00,963 INFO  [main] namenode.NameNode (NameNode.java:createNameNode(1244)) - createNameNode [-format]\n",
    "Formatting using clusterid: CID-93a91058-851d-4110-9901-a2fa154c2fd3\n",
    "2018-07-31 15:45:02,794 INFO  [main] namenode.FSNamesystem (FSNamesystem.java:<init>(677)) - fsLock is fair:true\n",
    "2018-07-31 15:45:02,883 INFO  [main] namenode.HostFileManager (HostFileManager.java:refresh(304)) - read includes:\n",
    "HostSet(\n",
    ")\n",
    "2018-07-31 15:45:02,883 INFO  [main] namenode.HostFileManager (HostFileManager.java:refresh(311)) - read excludes:\n",
    "HostSet(\n",
    ")\n",
    "2018-07-31 15:45:02,887 INFO  [main] blockmanagement.DatanodeManager (DatanodeManager.java:<init>(234)) - dfs.block.invalidate.limit=1000\n",
    "2018-07-31 15:45:02,887 INFO  [main] blockmanagement.DatanodeManager (DatanodeManager.java:<init>(240)) - dfs.namenode.datanode.registration.ip-hostname-check=true\n",
    "2018-07-31 15:45:02,890 INFO  [main] util.GSet (LightWeightGSet.java:computeCapacity(354)) - Computing capacity for map BlocksMap\n",
    "2018-07-31 15:45:02,890 INFO  [main] util.GSet (LightWeightGSet.java:computeCapacity(355)) - VM type       = 64-bit\n",
    "2018-07-31 15:45:02,899 INFO  [main] util.GSet (LightWeightGSet.java:computeCapacity(356)) - 2.0% max memory 966.7 MB = 19.3 MB\n",
    "2018-07-31 15:45:02,899 INFO  [main] util.GSet (LightWeightGSet.java:computeCapacity(361)) - capacity      = 2^21 = 2097152 entries\n",
    "2018-07-31 15:45:02,956 INFO  [main] blockmanagement.BlockManager (BlockManager.java:createBlockTokenSecretManager(348)) - dfs.block.access.token.enable=false\n",
    "2018-07-31 15:45:02,956 INFO  [main] blockmanagement.BlockManager (BlockManager.java:<init>(333)) - defaultReplication         = 3\n",
    "2018-07-31 15:45:02,957 INFO  [main] blockmanagement.BlockManager (BlockManager.java:<init>(334)) - maxReplication             = 512\n",
    "2018-07-31 15:45:02,957 INFO  [main] blockmanagement.BlockManager (BlockManager.java:<init>(335)) - minReplication             = 1\n",
    "2018-07-31 15:45:02,959 INFO  [main] blockmanagement.BlockManager (BlockManager.java:<init>(336)) - maxReplicationStreams      = 2\n",
    "2018-07-31 15:45:02,959 INFO  [main] blockmanagement.BlockManager (BlockManager.java:<init>(337)) - shouldCheckForEnoughRacks  = false\n",
    "2018-07-31 15:45:02,960 INFO  [main] blockmanagement.BlockManager (BlockManager.java:<init>(338)) - replicationRecheckInterval = 3000\n",
    "2018-07-31 15:45:02,960 INFO  [main] blockmanagement.BlockManager (BlockManager.java:<init>(339)) - encryptDataTransfer        = false\n",
    "2018-07-31 15:45:02,960 INFO  [main] blockmanagement.BlockManager (BlockManager.java:<init>(340)) - maxNumBlocksToLog          = 1000\n",
    "2018-07-31 15:45:03,150 INFO  [main] namenode.FSNamesystem (FSNamesystem.java:<init>(694)) - fsOwner             = root (auth:SIMPLE)\n",
    "2018-07-31 15:45:03,150 INFO  [main] namenode.FSNamesystem (FSNamesystem.java:<init>(695)) - supergroup          = supergroup\n",
    "2018-07-31 15:45:03,151 INFO  [main] namenode.FSNamesystem (FSNamesystem.java:<init>(696)) - isPermissionEnabled = false\n",
    "2018-07-31 15:45:03,151 INFO  [main] namenode.FSNamesystem (FSNamesystem.java:<init>(707)) - HA Enabled: false\n",
    "2018-07-31 15:45:03,154 INFO  [main] namenode.FSNamesystem (FSNamesystem.java:<init>(744)) - Append Enabled: true\n",
    "2018-07-31 15:45:03,330 INFO  [main] util.GSet (LightWeightGSet.java:computeCapacity(354)) - Computing capacity for map INodeMap\n",
    "2018-07-31 15:45:03,330 INFO  [main] util.GSet (LightWeightGSet.java:computeCapacity(355)) - VM type       = 64-bit\n",
    "2018-07-31 15:45:03,330 INFO  [main] util.GSet (LightWeightGSet.java:computeCapacity(356)) - 1.0% max memory 966.7 MB = 9.7 MB\n",
    "2018-07-31 15:45:03,331 INFO  [main] util.GSet (LightWeightGSet.java:computeCapacity(361)) - capacity      = 2^20 = 1048576 entries\n",
    "2018-07-31 15:45:03,333 INFO  [main] namenode.NameNode (FSDirectory.java:<init>(203)) - Caching file names occuring more than 10 times\n",
    "2018-07-31 15:45:03,343 INFO  [main] util.GSet (LightWeightGSet.java:computeCapacity(354)) - Computing capacity for map cachedBlocks\n",
    "2018-07-31 15:45:03,343 INFO  [main] util.GSet (LightWeightGSet.java:computeCapacity(355)) - VM type       = 64-bit\n",
    "2018-07-31 15:45:03,344 INFO  [main] util.GSet (LightWeightGSet.java:computeCapacity(356)) - 0.25% max memory 966.7 MB = 2.4 MB\n",
    "2018-07-31 15:45:03,344 INFO  [main] util.GSet (LightWeightGSet.java:computeCapacity(361)) - capacity      = 2^18 = 262144 entries\n",
    "2018-07-31 15:45:03,345 INFO  [main] namenode.FSNamesystem (FSNamesystem.java:<init>(4694)) - dfs.namenode.safemode.threshold-pct = 0.9990000128746033\n",
    "2018-07-31 15:45:03,345 INFO  [main] namenode.FSNamesystem (FSNamesystem.java:<init>(4695)) - dfs.namenode.safemode.min.datanodes = 0\n",
    "2018-07-31 15:45:03,345 INFO  [main] namenode.FSNamesystem (FSNamesystem.java:<init>(4696)) - dfs.namenode.safemode.extension     = 30000\n",
    "2018-07-31 15:45:03,346 INFO  [main] namenode.FSNamesystem (FSNamesystem.java:initRetryCache(816)) - Retry cache on namenode is enabled\n",
    "2018-07-31 15:45:03,346 INFO  [main] namenode.FSNamesystem (FSNamesystem.java:initRetryCache(824)) - Retry cache will use 0.03 of total heap and retry cache entry expiry time is 600000 millis\n",
    "2018-07-31 15:45:03,352 INFO  [main] util.GSet (LightWeightGSet.java:computeCapacity(354)) - Computing capacity for map NameNodeRetryCache\n",
    "2018-07-31 15:45:03,352 INFO  [main] util.GSet (LightWeightGSet.java:computeCapacity(355)) - VM type       = 64-bit\n",
    "2018-07-31 15:45:03,352 INFO  [main] util.GSet (LightWeightGSet.java:computeCapacity(356)) - 0.029999999329447746% max memory 966.7 MB = 297.0 KB\n",
    "2018-07-31 15:45:03,352 INFO  [main] util.GSet (LightWeightGSet.java:computeCapacity(361)) - capacity      = 2^15 = 32768 entries\n",
    "2018-07-31 15:45:03,358 INFO  [main] namenode.AclConfigFlag (AclConfigFlag.java:<init>(40)) - ACLs enabled? false\n",
    "2018-07-31 15:45:03,497 INFO  [main] namenode.FSImage (FSImage.java:format(145)) - Allocated new BlockPoolId: BP-957942223-172.31.35.21-1533051903381\n",
    "2018-07-31 15:45:03,521 INFO  [main] common.Storage (NNStorage.java:format(550)) - Storage directory /mnt/ephemeral-hdfs/dfs/name has been successfully formatted.\n",
    "2018-07-31 15:45:03,675 INFO  [main] namenode.NNStorageRetentionManager (NNStorageRetentionManager.java:getImageTxIdToRetain(201)) - Going to retain 1 images with txid >= 0\n",
    "2018-07-31 15:45:03,677 INFO  [main] util.ExitUtil (ExitUtil.java:terminate(124)) - Exiting with status 0\n",
    "2018-07-31 15:45:03,678 INFO  [Thread-2] namenode.NameNode (StringUtils.java:run(640)) - SHUTDOWN_MSG: \n",
    "/************************************************************\n",
    "SHUTDOWN_MSG: Shutting down NameNode at ip-172-31-35-21.us-west-2.compute.internal/172.31.35.21\n",
    "************************************************************/\n",
    "Starting ephemeral HDFS...\n",
    "Starting namenodes on [ec2-54-184-39-176.us-west-2.compute.amazonaws.com]\n",
    "ec2-54-184-39-176.us-west-2.compute.amazonaws.com: Warning: Permanently added 'ec2-54-184-39-176.us-west-2.compute.amazonaws.com,172.31.35.21' (ECDSA) to the list of known hosts.\n",
    "ec2-54-184-39-176.us-west-2.compute.amazonaws.com: starting namenode, logging to /mnt/ephemeral-hdfs/logs/hadoop-root-namenode-ip-172-31-35-21.us-west-2.compute.internal.out\n",
    "ec2-54-184-39-176.us-west-2.compute.amazonaws.com: 2018-07-31 15:45:06,647 INFO  [main] namenode.NameNode (StringUtils.java:startupShutdownMessage(614)) - STARTUP_MSG: \n",
    "ec2-54-184-39-176.us-west-2.compute.amazonaws.com: /************************************************************\n",
    "ec2-54-184-39-176.us-west-2.compute.amazonaws.com: STARTUP_MSG: Starting NameNode\n",
    "ec2-54-184-39-176.us-west-2.compute.amazonaws.com: STARTUP_MSG:   host = ip-172-31-35-21.us-west-2.compute.internal/172.31.35.21\n",
    "ec2-54-184-39-176.us-west-2.compute.amazonaws.com: STARTUP_MSG:   args = []\n",
    "ec2-54-184-39-176.us-west-2.compute.amazonaws.com: STARTUP_MSG:   version = 2.4.0\n",
    "ec2-54-184-39-176.us-west-2.compute.amazonaws.com: STARTUP_MSG:   classpath = /root/ephemeral-hdfs/conf:/root/ephemeral-hdfs/share/hadoop/common/lib/asm-3.2.jar:/root/ephemeral-hdfs/share/hadoop/common/lib/jetty-util-6.1.26.jar:/root/ephemeral-hdfs/share/hadoop/common/lib/commons-el-1.0.jar:/root/ephemeral-hdfs/share/hadoop/common/lib/commons-beanutils-core-1.8.0.jar:/root/ephemeral-hdfs/share/hadoop/common/lib/commons-httpclient-3.1.jar:/root/ephemeral-hdfs/share/hadoop/common/lib/commons-collections-3.2.1.jar:/root/ephemeral-hdfs/share/hadoop/common/lib/netty-3.6.2.Final.jar:/root/ephemeral-hdfs/share/hadoop/common/lib/jersey-json-1.9.jar:/root/ephemeral-hdfs/share/hadoop/common/lib/commons-cli-1.2.jar:/root/ephemeral-hdfs/share/hadoop/common/lib/commons-compress-1.4.1.jar:/root/ephemeral-hdfs/share/hadoop/common/lib/jets3t-0.9.0.jar:/root/ephemeral-hdfs/share/hadoop/common/lib/snappy-java-1.0.4.1.jar:/root/ephemeral-hdfs/share/hadoop/common/lib/slf4j-log4j12-1.7.5.jar:/root/ephemeral-hdfs/share/hadoop/common/lib/httpclient-4.2.5.jar:/root/ephemeral-hdfs/share/hadoop/common/lib/jackson-mapper-asl-1.8.8.jar:/root/ephemeral-hdfs/share/hadoop/common/lib/jsp-api-2.1.jar:/root/ephemeral-hdfs/share/hadoop/common/lib/hadoop-auth-2.4.0.jar:/root/ephemeral-hdfs/share/hadoop/common/lib/jasper-compiler-5.5.23.jar:/root/ephemeral-hdfs/share/hadoop/common/lib/slf4j-api-1.7.5.jar:/root/ephemeral-hdfs/share/hadoop/common/lib/jackson-core-asl-1.8.8.jar:/root/ephemeral-hdfs/share/hadoop/common/lib/mockito-all-1.8.5.jar:/root/ephemeral-hdfs/share/hadoop/common/lib/stax-api-1.0-2.jar:/root/ephemeral-hdfs/share/hadoop/common/lib/jackson-jaxrs-1.8.8.jar:/root/ephemeral-hdfs/share/hadoop/common/lib/jaxb-impl-2.2.3-1.jar:/root/ephemeral-hdfs/share/hadoop/common/lib/log4j-1.2.17.jar:/root/ephemeral-hdfs/share/hadoop/common/lib/xmlenc-0.52.jar:/root/ephemeral-hdfs/share/hadoop/common/lib/jasper-runtime-5.5.23.jar:/root/ephemeral-hdfs/share/hadoop/common/lib/guava-11.0.2.jar:/root/ephemeral-hdfs/share/hadoop/common/lib/jettison-1.1.jar:/root/ephemeral-hdfs/share/hadoop/common/lib/activation-1.1.jar:/root/ephemeral-hdfs/share/hadoop/common/lib/commons-codec-1.4.jar:/root/ephemeral-hdfs/share/hadoop/common/lib/paranamer-2.3.jar:/root/ephemeral-hdfs/share/hadoop/common/lib/jaxb-api-2.2.2.jar:/root/ephemeral-hdfs/share/hadoop/common/lib/commons-digester-1.8.jar:/root/ephemeral-hdfs/share/hadoop/common/lib/commons-math3-3.1.1.jar:/root/ephemeral-hdfs/share/hadoop/common/lib/commons-configuration-1.6.jar:/root/ephemeral-hdfs/share/hadoop/common/lib/jsch-0.1.42.jar:/root/ephemeral-hdfs/share/hadoop/common/lib/xz-1.0.jar:/root/ephemeral-hdfs/share/hadoop/common/lib/commons-net-3.1.jar:/root/ephemeral-hdfs/share/hadoop/common/lib/httpcore-4.2.5.jar:/root/ephemeral-hdfs/share/hadoop/common/lib/hadoop-annotations-2.4.0.jar:/root/ephemeral-hdfs/share/hadoop/common/lib/jersey-server-1.9.jar:/root/ephemeral-hdfs/share/hadoop/common/lib/jersey-core-1.9.jar:/root/ephemeral-hdfs/share/hadoop/common/lib/java-xmlbuilder-0.4.jar:/root/ephemeral-hdfs/share/hadoop/common/lib/jackson-xc-1.8.8.jar:/root/ephemeral-hdfs/share/hadoop/common/lib/protobuf-java-2.5.0.jar:/root/ephemeral-hdfs/share/hadoop/common/lib/jetty-6.1.26.jar:/root/ephemeral-hdfs/share/hadoop/common/lib/zookeeper-3.4.5.jar:/root/ephemeral-hdfs/share/hadoop/common/lib/commons-lang-2.6.jar:/root/ephemeral-hdfs/share/hadoop/common/lib/commons-logging-1.1.3.jar:/root/ephemeral-hdfs/share/hadoop/common/lib/commons-io-2.4.jar:/root/ephemeral-hdfs/share/hadoop/common/lib/commons-beanutils-1.7.0.jar:/root/ephemeral-hdfs/share/hadoop/common/lib/servlet-api-2.5.jar:/root/ephemeral-hdfs/share/hadoop/common/lib/jsr305-1.3.9.jar:/root/ephemeral-hdfs/share/hadoop/common/lib/avro-1.7.4.jar:/root/ephemeral-hdfs/share/hadoop/common/lib/junit-4.8.2.jar:/root/ephemeral-hdfs/share/hadoop/common/hadoop-common-2.4.0.jar:/root/ephemeral-hdfs/share/hadoop/common/hadoop-nfs-2.4.0.jar:/root/ephemeral-hdfs/share/hadoop/common/hadoop-common-2.4.0-tests.jar:/root/ephemeral-hdfs/share/hadoop/hdfs:/root/ephemeral-hdfs/share/hadoop/hdfs/lib/asm-3.2.jar:/root/ephemeral-hdfs/share/hadoop/hdfs/lib/jetty-util-6.1.26.jar:/root/ephemeral-hdfs/share/hadoop/hdfs/lib/commons-el-1.0.jar:/root/ephemeral-hdfs/share/hadoop/hdfs/lib/commons-daemon-1.0.13.jar:/root/ephemeral-hdfs/share/hadoop/hdfs/lib/netty-3.6.2.Final.jar:/root/ephemeral-hdfs/share/hadoop/hdfs/lib/commons-cli-1.2.jar:/root/ephemeral-hdfs/share/hadoop/hdfs/lib/jackson-mapper-asl-1.8.8.jar:/root/ephemeral-hdfs/share/hadoop/hdfs/lib/jsp-api-2.1.jar:/root/ephemeral-hdfs/share/hadoop/hdfs/lib/jackson-core-asl-1.8.8.jar:/root/ephemeral-hdfs/share/hadoop/hdfs/lib/log4j-1.2.17.jar:/root/ephemeral-hdfs/share/hadoop/hdfs/lib/xmlenc-0.52.jar:/root/ephemeral-hdfs/share/hadoop/hdfs/lib/jasper-runtime-5.5.23.jar:/root/ephemeral-hdfs/share/hadoop/hdfs/lib/guava-11.0.2.jar:/root/ephemeral-hdfs/share/hadoop/hdfs/lib/commons-codec-1.4.jar:/root/ephemeral-hdfs/share/hadoop/hdfs/lib/jersey-server-1.9.jar:/root/ephemeral-hdfs/share/hadoop/hdfs/lib/jersey-core-1.9.jar:/root/ephemeral-hdfs/share/hadoop/hdfs/lib/protobuf-java-2.5.0.jar:/root/ephemeral-hdfs/share/hadoop/hdfs/lib/jetty-6.1.26.jar:/root/ephemeral-hdfs/share/hadoop/hdfs/lib/commons-lang-2.6.jar:/root/ephemeral-hdfs/share/hadoop/hdfs/lib/commons-logging-1.1.3.jar:/root/ephemeral-hdfs/share/hadoop/hdfs/lib/commons-io-2.4.jar:/root/ephemeral-hdfs/share/hadoop/hdfs/lib/servlet-api-2.5.jar:/root/ephemeral-hdfs/share/hadoop/hdfs/lib/jsr305-1.3.9.jar:/root/ephemeral-hdfs/share/hadoop/hdfs/hadoop-hdfs-nfs-2.4.0.jar:/root/ephemeral-hdfs/share/hadoop/hdfs/hadoop-hdfs-2.4.0-tests.jar:/root/ephemeral-hdfs/share/hadoop/hdfs/hadoop-hdfs-2.4.0.jar:/root/ephemeral-hdfs/share/hadoop/yarn/lib/asm-3.2.jar:/root/ephemeral-hdfs/share/hadoop/yarn/lib/jetty-util-6.1.26.jar:/root/ephemeral-hdfs/share/hadoop/yarn/lib/aopalliance-1.0.jar:/root/ephemeral-hdfs/share/hadoop/yarn/lib/commons-httpclient-3.1.jar:/root/ephemeral-hdfs/share/hadoop/yarn/lib/commons-collections-3.2.1.jar:/root/ephemeral-hdfs/share/hadoop/yarn/lib/jersey-json-1.9.jar:/root/ephemeral-hdfs/share/hadoop/yarn/lib/commons-cli-1.2.jar:/root/ephemeral-hdfs/share/hadoop/yarn/lib/commons-compress-1.4.1.jar:/root/ephemeral-hdfs/share/hadoop/yarn/lib/leveldbjni-all-1.8.jar:/root/ephemeral-hdfs/share/hadoop/yarn/lib/javax.inject-1.jar:/root/ephemeral-hdfs/share/hadoop/yarn/lib/jackson-mapper-asl-1.8.8.jar:/root/ephemeral-hdfs/share/hadoop/yarn/lib/jersey-guice-1.9.jar:/root/ephemeral-hdfs/share/hadoop/yarn/lib/jline-0.9.94.jar:/root/ephemeral-hdfs/share/hadoop/yarn/lib/jackson-core-asl-1.8.8.jar:/root/ephemeral-hdfs/share/hadoop/yarn/lib/stax-api-1.0-2.jar:/root/ephemeral-hdfs/share/hadoop/yarn/lib/jackson-jaxrs-1.8.8.jar:/root/ephemeral-hdfs/share/hadoop/yarn/lib/jaxb-impl-2.2.3-1.jar:/root/ephemeral-hdfs/share/hadoop/yarn/lib/log4j-1.2.17.jar:/root/ephemeral-hdfs/share/hadoop/yarn/lib/guava-11.0.2.jar:/root/ephemeral-hdfs/share/hadoop/yarn/lib/jettison-1.1.jar:/root/ephemeral-hdfs/share/hadoop/yarn/lib/activation-1.1.jar:/root/ephemeral-hdfs/share/hadoop/yarn/lib/commons-codec-1.4.jar:/root/ephemeral-hdfs/share/hadoop/yarn/lib/jaxb-api-2.2.2.jar:/root/ephemeral-hdfs/share/hadoop/yarn/lib/guice-servlet-3.0.jar:/root/ephemeral-hdfs/share/hadoop/yarn/lib/guice-3.0.jar:/root/ephemeral-hdfs/share/hadoop/yarn/lib/xz-1.0.jar:/root/ephemeral-hdfs/share/hadoop/yarn/lib/jersey-client-1.9.jar:/root/ephemeral-hdfs/share/hadoop/yarn/lib/jersey-server-1.9.jar:/root/ephemeral-hdfs/share/hadoop/yarn/lib/jersey-core-1.9.jar:/root/ephemeral-hdfs/share/hadoop/yarn/lib/jackson-xc-1.8.8.jar:/root/ephemeral-hdfs/share/hadoop/yarn/lib/protobuf-java-2.5.0.jar:/root/ephemeral-hdfs/share/hadoop/yarn/lib/jetty-6.1.26.jar:/root/ephemeral-hdfs/share/hadoop/yarn/lib/zookeeper-3.4.5.jar:/root/ephemeral-hdfs/share/hadoop/yarn/lib/commons-lang-2.6.jar:/root/ephemeral-hdfs/share/hadoop/yarn/lib/commons-logging-1.1.3.jar:/root/ephemeral-hdfs/share/hadoop/yarn/lib/commons-io-2.4.jar:/root/ephemeral-hdfs/share/hadoop/yarn/lib/servlet-api-2.5.jar:/root/ephemeral-hdfs/share/hadoop/yarn/lib/jsr305-1.3.9.jar:/root/ephemeral-hdfs/share/hadoop/yarn/hadoop-yarn-server-nodemanager-2.4.0.jar:/root/ephemeral-hdfs/share/hadoop/yarn/hadoop-yarn-applications-distributedshell-2.4.0.jar:/root/ephemeral-hdfs/share/hadoop/yarn/hadoop-yarn-common-2.4.0.jar:/root/ephemeral-hdfs/share/hadoop/yarn/hadoop-yarn-server-common-2.4.0.jar:/root/ephemeral-hdfs/share/hadoop/yarn/hadoop-yarn-server-web-proxy-2.4.0.jar:/root/ephemeral-hdfs/share/hadoop/yarn/hadoop-yarn-server-tests-2.4.0.jar:/root/ephemeral-hdfs/share/hadoop/yarn/hadoop-yarn-api-2.4.0.jar:/root/ephemeral-hdfs/share/hadoop/yarn/hadoop-yarn-applications-unmanaged-am-launcher-2.4.0.jar:/root/ephemeral-hdfs/share/hadoop/yarn/hadoop-yarn-server-applicationhistoryservice-2.4.0.jar:/root/ephemeral-hdfs/share/hadoop/yarn/hadoop-yarn-client-2.4.0.jar:/root/ephemeral-hdfs/share/hadoop/yarn/hadoop-yarn-server-resourcemanager-2.4.0.jar:/root/ephemeral-hdfs/share/hadoop/mapreduce/lib/asm-3.2.jar:/root/ephemeral-hdfs/share/hadoop/mapreduce/lib/aopalliance-1.0.jar:/root/ephemeral-hdfs/share/hadoop/mapreduce/lib/netty-3.6.2.Final.jar:/root/ephemeral-hdfs/share/hadoop/mapreduce/lib/commons-compress-1.4.1.jar:/root/ephemeral-hdfs/share/hadoop/mapreduce/lib/snappy-java-1.0.4.1.jar:/root/ephemeral-hdfs/share/hadoop/mapreduce/lib/hamcrest-core-1.1.jar:/root/ephemeral-hdfs/share/hadoop/mapreduce/lib/javax.inject-1.jar:/root/ephemeral-hdfs/share/hadoop/mapreduce/lib/jackson-mapper-asl-1.8.8.jar:/root/ephemeral-hdfs/share/hadoop/mapreduce/lib/junit-4.10.jar:/root/ephemeral-hdfs/share/hadoop/mapreduce/lib/jersey-guice-1.9.jar:/root/ephemeral-hdfs/share/hadoop/mapreduce/lib/jackson-core-asl-1.8.8.jar:/root/ephemeral-hdfs/share/hadoop/mapreduce/lib/log4j-1.2.17.jar:/root/ephemeral-hdfs/share/hadoop/mapreduce/lib/paranamer-2.3.jar:/root/ephemeral-hdfs/share/hadoop/mapreduce/lib/guice-servlet-3.0.jar:/root/ephemeral-hdfs/share/hadoop/mapreduce/lib/guice-3.0.jar:/root/ephemeral-hdfs/share/hadoop/mapreduce/lib/xz-1.0.jar:/root/ephemeral-hdfs/share/hadoop/mapreduce/lib/hadoop-annotations-2.4.0.jar:/root/ephemeral-hdfs/share/hadoop/mapreduce/lib/jersey-server-1.9.jar:/root/ephemeral-hdfs/share/hadoop/mapreduce/lib/jersey-core-1.9.jar:/root/ephemeral-hdfs/share/hadoop/mapreduce/lib/protobuf-java-2.5.0.jar:/root/ephemeral-hdfs/share/hadoop/mapreduce/lib/commons-io-2.4.jar:/root/ephemeral-hdfs/share/hadoop/mapreduce/lib/avro-1.7.4.jar:/root/ephemeral-hdfs/share/hadoop/mapreduce/hadoop-mapreduce-examples-2.4.0.jar:/root/ephemeral-hdfs/share/hadoop/mapreduce/hadoop-mapreduce-client-shuffle-2.4.0.jar:/root/ephemeral-hdfs/share/hadoop/mapreduce/hadoop-mapreduce-client-hs-2.4.0.jar:/root/ephemeral-hdfs/share/hadoop/mapreduce/hadoop-mapreduce-client-common-2.4.0.jar:/root/ephemeral-hdfs/share/hadoop/mapreduce/hadoop-mapreduce-client-jobclient-2.4.0-tests.jar:/root/ephemeral-hdfs/share/hadoop/mapreduce/hadoop-mapreduce-client-jobclient-2.4.0.jar:/root/ephemeral-hdfs/share/hadoop/mapreduce/hadoop-mapreduce-client-app-2.4.0.jar:/root/ephemeral-hdfs/share/hadoop/mapreduce/hadoop-mapreduce-client-hs-plugins-2.4.0.jar:/root/ephemeral-hdfs/share/hadoop/mapreduce/hadoop-mapreduce-client-core-2.4.0.jar\n",
    "ec2-54-184-39-176.us-west-2.compute.amazonaws.com: STARTUP_MSG:   build = http://svn.apache.org/repos/asf/hadoop/common -r 1583262; compiled by 'jenkins' on 2014-03-31T08:29Z\n",
    "ec2-54-184-39-176.us-west-2.compute.amazonaws.com: STARTUP_MSG:   java = 1.7.0_181\n",
    "ec2-54-184-39-176.us-west-2.compute.amazonaws.com: ************************************************************/\n",
    "ec2-34-221-154-40.us-west-2.compute.amazonaws.com: starting datanode, logging to /mnt/ephemeral-hdfs/logs/hadoop-root-datanode-ip-172-31-46-211.us-west-2.compute.internal.out\n",
    "Starting secondary namenodes [0.0.0.0]\n",
    "0.0.0.0: Warning: Permanently added '0.0.0.0' (ECDSA) to the list of known hosts.\n",
    "0.0.0.0: starting secondarynamenode, logging to /mnt/ephemeral-hdfs/logs/hadoop-root-secondarynamenode-ip-172-31-35-21.us-west-2.compute.internal.out\n",
    "0.0.0.0: 2018-07-31 15:45:16,390 INFO  [main] namenode.SecondaryNameNode (StringUtils.java:startupShutdownMessage(614)) - STARTUP_MSG: \n",
    "0.0.0.0: /************************************************************\n",
    "0.0.0.0: STARTUP_MSG: Starting SecondaryNameNode\n",
    "0.0.0.0: STARTUP_MSG:   host = ip-172-31-35-21.us-west-2.compute.internal/172.31.35.21\n",
    "0.0.0.0: STARTUP_MSG:   args = []\n",
    "0.0.0.0: STARTUP_MSG:   version = 2.4.0\n",
    "0.0.0.0: STARTUP_MSG:   classpath = /root/ephemeral-hdfs/conf:/root/ephemeral-hdfs/share/hadoop/common/lib/asm-3.2.jar:/root/ephemeral-hdfs/share/hadoop/common/lib/jetty-util-6.1.26.jar:/root/ephemeral-hdfs/share/hadoop/common/lib/commons-el-1.0.jar:/root/ephemeral-hdfs/share/hadoop/common/lib/commons-beanutils-core-1.8.0.jar:/root/ephemeral-hdfs/share/hadoop/common/lib/commons-httpclient-3.1.jar:/root/ephemeral-hdfs/share/hadoop/common/lib/commons-collections-3.2.1.jar:/root/ephemeral-hdfs/share/hadoop/common/lib/netty-3.6.2.Final.jar:/root/ephemeral-hdfs/share/hadoop/common/lib/jersey-json-1.9.jar:/root/ephemeral-hdfs/share/hadoop/common/lib/commons-cli-1.2.jar:/root/ephemeral-hdfs/share/hadoop/common/lib/commons-compress-1.4.1.jar:/root/ephemeral-hdfs/share/hadoop/common/lib/jets3t-0.9.0.jar:/root/ephemeral-hdfs/share/hadoop/common/lib/snappy-java-1.0.4.1.jar:/root/ephemeral-hdfs/share/hadoop/common/lib/slf4j-log4j12-1.7.5.jar:/root/ephemeral-hdfs/share/hadoop/common/lib/httpclient-4.2.5.jar:/root/ephemeral-hdfs/share/hadoop/common/lib/jackson-mapper-asl-1.8.8.jar:/root/ephemeral-hdfs/share/hadoop/common/lib/jsp-api-2.1.jar:/root/ephemeral-hdfs/share/hadoop/common/lib/hadoop-auth-2.4.0.jar:/root/ephemeral-hdfs/share/hadoop/common/lib/jasper-compiler-5.5.23.jar:/root/ephemeral-hdfs/share/hadoop/common/lib/slf4j-api-1.7.5.jar:/root/ephemeral-hdfs/share/hadoop/common/lib/jackson-core-asl-1.8.8.jar:/root/ephemeral-hdfs/share/hadoop/common/lib/mockito-all-1.8.5.jar:/root/ephemeral-hdfs/share/hadoop/common/lib/stax-api-1.0-2.jar:/root/ephemeral-hdfs/share/hadoop/common/lib/jackson-jaxrs-1.8.8.jar:/root/ephemeral-hdfs/share/hadoop/common/lib/jaxb-impl-2.2.3-1.jar:/root/ephemeral-hdfs/share/hadoop/common/lib/log4j-1.2.17.jar:/root/ephemeral-hdfs/share/hadoop/common/lib/xmlenc-0.52.jar:/root/ephemeral-hdfs/share/hadoop/common/lib/jasper-runtime-5.5.23.jar:/root/ephemeral-hdfs/share/hadoop/common/lib/guava-11.0.2.jar:/root/ephemeral-hdfs/share/hadoop/common/lib/jettison-1.1.jar:/root/ephemeral-hdfs/share/hadoop/common/lib/activation-1.1.jar:/root/ephemeral-hdfs/share/hadoop/common/lib/commons-codec-1.4.jar:/root/ephemeral-hdfs/share/hadoop/common/lib/paranamer-2.3.jar:/root/ephemeral-hdfs/share/hadoop/common/lib/jaxb-api-2.2.2.jar:/root/ephemeral-hdfs/share/hadoop/common/lib/commons-digester-1.8.jar:/root/ephemeral-hdfs/share/hadoop/common/lib/commons-math3-3.1.1.jar:/root/ephemeral-hdfs/share/hadoop/common/lib/commons-configuration-1.6.jar:/root/ephemeral-hdfs/share/hadoop/common/lib/jsch-0.1.42.jar:/root/ephemeral-hdfs/share/hadoop/common/lib/xz-1.0.jar:/root/ephemeral-hdfs/share/hadoop/common/lib/commons-net-3.1.jar:/root/ephemeral-hdfs/share/hadoop/common/lib/httpcore-4.2.5.jar:/root/ephemeral-hdfs/share/hadoop/common/lib/hadoop-annotations-2.4.0.jar:/root/ephemeral-hdfs/share/hadoop/common/lib/jersey-server-1.9.jar:/root/ephemeral-hdfs/share/hadoop/common/lib/jersey-core-1.9.jar:/root/ephemeral-hdfs/share/hadoop/common/lib/java-xmlbuilder-0.4.jar:/root/ephemeral-hdfs/share/hadoop/common/lib/jackson-xc-1.8.8.jar:/root/ephemeral-hdfs/share/hadoop/common/lib/protobuf-java-2.5.0.jar:/root/ephemeral-hdfs/share/hadoop/common/lib/jetty-6.1.26.jar:/root/ephemeral-hdfs/share/hadoop/common/lib/zookeeper-3.4.5.jar:/root/ephemeral-hdfs/share/hadoop/common/lib/commons-lang-2.6.jar:/root/ephemeral-hdfs/share/hadoop/common/lib/commons-logging-1.1.3.jar:/root/ephemeral-hdfs/share/hadoop/common/lib/commons-io-2.4.jar:/root/ephemeral-hdfs/share/hadoop/common/lib/commons-beanutils-1.7.0.jar:/root/ephemeral-hdfs/share/hadoop/common/lib/servlet-api-2.5.jar:/root/ephemeral-hdfs/share/hadoop/common/lib/jsr305-1.3.9.jar:/root/ephemeral-hdfs/share/hadoop/common/lib/avro-1.7.4.jar:/root/ephemeral-hdfs/share/hadoop/common/lib/junit-4.8.2.jar:/root/ephemeral-hdfs/share/hadoop/common/hadoop-common-2.4.0.jar:/root/ephemeral-hdfs/share/hadoop/common/hadoop-nfs-2.4.0.jar:/root/ephemeral-hdfs/share/hadoop/common/hadoop-common-2.4.0-tests.jar:/root/ephemeral-hdfs/share/hadoop/hdfs:/root/ephemeral-hdfs/share/hadoop/hdfs/lib/asm-3.2.jar:/root/ephemeral-hdfs/share/hadoop/hdfs/lib/jetty-util-6.1.26.jar:/root/ephemeral-hdfs/share/hadoop/hdfs/lib/commons-el-1.0.jar:/root/ephemeral-hdfs/share/hadoop/hdfs/lib/commons-daemon-1.0.13.jar:/root/ephemeral-hdfs/share/hadoop/hdfs/lib/netty-3.6.2.Final.jar:/root/ephemeral-hdfs/share/hadoop/hdfs/lib/commons-cli-1.2.jar:/root/ephemeral-hdfs/share/hadoop/hdfs/lib/jackson-mapper-asl-1.8.8.jar:/root/ephemeral-hdfs/share/hadoop/hdfs/lib/jsp-api-2.1.jar:/root/ephemeral-hdfs/share/hadoop/hdfs/lib/jackson-core-asl-1.8.8.jar:/root/ephemeral-hdfs/share/hadoop/hdfs/lib/log4j-1.2.17.jar:/root/ephemeral-hdfs/share/hadoop/hdfs/lib/xmlenc-0.52.jar:/root/ephemeral-hdfs/share/hadoop/hdfs/lib/jasper-runtime-5.5.23.jar:/root/ephemeral-hdfs/share/hadoop/hdfs/lib/guava-11.0.2.jar:/root/ephemeral-hdfs/share/hadoop/hdfs/lib/commons-codec-1.4.jar:/root/ephemeral-hdfs/share/hadoop/hdfs/lib/jersey-server-1.9.jar:/root/ephemeral-hdfs/share/hadoop/hdfs/lib/jersey-core-1.9.jar:/root/ephemeral-hdfs/share/hadoop/hdfs/lib/protobuf-java-2.5.0.jar:/root/ephemeral-hdfs/share/hadoop/hdfs/lib/jetty-6.1.26.jar:/root/ephemeral-hdfs/share/hadoop/hdfs/lib/commons-lang-2.6.jar:/root/ephemeral-hdfs/share/hadoop/hdfs/lib/commons-logging-1.1.3.jar:/root/ephemeral-hdfs/share/hadoop/hdfs/lib/commons-io-2.4.jar:/root/ephemeral-hdfs/share/hadoop/hdfs/lib/servlet-api-2.5.jar:/root/ephemeral-hdfs/share/hadoop/hdfs/lib/jsr305-1.3.9.jar:/root/ephemeral-hdfs/share/hadoop/hdfs/hadoop-hdfs-nfs-2.4.0.jar:/root/ephemeral-hdfs/share/hadoop/hdfs/hadoop-hdfs-2.4.0-tests.jar:/root/ephemeral-hdfs/share/hadoop/hdfs/hadoop-hdfs-2.4.0.jar:/root/ephemeral-hdfs/share/hadoop/yarn/lib/asm-3.2.jar:/root/ephemeral-hdfs/share/hadoop/yarn/lib/jetty-util-6.1.26.jar:/root/ephemeral-hdfs/share/hadoop/yarn/lib/aopalliance-1.0.jar:/root/ephemeral-hdfs/share/hadoop/yarn/lib/commons-httpclient-3.1.jar:/root/ephemeral-hdfs/share/hadoop/yarn/lib/commons-collections-3.2.1.jar:/root/ephemeral-hdfs/share/hadoop/yarn/lib/jersey-json-1.9.jar:/root/ephemeral-hdfs/share/hadoop/yarn/lib/commons-cli-1.2.jar:/root/ephemeral-hdfs/share/hadoop/yarn/lib/commons-compress-1.4.1.jar:/root/ephemeral-hdfs/share/hadoop/yarn/lib/leveldbjni-all-1.8.jar:/root/ephemeral-hdfs/share/hadoop/yarn/lib/javax.inject-1.jar:/root/ephemeral-hdfs/share/hadoop/yarn/lib/jackson-mapper-asl-1.8.8.jar:/root/ephemeral-hdfs/share/hadoop/yarn/lib/jersey-guice-1.9.jar:/root/ephemeral-hdfs/share/hadoop/yarn/lib/jline-0.9.94.jar:/root/ephemeral-hdfs/share/hadoop/yarn/lib/jackson-core-asl-1.8.8.jar:/root/ephemeral-hdfs/share/hadoop/yarn/lib/stax-api-1.0-2.jar:/root/ephemeral-hdfs/share/hadoop/yarn/lib/jackson-jaxrs-1.8.8.jar:/root/ephemeral-hdfs/share/hadoop/yarn/lib/jaxb-impl-2.2.3-1.jar:/root/ephemeral-hdfs/share/hadoop/yarn/lib/log4j-1.2.17.jar:/root/ephemeral-hdfs/share/hadoop/yarn/lib/guava-11.0.2.jar:/root/ephemeral-hdfs/share/hadoop/yarn/lib/jettison-1.1.jar:/root/ephemeral-hdfs/share/hadoop/yarn/lib/activation-1.1.jar:/root/ephemeral-hdfs/share/hadoop/yarn/lib/commons-codec-1.4.jar:/root/ephemeral-hdfs/share/hadoop/yarn/lib/jaxb-api-2.2.2.jar:/root/ephemeral-hdfs/share/hadoop/yarn/lib/guice-servlet-3.0.jar:/root/ephemeral-hdfs/share/hadoop/yarn/lib/guice-3.0.jar:/root/ephemeral-hdfs/share/hadoop/yarn/lib/xz-1.0.jar:/root/ephemeral-hdfs/share/hadoop/yarn/lib/jersey-client-1.9.jar:/root/ephemeral-hdfs/share/hadoop/yarn/lib/jersey-server-1.9.jar:/root/ephemeral-hdfs/share/hadoop/yarn/lib/jersey-core-1.9.jar:/root/ephemeral-hdfs/share/hadoop/yarn/lib/jackson-xc-1.8.8.jar:/root/ephemeral-hdfs/share/hadoop/yarn/lib/protobuf-java-2.5.0.jar:/root/ephemeral-hdfs/share/hadoop/yarn/lib/jetty-6.1.26.jar:/root/ephemeral-hdfs/share/hadoop/yarn/lib/zookeeper-3.4.5.jar:/root/ephemeral-hdfs/share/hadoop/yarn/lib/commons-lang-2.6.jar:/root/ephemeral-hdfs/share/hadoop/yarn/lib/commons-logging-1.1.3.jar:/root/ephemeral-hdfs/share/hadoop/yarn/lib/commons-io-2.4.jar:/root/ephemeral-hdfs/share/hadoop/yarn/lib/servlet-api-2.5.jar:/root/ephemeral-hdfs/share/hadoop/yarn/lib/jsr305-1.3.9.jar:/root/ephemeral-hdfs/share/hadoop/yarn/hadoop-yarn-server-nodemanager-2.4.0.jar:/root/ephemeral-hdfs/share/hadoop/yarn/hadoop-yarn-applications-distributedshell-2.4.0.jar:/root/ephemeral-hdfs/share/hadoop/yarn/hadoop-yarn-common-2.4.0.jar:/root/ephemeral-hdfs/share/hadoop/yarn/hadoop-yarn-server-common-2.4.0.jar:/root/ephemeral-hdfs/share/hadoop/yarn/hadoop-yarn-server-web-proxy-2.4.0.jar:/root/ephemeral-hdfs/share/hadoop/yarn/hadoop-yarn-server-tests-2.4.0.jar:/root/ephemeral-hdfs/share/hadoop/yarn/hadoop-yarn-api-2.4.0.jar:/root/ephemeral-hdfs/share/hadoop/yarn/hadoop-yarn-applications-unmanaged-am-launcher-2.4.0.jar:/root/ephemeral-hdfs/share/hadoop/yarn/hadoop-yarn-server-applicationhistoryservice-2.4.0.jar:/root/ephemeral-hdfs/share/hadoop/yarn/hadoop-yarn-client-2.4.0.jar:/root/ephemeral-hdfs/share/hadoop/yarn/hadoop-yarn-server-resourcemanager-2.4.0.jar:/root/ephemeral-hdfs/share/hadoop/mapreduce/lib/asm-3.2.jar:/root/ephemeral-hdfs/share/hadoop/mapreduce/lib/aopalliance-1.0.jar:/root/ephemeral-hdfs/share/hadoop/mapreduce/lib/netty-3.6.2.Final.jar:/root/ephemeral-hdfs/share/hadoop/mapreduce/lib/commons-compress-1.4.1.jar:/root/ephemeral-hdfs/share/hadoop/mapreduce/lib/snappy-java-1.0.4.1.jar:/root/ephemeral-hdfs/share/hadoop/mapreduce/lib/hamcrest-core-1.1.jar:/root/ephemeral-hdfs/share/hadoop/mapreduce/lib/javax.inject-1.jar:/root/ephemeral-hdfs/share/hadoop/mapreduce/lib/jackson-mapper-asl-1.8.8.jar:/root/ephemeral-hdfs/share/hadoop/mapreduce/lib/junit-4.10.jar:/root/ephemeral-hdfs/share/hadoop/mapreduce/lib/jersey-guice-1.9.jar:/root/ephemeral-hdfs/share/hadoop/mapreduce/lib/jackson-core-asl-1.8.8.jar:/root/ephemeral-hdfs/share/hadoop/mapreduce/lib/log4j-1.2.17.jar:/root/ephemeral-hdfs/share/hadoop/mapreduce/lib/paranamer-2.3.jar:/root/ephemeral-hdfs/share/hadoop/mapreduce/lib/guice-servlet-3.0.jar:/root/ephemeral-hdfs/share/hadoop/mapreduce/lib/guice-3.0.jar:/root/ephemeral-hdfs/share/hadoop/mapreduce/lib/xz-1.0.jar:/root/ephemeral-hdfs/share/hadoop/mapreduce/lib/hadoop-annotations-2.4.0.jar:/root/ephemeral-hdfs/share/hadoop/mapreduce/lib/jersey-server-1.9.jar:/root/ephemeral-hdfs/share/hadoop/mapreduce/lib/jersey-core-1.9.jar:/root/ephemeral-hdfs/share/hadoop/mapreduce/lib/protobuf-java-2.5.0.jar:/root/ephemeral-hdfs/share/hadoop/mapreduce/lib/commons-io-2.4.jar:/root/ephemeral-hdfs/share/hadoop/mapreduce/lib/avro-1.7.4.jar:/root/ephemeral-hdfs/share/hadoop/mapreduce/hadoop-mapreduce-examples-2.4.0.jar:/root/ephemeral-hdfs/share/hadoop/mapreduce/hadoop-mapreduce-client-shuffle-2.4.0.jar:/root/ephemeral-hdfs/share/hadoop/mapreduce/hadoop-mapreduce-client-hs-2.4.0.jar:/root/ephemeral-hdfs/share/hadoop/mapreduce/hadoop-mapreduce-client-common-2.4.0.jar:/root/ephemeral-hdfs/share/hadoop/mapreduce/hadoop-mapreduce-client-jobclient-2.4.0-tests.jar:/root/ephemeral-hdfs/share/hadoop/mapreduce/hadoop-mapreduce-client-jobclient-2.4.0.jar:/root/ephemeral-hdfs/share/hadoop/mapreduce/hadoop-mapreduce-client-app-2.4.0.jar:/root/ephemeral-hdfs/share/hadoop/mapreduce/hadoop-mapreduce-client-hs-plugins-2.4.0.jar:/root/ephemeral-hdfs/share/hadoop/mapreduce/hadoop-mapreduce-client-core-2.4.0.jar\n",
    "0.0.0.0: STARTUP_MSG:   build = http://svn.apache.org/repos/asf/hadoop/common -r 1583262; compiled by 'jenkins' on 2014-03-31T08:29Z\n",
    "0.0.0.0: STARTUP_MSG:   java = 1.7.0_181\n",
    "0.0.0.0: ************************************************************/\n",
    "Starting YARN\n",
    "starting yarn daemons\n",
    "starting resourcemanager, logging to /mnt/ephemeral-hdfs/logs/yarn-root-resourcemanager-ip-172-31-35-21.us-west-2.compute.internal.out\n",
    "2018-07-31 15:45:23,453 INFO  [main] resourcemanager.ResourceManager (StringUtils.java:startupShutdownMessage(614)) - STARTUP_MSG: \n",
    "/************************************************************\n",
    "STARTUP_MSG: Starting ResourceManager\n",
    "STARTUP_MSG:   host = ip-172-31-35-21.us-west-2.compute.internal/172.31.35.21\n",
    "STARTUP_MSG:   args = []\n",
    "STARTUP_MSG:   version = 2.4.0\n",
    "STARTUP_MSG:   classpath = /root/ephemeral-hdfs/conf:/root/ephemeral-hdfs/conf:/root/ephemeral-hdfs/conf:/root/ephemeral-hdfs/share/hadoop/common/lib/asm-3.2.jar:/root/ephemeral-hdfs/share/hadoop/common/lib/jetty-util-6.1.26.jar:/root/ephemeral-hdfs/share/hadoop/common/lib/commons-el-1.0.jar:/root/ephemeral-hdfs/share/hadoop/common/lib/commons-beanutils-core-1.8.0.jar:/root/ephemeral-hdfs/share/hadoop/common/lib/commons-httpclient-3.1.jar:/root/ephemeral-hdfs/share/hadoop/common/lib/commons-collections-3.2.1.jar:/root/ephemeral-hdfs/share/hadoop/common/lib/netty-3.6.2.Final.jar:/root/ephemeral-hdfs/share/hadoop/common/lib/jersey-json-1.9.jar:/root/ephemeral-hdfs/share/hadoop/common/lib/commons-cli-1.2.jar:/root/ephemeral-hdfs/share/hadoop/common/lib/commons-compress-1.4.1.jar:/root/ephemeral-hdfs/share/hadoop/common/lib/jets3t-0.9.0.jar:/root/ephemeral-hdfs/share/hadoop/common/lib/snappy-java-1.0.4.1.jar:/root/ephemeral-hdfs/share/hadoop/common/lib/slf4j-log4j12-1.7.5.jar:/root/ephemeral-hdfs/share/hadoop/common/lib/httpclient-4.2.5.jar:/root/ephemeral-hdfs/share/hadoop/common/lib/jackson-mapper-asl-1.8.8.jar:/root/ephemeral-hdfs/share/hadoop/common/lib/jsp-api-2.1.jar:/root/ephemeral-hdfs/share/hadoop/common/lib/hadoop-auth-2.4.0.jar:/root/ephemeral-hdfs/share/hadoop/common/lib/jasper-compiler-5.5.23.jar:/root/ephemeral-hdfs/share/hadoop/common/lib/slf4j-api-1.7.5.jar:/root/ephemeral-hdfs/share/hadoop/common/lib/jackson-core-asl-1.8.8.jar:/root/ephemeral-hdfs/share/hadoop/common/lib/mockito-all-1.8.5.jar:/root/ephemeral-hdfs/share/hadoop/common/lib/stax-api-1.0-2.jar:/root/ephemeral-hdfs/share/hadoop/common/lib/jackson-jaxrs-1.8.8.jar:/root/ephemeral-hdfs/share/hadoop/common/lib/jaxb-impl-2.2.3-1.jar:/root/ephemeral-hdfs/share/hadoop/common/lib/log4j-1.2.17.jar:/root/ephemeral-hdfs/share/hadoop/common/lib/xmlenc-0.52.jar:/root/ephemeral-hdfs/share/hadoop/common/lib/jasper-runtime-5.5.23.jar:/root/ephemeral-hdfs/share/hadoop/common/lib/guava-11.0.2.jar:/root/ephemeral-hdfs/share/hadoop/common/lib/jettison-1.1.jar:/root/ephemeral-hdfs/share/hadoop/common/lib/activation-1.1.jar:/root/ephemeral-hdfs/share/hadoop/common/lib/commons-codec-1.4.jar:/root/ephemeral-hdfs/share/hadoop/common/lib/paranamer-2.3.jar:/root/ephemeral-hdfs/share/hadoop/common/lib/jaxb-api-2.2.2.jar:/root/ephemeral-hdfs/share/hadoop/common/lib/commons-digester-1.8.jar:/root/ephemeral-hdfs/share/hadoop/common/lib/commons-math3-3.1.1.jar:/root/ephemeral-hdfs/share/hadoop/common/lib/commons-configuration-1.6.jar:/root/ephemeral-hdfs/share/hadoop/common/lib/jsch-0.1.42.jar:/root/ephemeral-hdfs/share/hadoop/common/lib/xz-1.0.jar:/root/ephemeral-hdfs/share/hadoop/common/lib/commons-net-3.1.jar:/root/ephemeral-hdfs/share/hadoop/common/lib/httpcore-4.2.5.jar:/root/ephemeral-hdfs/share/hadoop/common/lib/hadoop-annotations-2.4.0.jar:/root/ephemeral-hdfs/share/hadoop/common/lib/jersey-server-1.9.jar:/root/ephemeral-hdfs/share/hadoop/common/lib/jersey-core-1.9.jar:/root/ephemeral-hdfs/share/hadoop/common/lib/java-xmlbuilder-0.4.jar:/root/ephemeral-hdfs/share/hadoop/common/lib/jackson-xc-1.8.8.jar:/root/ephemeral-hdfs/share/hadoop/common/lib/protobuf-java-2.5.0.jar:/root/ephemeral-hdfs/share/hadoop/common/lib/jetty-6.1.26.jar:/root/ephemeral-hdfs/share/hadoop/common/lib/zookeeper-3.4.5.jar:/root/ephemeral-hdfs/share/hadoop/common/lib/commons-lang-2.6.jar:/root/ephemeral-hdfs/share/hadoop/common/lib/commons-logging-1.1.3.jar:/root/ephemeral-hdfs/share/hadoop/common/lib/commons-io-2.4.jar:/root/ephemeral-hdfs/share/hadoop/common/lib/commons-beanutils-1.7.0.jar:/root/ephemeral-hdfs/share/hadoop/common/lib/servlet-api-2.5.jar:/root/ephemeral-hdfs/share/hadoop/common/lib/jsr305-1.3.9.jar:/root/ephemeral-hdfs/share/hadoop/common/lib/avro-1.7.4.jar:/root/ephemeral-hdfs/share/hadoop/common/lib/junit-4.8.2.jar:/root/ephemeral-hdfs/share/hadoop/common/hadoop-common-2.4.0.jar:/root/ephemeral-hdfs/share/hadoop/common/hadoop-nfs-2.4.0.jar:/root/ephemeral-hdfs/share/hadoop/common/hadoop-common-2.4.0-tests.jar:/root/ephemeral-hdfs/share/hadoop/hdfs:/root/ephemeral-hdfs/share/hadoop/hdfs/lib/asm-3.2.jar:/root/ephemeral-hdfs/share/hadoop/hdfs/lib/jetty-util-6.1.26.jar:/root/ephemeral-hdfs/share/hadoop/hdfs/lib/commons-el-1.0.jar:/root/ephemeral-hdfs/share/hadoop/hdfs/lib/commons-daemon-1.0.13.jar:/root/ephemeral-hdfs/share/hadoop/hdfs/lib/netty-3.6.2.Final.jar:/root/ephemeral-hdfs/share/hadoop/hdfs/lib/commons-cli-1.2.jar:/root/ephemeral-hdfs/share/hadoop/hdfs/lib/jackson-mapper-asl-1.8.8.jar:/root/ephemeral-hdfs/share/hadoop/hdfs/lib/jsp-api-2.1.jar:/root/ephemeral-hdfs/share/hadoop/hdfs/lib/jackson-core-asl-1.8.8.jar:/root/ephemeral-hdfs/share/hadoop/hdfs/lib/log4j-1.2.17.jar:/root/ephemeral-hdfs/share/hadoop/hdfs/lib/xmlenc-0.52.jar:/root/ephemeral-hdfs/share/hadoop/hdfs/lib/jasper-runtime-5.5.23.jar:/root/ephemeral-hdfs/share/hadoop/hdfs/lib/guava-11.0.2.jar:/root/ephemeral-hdfs/share/hadoop/hdfs/lib/commons-codec-1.4.jar:/root/ephemeral-hdfs/share/hadoop/hdfs/lib/jersey-server-1.9.jar:/root/ephemeral-hdfs/share/hadoop/hdfs/lib/jersey-core-1.9.jar:/root/ephemeral-hdfs/share/hadoop/hdfs/lib/protobuf-java-2.5.0.jar:/root/ephemeral-hdfs/share/hadoop/hdfs/lib/jetty-6.1.26.jar:/root/ephemeral-hdfs/share/hadoop/hdfs/lib/commons-lang-2.6.jar:/root/ephemeral-hdfs/share/hadoop/hdfs/lib/commons-logging-1.1.3.jar:/root/ephemeral-hdfs/share/hadoop/hdfs/lib/commons-io-2.4.jar:/root/ephemeral-hdfs/share/hadoop/hdfs/lib/servlet-api-2.5.jar:/root/ephemeral-hdfs/share/hadoop/hdfs/lib/jsr305-1.3.9.jar:/root/ephemeral-hdfs/share/hadoop/hdfs/hadoop-hdfs-nfs-2.4.0.jar:/root/ephemeral-hdfs/share/hadoop/hdfs/hadoop-hdfs-2.4.0-tests.jar:/root/ephemeral-hdfs/share/hadoop/hdfs/hadoop-hdfs-2.4.0.jar:/root/ephemeral-hdfs/share/hadoop/yarn/lib/asm-3.2.jar:/root/ephemeral-hdfs/share/hadoop/yarn/lib/jetty-util-6.1.26.jar:/root/ephemeral-hdfs/share/hadoop/yarn/lib/aopalliance-1.0.jar:/root/ephemeral-hdfs/share/hadoop/yarn/lib/commons-httpclient-3.1.jar:/root/ephemeral-hdfs/share/hadoop/yarn/lib/commons-collections-3.2.1.jar:/root/ephemeral-hdfs/share/hadoop/yarn/lib/jersey-json-1.9.jar:/root/ephemeral-hdfs/share/hadoop/yarn/lib/commons-cli-1.2.jar:/root/ephemeral-hdfs/share/hadoop/yarn/lib/commons-compress-1.4.1.jar:/root/ephemeral-hdfs/share/hadoop/yarn/lib/leveldbjni-all-1.8.jar:/root/ephemeral-hdfs/share/hadoop/yarn/lib/javax.inject-1.jar:/root/ephemeral-hdfs/share/hadoop/yarn/lib/jackson-mapper-asl-1.8.8.jar:/root/ephemeral-hdfs/share/hadoop/yarn/lib/jersey-guice-1.9.jar:/root/ephemeral-hdfs/share/hadoop/yarn/lib/jline-0.9.94.jar:/root/ephemeral-hdfs/share/hadoop/yarn/lib/jackson-core-asl-1.8.8.jar:/root/ephemeral-hdfs/share/hadoop/yarn/lib/stax-api-1.0-2.jar:/root/ephemeral-hdfs/share/hadoop/yarn/lib/jackson-jaxrs-1.8.8.jar:/root/ephemeral-hdfs/share/hadoop/yarn/lib/jaxb-impl-2.2.3-1.jar:/root/ephemeral-hdfs/share/hadoop/yarn/lib/log4j-1.2.17.jar:/root/ephemeral-hdfs/share/hadoop/yarn/lib/guava-11.0.2.jar:/root/ephemeral-hdfs/share/hadoop/yarn/lib/jettison-1.1.jar:/root/ephemeral-hdfs/share/hadoop/yarn/lib/activation-1.1.jar:/root/ephemeral-hdfs/share/hadoop/yarn/lib/commons-codec-1.4.jar:/root/ephemeral-hdfs/share/hadoop/yarn/lib/jaxb-api-2.2.2.jar:/root/ephemeral-hdfs/share/hadoop/yarn/lib/guice-servlet-3.0.jar:/root/ephemeral-hdfs/share/hadoop/yarn/lib/guice-3.0.jar:/root/ephemeral-hdfs/share/hadoop/yarn/lib/xz-1.0.jar:/root/ephemeral-hdfs/share/hadoop/yarn/lib/jersey-client-1.9.jar:/root/ephemeral-hdfs/share/hadoop/yarn/lib/jersey-server-1.9.jar:/root/ephemeral-hdfs/share/hadoop/yarn/lib/jersey-core-1.9.jar:/root/ephemeral-hdfs/share/hadoop/yarn/lib/jackson-xc-1.8.8.jar:/root/ephemeral-hdfs/share/hadoop/yarn/lib/protobuf-java-2.5.0.jar:/root/ephemeral-hdfs/share/hadoop/yarn/lib/jetty-6.1.26.jar:/root/ephemeral-hdfs/share/hadoop/yarn/lib/zookeeper-3.4.5.jar:/root/ephemeral-hdfs/share/hadoop/yarn/lib/commons-lang-2.6.jar:/root/ephemeral-hdfs/share/hadoop/yarn/lib/commons-logging-1.1.3.jar:/root/ephemeral-hdfs/share/hadoop/yarn/lib/commons-io-2.4.jar:/root/ephemeral-hdfs/share/hadoop/yarn/lib/servlet-api-2.5.jar:/root/ephemeral-hdfs/share/hadoop/yarn/lib/jsr305-1.3.9.jar:/root/ephemeral-hdfs/share/hadoop/yarn/hadoop-yarn-server-nodemanager-2.4.0.jar:/root/ephemeral-hdfs/share/hadoop/yarn/hadoop-yarn-applications-distributedshell-2.4.0.jar:/root/ephemeral-hdfs/share/hadoop/yarn/hadoop-yarn-common-2.4.0.jar:/root/ephemeral-hdfs/share/hadoop/yarn/hadoop-yarn-server-common-2.4.0.jar:/root/ephemeral-hdfs/share/hadoop/yarn/hadoop-yarn-server-web-proxy-2.4.0.jar:/root/ephemeral-hdfs/share/hadoop/yarn/hadoop-yarn-server-tests-2.4.0.jar:/root/ephemeral-hdfs/share/hadoop/yarn/hadoop-yarn-api-2.4.0.jar:/root/ephemeral-hdfs/share/hadoop/yarn/hadoop-yarn-applications-unmanaged-am-launcher-2.4.0.jar:/root/ephemeral-hdfs/share/hadoop/yarn/hadoop-yarn-server-applicationhistoryservice-2.4.0.jar:/root/ephemeral-hdfs/share/hadoop/yarn/hadoop-yarn-client-2.4.0.jar:/root/ephemeral-hdfs/share/hadoop/yarn/hadoop-yarn-server-resourcemanager-2.4.0.jar:/root/ephemeral-hdfs/share/hadoop/mapreduce/lib/asm-3.2.jar:/root/ephemeral-hdfs/share/hadoop/mapreduce/lib/aopalliance-1.0.jar:/root/ephemeral-hdfs/share/hadoop/mapreduce/lib/netty-3.6.2.Final.jar:/root/ephemeral-hdfs/share/hadoop/mapreduce/lib/commons-compress-1.4.1.jar:/root/ephemeral-hdfs/share/hadoop/mapreduce/lib/snappy-java-1.0.4.1.jar:/root/ephemeral-hdfs/share/hadoop/mapreduce/lib/hamcrest-core-1.1.jar:/root/ephemeral-hdfs/share/hadoop/mapreduce/lib/javax.inject-1.jar:/root/ephemeral-hdfs/share/hadoop/mapreduce/lib/jackson-mapper-asl-1.8.8.jar:/root/ephemeral-hdfs/share/hadoop/mapreduce/lib/junit-4.10.jar:/root/ephemeral-hdfs/share/hadoop/mapreduce/lib/jersey-guice-1.9.jar:/root/ephemeral-hdfs/share/hadoop/mapreduce/lib/jackson-core-asl-1.8.8.jar:/root/ephemeral-hdfs/share/hadoop/mapreduce/lib/log4j-1.2.17.jar:/root/ephemeral-hdfs/share/hadoop/mapreduce/lib/paranamer-2.3.jar:/root/ephemeral-hdfs/share/hadoop/mapreduce/lib/guice-servlet-3.0.jar:/root/ephemeral-hdfs/share/hadoop/mapreduce/lib/guice-3.0.jar:/root/ephemeral-hdfs/share/hadoop/mapreduce/lib/xz-1.0.jar:/root/ephemeral-hdfs/share/hadoop/mapreduce/lib/hadoop-annotations-2.4.0.jar:/root/ephemeral-hdfs/share/hadoop/mapreduce/lib/jersey-server-1.9.jar:/root/ephemeral-hdfs/share/hadoop/mapreduce/lib/jersey-core-1.9.jar:/root/ephemeral-hdfs/share/hadoop/mapreduce/lib/protobuf-java-2.5.0.jar:/root/ephemeral-hdfs/share/hadoop/mapreduce/lib/commons-io-2.4.jar:/root/ephemeral-hdfs/share/hadoop/mapreduce/lib/avro-1.7.4.jar:/root/ephemeral-hdfs/share/hadoop/mapreduce/hadoop-mapreduce-examples-2.4.0.jar:/root/ephemeral-hdfs/share/hadoop/mapreduce/hadoop-mapreduce-client-shuffle-2.4.0.jar:/root/ephemeral-hdfs/share/hadoop/mapreduce/hadoop-mapreduce-client-hs-2.4.0.jar:/root/ephemeral-hdfs/share/hadoop/mapreduce/hadoop-mapreduce-client-common-2.4.0.jar:/root/ephemeral-hdfs/share/hadoop/mapreduce/hadoop-mapreduce-client-jobclient-2.4.0-tests.jar:/root/ephemeral-hdfs/share/hadoop/mapreduce/hadoop-mapreduce-client-jobclient-2.4.0.jar:/root/ephemeral-hdfs/share/hadoop/mapreduce/hadoop-mapreduce-client-app-2.4.0.jar:/root/ephemeral-hdfs/share/hadoop/mapreduce/hadoop-mapreduce-client-hs-plugins-2.4.0.jar:/root/ephemeral-hdfs/share/hadoop/mapreduce/hadoop-mapreduce-client-core-2.4.0.jar:/root/ephemeral-hdfs/share/hadoop/yarn/hadoop-yarn-server-nodemanager-2.4.0.jar:/root/ephemeral-hdfs/share/hadoop/yarn/hadoop-yarn-applications-distributedshell-2.4.0.jar:/root/ephemeral-hdfs/share/hadoop/yarn/hadoop-yarn-common-2.4.0.jar:/root/ephemeral-hdfs/share/hadoop/yarn/hadoop-yarn-server-common-2.4.0.jar:/root/ephemeral-hdfs/share/hadoop/yarn/hadoop-yarn-server-web-proxy-2.4.0.jar:/root/ephemeral-hdfs/share/hadoop/yarn/hadoop-yarn-server-tests-2.4.0.jar:/root/ephemeral-hdfs/share/hadoop/yarn/hadoop-yarn-api-2.4.0.jar:/root/ephemeral-hdfs/share/hadoop/yarn/hadoop-yarn-applications-unmanaged-am-launcher-2.4.0.jar:/root/ephemeral-hdfs/share/hadoop/yarn/hadoop-yarn-server-applicationhistoryservice-2.4.0.jar:/root/ephemeral-hdfs/share/hadoop/yarn/hadoop-yarn-client-2.4.0.jar:/root/ephemeral-hdfs/share/hadoop/yarn/hadoop-yarn-server-resourcemanager-2.4.0.jar:/root/ephemeral-hdfs/share/hadoop/yarn/lib/asm-3.2.jar:/root/ephemeral-hdfs/share/hadoop/yarn/lib/jetty-util-6.1.26.jar:/root/ephemeral-hdfs/share/hadoop/yarn/lib/aopalliance-1.0.jar:/root/ephemeral-hdfs/share/hadoop/yarn/lib/commons-httpclient-3.1.jar:/root/ephemeral-hdfs/share/hadoop/yarn/lib/commons-collections-3.2.1.jar:/root/ephemeral-hdfs/share/hadoop/yarn/lib/jersey-json-1.9.jar:/root/ephemeral-hdfs/share/hadoop/yarn/lib/commons-cli-1.2.jar:/root/ephemeral-hdfs/share/hadoop/yarn/lib/commons-compress-1.4.1.jar:/root/ephemeral-hdfs/share/hadoop/yarn/lib/leveldbjni-all-1.8.jar:/root/ephemeral-hdfs/share/hadoop/yarn/lib/javax.inject-1.jar:/root/ephemeral-hdfs/share/hadoop/yarn/lib/jackson-mapper-asl-1.8.8.jar:/root/ephemeral-hdfs/share/hadoop/yarn/lib/jersey-guice-1.9.jar:/root/ephemeral-hdfs/share/hadoop/yarn/lib/jline-0.9.94.jar:/root/ephemeral-hdfs/share/hadoop/yarn/lib/jackson-core-asl-1.8.8.jar:/root/ephemeral-hdfs/share/hadoop/yarn/lib/stax-api-1.0-2.jar:/root/ephemeral-hdfs/share/hadoop/yarn/lib/jackson-jaxrs-1.8.8.jar:/root/ephemeral-hdfs/share/hadoop/yarn/lib/jaxb-impl-2.2.3-1.jar:/root/ephemeral-hdfs/share/hadoop/yarn/lib/log4j-1.2.17.jar:/root/ephemeral-hdfs/share/hadoop/yarn/lib/guava-11.0.2.jar:/root/ephemeral-hdfs/share/hadoop/yarn/lib/jettison-1.1.jar:/root/ephemeral-hdfs/share/hadoop/yarn/lib/activation-1.1.jar:/root/ephemeral-hdfs/share/hadoop/yarn/lib/commons-codec-1.4.jar:/root/ephemeral-hdfs/share/hadoop/yarn/lib/jaxb-api-2.2.2.jar:/root/ephemeral-hdfs/share/hadoop/yarn/lib/guice-servlet-3.0.jar:/root/ephemeral-hdfs/share/hadoop/yarn/lib/guice-3.0.jar:/root/ephemeral-hdfs/share/hadoop/yarn/lib/xz-1.0.jar:/root/ephemeral-hdfs/share/hadoop/yarn/lib/jersey-client-1.9.jar:/root/ephemeral-hdfs/share/hadoop/yarn/lib/jersey-server-1.9.jar:/root/ephemeral-hdfs/share/hadoop/yarn/lib/jersey-core-1.9.jar:/root/ephemeral-hdfs/share/hadoop/yarn/lib/jackson-xc-1.8.8.jar:/root/ephemeral-hdfs/share/hadoop/yarn/lib/protobuf-java-2.5.0.jar:/root/ephemeral-hdfs/share/hadoop/yarn/lib/jetty-6.1.26.jar:/root/ephemeral-hdfs/share/hadoop/yarn/lib/zookeeper-3.4.5.jar:/root/ephemeral-hdfs/share/hadoop/yarn/lib/commons-lang-2.6.jar:/root/ephemeral-hdfs/share/hadoop/yarn/lib/commons-logging-1.1.3.jar:/root/ephemeral-hdfs/share/hadoop/yarn/lib/commons-io-2.4.jar:/root/ephemeral-hdfs/share/hadoop/yarn/lib/servlet-api-2.5.jar:/root/ephemeral-hdfs/share/hadoop/yarn/lib/jsr305-1.3.9.jar:/root/ephemeral-hdfs/conf/rm-config/log4j.properties\n",
    "STARTUP_MSG:   build = http://svn.apache.org/repos/asf/hadoop/common -r 1583262; compiled by 'jenkins' on 2014-03-31T08:29Z\n",
    "STARTUP_MSG:   java = 1.7.0_181\n",
    "************************************************************/\n",
    "ec2-34-221-154-40.us-west-2.compute.amazonaws.com: starting nodemanager, logging to /mnt/ephemeral-hdfs/logs/yarn-root-nodemanager-ip-172-31-46-211.us-west-2.compute.internal.out\n",
    "ec2-34-221-154-40.us-west-2.compute.amazonaws.com: 2018-07-31 15:45:24,730 INFO  [main] nodemanager.NodeManager (StringUtils.java:startupShutdownMessage(614)) - STARTUP_MSG: \n",
    "ec2-34-221-154-40.us-west-2.compute.amazonaws.com: /************************************************************\n",
    "ec2-34-221-154-40.us-west-2.compute.amazonaws.com: STARTUP_MSG: Starting NodeManager\n",
    "ec2-34-221-154-40.us-west-2.compute.amazonaws.com: STARTUP_MSG:   host = ip-172-31-46-211.us-west-2.compute.internal/172.31.46.211\n",
    "ec2-34-221-154-40.us-west-2.compute.amazonaws.com: STARTUP_MSG:   args = []\n",
    "ec2-34-221-154-40.us-west-2.compute.amazonaws.com: STARTUP_MSG:   version = 2.4.0\n",
    "ec2-34-221-154-40.us-west-2.compute.amazonaws.com: STARTUP_MSG:   classpath = /root/ephemeral-hdfs/conf:/root/ephemeral-hdfs/conf:/root/ephemeral-hdfs/conf:/root/ephemeral-hdfs/share/hadoop/common/lib/asm-3.2.jar:/root/ephemeral-hdfs/share/hadoop/common/lib/jetty-util-6.1.26.jar:/root/ephemeral-hdfs/share/hadoop/common/lib/commons-el-1.0.jar:/root/ephemeral-hdfs/share/hadoop/common/lib/commons-beanutils-core-1.8.0.jar:/root/ephemeral-hdfs/share/hadoop/common/lib/commons-httpclient-3.1.jar:/root/ephemeral-hdfs/share/hadoop/common/lib/commons-collections-3.2.1.jar:/root/ephemeral-hdfs/share/hadoop/common/lib/netty-3.6.2.Final.jar:/root/ephemeral-hdfs/share/hadoop/common/lib/jersey-json-1.9.jar:/root/ephemeral-hdfs/share/hadoop/common/lib/commons-cli-1.2.jar:/root/ephemeral-hdfs/share/hadoop/common/lib/commons-compress-1.4.1.jar:/root/ephemeral-hdfs/share/hadoop/common/lib/jets3t-0.9.0.jar:/root/ephemeral-hdfs/share/hadoop/common/lib/snappy-java-1.0.4.1.jar:/root/ephemeral-hdfs/share/hadoop/common/lib/slf4j-log4j12-1.7.5.jar:/root/ephemeral-hdfs/share/hadoop/common/lib/httpclient-4.2.5.jar:/root/ephemeral-hdfs/share/hadoop/common/lib/jackson-mapper-asl-1.8.8.jar:/root/ephemeral-hdfs/share/hadoop/common/lib/jsp-api-2.1.jar:/root/ephemeral-hdfs/share/hadoop/common/lib/hadoop-auth-2.4.0.jar:/root/ephemeral-hdfs/share/hadoop/common/lib/jasper-compiler-5.5.23.jar:/root/ephemeral-hdfs/share/hadoop/common/lib/slf4j-api-1.7.5.jar:/root/ephemeral-hdfs/share/hadoop/common/lib/jackson-core-asl-1.8.8.jar:/root/ephemeral-hdfs/share/hadoop/common/lib/mockito-all-1.8.5.jar:/root/ephemeral-hdfs/share/hadoop/common/lib/stax-api-1.0-2.jar:/root/ephemeral-hdfs/share/hadoop/common/lib/jackson-jaxrs-1.8.8.jar:/root/ephemeral-hdfs/share/hadoop/common/lib/jaxb-impl-2.2.3-1.jar:/root/ephemeral-hdfs/share/hadoop/common/lib/log4j-1.2.17.jar:/root/ephemeral-hdfs/share/hadoop/common/lib/xmlenc-0.52.jar:/root/ephemeral-hdfs/share/hadoop/common/lib/jasper-runtime-5.5.23.jar:/root/ephemeral-hdfs/share/hadoop/common/lib/guava-11.0.2.jar:/root/ephemeral-hdfs/share/hadoop/common/lib/jettison-1.1.jar:/root/ephemeral-hdfs/share/hadoop/common/lib/activation-1.1.jar:/root/ephemeral-hdfs/share/hadoop/common/lib/commons-codec-1.4.jar:/root/ephemeral-hdfs/share/hadoop/common/lib/paranamer-2.3.jar:/root/ephemeral-hdfs/share/hadoop/common/lib/jaxb-api-2.2.2.jar:/root/ephemeral-hdfs/share/hadoop/common/lib/commons-digester-1.8.jar:/root/ephemeral-hdfs/share/hadoop/common/lib/commons-math3-3.1.1.jar:/root/ephemeral-hdfs/share/hadoop/common/lib/commons-configuration-1.6.jar:/root/ephemeral-hdfs/share/hadoop/common/lib/jsch-0.1.42.jar:/root/ephemeral-hdfs/share/hadoop/common/lib/xz-1.0.jar:/root/ephemeral-hdfs/share/hadoop/common/lib/commons-net-3.1.jar:/root/ephemeral-hdfs/share/hadoop/common/lib/httpcore-4.2.5.jar:/root/ephemeral-hdfs/share/hadoop/common/lib/hadoop-annotations-2.4.0.jar:/root/ephemeral-hdfs/share/hadoop/common/lib/jersey-server-1.9.jar:/root/ephemeral-hdfs/share/hadoop/common/lib/jersey-core-1.9.jar:/root/ephemeral-hdfs/share/hadoop/common/lib/java-xmlbuilder-0.4.jar:/root/ephemeral-hdfs/share/hadoop/common/lib/jackson-xc-1.8.8.jar:/root/ephemeral-hdfs/share/hadoop/common/lib/protobuf-java-2.5.0.jar:/root/ephemeral-hdfs/share/hadoop/common/lib/jetty-6.1.26.jar:/root/ephemeral-hdfs/share/hadoop/common/lib/zookeeper-3.4.5.jar:/root/ephemeral-hdfs/share/hadoop/common/lib/commons-lang-2.6.jar:/root/ephemeral-hdfs/share/hadoop/common/lib/commons-logging-1.1.3.jar:/root/ephemeral-hdfs/share/hadoop/common/lib/commons-io-2.4.jar:/root/ephemeral-hdfs/share/hadoop/common/lib/commons-beanutils-1.7.0.jar:/root/ephemeral-hdfs/share/hadoop/common/lib/servlet-api-2.5.jar:/root/ephemeral-hdfs/share/hadoop/common/lib/jsr305-1.3.9.jar:/root/ephemeral-hdfs/share/hadoop/common/lib/avro-1.7.4.jar:/root/ephemeral-hdfs/share/hadoop/common/lib/junit-4.8.2.jar:/root/ephemeral-hdfs/share/hadoop/common/hadoop-common-2.4.0.jar:/root/ephemeral-hdfs/share/hadoop/common/hadoop-nfs-2.4.0.jar:/root/ephemeral-hdfs/share/hadoop/common/hadoop-common-2.4.0-tests.jar:/root/ephemeral-hdfs/share/hadoop/hdfs:/root/ephemeral-hdfs/share/hadoop/hdfs/lib/asm-3.2.jar:/root/ephemeral-hdfs/share/hadoop/hdfs/lib/jetty-util-6.1.26.jar:/root/ephemeral-hdfs/share/hadoop/hdfs/lib/commons-el-1.0.jar:/root/ephemeral-hdfs/share/hadoop/hdfs/lib/commons-daemon-1.0.13.jar:/root/ephemeral-hdfs/share/hadoop/hdfs/lib/netty-3.6.2.Final.jar:/root/ephemeral-hdfs/share/hadoop/hdfs/lib/commons-cli-1.2.jar:/root/ephemeral-hdfs/share/hadoop/hdfs/lib/jackson-mapper-asl-1.8.8.jar:/root/ephemeral-hdfs/share/hadoop/hdfs/lib/jsp-api-2.1.jar:/root/ephemeral-hdfs/share/hadoop/hdfs/lib/jackson-core-asl-1.8.8.jar:/root/ephemeral-hdfs/share/hadoop/hdfs/lib/log4j-1.2.17.jar:/root/ephemeral-hdfs/share/hadoop/hdfs/lib/xmlenc-0.52.jar:/root/ephemeral-hdfs/share/hadoop/hdfs/lib/jasper-runtime-5.5.23.jar:/root/ephemeral-hdfs/share/hadoop/hdfs/lib/guava-11.0.2.jar:/root/ephemeral-hdfs/share/hadoop/hdfs/lib/commons-codec-1.4.jar:/root/ephemeral-hdfs/share/hadoop/hdfs/lib/jersey-server-1.9.jar:/root/ephemeral-hdfs/share/hadoop/hdfs/lib/jersey-core-1.9.jar:/root/ephemeral-hdfs/share/hadoop/hdfs/lib/protobuf-java-2.5.0.jar:/root/ephemeral-hdfs/share/hadoop/hdfs/lib/jetty-6.1.26.jar:/root/ephemeral-hdfs/share/hadoop/hdfs/lib/commons-lang-2.6.jar:/root/ephemeral-hdfs/share/hadoop/hdfs/lib/commons-logging-1.1.3.jar:/root/ephemeral-hdfs/share/hadoop/hdfs/lib/commons-io-2.4.jar:/root/ephemeral-hdfs/share/hadoop/hdfs/lib/servlet-api-2.5.jar:/root/ephemeral-hdfs/share/hadoop/hdfs/lib/jsr305-1.3.9.jar:/root/ephemeral-hdfs/share/hadoop/hdfs/hadoop-hdfs-nfs-2.4.0.jar:/root/ephemeral-hdfs/share/hadoop/hdfs/hadoop-hdfs-2.4.0-tests.jar:/root/ephemeral-hdfs/share/hadoop/hdfs/hadoop-hdfs-2.4.0.jar:/root/ephemeral-hdfs/share/hadoop/yarn/lib/asm-3.2.jar:/root/ephemeral-hdfs/share/hadoop/yarn/lib/jetty-util-6.1.26.jar:/root/ephemeral-hdfs/share/hadoop/yarn/lib/aopalliance-1.0.jar:/root/ephemeral-hdfs/share/hadoop/yarn/lib/commons-httpclient-3.1.jar:/root/ephemeral-hdfs/share/hadoop/yarn/lib/commons-collections-3.2.1.jar:/root/ephemeral-hdfs/share/hadoop/yarn/lib/jersey-json-1.9.jar:/root/ephemeral-hdfs/share/hadoop/yarn/lib/commons-cli-1.2.jar:/root/ephemeral-hdfs/share/hadoop/yarn/lib/commons-compress-1.4.1.jar:/root/ephemeral-hdfs/share/hadoop/yarn/lib/leveldbjni-all-1.8.jar:/root/ephemeral-hdfs/share/hadoop/yarn/lib/javax.inject-1.jar:/root/ephemeral-hdfs/share/hadoop/yarn/lib/jackson-mapper-asl-1.8.8.jar:/root/ephemeral-hdfs/share/hadoop/yarn/lib/jersey-guice-1.9.jar:/root/ephemeral-hdfs/share/hadoop/yarn/lib/jline-0.9.94.jar:/root/ephemeral-hdfs/share/hadoop/yarn/lib/jackson-core-asl-1.8.8.jar:/root/ephemeral-hdfs/share/hadoop/yarn/lib/stax-api-1.0-2.jar:/root/ephemeral-hdfs/share/hadoop/yarn/lib/jackson-jaxrs-1.8.8.jar:/root/ephemeral-hdfs/share/hadoop/yarn/lib/jaxb-impl-2.2.3-1.jar:/root/ephemeral-hdfs/share/hadoop/yarn/lib/log4j-1.2.17.jar:/root/ephemeral-hdfs/share/hadoop/yarn/lib/guava-11.0.2.jar:/root/ephemeral-hdfs/share/hadoop/yarn/lib/jettison-1.1.jar:/root/ephemeral-hdfs/share/hadoop/yarn/lib/activation-1.1.jar:/root/ephemeral-hdfs/share/hadoop/yarn/lib/commons-codec-1.4.jar:/root/ephemeral-hdfs/share/hadoop/yarn/lib/jaxb-api-2.2.2.jar:/root/ephemeral-hdfs/share/hadoop/yarn/lib/guice-servlet-3.0.jar:/root/ephemeral-hdfs/share/hadoop/yarn/lib/guice-3.0.jar:/root/ephemeral-hdfs/share/hadoop/yarn/lib/xz-1.0.jar:/root/ephemeral-hdfs/share/hadoop/yarn/lib/jersey-client-1.9.jar:/root/ephemeral-hdfs/share/hadoop/yarn/lib/jersey-server-1.9.jar:/root/ephemeral-hdfs/share/hadoop/yarn/lib/jersey-core-1.9.jar:/root/ephemeral-hdfs/share/hadoop/yarn/lib/jackson-xc-1.8.8.jar:/root/ephemeral-hdfs/share/hadoop/yarn/lib/protobuf-java-2.5.0.jar:/root/ephemeral-hdfs/share/hadoop/yarn/lib/jetty-6.1.26.jar:/root/ephemeral-hdfs/share/hadoop/yarn/lib/zookeeper-3.4.5.jar:/root/ephemeral-hdfs/share/hadoop/yarn/lib/commons-lang-2.6.jar:/root/ephemeral-hdfs/share/hadoop/yarn/lib/commons-logging-1.1.3.jar:/root/ephemeral-hdfs/share/hadoop/yarn/lib/commons-io-2.4.jar:/root/ephemeral-hdfs/share/hadoop/yarn/lib/servlet-api-2.5.jar:/root/ephemeral-hdfs/share/hadoop/yarn/lib/jsr305-1.3.9.jar:/root/ephemeral-hdfs/share/hadoop/yarn/hadoop-yarn-server-nodemanager-2.4.0.jar:/root/ephemeral-hdfs/share/hadoop/yarn/hadoop-yarn-applications-distributedshell-2.4.0.jar:/root/ephemeral-hdfs/share/hadoop/yarn/hadoop-yarn-common-2.4.0.jar:/root/ephemeral-hdfs/share/hadoop/yarn/hadoop-yarn-server-common-2.4.0.jar:/root/ephemeral-hdfs/share/hadoop/yarn/hadoop-yarn-server-web-proxy-2.4.0.jar:/root/ephemeral-hdfs/share/hadoop/yarn/hadoop-yarn-server-tests-2.4.0.jar:/root/ephemeral-hdfs/share/hadoop/yarn/hadoop-yarn-api-2.4.0.jar:/root/ephemeral-hdfs/share/hadoop/yarn/hadoop-yarn-applications-unmanaged-am-launcher-2.4.0.jar:/root/ephemeral-hdfs/share/hadoop/yarn/hadoop-yarn-server-applicationhistoryservice-2.4.0.jar:/root/ephemeral-hdfs/share/hadoop/yarn/hadoop-yarn-client-2.4.0.jar:/root/ephemeral-hdfs/share/hadoop/yarn/hadoop-yarn-server-resourcemanager-2.4.0.jar:/root/ephemeral-hdfs/share/hadoop/mapreduce/lib/asm-3.2.jar:/root/ephemeral-hdfs/share/hadoop/mapreduce/lib/aopalliance-1.0.jar:/root/ephemeral-hdfs/share/hadoop/mapreduce/lib/netty-3.6.2.Final.jar:/root/ephemeral-hdfs/share/hadoop/mapreduce/lib/commons-compress-1.4.1.jar:/root/ephemeral-hdfs/share/hadoop/mapreduce/lib/snappy-java-1.0.4.1.jar:/root/ephemeral-hdfs/share/hadoop/mapreduce/lib/hamcrest-core-1.1.jar:/root/ephemeral-hdfs/share/hadoop/mapreduce/lib/javax.inject-1.jar:/root/ephemeral-hdfs/share/hadoop/mapreduce/lib/jackson-mapper-asl-1.8.8.jar:/root/ephemeral-hdfs/share/hadoop/mapreduce/lib/junit-4.10.jar:/root/ephemeral-hdfs/share/hadoop/mapreduce/lib/jersey-guice-1.9.jar:/root/ephemeral-hdfs/share/hadoop/mapreduce/lib/jackson-core-asl-1.8.8.jar:/root/ephemeral-hdfs/share/hadoop/mapreduce/lib/log4j-1.2.17.jar:/root/ephemeral-hdfs/share/hadoop/mapreduce/lib/paranamer-2.3.jar:/root/ephemeral-hdfs/share/hadoop/mapreduce/lib/guice-servlet-3.0.jar:/root/ephemeral-hdfs/share/hadoop/mapreduce/lib/guice-3.0.jar:/root/ephemeral-hdfs/share/hadoop/mapreduce/lib/xz-1.0.jar:/root/ephemeral-hdfs/share/hadoop/mapreduce/lib/hadoop-annotations-2.4.0.jar:/root/ephemeral-hdfs/share/hadoop/mapreduce/lib/jersey-server-1.9.jar:/root/ephemeral-hdfs/share/hadoop/mapreduce/lib/jersey-core-1.9.jar:/root/ephemeral-hdfs/share/hadoop/mapreduce/lib/protobuf-java-2.5.0.jar:/root/ephemeral-hdfs/share/hadoop/mapreduce/lib/commons-io-2.4.jar:/root/ephemeral-hdfs/share/hadoop/mapreduce/lib/avro-1.7.4.jar:/root/ephemeral-hdfs/share/hadoop/mapreduce/hadoop-mapreduce-examples-2.4.0.jar:/root/ephemeral-hdfs/share/hadoop/mapreduce/hadoop-mapreduce-client-shuffle-2.4.0.jar:/root/ephemeral-hdfs/share/hadoop/mapreduce/hadoop-mapreduce-client-hs-2.4.0.jar:/root/ephemeral-hdfs/share/hadoop/mapreduce/hadoop-mapreduce-client-common-2.4.0.jar:/root/ephemeral-hdfs/share/hadoop/mapreduce/hadoop-mapreduce-client-jobclient-2.4.0-tests.jar:/root/ephemeral-hdfs/share/hadoop/mapreduce/hadoop-mapreduce-client-jobclient-2.4.0.jar:/root/ephemeral-hdfs/share/hadoop/mapreduce/hadoop-mapreduce-client-app-2.4.0.jar:/root/ephemeral-hdfs/share/hadoop/mapreduce/hadoop-mapreduce-client-hs-plugins-2.4.0.jar:/root/ephemeral-hdfs/share/hadoop/mapreduce/hadoop-mapreduce-client-core-2.4.0.jar:/root/ephemeral-hdfs/share/hadoop/yarn/hadoop-yarn-server-nodemanager-2.4.0.jar:/root/ephemeral-hdfs/share/hadoop/yarn/hadoop-yarn-applications-distributedshell-2.4.0.jar:/root/ephemeral-hdfs/share/hadoop/yarn/hadoop-yarn-common-2.4.0.jar:/root/ephemeral-hdfs/share/hadoop/yarn/hadoop-yarn-server-common-2.4.0.jar:/root/ephemeral-hdfs/share/hadoop/yarn/hadoop-yarn-server-web-proxy-2.4.0.jar:/root/ephemeral-hdfs/share/hadoop/yarn/hadoop-yarn-server-tests-2.4.0.jar:/root/ephemeral-hdfs/share/hadoop/yarn/hadoop-yarn-api-2.4.0.jar:/root/ephemeral-hdfs/share/hadoop/yarn/hadoop-yarn-applications-unmanaged-am-launcher-2.4.0.jar:/root/ephemeral-hdfs/share/hadoop/yarn/hadoop-yarn-server-applicationhistoryservice-2.4.0.jar:/root/ephemeral-hdfs/share/hadoop/yarn/hadoop-yarn-client-2.4.0.jar:/root/ephemeral-hdfs/share/hadoop/yarn/hadoop-yarn-server-resourcemanager-2.4.0.jar:/root/ephemeral-hdfs/share/hadoop/yarn/lib/asm-3.2.jar:/root/ephemeral-hdfs/share/hadoop/yarn/lib/jetty-util-6.1.26.jar:/root/ephemeral-hdfs/share/hadoop/yarn/lib/aopalliance-1.0.jar:/root/ephemeral-hdfs/share/hadoop/yarn/lib/commons-httpclient-3.1.jar:/root/ephemeral-hdfs/share/hadoop/yarn/lib/commons-collections-3.2.1.jar:/root/ephemeral-hdfs/share/hadoop/yarn/lib/jersey-json-1.9.jar:/root/ephemeral-hdfs/share/hadoop/yarn/lib/commons-cli-1.2.jar:/root/ephemeral-hdfs/share/hadoop/yarn/lib/commons-compress-1.4.1.jar:/root/ephemeral-hdfs/share/hadoop/yarn/lib/leveldbjni-all-1.8.jar:/root/ephemeral-hdfs/share/hadoop/yarn/lib/javax.inject-1.jar:/root/ephemeral-hdfs/share/hadoop/yarn/lib/jackson-mapper-asl-1.8.8.jar:/root/ephemeral-hdfs/share/hadoop/yarn/lib/jersey-guice-1.9.jar:/root/ephemeral-hdfs/share/hadoop/yarn/lib/jline-0.9.94.jar:/root/ephemeral-hdfs/share/hadoop/yarn/lib/jackson-core-asl-1.8.8.jar:/root/ephemeral-hdfs/share/hadoop/yarn/lib/stax-api-1.0-2.jar:/root/ephemeral-hdfs/share/hadoop/yarn/lib/jackson-jaxrs-1.8.8.jar:/root/ephemeral-hdfs/share/hadoop/yarn/lib/jaxb-impl-2.2.3-1.jar:/root/ephemeral-hdfs/share/hadoop/yarn/lib/log4j-1.2.17.jar:/root/ephemeral-hdfs/share/hadoop/yarn/lib/guava-11.0.2.jar:/root/ephemeral-hdfs/share/hadoop/yarn/lib/jettison-1.1.jar:/root/ephemeral-hdfs/share/hadoop/yarn/lib/activation-1.1.jar:/root/ephemeral-hdfs/share/hadoop/yarn/lib/commons-codec-1.4.jar:/root/ephemeral-hdfs/share/hadoop/yarn/lib/jaxb-api-2.2.2.jar:/root/ephemeral-hdfs/share/hadoop/yarn/lib/guice-servlet-3.0.jar:/root/ephemeral-hdfs/share/hadoop/yarn/lib/guice-3.0.jar:/root/ephemeral-hdfs/share/hadoop/yarn/lib/xz-1.0.jar:/root/ephemeral-hdfs/share/hadoop/yarn/lib/jersey-client-1.9.jar:/root/ephemeral-hdfs/share/hadoop/yarn/lib/jersey-server-1.9.jar:/root/ephemeral-hdfs/share/hadoop/yarn/lib/jersey-core-1.9.jar:/root/ephemeral-hdfs/share/hadoop/yarn/lib/jackson-xc-1.8.8.jar:/root/ephemeral-hdfs/share/hadoop/yarn/lib/protobuf-java-2.5.0.jar:/root/ephemeral-hdfs/share/hadoop/yarn/lib/jetty-6.1.26.jar:/root/ephemeral-hdfs/share/hadoop/yarn/lib/zookeeper-3.4.5.jar:/root/ephemeral-hdfs/share/hadoop/yarn/lib/commons-lang-2.6.jar:/root/ephemeral-hdfs/share/hadoop/yarn/lib/commons-logging-1.1.3.jar:/root/ephemeral-hdfs/share/hadoop/yarn/lib/commons-io-2.4.jar:/root/ephemeral-hdfs/share/hadoop/yarn/lib/servlet-api-2.5.jar:/root/ephemeral-hdfs/share/hadoop/yarn/lib/jsr305-1.3.9.jar:/root/ephemeral-hdfs/conf/nm-config/log4j.properties\n",
    "ec2-34-221-154-40.us-west-2.compute.amazonaws.com: STARTUP_MSG:   build = http://svn.apache.org/repos/asf/hadoop/common -r 1583262; compiled by 'jenkins' on 2014-03-31T08:29Z\n",
    "ec2-34-221-154-40.us-west-2.compute.amazonaws.com: STARTUP_MSG:   java = 1.7.0_181\n",
    "ec2-34-221-154-40.us-west-2.compute.amazonaws.com: ************************************************************/\n",
    "[timing] ephemeral-hdfs setup:  00h 00m 33s\n",
    "Setting up persistent-hdfs\n",
    "Pseudo-terminal will not be allocated because stdin is not a terminal.\n",
    "RSYNC'ing /root/persistent-hdfs/conf to slaves...\n",
    "ec2-34-221-154-40.us-west-2.compute.amazonaws.com\n",
    "Formatting persistent HDFS namenode...\n",
    "DEPRECATED: Use of this script to execute hdfs command is deprecated.\n",
    "Instead use the hdfs command for it.\n",
    "\n",
    "2018-07-31 15:45:28,976 INFO  [main] namenode.NameNode (StringUtils.java:startupShutdownMessage(614)) - STARTUP_MSG: \n",
    "/************************************************************\n",
    "STARTUP_MSG: Starting NameNode\n",
    "STARTUP_MSG:   host = ip-172-31-35-21.us-west-2.compute.internal/172.31.35.21\n",
    "STARTUP_MSG:   args = [-format]\n",
    "STARTUP_MSG:   version = 2.4.0\n",
    "STARTUP_MSG:   classpath = /root/persistent-hdfs/conf:/root/persistent-hdfs/share/hadoop/common/lib/asm-3.2.jar:/root/persistent-hdfs/share/hadoop/common/lib/jetty-util-6.1.26.jar:/root/persistent-hdfs/share/hadoop/common/lib/commons-el-1.0.jar:/root/persistent-hdfs/share/hadoop/common/lib/commons-beanutils-core-1.8.0.jar:/root/persistent-hdfs/share/hadoop/common/lib/commons-httpclient-3.1.jar:/root/persistent-hdfs/share/hadoop/common/lib/commons-collections-3.2.1.jar:/root/persistent-hdfs/share/hadoop/common/lib/netty-3.6.2.Final.jar:/root/persistent-hdfs/share/hadoop/common/lib/jersey-json-1.9.jar:/root/persistent-hdfs/share/hadoop/common/lib/commons-cli-1.2.jar:/root/persistent-hdfs/share/hadoop/common/lib/commons-compress-1.4.1.jar:/root/persistent-hdfs/share/hadoop/common/lib/jets3t-0.9.0.jar:/root/persistent-hdfs/share/hadoop/common/lib/snappy-java-1.0.4.1.jar:/root/persistent-hdfs/share/hadoop/common/lib/slf4j-log4j12-1.7.5.jar:/root/persistent-hdfs/share/hadoop/common/lib/httpclient-4.2.5.jar:/root/persistent-hdfs/share/hadoop/common/lib/jackson-mapper-asl-1.8.8.jar:/root/persistent-hdfs/share/hadoop/common/lib/jsp-api-2.1.jar:/root/persistent-hdfs/share/hadoop/common/lib/hadoop-auth-2.4.0.jar:/root/persistent-hdfs/share/hadoop/common/lib/jasper-compiler-5.5.23.jar:/root/persistent-hdfs/share/hadoop/common/lib/slf4j-api-1.7.5.jar:/root/persistent-hdfs/share/hadoop/common/lib/jackson-core-asl-1.8.8.jar:/root/persistent-hdfs/share/hadoop/common/lib/mockito-all-1.8.5.jar:/root/persistent-hdfs/share/hadoop/common/lib/stax-api-1.0-2.jar:/root/persistent-hdfs/share/hadoop/common/lib/jackson-jaxrs-1.8.8.jar:/root/persistent-hdfs/share/hadoop/common/lib/jaxb-impl-2.2.3-1.jar:/root/persistent-hdfs/share/hadoop/common/lib/log4j-1.2.17.jar:/root/persistent-hdfs/share/hadoop/common/lib/xmlenc-0.52.jar:/root/persistent-hdfs/share/hadoop/common/lib/jasper-runtime-5.5.23.jar:/root/persistent-hdfs/share/hadoop/common/lib/guava-11.0.2.jar:/root/persistent-hdfs/share/hadoop/common/lib/jettison-1.1.jar:/root/persistent-hdfs/share/hadoop/common/lib/activation-1.1.jar:/root/persistent-hdfs/share/hadoop/common/lib/commons-codec-1.4.jar:/root/persistent-hdfs/share/hadoop/common/lib/paranamer-2.3.jar:/root/persistent-hdfs/share/hadoop/common/lib/jaxb-api-2.2.2.jar:/root/persistent-hdfs/share/hadoop/common/lib/commons-digester-1.8.jar:/root/persistent-hdfs/share/hadoop/common/lib/commons-math3-3.1.1.jar:/root/persistent-hdfs/share/hadoop/common/lib/commons-configuration-1.6.jar:/root/persistent-hdfs/share/hadoop/common/lib/jsch-0.1.42.jar:/root/persistent-hdfs/share/hadoop/common/lib/xz-1.0.jar:/root/persistent-hdfs/share/hadoop/common/lib/commons-net-3.1.jar:/root/persistent-hdfs/share/hadoop/common/lib/httpcore-4.2.5.jar:/root/persistent-hdfs/share/hadoop/common/lib/hadoop-annotations-2.4.0.jar:/root/persistent-hdfs/share/hadoop/common/lib/jersey-server-1.9.jar:/root/persistent-hdfs/share/hadoop/common/lib/jersey-core-1.9.jar:/root/persistent-hdfs/share/hadoop/common/lib/java-xmlbuilder-0.4.jar:/root/persistent-hdfs/share/hadoop/common/lib/jackson-xc-1.8.8.jar:/root/persistent-hdfs/share/hadoop/common/lib/protobuf-java-2.5.0.jar:/root/persistent-hdfs/share/hadoop/common/lib/jetty-6.1.26.jar:/root/persistent-hdfs/share/hadoop/common/lib/zookeeper-3.4.5.jar:/root/persistent-hdfs/share/hadoop/common/lib/commons-lang-2.6.jar:/root/persistent-hdfs/share/hadoop/common/lib/commons-logging-1.1.3.jar:/root/persistent-hdfs/share/hadoop/common/lib/commons-io-2.4.jar:/root/persistent-hdfs/share/hadoop/common/lib/commons-beanutils-1.7.0.jar:/root/persistent-hdfs/share/hadoop/common/lib/servlet-api-2.5.jar:/root/persistent-hdfs/share/hadoop/common/lib/jsr305-1.3.9.jar:/root/persistent-hdfs/share/hadoop/common/lib/avro-1.7.4.jar:/root/persistent-hdfs/share/hadoop/common/lib/junit-4.8.2.jar:/root/persistent-hdfs/share/hadoop/common/hadoop-common-2.4.0.jar:/root/persistent-hdfs/share/hadoop/common/hadoop-nfs-2.4.0.jar:/root/persistent-hdfs/share/hadoop/common/hadoop-common-2.4.0-tests.jar:/root/persistent-hdfs/share/hadoop/hdfs:/root/persistent-hdfs/share/hadoop/hdfs/lib/asm-3.2.jar:/root/persistent-hdfs/share/hadoop/hdfs/lib/jetty-util-6.1.26.jar:/root/persistent-hdfs/share/hadoop/hdfs/lib/commons-el-1.0.jar:/root/persistent-hdfs/share/hadoop/hdfs/lib/commons-daemon-1.0.13.jar:/root/persistent-hdfs/share/hadoop/hdfs/lib/netty-3.6.2.Final.jar:/root/persistent-hdfs/share/hadoop/hdfs/lib/commons-cli-1.2.jar:/root/persistent-hdfs/share/hadoop/hdfs/lib/jackson-mapper-asl-1.8.8.jar:/root/persistent-hdfs/share/hadoop/hdfs/lib/jsp-api-2.1.jar:/root/persistent-hdfs/share/hadoop/hdfs/lib/jackson-core-asl-1.8.8.jar:/root/persistent-hdfs/share/hadoop/hdfs/lib/log4j-1.2.17.jar:/root/persistent-hdfs/share/hadoop/hdfs/lib/xmlenc-0.52.jar:/root/persistent-hdfs/share/hadoop/hdfs/lib/jasper-runtime-5.5.23.jar:/root/persistent-hdfs/share/hadoop/hdfs/lib/guava-11.0.2.jar:/root/persistent-hdfs/share/hadoop/hdfs/lib/commons-codec-1.4.jar:/root/persistent-hdfs/share/hadoop/hdfs/lib/jersey-server-1.9.jar:/root/persistent-hdfs/share/hadoop/hdfs/lib/jersey-core-1.9.jar:/root/persistent-hdfs/share/hadoop/hdfs/lib/protobuf-java-2.5.0.jar:/root/persistent-hdfs/share/hadoop/hdfs/lib/jetty-6.1.26.jar:/root/persistent-hdfs/share/hadoop/hdfs/lib/commons-lang-2.6.jar:/root/persistent-hdfs/share/hadoop/hdfs/lib/commons-logging-1.1.3.jar:/root/persistent-hdfs/share/hadoop/hdfs/lib/commons-io-2.4.jar:/root/persistent-hdfs/share/hadoop/hdfs/lib/servlet-api-2.5.jar:/root/persistent-hdfs/share/hadoop/hdfs/lib/jsr305-1.3.9.jar:/root/persistent-hdfs/share/hadoop/hdfs/hadoop-hdfs-nfs-2.4.0.jar:/root/persistent-hdfs/share/hadoop/hdfs/hadoop-hdfs-2.4.0-tests.jar:/root/persistent-hdfs/share/hadoop/hdfs/hadoop-hdfs-2.4.0.jar:/root/persistent-hdfs/share/hadoop/yarn/lib/asm-3.2.jar:/root/persistent-hdfs/share/hadoop/yarn/lib/jetty-util-6.1.26.jar:/root/persistent-hdfs/share/hadoop/yarn/lib/aopalliance-1.0.jar:/root/persistent-hdfs/share/hadoop/yarn/lib/commons-httpclient-3.1.jar:/root/persistent-hdfs/share/hadoop/yarn/lib/commons-collections-3.2.1.jar:/root/persistent-hdfs/share/hadoop/yarn/lib/jersey-json-1.9.jar:/root/persistent-hdfs/share/hadoop/yarn/lib/commons-cli-1.2.jar:/root/persistent-hdfs/share/hadoop/yarn/lib/commons-compress-1.4.1.jar:/root/persistent-hdfs/share/hadoop/yarn/lib/leveldbjni-all-1.8.jar:/root/persistent-hdfs/share/hadoop/yarn/lib/javax.inject-1.jar:/root/persistent-hdfs/share/hadoop/yarn/lib/jackson-mapper-asl-1.8.8.jar:/root/persistent-hdfs/share/hadoop/yarn/lib/jersey-guice-1.9.jar:/root/persistent-hdfs/share/hadoop/yarn/lib/jline-0.9.94.jar:/root/persistent-hdfs/share/hadoop/yarn/lib/jackson-core-asl-1.8.8.jar:/root/persistent-hdfs/share/hadoop/yarn/lib/stax-api-1.0-2.jar:/root/persistent-hdfs/share/hadoop/yarn/lib/jackson-jaxrs-1.8.8.jar:/root/persistent-hdfs/share/hadoop/yarn/lib/jaxb-impl-2.2.3-1.jar:/root/persistent-hdfs/share/hadoop/yarn/lib/log4j-1.2.17.jar:/root/persistent-hdfs/share/hadoop/yarn/lib/guava-11.0.2.jar:/root/persistent-hdfs/share/hadoop/yarn/lib/jettison-1.1.jar:/root/persistent-hdfs/share/hadoop/yarn/lib/activation-1.1.jar:/root/persistent-hdfs/share/hadoop/yarn/lib/commons-codec-1.4.jar:/root/persistent-hdfs/share/hadoop/yarn/lib/jaxb-api-2.2.2.jar:/root/persistent-hdfs/share/hadoop/yarn/lib/guice-servlet-3.0.jar:/root/persistent-hdfs/share/hadoop/yarn/lib/guice-3.0.jar:/root/persistent-hdfs/share/hadoop/yarn/lib/xz-1.0.jar:/root/persistent-hdfs/share/hadoop/yarn/lib/jersey-client-1.9.jar:/root/persistent-hdfs/share/hadoop/yarn/lib/jersey-server-1.9.jar:/root/persistent-hdfs/share/hadoop/yarn/lib/jersey-core-1.9.jar:/root/persistent-hdfs/share/hadoop/yarn/lib/jackson-xc-1.8.8.jar:/root/persistent-hdfs/share/hadoop/yarn/lib/protobuf-java-2.5.0.jar:/root/persistent-hdfs/share/hadoop/yarn/lib/jetty-6.1.26.jar:/root/persistent-hdfs/share/hadoop/yarn/lib/zookeeper-3.4.5.jar:/root/persistent-hdfs/share/hadoop/yarn/lib/commons-lang-2.6.jar:/root/persistent-hdfs/share/hadoop/yarn/lib/commons-logging-1.1.3.jar:/root/persistent-hdfs/share/hadoop/yarn/lib/commons-io-2.4.jar:/root/persistent-hdfs/share/hadoop/yarn/lib/servlet-api-2.5.jar:/root/persistent-hdfs/share/hadoop/yarn/lib/jsr305-1.3.9.jar:/root/persistent-hdfs/share/hadoop/yarn/hadoop-yarn-server-nodemanager-2.4.0.jar:/root/persistent-hdfs/share/hadoop/yarn/hadoop-yarn-applications-distributedshell-2.4.0.jar:/root/persistent-hdfs/share/hadoop/yarn/hadoop-yarn-common-2.4.0.jar:/root/persistent-hdfs/share/hadoop/yarn/hadoop-yarn-server-common-2.4.0.jar:/root/persistent-hdfs/share/hadoop/yarn/hadoop-yarn-server-web-proxy-2.4.0.jar:/root/persistent-hdfs/share/hadoop/yarn/hadoop-yarn-server-tests-2.4.0.jar:/root/persistent-hdfs/share/hadoop/yarn/hadoop-yarn-api-2.4.0.jar:/root/persistent-hdfs/share/hadoop/yarn/hadoop-yarn-applications-unmanaged-am-launcher-2.4.0.jar:/root/persistent-hdfs/share/hadoop/yarn/hadoop-yarn-server-applicationhistoryservice-2.4.0.jar:/root/persistent-hdfs/share/hadoop/yarn/hadoop-yarn-client-2.4.0.jar:/root/persistent-hdfs/share/hadoop/yarn/hadoop-yarn-server-resourcemanager-2.4.0.jar:/root/persistent-hdfs/share/hadoop/mapreduce/lib/asm-3.2.jar:/root/persistent-hdfs/share/hadoop/mapreduce/lib/aopalliance-1.0.jar:/root/persistent-hdfs/share/hadoop/mapreduce/lib/netty-3.6.2.Final.jar:/root/persistent-hdfs/share/hadoop/mapreduce/lib/commons-compress-1.4.1.jar:/root/persistent-hdfs/share/hadoop/mapreduce/lib/snappy-java-1.0.4.1.jar:/root/persistent-hdfs/share/hadoop/mapreduce/lib/hamcrest-core-1.1.jar:/root/persistent-hdfs/share/hadoop/mapreduce/lib/javax.inject-1.jar:/root/persistent-hdfs/share/hadoop/mapreduce/lib/jackson-mapper-asl-1.8.8.jar:/root/persistent-hdfs/share/hadoop/mapreduce/lib/junit-4.10.jar:/root/persistent-hdfs/share/hadoop/mapreduce/lib/jersey-guice-1.9.jar:/root/persistent-hdfs/share/hadoop/mapreduce/lib/jackson-core-asl-1.8.8.jar:/root/persistent-hdfs/share/hadoop/mapreduce/lib/log4j-1.2.17.jar:/root/persistent-hdfs/share/hadoop/mapreduce/lib/paranamer-2.3.jar:/root/persistent-hdfs/share/hadoop/mapreduce/lib/guice-servlet-3.0.jar:/root/persistent-hdfs/share/hadoop/mapreduce/lib/guice-3.0.jar:/root/persistent-hdfs/share/hadoop/mapreduce/lib/xz-1.0.jar:/root/persistent-hdfs/share/hadoop/mapreduce/lib/hadoop-annotations-2.4.0.jar:/root/persistent-hdfs/share/hadoop/mapreduce/lib/jersey-server-1.9.jar:/root/persistent-hdfs/share/hadoop/mapreduce/lib/jersey-core-1.9.jar:/root/persistent-hdfs/share/hadoop/mapreduce/lib/protobuf-java-2.5.0.jar:/root/persistent-hdfs/share/hadoop/mapreduce/lib/commons-io-2.4.jar:/root/persistent-hdfs/share/hadoop/mapreduce/lib/avro-1.7.4.jar:/root/persistent-hdfs/share/hadoop/mapreduce/hadoop-mapreduce-examples-2.4.0.jar:/root/persistent-hdfs/share/hadoop/mapreduce/hadoop-mapreduce-client-shuffle-2.4.0.jar:/root/persistent-hdfs/share/hadoop/mapreduce/hadoop-mapreduce-client-hs-2.4.0.jar:/root/persistent-hdfs/share/hadoop/mapreduce/hadoop-mapreduce-client-common-2.4.0.jar:/root/persistent-hdfs/share/hadoop/mapreduce/hadoop-mapreduce-client-jobclient-2.4.0-tests.jar:/root/persistent-hdfs/share/hadoop/mapreduce/hadoop-mapreduce-client-jobclient-2.4.0.jar:/root/persistent-hdfs/share/hadoop/mapreduce/hadoop-mapreduce-client-app-2.4.0.jar:/root/persistent-hdfs/share/hadoop/mapreduce/hadoop-mapreduce-client-hs-plugins-2.4.0.jar:/root/persistent-hdfs/share/hadoop/mapreduce/hadoop-mapreduce-client-core-2.4.0.jar\n",
    "STARTUP_MSG:   build = http://svn.apache.org/repos/asf/hadoop/common -r 1583262; compiled by 'jenkins' on 2014-03-31T08:29Z\n",
    "STARTUP_MSG:   java = 1.7.0_181\n",
    "************************************************************/\n",
    "2018-07-31 15:45:28,987 INFO  [main] namenode.NameNode (SignalLogger.java:register(91)) - registered UNIX signal handlers for [TERM, HUP, INT]\n",
    "2018-07-31 15:45:28,996 INFO  [main] namenode.NameNode (NameNode.java:createNameNode(1244)) - createNameNode [-format]\n",
    "Formatting using clusterid: CID-98ff30ad-2415-49bd-a878-1411d3df1672\n",
    "2018-07-31 15:45:30,406 INFO  [main] namenode.FSNamesystem (FSNamesystem.java:<init>(677)) - fsLock is fair:true\n",
    "2018-07-31 15:45:30,455 INFO  [main] namenode.HostFileManager (HostFileManager.java:refresh(304)) - read includes:\n",
    "HostSet(\n",
    ")\n",
    "2018-07-31 15:45:30,455 INFO  [main] namenode.HostFileManager (HostFileManager.java:refresh(311)) - read excludes:\n",
    "HostSet(\n",
    ")\n",
    "2018-07-31 15:45:30,460 INFO  [main] blockmanagement.DatanodeManager (DatanodeManager.java:<init>(234)) - dfs.block.invalidate.limit=1000\n",
    "2018-07-31 15:45:30,460 INFO  [main] blockmanagement.DatanodeManager (DatanodeManager.java:<init>(240)) - dfs.namenode.datanode.registration.ip-hostname-check=true\n",
    "2018-07-31 15:45:30,462 INFO  [main] util.GSet (LightWeightGSet.java:computeCapacity(354)) - Computing capacity for map BlocksMap\n",
    "2018-07-31 15:45:30,462 INFO  [main] util.GSet (LightWeightGSet.java:computeCapacity(355)) - VM type       = 64-bit\n",
    "2018-07-31 15:45:30,465 INFO  [main] util.GSet (LightWeightGSet.java:computeCapacity(356)) - 2.0% max memory 966.7 MB = 19.3 MB\n",
    "2018-07-31 15:45:30,465 INFO  [main] util.GSet (LightWeightGSet.java:computeCapacity(361)) - capacity      = 2^21 = 2097152 entries\n",
    "2018-07-31 15:45:30,520 INFO  [main] blockmanagement.BlockManager (BlockManager.java:createBlockTokenSecretManager(348)) - dfs.block.access.token.enable=false\n",
    "2018-07-31 15:45:30,526 INFO  [main] blockmanagement.BlockManager (BlockManager.java:<init>(333)) - defaultReplication         = 2\n",
    "2018-07-31 15:45:30,526 INFO  [main] blockmanagement.BlockManager (BlockManager.java:<init>(334)) - maxReplication             = 512\n",
    "2018-07-31 15:45:30,526 INFO  [main] blockmanagement.BlockManager (BlockManager.java:<init>(335)) - minReplication             = 1\n",
    "2018-07-31 15:45:30,531 INFO  [main] blockmanagement.BlockManager (BlockManager.java:<init>(336)) - maxReplicationStreams      = 2\n",
    "2018-07-31 15:45:30,531 INFO  [main] blockmanagement.BlockManager (BlockManager.java:<init>(337)) - shouldCheckForEnoughRacks  = false\n",
    "2018-07-31 15:45:30,531 INFO  [main] blockmanagement.BlockManager (BlockManager.java:<init>(338)) - replicationRecheckInterval = 3000\n",
    "2018-07-31 15:45:30,531 INFO  [main] blockmanagement.BlockManager (BlockManager.java:<init>(339)) - encryptDataTransfer        = false\n",
    "2018-07-31 15:45:30,531 INFO  [main] blockmanagement.BlockManager (BlockManager.java:<init>(340)) - maxNumBlocksToLog          = 1000\n",
    "2018-07-31 15:45:30,536 INFO  [main] namenode.FSNamesystem (FSNamesystem.java:<init>(694)) - fsOwner             = root (auth:SIMPLE)\n",
    "2018-07-31 15:45:30,536 INFO  [main] namenode.FSNamesystem (FSNamesystem.java:<init>(695)) - supergroup          = supergroup\n",
    "2018-07-31 15:45:30,536 INFO  [main] namenode.FSNamesystem (FSNamesystem.java:<init>(696)) - isPermissionEnabled = false\n",
    "2018-07-31 15:45:30,537 INFO  [main] namenode.FSNamesystem (FSNamesystem.java:<init>(707)) - HA Enabled: false\n",
    "2018-07-31 15:45:30,540 INFO  [main] namenode.FSNamesystem (FSNamesystem.java:<init>(744)) - Append Enabled: true\n",
    "2018-07-31 15:45:30,625 INFO  [main] util.GSet (LightWeightGSet.java:computeCapacity(354)) - Computing capacity for map INodeMap\n",
    "2018-07-31 15:45:30,626 INFO  [main] util.GSet (LightWeightGSet.java:computeCapacity(355)) - VM type       = 64-bit\n",
    "2018-07-31 15:45:30,626 INFO  [main] util.GSet (LightWeightGSet.java:computeCapacity(356)) - 1.0% max memory 966.7 MB = 9.7 MB\n",
    "2018-07-31 15:45:30,626 INFO  [main] util.GSet (LightWeightGSet.java:computeCapacity(361)) - capacity      = 2^20 = 1048576 entries\n",
    "2018-07-31 15:45:30,628 INFO  [main] namenode.NameNode (FSDirectory.java:<init>(203)) - Caching file names occuring more than 10 times\n",
    "2018-07-31 15:45:30,641 INFO  [main] util.GSet (LightWeightGSet.java:computeCapacity(354)) - Computing capacity for map cachedBlocks\n",
    "2018-07-31 15:45:30,641 INFO  [main] util.GSet (LightWeightGSet.java:computeCapacity(355)) - VM type       = 64-bit\n",
    "2018-07-31 15:45:30,642 INFO  [main] util.GSet (LightWeightGSet.java:computeCapacity(356)) - 0.25% max memory 966.7 MB = 2.4 MB\n",
    "2018-07-31 15:45:30,642 INFO  [main] util.GSet (LightWeightGSet.java:computeCapacity(361)) - capacity      = 2^18 = 262144 entries\n",
    "2018-07-31 15:45:30,643 INFO  [main] namenode.FSNamesystem (FSNamesystem.java:<init>(4694)) - dfs.namenode.safemode.threshold-pct = 0.9990000128746033\n",
    "2018-07-31 15:45:30,643 INFO  [main] namenode.FSNamesystem (FSNamesystem.java:<init>(4695)) - dfs.namenode.safemode.min.datanodes = 0\n",
    "2018-07-31 15:45:30,643 INFO  [main] namenode.FSNamesystem (FSNamesystem.java:<init>(4696)) - dfs.namenode.safemode.extension     = 30000\n",
    "2018-07-31 15:45:30,644 INFO  [main] namenode.FSNamesystem (FSNamesystem.java:initRetryCache(816)) - Retry cache on namenode is enabled\n",
    "2018-07-31 15:45:30,645 INFO  [main] namenode.FSNamesystem (FSNamesystem.java:initRetryCache(824)) - Retry cache will use 0.03 of total heap and retry cache entry expiry time is 600000 millis\n",
    "2018-07-31 15:45:30,667 INFO  [main] util.GSet (LightWeightGSet.java:computeCapacity(354)) - Computing capacity for map NameNodeRetryCache\n",
    "2018-07-31 15:45:30,667 INFO  [main] util.GSet (LightWeightGSet.java:computeCapacity(355)) - VM type       = 64-bit\n",
    "2018-07-31 15:45:30,667 INFO  [main] util.GSet (LightWeightGSet.java:computeCapacity(356)) - 0.029999999329447746% max memory 966.7 MB = 297.0 KB\n",
    "2018-07-31 15:45:30,668 INFO  [main] util.GSet (LightWeightGSet.java:computeCapacity(361)) - capacity      = 2^15 = 32768 entries\n",
    "2018-07-31 15:45:30,673 INFO  [main] namenode.AclConfigFlag (AclConfigFlag.java:<init>(40)) - ACLs enabled? false\n",
    "2018-07-31 15:45:30,798 INFO  [main] namenode.FSImage (FSImage.java:format(145)) - Allocated new BlockPoolId: BP-1318445981-172.31.35.21-1533051930684\n",
    "2018-07-31 15:45:30,809 INFO  [main] common.Storage (NNStorage.java:format(550)) - Storage directory /vol/persistent-hdfs/dfs/name has been successfully formatted.\n",
    "2018-07-31 15:45:30,965 INFO  [main] namenode.NNStorageRetentionManager (NNStorageRetentionManager.java:getImageTxIdToRetain(201)) - Going to retain 1 images with txid >= 0\n",
    "2018-07-31 15:45:30,967 INFO  [main] util.ExitUtil (ExitUtil.java:terminate(124)) - Exiting with status 0\n",
    "2018-07-31 15:45:30,968 INFO  [Thread-2] namenode.NameNode (StringUtils.java:run(640)) - SHUTDOWN_MSG: \n",
    "/************************************************************\n",
    "SHUTDOWN_MSG: Shutting down NameNode at ip-172-31-35-21.us-west-2.compute.internal/172.31.35.21\n",
    "************************************************************/\n",
    "Persistent HDFS installed, won't start by default...\n",
    "[timing] persistent-hdfs setup:  00h 00m 06s\n",
    "Setting up mapreduce\n",
    "Pseudo-terminal will not be allocated because stdin is not a terminal.\n",
    "RSYNC'ing /root/mapreduce/conf to slaves...\n",
    "ec2-34-221-154-40.us-west-2.compute.amazonaws.com\n",
    "[timing] mapreduce setup:  00h 00m 01s\n",
    "Setting up spark-standalone\n",
    "RSYNC'ing /root/spark/conf to slaves...\n",
    "ec2-34-221-154-40.us-west-2.compute.amazonaws.com\n",
    "RSYNC'ing /root/spark-ec2 to slaves...\n",
    "ec2-34-221-154-40.us-west-2.compute.amazonaws.com\n",
    "ec2-34-221-154-40.us-west-2.compute.amazonaws.com: no org.apache.spark.deploy.worker.Worker to stop\n",
    "no org.apache.spark.deploy.master.Master to stop\n",
    "starting org.apache.spark.deploy.master.Master, logging to /root/spark/logs/spark-root-org.apache.spark.deploy.master.Master-1-ip-172-31-35-21.us-west-2.compute.internal.out\n",
    "ec2-34-221-154-40.us-west-2.compute.amazonaws.com: starting org.apache.spark.deploy.worker.Worker, logging to /root/spark/logs/spark-root-org.apache.spark.deploy.worker.Worker-1-ip-172-31-46-211.us-west-2.compute.internal.out\n",
    "[timing] spark-standalone setup:  00h 00m 30s\n",
    "Setting up rstudio\n",
    "spark-ec2/setup.sh: line 110: ./rstudio/setup.sh: No such file or directory\n",
    "[timing] rstudio setup:  00h 00m 00s\n",
    "Setting up ganglia\n",
    "RSYNC'ing /etc/ganglia to slaves...\n",
    "ec2-34-221-154-40.us-west-2.compute.amazonaws.com\n",
    "Shutting down GANGLIA gmond:                               [FAILED]\n",
    "Starting GANGLIA gmond:                                    [  OK  ]\n",
    "Shutting down GANGLIA gmond:                               [FAILED]\n",
    "Starting GANGLIA gmond:                                    [  OK  ]\n",
    "Connection to ec2-34-221-154-40.us-west-2.compute.amazonaws.com closed.\n",
    "Shutting down GANGLIA gmetad:                              [FAILED]\n",
    "Starting GANGLIA gmetad:                                   [  OK  ]\n",
    "Stopping httpd:                                            [FAILED]\n",
    "Starting httpd:                                            [  OK  ]\n",
    "[timing] ganglia setup:  00h 00m 04s\n",
    "Connection to ec2-54-184-39-176.us-west-2.compute.amazonaws.com closed.\n",
    "Spark standalone cluster started at http://ec2-54-184-39-176.us-west-2.compute.amazonaws.com:8080\n",
    "Ganglia started at http://ec2-54-184-39-176.us-west-2.compute.amazonaws.com:5080/ganglia\n",
    "Done!\n",
    "./spark_ec2.py:1565: ResourceWarning: unclosed <ssl.SSLSocket fd=6, family=AddressFamily.AF_INET, type=SocketKind.SOCK_STREAM, proto=6, laddr=('192.168.0.3', 55049)>\n",
    "  real_main()\n",
    "```\n"
   ]
  },
  {
   "cell_type": "markdown",
   "metadata": {},
   "source": [
    "```\n",
    "./spark-ec2 -k kadensungbincho_west --identity-file=/Users/kadencho/keys/kadensungbincho_west.pem --region=us-west-2 --zone=us-west-2a --copy-aws-credentials --instance-type t2.micro --worker-instances 1 login kadencho-cluster\n",
    "```"
   ]
  },
  {
   "cell_type": "markdown",
   "metadata": {},
   "source": [
    "```\n",
    "./spark-ec2 -k kadensungbincho_west --identity-file=/Users/kadencho/keys/kadensungbincho_west.pem --region=us-west-2 --zone=us-west-2a --copy-aws-credentials --instance-type t2.micro --worker-instances 1 stop kadencho-cluster\n",
    "```"
   ]
  },
  {
   "cell_type": "markdown",
   "metadata": {},
   "source": [
    "- The google file system \n",
    "- MapReduce simplified data processing on Large Clusters"
   ]
  },
  {
   "cell_type": "markdown",
   "metadata": {},
   "source": [
    "# Spark Fundamentals"
   ]
  },
  {
   "cell_type": "markdown",
   "metadata": {},
   "source": [
    "- RDD\n",
    "- in-memory data to RDD\n",
    "- performing some data processing tasks"
   ]
  },
  {
   "cell_type": "code",
   "execution_count": 1,
   "metadata": {},
   "outputs": [],
   "source": [
    "import findspark\n",
    "findspark.init()\n",
    "\n",
    "import random\n",
    "import pyspark\n",
    "data = [-9999] * 10 + [random.randint(-10, 110) for i in range(90)]"
   ]
  },
  {
   "cell_type": "code",
   "execution_count": 2,
   "metadata": {},
   "outputs": [
    {
     "name": "stdout",
     "output_type": "stream",
     "text": [
      "[-9999, -9999, -9999, -9999, -9999, -9999, -9999, -9999, -9999, -9999, 67, -1, 19, 2, 47, 80, 57, 103, 30, 40, 53, -1, 27, 42, 68, 100, 28, 107, 32, 11, 11, 38, 77, 14, 32, 59, 63, 74, 39, 98, 29, 53, -5, 101, 57, 71, 103, 37, 36, 70, 32, -6, 14, 4, 12, 76, 25, 10, -7, 28, 38, 64, 23, 63, 13, 69, -3, 18, 56, 7, 71, 11, 78, 77, 93, 38, 71, 8, 67, 60, 28, -10, 12, 52, 39, 48, 11, 14, 84, 3, -7, 76, 78, 110, 77, 77, 97, 62, 68, 6]\n",
      "[42, 12, 38, 25, -1, 57, 18, 77, 53, 63, 36, 70, 23, 2, 37, 71, 63, 32, 39, 39, 29, 64, 27, 101, 13, 77, 60, 68, 97, -9999, -6, -3, 32, -7, 10, 38, -9999, 38, 62, 19, 14, -9999, 11, 30, 28, 4, 84, -9999, -9999, 69, 71, 67, 74, -9999, 78, 12, 28, 80, -9999, 6, 11, 103, 7, 56, 52, 76, -7, 53, 98, 77, 71, 78, 110, 8, 59, -10, 93, 3, 103, -9999, -9999, 14, 76, 77, 11, 100, -9999, 48, 40, 67, 57, 32, 47, -1, 14, 28, 11, 68, -5, 107]\n"
     ]
    }
   ],
   "source": [
    "print(data)\n",
    "random.shuffle(data)\n",
    "print(data)"
   ]
  },
  {
   "cell_type": "code",
   "execution_count": 3,
   "metadata": {},
   "outputs": [
    {
     "name": "stdout",
     "output_type": "stream",
     "text": [
      "ParallelCollectionRDD[0] at parallelize at PythonRDD.scala:184\n"
     ]
    }
   ],
   "source": [
    "sc = pyspark.SparkContext(appName=\"tu2\")\n",
    "d = sc.parallelize(data)\n",
    "print(d)"
   ]
  },
  {
   "cell_type": "markdown",
   "metadata": {},
   "source": [
    "- with RDD\n",
    "  - perform transformation on it : new RDD generation\n",
    "  - taking Action briging data back to the driver process, usually end up with data "
   ]
  },
  {
   "cell_type": "code",
   "execution_count": 4,
   "metadata": {},
   "outputs": [
    {
     "data": {
      "text/plain": [
       "100"
      ]
     },
     "execution_count": 4,
     "metadata": {},
     "output_type": "execute_result"
    }
   ],
   "source": [
    "d.count()"
   ]
  },
  {
   "cell_type": "code",
   "execution_count": 5,
   "metadata": {},
   "outputs": [
    {
     "data": {
      "text/plain": [
       "[42, 12, 38, 25, -1]"
      ]
     },
     "execution_count": 5,
     "metadata": {},
     "output_type": "execute_result"
    }
   ],
   "source": [
    "d.take(5)"
   ]
  },
  {
   "cell_type": "code",
   "execution_count": 6,
   "metadata": {},
   "outputs": [
    {
     "data": {
      "text/plain": [
       "[11, 11, 53, 76, -1]"
      ]
     },
     "execution_count": 6,
     "metadata": {},
     "output_type": "execute_result"
    }
   ],
   "source": [
    "d.takeSample(False, 5) # with out replacement"
   ]
  },
  {
   "cell_type": "code",
   "execution_count": 7,
   "metadata": {},
   "outputs": [
    {
     "data": {
      "text/plain": [
       "42"
      ]
     },
     "execution_count": 7,
     "metadata": {},
     "output_type": "execute_result"
    }
   ],
   "source": [
    "d.first()"
   ]
  },
  {
   "cell_type": "code",
   "execution_count": 9,
   "metadata": {},
   "outputs": [
    {
     "data": {
      "text/plain": [
       "[-9999, -9999, -9999, -9999, -9999]"
      ]
     },
     "execution_count": 9,
     "metadata": {},
     "output_type": "execute_result"
    }
   ],
   "source": [
    "d.takeOrdered(5)"
   ]
  },
  {
   "cell_type": "code",
   "execution_count": 10,
   "metadata": {},
   "outputs": [
    {
     "data": {
      "text/plain": [
       "-959.87"
      ]
     },
     "execution_count": 10,
     "metadata": {},
     "output_type": "execute_result"
    }
   ],
   "source": [
    "d.mean()"
   ]
  },
  {
   "cell_type": "code",
   "execution_count": 11,
   "metadata": {},
   "outputs": [],
   "source": [
    "dnomissing = d.filter(lambda x : x > -9999)"
   ]
  },
  {
   "cell_type": "code",
   "execution_count": 13,
   "metadata": {},
   "outputs": [
    {
     "name": "stdout",
     "output_type": "stream",
     "text": [
      "PythonRDD[8] at RDD at PythonRDD.scala:49\n"
     ]
    }
   ],
   "source": [
    "print(dnomissing) # lazy execution"
   ]
  },
  {
   "cell_type": "code",
   "execution_count": 14,
   "metadata": {},
   "outputs": [
    {
     "data": {
      "text/plain": [
       "90"
      ]
     },
     "execution_count": 14,
     "metadata": {},
     "output_type": "execute_result"
    }
   ],
   "source": [
    "dnomissing.count()"
   ]
  },
  {
   "cell_type": "code",
   "execution_count": 15,
   "metadata": {},
   "outputs": [],
   "source": [
    "dnomissingC = dnomissing.map(lambda x: (x -32)* 5.0/9.0)"
   ]
  },
  {
   "cell_type": "code",
   "execution_count": 16,
   "metadata": {},
   "outputs": [
    {
     "data": {
      "text/plain": [
       "6.932098765432099"
      ]
     },
     "execution_count": 16,
     "metadata": {},
     "output_type": "execute_result"
    }
   ],
   "source": [
    "dnomissingC.mean()"
   ]
  },
  {
   "cell_type": "code",
   "execution_count": 17,
   "metadata": {},
   "outputs": [
    {
     "data": {
      "text/plain": [
       "6.932098765432099"
      ]
     },
     "execution_count": 17,
     "metadata": {},
     "output_type": "execute_result"
    }
   ],
   "source": [
    "d.filter(lambda x: x > -9999).map(lambda x: (x-32)*5.0/9.0).mean()"
   ]
  },
  {
   "cell_type": "markdown",
   "metadata": {},
   "source": [
    "This is one-to-one calculation. There is one-to-many which is flat"
   ]
  },
  {
   "cell_type": "code",
   "execution_count": 21,
   "metadata": {},
   "outputs": [
    {
     "data": {
      "text/plain": [
       "6.932098765432099"
      ]
     },
     "execution_count": 21,
     "metadata": {},
     "output_type": "execute_result"
    }
   ],
   "source": [
    "d.flatMap(lambda x: [(x-32)*5.0/9.0] if x > -9999 else []).mean()"
   ]
  },
  {
   "cell_type": "markdown",
   "metadata": {},
   "source": [
    "# Setting up your dev env"
   ]
  },
  {
   "cell_type": "markdown",
   "metadata": {},
   "source": [
    "./spark-ec2 -k kadensungbincho_west --identity-file=/Users/kadencho/keys/kadensungbincho_west.pem --region=us-west-2 --zone=us-west-2a --copy-aws-credentials --instance-type t2.micro --worker-instances 1 start kadencho-cluster"
   ]
  },
  {
   "cell_type": "markdown",
   "metadata": {},
   "source": [
    "```\n",
    "1  ls\n",
    "    2  rm ~/.ssh/authorized_keys \n",
    "    3  rm ~/.bash_history && bash\n",
    "    4  ls\n",
    "    5  rm -rf scala-2.9.3/\n",
    "    6  vi ~/.bash_profile \n",
    "    7  ls\n",
    "    8  sudo yum install R\n",
    "    9  ls\n",
    "   10  vi ~/.bash_profile \n",
    "   11  ls\n",
    "   12  vi ~/.bashrc \n",
    "   13  ls\n",
    "   14  rm ~/.bash_history && bash\n",
    "   15  sudo yum install python35 \n",
    "   16  cd spark\n",
    "   17  echo 'PYSPARK_PYTHON=/usr/bin/python35' >> conf/spark-env.sh \n",
    "   18  ./bin/pyspark\n",
    "   19  ln -snf /usr/bin/python35 /etc/alternatives/python\n",
    "   20  python\n",
    "   21  pssh -h conf/slaves yum -y install python35\n",
    "   22  pssh -h conf/slaves 'echo \"PYSPARK_PYTHON=/usr/bin/python35\" > spark/conf/spark-env.sh' \n",
    "   23  curl -O https://bootstrap.pypa.io/get-pip.py\n",
    "   24  python35 get-pip.pypython35 /usr/bin/pip3.5 install rdflib\n",
    "   25  python35 /usr/bin/pip3.5 install boto3 \n",
    "   26  python35 get-pip.pypython35 /usr/bin/pip3.5 install rdflib\n",
    "   27  python35 get-pip.py\n",
    "   28  python35 /usr/bin/pip3.5 install rdflib\n",
    "   29  python35 /usr/bin/pip3.5 install boto3 \n",
    "   30  pssh -h conf/slaves curl -O https://bootstrap.pypa.io/get-pip.py\n",
    "   31  pssh -h conf/slaves python35 get-pip.py\n",
    "   32  pssh -h conf/slaves python35 /usr/bin/pip3.5 install rdflib boto3\n",
    "   33  ls\n",
    "   34  ./bin/pyspark python/run-tests\n",
    "   35  ./bin/pyspark python/run-tests.py \n",
    "   36  ./bin/spark-submit python/run-tests.py \n",
    "   37  ls\n",
    "   38  cd python/\n",
    "   39  vim primes.py\n",
    "   40  ls\n",
    "   41  cd ..\n",
    "   42  ./bin/spark-submit python/primes.py \n",
    "   43  vim python/primes.py \n",
    "   44  rm pri\n",
    "   45  rm python/primes.py \n",
    "   46  ls\n",
    "   47  cd python/\n",
    "   48  vim primes.py\n",
    "   49  ls\n",
    "   50  cd ..\n",
    "   51  ./bin/spark-submit python/primes.py \n",
    "   52  vim python/primes.py \n",
    "   53  ls\n",
    "   54  ./bin/spark-submit python/primes.py \n",
    "   55  history\n",
    "```"
   ]
  },
  {
   "cell_type": "markdown",
   "metadata": {},
   "source": [
    "ec2 script wrote the public DNS of all the workers to a host file which is in conf/slaves. so to run commands on the workers I can just use parallel ssh passing it in this host file."
   ]
  },
  {
   "cell_type": "code",
   "execution_count": null,
   "metadata": {},
   "outputs": [],
   "source": []
  }
 ],
 "metadata": {
  "kernelspec": {
   "display_name": "Python 3",
   "language": "python",
   "name": "python3"
  },
  "language_info": {
   "codemirror_mode": {
    "name": "ipython",
    "version": 3
   },
   "file_extension": ".py",
   "mimetype": "text/x-python",
   "name": "python",
   "nbconvert_exporter": "python",
   "pygments_lexer": "ipython3",
   "version": "3.6.4"
  }
 },
 "nbformat": 4,
 "nbformat_minor": 2
}
