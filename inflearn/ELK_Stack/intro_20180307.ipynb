{
 "cells": [
  {
   "cell_type": "markdown",
   "metadata": {},
   "source": [
    "![main](ELK_STACK.png \"main\")"
   ]
  },
  {
   "cell_type": "markdown",
   "metadata": {},
   "source": [
    "# Installation"
   ]
  },
  {
   "cell_type": "markdown",
   "metadata": {},
   "source": [
    "> JDK JVM"
   ]
  },
  {
   "cell_type": "markdown",
   "metadata": {},
   "source": [
    "- need JDK, JVM : https://en.wikipedia.org/wiki/Java_virtual_machine"
   ]
  },
  {
   "cell_type": "markdown",
   "metadata": {},
   "source": [
    "1. sudo add-apt-repository -y ppa:webupd8team/java\n",
    "2. sudo apt-get update\n",
    "3. sudo apt-get -y install oracle-java8-installer\n",
    "4. java-version"
   ]
  },
  {
   "cell_type": "markdown",
   "metadata": {},
   "source": [
    "> Elastic search"
   ]
  },
  {
   "cell_type": "markdown",
   "metadata": {},
   "source": [
    "1. Download DEB file from home https://www.elastic.co/downloads/elasticsearch\n",
    "2. dpkg -i elasticsearch~.deb\n",
    "3. sudo systemctl enable elasticsearch.service"
   ]
  },
  {
   "cell_type": "markdown",
   "metadata": {},
   "source": [
    "> Start & Stop"
   ]
  },
  {
   "cell_type": "markdown",
   "metadata": {},
   "source": [
    "1. sudo service elasticsearch start\n",
    "2. sudo service elasticsearch stop\n",
    "3. curl -XGET 'localhost:9200' "
   ]
  },
  {
   "cell_type": "markdown",
   "metadata": {},
   "source": [
    "curl -XGET localhost:9200\n",
    "{\n",
    "  \"name\" : \"09gmGkk\",\n",
    "  \"cluster_name\" : \"elasticsearch\",\n",
    "  \"cluster_uuid\" : \"da4E5CzYS8aFDRcRHMXm4g\",\n",
    "  \"version\" : {\n",
    "    \"number\" : \"6.2.2\",\n",
    "    \"build_hash\" : \"10b1edd\",\n",
    "    \"build_date\" : \"2018-02-16T19:01:30.685723Z\",\n",
    "    \"build_snapshot\" : false,\n",
    "    \"lucene_version\" : \"7.2.1\",\n",
    "    \"minimum_wire_compatibility_version\" : \"5.6.0\",\n",
    "    \"minimum_index_compatibility_version\" : \"5.0.0\"\n",
    "  },\n",
    "  \"tagline\" : \"You Know, for Search\"\n",
    "}"
   ]
  },
  {
   "cell_type": "markdown",
   "metadata": {},
   "source": [
    "# Basic concepts"
   ]
  },
  {
   "cell_type": "markdown",
   "metadata": {},
   "source": [
    "![main](elasticsearch_dataflow.png \"main\")"
   ]
  },
  {
   "cell_type": "markdown",
   "metadata": {},
   "source": [
    "** vs ** Relational DB"
   ]
  },
  {
   "cell_type": "markdown",
   "metadata": {},
   "source": [
    "- better, faster when you search text with elastic search"
   ]
  },
  {
   "cell_type": "markdown",
   "metadata": {},
   "source": [
    "O(1) vs O(n) : relational DB case"
   ]
  },
  {
   "cell_type": "markdown",
   "metadata": {},
   "source": [
    "![main](elastic_data_structure.png \"main\")"
   ]
  },
  {
   "cell_type": "markdown",
   "metadata": {},
   "source": [
    "- elastic : Relational DB\n",
    "- index   :  database\n",
    "- type    : table\n",
    "- document: row\n",
    "- field   : column\n",
    "- mapping : schema"
   ]
  },
  {
   "cell_type": "markdown",
   "metadata": {},
   "source": [
    "- Use GET, PUT, POST, DELETE"
   ]
  },
  {
   "cell_type": "markdown",
   "metadata": {},
   "source": [
    "> use curl command"
   ]
  },
  {
   "cell_type": "markdown",
   "metadata": {},
   "source": [
    "- curl -XGET localhost:9200/classes/class/1\n",
    "  - select * from class where id = 1;\n",
    "  \n",
    "- curl -XPOST localhost:9200/classes/class/1 -d '{xxx}'\n",
    "  - insert into class values (xxx)\n",
    "  \n",
    "- curl -XPUT localhost:9200/classes/class/1 -d '{xxx}'\n",
    "  - update class set xxx where id = 1;\n",
    "  \n",
    "- curl -XDELETE localhost:9200/classes/class/1\n",
    "  - delete from class where id = 1;"
   ]
  },
  {
   "cell_type": "markdown",
   "metadata": {},
   "source": [
    "# Data Get, Post, Put, Delete"
   ]
  },
  {
   "cell_type": "markdown",
   "metadata": {},
   "source": [
    "- using rest API\n",
    "- need -X prefix "
   ]
  },
  {
   "cell_type": "markdown",
   "metadata": {},
   "source": [
    "curl -XGET http://localhost:9200/<index name>?pretty"
   ]
  },
  {
   "cell_type": "markdown",
   "metadata": {},
   "source": [
    "?pretty : parameter, "
   ]
  },
  {
   "cell_type": "markdown",
   "metadata": {},
   "source": [
    "> make index\n",
    "- curl -XPUT http://localhost:9200/classes\n",
    "{\"acknowledged\":true,\"shards_acknowledged\":true,\"index\":\"classes\"}"
   ]
  },
  {
   "cell_type": "markdown",
   "metadata": {},
   "source": [
    "> remove index"
   ]
  },
  {
   "cell_type": "markdown",
   "metadata": {},
   "source": [
    "curl -XDELETE http://localhost:9200/classes"
   ]
  },
  {
   "cell_type": "markdown",
   "metadata": {},
   "source": [
    "> make document : specify contents type"
   ]
  },
  {
   "cell_type": "markdown",
   "metadata": {},
   "source": [
    "curl -XPOST http://localhost:9200/classes/class/1/ -H 'Content-Type: application/json' -d'{\"title\":\"Algorithm\", \"professor\":\"John\"}'\n",
    "\n"
   ]
  },
  {
   "cell_type": "markdown",
   "metadata": {},
   "source": [
    "> Create index, type, document from file"
   ]
  },
  {
   "cell_type": "markdown",
   "metadata": {},
   "source": [
    "curl -XPOS http:/localhost:9200/classes/class/1/ -d @oneclass.json "
   ]
  },
  {
   "cell_type": "markdown",
   "metadata": {},
   "source": [
    "curl -XGET http://localhost:9200/classes/class/1/?pretty"
   ]
  },
  {
   "cell_type": "markdown",
   "metadata": {},
   "source": [
    "# Update"
   ]
  },
  {
   "cell_type": "markdown",
   "metadata": {},
   "source": [
    "- curl -XPOST http://localhost:9200/classes/class/1/_update -H 'Content-Type:application/json' -d'{\"script\":\"ctx._source.unit += 5\"}'"
   ]
  },
  {
   "cell_type": "code",
   "execution_count": null,
   "metadata": {
    "collapsed": true
   },
   "outputs": [],
   "source": []
  }
 ],
 "metadata": {
  "kernelspec": {
   "display_name": "Python 3",
   "language": "python",
   "name": "python3"
  },
  "language_info": {
   "codemirror_mode": {
    "name": "ipython",
    "version": 3
   },
   "file_extension": ".py",
   "mimetype": "text/x-python",
   "name": "python",
   "nbconvert_exporter": "python",
   "pygments_lexer": "ipython3",
   "version": "3.6.2"
  }
 },
 "nbformat": 4,
 "nbformat_minor": 2
}
